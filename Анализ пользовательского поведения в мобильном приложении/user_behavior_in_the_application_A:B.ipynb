{
 "cells": [
  {
   "cell_type": "markdown",
   "metadata": {},
   "source": [
    "# Поведение пользователей в приложении"
   ]
  },
  {
   "cell_type": "markdown",
   "metadata": {},
   "source": [
    "Цель нашего исследования: разобраться, как ведут себя пользователи нашего мобильного приложения  \n",
    "\n",
    "Для этого нужно:  \n",
    "* Изучить, как пользователи доходят до покупки\n",
    "* Сколько пользователей доходит до покупки, а сколько — «застревает» на предыдущих шагах\n",
    "* На каких именно шагах это происходит\n",
    "* Исследовать результаты A/A/B-теста"
   ]
  },
  {
   "cell_type": "markdown",
   "metadata": {},
   "source": [
    "Какие шаги были выполнены за время исследования:\n",
    "\n",
    "\n",
    "1. Загрузили и подготовили данные к работе  \n",
    "2. Изучили и проверили данные\n",
    "3. Изучили воронку событий\n",
    "4. Сделали A/A/B тест "
   ]
  },
  {
   "cell_type": "markdown",
   "metadata": {},
   "source": [
    "## Загрузка и подготовка данных"
   ]
  },
  {
   "cell_type": "code",
   "execution_count": 1,
   "metadata": {},
   "outputs": [],
   "source": [
    "# Для начала загрузим необходимые библиотеки\n",
    "\n",
    "import pandas as pd\n",
    "import numpy as np\n",
    "import seaborn as sns\n",
    "import math as mth\n",
    "from plotly import graph_objects as go\n",
    "from scipy import stats as st\n",
    "from datetime import datetime, timedelta\n",
    "from matplotlib import pyplot as plt\n",
    "%matplotlib inline"
   ]
  },
  {
   "cell_type": "code",
   "execution_count": 2,
   "metadata": {},
   "outputs": [
    {
     "data": {
      "text/html": [
       "<div>\n",
       "<style scoped>\n",
       "    .dataframe tbody tr th:only-of-type {\n",
       "        vertical-align: middle;\n",
       "    }\n",
       "\n",
       "    .dataframe tbody tr th {\n",
       "        vertical-align: top;\n",
       "    }\n",
       "\n",
       "    .dataframe thead th {\n",
       "        text-align: right;\n",
       "    }\n",
       "</style>\n",
       "<table border=\"1\" class=\"dataframe\">\n",
       "  <thead>\n",
       "    <tr style=\"text-align: right;\">\n",
       "      <th></th>\n",
       "      <th>EventName</th>\n",
       "      <th>DeviceIDHash</th>\n",
       "      <th>EventTimestamp</th>\n",
       "      <th>ExpId</th>\n",
       "    </tr>\n",
       "  </thead>\n",
       "  <tbody>\n",
       "    <tr>\n",
       "      <th>0</th>\n",
       "      <td>MainScreenAppear</td>\n",
       "      <td>4575588528974610257</td>\n",
       "      <td>1564029816</td>\n",
       "      <td>246</td>\n",
       "    </tr>\n",
       "    <tr>\n",
       "      <th>1</th>\n",
       "      <td>MainScreenAppear</td>\n",
       "      <td>7416695313311560658</td>\n",
       "      <td>1564053102</td>\n",
       "      <td>246</td>\n",
       "    </tr>\n",
       "    <tr>\n",
       "      <th>2</th>\n",
       "      <td>PaymentScreenSuccessful</td>\n",
       "      <td>3518123091307005509</td>\n",
       "      <td>1564054127</td>\n",
       "      <td>248</td>\n",
       "    </tr>\n",
       "    <tr>\n",
       "      <th>3</th>\n",
       "      <td>CartScreenAppear</td>\n",
       "      <td>3518123091307005509</td>\n",
       "      <td>1564054127</td>\n",
       "      <td>248</td>\n",
       "    </tr>\n",
       "    <tr>\n",
       "      <th>4</th>\n",
       "      <td>PaymentScreenSuccessful</td>\n",
       "      <td>6217807653094995999</td>\n",
       "      <td>1564055322</td>\n",
       "      <td>248</td>\n",
       "    </tr>\n",
       "  </tbody>\n",
       "</table>\n",
       "</div>"
      ],
      "text/plain": [
       "                 EventName         DeviceIDHash  EventTimestamp  ExpId\n",
       "0         MainScreenAppear  4575588528974610257      1564029816    246\n",
       "1         MainScreenAppear  7416695313311560658      1564053102    246\n",
       "2  PaymentScreenSuccessful  3518123091307005509      1564054127    248\n",
       "3         CartScreenAppear  3518123091307005509      1564054127    248\n",
       "4  PaymentScreenSuccessful  6217807653094995999      1564055322    248"
      ]
     },
     "execution_count": 2,
     "metadata": {},
     "output_type": "execute_result"
    }
   ],
   "source": [
    "# Загрузим наш датасет\n",
    "\n",
    "df = pd.read_csv('/Users/alekseivlasov/Desktop/project/9/logs_exp.csv', sep='\\t')\n",
    "df.head()"
   ]
  },
  {
   "cell_type": "code",
   "execution_count": 3,
   "metadata": {},
   "outputs": [
    {
     "data": {
      "text/plain": [
       "(244126, 4)"
      ]
     },
     "execution_count": 3,
     "metadata": {},
     "output_type": "execute_result"
    }
   ],
   "source": [
    "df.shape"
   ]
  },
  {
   "cell_type": "markdown",
   "metadata": {},
   "source": [
    "В нашем распоряжении ``244 126`` строк и ``4`` столбца"
   ]
  },
  {
   "cell_type": "code",
   "execution_count": 4,
   "metadata": {},
   "outputs": [
    {
     "name": "stdout",
     "output_type": "stream",
     "text": [
      "<class 'pandas.core.frame.DataFrame'>\n",
      "RangeIndex: 244126 entries, 0 to 244125\n",
      "Data columns (total 4 columns):\n",
      " #   Column          Non-Null Count   Dtype \n",
      "---  ------          --------------   ----- \n",
      " 0   EventName       244126 non-null  object\n",
      " 1   DeviceIDHash    244126 non-null  int64 \n",
      " 2   EventTimestamp  244126 non-null  int64 \n",
      " 3   ExpId           244126 non-null  int64 \n",
      "dtypes: int64(3), object(1)\n",
      "memory usage: 7.5+ MB\n"
     ]
    }
   ],
   "source": [
    "# Просмотрим общую информацию\n",
    "\n",
    "df.info()"
   ]
  },
  {
   "cell_type": "markdown",
   "metadata": {},
   "source": [
    "В датафрейме нет пропусков, что уже хорошо. Название столбцов нужно будет изменить и привести к правильному стилю"
   ]
  },
  {
   "cell_type": "code",
   "execution_count": 5,
   "metadata": {},
   "outputs": [
    {
     "data": {
      "text/plain": [
       "Index(['event_name', 'user_id', 'event_dt', 'exp_id'], dtype='object')"
      ]
     },
     "execution_count": 5,
     "metadata": {},
     "output_type": "execute_result"
    }
   ],
   "source": [
    "df = df.rename(\n",
    "    columns={'EventName':'event_name', 'DeviceIDHash':'user_id'\n",
    "             , 'EventTimestamp':'event_dt', 'ExpId':'exp_id'}\n",
    ")\n",
    "df.columns"
   ]
  },
  {
   "cell_type": "code",
   "execution_count": 6,
   "metadata": {},
   "outputs": [
    {
     "data": {
      "text/html": [
       "<div>\n",
       "<style scoped>\n",
       "    .dataframe tbody tr th:only-of-type {\n",
       "        vertical-align: middle;\n",
       "    }\n",
       "\n",
       "    .dataframe tbody tr th {\n",
       "        vertical-align: top;\n",
       "    }\n",
       "\n",
       "    .dataframe thead th {\n",
       "        text-align: right;\n",
       "    }\n",
       "</style>\n",
       "<table border=\"1\" class=\"dataframe\">\n",
       "  <thead>\n",
       "    <tr style=\"text-align: right;\">\n",
       "      <th></th>\n",
       "      <th>event_name</th>\n",
       "      <th>user_id</th>\n",
       "      <th>event_dt</th>\n",
       "      <th>exp_id</th>\n",
       "      <th>date</th>\n",
       "    </tr>\n",
       "  </thead>\n",
       "  <tbody>\n",
       "    <tr>\n",
       "      <th>0</th>\n",
       "      <td>MainScreenAppear</td>\n",
       "      <td>4575588528974610257</td>\n",
       "      <td>2019-07-25 04:43:36</td>\n",
       "      <td>246</td>\n",
       "      <td>2019-07-25</td>\n",
       "    </tr>\n",
       "    <tr>\n",
       "      <th>1</th>\n",
       "      <td>MainScreenAppear</td>\n",
       "      <td>7416695313311560658</td>\n",
       "      <td>2019-07-25 11:11:42</td>\n",
       "      <td>246</td>\n",
       "      <td>2019-07-25</td>\n",
       "    </tr>\n",
       "    <tr>\n",
       "      <th>2</th>\n",
       "      <td>PaymentScreenSuccessful</td>\n",
       "      <td>3518123091307005509</td>\n",
       "      <td>2019-07-25 11:28:47</td>\n",
       "      <td>248</td>\n",
       "      <td>2019-07-25</td>\n",
       "    </tr>\n",
       "    <tr>\n",
       "      <th>3</th>\n",
       "      <td>CartScreenAppear</td>\n",
       "      <td>3518123091307005509</td>\n",
       "      <td>2019-07-25 11:28:47</td>\n",
       "      <td>248</td>\n",
       "      <td>2019-07-25</td>\n",
       "    </tr>\n",
       "    <tr>\n",
       "      <th>4</th>\n",
       "      <td>PaymentScreenSuccessful</td>\n",
       "      <td>6217807653094995999</td>\n",
       "      <td>2019-07-25 11:48:42</td>\n",
       "      <td>248</td>\n",
       "      <td>2019-07-25</td>\n",
       "    </tr>\n",
       "  </tbody>\n",
       "</table>\n",
       "</div>"
      ],
      "text/plain": [
       "                event_name              user_id            event_dt  exp_id  \\\n",
       "0         MainScreenAppear  4575588528974610257 2019-07-25 04:43:36     246   \n",
       "1         MainScreenAppear  7416695313311560658 2019-07-25 11:11:42     246   \n",
       "2  PaymentScreenSuccessful  3518123091307005509 2019-07-25 11:28:47     248   \n",
       "3         CartScreenAppear  3518123091307005509 2019-07-25 11:28:47     248   \n",
       "4  PaymentScreenSuccessful  6217807653094995999 2019-07-25 11:48:42     248   \n",
       "\n",
       "         date  \n",
       "0  2019-07-25  \n",
       "1  2019-07-25  \n",
       "2  2019-07-25  \n",
       "3  2019-07-25  \n",
       "4  2019-07-25  "
      ]
     },
     "execution_count": 6,
     "metadata": {},
     "output_type": "execute_result"
    }
   ],
   "source": [
    "# Добавим столбец даты и времени, а также отдельный столбец дат\n",
    "\n",
    "df.event_dt = pd.to_datetime(df.event_dt, unit='s')\n",
    "df['date'] = df['event_dt'].dt.date\n",
    "\n",
    "df.head()"
   ]
  },
  {
   "cell_type": "markdown",
   "metadata": {},
   "source": [
    "Проверим таблицу на наличие дубликатов "
   ]
  },
  {
   "cell_type": "code",
   "execution_count": 7,
   "metadata": {},
   "outputs": [
    {
     "data": {
      "text/plain": [
       "413"
      ]
     },
     "execution_count": 7,
     "metadata": {},
     "output_type": "execute_result"
    }
   ],
   "source": [
    "df.duplicated().sum()"
   ]
  },
  {
   "cell_type": "markdown",
   "metadata": {},
   "source": [
    "Обнаружено 413 дублей, это меньше 0,01% от всех данных, поэтому убираем эти данные"
   ]
  },
  {
   "cell_type": "code",
   "execution_count": 8,
   "metadata": {},
   "outputs": [],
   "source": [
    "df = df.drop_duplicates().reset_index(drop=True) #удаляем явные дубликаты"
   ]
  },
  {
   "cell_type": "code",
   "execution_count": 9,
   "metadata": {},
   "outputs": [
    {
     "data": {
      "text/plain": [
       "0"
      ]
     },
     "execution_count": 9,
     "metadata": {},
     "output_type": "execute_result"
    }
   ],
   "source": [
    "df.duplicated().sum()"
   ]
  },
  {
   "cell_type": "markdown",
   "metadata": {},
   "source": [
    "Дубли могли возникнуть из-за технических багов"
   ]
  },
  {
   "cell_type": "markdown",
   "metadata": {},
   "source": [
    "**Вывод:** Мы изучили датасет, проверили значения на пропуски, на дубли, и привели название столбов к правильному стилю  \n",
    "Также добавили столбец даты и времени и отдельный столбец дат"
   ]
  },
  {
   "cell_type": "markdown",
   "metadata": {},
   "source": [
    "## Изучение и проверка данных"
   ]
  },
  {
   "cell_type": "markdown",
   "metadata": {},
   "source": [
    "Давайте посмотрим, сколько всего событий и пользователей в логах"
   ]
  },
  {
   "cell_type": "code",
   "execution_count": 10,
   "metadata": {},
   "outputs": [
    {
     "name": "stdout",
     "output_type": "stream",
     "text": [
      "Всего событий: 243713\n",
      "Всего пользователей: 7551\n"
     ]
    }
   ],
   "source": [
    "print('Всего событий:', df['event_name'].count())\n",
    "print('Всего пользователей:', df['user_id'].nunique())"
   ]
  },
  {
   "cell_type": "markdown",
   "metadata": {},
   "source": [
    "Сколько в среднем событий приходится на пользователя"
   ]
  },
  {
   "cell_type": "code",
   "execution_count": 11,
   "metadata": {},
   "outputs": [
    {
     "name": "stdout",
     "output_type": "stream",
     "text": [
      "Среднее количество событий на одного пользователя: 32.27559263673685\n"
     ]
    }
   ],
   "source": [
    "print('Среднее количество событий на одного пользователя:'\n",
    "      , df['event_name'].count() / df['user_id'].nunique())"
   ]
  },
  {
   "cell_type": "markdown",
   "metadata": {},
   "source": [
    "Достаточно много событий для одного пользователя"
   ]
  },
  {
   "cell_type": "markdown",
   "metadata": {},
   "source": [
    "Посмотрим, за какой период данными мы распологаем. Найдем максимальную и минимальную дату"
   ]
  },
  {
   "cell_type": "code",
   "execution_count": 12,
   "metadata": {},
   "outputs": [
    {
     "name": "stdout",
     "output_type": "stream",
     "text": [
      "Минимальная дата: 2019-07-25\n",
      "Максимальная дата: 2019-08-07\n"
     ]
    }
   ],
   "source": [
    "print('Минимальная дата:', df['date'].min())\n",
    "print('Максимальная дата:', df['date'].max())"
   ]
  },
  {
   "cell_type": "markdown",
   "metadata": {},
   "source": [
    "Определим, с какого момента данные полные и отбросим более старые. Посмотрим, данными за какой период времени мы располагаем на самом деле"
   ]
  },
  {
   "cell_type": "code",
   "execution_count": 13,
   "metadata": {},
   "outputs": [
    {
     "data": {
      "image/png": "[encoded data removed]",
      "text/plain": [
       "<Figure size 1600x500 with 1 Axes>"
      ]
     },
     "metadata": {},
     "output_type": "display_data"
    }
   ],
   "source": [
    "# Нарисуем график\n",
    "fig, ax = plt.subplots()\n",
    "df['event_dt'].hist(bins=100, figsize=(16, 5))\n",
    "ax.set_title('Количество событий по дате')\n",
    "ax.set_xlabel('Количество событий')\n",
    "ax.set_ylabel('Дата')\n",
    "\n",
    "plt.show()"
   ]
  },
  {
   "cell_type": "markdown",
   "metadata": {},
   "source": [
    "Построили гистограмму, по которой видно, что до ``2019-08-01`` событий почти не было из-за малого количества пользователей. Логично отбросить этот временной период и начать анализировать с ``2019-08-01``"
   ]
  },
  {
   "cell_type": "markdown",
   "metadata": {},
   "source": [
    "Перед тем, как отбросить старые данные, посмотрим, много ли событий и пользователей мы потеряем"
   ]
  },
  {
   "cell_type": "code",
   "execution_count": 14,
   "metadata": {
    "scrolled": true
   },
   "outputs": [
    {
     "data": {
      "text/plain": [
       "(2826, 5)"
      ]
     },
     "execution_count": 14,
     "metadata": {},
     "output_type": "execute_result"
    }
   ],
   "source": [
    "df_old = df.query('event_dt < \"2019-08-01 00:00:00\"')\n",
    "df_old.shape"
   ]
  },
  {
   "cell_type": "markdown",
   "metadata": {},
   "source": [
    "Мы убираем 2828 событий, это 1% от основного датасета"
   ]
  },
  {
   "cell_type": "code",
   "execution_count": 15,
   "metadata": {},
   "outputs": [
    {
     "data": {
      "text/plain": [
       "(240887, 5)"
      ]
     },
     "execution_count": 15,
     "metadata": {},
     "output_type": "execute_result"
    }
   ],
   "source": [
    "# Отфильтруем данные по нашей стартовой дате и добавим в новую переменную\n",
    "df_new = df.query('event_dt >= \"2019-08-01 00:00:00\"').reset_index(drop=True)\n",
    "df_new.shape"
   ]
  },
  {
   "cell_type": "markdown",
   "metadata": {},
   "source": [
    "Проверим, сколько пользователей мы потеряли"
   ]
  },
  {
   "cell_type": "code",
   "execution_count": 16,
   "metadata": {
    "scrolled": true
   },
   "outputs": [
    {
     "data": {
      "text/plain": [
       "17"
      ]
     },
     "execution_count": 16,
     "metadata": {},
     "output_type": "execute_result"
    }
   ],
   "source": [
    "df['user_id'].nunique() - df_new['user_id'].nunique()"
   ]
  },
  {
   "cell_type": "markdown",
   "metadata": {},
   "source": [
    "Потеря невелика"
   ]
  },
  {
   "cell_type": "markdown",
   "metadata": {},
   "source": [
    "Проверим, что у нас есть пользователи из всех трёх экспериментальных групп"
   ]
  },
  {
   "cell_type": "code",
   "execution_count": 17,
   "metadata": {},
   "outputs": [
    {
     "data": {
      "text/plain": [
       "array([246, 247, 248])"
      ]
     },
     "execution_count": 17,
     "metadata": {},
     "output_type": "execute_result"
    }
   ],
   "source": [
    "df_new['exp_id'].unique()"
   ]
  },
  {
   "cell_type": "markdown",
   "metadata": {},
   "source": [
    "Все на месте, отлично!"
   ]
  },
  {
   "cell_type": "markdown",
   "metadata": {},
   "source": [
    "**Мы изучили и проверили данные:**\n",
    "* Посмотрели количество событий: 244 126\n",
    "* Количество пользователей: 7551 \n",
    "* Среднее количество событий на одного пользователя: 32\n",
    "* Нашли максимальную и минимальную дату исследования: 2019-07-25  -  2019-08-07\n",
    "* Определили, с какой даты данные полные: 2019-08-01"
   ]
  },
  {
   "cell_type": "markdown",
   "metadata": {},
   "source": [
    "## Изучение воронки событий"
   ]
  },
  {
   "cell_type": "markdown",
   "metadata": {},
   "source": [
    "Посмотрим, какие события есть в логах, как часто они встречаются. Отсортируем события по частоте"
   ]
  },
  {
   "cell_type": "code",
   "execution_count": 18,
   "metadata": {},
   "outputs": [
    {
     "data": {
      "text/html": [
       "<div>\n",
       "<style scoped>\n",
       "    .dataframe tbody tr th:only-of-type {\n",
       "        vertical-align: middle;\n",
       "    }\n",
       "\n",
       "    .dataframe tbody tr th {\n",
       "        vertical-align: top;\n",
       "    }\n",
       "\n",
       "    .dataframe thead th {\n",
       "        text-align: right;\n",
       "    }\n",
       "</style>\n",
       "<table border=\"1\" class=\"dataframe\">\n",
       "  <thead>\n",
       "    <tr style=\"text-align: right;\">\n",
       "      <th></th>\n",
       "      <th>event_name</th>\n",
       "      <th>user_id</th>\n",
       "    </tr>\n",
       "  </thead>\n",
       "  <tbody>\n",
       "    <tr>\n",
       "      <th>0</th>\n",
       "      <td>MainScreenAppear</td>\n",
       "      <td>117328</td>\n",
       "    </tr>\n",
       "    <tr>\n",
       "      <th>1</th>\n",
       "      <td>OffersScreenAppear</td>\n",
       "      <td>46333</td>\n",
       "    </tr>\n",
       "    <tr>\n",
       "      <th>2</th>\n",
       "      <td>CartScreenAppear</td>\n",
       "      <td>42303</td>\n",
       "    </tr>\n",
       "    <tr>\n",
       "      <th>3</th>\n",
       "      <td>PaymentScreenSuccessful</td>\n",
       "      <td>33918</td>\n",
       "    </tr>\n",
       "    <tr>\n",
       "      <th>4</th>\n",
       "      <td>Tutorial</td>\n",
       "      <td>1005</td>\n",
       "    </tr>\n",
       "  </tbody>\n",
       "</table>\n",
       "</div>"
      ],
      "text/plain": [
       "                event_name  user_id\n",
       "0         MainScreenAppear   117328\n",
       "1       OffersScreenAppear    46333\n",
       "2         CartScreenAppear    42303\n",
       "3  PaymentScreenSuccessful    33918\n",
       "4                 Tutorial     1005"
      ]
     },
     "execution_count": 18,
     "metadata": {},
     "output_type": "execute_result"
    }
   ],
   "source": [
    "(df_new.groupby('event_name')\n",
    "       .agg({'user_id':'count'})\n",
    "       .sort_values(by='user_id', ascending=False)\n",
    "       .reset_index()\n",
    ")"
   ]
  },
  {
   "cell_type": "markdown",
   "metadata": {},
   "source": [
    "Событие ``Tutorial`` совершили всего 1039, это незначительное количество для t-test"
   ]
  },
  {
   "cell_type": "markdown",
   "metadata": {},
   "source": [
    "Посчитаем, сколько пользователей совершали каждое из этих событий. Отсортируем события по числу пользователей"
   ]
  },
  {
   "cell_type": "code",
   "execution_count": 19,
   "metadata": {},
   "outputs": [
    {
     "data": {
      "text/html": [
       "<div>\n",
       "<style scoped>\n",
       "    .dataframe tbody tr th:only-of-type {\n",
       "        vertical-align: middle;\n",
       "    }\n",
       "\n",
       "    .dataframe tbody tr th {\n",
       "        vertical-align: top;\n",
       "    }\n",
       "\n",
       "    .dataframe thead th {\n",
       "        text-align: right;\n",
       "    }\n",
       "</style>\n",
       "<table border=\"1\" class=\"dataframe\">\n",
       "  <thead>\n",
       "    <tr style=\"text-align: right;\">\n",
       "      <th></th>\n",
       "      <th>event_name</th>\n",
       "      <th>user_id</th>\n",
       "    </tr>\n",
       "  </thead>\n",
       "  <tbody>\n",
       "    <tr>\n",
       "      <th>0</th>\n",
       "      <td>MainScreenAppear</td>\n",
       "      <td>7419</td>\n",
       "    </tr>\n",
       "    <tr>\n",
       "      <th>1</th>\n",
       "      <td>OffersScreenAppear</td>\n",
       "      <td>4593</td>\n",
       "    </tr>\n",
       "    <tr>\n",
       "      <th>2</th>\n",
       "      <td>CartScreenAppear</td>\n",
       "      <td>3734</td>\n",
       "    </tr>\n",
       "    <tr>\n",
       "      <th>3</th>\n",
       "      <td>PaymentScreenSuccessful</td>\n",
       "      <td>3539</td>\n",
       "    </tr>\n",
       "    <tr>\n",
       "      <th>4</th>\n",
       "      <td>Tutorial</td>\n",
       "      <td>840</td>\n",
       "    </tr>\n",
       "  </tbody>\n",
       "</table>\n",
       "</div>"
      ],
      "text/plain": [
       "                event_name  user_id\n",
       "0         MainScreenAppear     7419\n",
       "1       OffersScreenAppear     4593\n",
       "2         CartScreenAppear     3734\n",
       "3  PaymentScreenSuccessful     3539\n",
       "4                 Tutorial      840"
      ]
     },
     "execution_count": 19,
     "metadata": {},
     "output_type": "execute_result"
    }
   ],
   "source": [
    "event_user = (df_new.groupby('event_name')\n",
    "       .agg({'user_id':'nunique'})\n",
    "       .sort_values(by='user_id', ascending=False)\n",
    "       .reset_index()\n",
    ")\n",
    "\n",
    "event_user"
   ]
  },
  {
   "cell_type": "code",
   "execution_count": 20,
   "metadata": {},
   "outputs": [
    {
     "data": {
      "text/plain": [
       "7534"
      ]
     },
     "execution_count": 20,
     "metadata": {},
     "output_type": "execute_result"
    }
   ],
   "source": [
    "df_new['user_id'].nunique()"
   ]
  },
  {
   "cell_type": "markdown",
   "metadata": {},
   "source": [
    "Посчитаем долю пользователей, которые хоть раз совершали событие"
   ]
  },
  {
   "cell_type": "code",
   "execution_count": 21,
   "metadata": {},
   "outputs": [
    {
     "data": {
      "text/html": [
       "<div>\n",
       "<style scoped>\n",
       "    .dataframe tbody tr th:only-of-type {\n",
       "        vertical-align: middle;\n",
       "    }\n",
       "\n",
       "    .dataframe tbody tr th {\n",
       "        vertical-align: top;\n",
       "    }\n",
       "\n",
       "    .dataframe thead th {\n",
       "        text-align: right;\n",
       "    }\n",
       "</style>\n",
       "<table border=\"1\" class=\"dataframe\">\n",
       "  <thead>\n",
       "    <tr style=\"text-align: right;\">\n",
       "      <th></th>\n",
       "      <th>event_name</th>\n",
       "      <th>user_id</th>\n",
       "      <th>rate</th>\n",
       "    </tr>\n",
       "  </thead>\n",
       "  <tbody>\n",
       "    <tr>\n",
       "      <th>0</th>\n",
       "      <td>MainScreenAppear</td>\n",
       "      <td>7419</td>\n",
       "      <td>0.98</td>\n",
       "    </tr>\n",
       "    <tr>\n",
       "      <th>1</th>\n",
       "      <td>OffersScreenAppear</td>\n",
       "      <td>4593</td>\n",
       "      <td>0.61</td>\n",
       "    </tr>\n",
       "    <tr>\n",
       "      <th>2</th>\n",
       "      <td>CartScreenAppear</td>\n",
       "      <td>3734</td>\n",
       "      <td>0.50</td>\n",
       "    </tr>\n",
       "    <tr>\n",
       "      <th>3</th>\n",
       "      <td>PaymentScreenSuccessful</td>\n",
       "      <td>3539</td>\n",
       "      <td>0.47</td>\n",
       "    </tr>\n",
       "    <tr>\n",
       "      <th>4</th>\n",
       "      <td>Tutorial</td>\n",
       "      <td>840</td>\n",
       "      <td>0.11</td>\n",
       "    </tr>\n",
       "  </tbody>\n",
       "</table>\n",
       "</div>"
      ],
      "text/plain": [
       "                event_name  user_id  rate\n",
       "0         MainScreenAppear     7419  0.98\n",
       "1       OffersScreenAppear     4593  0.61\n",
       "2         CartScreenAppear     3734  0.50\n",
       "3  PaymentScreenSuccessful     3539  0.47\n",
       "4                 Tutorial      840  0.11"
      ]
     },
     "execution_count": 21,
     "metadata": {},
     "output_type": "execute_result"
    }
   ],
   "source": [
    "event_user['new_col'] = event_user['user_id'].shift(1,fill_value=7534) #Cоздали новый столбец и сдвинули значения\n",
    "event_user['rate'] = round(event_user['user_id']/event_user['new_col'][0], 2) #Вычислили долю от общего количества\n",
    "event_user = event_user.drop(columns=['new_col']) #Удалили ненужный столбец\n",
    "event_user"
   ]
  },
  {
   "cell_type": "markdown",
   "metadata": {},
   "source": [
    "Посмотрим, какие событие у нас есть и в каком порядке они находятся:\n",
    "\n",
    "* MainScreenAppear - Появление главного экрана\n",
    "* OffersScreenAppear - Появление оффера\n",
    "* CartScreenAppear - Переход в корзину\n",
    "* PaymentScreenSuccessful - Оплата (это заключительное событие)\n",
    "* Tutorial - обучение (его могут проходить не все, в воронке это событие учитывать не будем)"
   ]
  },
  {
   "cell_type": "markdown",
   "metadata": {},
   "source": [
    "Все события выстраиваются в последовательную цепочку"
   ]
  },
  {
   "cell_type": "markdown",
   "metadata": {},
   "source": [
    "По воронке событий посчитаем, какая доля пользователей проходит на следующий шаг воронки (от числа пользователей на предыдущем шаге)"
   ]
  },
  {
   "cell_type": "code",
   "execution_count": 22,
   "metadata": {},
   "outputs": [
    {
     "data": {
      "text/html": [
       "<div>\n",
       "<style scoped>\n",
       "    .dataframe tbody tr th:only-of-type {\n",
       "        vertical-align: middle;\n",
       "    }\n",
       "\n",
       "    .dataframe tbody tr th {\n",
       "        vertical-align: top;\n",
       "    }\n",
       "\n",
       "    .dataframe thead th {\n",
       "        text-align: right;\n",
       "    }\n",
       "</style>\n",
       "<table border=\"1\" class=\"dataframe\">\n",
       "  <thead>\n",
       "    <tr style=\"text-align: right;\">\n",
       "      <th></th>\n",
       "      <th>event_name</th>\n",
       "      <th>user_id</th>\n",
       "    </tr>\n",
       "  </thead>\n",
       "  <tbody>\n",
       "    <tr>\n",
       "      <th>0</th>\n",
       "      <td>MainScreenAppear</td>\n",
       "      <td>7419</td>\n",
       "    </tr>\n",
       "    <tr>\n",
       "      <th>1</th>\n",
       "      <td>OffersScreenAppear</td>\n",
       "      <td>4593</td>\n",
       "    </tr>\n",
       "    <tr>\n",
       "      <th>2</th>\n",
       "      <td>CartScreenAppear</td>\n",
       "      <td>3734</td>\n",
       "    </tr>\n",
       "    <tr>\n",
       "      <th>3</th>\n",
       "      <td>PaymentScreenSuccessful</td>\n",
       "      <td>3539</td>\n",
       "    </tr>\n",
       "    <tr>\n",
       "      <th>4</th>\n",
       "      <td>Tutorial</td>\n",
       "      <td>840</td>\n",
       "    </tr>\n",
       "  </tbody>\n",
       "</table>\n",
       "</div>"
      ],
      "text/plain": [
       "                event_name  user_id\n",
       "0         MainScreenAppear     7419\n",
       "1       OffersScreenAppear     4593\n",
       "2         CartScreenAppear     3734\n",
       "3  PaymentScreenSuccessful     3539\n",
       "4                 Tutorial      840"
      ]
     },
     "execution_count": 22,
     "metadata": {},
     "output_type": "execute_result"
    }
   ],
   "source": [
    "#Отсортируем данные по событиям и количеству пользователей\n",
    "\n",
    "funnel_step = (df_new.groupby('event_name')\n",
    "       .agg({'user_id':'nunique'})\n",
    "       .sort_values(by='user_id', ascending=False)\n",
    "       .reset_index()\n",
    ")\n",
    "funnel_step"
   ]
  },
  {
   "cell_type": "markdown",
   "metadata": {},
   "source": [
    "Мы получили воронку с количеством пользователей на каждом этапе события, теперь нужно получить долю от прошлого"
   ]
  },
  {
   "cell_type": "code",
   "execution_count": 23,
   "metadata": {},
   "outputs": [
    {
     "data": {
      "text/html": [
       "<div>\n",
       "<style scoped>\n",
       "    .dataframe tbody tr th:only-of-type {\n",
       "        vertical-align: middle;\n",
       "    }\n",
       "\n",
       "    .dataframe tbody tr th {\n",
       "        vertical-align: top;\n",
       "    }\n",
       "\n",
       "    .dataframe thead th {\n",
       "        text-align: right;\n",
       "    }\n",
       "</style>\n",
       "<table border=\"1\" class=\"dataframe\">\n",
       "  <thead>\n",
       "    <tr style=\"text-align: right;\">\n",
       "      <th></th>\n",
       "      <th>event_name</th>\n",
       "      <th>user_id</th>\n",
       "      <th>rate_by_step</th>\n",
       "    </tr>\n",
       "  </thead>\n",
       "  <tbody>\n",
       "    <tr>\n",
       "      <th>0</th>\n",
       "      <td>MainScreenAppear</td>\n",
       "      <td>7419</td>\n",
       "      <td>1.00</td>\n",
       "    </tr>\n",
       "    <tr>\n",
       "      <th>1</th>\n",
       "      <td>OffersScreenAppear</td>\n",
       "      <td>4593</td>\n",
       "      <td>0.62</td>\n",
       "    </tr>\n",
       "    <tr>\n",
       "      <th>2</th>\n",
       "      <td>CartScreenAppear</td>\n",
       "      <td>3734</td>\n",
       "      <td>0.81</td>\n",
       "    </tr>\n",
       "    <tr>\n",
       "      <th>3</th>\n",
       "      <td>PaymentScreenSuccessful</td>\n",
       "      <td>3539</td>\n",
       "      <td>0.95</td>\n",
       "    </tr>\n",
       "    <tr>\n",
       "      <th>4</th>\n",
       "      <td>Tutorial</td>\n",
       "      <td>840</td>\n",
       "      <td>0.24</td>\n",
       "    </tr>\n",
       "  </tbody>\n",
       "</table>\n",
       "</div>"
      ],
      "text/plain": [
       "                event_name  user_id  rate_by_step\n",
       "0         MainScreenAppear     7419          1.00\n",
       "1       OffersScreenAppear     4593          0.62\n",
       "2         CartScreenAppear     3734          0.81\n",
       "3  PaymentScreenSuccessful     3539          0.95\n",
       "4                 Tutorial      840          0.24"
      ]
     },
     "execution_count": 23,
     "metadata": {},
     "output_type": "execute_result"
    }
   ],
   "source": [
    "# Cоздали новый столбец и сдвинули значения\n",
    "funnel_step['new_col'] = funnel_step['user_id'].shift(1, fill_value=7419)\n",
    "# Вычислили долю от предыдущего шага\n",
    "funnel_step['rate_by_step'] = round(funnel_step['user_id']/funnel_step['new_col'], 2)\n",
    "# Удалили ненужный столбец\n",
    "funnel_step = funnel_step.drop(columns=['new_col'])\n",
    "funnel_step"
   ]
  },
  {
   "cell_type": "markdown",
   "metadata": {},
   "source": [
    "Больше всего теряется пользователей на шаге ``OffersScreenAppear``"
   ]
  },
  {
   "cell_type": "code",
   "execution_count": 24,
   "metadata": {},
   "outputs": [
    {
     "name": "stdout",
     "output_type": "stream",
     "text": [
      "Доля от первого события до оплаты: 0.48\n"
     ]
    }
   ],
   "source": [
    "print('Доля от первого события до оплаты:', round(funnel_step['user_id'][3]/funnel_step['user_id'][0], 2))"
   ]
  },
  {
   "cell_type": "code",
   "execution_count": 25,
   "metadata": {},
   "outputs": [
    {
     "data": {
      "image/png": "[encoded data removed]"
     },
     "metadata": {},
     "output_type": "display_data"
    }
   ],
   "source": [
    "# Нарисуем воронку\n",
    "\n",
    "fig = go.Figure(\n",
    "    go.Funnel(\n",
    "        y = funnel_step['event_name'],\n",
    "        x = funnel_step['user_id']\n",
    "    )\n",
    ")\n",
    "fig.show('png')"
   ]
  },
  {
   "cell_type": "markdown",
   "metadata": {},
   "source": [
    "**Мы изучили воронку событий:**\n",
    "\n",
    "* Посмотрели, какие события есть в логах, как часто они встречаются и отсортировали события по частоте\n",
    "* Посчитали, сколько пользователей совершали каждое из этих событий\n",
    "* Посчитали долю пользователей, которые хоть раз совершали событие\n",
    "* Построили воронку из событий\n",
    "* По воронке событий посчитали, какая доля пользователей проходит на следующий шаг воронки (от числа пользователей на предыдущем шаге)"
   ]
  },
  {
   "cell_type": "markdown",
   "metadata": {},
   "source": [
    "## Результаты эксперимента"
   ]
  },
  {
   "cell_type": "markdown",
   "metadata": {},
   "source": [
    "*Нулевая гипотеза звучит так:* Разницы между группами в долях нет  \n",
    "*Альтернативныя гипотеза:* Разница между группами в долях есть"
   ]
  },
  {
   "cell_type": "markdown",
   "metadata": {},
   "source": [
    "Начнем с просмотра количества пользователей в каждой группе"
   ]
  },
  {
   "cell_type": "code",
   "execution_count": 26,
   "metadata": {},
   "outputs": [
    {
     "data": {
      "text/html": [
       "<div>\n",
       "<style scoped>\n",
       "    .dataframe tbody tr th:only-of-type {\n",
       "        vertical-align: middle;\n",
       "    }\n",
       "\n",
       "    .dataframe tbody tr th {\n",
       "        vertical-align: top;\n",
       "    }\n",
       "\n",
       "    .dataframe thead th {\n",
       "        text-align: right;\n",
       "    }\n",
       "</style>\n",
       "<table border=\"1\" class=\"dataframe\">\n",
       "  <thead>\n",
       "    <tr style=\"text-align: right;\">\n",
       "      <th></th>\n",
       "      <th>exp_id</th>\n",
       "      <th>user_id</th>\n",
       "    </tr>\n",
       "  </thead>\n",
       "  <tbody>\n",
       "    <tr>\n",
       "      <th>0</th>\n",
       "      <td>246</td>\n",
       "      <td>2484</td>\n",
       "    </tr>\n",
       "    <tr>\n",
       "      <th>1</th>\n",
       "      <td>247</td>\n",
       "      <td>2513</td>\n",
       "    </tr>\n",
       "    <tr>\n",
       "      <th>2</th>\n",
       "      <td>248</td>\n",
       "      <td>2537</td>\n",
       "    </tr>\n",
       "  </tbody>\n",
       "</table>\n",
       "</div>"
      ],
      "text/plain": [
       "   exp_id  user_id\n",
       "0     246     2484\n",
       "1     247     2513\n",
       "2     248     2537"
      ]
     },
     "execution_count": 26,
     "metadata": {},
     "output_type": "execute_result"
    }
   ],
   "source": [
    "all_users = df_new.groupby('exp_id').agg({'user_id':'nunique'}).reset_index()\n",
    "all_users"
   ]
  },
  {
   "cell_type": "markdown",
   "metadata": {},
   "source": [
    "Количество пользователей делится на 3 равные части по каждой группе теста  \n",
    "246 и 247 - контрольные группы, а 248 - экспериментальная"
   ]
  },
  {
   "cell_type": "markdown",
   "metadata": {},
   "source": [
    "Проверим, есть ли пользователи, которые относятся не к одной группе"
   ]
  },
  {
   "cell_type": "code",
   "execution_count": 27,
   "metadata": {},
   "outputs": [
    {
     "data": {
      "text/html": [
       "<div>\n",
       "<style scoped>\n",
       "    .dataframe tbody tr th:only-of-type {\n",
       "        vertical-align: middle;\n",
       "    }\n",
       "\n",
       "    .dataframe tbody tr th {\n",
       "        vertical-align: top;\n",
       "    }\n",
       "\n",
       "    .dataframe thead th {\n",
       "        text-align: right;\n",
       "    }\n",
       "</style>\n",
       "<table border=\"1\" class=\"dataframe\">\n",
       "  <thead>\n",
       "    <tr style=\"text-align: right;\">\n",
       "      <th></th>\n",
       "      <th>exp_id</th>\n",
       "    </tr>\n",
       "    <tr>\n",
       "      <th>user_id</th>\n",
       "      <th></th>\n",
       "    </tr>\n",
       "  </thead>\n",
       "  <tbody>\n",
       "    <tr>\n",
       "      <th>6888746892508752</th>\n",
       "      <td>1</td>\n",
       "    </tr>\n",
       "    <tr>\n",
       "      <th>6909561520679493</th>\n",
       "      <td>1</td>\n",
       "    </tr>\n",
       "    <tr>\n",
       "      <th>6922444491712477</th>\n",
       "      <td>1</td>\n",
       "    </tr>\n",
       "    <tr>\n",
       "      <th>7435777799948366</th>\n",
       "      <td>1</td>\n",
       "    </tr>\n",
       "    <tr>\n",
       "      <th>7702139951469979</th>\n",
       "      <td>1</td>\n",
       "    </tr>\n",
       "  </tbody>\n",
       "</table>\n",
       "</div>"
      ],
      "text/plain": [
       "                  exp_id\n",
       "user_id                 \n",
       "6888746892508752       1\n",
       "6909561520679493       1\n",
       "6922444491712477       1\n",
       "7435777799948366       1\n",
       "7702139951469979       1"
      ]
     },
     "execution_count": 27,
     "metadata": {},
     "output_type": "execute_result"
    }
   ],
   "source": [
    "group_check= df_new.groupby(by='user_id').agg({'exp_id':'nunique'})\n",
    "group_check.head()"
   ]
  },
  {
   "cell_type": "code",
   "execution_count": 28,
   "metadata": {},
   "outputs": [
    {
     "data": {
      "text/html": [
       "<div>\n",
       "<style scoped>\n",
       "    .dataframe tbody tr th:only-of-type {\n",
       "        vertical-align: middle;\n",
       "    }\n",
       "\n",
       "    .dataframe tbody tr th {\n",
       "        vertical-align: top;\n",
       "    }\n",
       "\n",
       "    .dataframe thead th {\n",
       "        text-align: right;\n",
       "    }\n",
       "</style>\n",
       "<table border=\"1\" class=\"dataframe\">\n",
       "  <thead>\n",
       "    <tr style=\"text-align: right;\">\n",
       "      <th></th>\n",
       "      <th>exp_id</th>\n",
       "    </tr>\n",
       "    <tr>\n",
       "      <th>user_id</th>\n",
       "      <th></th>\n",
       "    </tr>\n",
       "  </thead>\n",
       "  <tbody>\n",
       "  </tbody>\n",
       "</table>\n",
       "</div>"
      ],
      "text/plain": [
       "Empty DataFrame\n",
       "Columns: [exp_id]\n",
       "Index: []"
      ]
     },
     "execution_count": 28,
     "metadata": {},
     "output_type": "execute_result"
    }
   ],
   "source": [
    "group_check.query('exp_id > 1')"
   ]
  },
  {
   "cell_type": "markdown",
   "metadata": {},
   "source": [
    "Пользователей, которые состоят не в одной группе нет, это хорошо"
   ]
  },
  {
   "cell_type": "markdown",
   "metadata": {},
   "source": [
    "**Проверим 2 контрольные группы**  "
   ]
  },
  {
   "cell_type": "code",
   "execution_count": 29,
   "metadata": {},
   "outputs": [
    {
     "data": {
      "text/html": [
       "<div>\n",
       "<style scoped>\n",
       "    .dataframe tbody tr th:only-of-type {\n",
       "        vertical-align: middle;\n",
       "    }\n",
       "\n",
       "    .dataframe tbody tr th {\n",
       "        vertical-align: top;\n",
       "    }\n",
       "\n",
       "    .dataframe thead th {\n",
       "        text-align: right;\n",
       "    }\n",
       "</style>\n",
       "<table border=\"1\" class=\"dataframe\">\n",
       "  <thead>\n",
       "    <tr style=\"text-align: right;\">\n",
       "      <th></th>\n",
       "      <th>event_name</th>\n",
       "      <th>246</th>\n",
       "      <th>247</th>\n",
       "      <th>248</th>\n",
       "    </tr>\n",
       "  </thead>\n",
       "  <tbody>\n",
       "    <tr>\n",
       "      <th>0</th>\n",
       "      <td>MainScreenAppear</td>\n",
       "      <td>2450</td>\n",
       "      <td>2476</td>\n",
       "      <td>2493</td>\n",
       "    </tr>\n",
       "    <tr>\n",
       "      <th>1</th>\n",
       "      <td>OffersScreenAppear</td>\n",
       "      <td>1542</td>\n",
       "      <td>1520</td>\n",
       "      <td>1531</td>\n",
       "    </tr>\n",
       "    <tr>\n",
       "      <th>2</th>\n",
       "      <td>CartScreenAppear</td>\n",
       "      <td>1266</td>\n",
       "      <td>1238</td>\n",
       "      <td>1230</td>\n",
       "    </tr>\n",
       "    <tr>\n",
       "      <th>3</th>\n",
       "      <td>PaymentScreenSuccessful</td>\n",
       "      <td>1200</td>\n",
       "      <td>1158</td>\n",
       "      <td>1181</td>\n",
       "    </tr>\n",
       "  </tbody>\n",
       "</table>\n",
       "</div>"
      ],
      "text/plain": [
       "                event_name   246   247   248\n",
       "0         MainScreenAppear  2450  2476  2493\n",
       "1       OffersScreenAppear  1542  1520  1531\n",
       "2         CartScreenAppear  1266  1238  1230\n",
       "3  PaymentScreenSuccessful  1200  1158  1181"
      ]
     },
     "execution_count": 29,
     "metadata": {},
     "output_type": "execute_result"
    }
   ],
   "source": [
    "# Для начала сгруппируем данные \n",
    "\n",
    "# пользователи из группы 246\n",
    "group246 = df_new.query('exp_id == 246')\\\n",
    "    .groupby('event_name', as_index=False)['user_id'].nunique()\\\n",
    "    .sort_values(by='user_id', ascending=False)\\\n",
    "    .reset_index(drop=True)\n",
    "group246.columns = ('event_name', '246')\n",
    "\n",
    "# пользователи из группы 247\n",
    "group247 = df_new.query('exp_id == 247')\\\n",
    "    .groupby('event_name', as_index=False)['user_id'].nunique()\\\n",
    "    .sort_values(by='user_id', ascending=False)\\\n",
    "    .reset_index(drop=True)\n",
    "group247.columns = ('event_name', '247')\n",
    "\n",
    "# пользователи из группы 248\n",
    "group248 = df_new.query('exp_id == 248')\\\n",
    "    .groupby('event_name', as_index=False)['user_id'].nunique()\\\n",
    "    .sort_values(by='user_id', ascending=False)\\\n",
    "    .reset_index(drop=True)\n",
    "group248.columns = ('event_name', '248')\n",
    "\n",
    "all_groups = group246.merge(group247, on='event_name').merge(group248, on='event_name')\n",
    "all_groups = all_groups.drop(labels=[4], axis=0,) # удалим туториал\n",
    "all_groups"
   ]
  },
  {
   "cell_type": "markdown",
   "metadata": {},
   "source": [
    "Самое популярное событие - ``MainScreenAppear``, оно же первое. С него мы и начнем"
   ]
  },
  {
   "cell_type": "markdown",
   "metadata": {},
   "source": [
    "Число пользователей, совершивших это событие в каждой из контрольных групп:"
   ]
  },
  {
   "cell_type": "code",
   "execution_count": 30,
   "metadata": {},
   "outputs": [
    {
     "name": "stdout",
     "output_type": "stream",
     "text": [
      "В группе 246: 2450\n",
      "В группе 247: 2476\n"
     ]
    }
   ],
   "source": [
    "print('В группе 246:', all_groups['246'][0])\n",
    "print('В группе 247:', all_groups['247'][0])"
   ]
  },
  {
   "cell_type": "markdown",
   "metadata": {},
   "source": [
    "Теперь посчитаем долю пользователей, совершивших событие ``MainScreenAppear``"
   ]
  },
  {
   "cell_type": "code",
   "execution_count": 31,
   "metadata": {},
   "outputs": [
    {
     "name": "stdout",
     "output_type": "stream",
     "text": [
      "Доля пользователей в группе 246: 0.986\n",
      "Доля пользователей в группе 247: 0.985\n"
     ]
    }
   ],
   "source": [
    "print(\n",
    "    'Доля пользователей в группе 246:', round(all_groups['246'][0]/all_users['user_id'][0], 3)\n",
    ")\n",
    "print(\n",
    "    'Доля пользователей в группе 247:', round(all_groups['247'][0]/all_users['user_id'][1], 3)\n",
    ")"
   ]
  },
  {
   "cell_type": "markdown",
   "metadata": {},
   "source": [
    "Доля пользователей, совершивших событие практически одинакова. Проверим, будет ли отличие между грппами статистически достоверно"
   ]
  },
  {
   "cell_type": "code",
   "execution_count": 32,
   "metadata": {},
   "outputs": [
    {
     "name": "stdout",
     "output_type": "stream",
     "text": [
      "p-значение:  0.7570597232046099\n",
      "Не получилось отвергнуть нулевую гипотезу, нет оснований считать доли разными\n"
     ]
    }
   ],
   "source": [
    "alpha = .05 # критический уровень статистической значимости\n",
    "\n",
    "successes = np.array([2450, 2476])\n",
    "trials = np.array([2484, 2513])\n",
    "\n",
    "# пропорция успехов в первой группе:\n",
    "p1 = successes[0]/trials[0]\n",
    "\n",
    "# пропорция успехов во второй группе:\n",
    "p2 = successes[1]/trials[1]\n",
    "\n",
    "# пропорция успехов в комбинированном датасете:\n",
    "p_combined = (successes[0] + successes[1]) / (trials[0] + trials[1])\n",
    "\n",
    "# разница пропорций в датасетах\n",
    "difference = p1 - p2 \n",
    "\n",
    "# считаем статистику в ст.отклонениях стандартного нормального распределения\n",
    "z_value = difference / mth.sqrt(\n",
    "    p_combined * (1 - p_combined) * (1 / trials[0] + 1 / trials[1])\n",
    ")\n",
    "\n",
    "# задаем стандартное нормальное распределение (среднее 0, ст.отклонение 1)\n",
    "distr = st.norm(0, 1)\n",
    "\n",
    "p_value = (1 - distr.cdf(abs(z_value))) * 2\n",
    "\n",
    "print('p-значение: ', p_value)\n",
    "    \n",
    "if p_value < alpha:\n",
    "    print('Отвергаем нулевую гипотезу по событию MainScreenAppear: между долями есть значимая разница')\n",
    "else:\n",
    "    print(\n",
    "         'Не получилось отвергнуть нулевую гипотезу, нет оснований считать доли разными'\n",
    "    )"
   ]
  },
  {
   "cell_type": "markdown",
   "metadata": {},
   "source": [
    "Проделаем то же самое для всех событий, для этого, обернем наш тест в функцию"
   ]
  },
  {
   "cell_type": "markdown",
   "metadata": {},
   "source": [
    "Для каждой контрольной группы добавим в список те значения, которые нужны для теста"
   ]
  },
  {
   "cell_type": "code",
   "execution_count": 33,
   "metadata": {},
   "outputs": [
    {
     "name": "stdout",
     "output_type": "stream",
     "text": [
      "[2450, 1542, 1266, 1200]\n",
      "[2476, 1520, 1238, 1158]\n",
      "['MainScreenAppear', 'OffersScreenAppear', 'CartScreenAppear', 'PaymentScreenSuccessful']\n"
     ]
    }
   ],
   "source": [
    "group_246 = list(all_groups['246'])\n",
    "group_247 = list(all_groups['247'])\n",
    "events = list(all_groups['event_name'])\n",
    "\n",
    "print(group_246)\n",
    "print(group_247)\n",
    "print(events)"
   ]
  },
  {
   "cell_type": "markdown",
   "metadata": {},
   "source": [
    "Создаем функцию, с помощью которой будем делать тест по каждому событию"
   ]
  },
  {
   "cell_type": "code",
   "execution_count": 34,
   "metadata": {},
   "outputs": [],
   "source": [
    "def test_aa (group_1, group_2, trials_1, trials_2, events):\n",
    "\n",
    "    alpha = .05 # критический уровень статистической значимости\n",
    "\n",
    "    successes = np.array([group_1, group_2])\n",
    "    trials = np.array([trials_1, trials_2])\n",
    "\n",
    "    # пропорция успехов в первой группе:\n",
    "    p1 = successes[0]/trials[0]\n",
    "\n",
    "    # пропорция успехов во второй группе:\n",
    "    p2 = successes[1]/trials[1]\n",
    "\n",
    "    # пропорция успехов в комбинированном датасете:\n",
    "    p_combined = (successes[0] + successes[1]) / (trials[0] + trials[1])\n",
    "\n",
    "    # разница пропорций в датасетах\n",
    "    difference = p1 - p2 \n",
    "\n",
    "    # считаем статистику в ст.отклонениях стандартного нормального распределения\n",
    "    z_value = difference / mth.sqrt(\n",
    "        p_combined * (1 - p_combined) * (1 / trials[0] + 1 / trials[1])\n",
    "    )\n",
    "\n",
    "    # задаем стандартное нормальное распределение (среднее 0, ст.отклонение 1)\n",
    "    distr = st.norm(0, 1)\n",
    "\n",
    "    p_value = (1 - distr.cdf(abs(z_value))) * 2\n",
    "\n",
    "    print('p-значение: ', p_value)\n",
    "    \n",
    "    if p_value < alpha:\n",
    "        print(f'Отвергаем нулевую гипотезу по событию {events}: между долями есть значимая разница')\n",
    "    else:\n",
    "        print(\n",
    "             f'Не получилось отвергнуть нулевую гипотезу по событию {events}, нет оснований считать доли разными'\n",
    "        )"
   ]
  },
  {
   "cell_type": "code",
   "execution_count": 35,
   "metadata": {
    "scrolled": true
   },
   "outputs": [
    {
     "name": "stdout",
     "output_type": "stream",
     "text": [
      "p-значение:  0.7570597232046099\n",
      "Не получилось отвергнуть нулевую гипотезу по событию MainScreenAppear, нет оснований считать доли разными\n",
      "\n",
      "p-значение:  0.2480954578522181\n",
      "Не получилось отвергнуть нулевую гипотезу по событию OffersScreenAppear, нет оснований считать доли разными\n",
      "\n",
      "p-значение:  0.22883372237997213\n",
      "Не получилось отвергнуть нулевую гипотезу по событию CartScreenAppear, нет оснований считать доли разными\n",
      "\n",
      "p-значение:  0.11456679313141849\n",
      "Не получилось отвергнуть нулевую гипотезу по событию PaymentScreenSuccessful, нет оснований считать доли разными\n",
      "\n"
     ]
    }
   ],
   "source": [
    "# Cоздадим цикл\n",
    "for group_1, group_2, event in zip(group_246, group_247, events):\n",
    "    test_aa (group_1, group_2, 2484, 2513, event)\n",
    "    print()"
   ]
  },
  {
   "cell_type": "markdown",
   "metadata": {},
   "source": [
    "В контрольных групах с высокой степенью достоверности одинаковый результат, поэтому нет оснований счтитать эти группы разными  \n",
    "Разбиение на группы работает корректно"
   ]
  },
  {
   "cell_type": "markdown",
   "metadata": {},
   "source": [
    "**Проверим экспериментальную группу**"
   ]
  },
  {
   "cell_type": "markdown",
   "metadata": {},
   "source": [
    "Аналогично поступим с группой с изменённым шрифтом ``248``. Сравним результаты с каждой из контрольных групп в отдельности по каждому событию"
   ]
  },
  {
   "cell_type": "code",
   "execution_count": 36,
   "metadata": {},
   "outputs": [
    {
     "name": "stdout",
     "output_type": "stream",
     "text": [
      "[2493, 1531, 1230, 1181]\n"
     ]
    }
   ],
   "source": [
    "# Для группы 248 создадим нужный список для теста\n",
    "group_248 = list(all_groups['248'])\n",
    "print(group_248)"
   ]
  },
  {
   "cell_type": "code",
   "execution_count": 37,
   "metadata": {},
   "outputs": [
    {
     "name": "stdout",
     "output_type": "stream",
     "text": [
      "p-значение:  0.2949721933554552\n",
      "Не получилось отвергнуть нулевую гипотезу по событию MainScreenAppear, нет оснований считать доли разными\n",
      "\n",
      "p-значение:  0.20836205402738917\n",
      "Не получилось отвергнуть нулевую гипотезу по событию OffersScreenAppear, нет оснований считать доли разными\n",
      "\n",
      "p-значение:  0.07842923237520116\n",
      "Не получилось отвергнуть нулевую гипотезу по событию CartScreenAppear, нет оснований считать доли разными\n",
      "\n",
      "p-значение:  0.2122553275697796\n",
      "Не получилось отвергнуть нулевую гипотезу по событию PaymentScreenSuccessful, нет оснований считать доли разными\n",
      "\n"
     ]
    }
   ],
   "source": [
    "# Сделаем тест по группам 246 и 248\n",
    "for group_1, group_2, event in zip(group_246, group_248, events):\n",
    "    test_aa (group_1, group_2, 2484, 2537, event)\n",
    "    print()"
   ]
  },
  {
   "cell_type": "markdown",
   "metadata": {},
   "source": [
    "Между группами 246 и 248 не получилось отвергнуть нулевую гипотезу по каждому событию"
   ]
  },
  {
   "cell_type": "code",
   "execution_count": 38,
   "metadata": {},
   "outputs": [
    {
     "name": "stdout",
     "output_type": "stream",
     "text": [
      "p-значение:  0.4587053616621515\n",
      "Не получилось отвергнуть нулевую гипотезу по событию MainScreenAppear, нет оснований считать доли разными\n",
      "\n",
      "p-значение:  0.9197817830592261\n",
      "Не получилось отвергнуть нулевую гипотезу по событию OffersScreenAppear, нет оснований считать доли разными\n",
      "\n",
      "p-значение:  0.5786197879539783\n",
      "Не получилось отвергнуть нулевую гипотезу по событию CartScreenAppear, нет оснований считать доли разными\n",
      "\n",
      "p-значение:  0.7373415053803964\n",
      "Не получилось отвергнуть нулевую гипотезу по событию PaymentScreenSuccessful, нет оснований считать доли разными\n",
      "\n"
     ]
    }
   ],
   "source": [
    "# Сделаем тест по группам 247 и 248\n",
    "for group_1, group_2, event in zip(group_247, group_248, events):\n",
    "    test_aa (group_1, group_2, 2513, 2537, event)\n",
    "    print()"
   ]
  },
  {
   "cell_type": "markdown",
   "metadata": {},
   "source": [
    "Между группами 247 и 248 картина не поменялась"
   ]
  },
  {
   "cell_type": "markdown",
   "metadata": {},
   "source": [
    "Теперь объединим результаты контрольных групп и сраним с группой 248"
   ]
  },
  {
   "cell_type": "code",
   "execution_count": 39,
   "metadata": {},
   "outputs": [
    {
     "data": {
      "text/html": [
       "<div>\n",
       "<style scoped>\n",
       "    .dataframe tbody tr th:only-of-type {\n",
       "        vertical-align: middle;\n",
       "    }\n",
       "\n",
       "    .dataframe tbody tr th {\n",
       "        vertical-align: top;\n",
       "    }\n",
       "\n",
       "    .dataframe thead th {\n",
       "        text-align: right;\n",
       "    }\n",
       "</style>\n",
       "<table border=\"1\" class=\"dataframe\">\n",
       "  <thead>\n",
       "    <tr style=\"text-align: right;\">\n",
       "      <th></th>\n",
       "      <th>event_name</th>\n",
       "      <th>246</th>\n",
       "      <th>247</th>\n",
       "      <th>248</th>\n",
       "      <th>246_247</th>\n",
       "    </tr>\n",
       "  </thead>\n",
       "  <tbody>\n",
       "    <tr>\n",
       "      <th>0</th>\n",
       "      <td>MainScreenAppear</td>\n",
       "      <td>2450</td>\n",
       "      <td>2476</td>\n",
       "      <td>2493</td>\n",
       "      <td>4926</td>\n",
       "    </tr>\n",
       "    <tr>\n",
       "      <th>1</th>\n",
       "      <td>OffersScreenAppear</td>\n",
       "      <td>1542</td>\n",
       "      <td>1520</td>\n",
       "      <td>1531</td>\n",
       "      <td>3062</td>\n",
       "    </tr>\n",
       "    <tr>\n",
       "      <th>2</th>\n",
       "      <td>CartScreenAppear</td>\n",
       "      <td>1266</td>\n",
       "      <td>1238</td>\n",
       "      <td>1230</td>\n",
       "      <td>2504</td>\n",
       "    </tr>\n",
       "    <tr>\n",
       "      <th>3</th>\n",
       "      <td>PaymentScreenSuccessful</td>\n",
       "      <td>1200</td>\n",
       "      <td>1158</td>\n",
       "      <td>1181</td>\n",
       "      <td>2358</td>\n",
       "    </tr>\n",
       "  </tbody>\n",
       "</table>\n",
       "</div>"
      ],
      "text/plain": [
       "                event_name   246   247   248  246_247\n",
       "0         MainScreenAppear  2450  2476  2493     4926\n",
       "1       OffersScreenAppear  1542  1520  1531     3062\n",
       "2         CartScreenAppear  1266  1238  1230     2504\n",
       "3  PaymentScreenSuccessful  1200  1158  1181     2358"
      ]
     },
     "execution_count": 39,
     "metadata": {},
     "output_type": "execute_result"
    }
   ],
   "source": [
    "all_groups['246_247'] = all_groups['246'] + all_groups['247']\n",
    "all_groups"
   ]
  },
  {
   "cell_type": "code",
   "execution_count": 40,
   "metadata": {},
   "outputs": [
    {
     "name": "stdout",
     "output_type": "stream",
     "text": [
      "[4926, 3062, 2504, 2358]\n"
     ]
    }
   ],
   "source": [
    "# Создадим новый список\n",
    "group_246_247 = list(all_groups['246_247'])\n",
    "print(group_246_247)"
   ]
  },
  {
   "cell_type": "code",
   "execution_count": 41,
   "metadata": {},
   "outputs": [
    {
     "data": {
      "text/plain": [
       "4997"
      ]
     },
     "execution_count": 41,
     "metadata": {},
     "output_type": "execute_result"
    }
   ],
   "source": [
    "# Объединим количество пользователей\n",
    "users_246_247 = all_users['user_id'][0] + all_users['user_id'][1]\n",
    "users_246_247"
   ]
  },
  {
   "cell_type": "code",
   "execution_count": 42,
   "metadata": {},
   "outputs": [
    {
     "name": "stdout",
     "output_type": "stream",
     "text": [
      "p-значение:  0.29424526837179577\n",
      "Не получилось отвергнуть нулевую гипотезу по событию MainScreenAppear, нет оснований считать доли разными\n",
      "\n",
      "p-значение:  0.43425549655188256\n",
      "Не получилось отвергнуть нулевую гипотезу по событию OffersScreenAppear, нет оснований считать доли разными\n",
      "\n",
      "p-значение:  0.18175875284404386\n",
      "Не получилось отвергнуть нулевую гипотезу по событию CartScreenAppear, нет оснований считать доли разными\n",
      "\n",
      "p-значение:  0.6004294282308704\n",
      "Не получилось отвергнуть нулевую гипотезу по событию PaymentScreenSuccessful, нет оснований считать доли разными\n",
      "\n"
     ]
    }
   ],
   "source": [
    "# Сделаем тест по контрольным группам и группе 248\n",
    "for group_1, group_2, event in zip(group_246_247, group_248, events):\n",
    "    test_aa (group_1, group_2, 4997, 2537, event)\n",
    "    print()"
   ]
  },
  {
   "cell_type": "markdown",
   "metadata": {},
   "source": [
    "При тестировании объединенных контрольных группах и группы 248 мы точно такой же результат, как и в прошлых тестах"
   ]
  },
  {
   "cell_type": "markdown",
   "metadata": {},
   "source": [
    "**Вывод:**  \n",
    "Изменение шрифта не повлияло за собой изменение в конверсиях"
   ]
  },
  {
   "cell_type": "markdown",
   "metadata": {},
   "source": [
    "Мы делали тест с уровнем значимости 0.05, и сделали 16 проверок статистических гипотез  \n",
    "Критерий *alpha = 0,05* был задан исходя из общепринятых порговых значений (5% и 1%)"
   ]
  },
  {
   "cell_type": "markdown",
   "metadata": {},
   "source": [
    "Попробуем повторить тест с обединенными контрольными группами и группой 248, но в этот раз выберим критерий *alpha = 0.01*"
   ]
  },
  {
   "cell_type": "code",
   "execution_count": 43,
   "metadata": {},
   "outputs": [],
   "source": [
    "# Создадим новую функцию\n",
    "def test_ab_new (group_1, group_2, events):\n",
    "\n",
    "    alpha = .01 # критический уровень статистической значимости\n",
    "\n",
    "    successes = np.array([group_1, group_2])\n",
    "    trials = np.array([4997, 2537])\n",
    "\n",
    "    # пропорция успехов в первой группе:\n",
    "    p1 = successes[0]/trials[0]\n",
    "\n",
    "    # пропорция успехов во второй группе:\n",
    "    p2 = successes[1]/trials[1]\n",
    "\n",
    "    # пропорция успехов в комбинированном датасете:\n",
    "    p_combined = (successes[0] + successes[1]) / (trials[0] + trials[1])\n",
    "\n",
    "    # разница пропорций в датасетах\n",
    "    difference = p1 - p2 \n",
    "\n",
    "    # считаем статистику в ст.отклонениях стандартного нормального распределения\n",
    "    z_value = difference / mth.sqrt(\n",
    "        p_combined * (1 - p_combined) * (1 / trials[0] + 1 / trials[1])\n",
    "    )\n",
    "\n",
    "    # задаем стандартное нормальное распределение (среднее 0, ст.отклонение 1)\n",
    "    distr = st.norm(0, 1)\n",
    "\n",
    "    p_value = (1 - distr.cdf(abs(z_value))) * 2\n",
    "\n",
    "    print('p-значение: ', p_value)\n",
    "    \n",
    "    if p_value < alpha:\n",
    "        print(f'Отвергаем нулевую гипотезу по событию {events}: между долями есть значимая разница')\n",
    "    else:\n",
    "        print(\n",
    "             f'Не получилось отвергнуть нулевую гипотезу по событию {events}, нет оснований считать доли разными'\n",
    "        )"
   ]
  },
  {
   "cell_type": "code",
   "execution_count": 44,
   "metadata": {
    "scrolled": true
   },
   "outputs": [
    {
     "name": "stdout",
     "output_type": "stream",
     "text": [
      "p-значение:  0.29424526837179577\n",
      "Не получилось отвергнуть нулевую гипотезу по событию MainScreenAppear, нет оснований считать доли разными\n",
      "\n",
      "p-значение:  0.43425549655188256\n",
      "Не получилось отвергнуть нулевую гипотезу по событию OffersScreenAppear, нет оснований считать доли разными\n",
      "\n",
      "p-значение:  0.18175875284404386\n",
      "Не получилось отвергнуть нулевую гипотезу по событию CartScreenAppear, нет оснований считать доли разными\n",
      "\n",
      "p-значение:  0.6004294282308704\n",
      "Не получилось отвергнуть нулевую гипотезу по событию PaymentScreenSuccessful, нет оснований считать доли разными\n",
      "\n"
     ]
    }
   ],
   "source": [
    "# Сделаем тест по контрольным группам и группе 248\n",
    "for group_1, group_2, event in zip(group_246_247, group_248, events):\n",
    "    test_ab_new (group_1, group_2, event)\n",
    "    print()"
   ]
  },
  {
   "cell_type": "markdown",
   "metadata": {},
   "source": [
    "C критерием *alpha = 0.01* у нас получился точно такой же результат, поэтому тест можно считать выполненным"
   ]
  },
  {
   "cell_type": "markdown",
   "metadata": {},
   "source": [
    "## Вывод"
   ]
  },
  {
   "cell_type": "markdown",
   "metadata": {},
   "source": [
    "**Задача исследования была:** разобраться, как ведут себя пользователи нашего мобильного приложения и провести A/A/B тесты  \n",
    "\n",
    "1. Загрузили и подготовили данные к работе\n",
    "\n",
    "  * Данные составили: ``244 126`` строк и ``4`` столбца\n",
    "  * Пропусков не обнаружено \n",
    "  * Поменяли название столбцов и привели к правильному стилю\n",
    "  * Изменили тип данных в нужных столбцах  \n",
    "  \n",
    "\n",
    "2. Изучили и проверили данные\n",
    "\n",
    "  * Всего событий: 244126\n",
    "  * Всего пользователей: 7551\n",
    "  * Среднее количество событий на одного пользователя: 32\n",
    "  * Минимальная дата: 2019-07-25\n",
    "  * Максимальная дата: 2019-08-07\n",
    "  * Определили, с какой даты данные полные: 2019-08-01  \n",
    "  \n",
    "   \n",
    "3. Изучили воронку событий\n",
    "\n",
    "  * Посмотрели, какие события есть в логах, как часто они встречаются и отсортировали события по частоте\n",
    "  * Посчитали, сколько пользователей совершали каждое из этих событий\n",
    "  * Посчитали долю пользователей, которые хоть раз совершали событие\n",
    "  * Построили воронку из событий\n",
    "  * По воронке событий посчитали, какая доля пользователей проходит на следующий шаг воронки (от числа пользователей на предыдущем шаге)\n",
    "  \n",
    "  \n",
    "4. Реузультат A/A/B теста \n",
    "\n",
    "  * Мы проверили контрольные группы между собой, разницы обнаруженно не было \n",
    "  * Сделали тест каждой котрольной группы по отдельности с группой 248 - ситуация не поменялось\n",
    "  * Объединили две контрольные группы и сравнили с группой 249 - разницы не обнаружили\n",
    "  * Изменение шрифта не повлияло за собой изменение в конверсиях\n",
    "  * Новый шрифт можно оставить, однако это не увеличит показатели"
   ]
  }
 ],
 "metadata": {
  "ExecuteTimeLog": [
   {
    "duration": 1356,
    "start_time": "2022-09-08T04:43:43.901Z"
   },
   {
    "duration": 101,
    "start_time": "2022-09-08T04:46:00.324Z"
   },
   {
    "duration": 796,
    "start_time": "2022-09-08T04:46:06.956Z"
   },
   {
    "duration": 311,
    "start_time": "2022-09-08T04:46:19.727Z"
   },
   {
    "duration": 50,
    "start_time": "2022-09-08T04:46:26.667Z"
   },
   {
    "duration": 52,
    "start_time": "2022-09-08T04:47:54.679Z"
   },
   {
    "duration": 299,
    "start_time": "2022-09-08T04:48:11.371Z"
   },
   {
    "duration": 54,
    "start_time": "2022-09-08T04:48:25.668Z"
   },
   {
    "duration": 647,
    "start_time": "2022-09-08T04:48:31.047Z"
   },
   {
    "duration": 691,
    "start_time": "2022-09-08T04:48:34.826Z"
   },
   {
    "duration": 268,
    "start_time": "2022-09-08T04:48:39.611Z"
   },
   {
    "duration": 52,
    "start_time": "2022-09-08T04:49:19.412Z"
   },
   {
    "duration": 156,
    "start_time": "2022-09-08T04:52:33.281Z"
   },
   {
    "duration": 5,
    "start_time": "2022-09-08T04:52:52.178Z"
   },
   {
    "duration": 20,
    "start_time": "2022-09-08T04:54:09.573Z"
   },
   {
    "duration": 68,
    "start_time": "2022-09-08T05:02:56.508Z"
   },
   {
    "duration": 120,
    "start_time": "2022-09-08T05:03:14.310Z"
   },
   {
    "duration": 1200,
    "start_time": "2022-09-08T05:10:07.466Z"
   },
   {
    "duration": 170,
    "start_time": "2022-09-08T05:10:08.668Z"
   },
   {
    "duration": 4,
    "start_time": "2022-09-08T05:10:08.840Z"
   },
   {
    "duration": 29,
    "start_time": "2022-09-08T05:10:08.846Z"
   },
   {
    "duration": 96,
    "start_time": "2022-09-08T05:10:08.878Z"
   },
   {
    "duration": 165,
    "start_time": "2022-09-08T05:10:31.093Z"
   },
   {
    "duration": 83,
    "start_time": "2022-09-08T05:10:44.895Z"
   },
   {
    "duration": 10,
    "start_time": "2022-09-08T05:11:54.446Z"
   },
   {
    "duration": 12,
    "start_time": "2022-09-08T05:21:31.552Z"
   },
   {
    "duration": 105,
    "start_time": "2022-09-08T05:22:09.828Z"
   },
   {
    "duration": 11,
    "start_time": "2022-09-08T05:22:25.829Z"
   },
   {
    "duration": 1169,
    "start_time": "2022-09-08T05:22:37.853Z"
   },
   {
    "duration": 215,
    "start_time": "2022-09-08T05:22:39.025Z"
   },
   {
    "duration": 4,
    "start_time": "2022-09-08T05:22:39.242Z"
   },
   {
    "duration": 24,
    "start_time": "2022-09-08T05:22:39.248Z"
   },
   {
    "duration": 30,
    "start_time": "2022-09-08T05:22:39.274Z"
   },
   {
    "duration": 24,
    "start_time": "2022-09-08T05:22:39.306Z"
   },
   {
    "duration": 90,
    "start_time": "2022-09-08T05:24:14.467Z"
   },
   {
    "duration": 90,
    "start_time": "2022-09-08T05:24:34.004Z"
   },
   {
    "duration": 93,
    "start_time": "2022-09-08T05:24:40.336Z"
   },
   {
    "duration": 90,
    "start_time": "2022-09-08T05:25:15.333Z"
   },
   {
    "duration": 1170,
    "start_time": "2022-09-08T05:30:00.007Z"
   },
   {
    "duration": 182,
    "start_time": "2022-09-08T05:30:01.179Z"
   },
   {
    "duration": 4,
    "start_time": "2022-09-08T05:30:01.362Z"
   },
   {
    "duration": 53,
    "start_time": "2022-09-08T05:30:01.367Z"
   },
   {
    "duration": 20,
    "start_time": "2022-09-08T05:30:01.422Z"
   },
   {
    "duration": 107,
    "start_time": "2022-09-08T05:30:01.444Z"
   },
   {
    "duration": 13,
    "start_time": "2022-09-08T05:31:10.369Z"
   },
   {
    "duration": 13,
    "start_time": "2022-09-08T05:40:16.968Z"
   },
   {
    "duration": 83,
    "start_time": "2022-09-08T05:41:37.201Z"
   },
   {
    "duration": 11,
    "start_time": "2022-09-08T05:41:42.460Z"
   },
   {
    "duration": 7,
    "start_time": "2022-09-08T05:42:05.373Z"
   },
   {
    "duration": 14,
    "start_time": "2022-09-08T05:43:08.714Z"
   },
   {
    "duration": 16,
    "start_time": "2022-09-08T05:44:15.702Z"
   },
   {
    "duration": 16,
    "start_time": "2022-09-08T05:44:53.248Z"
   },
   {
    "duration": 1780,
    "start_time": "2022-09-08T05:45:29.398Z"
   },
   {
    "duration": 223,
    "start_time": "2022-09-08T05:45:31.180Z"
   },
   {
    "duration": 5,
    "start_time": "2022-09-08T05:45:31.404Z"
   },
   {
    "duration": 42,
    "start_time": "2022-09-08T05:45:31.410Z"
   },
   {
    "duration": 9,
    "start_time": "2022-09-08T05:45:31.455Z"
   },
   {
    "duration": 117,
    "start_time": "2022-09-08T05:45:31.466Z"
   },
   {
    "duration": 26,
    "start_time": "2022-09-08T05:45:31.585Z"
   },
   {
    "duration": 21,
    "start_time": "2022-09-08T05:45:31.614Z"
   },
   {
    "duration": 10,
    "start_time": "2022-09-08T05:46:59.320Z"
   },
   {
    "duration": 1193,
    "start_time": "2022-09-08T05:47:19.180Z"
   },
   {
    "duration": 175,
    "start_time": "2022-09-08T05:47:20.375Z"
   },
   {
    "duration": 4,
    "start_time": "2022-09-08T05:47:20.551Z"
   },
   {
    "duration": 33,
    "start_time": "2022-09-08T05:47:20.557Z"
   },
   {
    "duration": 18,
    "start_time": "2022-09-08T05:47:20.592Z"
   },
   {
    "duration": 109,
    "start_time": "2022-09-08T05:47:20.616Z"
   },
   {
    "duration": 19,
    "start_time": "2022-09-08T05:47:20.727Z"
   },
   {
    "duration": 15,
    "start_time": "2022-09-08T05:47:20.747Z"
   },
   {
    "duration": 1667,
    "start_time": "2022-09-08T05:49:01.983Z"
   },
   {
    "duration": 175,
    "start_time": "2022-09-08T05:49:03.653Z"
   },
   {
    "duration": 5,
    "start_time": "2022-09-08T05:49:03.830Z"
   },
   {
    "duration": 36,
    "start_time": "2022-09-08T05:49:03.838Z"
   },
   {
    "duration": 11,
    "start_time": "2022-09-08T05:49:03.876Z"
   },
   {
    "duration": 102,
    "start_time": "2022-09-08T05:49:03.903Z"
   },
   {
    "duration": 29,
    "start_time": "2022-09-08T05:49:04.007Z"
   },
   {
    "duration": 18,
    "start_time": "2022-09-08T05:49:04.038Z"
   },
   {
    "duration": 1599,
    "start_time": "2022-09-08T19:37:06.560Z"
   },
   {
    "duration": 769,
    "start_time": "2022-09-08T19:37:08.161Z"
   },
   {
    "duration": 5,
    "start_time": "2022-09-08T19:37:08.931Z"
   },
   {
    "duration": 31,
    "start_time": "2022-09-08T19:37:08.938Z"
   },
   {
    "duration": 15,
    "start_time": "2022-09-08T19:37:08.971Z"
   },
   {
    "duration": 98,
    "start_time": "2022-09-08T19:37:08.988Z"
   },
   {
    "duration": 20,
    "start_time": "2022-09-08T19:37:09.089Z"
   },
   {
    "duration": 23,
    "start_time": "2022-09-08T19:37:09.111Z"
   },
   {
    "duration": 1236,
    "start_time": "2022-09-12T04:16:08.436Z"
   },
   {
    "duration": 498,
    "start_time": "2022-09-12T04:16:09.674Z"
   },
   {
    "duration": 5,
    "start_time": "2022-09-12T04:16:10.174Z"
   },
   {
    "duration": 33,
    "start_time": "2022-09-12T04:16:10.182Z"
   },
   {
    "duration": 8,
    "start_time": "2022-09-12T04:16:10.217Z"
   },
   {
    "duration": 104,
    "start_time": "2022-09-12T04:16:10.227Z"
   },
   {
    "duration": 19,
    "start_time": "2022-09-12T04:16:10.333Z"
   },
   {
    "duration": 27,
    "start_time": "2022-09-12T04:16:10.353Z"
   },
   {
    "duration": 96,
    "start_time": "2022-09-12T04:28:29.137Z"
   },
   {
    "duration": 21,
    "start_time": "2022-09-12T04:28:38.423Z"
   },
   {
    "duration": 37,
    "start_time": "2022-09-12T04:28:42.933Z"
   },
   {
    "duration": 24,
    "start_time": "2022-09-12T04:28:58.948Z"
   },
   {
    "duration": 25,
    "start_time": "2022-09-12T04:29:20.701Z"
   },
   {
    "duration": 25,
    "start_time": "2022-09-12T04:29:28.629Z"
   },
   {
    "duration": 35,
    "start_time": "2022-09-12T04:36:03.846Z"
   },
   {
    "duration": 210,
    "start_time": "2022-09-12T04:43:02.124Z"
   },
   {
    "duration": 156,
    "start_time": "2022-09-12T04:44:56.786Z"
   },
   {
    "duration": 34,
    "start_time": "2022-09-12T04:45:25.740Z"
   },
   {
    "duration": 1087,
    "start_time": "2022-09-12T04:48:48.635Z"
   },
   {
    "duration": 155,
    "start_time": "2022-09-12T04:48:49.724Z"
   },
   {
    "duration": 4,
    "start_time": "2022-09-12T04:48:49.880Z"
   },
   {
    "duration": 19,
    "start_time": "2022-09-12T04:48:49.887Z"
   },
   {
    "duration": 8,
    "start_time": "2022-09-12T04:48:49.907Z"
   },
   {
    "duration": 98,
    "start_time": "2022-09-12T04:48:49.916Z"
   },
   {
    "duration": 18,
    "start_time": "2022-09-12T04:48:50.016Z"
   },
   {
    "duration": 15,
    "start_time": "2022-09-12T04:48:50.037Z"
   },
   {
    "duration": 53,
    "start_time": "2022-09-12T04:48:50.054Z"
   },
   {
    "duration": 240,
    "start_time": "2022-09-12T04:48:50.109Z"
   },
   {
    "duration": 33,
    "start_time": "2022-09-12T04:48:50.351Z"
   },
   {
    "duration": 201,
    "start_time": "2022-09-12T04:54:20.928Z"
   },
   {
    "duration": 49,
    "start_time": "2022-09-12T04:54:45.127Z"
   },
   {
    "duration": 185,
    "start_time": "2022-09-12T04:54:49.116Z"
   },
   {
    "duration": 1156,
    "start_time": "2022-09-12T04:55:12.647Z"
   },
   {
    "duration": 232,
    "start_time": "2022-09-12T04:55:13.806Z"
   },
   {
    "duration": 5,
    "start_time": "2022-09-12T04:55:14.041Z"
   },
   {
    "duration": 44,
    "start_time": "2022-09-12T04:55:14.049Z"
   },
   {
    "duration": 12,
    "start_time": "2022-09-12T04:55:14.095Z"
   },
   {
    "duration": 122,
    "start_time": "2022-09-12T04:55:14.110Z"
   },
   {
    "duration": 18,
    "start_time": "2022-09-12T04:55:14.234Z"
   },
   {
    "duration": 24,
    "start_time": "2022-09-12T04:55:14.254Z"
   },
   {
    "duration": 49,
    "start_time": "2022-09-12T04:55:14.281Z"
   },
   {
    "duration": 270,
    "start_time": "2022-09-12T04:55:14.332Z"
   },
   {
    "duration": 28,
    "start_time": "2022-09-12T04:55:14.604Z"
   },
   {
    "duration": 218,
    "start_time": "2022-09-12T04:55:28.336Z"
   },
   {
    "duration": 175,
    "start_time": "2022-09-12T04:59:49.425Z"
   },
   {
    "duration": 278,
    "start_time": "2022-09-12T05:00:55.632Z"
   },
   {
    "duration": 118,
    "start_time": "2022-09-12T05:01:22.786Z"
   },
   {
    "duration": 27,
    "start_time": "2022-09-12T05:01:53.743Z"
   },
   {
    "duration": 37,
    "start_time": "2022-09-12T05:02:41.202Z"
   },
   {
    "duration": 179,
    "start_time": "2022-09-12T05:03:25.493Z"
   },
   {
    "duration": 176,
    "start_time": "2022-09-12T05:03:37.807Z"
   },
   {
    "duration": 161,
    "start_time": "2022-09-12T05:11:51.591Z"
   },
   {
    "duration": 10,
    "start_time": "2022-09-12T05:12:02.885Z"
   },
   {
    "duration": 50,
    "start_time": "2022-09-12T05:30:29.951Z"
   },
   {
    "duration": 1158,
    "start_time": "2022-09-12T05:30:38.715Z"
   },
   {
    "duration": 540,
    "start_time": "2022-09-12T05:30:39.875Z"
   },
   {
    "duration": 4,
    "start_time": "2022-09-12T05:30:40.417Z"
   },
   {
    "duration": 26,
    "start_time": "2022-09-12T05:30:40.423Z"
   },
   {
    "duration": 8,
    "start_time": "2022-09-12T05:30:40.452Z"
   },
   {
    "duration": 102,
    "start_time": "2022-09-12T05:30:40.462Z"
   },
   {
    "duration": 22,
    "start_time": "2022-09-12T05:30:40.566Z"
   },
   {
    "duration": 21,
    "start_time": "2022-09-12T05:30:40.592Z"
   },
   {
    "duration": 33,
    "start_time": "2022-09-12T05:30:40.615Z"
   },
   {
    "duration": 2,
    "start_time": "2022-09-12T05:30:40.650Z"
   },
   {
    "duration": 379,
    "start_time": "2022-09-12T05:30:40.653Z"
   },
   {
    "duration": 0,
    "start_time": "2022-09-12T05:30:41.033Z"
   },
   {
    "duration": 274,
    "start_time": "2022-09-12T05:31:00.543Z"
   },
   {
    "duration": 253,
    "start_time": "2022-09-12T05:31:28.564Z"
   },
   {
    "duration": 148,
    "start_time": "2022-09-12T05:36:52.493Z"
   },
   {
    "duration": 176,
    "start_time": "2022-09-12T05:37:13.966Z"
   },
   {
    "duration": 26,
    "start_time": "2022-09-12T05:37:52.720Z"
   },
   {
    "duration": 1575,
    "start_time": "2022-09-12T08:07:24.840Z"
   },
   {
    "duration": 634,
    "start_time": "2022-09-12T08:07:26.418Z"
   },
   {
    "duration": 6,
    "start_time": "2022-09-12T08:07:27.054Z"
   },
   {
    "duration": 32,
    "start_time": "2022-09-12T08:07:27.062Z"
   },
   {
    "duration": 11,
    "start_time": "2022-09-12T08:07:27.098Z"
   },
   {
    "duration": 158,
    "start_time": "2022-09-12T08:07:27.111Z"
   },
   {
    "duration": 25,
    "start_time": "2022-09-12T08:07:27.272Z"
   },
   {
    "duration": 45,
    "start_time": "2022-09-12T08:07:27.301Z"
   },
   {
    "duration": 60,
    "start_time": "2022-09-12T08:07:27.350Z"
   },
   {
    "duration": 2,
    "start_time": "2022-09-12T08:07:27.412Z"
   },
   {
    "duration": 58,
    "start_time": "2022-09-12T08:07:27.416Z"
   },
   {
    "duration": 1278,
    "start_time": "2022-09-12T16:25:15.437Z"
   },
   {
    "duration": 528,
    "start_time": "2022-09-12T16:25:16.716Z"
   },
   {
    "duration": 4,
    "start_time": "2022-09-12T16:25:17.246Z"
   },
   {
    "duration": 51,
    "start_time": "2022-09-12T16:25:17.252Z"
   },
   {
    "duration": 10,
    "start_time": "2022-09-12T16:25:17.306Z"
   },
   {
    "duration": 106,
    "start_time": "2022-09-12T16:25:17.318Z"
   },
   {
    "duration": 26,
    "start_time": "2022-09-12T16:25:17.426Z"
   },
   {
    "duration": 16,
    "start_time": "2022-09-12T16:25:17.454Z"
   },
   {
    "duration": 41,
    "start_time": "2022-09-12T16:25:17.471Z"
   },
   {
    "duration": 23,
    "start_time": "2022-09-12T16:25:17.514Z"
   },
   {
    "duration": 33,
    "start_time": "2022-09-12T16:25:17.539Z"
   },
   {
    "duration": 399,
    "start_time": "2022-09-12T16:25:44.164Z"
   },
   {
    "duration": 283,
    "start_time": "2022-09-12T16:25:58.120Z"
   },
   {
    "duration": 287,
    "start_time": "2022-09-12T16:26:13.437Z"
   },
   {
    "duration": 279,
    "start_time": "2022-09-12T16:26:43.809Z"
   },
   {
    "duration": 381,
    "start_time": "2022-09-12T16:27:44.766Z"
   },
   {
    "duration": 266,
    "start_time": "2022-09-12T16:27:54.550Z"
   },
   {
    "duration": 31,
    "start_time": "2022-09-12T16:33:15.914Z"
   },
   {
    "duration": 27,
    "start_time": "2022-09-12T16:33:59.646Z"
   },
   {
    "duration": 34,
    "start_time": "2022-09-12T16:34:47.888Z"
   },
   {
    "duration": 25,
    "start_time": "2022-09-12T16:35:07.098Z"
   },
   {
    "duration": 254,
    "start_time": "2022-09-12T16:35:21.626Z"
   },
   {
    "duration": 18,
    "start_time": "2022-09-12T16:36:26.758Z"
   },
   {
    "duration": 7,
    "start_time": "2022-09-12T16:36:59.447Z"
   },
   {
    "duration": 12,
    "start_time": "2022-09-12T16:37:11.819Z"
   },
   {
    "duration": 8,
    "start_time": "2022-09-12T16:37:15.400Z"
   },
   {
    "duration": 8,
    "start_time": "2022-09-12T16:39:11.944Z"
   },
   {
    "duration": 5,
    "start_time": "2022-09-12T16:39:13.472Z"
   },
   {
    "duration": 18,
    "start_time": "2022-09-12T16:42:27.008Z"
   },
   {
    "duration": 11,
    "start_time": "2022-09-12T16:47:54.241Z"
   },
   {
    "duration": 12,
    "start_time": "2022-09-12T16:48:04.359Z"
   },
   {
    "duration": 7,
    "start_time": "2022-09-12T16:48:09.637Z"
   },
   {
    "duration": 6,
    "start_time": "2022-09-12T16:48:20.323Z"
   },
   {
    "duration": 5,
    "start_time": "2022-09-12T16:52:05.763Z"
   },
   {
    "duration": 3,
    "start_time": "2022-09-12T16:52:29.857Z"
   },
   {
    "duration": 58,
    "start_time": "2022-09-12T16:52:46.883Z"
   },
   {
    "duration": 5,
    "start_time": "2022-09-12T16:52:53.253Z"
   },
   {
    "duration": 27,
    "start_time": "2022-09-12T16:53:04.661Z"
   },
   {
    "duration": 9,
    "start_time": "2022-09-12T17:07:47.630Z"
   },
   {
    "duration": 26,
    "start_time": "2022-09-12T17:09:20.157Z"
   },
   {
    "duration": 35,
    "start_time": "2022-09-12T17:09:48.551Z"
   },
   {
    "duration": 53,
    "start_time": "2022-09-12T17:14:11.215Z"
   },
   {
    "duration": 11,
    "start_time": "2022-09-12T17:15:50.012Z"
   },
   {
    "duration": 56,
    "start_time": "2022-09-12T17:15:54.281Z"
   },
   {
    "duration": 10,
    "start_time": "2022-09-12T17:15:56.792Z"
   },
   {
    "duration": 10,
    "start_time": "2022-09-12T17:15:59.087Z"
   },
   {
    "duration": 6,
    "start_time": "2022-09-12T17:16:39.047Z"
   },
   {
    "duration": 57,
    "start_time": "2022-09-12T17:33:43.660Z"
   },
   {
    "duration": 50,
    "start_time": "2022-09-12T17:33:48.481Z"
   },
   {
    "duration": 52,
    "start_time": "2022-09-12T17:33:52.326Z"
   },
   {
    "duration": 260,
    "start_time": "2022-09-12T17:34:14.323Z"
   },
   {
    "duration": 7,
    "start_time": "2022-09-12T17:35:04.015Z"
   },
   {
    "duration": 14,
    "start_time": "2022-09-12T17:35:58.786Z"
   },
   {
    "duration": 1100,
    "start_time": "2022-09-12T17:36:31.485Z"
   },
   {
    "duration": 167,
    "start_time": "2022-09-12T17:36:32.587Z"
   },
   {
    "duration": 3,
    "start_time": "2022-09-12T17:36:32.756Z"
   },
   {
    "duration": 33,
    "start_time": "2022-09-12T17:36:32.761Z"
   },
   {
    "duration": 27,
    "start_time": "2022-09-12T17:36:32.796Z"
   },
   {
    "duration": 92,
    "start_time": "2022-09-12T17:36:32.824Z"
   },
   {
    "duration": 23,
    "start_time": "2022-09-12T17:36:32.918Z"
   },
   {
    "duration": 26,
    "start_time": "2022-09-12T17:36:32.942Z"
   },
   {
    "duration": 32,
    "start_time": "2022-09-12T17:36:32.970Z"
   },
   {
    "duration": 341,
    "start_time": "2022-09-12T17:36:33.004Z"
   },
   {
    "duration": 16,
    "start_time": "2022-09-12T17:36:33.346Z"
   },
   {
    "duration": 5,
    "start_time": "2022-09-12T17:36:33.363Z"
   },
   {
    "duration": 23,
    "start_time": "2022-09-12T17:36:33.370Z"
   },
   {
    "duration": 6,
    "start_time": "2022-09-12T17:36:33.395Z"
   },
   {
    "duration": 59,
    "start_time": "2022-09-12T17:36:33.403Z"
   },
   {
    "duration": 76,
    "start_time": "2022-09-12T17:36:33.464Z"
   },
   {
    "duration": 28,
    "start_time": "2022-09-12T17:36:33.542Z"
   },
   {
    "duration": 1139,
    "start_time": "2022-09-12T17:38:33.515Z"
   },
   {
    "duration": 165,
    "start_time": "2022-09-12T17:38:34.655Z"
   },
   {
    "duration": 7,
    "start_time": "2022-09-12T17:38:34.825Z"
   },
   {
    "duration": 36,
    "start_time": "2022-09-12T17:38:34.836Z"
   },
   {
    "duration": 16,
    "start_time": "2022-09-12T17:38:34.874Z"
   },
   {
    "duration": 97,
    "start_time": "2022-09-12T17:38:34.892Z"
   },
   {
    "duration": 20,
    "start_time": "2022-09-12T17:38:34.991Z"
   },
   {
    "duration": 33,
    "start_time": "2022-09-12T17:38:35.013Z"
   },
   {
    "duration": 56,
    "start_time": "2022-09-12T17:38:35.047Z"
   },
   {
    "duration": 353,
    "start_time": "2022-09-12T17:38:35.105Z"
   },
   {
    "duration": 15,
    "start_time": "2022-09-12T17:38:35.460Z"
   },
   {
    "duration": 13,
    "start_time": "2022-09-12T17:38:35.477Z"
   },
   {
    "duration": 38,
    "start_time": "2022-09-12T17:38:35.492Z"
   },
   {
    "duration": 18,
    "start_time": "2022-09-12T17:38:35.532Z"
   },
   {
    "duration": 42,
    "start_time": "2022-09-12T17:38:35.552Z"
   },
   {
    "duration": 50,
    "start_time": "2022-09-12T17:38:35.596Z"
   },
   {
    "duration": 23,
    "start_time": "2022-09-12T17:38:35.648Z"
   },
   {
    "duration": 1307,
    "start_time": "2022-09-13T04:19:57.329Z"
   },
   {
    "duration": 679,
    "start_time": "2022-09-13T04:19:58.639Z"
   },
   {
    "duration": 3,
    "start_time": "2022-09-13T04:19:59.320Z"
   },
   {
    "duration": 21,
    "start_time": "2022-09-13T04:19:59.325Z"
   },
   {
    "duration": 8,
    "start_time": "2022-09-13T04:19:59.348Z"
   },
   {
    "duration": 85,
    "start_time": "2022-09-13T04:19:59.357Z"
   },
   {
    "duration": 18,
    "start_time": "2022-09-13T04:19:59.444Z"
   },
   {
    "duration": 13,
    "start_time": "2022-09-13T04:19:59.463Z"
   },
   {
    "duration": 38,
    "start_time": "2022-09-13T04:19:59.478Z"
   },
   {
    "duration": 370,
    "start_time": "2022-09-13T04:19:59.518Z"
   },
   {
    "duration": 19,
    "start_time": "2022-09-13T04:19:59.890Z"
   },
   {
    "duration": 5,
    "start_time": "2022-09-13T04:19:59.910Z"
   },
   {
    "duration": 21,
    "start_time": "2022-09-13T04:19:59.917Z"
   },
   {
    "duration": 5,
    "start_time": "2022-09-13T04:19:59.941Z"
   },
   {
    "duration": 53,
    "start_time": "2022-09-13T04:19:59.947Z"
   },
   {
    "duration": 58,
    "start_time": "2022-09-13T04:20:00.002Z"
   },
   {
    "duration": 44,
    "start_time": "2022-09-13T04:20:00.062Z"
   },
   {
    "duration": 4,
    "start_time": "2022-09-13T04:25:17.605Z"
   },
   {
    "duration": 7,
    "start_time": "2022-09-13T04:25:27.407Z"
   },
   {
    "duration": 12,
    "start_time": "2022-09-13T04:28:40.381Z"
   },
   {
    "duration": 10,
    "start_time": "2022-09-13T04:28:56.706Z"
   },
   {
    "duration": 9,
    "start_time": "2022-09-13T04:29:13.489Z"
   },
   {
    "duration": 9,
    "start_time": "2022-09-13T04:30:12.209Z"
   },
   {
    "duration": 95,
    "start_time": "2022-09-13T04:30:34.393Z"
   },
   {
    "duration": 15,
    "start_time": "2022-09-13T04:32:18.025Z"
   },
   {
    "duration": 11,
    "start_time": "2022-09-13T04:32:27.466Z"
   },
   {
    "duration": 6,
    "start_time": "2022-09-13T04:43:03.797Z"
   },
   {
    "duration": 7,
    "start_time": "2022-09-13T04:43:07.714Z"
   },
   {
    "duration": 11,
    "start_time": "2022-09-13T04:43:11.537Z"
   },
   {
    "duration": 54,
    "start_time": "2022-09-13T04:53:04.269Z"
   },
   {
    "duration": 12,
    "start_time": "2022-09-13T04:55:42.253Z"
   },
   {
    "duration": 11,
    "start_time": "2022-09-13T04:55:51.866Z"
   },
   {
    "duration": 100,
    "start_time": "2022-09-13T04:59:14.697Z"
   },
   {
    "duration": 4,
    "start_time": "2022-09-13T04:59:26.199Z"
   },
   {
    "duration": 1086,
    "start_time": "2022-09-13T05:01:50.952Z"
   },
   {
    "duration": 159,
    "start_time": "2022-09-13T05:01:52.041Z"
   },
   {
    "duration": 3,
    "start_time": "2022-09-13T05:01:52.202Z"
   },
   {
    "duration": 24,
    "start_time": "2022-09-13T05:01:52.207Z"
   },
   {
    "duration": 8,
    "start_time": "2022-09-13T05:01:52.232Z"
   },
   {
    "duration": 98,
    "start_time": "2022-09-13T05:01:52.242Z"
   },
   {
    "duration": 18,
    "start_time": "2022-09-13T05:01:52.342Z"
   },
   {
    "duration": 13,
    "start_time": "2022-09-13T05:01:52.361Z"
   },
   {
    "duration": 25,
    "start_time": "2022-09-13T05:01:52.394Z"
   },
   {
    "duration": 367,
    "start_time": "2022-09-13T05:01:52.421Z"
   },
   {
    "duration": 18,
    "start_time": "2022-09-13T05:01:52.790Z"
   },
   {
    "duration": 5,
    "start_time": "2022-09-13T05:01:52.810Z"
   },
   {
    "duration": 32,
    "start_time": "2022-09-13T05:01:52.817Z"
   },
   {
    "duration": 6,
    "start_time": "2022-09-13T05:01:52.852Z"
   },
   {
    "duration": 49,
    "start_time": "2022-09-13T05:01:52.860Z"
   },
   {
    "duration": 64,
    "start_time": "2022-09-13T05:01:52.911Z"
   },
   {
    "duration": 27,
    "start_time": "2022-09-13T05:01:52.976Z"
   },
   {
    "duration": 53,
    "start_time": "2022-09-13T05:01:53.005Z"
   },
   {
    "duration": 11,
    "start_time": "2022-09-13T05:01:53.060Z"
   },
   {
    "duration": 5,
    "start_time": "2022-09-13T05:01:53.094Z"
   },
   {
    "duration": 13,
    "start_time": "2022-09-13T05:10:00.074Z"
   },
   {
    "duration": 34,
    "start_time": "2022-09-13T05:10:43.473Z"
   },
   {
    "duration": 35,
    "start_time": "2022-09-13T05:10:53.956Z"
   },
   {
    "duration": 9,
    "start_time": "2022-09-13T05:11:01.035Z"
   },
   {
    "duration": 1338,
    "start_time": "2022-09-14T04:24:13.182Z"
   },
   {
    "duration": 743,
    "start_time": "2022-09-14T04:24:14.522Z"
   },
   {
    "duration": 4,
    "start_time": "2022-09-14T04:24:15.266Z"
   },
   {
    "duration": 21,
    "start_time": "2022-09-14T04:24:15.272Z"
   },
   {
    "duration": 8,
    "start_time": "2022-09-14T04:24:15.296Z"
   },
   {
    "duration": 96,
    "start_time": "2022-09-14T04:24:15.305Z"
   },
   {
    "duration": 19,
    "start_time": "2022-09-14T04:24:15.403Z"
   },
   {
    "duration": 14,
    "start_time": "2022-09-14T04:24:15.424Z"
   },
   {
    "duration": 25,
    "start_time": "2022-09-14T04:24:15.441Z"
   },
   {
    "duration": 378,
    "start_time": "2022-09-14T04:24:15.495Z"
   },
   {
    "duration": 23,
    "start_time": "2022-09-14T04:24:15.875Z"
   },
   {
    "duration": 5,
    "start_time": "2022-09-14T04:24:15.900Z"
   },
   {
    "duration": 22,
    "start_time": "2022-09-14T04:24:15.906Z"
   },
   {
    "duration": 5,
    "start_time": "2022-09-14T04:24:15.931Z"
   },
   {
    "duration": 28,
    "start_time": "2022-09-14T04:24:15.937Z"
   },
   {
    "duration": 83,
    "start_time": "2022-09-14T04:24:15.967Z"
   },
   {
    "duration": 13,
    "start_time": "2022-09-14T04:24:16.052Z"
   },
   {
    "duration": 76,
    "start_time": "2022-09-14T04:24:16.067Z"
   },
   {
    "duration": 12,
    "start_time": "2022-09-14T04:24:16.145Z"
   },
   {
    "duration": 5,
    "start_time": "2022-09-14T04:24:16.158Z"
   },
   {
    "duration": 59,
    "start_time": "2022-09-14T04:24:16.164Z"
   },
   {
    "duration": 57,
    "start_time": "2022-09-14T04:56:00.780Z"
   },
   {
    "duration": 49,
    "start_time": "2022-09-14T04:56:05.335Z"
   },
   {
    "duration": 68,
    "start_time": "2022-09-14T04:58:01.038Z"
   },
   {
    "duration": 63,
    "start_time": "2022-09-14T04:58:06.402Z"
   },
   {
    "duration": 52,
    "start_time": "2022-09-14T04:58:24.475Z"
   },
   {
    "duration": 147,
    "start_time": "2022-09-14T04:58:53.536Z"
   },
   {
    "duration": 53,
    "start_time": "2022-09-14T04:59:05.248Z"
   },
   {
    "duration": 54,
    "start_time": "2022-09-14T04:59:13.561Z"
   },
   {
    "duration": 54,
    "start_time": "2022-09-14T04:59:21.442Z"
   },
   {
    "duration": 53,
    "start_time": "2022-09-14T04:59:29.314Z"
   },
   {
    "duration": 202,
    "start_time": "2022-09-14T05:10:02.839Z"
   },
   {
    "duration": 51,
    "start_time": "2022-09-14T05:10:16.202Z"
   },
   {
    "duration": 53,
    "start_time": "2022-09-14T05:15:07.402Z"
   },
   {
    "duration": 50,
    "start_time": "2022-09-14T05:16:02.077Z"
   },
   {
    "duration": 43,
    "start_time": "2022-09-14T05:16:08.961Z"
   },
   {
    "duration": 8,
    "start_time": "2022-09-14T05:16:16.042Z"
   },
   {
    "duration": 51,
    "start_time": "2022-09-14T05:17:39.733Z"
   },
   {
    "duration": 66,
    "start_time": "2022-09-14T05:18:11.729Z"
   },
   {
    "duration": 47,
    "start_time": "2022-09-14T05:18:17.749Z"
   },
   {
    "duration": 58,
    "start_time": "2022-09-14T05:21:22.704Z"
   },
   {
    "duration": 1348,
    "start_time": "2022-09-14T19:32:15.742Z"
   },
   {
    "duration": 730,
    "start_time": "2022-09-14T19:32:17.092Z"
   },
   {
    "duration": 5,
    "start_time": "2022-09-14T19:32:17.823Z"
   },
   {
    "duration": 23,
    "start_time": "2022-09-14T19:32:17.832Z"
   },
   {
    "duration": 9,
    "start_time": "2022-09-14T19:32:17.857Z"
   },
   {
    "duration": 105,
    "start_time": "2022-09-14T19:32:17.868Z"
   },
   {
    "duration": 28,
    "start_time": "2022-09-14T19:32:17.975Z"
   },
   {
    "duration": 18,
    "start_time": "2022-09-14T19:32:18.004Z"
   },
   {
    "duration": 31,
    "start_time": "2022-09-14T19:32:18.024Z"
   },
   {
    "duration": 425,
    "start_time": "2022-09-14T19:32:18.056Z"
   },
   {
    "duration": 24,
    "start_time": "2022-09-14T19:32:18.483Z"
   },
   {
    "duration": 5,
    "start_time": "2022-09-14T19:32:18.508Z"
   },
   {
    "duration": 20,
    "start_time": "2022-09-14T19:32:18.516Z"
   },
   {
    "duration": 4,
    "start_time": "2022-09-14T19:32:18.538Z"
   },
   {
    "duration": 52,
    "start_time": "2022-09-14T19:32:18.544Z"
   },
   {
    "duration": 54,
    "start_time": "2022-09-14T19:32:18.598Z"
   },
   {
    "duration": 12,
    "start_time": "2022-09-14T19:32:18.653Z"
   },
   {
    "duration": 72,
    "start_time": "2022-09-14T19:32:18.666Z"
   },
   {
    "duration": 12,
    "start_time": "2022-09-14T19:32:18.740Z"
   },
   {
    "duration": 4,
    "start_time": "2022-09-14T19:32:18.754Z"
   },
   {
    "duration": 61,
    "start_time": "2022-09-14T19:32:18.759Z"
   },
   {
    "duration": 62,
    "start_time": "2022-09-14T19:32:18.822Z"
   },
   {
    "duration": 1345,
    "start_time": "2022-09-15T04:20:07.560Z"
   },
   {
    "duration": 537,
    "start_time": "2022-09-15T04:20:08.908Z"
   },
   {
    "duration": 5,
    "start_time": "2022-09-15T04:20:09.446Z"
   },
   {
    "duration": 25,
    "start_time": "2022-09-15T04:20:09.453Z"
   },
   {
    "duration": 8,
    "start_time": "2022-09-15T04:20:09.480Z"
   },
   {
    "duration": 129,
    "start_time": "2022-09-15T04:20:09.489Z"
   },
   {
    "duration": 32,
    "start_time": "2022-09-15T04:20:09.620Z"
   },
   {
    "duration": 17,
    "start_time": "2022-09-15T04:20:09.654Z"
   },
   {
    "duration": 34,
    "start_time": "2022-09-15T04:20:09.673Z"
   },
   {
    "duration": 495,
    "start_time": "2022-09-15T04:20:09.710Z"
   },
   {
    "duration": 17,
    "start_time": "2022-09-15T04:20:10.207Z"
   },
   {
    "duration": 22,
    "start_time": "2022-09-15T04:20:10.226Z"
   },
   {
    "duration": 22,
    "start_time": "2022-09-15T04:20:10.250Z"
   },
   {
    "duration": 5,
    "start_time": "2022-09-15T04:20:10.274Z"
   },
   {
    "duration": 35,
    "start_time": "2022-09-15T04:20:10.281Z"
   },
   {
    "duration": 75,
    "start_time": "2022-09-15T04:20:10.318Z"
   },
   {
    "duration": 11,
    "start_time": "2022-09-15T04:20:10.395Z"
   },
   {
    "duration": 62,
    "start_time": "2022-09-15T04:20:10.407Z"
   },
   {
    "duration": 10,
    "start_time": "2022-09-15T04:20:10.471Z"
   },
   {
    "duration": 4,
    "start_time": "2022-09-15T04:20:10.483Z"
   },
   {
    "duration": 34,
    "start_time": "2022-09-15T04:20:10.488Z"
   },
   {
    "duration": 71,
    "start_time": "2022-09-15T04:20:10.523Z"
   },
   {
    "duration": 1105,
    "start_time": "2022-09-15T04:22:14.855Z"
   },
   {
    "duration": 169,
    "start_time": "2022-09-15T04:22:15.962Z"
   },
   {
    "duration": 4,
    "start_time": "2022-09-15T04:22:16.133Z"
   },
   {
    "duration": 25,
    "start_time": "2022-09-15T04:22:16.138Z"
   },
   {
    "duration": 7,
    "start_time": "2022-09-15T04:22:16.165Z"
   },
   {
    "duration": 96,
    "start_time": "2022-09-15T04:22:16.174Z"
   },
   {
    "duration": 21,
    "start_time": "2022-09-15T04:22:16.271Z"
   },
   {
    "duration": 28,
    "start_time": "2022-09-15T04:22:16.294Z"
   },
   {
    "duration": 52,
    "start_time": "2022-09-15T04:22:16.324Z"
   },
   {
    "duration": 363,
    "start_time": "2022-09-15T04:22:16.379Z"
   },
   {
    "duration": 16,
    "start_time": "2022-09-15T04:22:16.743Z"
   },
   {
    "duration": 4,
    "start_time": "2022-09-15T04:22:16.760Z"
   },
   {
    "duration": 31,
    "start_time": "2022-09-15T04:22:16.766Z"
   },
   {
    "duration": 4,
    "start_time": "2022-09-15T04:22:16.799Z"
   },
   {
    "duration": 42,
    "start_time": "2022-09-15T04:22:16.805Z"
   },
   {
    "duration": 53,
    "start_time": "2022-09-15T04:22:16.849Z"
   },
   {
    "duration": 12,
    "start_time": "2022-09-15T04:22:16.904Z"
   },
   {
    "duration": 67,
    "start_time": "2022-09-15T04:22:16.917Z"
   },
   {
    "duration": 9,
    "start_time": "2022-09-15T04:22:16.986Z"
   },
   {
    "duration": 7,
    "start_time": "2022-09-15T04:22:16.997Z"
   },
   {
    "duration": 49,
    "start_time": "2022-09-15T04:22:17.005Z"
   },
   {
    "duration": 54,
    "start_time": "2022-09-15T04:22:17.056Z"
   },
   {
    "duration": 3,
    "start_time": "2022-09-15T04:23:50.749Z"
   },
   {
    "duration": 6,
    "start_time": "2022-09-15T04:24:30.795Z"
   },
   {
    "duration": 3,
    "start_time": "2022-09-15T04:28:25.537Z"
   },
   {
    "duration": 3,
    "start_time": "2022-09-15T04:28:37.643Z"
   },
   {
    "duration": 98,
    "start_time": "2022-09-15T04:32:12.708Z"
   },
   {
    "duration": 12,
    "start_time": "2022-09-15T04:32:20.594Z"
   },
   {
    "duration": 2,
    "start_time": "2022-09-15T04:32:31.225Z"
   },
   {
    "duration": 3,
    "start_time": "2022-09-15T04:32:34.908Z"
   },
   {
    "duration": 4,
    "start_time": "2022-09-15T04:34:17.086Z"
   },
   {
    "duration": 4,
    "start_time": "2022-09-15T04:35:59.639Z"
   },
   {
    "duration": 4,
    "start_time": "2022-09-15T04:36:10.679Z"
   },
   {
    "duration": 46,
    "start_time": "2022-09-15T04:41:35.580Z"
   },
   {
    "duration": 48,
    "start_time": "2022-09-15T04:41:41.355Z"
   },
   {
    "duration": 11,
    "start_time": "2022-09-15T04:41:52.240Z"
   },
   {
    "duration": 5,
    "start_time": "2022-09-15T04:42:50.560Z"
   },
   {
    "duration": 5,
    "start_time": "2022-09-15T04:43:24.217Z"
   },
   {
    "duration": 4,
    "start_time": "2022-09-15T04:43:38.146Z"
   },
   {
    "duration": 5,
    "start_time": "2022-09-15T04:44:08.191Z"
   },
   {
    "duration": 6,
    "start_time": "2022-09-15T04:46:55.978Z"
   },
   {
    "duration": 8,
    "start_time": "2022-09-15T04:48:21.757Z"
   },
   {
    "duration": 8,
    "start_time": "2022-09-15T04:54:24.433Z"
   },
   {
    "duration": 9,
    "start_time": "2022-09-15T04:54:43.495Z"
   },
   {
    "duration": 10,
    "start_time": "2022-09-15T04:55:08.887Z"
   },
   {
    "duration": 8,
    "start_time": "2022-09-15T04:55:46.469Z"
   },
   {
    "duration": 1057,
    "start_time": "2022-09-15T04:59:02.306Z"
   },
   {
    "duration": 169,
    "start_time": "2022-09-15T04:59:03.365Z"
   },
   {
    "duration": 4,
    "start_time": "2022-09-15T04:59:03.535Z"
   },
   {
    "duration": 20,
    "start_time": "2022-09-15T04:59:03.546Z"
   },
   {
    "duration": 8,
    "start_time": "2022-09-15T04:59:03.567Z"
   },
   {
    "duration": 103,
    "start_time": "2022-09-15T04:59:03.576Z"
   },
   {
    "duration": 19,
    "start_time": "2022-09-15T04:59:03.681Z"
   },
   {
    "duration": 20,
    "start_time": "2022-09-15T04:59:03.701Z"
   },
   {
    "duration": 42,
    "start_time": "2022-09-15T04:59:03.723Z"
   },
   {
    "duration": 360,
    "start_time": "2022-09-15T04:59:03.768Z"
   },
   {
    "duration": 20,
    "start_time": "2022-09-15T04:59:04.129Z"
   },
   {
    "duration": 5,
    "start_time": "2022-09-15T04:59:04.150Z"
   },
   {
    "duration": 23,
    "start_time": "2022-09-15T04:59:04.157Z"
   },
   {
    "duration": 5,
    "start_time": "2022-09-15T04:59:04.182Z"
   },
   {
    "duration": 27,
    "start_time": "2022-09-15T04:59:04.188Z"
   },
   {
    "duration": 80,
    "start_time": "2022-09-15T04:59:04.217Z"
   },
   {
    "duration": 13,
    "start_time": "2022-09-15T04:59:04.299Z"
   },
   {
    "duration": 71,
    "start_time": "2022-09-15T04:59:04.314Z"
   },
   {
    "duration": 10,
    "start_time": "2022-09-15T04:59:04.386Z"
   },
   {
    "duration": 4,
    "start_time": "2022-09-15T04:59:04.398Z"
   },
   {
    "duration": 51,
    "start_time": "2022-09-15T04:59:04.403Z"
   },
   {
    "duration": 56,
    "start_time": "2022-09-15T04:59:04.456Z"
   },
   {
    "duration": 5,
    "start_time": "2022-09-15T04:59:04.513Z"
   },
   {
    "duration": 27,
    "start_time": "2022-09-15T04:59:04.520Z"
   },
   {
    "duration": 13,
    "start_time": "2022-09-15T04:59:04.548Z"
   },
   {
    "duration": 1424,
    "start_time": "2022-09-15T19:06:52.536Z"
   },
   {
    "duration": 533,
    "start_time": "2022-09-15T19:06:53.962Z"
   },
   {
    "duration": 5,
    "start_time": "2022-09-15T19:06:54.496Z"
   },
   {
    "duration": 25,
    "start_time": "2022-09-15T19:06:54.502Z"
   },
   {
    "duration": 9,
    "start_time": "2022-09-15T19:06:54.529Z"
   },
   {
    "duration": 102,
    "start_time": "2022-09-15T19:06:54.541Z"
   },
   {
    "duration": 20,
    "start_time": "2022-09-15T19:06:54.644Z"
   },
   {
    "duration": 14,
    "start_time": "2022-09-15T19:06:54.666Z"
   },
   {
    "duration": 50,
    "start_time": "2022-09-15T19:06:54.682Z"
   },
   {
    "duration": 405,
    "start_time": "2022-09-15T19:06:54.734Z"
   },
   {
    "duration": 16,
    "start_time": "2022-09-15T19:06:55.141Z"
   },
   {
    "duration": 5,
    "start_time": "2022-09-15T19:06:55.159Z"
   },
   {
    "duration": 25,
    "start_time": "2022-09-15T19:06:55.165Z"
   },
   {
    "duration": 28,
    "start_time": "2022-09-15T19:06:55.193Z"
   },
   {
    "duration": 29,
    "start_time": "2022-09-15T19:06:55.224Z"
   },
   {
    "duration": 71,
    "start_time": "2022-09-15T19:06:55.255Z"
   },
   {
    "duration": 12,
    "start_time": "2022-09-15T19:06:55.328Z"
   },
   {
    "duration": 59,
    "start_time": "2022-09-15T19:06:55.342Z"
   },
   {
    "duration": 25,
    "start_time": "2022-09-15T19:06:55.403Z"
   },
   {
    "duration": 5,
    "start_time": "2022-09-15T19:06:55.429Z"
   },
   {
    "duration": 42,
    "start_time": "2022-09-15T19:06:55.435Z"
   },
   {
    "duration": 80,
    "start_time": "2022-09-15T19:06:55.479Z"
   },
   {
    "duration": 4,
    "start_time": "2022-09-15T19:06:55.561Z"
   },
   {
    "duration": 8,
    "start_time": "2022-09-15T19:06:55.566Z"
   },
   {
    "duration": 18,
    "start_time": "2022-09-15T19:06:55.575Z"
   },
   {
    "duration": 1302,
    "start_time": "2022-09-17T04:35:32.851Z"
   },
   {
    "duration": 646,
    "start_time": "2022-09-17T04:35:34.155Z"
   },
   {
    "duration": 3,
    "start_time": "2022-09-17T04:35:34.803Z"
   },
   {
    "duration": 29,
    "start_time": "2022-09-17T04:35:34.808Z"
   },
   {
    "duration": 8,
    "start_time": "2022-09-17T04:35:34.839Z"
   },
   {
    "duration": 90,
    "start_time": "2022-09-17T04:35:34.848Z"
   },
   {
    "duration": 19,
    "start_time": "2022-09-17T04:35:34.940Z"
   },
   {
    "duration": 14,
    "start_time": "2022-09-17T04:35:34.961Z"
   },
   {
    "duration": 28,
    "start_time": "2022-09-17T04:35:34.976Z"
   },
   {
    "duration": 388,
    "start_time": "2022-09-17T04:35:35.006Z"
   },
   {
    "duration": 16,
    "start_time": "2022-09-17T04:35:35.396Z"
   },
   {
    "duration": 17,
    "start_time": "2022-09-17T04:35:35.413Z"
   },
   {
    "duration": 26,
    "start_time": "2022-09-17T04:35:35.432Z"
   },
   {
    "duration": 5,
    "start_time": "2022-09-17T04:35:35.461Z"
   },
   {
    "duration": 29,
    "start_time": "2022-09-17T04:35:35.467Z"
   },
   {
    "duration": 71,
    "start_time": "2022-09-17T04:35:35.497Z"
   },
   {
    "duration": 15,
    "start_time": "2022-09-17T04:35:35.570Z"
   },
   {
    "duration": 72,
    "start_time": "2022-09-17T04:35:35.587Z"
   },
   {
    "duration": 11,
    "start_time": "2022-09-17T04:35:35.660Z"
   },
   {
    "duration": 5,
    "start_time": "2022-09-17T04:35:35.672Z"
   },
   {
    "duration": 39,
    "start_time": "2022-09-17T04:35:35.679Z"
   },
   {
    "duration": 81,
    "start_time": "2022-09-17T04:35:35.719Z"
   },
   {
    "duration": 4,
    "start_time": "2022-09-17T04:35:35.802Z"
   },
   {
    "duration": 13,
    "start_time": "2022-09-17T04:35:35.807Z"
   },
   {
    "duration": 26,
    "start_time": "2022-09-17T04:35:35.822Z"
   },
   {
    "duration": 55,
    "start_time": "2022-09-17T04:41:49.819Z"
   },
   {
    "duration": 40,
    "start_time": "2022-09-17T04:42:31.998Z"
   },
   {
    "duration": 27,
    "start_time": "2022-09-17T04:47:55.178Z"
   },
   {
    "duration": 102,
    "start_time": "2022-09-17T04:48:13.499Z"
   },
   {
    "duration": 30,
    "start_time": "2022-09-17T04:48:23.252Z"
   },
   {
    "duration": 856,
    "start_time": "2022-09-17T04:49:54.717Z"
   },
   {
    "duration": 930,
    "start_time": "2022-09-17T04:50:05.759Z"
   },
   {
    "duration": 49,
    "start_time": "2022-09-17T04:50:21.198Z"
   },
   {
    "duration": 48,
    "start_time": "2022-09-17T04:50:52.431Z"
   },
   {
    "duration": 6,
    "start_time": "2022-09-17T04:51:39.456Z"
   },
   {
    "duration": 1326,
    "start_time": "2022-09-17T04:51:49.852Z"
   },
   {
    "duration": 6,
    "start_time": "2022-09-17T04:51:57.735Z"
   },
   {
    "duration": 4,
    "start_time": "2022-09-17T04:52:40.377Z"
   },
   {
    "duration": 47,
    "start_time": "2022-09-17T04:53:08.675Z"
   },
   {
    "duration": 49,
    "start_time": "2022-09-17T04:53:14.511Z"
   },
   {
    "duration": 34,
    "start_time": "2022-09-17T04:56:08.154Z"
   },
   {
    "duration": 3,
    "start_time": "2022-09-17T04:56:45.853Z"
   },
   {
    "duration": 5,
    "start_time": "2022-09-17T04:57:39.092Z"
   },
   {
    "duration": 5,
    "start_time": "2022-09-17T04:57:55.917Z"
   },
   {
    "duration": 4,
    "start_time": "2022-09-17T04:58:04.118Z"
   },
   {
    "duration": 3,
    "start_time": "2022-09-17T04:59:43.706Z"
   },
   {
    "duration": 49,
    "start_time": "2022-09-17T04:59:51.213Z"
   },
   {
    "duration": 67,
    "start_time": "2022-09-17T05:01:01.501Z"
   },
   {
    "duration": 49,
    "start_time": "2022-09-17T05:01:07.666Z"
   },
   {
    "duration": 4,
    "start_time": "2022-09-17T05:02:26.148Z"
   },
   {
    "duration": 5,
    "start_time": "2022-09-17T05:02:57.972Z"
   },
   {
    "duration": 214,
    "start_time": "2022-09-17T05:05:03.188Z"
   },
   {
    "duration": 8,
    "start_time": "2022-09-17T05:08:07.283Z"
   },
   {
    "duration": 5,
    "start_time": "2022-09-17T05:09:18.004Z"
   },
   {
    "duration": 6,
    "start_time": "2022-09-17T05:09:21.763Z"
   },
   {
    "duration": 8,
    "start_time": "2022-09-17T05:09:25.007Z"
   },
   {
    "duration": 1131,
    "start_time": "2022-09-17T05:10:05.598Z"
   },
   {
    "duration": 164,
    "start_time": "2022-09-17T05:10:06.731Z"
   },
   {
    "duration": 4,
    "start_time": "2022-09-17T05:10:06.897Z"
   },
   {
    "duration": 24,
    "start_time": "2022-09-17T05:10:06.902Z"
   },
   {
    "duration": 23,
    "start_time": "2022-09-17T05:10:06.928Z"
   },
   {
    "duration": 99,
    "start_time": "2022-09-17T05:10:06.953Z"
   },
   {
    "duration": 20,
    "start_time": "2022-09-17T05:10:07.053Z"
   },
   {
    "duration": 16,
    "start_time": "2022-09-17T05:10:07.074Z"
   },
   {
    "duration": 56,
    "start_time": "2022-09-17T05:10:07.091Z"
   },
   {
    "duration": 379,
    "start_time": "2022-09-17T05:10:07.149Z"
   },
   {
    "duration": 22,
    "start_time": "2022-09-17T05:10:07.531Z"
   },
   {
    "duration": 6,
    "start_time": "2022-09-17T05:10:07.555Z"
   },
   {
    "duration": 25,
    "start_time": "2022-09-17T05:10:07.562Z"
   },
   {
    "duration": 5,
    "start_time": "2022-09-17T05:10:07.591Z"
   },
   {
    "duration": 48,
    "start_time": "2022-09-17T05:10:07.599Z"
   },
   {
    "duration": 56,
    "start_time": "2022-09-17T05:10:07.649Z"
   },
   {
    "duration": 12,
    "start_time": "2022-09-17T05:10:07.706Z"
   },
   {
    "duration": 72,
    "start_time": "2022-09-17T05:10:07.720Z"
   },
   {
    "duration": 10,
    "start_time": "2022-09-17T05:10:07.793Z"
   },
   {
    "duration": 27,
    "start_time": "2022-09-17T05:10:07.805Z"
   },
   {
    "duration": 34,
    "start_time": "2022-09-17T05:10:07.833Z"
   },
   {
    "duration": 58,
    "start_time": "2022-09-17T05:10:07.869Z"
   },
   {
    "duration": 4,
    "start_time": "2022-09-17T05:10:07.929Z"
   },
   {
    "duration": 17,
    "start_time": "2022-09-17T05:10:07.934Z"
   },
   {
    "duration": 9,
    "start_time": "2022-09-17T05:10:07.953Z"
   },
   {
    "duration": 8,
    "start_time": "2022-09-17T05:10:07.964Z"
   },
   {
    "duration": 6,
    "start_time": "2022-09-17T05:10:07.974Z"
   },
   {
    "duration": 40,
    "start_time": "2022-09-17T05:10:07.982Z"
   },
   {
    "duration": 88,
    "start_time": "2022-09-17T05:12:01.739Z"
   },
   {
    "duration": 166,
    "start_time": "2022-09-17T05:12:34.461Z"
   },
   {
    "duration": 90,
    "start_time": "2022-09-17T05:12:46.370Z"
   },
   {
    "duration": 4,
    "start_time": "2022-09-17T05:29:26.185Z"
   },
   {
    "duration": 5,
    "start_time": "2022-09-17T05:54:20.620Z"
   },
   {
    "duration": 8,
    "start_time": "2022-09-17T05:54:21.274Z"
   },
   {
    "duration": 5,
    "start_time": "2022-09-17T05:54:43.809Z"
   },
   {
    "duration": 5,
    "start_time": "2022-09-17T05:54:56.804Z"
   },
   {
    "duration": 4,
    "start_time": "2022-09-17T05:55:30.743Z"
   },
   {
    "duration": 1067,
    "start_time": "2022-09-17T05:56:12.196Z"
   },
   {
    "duration": 185,
    "start_time": "2022-09-17T05:56:13.265Z"
   },
   {
    "duration": 4,
    "start_time": "2022-09-17T05:56:13.452Z"
   },
   {
    "duration": 25,
    "start_time": "2022-09-17T05:56:13.458Z"
   },
   {
    "duration": 9,
    "start_time": "2022-09-17T05:56:13.485Z"
   },
   {
    "duration": 115,
    "start_time": "2022-09-17T05:56:13.496Z"
   },
   {
    "duration": 20,
    "start_time": "2022-09-17T05:56:13.613Z"
   },
   {
    "duration": 25,
    "start_time": "2022-09-17T05:56:13.635Z"
   },
   {
    "duration": 31,
    "start_time": "2022-09-17T05:56:13.662Z"
   },
   {
    "duration": 380,
    "start_time": "2022-09-17T05:56:13.696Z"
   },
   {
    "duration": 15,
    "start_time": "2022-09-17T05:56:14.078Z"
   },
   {
    "duration": 5,
    "start_time": "2022-09-17T05:56:14.094Z"
   },
   {
    "duration": 21,
    "start_time": "2022-09-17T05:56:14.101Z"
   },
   {
    "duration": 23,
    "start_time": "2022-09-17T05:56:14.124Z"
   },
   {
    "duration": 28,
    "start_time": "2022-09-17T05:56:14.149Z"
   },
   {
    "duration": 80,
    "start_time": "2022-09-17T05:56:14.179Z"
   },
   {
    "duration": 12,
    "start_time": "2022-09-17T05:56:14.261Z"
   },
   {
    "duration": 73,
    "start_time": "2022-09-17T05:56:14.274Z"
   },
   {
    "duration": 12,
    "start_time": "2022-09-17T05:56:14.348Z"
   },
   {
    "duration": 5,
    "start_time": "2022-09-17T05:56:14.362Z"
   },
   {
    "duration": 43,
    "start_time": "2022-09-17T05:56:14.368Z"
   },
   {
    "duration": 109,
    "start_time": "2022-09-17T05:56:14.413Z"
   },
   {
    "duration": 4,
    "start_time": "2022-09-17T05:56:14.523Z"
   },
   {
    "duration": 18,
    "start_time": "2022-09-17T05:56:14.529Z"
   },
   {
    "duration": 33,
    "start_time": "2022-09-17T05:56:14.549Z"
   },
   {
    "duration": 12,
    "start_time": "2022-09-17T05:56:14.584Z"
   },
   {
    "duration": 16,
    "start_time": "2022-09-17T05:56:14.598Z"
   },
   {
    "duration": 20,
    "start_time": "2022-09-17T05:56:14.617Z"
   },
   {
    "duration": 14,
    "start_time": "2022-09-17T05:56:14.638Z"
   },
   {
    "duration": 12,
    "start_time": "2022-09-17T05:56:14.654Z"
   },
   {
    "duration": 5,
    "start_time": "2022-09-17T05:57:55.353Z"
   },
   {
    "duration": 5,
    "start_time": "2022-09-17T05:57:58.654Z"
   },
   {
    "duration": 4,
    "start_time": "2022-09-17T05:58:02.676Z"
   },
   {
    "duration": 10,
    "start_time": "2022-09-17T05:58:18.961Z"
   },
   {
    "duration": 4,
    "start_time": "2022-09-17T05:58:49.919Z"
   },
   {
    "duration": 4,
    "start_time": "2022-09-17T05:58:54.184Z"
   },
   {
    "duration": 9,
    "start_time": "2022-09-17T05:58:59.467Z"
   },
   {
    "duration": 11,
    "start_time": "2022-09-17T06:01:35.442Z"
   },
   {
    "duration": 6,
    "start_time": "2022-09-17T06:01:41.416Z"
   },
   {
    "duration": 8,
    "start_time": "2022-09-17T06:01:45.752Z"
   },
   {
    "duration": 1162,
    "start_time": "2022-09-17T06:01:53.200Z"
   },
   {
    "duration": 179,
    "start_time": "2022-09-17T06:01:54.366Z"
   },
   {
    "duration": 7,
    "start_time": "2022-09-17T06:01:54.547Z"
   },
   {
    "duration": 28,
    "start_time": "2022-09-17T06:01:54.559Z"
   },
   {
    "duration": 7,
    "start_time": "2022-09-17T06:01:54.589Z"
   },
   {
    "duration": 111,
    "start_time": "2022-09-17T06:01:54.598Z"
   },
   {
    "duration": 19,
    "start_time": "2022-09-17T06:01:54.711Z"
   },
   {
    "duration": 32,
    "start_time": "2022-09-17T06:01:54.731Z"
   },
   {
    "duration": 29,
    "start_time": "2022-09-17T06:01:54.766Z"
   },
   {
    "duration": 399,
    "start_time": "2022-09-17T06:01:54.798Z"
   },
   {
    "duration": 14,
    "start_time": "2022-09-17T06:01:55.199Z"
   },
   {
    "duration": 25,
    "start_time": "2022-09-17T06:01:55.215Z"
   },
   {
    "duration": 59,
    "start_time": "2022-09-17T06:01:55.242Z"
   },
   {
    "duration": 21,
    "start_time": "2022-09-17T06:01:55.303Z"
   },
   {
    "duration": 59,
    "start_time": "2022-09-17T06:01:55.325Z"
   },
   {
    "duration": 94,
    "start_time": "2022-09-17T06:01:55.386Z"
   },
   {
    "duration": 11,
    "start_time": "2022-09-17T06:01:55.482Z"
   },
   {
    "duration": 91,
    "start_time": "2022-09-17T06:01:55.495Z"
   },
   {
    "duration": 10,
    "start_time": "2022-09-17T06:01:55.588Z"
   },
   {
    "duration": 19,
    "start_time": "2022-09-17T06:01:55.599Z"
   },
   {
    "duration": 60,
    "start_time": "2022-09-17T06:01:55.620Z"
   },
   {
    "duration": 99,
    "start_time": "2022-09-17T06:01:55.682Z"
   },
   {
    "duration": 4,
    "start_time": "2022-09-17T06:01:55.782Z"
   },
   {
    "duration": 7,
    "start_time": "2022-09-17T06:01:55.787Z"
   },
   {
    "duration": 15,
    "start_time": "2022-09-17T06:01:55.796Z"
   },
   {
    "duration": 6,
    "start_time": "2022-09-17T06:01:55.812Z"
   },
   {
    "duration": 8,
    "start_time": "2022-09-17T06:01:55.820Z"
   },
   {
    "duration": 26,
    "start_time": "2022-09-17T06:01:55.831Z"
   },
   {
    "duration": 13,
    "start_time": "2022-09-17T06:01:55.860Z"
   },
   {
    "duration": 11,
    "start_time": "2022-09-17T06:01:55.875Z"
   },
   {
    "duration": 14,
    "start_time": "2022-09-17T06:01:55.887Z"
   },
   {
    "duration": 4,
    "start_time": "2022-09-17T06:02:32.568Z"
   },
   {
    "duration": 7,
    "start_time": "2022-09-17T06:02:35.945Z"
   },
   {
    "duration": 3,
    "start_time": "2022-09-17T06:02:45.693Z"
   },
   {
    "duration": 1133,
    "start_time": "2022-09-17T06:03:42.777Z"
   },
   {
    "duration": 187,
    "start_time": "2022-09-17T06:03:43.912Z"
   },
   {
    "duration": 4,
    "start_time": "2022-09-17T06:03:44.100Z"
   },
   {
    "duration": 22,
    "start_time": "2022-09-17T06:03:44.106Z"
   },
   {
    "duration": 25,
    "start_time": "2022-09-17T06:03:44.129Z"
   },
   {
    "duration": 101,
    "start_time": "2022-09-17T06:03:44.156Z"
   },
   {
    "duration": 24,
    "start_time": "2022-09-17T06:03:44.262Z"
   },
   {
    "duration": 15,
    "start_time": "2022-09-17T06:03:44.288Z"
   },
   {
    "duration": 44,
    "start_time": "2022-09-17T06:03:44.304Z"
   },
   {
    "duration": 410,
    "start_time": "2022-09-17T06:03:44.352Z"
   },
   {
    "duration": 18,
    "start_time": "2022-09-17T06:03:44.764Z"
   },
   {
    "duration": 5,
    "start_time": "2022-09-17T06:03:44.783Z"
   },
   {
    "duration": 22,
    "start_time": "2022-09-17T06:03:44.789Z"
   },
   {
    "duration": 5,
    "start_time": "2022-09-17T06:03:44.812Z"
   },
   {
    "duration": 64,
    "start_time": "2022-09-17T06:03:44.819Z"
   },
   {
    "duration": 64,
    "start_time": "2022-09-17T06:03:44.884Z"
   },
   {
    "duration": 18,
    "start_time": "2022-09-17T06:03:44.951Z"
   },
   {
    "duration": 64,
    "start_time": "2022-09-17T06:03:44.970Z"
   },
   {
    "duration": 27,
    "start_time": "2022-09-17T06:03:45.036Z"
   },
   {
    "duration": 19,
    "start_time": "2022-09-17T06:03:45.066Z"
   },
   {
    "duration": 39,
    "start_time": "2022-09-17T06:03:45.086Z"
   },
   {
    "duration": 96,
    "start_time": "2022-09-17T06:03:45.127Z"
   },
   {
    "duration": 4,
    "start_time": "2022-09-17T06:03:45.224Z"
   },
   {
    "duration": 19,
    "start_time": "2022-09-17T06:03:45.230Z"
   },
   {
    "duration": 23,
    "start_time": "2022-09-17T06:03:45.252Z"
   },
   {
    "duration": 23,
    "start_time": "2022-09-17T06:03:45.278Z"
   },
   {
    "duration": 6,
    "start_time": "2022-09-17T06:03:45.302Z"
   },
   {
    "duration": 14,
    "start_time": "2022-09-17T06:03:45.310Z"
   },
   {
    "duration": 7,
    "start_time": "2022-09-17T06:03:45.326Z"
   },
   {
    "duration": 10,
    "start_time": "2022-09-17T06:03:45.335Z"
   },
   {
    "duration": 22,
    "start_time": "2022-09-17T06:03:45.346Z"
   },
   {
    "duration": 10,
    "start_time": "2022-09-17T06:03:45.371Z"
   },
   {
    "duration": 54,
    "start_time": "2022-09-17T06:05:22.987Z"
   },
   {
    "duration": 7,
    "start_time": "2022-09-17T06:09:31.450Z"
   },
   {
    "duration": 8,
    "start_time": "2022-09-17T06:10:47.861Z"
   },
   {
    "duration": 4,
    "start_time": "2022-09-17T06:12:19.414Z"
   },
   {
    "duration": 100,
    "start_time": "2022-09-17T06:12:30.008Z"
   },
   {
    "duration": 1187,
    "start_time": "2022-09-17T06:13:16.930Z"
   },
   {
    "duration": 178,
    "start_time": "2022-09-17T06:13:18.120Z"
   },
   {
    "duration": 4,
    "start_time": "2022-09-17T06:13:18.299Z"
   },
   {
    "duration": 52,
    "start_time": "2022-09-17T06:13:18.305Z"
   },
   {
    "duration": 9,
    "start_time": "2022-09-17T06:13:18.359Z"
   },
   {
    "duration": 99,
    "start_time": "2022-09-17T06:13:18.371Z"
   },
   {
    "duration": 19,
    "start_time": "2022-09-17T06:13:18.471Z"
   },
   {
    "duration": 32,
    "start_time": "2022-09-17T06:13:18.492Z"
   },
   {
    "duration": 40,
    "start_time": "2022-09-17T06:13:18.526Z"
   },
   {
    "duration": 359,
    "start_time": "2022-09-17T06:13:18.570Z"
   },
   {
    "duration": 26,
    "start_time": "2022-09-17T06:13:18.931Z"
   },
   {
    "duration": 5,
    "start_time": "2022-09-17T06:13:18.959Z"
   },
   {
    "duration": 40,
    "start_time": "2022-09-17T06:13:18.966Z"
   },
   {
    "duration": 23,
    "start_time": "2022-09-17T06:13:19.007Z"
   },
   {
    "duration": 40,
    "start_time": "2022-09-17T06:13:19.031Z"
   },
   {
    "duration": 65,
    "start_time": "2022-09-17T06:13:19.073Z"
   },
   {
    "duration": 12,
    "start_time": "2022-09-17T06:13:19.140Z"
   },
   {
    "duration": 70,
    "start_time": "2022-09-17T06:13:19.154Z"
   },
   {
    "duration": 11,
    "start_time": "2022-09-17T06:13:19.226Z"
   },
   {
    "duration": 55,
    "start_time": "2022-09-17T06:13:19.238Z"
   },
   {
    "duration": 51,
    "start_time": "2022-09-17T06:13:19.295Z"
   },
   {
    "duration": 85,
    "start_time": "2022-09-17T06:13:19.347Z"
   },
   {
    "duration": 14,
    "start_time": "2022-09-17T06:13:19.434Z"
   },
   {
    "duration": 18,
    "start_time": "2022-09-17T06:13:19.450Z"
   },
   {
    "duration": 29,
    "start_time": "2022-09-17T06:13:19.470Z"
   },
   {
    "duration": 37,
    "start_time": "2022-09-17T06:13:19.501Z"
   },
   {
    "duration": 31,
    "start_time": "2022-09-17T06:13:19.540Z"
   },
   {
    "duration": 21,
    "start_time": "2022-09-17T06:13:19.574Z"
   },
   {
    "duration": 8,
    "start_time": "2022-09-17T06:13:19.597Z"
   },
   {
    "duration": 26,
    "start_time": "2022-09-17T06:13:19.607Z"
   },
   {
    "duration": 55,
    "start_time": "2022-09-17T06:13:19.635Z"
   },
   {
    "duration": 19,
    "start_time": "2022-09-17T06:13:19.692Z"
   },
   {
    "duration": 28,
    "start_time": "2022-09-17T06:13:19.713Z"
   },
   {
    "duration": 119,
    "start_time": "2022-09-17T06:13:19.743Z"
   },
   {
    "duration": 8,
    "start_time": "2022-09-17T06:13:48.557Z"
   },
   {
    "duration": 11,
    "start_time": "2022-09-17T06:14:07.575Z"
   },
   {
    "duration": 5,
    "start_time": "2022-09-17T06:14:25.370Z"
   },
   {
    "duration": 4,
    "start_time": "2022-09-17T06:14:29.825Z"
   },
   {
    "duration": 4,
    "start_time": "2022-09-17T06:14:34.018Z"
   },
   {
    "duration": 13,
    "start_time": "2022-09-17T06:23:29.058Z"
   },
   {
    "duration": 11,
    "start_time": "2022-09-17T06:23:39.043Z"
   },
   {
    "duration": 7,
    "start_time": "2022-09-17T06:28:25.490Z"
   },
   {
    "duration": 10,
    "start_time": "2022-09-17T06:29:12.280Z"
   },
   {
    "duration": 13,
    "start_time": "2022-09-17T06:29:17.050Z"
   },
   {
    "duration": 3,
    "start_time": "2022-09-17T06:29:23.781Z"
   },
   {
    "duration": 4,
    "start_time": "2022-09-17T06:29:27.490Z"
   },
   {
    "duration": 5,
    "start_time": "2022-09-17T06:34:40.059Z"
   },
   {
    "duration": 9,
    "start_time": "2022-09-17T06:35:24.809Z"
   },
   {
    "duration": 5,
    "start_time": "2022-09-17T06:48:27.090Z"
   },
   {
    "duration": 9,
    "start_time": "2022-09-17T06:48:39.476Z"
   },
   {
    "duration": 8,
    "start_time": "2022-09-17T06:48:43.281Z"
   },
   {
    "duration": 9,
    "start_time": "2022-09-17T06:48:46.173Z"
   },
   {
    "duration": 5,
    "start_time": "2022-09-17T06:52:10.602Z"
   },
   {
    "duration": 8,
    "start_time": "2022-09-17T06:52:18.294Z"
   },
   {
    "duration": 9,
    "start_time": "2022-09-17T06:53:35.457Z"
   },
   {
    "duration": 6,
    "start_time": "2022-09-17T06:55:52.771Z"
   },
   {
    "duration": 6,
    "start_time": "2022-09-17T06:57:16.384Z"
   },
   {
    "duration": 6,
    "start_time": "2022-09-17T06:57:26.740Z"
   },
   {
    "duration": 5,
    "start_time": "2022-09-17T06:58:20.711Z"
   },
   {
    "duration": 168,
    "start_time": "2022-09-17T06:58:20.718Z"
   },
   {
    "duration": 4,
    "start_time": "2022-09-17T06:58:20.888Z"
   },
   {
    "duration": 21,
    "start_time": "2022-09-17T06:58:20.893Z"
   },
   {
    "duration": 7,
    "start_time": "2022-09-17T06:58:20.916Z"
   },
   {
    "duration": 95,
    "start_time": "2022-09-17T06:58:20.925Z"
   },
   {
    "duration": 25,
    "start_time": "2022-09-17T06:58:21.022Z"
   },
   {
    "duration": 15,
    "start_time": "2022-09-17T06:58:21.048Z"
   },
   {
    "duration": 29,
    "start_time": "2022-09-17T06:58:21.064Z"
   },
   {
    "duration": 301,
    "start_time": "2022-09-17T06:58:21.094Z"
   },
   {
    "duration": 13,
    "start_time": "2022-09-17T06:58:21.397Z"
   },
   {
    "duration": 5,
    "start_time": "2022-09-17T06:58:21.411Z"
   },
   {
    "duration": 39,
    "start_time": "2022-09-17T06:58:21.418Z"
   },
   {
    "duration": 6,
    "start_time": "2022-09-17T06:58:21.460Z"
   },
   {
    "duration": 33,
    "start_time": "2022-09-17T06:58:21.467Z"
   },
   {
    "duration": 66,
    "start_time": "2022-09-17T06:58:21.501Z"
   },
   {
    "duration": 12,
    "start_time": "2022-09-17T06:58:21.569Z"
   },
   {
    "duration": 67,
    "start_time": "2022-09-17T06:58:21.584Z"
   },
   {
    "duration": 12,
    "start_time": "2022-09-17T06:58:21.653Z"
   },
   {
    "duration": 7,
    "start_time": "2022-09-17T06:58:21.667Z"
   },
   {
    "duration": 44,
    "start_time": "2022-09-17T06:58:21.676Z"
   },
   {
    "duration": 98,
    "start_time": "2022-09-17T06:58:21.722Z"
   },
   {
    "duration": 3,
    "start_time": "2022-09-17T06:58:21.822Z"
   },
   {
    "duration": 9,
    "start_time": "2022-09-17T06:58:21.826Z"
   },
   {
    "duration": 13,
    "start_time": "2022-09-17T06:58:21.837Z"
   },
   {
    "duration": 9,
    "start_time": "2022-09-17T06:58:21.851Z"
   },
   {
    "duration": 5,
    "start_time": "2022-09-17T06:58:30.810Z"
   },
   {
    "duration": 5,
    "start_time": "2022-09-17T06:58:32.316Z"
   },
   {
    "duration": 10,
    "start_time": "2022-09-17T06:58:34.043Z"
   },
   {
    "duration": 9,
    "start_time": "2022-09-17T06:58:56.794Z"
   },
   {
    "duration": 5,
    "start_time": "2022-09-17T06:59:31.684Z"
   },
   {
    "duration": 71,
    "start_time": "2022-09-17T07:00:04.930Z"
   },
   {
    "duration": 10,
    "start_time": "2022-09-17T07:00:09.786Z"
   },
   {
    "duration": 15,
    "start_time": "2022-09-17T07:00:36.579Z"
   },
   {
    "duration": 10,
    "start_time": "2022-09-17T07:01:01.785Z"
   },
   {
    "duration": 5,
    "start_time": "2022-09-17T07:01:47.349Z"
   },
   {
    "duration": 6,
    "start_time": "2022-09-17T07:01:49.648Z"
   },
   {
    "duration": 9,
    "start_time": "2022-09-17T07:01:50.788Z"
   },
   {
    "duration": 11,
    "start_time": "2022-09-17T07:03:27.545Z"
   },
   {
    "duration": 11,
    "start_time": "2022-09-17T07:03:32.302Z"
   },
   {
    "duration": 1259,
    "start_time": "2022-09-17T07:03:45.080Z"
   },
   {
    "duration": 182,
    "start_time": "2022-09-17T07:03:46.341Z"
   },
   {
    "duration": 4,
    "start_time": "2022-09-17T07:03:46.525Z"
   },
   {
    "duration": 27,
    "start_time": "2022-09-17T07:03:46.530Z"
   },
   {
    "duration": 7,
    "start_time": "2022-09-17T07:03:46.559Z"
   },
   {
    "duration": 105,
    "start_time": "2022-09-17T07:03:46.568Z"
   },
   {
    "duration": 20,
    "start_time": "2022-09-17T07:03:46.675Z"
   },
   {
    "duration": 15,
    "start_time": "2022-09-17T07:03:46.696Z"
   },
   {
    "duration": 49,
    "start_time": "2022-09-17T07:03:46.713Z"
   },
   {
    "duration": 357,
    "start_time": "2022-09-17T07:03:46.764Z"
   },
   {
    "duration": 23,
    "start_time": "2022-09-17T07:03:47.123Z"
   },
   {
    "duration": 4,
    "start_time": "2022-09-17T07:03:47.148Z"
   },
   {
    "duration": 30,
    "start_time": "2022-09-17T07:03:47.154Z"
   },
   {
    "duration": 6,
    "start_time": "2022-09-17T07:03:47.186Z"
   },
   {
    "duration": 29,
    "start_time": "2022-09-17T07:03:47.193Z"
   },
   {
    "duration": 66,
    "start_time": "2022-09-17T07:03:47.224Z"
   },
   {
    "duration": 14,
    "start_time": "2022-09-17T07:03:47.292Z"
   },
   {
    "duration": 78,
    "start_time": "2022-09-17T07:03:47.307Z"
   },
   {
    "duration": 12,
    "start_time": "2022-09-17T07:03:47.387Z"
   },
   {
    "duration": 4,
    "start_time": "2022-09-17T07:03:47.401Z"
   },
   {
    "duration": 54,
    "start_time": "2022-09-17T07:03:47.406Z"
   },
   {
    "duration": 92,
    "start_time": "2022-09-17T07:03:47.462Z"
   },
   {
    "duration": 4,
    "start_time": "2022-09-17T07:03:47.556Z"
   },
   {
    "duration": 10,
    "start_time": "2022-09-17T07:03:47.561Z"
   },
   {
    "duration": 8,
    "start_time": "2022-09-17T07:03:47.573Z"
   },
   {
    "duration": 11,
    "start_time": "2022-09-17T07:03:47.582Z"
   },
   {
    "duration": 6,
    "start_time": "2022-09-17T07:03:47.595Z"
   },
   {
    "duration": 113,
    "start_time": "2022-09-17T07:03:47.603Z"
   },
   {
    "duration": 0,
    "start_time": "2022-09-17T07:03:47.718Z"
   },
   {
    "duration": 0,
    "start_time": "2022-09-17T07:03:47.720Z"
   },
   {
    "duration": 0,
    "start_time": "2022-09-17T07:03:47.722Z"
   },
   {
    "duration": 0,
    "start_time": "2022-09-17T07:03:47.723Z"
   },
   {
    "duration": 0,
    "start_time": "2022-09-17T07:03:47.725Z"
   },
   {
    "duration": 0,
    "start_time": "2022-09-17T07:03:47.726Z"
   },
   {
    "duration": 0,
    "start_time": "2022-09-17T07:03:47.747Z"
   },
   {
    "duration": 0,
    "start_time": "2022-09-17T07:03:47.748Z"
   },
   {
    "duration": 0,
    "start_time": "2022-09-17T07:03:47.750Z"
   },
   {
    "duration": 0,
    "start_time": "2022-09-17T07:03:47.751Z"
   },
   {
    "duration": 0,
    "start_time": "2022-09-17T07:03:47.753Z"
   },
   {
    "duration": 10,
    "start_time": "2022-09-17T07:05:55.067Z"
   },
   {
    "duration": 9,
    "start_time": "2022-09-17T07:06:16.531Z"
   },
   {
    "duration": 4,
    "start_time": "2022-09-17T07:06:45.284Z"
   },
   {
    "duration": 167,
    "start_time": "2022-09-17T07:06:45.290Z"
   },
   {
    "duration": 4,
    "start_time": "2022-09-17T07:06:45.459Z"
   },
   {
    "duration": 24,
    "start_time": "2022-09-17T07:06:45.464Z"
   },
   {
    "duration": 7,
    "start_time": "2022-09-17T07:06:45.490Z"
   },
   {
    "duration": 92,
    "start_time": "2022-09-17T07:06:45.498Z"
   },
   {
    "duration": 16,
    "start_time": "2022-09-17T07:06:45.592Z"
   },
   {
    "duration": 29,
    "start_time": "2022-09-17T07:06:45.609Z"
   },
   {
    "duration": 33,
    "start_time": "2022-09-17T07:06:45.640Z"
   },
   {
    "duration": 266,
    "start_time": "2022-09-17T07:06:45.675Z"
   },
   {
    "duration": 15,
    "start_time": "2022-09-17T07:06:45.943Z"
   },
   {
    "duration": 4,
    "start_time": "2022-09-17T07:06:45.960Z"
   },
   {
    "duration": 21,
    "start_time": "2022-09-17T07:06:45.965Z"
   },
   {
    "duration": 4,
    "start_time": "2022-09-17T07:06:45.989Z"
   },
   {
    "duration": 53,
    "start_time": "2022-09-17T07:06:45.995Z"
   },
   {
    "duration": 51,
    "start_time": "2022-09-17T07:06:46.049Z"
   },
   {
    "duration": 10,
    "start_time": "2022-09-17T07:06:46.102Z"
   },
   {
    "duration": 69,
    "start_time": "2022-09-17T07:06:46.113Z"
   },
   {
    "duration": 10,
    "start_time": "2022-09-17T07:06:46.183Z"
   },
   {
    "duration": 12,
    "start_time": "2022-09-17T07:06:46.194Z"
   },
   {
    "duration": 55,
    "start_time": "2022-09-17T07:06:46.208Z"
   },
   {
    "duration": 102,
    "start_time": "2022-09-17T07:06:46.265Z"
   },
   {
    "duration": 4,
    "start_time": "2022-09-17T07:06:46.369Z"
   },
   {
    "duration": 13,
    "start_time": "2022-09-17T07:06:46.375Z"
   },
   {
    "duration": 10,
    "start_time": "2022-09-17T07:06:46.391Z"
   },
   {
    "duration": 15,
    "start_time": "2022-09-17T07:06:46.403Z"
   },
   {
    "duration": 9,
    "start_time": "2022-09-17T07:06:46.420Z"
   },
   {
    "duration": 5,
    "start_time": "2022-09-17T07:06:48.802Z"
   },
   {
    "duration": 9,
    "start_time": "2022-09-17T07:06:49.470Z"
   },
   {
    "duration": 88,
    "start_time": "2022-09-17T07:08:02.086Z"
   },
   {
    "duration": 12,
    "start_time": "2022-09-17T07:08:06.331Z"
   },
   {
    "duration": 4,
    "start_time": "2022-09-17T07:08:10.823Z"
   },
   {
    "duration": 8,
    "start_time": "2022-09-17T07:08:11.427Z"
   },
   {
    "duration": 9,
    "start_time": "2022-09-17T07:08:30.995Z"
   },
   {
    "duration": 8,
    "start_time": "2022-09-17T07:09:09.617Z"
   },
   {
    "duration": 4,
    "start_time": "2022-09-17T07:09:12.857Z"
   },
   {
    "duration": 4,
    "start_time": "2022-09-17T07:09:15.982Z"
   },
   {
    "duration": 5,
    "start_time": "2022-09-17T07:09:45.039Z"
   },
   {
    "duration": 7,
    "start_time": "2022-09-17T07:09:47.685Z"
   },
   {
    "duration": 5,
    "start_time": "2022-09-17T07:11:18.921Z"
   },
   {
    "duration": 9,
    "start_time": "2022-09-17T07:11:21.228Z"
   },
   {
    "duration": 1266,
    "start_time": "2022-09-17T07:11:48.965Z"
   },
   {
    "duration": 173,
    "start_time": "2022-09-17T07:11:50.233Z"
   },
   {
    "duration": 4,
    "start_time": "2022-09-17T07:11:50.407Z"
   },
   {
    "duration": 21,
    "start_time": "2022-09-17T07:11:50.413Z"
   },
   {
    "duration": 13,
    "start_time": "2022-09-17T07:11:50.436Z"
   },
   {
    "duration": 81,
    "start_time": "2022-09-17T07:11:50.451Z"
   },
   {
    "duration": 20,
    "start_time": "2022-09-17T07:11:50.547Z"
   },
   {
    "duration": 16,
    "start_time": "2022-09-17T07:11:50.568Z"
   },
   {
    "duration": 27,
    "start_time": "2022-09-17T07:11:50.586Z"
   },
   {
    "duration": 403,
    "start_time": "2022-09-17T07:11:50.617Z"
   },
   {
    "duration": 16,
    "start_time": "2022-09-17T07:11:51.021Z"
   },
   {
    "duration": 5,
    "start_time": "2022-09-17T07:11:51.047Z"
   },
   {
    "duration": 24,
    "start_time": "2022-09-17T07:11:51.054Z"
   },
   {
    "duration": 6,
    "start_time": "2022-09-17T07:11:51.080Z"
   },
   {
    "duration": 38,
    "start_time": "2022-09-17T07:11:51.087Z"
   },
   {
    "duration": 70,
    "start_time": "2022-09-17T07:11:51.126Z"
   },
   {
    "duration": 11,
    "start_time": "2022-09-17T07:11:51.198Z"
   },
   {
    "duration": 68,
    "start_time": "2022-09-17T07:11:51.211Z"
   },
   {
    "duration": 10,
    "start_time": "2022-09-17T07:11:51.281Z"
   },
   {
    "duration": 6,
    "start_time": "2022-09-17T07:11:51.293Z"
   },
   {
    "duration": 47,
    "start_time": "2022-09-17T07:11:51.301Z"
   },
   {
    "duration": 98,
    "start_time": "2022-09-17T07:11:51.349Z"
   },
   {
    "duration": 4,
    "start_time": "2022-09-17T07:11:51.449Z"
   },
   {
    "duration": 16,
    "start_time": "2022-09-17T07:11:51.455Z"
   },
   {
    "duration": 20,
    "start_time": "2022-09-17T07:11:51.472Z"
   },
   {
    "duration": 11,
    "start_time": "2022-09-17T07:11:51.494Z"
   },
   {
    "duration": 6,
    "start_time": "2022-09-17T07:11:51.506Z"
   },
   {
    "duration": 13,
    "start_time": "2022-09-17T07:11:51.515Z"
   },
   {
    "duration": 4,
    "start_time": "2022-09-17T07:11:51.529Z"
   },
   {
    "duration": 8,
    "start_time": "2022-09-17T07:11:51.547Z"
   },
   {
    "duration": 14,
    "start_time": "2022-09-17T07:11:51.557Z"
   },
   {
    "duration": 8,
    "start_time": "2022-09-17T07:11:51.574Z"
   },
   {
    "duration": 6,
    "start_time": "2022-09-17T07:11:51.583Z"
   },
   {
    "duration": 7,
    "start_time": "2022-09-17T07:11:51.590Z"
   },
   {
    "duration": 10,
    "start_time": "2022-09-17T07:11:51.598Z"
   },
   {
    "duration": 16,
    "start_time": "2022-09-17T07:11:51.609Z"
   },
   {
    "duration": 23,
    "start_time": "2022-09-17T07:11:51.626Z"
   },
   {
    "duration": 14,
    "start_time": "2022-09-17T07:11:51.650Z"
   },
   {
    "duration": 1159,
    "start_time": "2022-09-17T07:31:49.215Z"
   },
   {
    "duration": 169,
    "start_time": "2022-09-17T07:31:50.376Z"
   },
   {
    "duration": 3,
    "start_time": "2022-09-17T07:31:50.547Z"
   },
   {
    "duration": 26,
    "start_time": "2022-09-17T07:31:50.552Z"
   },
   {
    "duration": 7,
    "start_time": "2022-09-17T07:31:50.580Z"
   },
   {
    "duration": 96,
    "start_time": "2022-09-17T07:31:50.589Z"
   },
   {
    "duration": 20,
    "start_time": "2022-09-17T07:31:50.687Z"
   },
   {
    "duration": 21,
    "start_time": "2022-09-17T07:31:50.708Z"
   },
   {
    "duration": 37,
    "start_time": "2022-09-17T07:31:50.731Z"
   },
   {
    "duration": 388,
    "start_time": "2022-09-17T07:31:50.769Z"
   },
   {
    "duration": 15,
    "start_time": "2022-09-17T07:31:51.159Z"
   },
   {
    "duration": 16,
    "start_time": "2022-09-17T07:31:51.176Z"
   },
   {
    "duration": 44,
    "start_time": "2022-09-17T07:31:51.194Z"
   },
   {
    "duration": 11,
    "start_time": "2022-09-17T07:31:51.240Z"
   },
   {
    "duration": 47,
    "start_time": "2022-09-17T07:31:51.253Z"
   },
   {
    "duration": 50,
    "start_time": "2022-09-17T07:31:51.301Z"
   },
   {
    "duration": 11,
    "start_time": "2022-09-17T07:31:51.353Z"
   },
   {
    "duration": 69,
    "start_time": "2022-09-17T07:31:51.368Z"
   },
   {
    "duration": 10,
    "start_time": "2022-09-17T07:31:51.438Z"
   },
   {
    "duration": 14,
    "start_time": "2022-09-17T07:31:51.450Z"
   },
   {
    "duration": 38,
    "start_time": "2022-09-17T07:31:51.466Z"
   },
   {
    "duration": 83,
    "start_time": "2022-09-17T07:31:51.506Z"
   },
   {
    "duration": 4,
    "start_time": "2022-09-17T07:31:51.591Z"
   },
   {
    "duration": 34,
    "start_time": "2022-09-17T07:31:51.596Z"
   },
   {
    "duration": 10,
    "start_time": "2022-09-17T07:31:51.631Z"
   },
   {
    "duration": 24,
    "start_time": "2022-09-17T07:31:51.642Z"
   },
   {
    "duration": 17,
    "start_time": "2022-09-17T07:31:51.668Z"
   },
   {
    "duration": 27,
    "start_time": "2022-09-17T07:31:51.687Z"
   },
   {
    "duration": 20,
    "start_time": "2022-09-17T07:31:51.715Z"
   },
   {
    "duration": 31,
    "start_time": "2022-09-17T07:31:51.736Z"
   },
   {
    "duration": 24,
    "start_time": "2022-09-17T07:31:51.769Z"
   },
   {
    "duration": 14,
    "start_time": "2022-09-17T07:31:51.794Z"
   },
   {
    "duration": 22,
    "start_time": "2022-09-17T07:31:51.809Z"
   },
   {
    "duration": 46,
    "start_time": "2022-09-17T07:31:51.832Z"
   },
   {
    "duration": 12,
    "start_time": "2022-09-17T07:31:51.879Z"
   },
   {
    "duration": 34,
    "start_time": "2022-09-17T07:31:51.892Z"
   },
   {
    "duration": 28,
    "start_time": "2022-09-17T07:31:51.927Z"
   },
   {
    "duration": 33,
    "start_time": "2022-09-17T07:31:51.956Z"
   },
   {
    "duration": 58,
    "start_time": "2022-09-17T11:06:07.474Z"
   },
   {
    "duration": 1240,
    "start_time": "2022-09-17T11:06:11.546Z"
   },
   {
    "duration": 552,
    "start_time": "2022-09-17T11:06:12.788Z"
   },
   {
    "duration": 4,
    "start_time": "2022-09-17T11:06:13.341Z"
   },
   {
    "duration": 21,
    "start_time": "2022-09-17T11:06:13.347Z"
   },
   {
    "duration": 7,
    "start_time": "2022-09-17T11:06:13.370Z"
   },
   {
    "duration": 91,
    "start_time": "2022-09-17T11:06:13.378Z"
   },
   {
    "duration": 82,
    "start_time": "2022-09-17T11:06:17.894Z"
   },
   {
    "duration": 73,
    "start_time": "2022-09-17T11:06:22.993Z"
   },
   {
    "duration": 63,
    "start_time": "2022-09-17T11:06:40.837Z"
   },
   {
    "duration": 95,
    "start_time": "2022-09-17T11:09:53.637Z"
   },
   {
    "duration": 65,
    "start_time": "2022-09-17T11:09:59.153Z"
   },
   {
    "duration": 5,
    "start_time": "2022-09-17T11:11:32.349Z"
   },
   {
    "duration": 157,
    "start_time": "2022-09-17T11:11:32.355Z"
   },
   {
    "duration": 4,
    "start_time": "2022-09-17T11:11:32.513Z"
   },
   {
    "duration": 33,
    "start_time": "2022-09-17T11:11:32.518Z"
   },
   {
    "duration": 24,
    "start_time": "2022-09-17T11:11:32.553Z"
   },
   {
    "duration": 86,
    "start_time": "2022-09-17T11:11:32.578Z"
   },
   {
    "duration": 76,
    "start_time": "2022-09-17T11:11:32.665Z"
   },
   {
    "duration": 104,
    "start_time": "2022-09-17T11:11:32.742Z"
   },
   {
    "duration": 62,
    "start_time": "2022-09-17T11:11:32.848Z"
   },
   {
    "duration": 22,
    "start_time": "2022-09-17T11:11:32.911Z"
   },
   {
    "duration": 14,
    "start_time": "2022-09-17T11:11:32.938Z"
   },
   {
    "duration": 442,
    "start_time": "2022-09-17T11:13:05.414Z"
   },
   {
    "duration": 266,
    "start_time": "2022-09-17T11:13:17.236Z"
   },
   {
    "duration": 269,
    "start_time": "2022-09-17T11:14:01.388Z"
   },
   {
    "duration": 100,
    "start_time": "2022-09-17T11:14:50.083Z"
   },
   {
    "duration": 378,
    "start_time": "2022-09-17T11:15:38.586Z"
   },
   {
    "duration": 290,
    "start_time": "2022-09-17T11:16:07.611Z"
   },
   {
    "duration": 263,
    "start_time": "2022-09-17T11:16:32.534Z"
   },
   {
    "duration": 285,
    "start_time": "2022-09-17T11:16:36.120Z"
   },
   {
    "duration": 281,
    "start_time": "2022-09-17T11:17:12.456Z"
   },
   {
    "duration": 381,
    "start_time": "2022-09-17T11:17:30.988Z"
   },
   {
    "duration": 14,
    "start_time": "2022-09-17T11:17:52.719Z"
   },
   {
    "duration": 160,
    "start_time": "2022-09-17T11:17:52.736Z"
   },
   {
    "duration": 4,
    "start_time": "2022-09-17T11:17:52.897Z"
   },
   {
    "duration": 32,
    "start_time": "2022-09-17T11:17:52.903Z"
   },
   {
    "duration": 9,
    "start_time": "2022-09-17T11:17:52.938Z"
   },
   {
    "duration": 88,
    "start_time": "2022-09-17T11:17:52.949Z"
   },
   {
    "duration": 101,
    "start_time": "2022-09-17T11:17:53.039Z"
   },
   {
    "duration": 94,
    "start_time": "2022-09-17T11:17:53.142Z"
   },
   {
    "duration": 99,
    "start_time": "2022-09-17T11:17:53.238Z"
   },
   {
    "duration": 16,
    "start_time": "2022-09-17T11:17:53.338Z"
   },
   {
    "duration": 15,
    "start_time": "2022-09-17T11:17:53.355Z"
   },
   {
    "duration": 29,
    "start_time": "2022-09-17T11:17:53.373Z"
   },
   {
    "duration": 297,
    "start_time": "2022-09-17T11:17:53.422Z"
   },
   {
    "duration": 24,
    "start_time": "2022-09-17T11:17:53.723Z"
   },
   {
    "duration": 4,
    "start_time": "2022-09-17T11:17:56.733Z"
   },
   {
    "duration": 7,
    "start_time": "2022-09-17T11:19:54.849Z"
   },
   {
    "duration": 8,
    "start_time": "2022-09-17T11:20:07.881Z"
   },
   {
    "duration": 5,
    "start_time": "2022-09-17T11:20:13.960Z"
   },
   {
    "duration": 193,
    "start_time": "2022-09-17T11:20:13.967Z"
   },
   {
    "duration": 3,
    "start_time": "2022-09-17T11:20:14.162Z"
   },
   {
    "duration": 31,
    "start_time": "2022-09-17T11:20:14.166Z"
   },
   {
    "duration": 9,
    "start_time": "2022-09-17T11:20:14.198Z"
   },
   {
    "duration": 96,
    "start_time": "2022-09-17T11:20:14.208Z"
   },
   {
    "duration": 84,
    "start_time": "2022-09-17T11:20:14.306Z"
   },
   {
    "duration": 100,
    "start_time": "2022-09-17T11:20:14.392Z"
   },
   {
    "duration": 73,
    "start_time": "2022-09-17T11:20:14.494Z"
   },
   {
    "duration": 15,
    "start_time": "2022-09-17T11:20:14.568Z"
   },
   {
    "duration": 27,
    "start_time": "2022-09-17T11:20:14.585Z"
   },
   {
    "duration": 42,
    "start_time": "2022-09-17T11:20:14.614Z"
   },
   {
    "duration": 285,
    "start_time": "2022-09-17T11:20:14.658Z"
   },
   {
    "duration": 7,
    "start_time": "2022-09-17T11:20:14.945Z"
   },
   {
    "duration": 21,
    "start_time": "2022-09-17T11:20:14.954Z"
   },
   {
    "duration": 23,
    "start_time": "2022-09-17T11:20:14.976Z"
   },
   {
    "duration": 41,
    "start_time": "2022-09-17T11:20:15.001Z"
   },
   {
    "duration": 8,
    "start_time": "2022-09-17T11:20:21.011Z"
   },
   {
    "duration": 11,
    "start_time": "2022-09-17T11:20:56.170Z"
   },
   {
    "duration": 5,
    "start_time": "2022-09-17T11:22:14.366Z"
   },
   {
    "duration": 175,
    "start_time": "2022-09-17T11:22:14.372Z"
   },
   {
    "duration": 4,
    "start_time": "2022-09-17T11:22:14.548Z"
   },
   {
    "duration": 37,
    "start_time": "2022-09-17T11:22:14.554Z"
   },
   {
    "duration": 8,
    "start_time": "2022-09-17T11:22:14.593Z"
   },
   {
    "duration": 81,
    "start_time": "2022-09-17T11:22:14.603Z"
   },
   {
    "duration": 82,
    "start_time": "2022-09-17T11:22:14.686Z"
   },
   {
    "duration": 95,
    "start_time": "2022-09-17T11:22:14.770Z"
   },
   {
    "duration": 71,
    "start_time": "2022-09-17T11:22:14.866Z"
   },
   {
    "duration": 15,
    "start_time": "2022-09-17T11:22:14.939Z"
   },
   {
    "duration": 14,
    "start_time": "2022-09-17T11:22:14.956Z"
   },
   {
    "duration": 61,
    "start_time": "2022-09-17T11:22:14.972Z"
   },
   {
    "duration": 279,
    "start_time": "2022-09-17T11:22:15.035Z"
   },
   {
    "duration": 22,
    "start_time": "2022-09-17T11:22:15.316Z"
   },
   {
    "duration": 15,
    "start_time": "2022-09-17T11:22:15.339Z"
   },
   {
    "duration": 15,
    "start_time": "2022-09-17T11:22:15.356Z"
   },
   {
    "duration": 5,
    "start_time": "2022-09-17T11:22:15.372Z"
   },
   {
    "duration": 25,
    "start_time": "2022-09-17T11:22:15.379Z"
   },
   {
    "duration": 67,
    "start_time": "2022-09-17T11:22:15.405Z"
   },
   {
    "duration": 11,
    "start_time": "2022-09-17T11:22:19.175Z"
   },
   {
    "duration": 8,
    "start_time": "2022-09-17T11:24:45.933Z"
   },
   {
    "duration": 6,
    "start_time": "2022-09-17T11:29:23.018Z"
   },
   {
    "duration": 280,
    "start_time": "2022-09-17T11:29:23.026Z"
   },
   {
    "duration": 4,
    "start_time": "2022-09-17T11:29:23.308Z"
   },
   {
    "duration": 26,
    "start_time": "2022-09-17T11:29:23.324Z"
   },
   {
    "duration": 6,
    "start_time": "2022-09-17T11:29:23.351Z"
   },
   {
    "duration": 93,
    "start_time": "2022-09-17T11:29:23.358Z"
   },
   {
    "duration": 82,
    "start_time": "2022-09-17T11:29:23.452Z"
   },
   {
    "duration": 85,
    "start_time": "2022-09-17T11:29:23.535Z"
   },
   {
    "duration": 64,
    "start_time": "2022-09-17T11:29:23.627Z"
   },
   {
    "duration": 15,
    "start_time": "2022-09-17T11:29:23.694Z"
   },
   {
    "duration": 32,
    "start_time": "2022-09-17T11:29:23.711Z"
   },
   {
    "duration": 29,
    "start_time": "2022-09-17T11:29:23.745Z"
   },
   {
    "duration": 375,
    "start_time": "2022-09-17T11:29:23.776Z"
   },
   {
    "duration": 7,
    "start_time": "2022-09-17T11:29:24.153Z"
   },
   {
    "duration": 14,
    "start_time": "2022-09-17T11:29:24.161Z"
   },
   {
    "duration": 10,
    "start_time": "2022-09-17T11:29:24.176Z"
   },
   {
    "duration": 6,
    "start_time": "2022-09-17T11:29:24.188Z"
   },
   {
    "duration": 56,
    "start_time": "2022-09-17T11:29:24.195Z"
   },
   {
    "duration": 48,
    "start_time": "2022-09-17T11:29:24.252Z"
   },
   {
    "duration": 30,
    "start_time": "2022-09-17T11:29:24.302Z"
   },
   {
    "duration": 52,
    "start_time": "2022-09-17T11:29:24.333Z"
   },
   {
    "duration": 10,
    "start_time": "2022-09-17T11:29:24.386Z"
   },
   {
    "duration": 4,
    "start_time": "2022-09-17T11:29:24.397Z"
   },
   {
    "duration": 45,
    "start_time": "2022-09-17T12:03:40.510Z"
   },
   {
    "duration": 1233,
    "start_time": "2022-09-17T12:03:46.888Z"
   },
   {
    "duration": 480,
    "start_time": "2022-09-17T12:03:48.123Z"
   },
   {
    "duration": 4,
    "start_time": "2022-09-17T12:03:48.604Z"
   },
   {
    "duration": 21,
    "start_time": "2022-09-17T12:03:48.610Z"
   },
   {
    "duration": 7,
    "start_time": "2022-09-17T12:03:48.633Z"
   },
   {
    "duration": 88,
    "start_time": "2022-09-17T12:03:48.641Z"
   },
   {
    "duration": 86,
    "start_time": "2022-09-17T12:03:48.731Z"
   },
   {
    "duration": 112,
    "start_time": "2022-09-17T12:03:48.819Z"
   },
   {
    "duration": 71,
    "start_time": "2022-09-17T12:03:48.932Z"
   },
   {
    "duration": 15,
    "start_time": "2022-09-17T12:03:49.006Z"
   },
   {
    "duration": 28,
    "start_time": "2022-09-17T12:03:49.022Z"
   },
   {
    "duration": 27,
    "start_time": "2022-09-17T12:03:49.052Z"
   },
   {
    "duration": 371,
    "start_time": "2022-09-17T12:03:49.081Z"
   },
   {
    "duration": 8,
    "start_time": "2022-09-17T12:03:49.453Z"
   },
   {
    "duration": 14,
    "start_time": "2022-09-17T12:03:49.463Z"
   },
   {
    "duration": 9,
    "start_time": "2022-09-17T12:03:49.479Z"
   },
   {
    "duration": 10,
    "start_time": "2022-09-17T12:03:49.489Z"
   },
   {
    "duration": 28,
    "start_time": "2022-09-17T12:03:49.500Z"
   },
   {
    "duration": 65,
    "start_time": "2022-09-17T12:03:49.529Z"
   },
   {
    "duration": 11,
    "start_time": "2022-09-17T12:03:49.596Z"
   },
   {
    "duration": 70,
    "start_time": "2022-09-17T12:03:49.609Z"
   },
   {
    "duration": 10,
    "start_time": "2022-09-17T12:03:49.681Z"
   },
   {
    "duration": 9,
    "start_time": "2022-09-17T12:03:49.693Z"
   },
   {
    "duration": 293,
    "start_time": "2022-09-17T12:03:49.703Z"
   },
   {
    "duration": 61,
    "start_time": "2022-09-17T12:03:49.998Z"
   },
   {
    "duration": 137,
    "start_time": "2022-09-17T12:03:50.060Z"
   },
   {
    "duration": 4,
    "start_time": "2022-09-17T12:03:50.198Z"
   },
   {
    "duration": 13,
    "start_time": "2022-09-17T12:03:50.204Z"
   },
   {
    "duration": 10,
    "start_time": "2022-09-17T12:03:50.219Z"
   },
   {
    "duration": 19,
    "start_time": "2022-09-17T12:03:50.230Z"
   },
   {
    "duration": 8,
    "start_time": "2022-09-17T12:03:50.250Z"
   },
   {
    "duration": 15,
    "start_time": "2022-09-17T12:03:50.259Z"
   },
   {
    "duration": 7,
    "start_time": "2022-09-17T12:03:50.276Z"
   },
   {
    "duration": 27,
    "start_time": "2022-09-17T12:03:50.284Z"
   },
   {
    "duration": 19,
    "start_time": "2022-09-17T12:03:50.312Z"
   },
   {
    "duration": 11,
    "start_time": "2022-09-17T12:03:50.332Z"
   },
   {
    "duration": 7,
    "start_time": "2022-09-17T12:03:50.345Z"
   },
   {
    "duration": 11,
    "start_time": "2022-09-17T12:03:50.353Z"
   },
   {
    "duration": 8,
    "start_time": "2022-09-17T12:03:50.365Z"
   },
   {
    "duration": 14,
    "start_time": "2022-09-17T12:03:50.374Z"
   },
   {
    "duration": 5,
    "start_time": "2022-09-17T12:03:50.390Z"
   },
   {
    "duration": 14,
    "start_time": "2022-09-17T12:03:50.397Z"
   },
   {
    "duration": 11,
    "start_time": "2022-09-17T12:04:23.567Z"
   },
   {
    "duration": 9,
    "start_time": "2022-09-17T12:04:39.317Z"
   },
   {
    "duration": 1232,
    "start_time": "2022-09-17T12:05:13.558Z"
   },
   {
    "duration": 171,
    "start_time": "2022-09-17T12:05:14.791Z"
   },
   {
    "duration": 4,
    "start_time": "2022-09-17T12:05:14.963Z"
   },
   {
    "duration": 23,
    "start_time": "2022-09-17T12:05:14.969Z"
   },
   {
    "duration": 9,
    "start_time": "2022-09-17T12:05:14.994Z"
   },
   {
    "duration": 106,
    "start_time": "2022-09-17T12:05:15.004Z"
   },
   {
    "duration": 91,
    "start_time": "2022-09-17T12:05:15.112Z"
   },
   {
    "duration": 105,
    "start_time": "2022-09-17T12:05:15.205Z"
   },
   {
    "duration": 75,
    "start_time": "2022-09-17T12:05:15.312Z"
   },
   {
    "duration": 22,
    "start_time": "2022-09-17T12:05:15.390Z"
   },
   {
    "duration": 16,
    "start_time": "2022-09-17T12:05:15.413Z"
   },
   {
    "duration": 30,
    "start_time": "2022-09-17T12:05:15.447Z"
   },
   {
    "duration": 392,
    "start_time": "2022-09-17T12:05:15.478Z"
   },
   {
    "duration": 8,
    "start_time": "2022-09-17T12:05:15.872Z"
   },
   {
    "duration": 15,
    "start_time": "2022-09-17T12:05:15.882Z"
   },
   {
    "duration": 11,
    "start_time": "2022-09-17T12:05:15.898Z"
   },
   {
    "duration": 10,
    "start_time": "2022-09-17T12:05:15.910Z"
   },
   {
    "duration": 46,
    "start_time": "2022-09-17T12:05:15.921Z"
   },
   {
    "duration": 55,
    "start_time": "2022-09-17T12:05:15.968Z"
   },
   {
    "duration": 32,
    "start_time": "2022-09-17T12:05:16.025Z"
   },
   {
    "duration": 53,
    "start_time": "2022-09-17T12:05:16.058Z"
   },
   {
    "duration": 10,
    "start_time": "2022-09-17T12:05:16.113Z"
   },
   {
    "duration": 32,
    "start_time": "2022-09-17T12:05:16.125Z"
   },
   {
    "duration": 351,
    "start_time": "2022-09-17T12:05:16.159Z"
   },
   {
    "duration": 51,
    "start_time": "2022-09-17T12:05:16.512Z"
   },
   {
    "duration": 135,
    "start_time": "2022-09-17T12:05:16.565Z"
   },
   {
    "duration": 4,
    "start_time": "2022-09-17T12:05:16.702Z"
   },
   {
    "duration": 37,
    "start_time": "2022-09-17T12:05:16.709Z"
   },
   {
    "duration": 8,
    "start_time": "2022-09-17T12:05:16.748Z"
   },
   {
    "duration": 7,
    "start_time": "2022-09-17T12:05:16.758Z"
   },
   {
    "duration": 9,
    "start_time": "2022-09-17T12:05:16.766Z"
   },
   {
    "duration": 22,
    "start_time": "2022-09-17T12:05:16.776Z"
   },
   {
    "duration": 18,
    "start_time": "2022-09-17T12:05:16.800Z"
   },
   {
    "duration": 24,
    "start_time": "2022-09-17T12:05:16.819Z"
   },
   {
    "duration": 44,
    "start_time": "2022-09-17T12:05:16.844Z"
   },
   {
    "duration": 23,
    "start_time": "2022-09-17T12:05:16.890Z"
   },
   {
    "duration": 17,
    "start_time": "2022-09-17T12:05:16.914Z"
   },
   {
    "duration": 25,
    "start_time": "2022-09-17T12:05:16.933Z"
   },
   {
    "duration": 23,
    "start_time": "2022-09-17T12:05:16.960Z"
   },
   {
    "duration": 36,
    "start_time": "2022-09-17T12:05:16.984Z"
   },
   {
    "duration": 13,
    "start_time": "2022-09-17T12:05:17.022Z"
   },
   {
    "duration": 22,
    "start_time": "2022-09-17T12:05:17.036Z"
   },
   {
    "duration": 1184,
    "start_time": "2022-09-17T12:38:45.702Z"
   },
   {
    "duration": 158,
    "start_time": "2022-09-17T12:38:46.888Z"
   },
   {
    "duration": 5,
    "start_time": "2022-09-17T12:38:47.047Z"
   },
   {
    "duration": 34,
    "start_time": "2022-09-17T12:38:47.053Z"
   },
   {
    "duration": 7,
    "start_time": "2022-09-17T12:38:47.089Z"
   },
   {
    "duration": 103,
    "start_time": "2022-09-17T12:38:47.098Z"
   },
   {
    "duration": 93,
    "start_time": "2022-09-17T12:38:47.203Z"
   },
   {
    "duration": 117,
    "start_time": "2022-09-17T12:38:47.298Z"
   },
   {
    "duration": 82,
    "start_time": "2022-09-17T12:38:47.417Z"
   },
   {
    "duration": 15,
    "start_time": "2022-09-17T12:38:47.501Z"
   },
   {
    "duration": 33,
    "start_time": "2022-09-17T12:38:47.518Z"
   },
   {
    "duration": 51,
    "start_time": "2022-09-17T12:38:47.552Z"
   },
   {
    "duration": 392,
    "start_time": "2022-09-17T12:38:47.605Z"
   },
   {
    "duration": 9,
    "start_time": "2022-09-17T12:38:48.000Z"
   },
   {
    "duration": 15,
    "start_time": "2022-09-17T12:38:48.010Z"
   },
   {
    "duration": 23,
    "start_time": "2022-09-17T12:38:48.026Z"
   },
   {
    "duration": 7,
    "start_time": "2022-09-17T12:38:48.053Z"
   },
   {
    "duration": 32,
    "start_time": "2022-09-17T12:38:48.061Z"
   },
   {
    "duration": 73,
    "start_time": "2022-09-17T12:38:48.095Z"
   },
   {
    "duration": 11,
    "start_time": "2022-09-17T12:38:48.170Z"
   },
   {
    "duration": 65,
    "start_time": "2022-09-17T12:38:48.183Z"
   },
   {
    "duration": 14,
    "start_time": "2022-09-17T12:38:48.249Z"
   },
   {
    "duration": 15,
    "start_time": "2022-09-17T12:38:48.264Z"
   },
   {
    "duration": 149,
    "start_time": "2022-09-17T12:38:48.281Z"
   },
   {
    "duration": 36,
    "start_time": "2022-09-17T12:38:48.432Z"
   },
   {
    "duration": 9,
    "start_time": "2022-09-17T12:38:48.470Z"
   },
   {
    "duration": 191,
    "start_time": "2022-09-17T12:38:48.480Z"
   },
   {
    "duration": 0,
    "start_time": "2022-09-17T12:38:48.673Z"
   },
   {
    "duration": 0,
    "start_time": "2022-09-17T12:38:48.674Z"
   },
   {
    "duration": 0,
    "start_time": "2022-09-17T12:38:48.675Z"
   },
   {
    "duration": 0,
    "start_time": "2022-09-17T12:38:48.676Z"
   },
   {
    "duration": 0,
    "start_time": "2022-09-17T12:38:48.677Z"
   },
   {
    "duration": 0,
    "start_time": "2022-09-17T12:38:48.678Z"
   },
   {
    "duration": 0,
    "start_time": "2022-09-17T12:38:48.679Z"
   },
   {
    "duration": 0,
    "start_time": "2022-09-17T12:38:48.681Z"
   },
   {
    "duration": 0,
    "start_time": "2022-09-17T12:38:48.682Z"
   },
   {
    "duration": 0,
    "start_time": "2022-09-17T12:38:48.683Z"
   },
   {
    "duration": 0,
    "start_time": "2022-09-17T12:38:48.684Z"
   },
   {
    "duration": 0,
    "start_time": "2022-09-17T12:38:48.686Z"
   },
   {
    "duration": 0,
    "start_time": "2022-09-17T12:38:48.687Z"
   },
   {
    "duration": 0,
    "start_time": "2022-09-17T12:38:48.688Z"
   },
   {
    "duration": 0,
    "start_time": "2022-09-17T12:38:48.689Z"
   },
   {
    "duration": 0,
    "start_time": "2022-09-17T12:38:48.690Z"
   },
   {
    "duration": 0,
    "start_time": "2022-09-17T12:38:48.691Z"
   },
   {
    "duration": 15,
    "start_time": "2022-09-17T12:40:41.818Z"
   },
   {
    "duration": 24,
    "start_time": "2022-09-17T12:41:22.078Z"
   },
   {
    "duration": 14,
    "start_time": "2022-09-17T12:41:28.358Z"
   },
   {
    "duration": 9,
    "start_time": "2022-09-17T12:41:35.840Z"
   },
   {
    "duration": 5,
    "start_time": "2022-09-17T12:41:58.655Z"
   },
   {
    "duration": 4,
    "start_time": "2022-09-17T12:42:10.904Z"
   },
   {
    "duration": 4,
    "start_time": "2022-09-17T12:42:18.438Z"
   },
   {
    "duration": 4,
    "start_time": "2022-09-17T12:42:24.324Z"
   },
   {
    "duration": 16,
    "start_time": "2022-09-17T12:42:52.206Z"
   },
   {
    "duration": 5,
    "start_time": "2022-09-17T12:47:10.595Z"
   },
   {
    "duration": 182,
    "start_time": "2022-09-17T12:47:10.602Z"
   },
   {
    "duration": 5,
    "start_time": "2022-09-17T12:47:10.786Z"
   },
   {
    "duration": 23,
    "start_time": "2022-09-17T12:47:10.793Z"
   },
   {
    "duration": 6,
    "start_time": "2022-09-17T12:47:10.819Z"
   },
   {
    "duration": 103,
    "start_time": "2022-09-17T12:47:10.826Z"
   },
   {
    "duration": 96,
    "start_time": "2022-09-17T12:47:10.930Z"
   },
   {
    "duration": 114,
    "start_time": "2022-09-17T12:47:11.028Z"
   },
   {
    "duration": 79,
    "start_time": "2022-09-17T12:47:11.144Z"
   },
   {
    "duration": 31,
    "start_time": "2022-09-17T12:47:11.225Z"
   },
   {
    "duration": 25,
    "start_time": "2022-09-17T12:47:11.258Z"
   },
   {
    "duration": 33,
    "start_time": "2022-09-17T12:47:11.284Z"
   },
   {
    "duration": 372,
    "start_time": "2022-09-17T12:47:11.320Z"
   },
   {
    "duration": 8,
    "start_time": "2022-09-17T12:47:11.694Z"
   },
   {
    "duration": 30,
    "start_time": "2022-09-17T12:47:11.704Z"
   },
   {
    "duration": 14,
    "start_time": "2022-09-17T12:47:11.753Z"
   },
   {
    "duration": 8,
    "start_time": "2022-09-17T12:47:11.770Z"
   },
   {
    "duration": 30,
    "start_time": "2022-09-17T12:47:11.779Z"
   },
   {
    "duration": 71,
    "start_time": "2022-09-17T12:47:11.811Z"
   },
   {
    "duration": 11,
    "start_time": "2022-09-17T12:47:11.883Z"
   },
   {
    "duration": 75,
    "start_time": "2022-09-17T12:47:11.895Z"
   },
   {
    "duration": 83,
    "start_time": "2022-09-17T12:47:11.971Z"
   },
   {
    "duration": 4,
    "start_time": "2022-09-17T12:47:12.055Z"
   },
   {
    "duration": 26,
    "start_time": "2022-09-17T12:47:12.061Z"
   },
   {
    "duration": 38,
    "start_time": "2022-09-17T12:47:12.089Z"
   },
   {
    "duration": 102,
    "start_time": "2022-09-17T12:47:12.128Z"
   },
   {
    "duration": 3,
    "start_time": "2022-09-17T12:47:12.232Z"
   },
   {
    "duration": 8,
    "start_time": "2022-09-17T12:47:12.247Z"
   },
   {
    "duration": 13,
    "start_time": "2022-09-17T12:47:12.258Z"
   },
   {
    "duration": 7,
    "start_time": "2022-09-17T12:47:12.272Z"
   },
   {
    "duration": 8,
    "start_time": "2022-09-17T12:47:12.280Z"
   },
   {
    "duration": 14,
    "start_time": "2022-09-17T12:47:12.289Z"
   },
   {
    "duration": 3,
    "start_time": "2022-09-17T12:47:12.305Z"
   },
   {
    "duration": 40,
    "start_time": "2022-09-17T12:47:12.310Z"
   },
   {
    "duration": 12,
    "start_time": "2022-09-17T12:47:12.353Z"
   },
   {
    "duration": 19,
    "start_time": "2022-09-17T12:47:12.368Z"
   },
   {
    "duration": 3,
    "start_time": "2022-09-17T12:47:12.390Z"
   },
   {
    "duration": 5,
    "start_time": "2022-09-17T12:47:12.395Z"
   },
   {
    "duration": 9,
    "start_time": "2022-09-17T12:48:40.822Z"
   },
   {
    "duration": 5,
    "start_time": "2022-09-17T12:48:55.423Z"
   },
   {
    "duration": 9,
    "start_time": "2022-09-17T12:48:56.170Z"
   },
   {
    "duration": 10,
    "start_time": "2022-09-17T12:49:17.101Z"
   },
   {
    "duration": 5,
    "start_time": "2022-09-17T12:49:24.276Z"
   },
   {
    "duration": 190,
    "start_time": "2022-09-17T12:49:24.283Z"
   },
   {
    "duration": 3,
    "start_time": "2022-09-17T12:49:24.478Z"
   },
   {
    "duration": 20,
    "start_time": "2022-09-17T12:49:24.483Z"
   },
   {
    "duration": 5,
    "start_time": "2022-09-17T12:49:24.506Z"
   },
   {
    "duration": 94,
    "start_time": "2022-09-17T12:49:24.513Z"
   },
   {
    "duration": 93,
    "start_time": "2022-09-17T12:49:24.609Z"
   },
   {
    "duration": 106,
    "start_time": "2022-09-17T12:49:24.703Z"
   },
   {
    "duration": 85,
    "start_time": "2022-09-17T12:49:24.811Z"
   },
   {
    "duration": 17,
    "start_time": "2022-09-17T12:49:24.898Z"
   },
   {
    "duration": 35,
    "start_time": "2022-09-17T12:49:24.916Z"
   },
   {
    "duration": 38,
    "start_time": "2022-09-17T12:49:24.963Z"
   },
   {
    "duration": 311,
    "start_time": "2022-09-17T12:49:25.003Z"
   },
   {
    "duration": 7,
    "start_time": "2022-09-17T12:49:25.317Z"
   },
   {
    "duration": 90,
    "start_time": "2022-09-17T12:49:25.325Z"
   },
   {
    "duration": 24,
    "start_time": "2022-09-17T12:49:25.417Z"
   },
   {
    "duration": 58,
    "start_time": "2022-09-17T12:49:25.443Z"
   },
   {
    "duration": 42,
    "start_time": "2022-09-17T12:49:25.502Z"
   },
   {
    "duration": 80,
    "start_time": "2022-09-17T12:49:25.545Z"
   },
   {
    "duration": 46,
    "start_time": "2022-09-17T12:49:25.627Z"
   },
   {
    "duration": 98,
    "start_time": "2022-09-17T12:49:25.675Z"
   },
   {
    "duration": 10,
    "start_time": "2022-09-17T12:49:25.775Z"
   },
   {
    "duration": 50,
    "start_time": "2022-09-17T12:49:25.786Z"
   },
   {
    "duration": 74,
    "start_time": "2022-09-17T12:49:25.837Z"
   },
   {
    "duration": 91,
    "start_time": "2022-09-17T12:49:25.912Z"
   },
   {
    "duration": 90,
    "start_time": "2022-09-17T12:49:26.005Z"
   },
   {
    "duration": 4,
    "start_time": "2022-09-17T12:49:26.096Z"
   },
   {
    "duration": 39,
    "start_time": "2022-09-17T12:49:26.101Z"
   },
   {
    "duration": 45,
    "start_time": "2022-09-17T12:49:26.142Z"
   },
   {
    "duration": 93,
    "start_time": "2022-09-17T12:49:26.188Z"
   },
   {
    "duration": 36,
    "start_time": "2022-09-17T12:49:26.283Z"
   },
   {
    "duration": 70,
    "start_time": "2022-09-17T12:49:26.321Z"
   },
   {
    "duration": 34,
    "start_time": "2022-09-17T12:49:26.393Z"
   },
   {
    "duration": 76,
    "start_time": "2022-09-17T12:49:26.429Z"
   },
   {
    "duration": 64,
    "start_time": "2022-09-17T12:49:26.508Z"
   },
   {
    "duration": 32,
    "start_time": "2022-09-17T12:49:26.574Z"
   },
   {
    "duration": 71,
    "start_time": "2022-09-17T12:49:26.608Z"
   },
   {
    "duration": 26,
    "start_time": "2022-09-17T12:49:26.682Z"
   },
   {
    "duration": 10,
    "start_time": "2022-09-17T12:49:35.388Z"
   },
   {
    "duration": 9,
    "start_time": "2022-09-17T12:49:36.580Z"
   },
   {
    "duration": 7,
    "start_time": "2022-09-17T12:49:38.113Z"
   },
   {
    "duration": 3,
    "start_time": "2022-09-17T12:49:39.076Z"
   },
   {
    "duration": 4,
    "start_time": "2022-09-17T12:49:40.205Z"
   },
   {
    "duration": 10,
    "start_time": "2022-09-17T12:49:40.668Z"
   },
   {
    "duration": 12,
    "start_time": "2022-09-17T12:50:46.960Z"
   },
   {
    "duration": 4,
    "start_time": "2022-09-17T12:51:14.205Z"
   },
   {
    "duration": 10,
    "start_time": "2022-09-17T12:51:25.670Z"
   },
   {
    "duration": 5,
    "start_time": "2022-09-17T12:51:58.655Z"
   },
   {
    "duration": 170,
    "start_time": "2022-09-17T12:51:58.662Z"
   },
   {
    "duration": 3,
    "start_time": "2022-09-17T12:51:58.834Z"
   },
   {
    "duration": 27,
    "start_time": "2022-09-17T12:51:58.839Z"
   },
   {
    "duration": 8,
    "start_time": "2022-09-17T12:51:58.868Z"
   },
   {
    "duration": 105,
    "start_time": "2022-09-17T12:51:58.878Z"
   },
   {
    "duration": 92,
    "start_time": "2022-09-17T12:51:58.986Z"
   },
   {
    "duration": 94,
    "start_time": "2022-09-17T12:51:59.080Z"
   },
   {
    "duration": 63,
    "start_time": "2022-09-17T12:51:59.176Z"
   },
   {
    "duration": 18,
    "start_time": "2022-09-17T12:51:59.246Z"
   },
   {
    "duration": 20,
    "start_time": "2022-09-17T12:51:59.266Z"
   },
   {
    "duration": 35,
    "start_time": "2022-09-17T12:51:59.287Z"
   },
   {
    "duration": 323,
    "start_time": "2022-09-17T12:51:59.323Z"
   },
   {
    "duration": 12,
    "start_time": "2022-09-17T12:51:59.648Z"
   },
   {
    "duration": 35,
    "start_time": "2022-09-17T12:51:59.662Z"
   },
   {
    "duration": 11,
    "start_time": "2022-09-17T12:51:59.699Z"
   },
   {
    "duration": 5,
    "start_time": "2022-09-17T12:51:59.711Z"
   },
   {
    "duration": 47,
    "start_time": "2022-09-17T12:51:59.717Z"
   },
   {
    "duration": 49,
    "start_time": "2022-09-17T12:51:59.766Z"
   },
   {
    "duration": 10,
    "start_time": "2022-09-17T12:51:59.816Z"
   },
   {
    "duration": 73,
    "start_time": "2022-09-17T12:51:59.828Z"
   },
   {
    "duration": 10,
    "start_time": "2022-09-17T12:51:59.902Z"
   },
   {
    "duration": 10,
    "start_time": "2022-09-17T12:51:59.913Z"
   },
   {
    "duration": 22,
    "start_time": "2022-09-17T12:51:59.925Z"
   },
   {
    "duration": 47,
    "start_time": "2022-09-17T12:51:59.949Z"
   },
   {
    "duration": 90,
    "start_time": "2022-09-17T12:51:59.998Z"
   },
   {
    "duration": 4,
    "start_time": "2022-09-17T12:52:00.090Z"
   },
   {
    "duration": 5,
    "start_time": "2022-09-17T12:52:00.098Z"
   },
   {
    "duration": 37,
    "start_time": "2022-09-17T12:52:00.104Z"
   },
   {
    "duration": 23,
    "start_time": "2022-09-17T12:52:00.142Z"
   },
   {
    "duration": 24,
    "start_time": "2022-09-17T12:52:00.166Z"
   },
   {
    "duration": 40,
    "start_time": "2022-09-17T12:52:00.192Z"
   },
   {
    "duration": 27,
    "start_time": "2022-09-17T12:52:00.234Z"
   },
   {
    "duration": 31,
    "start_time": "2022-09-17T12:52:00.265Z"
   },
   {
    "duration": 36,
    "start_time": "2022-09-17T12:52:00.297Z"
   },
   {
    "duration": 12,
    "start_time": "2022-09-17T12:52:00.334Z"
   },
   {
    "duration": 26,
    "start_time": "2022-09-17T12:52:00.349Z"
   },
   {
    "duration": 31,
    "start_time": "2022-09-17T12:52:00.376Z"
   },
   {
    "duration": 18,
    "start_time": "2022-09-17T12:52:00.409Z"
   },
   {
    "duration": 14,
    "start_time": "2022-09-17T12:52:00.429Z"
   },
   {
    "duration": 100,
    "start_time": "2022-09-17T12:52:00.444Z"
   },
   {
    "duration": 239,
    "start_time": "2022-09-17T12:54:31.285Z"
   },
   {
    "duration": 64,
    "start_time": "2022-09-17T12:54:39.384Z"
   },
   {
    "duration": 1086,
    "start_time": "2022-09-17T12:56:29.884Z"
   },
   {
    "duration": 176,
    "start_time": "2022-09-17T12:56:30.973Z"
   },
   {
    "duration": 9,
    "start_time": "2022-09-17T12:56:31.150Z"
   },
   {
    "duration": 23,
    "start_time": "2022-09-17T12:56:31.161Z"
   },
   {
    "duration": 9,
    "start_time": "2022-09-17T12:56:31.185Z"
   },
   {
    "duration": 112,
    "start_time": "2022-09-17T12:56:31.195Z"
   },
   {
    "duration": 91,
    "start_time": "2022-09-17T12:56:31.309Z"
   },
   {
    "duration": 112,
    "start_time": "2022-09-17T12:56:31.402Z"
   },
   {
    "duration": 83,
    "start_time": "2022-09-17T12:56:31.515Z"
   },
   {
    "duration": 15,
    "start_time": "2022-09-17T12:56:31.601Z"
   },
   {
    "duration": 15,
    "start_time": "2022-09-17T12:56:31.617Z"
   },
   {
    "duration": 51,
    "start_time": "2022-09-17T12:56:31.633Z"
   },
   {
    "duration": 399,
    "start_time": "2022-09-17T12:56:31.685Z"
   },
   {
    "duration": 9,
    "start_time": "2022-09-17T12:56:32.085Z"
   },
   {
    "duration": 27,
    "start_time": "2022-09-17T12:56:32.095Z"
   },
   {
    "duration": 26,
    "start_time": "2022-09-17T12:56:32.123Z"
   },
   {
    "duration": 8,
    "start_time": "2022-09-17T12:56:32.151Z"
   },
   {
    "duration": 39,
    "start_time": "2022-09-17T12:56:32.160Z"
   },
   {
    "duration": 58,
    "start_time": "2022-09-17T12:56:32.201Z"
   },
   {
    "duration": 13,
    "start_time": "2022-09-17T12:56:32.261Z"
   },
   {
    "duration": 56,
    "start_time": "2022-09-17T12:56:32.276Z"
   },
   {
    "duration": 20,
    "start_time": "2022-09-17T12:56:32.333Z"
   },
   {
    "duration": 25,
    "start_time": "2022-09-17T12:56:32.355Z"
   },
   {
    "duration": 158,
    "start_time": "2022-09-17T12:56:32.381Z"
   },
   {
    "duration": 38,
    "start_time": "2022-09-17T12:56:32.541Z"
   },
   {
    "duration": 136,
    "start_time": "2022-09-17T12:56:32.581Z"
   },
   {
    "duration": 34,
    "start_time": "2022-09-17T12:56:32.718Z"
   },
   {
    "duration": 13,
    "start_time": "2022-09-17T12:56:32.755Z"
   },
   {
    "duration": 12,
    "start_time": "2022-09-17T12:56:32.770Z"
   },
   {
    "duration": 5,
    "start_time": "2022-09-17T12:56:32.784Z"
   },
   {
    "duration": 16,
    "start_time": "2022-09-17T12:56:32.790Z"
   },
   {
    "duration": 17,
    "start_time": "2022-09-17T12:56:32.808Z"
   },
   {
    "duration": 4,
    "start_time": "2022-09-17T12:56:32.827Z"
   },
   {
    "duration": 24,
    "start_time": "2022-09-17T12:56:32.833Z"
   },
   {
    "duration": 34,
    "start_time": "2022-09-17T12:56:32.858Z"
   },
   {
    "duration": 19,
    "start_time": "2022-09-17T12:56:32.894Z"
   },
   {
    "duration": 15,
    "start_time": "2022-09-17T12:56:32.915Z"
   },
   {
    "duration": 11,
    "start_time": "2022-09-17T12:56:32.931Z"
   },
   {
    "duration": 19,
    "start_time": "2022-09-17T12:56:32.943Z"
   },
   {
    "duration": 8,
    "start_time": "2022-09-17T12:56:32.964Z"
   },
   {
    "duration": 14,
    "start_time": "2022-09-17T12:56:32.973Z"
   },
   {
    "duration": 4,
    "start_time": "2022-09-17T12:58:02.732Z"
   },
   {
    "duration": 11,
    "start_time": "2022-09-17T12:58:07.750Z"
   },
   {
    "duration": 22,
    "start_time": "2022-09-17T12:59:32.784Z"
   },
   {
    "duration": 21,
    "start_time": "2022-09-17T12:59:49.910Z"
   },
   {
    "duration": 16,
    "start_time": "2022-09-17T12:59:58.750Z"
   },
   {
    "duration": 18,
    "start_time": "2022-09-17T13:00:22.304Z"
   },
   {
    "duration": 3840,
    "start_time": "2022-09-17T13:01:12.799Z"
   },
   {
    "duration": 16,
    "start_time": "2022-09-17T13:01:44.823Z"
   },
   {
    "duration": 46,
    "start_time": "2022-09-17T13:03:39.977Z"
   },
   {
    "duration": 39,
    "start_time": "2022-09-17T13:03:44.135Z"
   },
   {
    "duration": 1598,
    "start_time": "2022-09-18T04:25:44.070Z"
   },
   {
    "duration": 674,
    "start_time": "2022-09-18T04:25:45.670Z"
   },
   {
    "duration": 4,
    "start_time": "2022-09-18T04:25:46.345Z"
   },
   {
    "duration": 37,
    "start_time": "2022-09-18T04:25:46.351Z"
   },
   {
    "duration": 8,
    "start_time": "2022-09-18T04:25:46.389Z"
   },
   {
    "duration": 87,
    "start_time": "2022-09-18T04:25:46.399Z"
   },
   {
    "duration": 82,
    "start_time": "2022-09-18T04:25:46.488Z"
   },
   {
    "duration": 113,
    "start_time": "2022-09-18T04:25:46.571Z"
   },
   {
    "duration": 79,
    "start_time": "2022-09-18T04:25:46.686Z"
   },
   {
    "duration": 14,
    "start_time": "2022-09-18T04:25:46.768Z"
   },
   {
    "duration": 14,
    "start_time": "2022-09-18T04:25:46.784Z"
   },
   {
    "duration": 26,
    "start_time": "2022-09-18T04:25:46.799Z"
   },
   {
    "duration": 417,
    "start_time": "2022-09-18T04:25:46.853Z"
   },
   {
    "duration": 10,
    "start_time": "2022-09-18T04:25:47.271Z"
   },
   {
    "duration": 24,
    "start_time": "2022-09-18T04:25:47.282Z"
   },
   {
    "duration": 12,
    "start_time": "2022-09-18T04:25:47.307Z"
   },
   {
    "duration": 7,
    "start_time": "2022-09-18T04:25:47.321Z"
   },
   {
    "duration": 34,
    "start_time": "2022-09-18T04:25:47.358Z"
   },
   {
    "duration": 71,
    "start_time": "2022-09-18T04:25:47.394Z"
   },
   {
    "duration": 15,
    "start_time": "2022-09-18T04:25:47.467Z"
   },
   {
    "duration": 52,
    "start_time": "2022-09-18T04:25:47.484Z"
   },
   {
    "duration": 31,
    "start_time": "2022-09-18T04:25:47.538Z"
   },
   {
    "duration": 4,
    "start_time": "2022-09-18T04:25:47.570Z"
   },
   {
    "duration": 159,
    "start_time": "2022-09-18T04:25:47.575Z"
   },
   {
    "duration": 39,
    "start_time": "2022-09-18T04:25:47.736Z"
   },
   {
    "duration": 98,
    "start_time": "2022-09-18T04:25:47.777Z"
   },
   {
    "duration": 115,
    "start_time": "2022-09-18T04:25:47.877Z"
   },
   {
    "duration": 4,
    "start_time": "2022-09-18T04:25:47.995Z"
   },
   {
    "duration": 6,
    "start_time": "2022-09-18T04:25:48.000Z"
   },
   {
    "duration": 11,
    "start_time": "2022-09-18T04:25:48.007Z"
   },
   {
    "duration": 7,
    "start_time": "2022-09-18T04:25:48.020Z"
   },
   {
    "duration": 30,
    "start_time": "2022-09-18T04:25:48.029Z"
   },
   {
    "duration": 26,
    "start_time": "2022-09-18T04:25:48.060Z"
   },
   {
    "duration": 7,
    "start_time": "2022-09-18T04:25:48.087Z"
   },
   {
    "duration": 10,
    "start_time": "2022-09-18T04:25:48.095Z"
   },
   {
    "duration": 8,
    "start_time": "2022-09-18T04:25:48.107Z"
   },
   {
    "duration": 8,
    "start_time": "2022-09-18T04:25:48.116Z"
   },
   {
    "duration": 10,
    "start_time": "2022-09-18T04:25:48.126Z"
   },
   {
    "duration": 7,
    "start_time": "2022-09-18T04:25:48.138Z"
   },
   {
    "duration": 20,
    "start_time": "2022-09-18T04:25:48.146Z"
   },
   {
    "duration": 7,
    "start_time": "2022-09-18T04:25:48.168Z"
   },
   {
    "duration": 13,
    "start_time": "2022-09-18T04:25:48.176Z"
   },
   {
    "duration": 5,
    "start_time": "2022-09-18T04:27:59.579Z"
   },
   {
    "duration": 127,
    "start_time": "2022-09-18T04:28:12.035Z"
   },
   {
    "duration": 50,
    "start_time": "2022-09-18T04:28:50.507Z"
   },
   {
    "duration": 3,
    "start_time": "2022-09-18T04:28:54.435Z"
   },
   {
    "duration": 5,
    "start_time": "2022-09-18T04:28:58.334Z"
   },
   {
    "duration": 28,
    "start_time": "2022-09-18T04:29:42.793Z"
   },
   {
    "duration": 5,
    "start_time": "2022-09-18T04:30:04.465Z"
   },
   {
    "duration": 32,
    "start_time": "2022-09-18T04:30:16.035Z"
   },
   {
    "duration": 27,
    "start_time": "2022-09-18T04:30:45.408Z"
   },
   {
    "duration": 28,
    "start_time": "2022-09-18T04:31:16.282Z"
   },
   {
    "duration": 45,
    "start_time": "2022-09-18T04:32:39.921Z"
   },
   {
    "duration": 32,
    "start_time": "2022-09-18T04:33:14.035Z"
   },
   {
    "duration": 24,
    "start_time": "2022-09-18T04:33:35.222Z"
   },
   {
    "duration": 406,
    "start_time": "2022-09-18T04:35:58.867Z"
   },
   {
    "duration": 419,
    "start_time": "2022-09-18T04:36:03.606Z"
   },
   {
    "duration": 489,
    "start_time": "2022-09-18T04:41:11.418Z"
   },
   {
    "duration": 11,
    "start_time": "2022-09-18T04:41:36.588Z"
   },
   {
    "duration": 12,
    "start_time": "2022-09-18T04:42:37.260Z"
   },
   {
    "duration": 309,
    "start_time": "2022-09-18T04:42:40.659Z"
   },
   {
    "duration": 32,
    "start_time": "2022-09-18T04:42:50.403Z"
   },
   {
    "duration": 351,
    "start_time": "2022-09-18T04:42:54.751Z"
   },
   {
    "duration": 17,
    "start_time": "2022-09-18T04:44:05.417Z"
   },
   {
    "duration": 43,
    "start_time": "2022-09-18T04:44:15.793Z"
   },
   {
    "duration": 8,
    "start_time": "2022-09-18T04:44:41.780Z"
   },
   {
    "duration": 9,
    "start_time": "2022-09-18T04:51:04.973Z"
   },
   {
    "duration": 6,
    "start_time": "2022-09-18T04:51:24.239Z"
   },
   {
    "duration": 156,
    "start_time": "2022-09-18T04:51:24.247Z"
   },
   {
    "duration": 3,
    "start_time": "2022-09-18T04:51:24.404Z"
   },
   {
    "duration": 22,
    "start_time": "2022-09-18T04:51:24.409Z"
   },
   {
    "duration": 6,
    "start_time": "2022-09-18T04:51:24.433Z"
   },
   {
    "duration": 81,
    "start_time": "2022-09-18T04:51:24.454Z"
   },
   {
    "duration": 92,
    "start_time": "2022-09-18T04:51:24.536Z"
   },
   {
    "duration": 111,
    "start_time": "2022-09-18T04:51:24.630Z"
   },
   {
    "duration": 70,
    "start_time": "2022-09-18T04:51:24.743Z"
   },
   {
    "duration": 15,
    "start_time": "2022-09-18T04:51:24.814Z"
   },
   {
    "duration": 29,
    "start_time": "2022-09-18T04:51:24.830Z"
   },
   {
    "duration": 27,
    "start_time": "2022-09-18T04:51:24.860Z"
   },
   {
    "duration": 305,
    "start_time": "2022-09-18T04:51:24.888Z"
   },
   {
    "duration": 9,
    "start_time": "2022-09-18T04:51:25.197Z"
   },
   {
    "duration": 21,
    "start_time": "2022-09-18T04:51:25.208Z"
   },
   {
    "duration": 40,
    "start_time": "2022-09-18T04:51:25.231Z"
   },
   {
    "duration": 10,
    "start_time": "2022-09-18T04:51:25.273Z"
   },
   {
    "duration": 28,
    "start_time": "2022-09-18T04:51:25.284Z"
   },
   {
    "duration": 67,
    "start_time": "2022-09-18T04:51:25.314Z"
   },
   {
    "duration": 7,
    "start_time": "2022-09-18T04:51:25.382Z"
   },
   {
    "duration": 12,
    "start_time": "2022-09-18T04:52:43.185Z"
   },
   {
    "duration": 1188,
    "start_time": "2022-09-18T04:53:46.154Z"
   },
   {
    "duration": 185,
    "start_time": "2022-09-18T04:53:47.344Z"
   },
   {
    "duration": 3,
    "start_time": "2022-09-18T04:53:47.531Z"
   },
   {
    "duration": 36,
    "start_time": "2022-09-18T04:53:47.536Z"
   },
   {
    "duration": 12,
    "start_time": "2022-09-18T04:53:47.574Z"
   },
   {
    "duration": 99,
    "start_time": "2022-09-18T04:53:47.588Z"
   },
   {
    "duration": 96,
    "start_time": "2022-09-18T04:53:47.689Z"
   },
   {
    "duration": 120,
    "start_time": "2022-09-18T04:53:47.786Z"
   },
   {
    "duration": 77,
    "start_time": "2022-09-18T04:53:47.908Z"
   },
   {
    "duration": 15,
    "start_time": "2022-09-18T04:53:47.988Z"
   },
   {
    "duration": 14,
    "start_time": "2022-09-18T04:53:48.004Z"
   },
   {
    "duration": 55,
    "start_time": "2022-09-18T04:53:48.020Z"
   },
   {
    "duration": 418,
    "start_time": "2022-09-18T04:53:48.077Z"
   },
   {
    "duration": 9,
    "start_time": "2022-09-18T04:53:48.497Z"
   },
   {
    "duration": 24,
    "start_time": "2022-09-18T04:53:48.507Z"
   },
   {
    "duration": 13,
    "start_time": "2022-09-18T04:53:48.559Z"
   },
   {
    "duration": 6,
    "start_time": "2022-09-18T04:53:48.574Z"
   },
   {
    "duration": 31,
    "start_time": "2022-09-18T04:53:48.582Z"
   },
   {
    "duration": 78,
    "start_time": "2022-09-18T04:53:48.615Z"
   },
   {
    "duration": 7,
    "start_time": "2022-09-18T04:53:48.694Z"
   },
   {
    "duration": 12,
    "start_time": "2022-09-18T04:53:48.703Z"
   },
   {
    "duration": 75,
    "start_time": "2022-09-18T04:53:48.717Z"
   },
   {
    "duration": 11,
    "start_time": "2022-09-18T04:53:48.794Z"
   },
   {
    "duration": 7,
    "start_time": "2022-09-18T04:53:48.807Z"
   },
   {
    "duration": 177,
    "start_time": "2022-09-18T04:53:48.816Z"
   },
   {
    "duration": 37,
    "start_time": "2022-09-18T04:53:48.995Z"
   },
   {
    "duration": 99,
    "start_time": "2022-09-18T04:53:49.060Z"
   },
   {
    "duration": 9,
    "start_time": "2022-09-18T04:53:49.162Z"
   },
   {
    "duration": 102,
    "start_time": "2022-09-18T04:53:49.173Z"
   },
   {
    "duration": 4,
    "start_time": "2022-09-18T04:53:49.277Z"
   },
   {
    "duration": 7,
    "start_time": "2022-09-18T04:53:49.283Z"
   },
   {
    "duration": 7,
    "start_time": "2022-09-18T04:53:49.292Z"
   },
   {
    "duration": 6,
    "start_time": "2022-09-18T04:53:49.300Z"
   },
   {
    "duration": 5,
    "start_time": "2022-09-18T04:53:49.307Z"
   },
   {
    "duration": 41,
    "start_time": "2022-09-18T04:53:49.314Z"
   },
   {
    "duration": 17,
    "start_time": "2022-09-18T04:53:49.357Z"
   },
   {
    "duration": 11,
    "start_time": "2022-09-18T04:53:49.375Z"
   },
   {
    "duration": 8,
    "start_time": "2022-09-18T04:53:49.388Z"
   },
   {
    "duration": 8,
    "start_time": "2022-09-18T04:53:49.398Z"
   },
   {
    "duration": 5,
    "start_time": "2022-09-18T04:53:49.407Z"
   },
   {
    "duration": 6,
    "start_time": "2022-09-18T04:53:49.414Z"
   },
   {
    "duration": 38,
    "start_time": "2022-09-18T04:53:49.421Z"
   },
   {
    "duration": 7,
    "start_time": "2022-09-18T04:53:49.465Z"
   },
   {
    "duration": 14,
    "start_time": "2022-09-18T04:53:49.474Z"
   },
   {
    "duration": 1443,
    "start_time": "2022-09-18T08:03:16.341Z"
   },
   {
    "duration": 664,
    "start_time": "2022-09-18T08:03:17.787Z"
   },
   {
    "duration": 12,
    "start_time": "2022-09-18T08:03:18.455Z"
   },
   {
    "duration": 22,
    "start_time": "2022-09-18T08:03:18.470Z"
   },
   {
    "duration": 8,
    "start_time": "2022-09-18T08:03:18.493Z"
   },
   {
    "duration": 108,
    "start_time": "2022-09-18T08:03:18.502Z"
   },
   {
    "duration": 101,
    "start_time": "2022-09-18T08:03:18.612Z"
   },
   {
    "duration": 109,
    "start_time": "2022-09-18T08:03:18.714Z"
   },
   {
    "duration": 84,
    "start_time": "2022-09-18T08:03:18.825Z"
   },
   {
    "duration": 15,
    "start_time": "2022-09-18T08:03:18.911Z"
   },
   {
    "duration": 35,
    "start_time": "2022-09-18T08:03:18.928Z"
   },
   {
    "duration": 29,
    "start_time": "2022-09-18T08:03:18.964Z"
   },
   {
    "duration": 431,
    "start_time": "2022-09-18T08:03:18.994Z"
   },
   {
    "duration": 9,
    "start_time": "2022-09-18T08:03:19.427Z"
   },
   {
    "duration": 34,
    "start_time": "2022-09-18T08:03:19.438Z"
   },
   {
    "duration": 11,
    "start_time": "2022-09-18T08:03:19.474Z"
   },
   {
    "duration": 4,
    "start_time": "2022-09-18T08:03:19.487Z"
   },
   {
    "duration": 33,
    "start_time": "2022-09-18T08:03:19.493Z"
   },
   {
    "duration": 83,
    "start_time": "2022-09-18T08:03:19.528Z"
   },
   {
    "duration": 7,
    "start_time": "2022-09-18T08:03:19.612Z"
   },
   {
    "duration": 13,
    "start_time": "2022-09-18T08:03:19.621Z"
   },
   {
    "duration": 72,
    "start_time": "2022-09-18T08:03:19.636Z"
   },
   {
    "duration": 11,
    "start_time": "2022-09-18T08:03:19.710Z"
   },
   {
    "duration": 6,
    "start_time": "2022-09-18T08:03:19.722Z"
   },
   {
    "duration": 176,
    "start_time": "2022-09-18T08:03:19.730Z"
   },
   {
    "duration": 59,
    "start_time": "2022-09-18T08:03:19.907Z"
   },
   {
    "duration": 89,
    "start_time": "2022-09-18T08:03:19.968Z"
   },
   {
    "duration": 10,
    "start_time": "2022-09-18T08:03:20.060Z"
   },
   {
    "duration": 126,
    "start_time": "2022-09-18T08:03:20.072Z"
   },
   {
    "duration": 5,
    "start_time": "2022-09-18T08:03:20.200Z"
   },
   {
    "duration": 37,
    "start_time": "2022-09-18T08:03:20.208Z"
   },
   {
    "duration": 21,
    "start_time": "2022-09-18T08:03:20.247Z"
   },
   {
    "duration": 18,
    "start_time": "2022-09-18T08:03:20.270Z"
   },
   {
    "duration": 9,
    "start_time": "2022-09-18T08:03:20.290Z"
   },
   {
    "duration": 13,
    "start_time": "2022-09-18T08:03:20.300Z"
   },
   {
    "duration": 11,
    "start_time": "2022-09-18T08:03:20.315Z"
   },
   {
    "duration": 22,
    "start_time": "2022-09-18T08:03:20.328Z"
   },
   {
    "duration": 32,
    "start_time": "2022-09-18T08:03:20.352Z"
   },
   {
    "duration": 9,
    "start_time": "2022-09-18T08:03:20.387Z"
   },
   {
    "duration": 32,
    "start_time": "2022-09-18T08:03:20.398Z"
   },
   {
    "duration": 17,
    "start_time": "2022-09-18T08:03:20.432Z"
   },
   {
    "duration": 35,
    "start_time": "2022-09-18T08:03:20.450Z"
   },
   {
    "duration": 9,
    "start_time": "2022-09-18T08:03:20.487Z"
   },
   {
    "duration": 17,
    "start_time": "2022-09-18T08:03:20.498Z"
   }
  ],
  "kernelspec": {
   "display_name": "Python 3 (ipykernel)",
   "language": "python",
   "name": "python3"
  },
  "language_info": {
   "codemirror_mode": {
    "name": "ipython",
    "version": 3
   },
   "file_extension": ".py",
   "mimetype": "text/x-python",
   "name": "python",
   "nbconvert_exporter": "python",
   "pygments_lexer": "ipython3",
   "version": "3.9.13"
  },
  "toc": {
   "base_numbering": 1,
   "nav_menu": {},
   "number_sections": true,
   "sideBar": true,
   "skip_h1_title": true,
   "title_cell": "Table of Contents",
   "title_sidebar": "Contents",
   "toc_cell": false,
   "toc_position": {
    "height": "calc(100% - 180px)",
    "left": "10px",
    "top": "150px",
    "width": "302.59375px"
   },
   "toc_section_display": true,
   "toc_window_display": false
  }
 },
 "nbformat": 4,
 "nbformat_minor": 2
}
