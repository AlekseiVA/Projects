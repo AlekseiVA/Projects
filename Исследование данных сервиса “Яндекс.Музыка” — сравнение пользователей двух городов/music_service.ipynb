{
 "cells": [
  {
   "cell_type": "markdown",
   "metadata": {
    "id": "E0vqbgi9ay0H"
   },
   "source": [
    "# Яндекс.Музыка"
   ]
  },
  {
   "cell_type": "markdown",
   "metadata": {
    "id": "VUC88oWjTJw2"
   },
   "source": [
    "Сравнение Москвы и Петербурга окружено мифами. Например:\n",
    " * Москва — мегаполис, подчинённый жёсткому ритму рабочей недели;\n",
    " * Петербург — культурная столица, со своими вкусами.\n",
    "\n",
    "На данных Яндекс.Музыки мы сравним поведение пользователей двух столиц.\n",
    "\n",
    "**Цель исследования** — проверить три гипотезы:\n",
    "1. Активность пользователей зависит от дня недели. Причём в Москве и Петербурге это проявляется по-разному.\n",
    "2. В понедельник утром в Москве преобладают одни жанры, а в Петербурге — другие. Так же и вечером пятницы преобладают разные жанры — в зависимости от города. \n",
    "3. Москва и Петербург предпочитают разные жанры музыки. В Москве чаще слушают поп-музыку, в Петербурге — русский рэп.\n",
    "\n",
    "**Ход исследования**\n",
    "\n",
    "Данные о поведении пользователей мы получим из файла `yandex_music_project.csv`. О качестве данных ничего не известно. Поэтому перед проверкой гипотез понадобится обзор данных. \n",
    "\n",
    "Проверим данные на ошибки и оценим их влияние на исследование. Затем, на этапе предобработки поищем возможность исправить самые критичные ошибки данных.\n",
    " \n",
    "Таким образом, исследование пройдёт в три этапа:\n",
    " 1. Обзор данных.\n",
    " 2. Предобработка данных.\n",
    " 3. Проверка гипотез.\n",
    "\n"
   ]
  },
  {
   "cell_type": "markdown",
   "metadata": {
    "id": "Ml1hmfXC_Zcs"
   },
   "source": [
    "## Обзор данных\n",
    "\n",
    "Изучим внимательно, с чем будем работать\n",
    "\n",
    "\n"
   ]
  },
  {
   "cell_type": "code",
   "execution_count": 1,
   "metadata": {
    "id": "AXN7PHPN_Zcs"
   },
   "outputs": [],
   "source": [
    "import pandas as pd # импортируем библиотеку pandas"
   ]
  },
  {
   "cell_type": "markdown",
   "metadata": {
    "id": "SG23P8tt_Zcs"
   },
   "source": [
    "Прочитаем датасет и сохраним в переменной ``df``"
   ]
  },
  {
   "cell_type": "code",
   "execution_count": 2,
   "metadata": {
    "id": "fFVu7vqh_Zct"
   },
   "outputs": [],
   "source": [
    "df = pd.read_csv('/Users/alekseivlasov/Desktop/project/1/yandex_music_project.csv') "
   ]
  },
  {
   "cell_type": "markdown",
   "metadata": {
    "id": "rDoOMd3uTqnZ"
   },
   "source": [
    "Посмотрим на данные"
   ]
  },
  {
   "cell_type": "code",
   "execution_count": 3,
   "metadata": {
    "id": "oWTVX3gW_Zct"
   },
   "outputs": [
    {
     "data": {
      "text/html": [
       "<div>\n",
       "<style scoped>\n",
       "    .dataframe tbody tr th:only-of-type {\n",
       "        vertical-align: middle;\n",
       "    }\n",
       "\n",
       "    .dataframe tbody tr th {\n",
       "        vertical-align: top;\n",
       "    }\n",
       "\n",
       "    .dataframe thead th {\n",
       "        text-align: right;\n",
       "    }\n",
       "</style>\n",
       "<table border=\"1\" class=\"dataframe\">\n",
       "  <thead>\n",
       "    <tr style=\"text-align: right;\">\n",
       "      <th></th>\n",
       "      <th>userID</th>\n",
       "      <th>Track</th>\n",
       "      <th>artist</th>\n",
       "      <th>genre</th>\n",
       "      <th>City</th>\n",
       "      <th>time</th>\n",
       "      <th>Day</th>\n",
       "    </tr>\n",
       "  </thead>\n",
       "  <tbody>\n",
       "    <tr>\n",
       "      <th>0</th>\n",
       "      <td>FFB692EC</td>\n",
       "      <td>Kamigata To Boots</td>\n",
       "      <td>The Mass Missile</td>\n",
       "      <td>rock</td>\n",
       "      <td>Saint-Petersburg</td>\n",
       "      <td>20:28:33</td>\n",
       "      <td>Wednesday</td>\n",
       "    </tr>\n",
       "    <tr>\n",
       "      <th>1</th>\n",
       "      <td>55204538</td>\n",
       "      <td>Delayed Because of Accident</td>\n",
       "      <td>Andreas Rönnberg</td>\n",
       "      <td>rock</td>\n",
       "      <td>Moscow</td>\n",
       "      <td>14:07:09</td>\n",
       "      <td>Friday</td>\n",
       "    </tr>\n",
       "    <tr>\n",
       "      <th>2</th>\n",
       "      <td>20EC38</td>\n",
       "      <td>Funiculì funiculà</td>\n",
       "      <td>Mario Lanza</td>\n",
       "      <td>pop</td>\n",
       "      <td>Saint-Petersburg</td>\n",
       "      <td>20:58:07</td>\n",
       "      <td>Wednesday</td>\n",
       "    </tr>\n",
       "    <tr>\n",
       "      <th>3</th>\n",
       "      <td>A3DD03C9</td>\n",
       "      <td>Dragons in the Sunset</td>\n",
       "      <td>Fire + Ice</td>\n",
       "      <td>folk</td>\n",
       "      <td>Saint-Petersburg</td>\n",
       "      <td>08:37:09</td>\n",
       "      <td>Monday</td>\n",
       "    </tr>\n",
       "    <tr>\n",
       "      <th>4</th>\n",
       "      <td>E2DC1FAE</td>\n",
       "      <td>Soul People</td>\n",
       "      <td>Space Echo</td>\n",
       "      <td>dance</td>\n",
       "      <td>Moscow</td>\n",
       "      <td>08:34:34</td>\n",
       "      <td>Monday</td>\n",
       "    </tr>\n",
       "    <tr>\n",
       "      <th>5</th>\n",
       "      <td>842029A1</td>\n",
       "      <td>Преданная</td>\n",
       "      <td>IMPERVTOR</td>\n",
       "      <td>rusrap</td>\n",
       "      <td>Saint-Petersburg</td>\n",
       "      <td>13:09:41</td>\n",
       "      <td>Friday</td>\n",
       "    </tr>\n",
       "    <tr>\n",
       "      <th>6</th>\n",
       "      <td>4CB90AA5</td>\n",
       "      <td>True</td>\n",
       "      <td>Roman Messer</td>\n",
       "      <td>dance</td>\n",
       "      <td>Moscow</td>\n",
       "      <td>13:00:07</td>\n",
       "      <td>Wednesday</td>\n",
       "    </tr>\n",
       "    <tr>\n",
       "      <th>7</th>\n",
       "      <td>F03E1C1F</td>\n",
       "      <td>Feeling This Way</td>\n",
       "      <td>Polina Griffith</td>\n",
       "      <td>dance</td>\n",
       "      <td>Moscow</td>\n",
       "      <td>20:47:49</td>\n",
       "      <td>Wednesday</td>\n",
       "    </tr>\n",
       "    <tr>\n",
       "      <th>8</th>\n",
       "      <td>8FA1D3BE</td>\n",
       "      <td>И вновь продолжается бой</td>\n",
       "      <td>NaN</td>\n",
       "      <td>ruspop</td>\n",
       "      <td>Moscow</td>\n",
       "      <td>09:17:40</td>\n",
       "      <td>Friday</td>\n",
       "    </tr>\n",
       "    <tr>\n",
       "      <th>9</th>\n",
       "      <td>E772D5C0</td>\n",
       "      <td>Pessimist</td>\n",
       "      <td>NaN</td>\n",
       "      <td>dance</td>\n",
       "      <td>Saint-Petersburg</td>\n",
       "      <td>21:20:49</td>\n",
       "      <td>Wednesday</td>\n",
       "    </tr>\n",
       "  </tbody>\n",
       "</table>\n",
       "</div>"
      ],
      "text/plain": [
       "     userID                        Track            artist   genre  \\\n",
       "0  FFB692EC            Kamigata To Boots  The Mass Missile    rock   \n",
       "1  55204538  Delayed Because of Accident  Andreas Rönnberg    rock   \n",
       "2    20EC38            Funiculì funiculà       Mario Lanza     pop   \n",
       "3  A3DD03C9        Dragons in the Sunset        Fire + Ice    folk   \n",
       "4  E2DC1FAE                  Soul People        Space Echo   dance   \n",
       "5  842029A1                    Преданная         IMPERVTOR  rusrap   \n",
       "6  4CB90AA5                         True      Roman Messer   dance   \n",
       "7  F03E1C1F             Feeling This Way   Polina Griffith   dance   \n",
       "8  8FA1D3BE     И вновь продолжается бой               NaN  ruspop   \n",
       "9  E772D5C0                    Pessimist               NaN   dance   \n",
       "\n",
       "             City        time        Day  \n",
       "0  Saint-Petersburg  20:28:33  Wednesday  \n",
       "1            Moscow  14:07:09     Friday  \n",
       "2  Saint-Petersburg  20:58:07  Wednesday  \n",
       "3  Saint-Petersburg  08:37:09     Monday  \n",
       "4            Moscow  08:34:34     Monday  \n",
       "5  Saint-Petersburg  13:09:41     Friday  \n",
       "6            Moscow  13:00:07  Wednesday  \n",
       "7            Moscow  20:47:49  Wednesday  \n",
       "8            Moscow  09:17:40     Friday  \n",
       "9  Saint-Petersburg  21:20:49  Wednesday  "
      ]
     },
     "execution_count": 3,
     "metadata": {},
     "output_type": "execute_result"
    }
   ],
   "source": [
    "df.head(10)"
   ]
  },
  {
   "cell_type": "markdown",
   "metadata": {
    "id": "EO73Kwic_Zct"
   },
   "source": [
    "Изучим общую информацию о таблице:"
   ]
  },
  {
   "cell_type": "code",
   "execution_count": 4,
   "metadata": {
    "id": "DSf2kIb-_Zct",
    "scrolled": true
   },
   "outputs": [
    {
     "name": "stdout",
     "output_type": "stream",
     "text": [
      "<class 'pandas.core.frame.DataFrame'>\n",
      "RangeIndex: 65079 entries, 0 to 65078\n",
      "Data columns (total 7 columns):\n",
      " #   Column    Non-Null Count  Dtype \n",
      "---  ------    --------------  ----- \n",
      " 0     userID  65079 non-null  object\n",
      " 1   Track     63848 non-null  object\n",
      " 2   artist    57876 non-null  object\n",
      " 3   genre     63881 non-null  object\n",
      " 4     City    65079 non-null  object\n",
      " 5   time      65079 non-null  object\n",
      " 6   Day       65079 non-null  object\n",
      "dtypes: object(7)\n",
      "memory usage: 3.5+ MB\n"
     ]
    }
   ],
   "source": [
    "df.info()"
   ]
  },
  {
   "cell_type": "markdown",
   "metadata": {
    "id": "TaQ2Iwbr_Zct"
   },
   "source": [
    "В таблице семь столбцов, с типом данных — `object`\n",
    "\n",
    "Согласно документации к данным:\n",
    "* `userID` — идентификатор пользователя;\n",
    "* `Track` — название трека;  \n",
    "* `artist` — имя исполнителя;\n",
    "* `genre` — название жанра;\n",
    "* `City` — город пользователя;\n",
    "* `time` — время начала прослушивания;\n",
    "* `Day` — день недели.\n",
    "\n",
    "В названиях колонок видны три нарушения стиля:\n",
    "1. Строчные буквы сочетаются с прописными.\n",
    "2. Встречаются пробелы.\n",
    "3. Встречается врблюжий стиль.\n",
    "\n",
    "Количество значений в столбцах различается. Значит, в данных есть пропущенные значения."
   ]
  },
  {
   "cell_type": "markdown",
   "metadata": {
    "id": "MCB6-dXG_Zct"
   },
   "source": [
    "**Вывод**\n",
    "\n",
    "В каждой строке таблицы — данные о прослушанном треке. Часть колонок описывает саму композицию: название, исполнителя и жанр. Остальные данные рассказывают о пользователе: из какого он города, когда он слушал музыку. \n",
    "\n",
    "Предварительно можно утверждать, что, данных достаточно для проверки гипотез. Но встречаются пропуски в данных, а в названиях колонок — расхождения с хорошим стилем.\n",
    "\n",
    "Чтобы двигаться дальше, нужно устранить проблемы в данных."
   ]
  },
  {
   "cell_type": "markdown",
   "metadata": {
    "id": "SjYF6Ub9_Zct"
   },
   "source": [
    "## Предобработка данных\n",
    "Исправим стиль в заголовках столбцов, исключим пропуски. Затем проверим данные на дубликаты."
   ]
  },
  {
   "cell_type": "markdown",
   "metadata": {
    "id": "dIaKXr29_Zct"
   },
   "source": [
    "### Стиль заголовков\n",
    "Выведем на экран названия столбцов:"
   ]
  },
  {
   "cell_type": "code",
   "execution_count": 5,
   "metadata": {
    "id": "oKOTdF_Q_Zct"
   },
   "outputs": [
    {
     "data": {
      "text/plain": [
       "Index(['  userID', 'Track', 'artist', 'genre', '  City  ', 'time', 'Day'], dtype='object')"
      ]
     },
     "execution_count": 5,
     "metadata": {},
     "output_type": "execute_result"
    }
   ],
   "source": [
    "df.columns"
   ]
  },
  {
   "cell_type": "markdown",
   "metadata": {
    "id": "zj5534cv_Zct"
   },
   "source": [
    "Приведем название столбцов к правильному стилю"
   ]
  },
  {
   "cell_type": "code",
   "execution_count": 6,
   "metadata": {
    "id": "ISlFqs5y_Zct"
   },
   "outputs": [],
   "source": [
    "df = df.rename(columns=\n",
    "               {'  userID':'user_id', 'Track':'track', '  City  ':'city', 'Day':'day'}\n",
    ")"
   ]
  },
  {
   "cell_type": "code",
   "execution_count": 7,
   "metadata": {
    "id": "d4NOAmTW_Zct"
   },
   "outputs": [
    {
     "data": {
      "text/plain": [
       "Index(['user_id', 'track', 'artist', 'genre', 'city', 'time', 'day'], dtype='object')"
      ]
     },
     "execution_count": 7,
     "metadata": {},
     "output_type": "execute_result"
    }
   ],
   "source": [
    "df.columns"
   ]
  },
  {
   "cell_type": "markdown",
   "metadata": {
    "id": "5ISfbcfY_Zct"
   },
   "source": [
    "### Пропуски значений\n",
    "Сначала посчитаем, сколько в таблице пропущенных значений"
   ]
  },
  {
   "cell_type": "code",
   "execution_count": 8,
   "metadata": {
    "id": "RskX29qr_Zct"
   },
   "outputs": [
    {
     "data": {
      "text/plain": [
       "user_id       0\n",
       "track      1231\n",
       "artist     7203\n",
       "genre      1198\n",
       "city          0\n",
       "time          0\n",
       "day           0\n",
       "dtype: int64"
      ]
     },
     "execution_count": 8,
     "metadata": {},
     "output_type": "execute_result"
    }
   ],
   "source": [
    "df.isna().sum()"
   ]
  },
  {
   "cell_type": "markdown",
   "metadata": {
    "id": "qubhgnlO_Zct"
   },
   "source": [
    "Не все пропущенные значения влияют на исследование. Так в `track` и `artist` пропуски не важны для нашей работы. Достаточно заменить их явными обозначениями.\n",
    "\n",
    "Но пропуски в `genre` могут помешать сравнению музыкальных вкусов в Москве и Санкт-Петербурге. На практике было бы правильно установить причину пропусков и восстановить данные. Такой возможности нет в учебном проекте. Придётся:\n",
    "* заполнить и эти пропуски явными обозначениями,\n",
    "* оценить, насколько они повредят расчётам. "
   ]
  },
  {
   "cell_type": "markdown",
   "metadata": {
    "id": "fSv2laPA_Zct"
   },
   "source": [
    "Заменим пропущенные значения в столбцах `track`, `artist` и `genre` на строку `'unknown'`"
   ]
  },
  {
   "cell_type": "code",
   "execution_count": 9,
   "metadata": {
    "id": "KplB5qWs_Zct"
   },
   "outputs": [],
   "source": [
    "columns_to_replace = ['track', 'artist', 'genre']\n",
    "for column in columns_to_replace:\n",
    "    df[column] = df[column].fillna('unknown')"
   ]
  },
  {
   "cell_type": "markdown",
   "metadata": {
    "id": "Ilsm-MZo_Zct"
   },
   "source": [
    "Проверим, все ли сработало"
   ]
  },
  {
   "cell_type": "code",
   "execution_count": 10,
   "metadata": {
    "id": "Tq4nYRX4_Zct"
   },
   "outputs": [
    {
     "data": {
      "text/plain": [
       "user_id    0\n",
       "track      0\n",
       "artist     0\n",
       "genre      0\n",
       "city       0\n",
       "time       0\n",
       "day        0\n",
       "dtype: int64"
      ]
     },
     "execution_count": 10,
     "metadata": {},
     "output_type": "execute_result"
    }
   ],
   "source": [
    "df.isna().sum()"
   ]
  },
  {
   "cell_type": "markdown",
   "metadata": {
    "id": "BWKRtBJ3_Zct"
   },
   "source": [
    "### Дубликаты\n",
    "Посмотрим на явные дубликаты"
   ]
  },
  {
   "cell_type": "code",
   "execution_count": 11,
   "metadata": {
    "id": "36eES_S0_Zct"
   },
   "outputs": [
    {
     "data": {
      "text/plain": [
       "3826"
      ]
     },
     "execution_count": 11,
     "metadata": {},
     "output_type": "execute_result"
    }
   ],
   "source": [
    "df.duplicated().sum()"
   ]
  },
  {
   "cell_type": "markdown",
   "metadata": {
    "id": "Ot25h6XR_Zct"
   },
   "source": [
    "Дубликаты есть, мы их удалим"
   ]
  },
  {
   "cell_type": "code",
   "execution_count": 12,
   "metadata": {
    "id": "exFHq6tt_Zct"
   },
   "outputs": [],
   "source": [
    "df = df.drop_duplicates().reset_index(drop=True)"
   ]
  },
  {
   "cell_type": "code",
   "execution_count": 13,
   "metadata": {
    "id": "-8PuNWQ0_Zct"
   },
   "outputs": [
    {
     "data": {
      "text/plain": [
       "0"
      ]
     },
     "execution_count": 13,
     "metadata": {},
     "output_type": "execute_result"
    }
   ],
   "source": [
    "df.duplicated().sum()"
   ]
  },
  {
   "cell_type": "markdown",
   "metadata": {
    "id": "QlFBsxAr_Zct"
   },
   "source": [
    "Теперь избавимся от неявных дубликатов в колонке `genre`. Например, название одного и того же жанра может быть записано немного по-разному. Такие ошибки тоже повлияют на результат исследования."
   ]
  },
  {
   "cell_type": "markdown",
   "metadata": {
    "id": "eSjWwsOh_Zct"
   },
   "source": [
    "Выведем на экран список уникальных названий жанров, отсортированный в алфавитном порядке"
   ]
  },
  {
   "cell_type": "code",
   "execution_count": 14,
   "metadata": {
    "id": "JIUcqzZN_Zct",
    "scrolled": true
   },
   "outputs": [
    {
     "data": {
      "text/plain": [
       "array(['acid', 'acoustic', 'action', 'adult', 'africa', 'afrikaans',\n",
       "       'alternative', 'alternativepunk', 'ambient', 'americana',\n",
       "       'animated', 'anime', 'arabesk', 'arabic', 'arena',\n",
       "       'argentinetango', 'art', 'audiobook', 'author', 'avantgarde',\n",
       "       'axé', 'baile', 'balkan', 'beats', 'bigroom', 'black', 'bluegrass',\n",
       "       'blues', 'bollywood', 'bossa', 'brazilian', 'breakbeat', 'breaks',\n",
       "       'broadway', 'cantautori', 'cantopop', 'canzone', 'caribbean',\n",
       "       'caucasian', 'celtic', 'chamber', 'chanson', 'children', 'chill',\n",
       "       'chinese', 'choral', 'christian', 'christmas', 'classical',\n",
       "       'classicmetal', 'club', 'colombian', 'comedy', 'conjazz',\n",
       "       'contemporary', 'country', 'cuban', 'dance', 'dancehall',\n",
       "       'dancepop', 'dark', 'death', 'deep', 'deutschrock', 'deutschspr',\n",
       "       'dirty', 'disco', 'dnb', 'documentary', 'downbeat', 'downtempo',\n",
       "       'drum', 'dub', 'dubstep', 'eastern', 'easy', 'electronic',\n",
       "       'electropop', 'emo', 'entehno', 'epicmetal', 'estrada', 'ethnic',\n",
       "       'eurofolk', 'european', 'experimental', 'extrememetal', 'fado',\n",
       "       'fairytail', 'film', 'fitness', 'flamenco', 'folk', 'folklore',\n",
       "       'folkmetal', 'folkrock', 'folktronica', 'forró', 'frankreich',\n",
       "       'französisch', 'french', 'funk', 'future', 'gangsta', 'garage',\n",
       "       'german', 'ghazal', 'gitarre', 'glitch', 'gospel', 'gothic',\n",
       "       'grime', 'grunge', 'gypsy', 'handsup', \"hard'n'heavy\", 'hardcore',\n",
       "       'hardstyle', 'hardtechno', 'hip', 'hip-hop', 'hiphop',\n",
       "       'historisch', 'holiday', 'hop', 'horror', 'house', 'hymn', 'idm',\n",
       "       'independent', 'indian', 'indie', 'indipop', 'industrial',\n",
       "       'inspirational', 'instrumental', 'international', 'irish', 'jam',\n",
       "       'japanese', 'jazz', 'jewish', 'jpop', 'jungle', 'k-pop',\n",
       "       'karadeniz', 'karaoke', 'kayokyoku', 'korean', 'laiko', 'latin',\n",
       "       'latino', 'leftfield', 'local', 'lounge', 'loungeelectronic',\n",
       "       'lovers', 'malaysian', 'mandopop', 'marschmusik', 'meditative',\n",
       "       'mediterranean', 'melodic', 'metal', 'metalcore', 'mexican',\n",
       "       'middle', 'minimal', 'miscellaneous', 'modern', 'mood', 'mpb',\n",
       "       'muslim', 'native', 'neoklassik', 'neue', 'new', 'newage',\n",
       "       'newwave', 'nu', 'nujazz', 'numetal', 'oceania', 'old', 'opera',\n",
       "       'orchestral', 'other', 'piano', 'podcasts', 'pop', 'popdance',\n",
       "       'popelectronic', 'popeurodance', 'poprussian', 'post',\n",
       "       'posthardcore', 'postrock', 'power', 'progmetal', 'progressive',\n",
       "       'psychedelic', 'punjabi', 'punk', 'quebecois', 'ragga', 'ram',\n",
       "       'rancheras', 'rap', 'rave', 'reggae', 'reggaeton', 'regional',\n",
       "       'relax', 'religious', 'retro', 'rhythm', 'rnb', 'rnr', 'rock',\n",
       "       'rockabilly', 'rockalternative', 'rockindie', 'rockother',\n",
       "       'romance', 'roots', 'ruspop', 'rusrap', 'rusrock', 'russian',\n",
       "       'salsa', 'samba', 'scenic', 'schlager', 'self', 'sertanejo',\n",
       "       'shanson', 'shoegazing', 'showtunes', 'singer', 'ska', 'skarock',\n",
       "       'slow', 'smooth', 'soft', 'soul', 'soulful', 'sound', 'soundtrack',\n",
       "       'southern', 'specialty', 'speech', 'spiritual', 'sport',\n",
       "       'stonerrock', 'surf', 'swing', 'synthpop', 'synthrock',\n",
       "       'sängerportrait', 'tango', 'tanzorchester', 'taraftar', 'tatar',\n",
       "       'tech', 'techno', 'teen', 'thrash', 'top', 'traditional',\n",
       "       'tradjazz', 'trance', 'tribal', 'trip', 'triphop', 'tropical',\n",
       "       'türk', 'türkçe', 'ukrrock', 'unknown', 'urban', 'uzbek',\n",
       "       'variété', 'vi', 'videogame', 'vocal', 'western', 'world',\n",
       "       'worldbeat', 'ïîï', 'электроника'], dtype=object)"
      ]
     },
     "execution_count": 14,
     "metadata": {},
     "output_type": "execute_result"
    }
   ],
   "source": [
    "genre = df['genre']\n",
    "genre.sort_values(ascending=True).unique()"
   ]
  },
  {
   "cell_type": "markdown",
   "metadata": {
    "id": "qej-Qmuo_Zct"
   },
   "source": [
    "Мы видим неявные дубликаты названия `hiphop`. Это могут быть названия с ошибками или альтернативные названия того же жанра.\n",
    " \n",
    "* *hip*,\n",
    "* *hop*,\n",
    "* *hip-hop*.\n",
    "\n",
    "Чтобы очистить от них таблицу, напишем функцию `replace_wrong_genres()` с двумя параметрами: \n",
    "* `wrong_genres` — список дубликатов,\n",
    "* `correct_genre` — строка с правильным значением.\n"
   ]
  },
  {
   "cell_type": "code",
   "execution_count": 15,
   "metadata": {
    "id": "ErNDkmns_Zct"
   },
   "outputs": [],
   "source": [
    "def replace_wrong_genres(correction_list):\n",
    "    for wrong, correct in correction_list.items():\n",
    "        df['genre'] = df['genre'].replace(wrong, correct)"
   ]
  },
  {
   "cell_type": "code",
   "execution_count": 16,
   "metadata": {
    "id": "YN5i2hpmSo09"
   },
   "outputs": [],
   "source": [
    "alternative_list = {'hip':'hiphop', 'hop':'hiphop', 'hip-hop':'hiphop'}\n",
    "replace_wrong_genres(alternative_list)"
   ]
  },
  {
   "cell_type": "markdown",
   "metadata": {
    "id": "zQKF16_RG15m"
   },
   "source": [
    "Проверим, избавились ли мы от неявных дубликатов"
   ]
  },
  {
   "cell_type": "code",
   "execution_count": 17,
   "metadata": {
    "id": "wvixALnFG15m",
    "scrolled": true
   },
   "outputs": [
    {
     "data": {
      "text/plain": [
       "array(['acid', 'acoustic', 'action', 'adult', 'africa', 'afrikaans',\n",
       "       'alternative', 'alternativepunk', 'ambient', 'americana',\n",
       "       'animated', 'anime', 'arabesk', 'arabic', 'arena',\n",
       "       'argentinetango', 'art', 'audiobook', 'author', 'avantgarde',\n",
       "       'axé', 'baile', 'balkan', 'beats', 'bigroom', 'black', 'bluegrass',\n",
       "       'blues', 'bollywood', 'bossa', 'brazilian', 'breakbeat', 'breaks',\n",
       "       'broadway', 'cantautori', 'cantopop', 'canzone', 'caribbean',\n",
       "       'caucasian', 'celtic', 'chamber', 'chanson', 'children', 'chill',\n",
       "       'chinese', 'choral', 'christian', 'christmas', 'classical',\n",
       "       'classicmetal', 'club', 'colombian', 'comedy', 'conjazz',\n",
       "       'contemporary', 'country', 'cuban', 'dance', 'dancehall',\n",
       "       'dancepop', 'dark', 'death', 'deep', 'deutschrock', 'deutschspr',\n",
       "       'dirty', 'disco', 'dnb', 'documentary', 'downbeat', 'downtempo',\n",
       "       'drum', 'dub', 'dubstep', 'eastern', 'easy', 'electronic',\n",
       "       'electropop', 'emo', 'entehno', 'epicmetal', 'estrada', 'ethnic',\n",
       "       'eurofolk', 'european', 'experimental', 'extrememetal', 'fado',\n",
       "       'fairytail', 'film', 'fitness', 'flamenco', 'folk', 'folklore',\n",
       "       'folkmetal', 'folkrock', 'folktronica', 'forró', 'frankreich',\n",
       "       'französisch', 'french', 'funk', 'future', 'gangsta', 'garage',\n",
       "       'german', 'ghazal', 'gitarre', 'glitch', 'gospel', 'gothic',\n",
       "       'grime', 'grunge', 'gypsy', 'handsup', \"hard'n'heavy\", 'hardcore',\n",
       "       'hardstyle', 'hardtechno', 'hiphop', 'historisch', 'holiday',\n",
       "       'horror', 'house', 'hymn', 'idm', 'independent', 'indian', 'indie',\n",
       "       'indipop', 'industrial', 'inspirational', 'instrumental',\n",
       "       'international', 'irish', 'jam', 'japanese', 'jazz', 'jewish',\n",
       "       'jpop', 'jungle', 'k-pop', 'karadeniz', 'karaoke', 'kayokyoku',\n",
       "       'korean', 'laiko', 'latin', 'latino', 'leftfield', 'local',\n",
       "       'lounge', 'loungeelectronic', 'lovers', 'malaysian', 'mandopop',\n",
       "       'marschmusik', 'meditative', 'mediterranean', 'melodic', 'metal',\n",
       "       'metalcore', 'mexican', 'middle', 'minimal', 'miscellaneous',\n",
       "       'modern', 'mood', 'mpb', 'muslim', 'native', 'neoklassik', 'neue',\n",
       "       'new', 'newage', 'newwave', 'nu', 'nujazz', 'numetal', 'oceania',\n",
       "       'old', 'opera', 'orchestral', 'other', 'piano', 'podcasts', 'pop',\n",
       "       'popdance', 'popelectronic', 'popeurodance', 'poprussian', 'post',\n",
       "       'posthardcore', 'postrock', 'power', 'progmetal', 'progressive',\n",
       "       'psychedelic', 'punjabi', 'punk', 'quebecois', 'ragga', 'ram',\n",
       "       'rancheras', 'rap', 'rave', 'reggae', 'reggaeton', 'regional',\n",
       "       'relax', 'religious', 'retro', 'rhythm', 'rnb', 'rnr', 'rock',\n",
       "       'rockabilly', 'rockalternative', 'rockindie', 'rockother',\n",
       "       'romance', 'roots', 'ruspop', 'rusrap', 'rusrock', 'russian',\n",
       "       'salsa', 'samba', 'scenic', 'schlager', 'self', 'sertanejo',\n",
       "       'shanson', 'shoegazing', 'showtunes', 'singer', 'ska', 'skarock',\n",
       "       'slow', 'smooth', 'soft', 'soul', 'soulful', 'sound', 'soundtrack',\n",
       "       'southern', 'specialty', 'speech', 'spiritual', 'sport',\n",
       "       'stonerrock', 'surf', 'swing', 'synthpop', 'synthrock',\n",
       "       'sängerportrait', 'tango', 'tanzorchester', 'taraftar', 'tatar',\n",
       "       'tech', 'techno', 'teen', 'thrash', 'top', 'traditional',\n",
       "       'tradjazz', 'trance', 'tribal', 'trip', 'triphop', 'tropical',\n",
       "       'türk', 'türkçe', 'ukrrock', 'unknown', 'urban', 'uzbek',\n",
       "       'variété', 'vi', 'videogame', 'vocal', 'western', 'world',\n",
       "       'worldbeat', 'ïîï', 'электроника'], dtype=object)"
      ]
     },
     "execution_count": 17,
     "metadata": {},
     "output_type": "execute_result"
    }
   ],
   "source": [
    "genre = df['genre']\n",
    "genre.sort_values(ascending=True).unique() "
   ]
  },
  {
   "cell_type": "markdown",
   "metadata": {
    "id": "jz6a9-7HQUDd"
   },
   "source": [
    "**Вывод**\n",
    "\n",
    "Предобработка обнаружила три проблемы в данных:\n",
    "\n",
    "- нарушения в стиле заголовков,\n",
    "- пропущенные значения,\n",
    "- дубликаты — явные и неявные.\n",
    "\n",
    "Исправили заголовки, чтобы упростить работу с таблицей. Без дубликатов исследование станет более точным.\n",
    "\n",
    "Пропущенные значения заменили на `'unknown'`. Ещё предстоит увидеть, не повредят ли исследованию пропуски в колонке `genre`.\n",
    "\n",
    "Теперь можно перейти к проверке гипотез. "
   ]
  },
  {
   "cell_type": "markdown",
   "metadata": {
    "id": "WttZHXH0SqKk"
   },
   "source": [
    "## Проверка гипотез"
   ]
  },
  {
   "cell_type": "markdown",
   "metadata": {
    "id": "Im936VVi_Zcu"
   },
   "source": [
    "### Сравнение поведения пользователей двух столиц"
   ]
  },
  {
   "cell_type": "markdown",
   "metadata": {
    "id": "nwt_MuaL_Zcu"
   },
   "source": [
    "Первая гипотеза утверждает, что пользователи по-разному слушают музыку в Москве и Санкт-Петербурге. Проверим это предположение по данным о трёх днях недели — понедельнике, среде и пятнице. Для этого:\n",
    "\n",
    "* Разделим пользователей Москвы и Санкт-Петербурга\n",
    "* Сравним, сколько треков послушала каждая группа пользователей в понедельник, среду и пятницу.\n"
   ]
  },
  {
   "cell_type": "code",
   "execution_count": 18,
   "metadata": {
    "id": "0_Qs96oh_Zcu"
   },
   "outputs": [
    {
     "data": {
      "text/plain": [
       "city\n",
       "Moscow              42741\n",
       "Saint-Petersburg    18512\n",
       "Name: track, dtype: int64"
      ]
     },
     "execution_count": 18,
     "metadata": {},
     "output_type": "execute_result"
    }
   ],
   "source": [
    "df.groupby('city')['track'].count() # Подсчёт прослушиваний в каждом городе"
   ]
  },
  {
   "cell_type": "markdown",
   "metadata": {
    "id": "dzli3w8o_Zcu"
   },
   "source": [
    "В Москве прослушиваний больше, чем в Петербурге. Из этого не следует, что московские пользователи чаще слушают музыку. Просто самих пользователей в Москве больше.\n",
    "\n",
    "Теперь сгруппируем данные по дню недели и подсчитаем прослушивания в понедельник, среду и пятницу"
   ]
  },
  {
   "cell_type": "code",
   "execution_count": 19,
   "metadata": {
    "id": "uZMKjiJz_Zcu"
   },
   "outputs": [
    {
     "data": {
      "text/plain": [
       "day\n",
       "Friday       21840\n",
       "Monday       21354\n",
       "Wednesday    18059\n",
       "Name: track, dtype: int64"
      ]
     },
     "execution_count": 19,
     "metadata": {},
     "output_type": "execute_result"
    }
   ],
   "source": [
    "df.groupby('day')['track'].count()# Подсчёт прослушиваний в каждый из трёх дней"
   ]
  },
  {
   "cell_type": "markdown",
   "metadata": {
    "id": "cC2tNrlL_Zcu"
   },
   "source": [
    "В среднем пользователи из двух городов менее активны по средам. Но картина может измениться, если рассмотреть каждый город в отдельности."
   ]
  },
  {
   "cell_type": "markdown",
   "metadata": {
    "id": "POzs8bGa_Zcu"
   },
   "source": [
    "Создадим функцию `number_tracks()`, которая посчитает прослушивания для заданного дня и города. Ей понадобятся два параметра:\n",
    "* день недели,\n",
    "* название города.\n",
    "\n",
    "В функции сохраним в переменную строки исходной таблицы, у которых значение:\n",
    "  * в колонке `day` равно параметру `day`,\n",
    "  * в колонке `city` равно параметру `city`"
   ]
  },
  {
   "cell_type": "code",
   "execution_count": 20,
   "metadata": {
    "id": "Nz3GdQB1_Zcu"
   },
   "outputs": [],
   "source": [
    "def number_tracks(day, city):\n",
    "    track_list = df[df['day'] == day]\n",
    "    track_list = track_list[track_list['city'] == city]                                                     \n",
    "    track_list_count = track_list['user_id'].count()        \n",
    "    return track_list_count                     "
   ]
  },
  {
   "cell_type": "code",
   "execution_count": 21,
   "metadata": {
    "id": "rJcRATNQ_Zcu"
   },
   "outputs": [
    {
     "data": {
      "text/plain": [
       "15740"
      ]
     },
     "execution_count": 21,
     "metadata": {},
     "output_type": "execute_result"
    }
   ],
   "source": [
    "number_tracks('Monday', 'Moscow') # количество прослушиваний в Москве по понедельникам"
   ]
  },
  {
   "cell_type": "code",
   "execution_count": 22,
   "metadata": {
    "id": "hq_ncZ5T_Zcu"
   },
   "outputs": [
    {
     "data": {
      "text/plain": [
       "5614"
      ]
     },
     "execution_count": 22,
     "metadata": {},
     "output_type": "execute_result"
    }
   ],
   "source": [
    "number_tracks('Monday', 'Saint-Petersburg') # количество прослушиваний в Санкт-Петербурге по понедельникам"
   ]
  },
  {
   "cell_type": "code",
   "execution_count": 23,
   "metadata": {
    "id": "_NTy2VPU_Zcu"
   },
   "outputs": [
    {
     "data": {
      "text/plain": [
       "11056"
      ]
     },
     "execution_count": 23,
     "metadata": {},
     "output_type": "execute_result"
    }
   ],
   "source": [
    "number_tracks('Wednesday', 'Moscow') # количество прослушиваний в Москве по средам"
   ]
  },
  {
   "cell_type": "code",
   "execution_count": 24,
   "metadata": {
    "id": "j2y3TAwo_Zcu"
   },
   "outputs": [
    {
     "data": {
      "text/plain": [
       "7003"
      ]
     },
     "execution_count": 24,
     "metadata": {},
     "output_type": "execute_result"
    }
   ],
   "source": [
    "number_tracks('Wednesday', 'Saint-Petersburg') # количество прослушиваний в Санкт-Петербурге по средам"
   ]
  },
  {
   "cell_type": "code",
   "execution_count": 25,
   "metadata": {
    "id": "vYDw5u_K_Zcu"
   },
   "outputs": [
    {
     "data": {
      "text/plain": [
       "15945"
      ]
     },
     "execution_count": 25,
     "metadata": {},
     "output_type": "execute_result"
    }
   ],
   "source": [
    "number_tracks('Friday', 'Moscow') # количество прослушиваний в Москве по пятницам"
   ]
  },
  {
   "cell_type": "code",
   "execution_count": 26,
   "metadata": {
    "id": "8_yzFtW3_Zcu"
   },
   "outputs": [
    {
     "data": {
      "text/plain": [
       "5895"
      ]
     },
     "execution_count": 26,
     "metadata": {},
     "output_type": "execute_result"
    }
   ],
   "source": [
    "number_tracks('Friday', 'Saint-Petersburg') # количество прослушиваний в Санкт-Петербурге по пятницам"
   ]
  },
  {
   "cell_type": "markdown",
   "metadata": {
    "id": "7QXffbO-_Zcu"
   },
   "source": [
    "Создадим таблицу\n",
    "* названия колонок — `['city', 'monday', 'wednesday', 'friday']`;\n",
    "* данные — результаты, которые мы получили с помощью `number_tracks`."
   ]
  },
  {
   "cell_type": "code",
   "execution_count": 27,
   "metadata": {
    "id": "APAcLpOr_Zcu"
   },
   "outputs": [
    {
     "data": {
      "text/html": [
       "<div>\n",
       "<style scoped>\n",
       "    .dataframe tbody tr th:only-of-type {\n",
       "        vertical-align: middle;\n",
       "    }\n",
       "\n",
       "    .dataframe tbody tr th {\n",
       "        vertical-align: top;\n",
       "    }\n",
       "\n",
       "    .dataframe thead th {\n",
       "        text-align: right;\n",
       "    }\n",
       "</style>\n",
       "<table border=\"1\" class=\"dataframe\">\n",
       "  <thead>\n",
       "    <tr style=\"text-align: right;\">\n",
       "      <th></th>\n",
       "      <th>city</th>\n",
       "      <th>monday</th>\n",
       "      <th>wednesday</th>\n",
       "      <th>friday</th>\n",
       "    </tr>\n",
       "  </thead>\n",
       "  <tbody>\n",
       "    <tr>\n",
       "      <th>0</th>\n",
       "      <td>Moscow</td>\n",
       "      <td>15740</td>\n",
       "      <td>11056</td>\n",
       "      <td>15945</td>\n",
       "    </tr>\n",
       "    <tr>\n",
       "      <th>1</th>\n",
       "      <td>Saint-Petersburg</td>\n",
       "      <td>5614</td>\n",
       "      <td>7003</td>\n",
       "      <td>5895</td>\n",
       "    </tr>\n",
       "  </tbody>\n",
       "</table>\n",
       "</div>"
      ],
      "text/plain": [
       "               city  monday  wednesday  friday\n",
       "0            Moscow   15740      11056   15945\n",
       "1  Saint-Petersburg    5614       7003    5895"
      ]
     },
     "execution_count": 27,
     "metadata": {},
     "output_type": "execute_result"
    }
   ],
   "source": [
    "columns = ['city', 'monday', 'wednesday', 'friday']\n",
    "data = [['Moscow', 15740, 11056, 15945], ['Saint-Petersburg', 5614, 7003, 5895]]\n",
    "city_day = pd.DataFrame(data=data, columns=columns)\n",
    "city_day"
   ]
  },
  {
   "cell_type": "markdown",
   "metadata": {
    "id": "-EgPIHYu_Zcu"
   },
   "source": [
    "**Вывод**\n",
    "\n",
    "Данные показывают разницу поведения пользователей:\n",
    "\n",
    "- В Москве пик прослушиваний приходится на понедельник и пятницу, а в среду заметен спад.\n",
    "- В Петербурге, наоборот, больше слушают музыку по средам. Активность в понедельник и пятницу здесь почти в равной мере уступает среде.\n",
    "\n",
    "Значит, данные говорят в пользу первой гипотезы."
   ]
  },
  {
   "cell_type": "markdown",
   "metadata": {
    "id": "atZAxtq4_Zcu"
   },
   "source": [
    "### Музыка в начале и в конце недели"
   ]
  },
  {
   "cell_type": "markdown",
   "metadata": {
    "id": "eXrQqXFH_Zcu"
   },
   "source": [
    "Согласно второй гипотезе: утром в понедельник в Москве преобладают одни жанры, а в Петербурге — другие. Так же и вечером пятницы преобладают разные жанры — в зависимости от города."
   ]
  },
  {
   "cell_type": "markdown",
   "metadata": {
    "id": "S8UcW6Hw_Zcu"
   },
   "source": [
    "Сохраним таблицы с данными в две переменные:\n",
    "* по Москве — в `moscow_general`;\n",
    "* по Санкт-Петербургу — в `spb_general`."
   ]
  },
  {
   "cell_type": "code",
   "execution_count": 28,
   "metadata": {
    "id": "qeaFfM_P_Zcu"
   },
   "outputs": [],
   "source": [
    "moscow_general = df[df['city'] == 'Moscow']"
   ]
  },
  {
   "cell_type": "code",
   "execution_count": 29,
   "metadata": {
    "id": "ORaVRKto_Zcu"
   },
   "outputs": [],
   "source": [
    "spb_general = df[df['city'] == 'Saint-Petersburg']"
   ]
  },
  {
   "cell_type": "markdown",
   "metadata": {
    "id": "MEJV-CX2_Zcu"
   },
   "source": [
    "Создим функцию `genre_weekday()` с четырьмя параметрами:\n",
    "* таблица с данными,\n",
    "* день недели,\n",
    "* начальная временная метка, \n",
    "* последняя временная метка.\n",
    "\n",
    "Функция должна вернуть информацию о топ-10 жанров тех треков, которые прослушивали в указанный день, в промежутке между двумя отметками времени."
   ]
  },
  {
   "cell_type": "code",
   "execution_count": 30,
   "metadata": {
    "id": "laJT9BYl_Zcu"
   },
   "outputs": [],
   "source": [
    "def genre_weekday(table, day, time1, time2):\n",
    "    genre_df = table[table['day'] == day]\n",
    "    genre_df = genre_df[genre_df['time'] > time1]\n",
    "    genre_df = genre_df[genre_df['time'] < time2]\n",
    "    genre_df_count = genre_df.groupby('genre')['genre'].count()\n",
    "    genre_df_sorted = genre_df_count.sort_values(ascending=False)\n",
    "    return genre_df_sorted.head(10)"
   ]
  },
  {
   "cell_type": "markdown",
   "metadata": {
    "id": "la2s2_PF_Zcu"
   },
   "source": [
    "Cравним результаты функции `genre_weekday()` для Москвы и Санкт-Петербурга в понедельник утром (с 7:00 до 11:00) и в пятницу вечером (с 17:00 до 23:00):"
   ]
  },
  {
   "cell_type": "code",
   "execution_count": 31,
   "metadata": {
    "id": "yz7itPUQ_Zcu"
   },
   "outputs": [
    {
     "data": {
      "text/plain": [
       "genre\n",
       "pop            781\n",
       "dance          549\n",
       "electronic     480\n",
       "rock           474\n",
       "hiphop         286\n",
       "ruspop         186\n",
       "world          181\n",
       "rusrap         175\n",
       "alternative    164\n",
       "unknown        161\n",
       "Name: genre, dtype: int64"
      ]
     },
     "execution_count": 31,
     "metadata": {},
     "output_type": "execute_result"
    }
   ],
   "source": [
    "genre_weekday(moscow_general, 'Monday', '07:00', '11:00') #Москва, понедельник, утро"
   ]
  },
  {
   "cell_type": "code",
   "execution_count": 32,
   "metadata": {
    "id": "kwUcHPdy_Zcu"
   },
   "outputs": [
    {
     "data": {
      "text/plain": [
       "genre\n",
       "pop            218\n",
       "dance          182\n",
       "rock           162\n",
       "electronic     147\n",
       "hiphop          80\n",
       "ruspop          64\n",
       "alternative     58\n",
       "rusrap          55\n",
       "jazz            44\n",
       "classical       40\n",
       "Name: genre, dtype: int64"
      ]
     },
     "execution_count": 32,
     "metadata": {},
     "output_type": "execute_result"
    }
   ],
   "source": [
    "genre_weekday(spb_general, 'Monday', '07:00', '11:00') #Санкт-Петербург, понедельник, утро"
   ]
  },
  {
   "cell_type": "code",
   "execution_count": 33,
   "metadata": {
    "id": "EzXVRE1o_Zcu"
   },
   "outputs": [
    {
     "data": {
      "text/plain": [
       "genre\n",
       "pop            713\n",
       "rock           517\n",
       "dance          495\n",
       "electronic     482\n",
       "hiphop         273\n",
       "world          208\n",
       "ruspop         170\n",
       "alternative    163\n",
       "classical      163\n",
       "rusrap         142\n",
       "Name: genre, dtype: int64"
      ]
     },
     "execution_count": 33,
     "metadata": {},
     "output_type": "execute_result"
    }
   ],
   "source": [
    "genre_weekday(moscow_general, 'Friday', '17:00', '23:00') #Москва, пятница, вечер"
   ]
  },
  {
   "cell_type": "code",
   "execution_count": 34,
   "metadata": {
    "id": "JZaEKu5v_Zcu"
   },
   "outputs": [
    {
     "data": {
      "text/plain": [
       "genre\n",
       "pop            256\n",
       "electronic     216\n",
       "rock           216\n",
       "dance          210\n",
       "hiphop          97\n",
       "alternative     63\n",
       "jazz            61\n",
       "classical       60\n",
       "rusrap          59\n",
       "world           54\n",
       "Name: genre, dtype: int64"
      ]
     },
     "execution_count": 34,
     "metadata": {},
     "output_type": "execute_result"
    }
   ],
   "source": [
    "genre_weekday(spb_general, 'Friday', '17:00', '23:00') #Санкт-Петербург, пятница, вечер"
   ]
  },
  {
   "cell_type": "markdown",
   "metadata": {
    "id": "wrCe4MNX_Zcu"
   },
   "source": [
    "**Вывод**\n",
    "\n",
    "Если сравнить топ-10 жанров в понедельник утром, можно сделать такие выводы:\n",
    "\n",
    "1. В Москве и Петербурге слушают похожую музыку. Единственное отличие — в московский рейтинг вошёл жанр “world”, а в петербургский — джаз и классика.\n",
    "\n",
    "2. В Москве пропущенных значений оказалось так много, что значение `'unknown'` заняло десятое место среди самых популярных жанров. Значит, пропущенные значения занимают существенную долю в данных и угрожают достоверности исследования.\n",
    "\n",
    "Вечер пятницы не меняет эту картину. Некоторые жанры поднимаются немного выше, другие спускаются, но в целом топ-10 остаётся тем же самым.\n",
    "\n",
    "Таким образом, вторая гипотеза подтвердилась лишь частично:\n",
    "* Пользователи слушают похожую музыку в начале недели и в конце.\n",
    "* Разница между Москвой и Петербургом не слишком выражена. В Москве чаще слушают русскую популярную музыку, в Петербурге — джаз.\n",
    "\n",
    "Однако пропуски в данных ставят под сомнение этот результат. В Москве их так много, что рейтинг топ-10 мог бы выглядеть иначе, если бы не утерянные  данные о жанрах."
   ]
  },
  {
   "cell_type": "markdown",
   "metadata": {
    "id": "JolODAqr_Zcu"
   },
   "source": [
    "### Жанровые предпочтения в Москве и Петербурге\n",
    "\n",
    "Гипотеза: Петербург — столица рэпа, музыку этого жанра там слушают чаще, чем в Москве.  А Москва — город контрастов, в котором, тем не менее, преобладает поп-музыка."
   ]
  },
  {
   "cell_type": "markdown",
   "metadata": {
    "id": "DlegSvaT_Zcu"
   },
   "source": [
    "Сгруппируем таблицу `moscow_general` по жанру и посчитаем прослушивания треков каждого жанра методом `count()`. Затем отсортируем результат в порядке убывания и сохраним его в таблице `moscow_genres`."
   ]
  },
  {
   "cell_type": "code",
   "execution_count": 35,
   "metadata": {
    "id": "r19lIPke_Zcu"
   },
   "outputs": [],
   "source": [
    "moscow_genres = moscow_general.groupby('genre')['genre'].count()\n",
    "moscow_genres = moscow_genres.sort_values(ascending=False)"
   ]
  },
  {
   "cell_type": "code",
   "execution_count": 36,
   "metadata": {
    "id": "WhCSooF8_Zcv"
   },
   "outputs": [
    {
     "data": {
      "text/plain": [
       "genre\n",
       "pop            5892\n",
       "dance          4435\n",
       "rock           3965\n",
       "electronic     3786\n",
       "hiphop         2096\n",
       "classical      1616\n",
       "world          1432\n",
       "alternative    1379\n",
       "ruspop         1372\n",
       "rusrap         1161\n",
       "Name: genre, dtype: int64"
      ]
     },
     "execution_count": 36,
     "metadata": {},
     "output_type": "execute_result"
    }
   ],
   "source": [
    "moscow_genres.head(10)"
   ]
  },
  {
   "cell_type": "markdown",
   "metadata": {
    "id": "cnPG2vnN_Zcv"
   },
   "source": [
    "Теперь повторим то же и для Петербурга."
   ]
  },
  {
   "cell_type": "code",
   "execution_count": 37,
   "metadata": {
    "id": "gluLIpE7_Zcv"
   },
   "outputs": [],
   "source": [
    "spb_genres = spb_general.groupby('genre')['genre'].count()\n",
    "spb_genres = spb_genres.sort_values(ascending=False)"
   ]
  },
  {
   "cell_type": "code",
   "execution_count": 38,
   "metadata": {
    "id": "uaGJHjVU_Zcv"
   },
   "outputs": [
    {
     "data": {
      "text/plain": [
       "genre\n",
       "pop            2431\n",
       "dance          1932\n",
       "rock           1879\n",
       "electronic     1736\n",
       "hiphop          960\n",
       "alternative     649\n",
       "classical       646\n",
       "rusrap          564\n",
       "ruspop          538\n",
       "world           515\n",
       "Name: genre, dtype: int64"
      ]
     },
     "execution_count": 38,
     "metadata": {},
     "output_type": "execute_result"
    }
   ],
   "source": [
    "spb_genres.head(10)"
   ]
  },
  {
   "cell_type": "markdown",
   "metadata": {
    "id": "RY51YJYu_Zcv"
   },
   "source": [
    "**Вывод**"
   ]
  },
  {
   "cell_type": "markdown",
   "metadata": {
    "id": "nVhnJEm__Zcv"
   },
   "source": [
    "Гипотеза частично подтвердилась:\n",
    "* Поп-музыка — самый популярный жанр в Москве, как и предполагала гипотеза. Более того, в топ-10 жанров встречается близкий жанр — русская популярная музыка.\n",
    "* Вопреки ожиданиям, рэп одинаково популярен в Москве и Петербурге. \n"
   ]
  },
  {
   "cell_type": "markdown",
   "metadata": {
    "id": "ykKQ0N65_Zcv"
   },
   "source": [
    "## Итоги исследования"
   ]
  },
  {
   "cell_type": "markdown",
   "metadata": {
    "id": "tjUwbHb3_Zcv"
   },
   "source": [
    "Мы проверили три гипотезы и установили:\n",
    "\n",
    "1. День недели по-разному влияет на активность пользователей в Москве и Петербурге. \n",
    "\n",
    "Первая гипотеза полностью подтвердилась.\n",
    "\n",
    "2. Музыкальные предпочтения не сильно меняются в течение недели — будь то Москва или Петербург. Небольшие различия заметны в начале недели, по понедельникам:\n",
    "* в Москве слушают музыку жанра “world”,\n",
    "* в Петербурге — джаз и классику.\n",
    "\n",
    "Таким образом, вторая гипотеза подтвердилась лишь отчасти. Этот результат мог оказаться иным, если бы не пропуски в данных.\n",
    "\n",
    "3. Во вкусах пользователей Москвы и Петербурга больше общего чем различий. Вопреки ожиданиям, предпочтения жанров в Петербурге напоминают московские.\n",
    "\n",
    "Третья гипотеза не подтвердилась. Если различия в предпочтениях и существуют, на основной массе пользователей они незаметны."
   ]
  }
 ],
 "metadata": {
  "ExecuteTimeLog": [
   {
    "duration": 50,
    "start_time": "2022-05-09T07:15:12.419Z"
   },
   {
    "duration": 7,
    "start_time": "2022-05-09T07:15:28.380Z"
   },
   {
    "duration": 6,
    "start_time": "2022-05-09T07:15:41.851Z"
   },
   {
    "duration": 528,
    "start_time": "2022-05-09T07:16:06.033Z"
   },
   {
    "duration": 145,
    "start_time": "2022-05-09T07:16:11.456Z"
   },
   {
    "duration": 177,
    "start_time": "2022-05-09T07:16:26.397Z"
   },
   {
    "duration": 189,
    "start_time": "2022-05-09T07:16:41.572Z"
   },
   {
    "duration": 26,
    "start_time": "2022-05-09T07:17:02.737Z"
   },
   {
    "duration": 31,
    "start_time": "2022-05-09T07:30:57.978Z"
   },
   {
    "duration": 4,
    "start_time": "2022-05-09T07:35:10.150Z"
   },
   {
    "duration": 5,
    "start_time": "2022-05-09T07:36:17.278Z"
   },
   {
    "duration": 17,
    "start_time": "2022-05-09T07:42:11.644Z"
   },
   {
    "duration": 13,
    "start_time": "2022-05-09T07:42:28.334Z"
   },
   {
    "duration": 4,
    "start_time": "2022-05-09T07:42:39.995Z"
   },
   {
    "duration": 47,
    "start_time": "2022-05-09T07:44:06.946Z"
   },
   {
    "duration": 28,
    "start_time": "2022-05-09T07:44:14.961Z"
   },
   {
    "duration": 72,
    "start_time": "2022-05-09T07:46:19.991Z"
   },
   {
    "duration": 27,
    "start_time": "2022-05-09T07:46:30.615Z"
   },
   {
    "duration": 169,
    "start_time": "2022-05-09T07:54:49.828Z"
   },
   {
    "duration": 12,
    "start_time": "2022-05-09T07:54:56.955Z"
   },
   {
    "duration": 8,
    "start_time": "2022-05-09T07:55:13.091Z"
   },
   {
    "duration": 8,
    "start_time": "2022-05-09T07:56:09.342Z"
   },
   {
    "duration": 2,
    "start_time": "2022-05-09T07:56:26.524Z"
   },
   {
    "duration": 19,
    "start_time": "2022-05-09T07:59:13.999Z"
   },
   {
    "duration": 25,
    "start_time": "2022-05-09T07:59:40.308Z"
   },
   {
    "duration": 8,
    "start_time": "2022-05-09T08:02:13.011Z"
   },
   {
    "duration": 69,
    "start_time": "2022-05-09T08:02:24.856Z"
   },
   {
    "duration": 69,
    "start_time": "2022-05-09T08:02:30.342Z"
   },
   {
    "duration": 65,
    "start_time": "2022-05-09T08:02:37.368Z"
   },
   {
    "duration": 67,
    "start_time": "2022-05-09T08:03:15.174Z"
   },
   {
    "duration": 60,
    "start_time": "2022-05-09T08:03:31.502Z"
   },
   {
    "duration": 65,
    "start_time": "2022-05-09T08:03:35.742Z"
   },
   {
    "duration": 63,
    "start_time": "2022-05-09T08:03:41.102Z"
   },
   {
    "duration": 26,
    "start_time": "2022-05-09T08:03:48.783Z"
   },
   {
    "duration": 25,
    "start_time": "2022-05-09T08:03:57.345Z"
   },
   {
    "duration": 5,
    "start_time": "2022-05-09T08:04:11.731Z"
   },
   {
    "duration": 4,
    "start_time": "2022-05-09T08:04:21.168Z"
   },
   {
    "duration": 115,
    "start_time": "2022-05-09T08:04:36.302Z"
   },
   {
    "duration": 25,
    "start_time": "2022-05-09T08:04:46.868Z"
   },
   {
    "duration": 24,
    "start_time": "2022-05-09T08:04:59.251Z"
   },
   {
    "duration": 10,
    "start_time": "2022-05-09T08:07:42.008Z"
   },
   {
    "duration": 150,
    "start_time": "2022-05-09T08:07:59.531Z"
   },
   {
    "duration": 12,
    "start_time": "2022-05-09T08:08:22.544Z"
   },
   {
    "duration": 133,
    "start_time": "2022-05-09T08:08:36.304Z"
   },
   {
    "duration": 5,
    "start_time": "2022-05-09T08:14:53.119Z"
   },
   {
    "duration": 4,
    "start_time": "2022-05-09T08:23:22.307Z"
   },
   {
    "duration": 456,
    "start_time": "2022-05-09T08:24:04.935Z"
   },
   {
    "duration": 2,
    "start_time": "2022-05-09T08:24:08.497Z"
   },
   {
    "duration": 2,
    "start_time": "2022-05-09T08:24:11.394Z"
   },
   {
    "duration": 2,
    "start_time": "2022-05-09T08:24:14.157Z"
   },
   {
    "duration": 3,
    "start_time": "2022-05-09T08:24:17.757Z"
   },
   {
    "duration": 3,
    "start_time": "2022-05-09T08:24:20.049Z"
   },
   {
    "duration": 3,
    "start_time": "2022-05-09T08:24:22.632Z"
   },
   {
    "duration": 2,
    "start_time": "2022-05-09T08:24:25.174Z"
   },
   {
    "duration": 2,
    "start_time": "2022-05-09T08:24:27.723Z"
   },
   {
    "duration": 3,
    "start_time": "2022-05-09T08:24:29.610Z"
   },
   {
    "duration": 2,
    "start_time": "2022-05-09T08:24:31.865Z"
   },
   {
    "duration": 3,
    "start_time": "2022-05-09T08:24:34.620Z"
   },
   {
    "duration": 3,
    "start_time": "2022-05-09T08:24:37.997Z"
   },
   {
    "duration": 62,
    "start_time": "2022-05-09T08:42:44.755Z"
   },
   {
    "duration": 170,
    "start_time": "2022-05-09T08:43:37.617Z"
   },
   {
    "duration": 17,
    "start_time": "2022-05-09T08:43:40.821Z"
   },
   {
    "duration": 9,
    "start_time": "2022-05-09T08:43:56.617Z"
   },
   {
    "duration": 30,
    "start_time": "2022-05-09T08:44:06.110Z"
   },
   {
    "duration": 4,
    "start_time": "2022-05-09T08:44:27.710Z"
   },
   {
    "duration": 10,
    "start_time": "2022-05-09T08:45:53.250Z"
   },
   {
    "duration": 4,
    "start_time": "2022-05-09T08:46:19.866Z"
   },
   {
    "duration": 26,
    "start_time": "2022-05-09T08:46:40.683Z"
   },
   {
    "duration": 19,
    "start_time": "2022-05-09T08:48:09.199Z"
   },
   {
    "duration": 10,
    "start_time": "2022-05-09T08:49:09.120Z"
   },
   {
    "duration": 10,
    "start_time": "2022-05-09T08:50:06.525Z"
   },
   {
    "duration": 11,
    "start_time": "2022-05-09T08:51:36.598Z"
   },
   {
    "duration": 10,
    "start_time": "2022-05-09T08:51:43.171Z"
   },
   {
    "duration": 9,
    "start_time": "2022-05-09T08:51:52.606Z"
   },
   {
    "duration": 3,
    "start_time": "2022-05-09T08:52:53.620Z"
   },
   {
    "duration": 11,
    "start_time": "2022-05-09T08:54:27.534Z"
   },
   {
    "duration": 10,
    "start_time": "2022-05-09T08:59:05.855Z"
   },
   {
    "duration": 11,
    "start_time": "2022-05-09T08:59:52.088Z"
   },
   {
    "duration": 8,
    "start_time": "2022-05-09T09:36:09.146Z"
   },
   {
    "duration": 2,
    "start_time": "2022-05-09T09:36:27.229Z"
   },
   {
    "duration": 2,
    "start_time": "2022-05-09T09:36:29.837Z"
   },
   {
    "duration": 2,
    "start_time": "2022-05-09T09:36:33.382Z"
   },
   {
    "duration": 2,
    "start_time": "2022-05-09T09:36:39.320Z"
   },
   {
    "duration": 10,
    "start_time": "2022-05-09T09:36:43.303Z"
   },
   {
    "duration": 5,
    "start_time": "2022-05-09T09:37:57.833Z"
   },
   {
    "duration": 2,
    "start_time": "2022-05-09T09:38:04.542Z"
   },
   {
    "duration": 3,
    "start_time": "2022-05-09T09:38:06.758Z"
   },
   {
    "duration": 3,
    "start_time": "2022-05-09T09:38:10.867Z"
   },
   {
    "duration": 2,
    "start_time": "2022-05-09T09:38:25.440Z"
   },
   {
    "duration": 3,
    "start_time": "2022-05-09T09:39:51.558Z"
   },
   {
    "duration": 3,
    "start_time": "2022-05-09T09:39:54.879Z"
   },
   {
    "duration": 3,
    "start_time": "2022-05-09T09:39:56.545Z"
   },
   {
    "duration": 3,
    "start_time": "2022-05-09T09:39:58.318Z"
   },
   {
    "duration": 2,
    "start_time": "2022-05-09T09:40:01.061Z"
   },
   {
    "duration": 3,
    "start_time": "2022-05-09T09:40:03.504Z"
   },
   {
    "duration": 2,
    "start_time": "2022-05-09T09:40:05.374Z"
   },
   {
    "duration": 2,
    "start_time": "2022-05-09T09:40:06.980Z"
   },
   {
    "duration": 3,
    "start_time": "2022-05-09T09:40:09.629Z"
   },
   {
    "duration": 3,
    "start_time": "2022-05-09T09:40:12.397Z"
   },
   {
    "duration": 2,
    "start_time": "2022-05-09T09:40:16.341Z"
   },
   {
    "duration": 2,
    "start_time": "2022-05-09T09:40:18.327Z"
   },
   {
    "duration": 3,
    "start_time": "2022-05-09T09:40:19.952Z"
   },
   {
    "duration": 402,
    "start_time": "2022-05-09T09:40:58.526Z"
   },
   {
    "duration": 191,
    "start_time": "2022-05-09T09:41:35.418Z"
   },
   {
    "duration": 18,
    "start_time": "2022-05-09T09:41:55.813Z"
   },
   {
    "duration": 9,
    "start_time": "2022-05-09T09:42:18.981Z"
   },
   {
    "duration": 46,
    "start_time": "2022-05-09T09:42:23.212Z"
   },
   {
    "duration": 5,
    "start_time": "2022-05-09T09:42:41.496Z"
   },
   {
    "duration": 53,
    "start_time": "2022-05-09T09:45:20.145Z"
   },
   {
    "duration": 2,
    "start_time": "2022-05-09T09:45:52.481Z"
   },
   {
    "duration": 8,
    "start_time": "2022-05-09T09:45:52.485Z"
   },
   {
    "duration": 11,
    "start_time": "2022-05-09T09:45:52.495Z"
   },
   {
    "duration": 5,
    "start_time": "2022-05-09T09:45:52.508Z"
   },
   {
    "duration": 4,
    "start_time": "2022-05-09T09:45:52.515Z"
   },
   {
    "duration": 5,
    "start_time": "2022-05-09T09:45:52.521Z"
   },
   {
    "duration": 6,
    "start_time": "2022-05-09T09:45:52.527Z"
   },
   {
    "duration": 8,
    "start_time": "2022-05-09T09:45:52.535Z"
   },
   {
    "duration": 9,
    "start_time": "2022-05-09T09:45:52.544Z"
   },
   {
    "duration": 7,
    "start_time": "2022-05-09T09:45:52.555Z"
   },
   {
    "duration": 7,
    "start_time": "2022-05-09T09:45:52.565Z"
   },
   {
    "duration": 8,
    "start_time": "2022-05-09T09:45:52.574Z"
   },
   {
    "duration": 7,
    "start_time": "2022-05-09T09:45:52.584Z"
   },
   {
    "duration": 7,
    "start_time": "2022-05-09T09:45:52.593Z"
   },
   {
    "duration": 23,
    "start_time": "2022-05-09T09:45:52.601Z"
   },
   {
    "duration": 6,
    "start_time": "2022-05-09T09:45:52.626Z"
   },
   {
    "duration": 8,
    "start_time": "2022-05-09T09:45:52.634Z"
   },
   {
    "duration": 8,
    "start_time": "2022-05-09T09:45:52.643Z"
   },
   {
    "duration": 8,
    "start_time": "2022-05-09T09:45:52.653Z"
   },
   {
    "duration": 8,
    "start_time": "2022-05-09T09:45:52.663Z"
   },
   {
    "duration": 8,
    "start_time": "2022-05-09T09:45:52.673Z"
   },
   {
    "duration": 11,
    "start_time": "2022-05-09T09:45:52.683Z"
   },
   {
    "duration": 9,
    "start_time": "2022-05-09T09:45:52.696Z"
   },
   {
    "duration": 8,
    "start_time": "2022-05-09T09:45:52.706Z"
   },
   {
    "duration": 7,
    "start_time": "2022-05-09T09:45:52.716Z"
   },
   {
    "duration": 7,
    "start_time": "2022-05-09T09:45:52.725Z"
   },
   {
    "duration": 9,
    "start_time": "2022-05-09T09:45:52.733Z"
   },
   {
    "duration": 7,
    "start_time": "2022-05-09T09:45:52.744Z"
   },
   {
    "duration": 7,
    "start_time": "2022-05-09T09:45:52.755Z"
   },
   {
    "duration": 8,
    "start_time": "2022-05-09T09:45:52.763Z"
   },
   {
    "duration": 11,
    "start_time": "2022-05-09T09:45:52.773Z"
   },
   {
    "duration": 11,
    "start_time": "2022-05-09T09:45:52.785Z"
   },
   {
    "duration": 12,
    "start_time": "2022-05-09T09:45:52.798Z"
   },
   {
    "duration": 7,
    "start_time": "2022-05-09T09:45:52.812Z"
   },
   {
    "duration": 8,
    "start_time": "2022-05-09T09:45:52.821Z"
   },
   {
    "duration": 9,
    "start_time": "2022-05-09T09:45:52.831Z"
   },
   {
    "duration": 8,
    "start_time": "2022-05-09T09:45:52.842Z"
   },
   {
    "duration": 10,
    "start_time": "2022-05-09T09:45:52.851Z"
   },
   {
    "duration": 394,
    "start_time": "2022-05-09T09:46:11.568Z"
   },
   {
    "duration": 157,
    "start_time": "2022-05-09T09:46:52.776Z"
   },
   {
    "duration": 41,
    "start_time": "2022-05-09T09:47:06.967Z"
   },
   {
    "duration": 30,
    "start_time": "2022-05-09T09:47:25.566Z"
   },
   {
    "duration": 13,
    "start_time": "2022-05-09T09:48:11.649Z"
   },
   {
    "duration": 31,
    "start_time": "2022-05-09T09:48:30.415Z"
   },
   {
    "duration": 4,
    "start_time": "2022-05-09T09:48:43.654Z"
   },
   {
    "duration": 13,
    "start_time": "2022-05-09T09:49:43.863Z"
   },
   {
    "duration": 4,
    "start_time": "2022-05-09T09:49:55.425Z"
   },
   {
    "duration": 28,
    "start_time": "2022-05-09T09:50:14.385Z"
   },
   {
    "duration": 18,
    "start_time": "2022-05-09T09:51:36.916Z"
   },
   {
    "duration": 27,
    "start_time": "2022-05-09T09:52:25.976Z"
   },
   {
    "duration": 71,
    "start_time": "2022-05-09T09:53:15.689Z"
   },
   {
    "duration": 71,
    "start_time": "2022-05-09T09:54:10.013Z"
   },
   {
    "duration": 70,
    "start_time": "2022-05-09T09:54:15.592Z"
   },
   {
    "duration": 68,
    "start_time": "2022-05-09T09:54:59.334Z"
   },
   {
    "duration": 82,
    "start_time": "2022-05-09T09:55:13.052Z"
   },
   {
    "duration": 60,
    "start_time": "2022-05-09T09:56:52.346Z"
   },
   {
    "duration": 8,
    "start_time": "2022-05-09T10:00:05.501Z"
   },
   {
    "duration": 11,
    "start_time": "2022-05-09T10:03:19.252Z"
   },
   {
    "duration": 52,
    "start_time": "2022-05-09T10:03:25.840Z"
   },
   {
    "duration": 54,
    "start_time": "2022-05-09T10:03:59.391Z"
   },
   {
    "duration": 3,
    "start_time": "2022-05-09T10:06:13.150Z"
   },
   {
    "duration": 5,
    "start_time": "2022-05-09T10:06:27.896Z"
   },
   {
    "duration": 43,
    "start_time": "2022-05-09T10:08:15.259Z"
   },
   {
    "duration": 3,
    "start_time": "2022-05-09T10:16:55.832Z"
   },
   {
    "duration": 3,
    "start_time": "2022-05-09T10:19:08.359Z"
   },
   {
    "duration": 10,
    "start_time": "2022-05-09T10:20:00.901Z"
   },
   {
    "duration": 3,
    "start_time": "2022-05-09T10:20:23.019Z"
   },
   {
    "duration": 10,
    "start_time": "2022-05-09T10:20:25.358Z"
   },
   {
    "duration": 3,
    "start_time": "2022-05-09T10:22:46.989Z"
   },
   {
    "duration": 9,
    "start_time": "2022-05-09T10:22:48.479Z"
   },
   {
    "duration": 169,
    "start_time": "2022-05-09T10:23:01.813Z"
   },
   {
    "duration": 3,
    "start_time": "2022-05-09T10:23:11.319Z"
   },
   {
    "duration": 10,
    "start_time": "2022-05-09T10:23:13.283Z"
   },
   {
    "duration": 3,
    "start_time": "2022-05-09T10:24:58.990Z"
   },
   {
    "duration": 14,
    "start_time": "2022-05-09T10:25:04.752Z"
   },
   {
    "duration": 58,
    "start_time": "2022-05-09T10:26:02.866Z"
   },
   {
    "duration": 47,
    "start_time": "2022-05-09T10:27:56.472Z"
   },
   {
    "duration": 3,
    "start_time": "2022-05-09T10:28:33.898Z"
   },
   {
    "duration": 9,
    "start_time": "2022-05-09T10:28:37.725Z"
   },
   {
    "duration": 3,
    "start_time": "2022-05-09T10:30:41.436Z"
   },
   {
    "duration": 53,
    "start_time": "2022-05-09T10:30:44.360Z"
   },
   {
    "duration": 8,
    "start_time": "2022-05-09T11:31:51.886Z"
   },
   {
    "duration": 4,
    "start_time": "2022-05-09T11:32:27.205Z"
   },
   {
    "duration": 14,
    "start_time": "2022-05-09T11:32:38.119Z"
   },
   {
    "duration": 44,
    "start_time": "2022-05-09T11:33:56.450Z"
   },
   {
    "duration": 3,
    "start_time": "2022-05-09T11:35:29.535Z"
   },
   {
    "duration": 9,
    "start_time": "2022-05-09T11:35:31.605Z"
   },
   {
    "duration": 44,
    "start_time": "2022-05-09T11:35:33.258Z"
   },
   {
    "duration": 10,
    "start_time": "2022-05-10T07:38:07.245Z"
   },
   {
    "duration": 3,
    "start_time": "2022-05-10T07:38:19.326Z"
   },
   {
    "duration": 47,
    "start_time": "2022-05-10T07:40:26.016Z"
   },
   {
    "duration": 8,
    "start_time": "2022-05-10T07:40:49.061Z"
   },
   {
    "duration": 3,
    "start_time": "2022-05-10T07:41:49.974Z"
   },
   {
    "duration": 14,
    "start_time": "2022-05-10T07:41:52.090Z"
   },
   {
    "duration": 9,
    "start_time": "2022-05-10T07:42:40.105Z"
   },
   {
    "duration": 3,
    "start_time": "2022-05-10T07:43:49.289Z"
   },
   {
    "duration": 8,
    "start_time": "2022-05-10T07:44:14.186Z"
   },
   {
    "duration": 366,
    "start_time": "2022-05-10T07:46:13.535Z"
   },
   {
    "duration": 148,
    "start_time": "2022-05-10T07:46:13.903Z"
   },
   {
    "duration": 17,
    "start_time": "2022-05-10T07:46:14.053Z"
   },
   {
    "duration": 38,
    "start_time": "2022-05-10T07:46:14.072Z"
   },
   {
    "duration": 5,
    "start_time": "2022-05-10T07:46:14.111Z"
   },
   {
    "duration": 14,
    "start_time": "2022-05-10T07:46:14.117Z"
   },
   {
    "duration": 9,
    "start_time": "2022-05-10T07:46:14.132Z"
   },
   {
    "duration": 34,
    "start_time": "2022-05-10T07:46:14.142Z"
   },
   {
    "duration": 19,
    "start_time": "2022-05-10T07:46:14.193Z"
   },
   {
    "duration": 26,
    "start_time": "2022-05-10T07:46:14.215Z"
   },
   {
    "duration": 87,
    "start_time": "2022-05-10T07:46:14.243Z"
   },
   {
    "duration": 92,
    "start_time": "2022-05-10T07:46:14.333Z"
   },
   {
    "duration": 66,
    "start_time": "2022-05-10T07:46:14.427Z"
   },
   {
    "duration": 42,
    "start_time": "2022-05-10T07:46:14.495Z"
   },
   {
    "duration": 3,
    "start_time": "2022-05-10T07:46:22.872Z"
   },
   {
    "duration": 10,
    "start_time": "2022-05-10T07:46:28.756Z"
   },
   {
    "duration": 3,
    "start_time": "2022-05-10T07:47:03.643Z"
   },
   {
    "duration": 28,
    "start_time": "2022-05-10T07:47:51.925Z"
   },
   {
    "duration": 9,
    "start_time": "2022-05-10T07:48:12.506Z"
   },
   {
    "duration": 3,
    "start_time": "2022-05-10T07:48:38.746Z"
   },
   {
    "duration": 9,
    "start_time": "2022-05-10T07:48:40.540Z"
   },
   {
    "duration": 3,
    "start_time": "2022-05-10T07:49:07.863Z"
   },
   {
    "duration": 2,
    "start_time": "2022-05-10T07:49:10.080Z"
   },
   {
    "duration": 16,
    "start_time": "2022-05-10T07:49:12.304Z"
   },
   {
    "duration": 3,
    "start_time": "2022-05-10T07:49:44.180Z"
   },
   {
    "duration": 9,
    "start_time": "2022-05-10T07:49:52.539Z"
   },
   {
    "duration": 39,
    "start_time": "2022-05-10T07:49:56.952Z"
   },
   {
    "duration": 7,
    "start_time": "2022-05-10T07:56:43.526Z"
   },
   {
    "duration": 8,
    "start_time": "2022-05-10T07:56:53.600Z"
   },
   {
    "duration": 12,
    "start_time": "2022-05-10T07:57:26.087Z"
   },
   {
    "duration": 31,
    "start_time": "2022-05-10T07:59:14.391Z"
   },
   {
    "duration": 35,
    "start_time": "2022-05-10T08:03:10.259Z"
   },
   {
    "duration": 13,
    "start_time": "2022-05-10T08:03:45.097Z"
   },
   {
    "duration": 12,
    "start_time": "2022-05-10T08:06:23.155Z"
   },
   {
    "duration": 34,
    "start_time": "2022-05-10T08:06:57.194Z"
   },
   {
    "duration": 35,
    "start_time": "2022-05-10T08:07:34.058Z"
   },
   {
    "duration": 33,
    "start_time": "2022-05-10T08:07:41.886Z"
   },
   {
    "duration": 3,
    "start_time": "2022-05-10T08:26:49.922Z"
   },
   {
    "duration": 4,
    "start_time": "2022-05-10T08:27:15.641Z"
   },
   {
    "duration": 7,
    "start_time": "2022-05-10T08:28:03.116Z"
   },
   {
    "duration": 2,
    "start_time": "2022-05-10T08:28:20.456Z"
   },
   {
    "duration": 153,
    "start_time": "2022-05-10T08:28:20.460Z"
   },
   {
    "duration": 11,
    "start_time": "2022-05-10T08:28:20.615Z"
   },
   {
    "duration": 29,
    "start_time": "2022-05-10T08:28:20.628Z"
   },
   {
    "duration": 4,
    "start_time": "2022-05-10T08:28:20.659Z"
   },
   {
    "duration": 28,
    "start_time": "2022-05-10T08:28:20.665Z"
   },
   {
    "duration": 4,
    "start_time": "2022-05-10T08:28:20.694Z"
   },
   {
    "duration": 28,
    "start_time": "2022-05-10T08:28:20.700Z"
   },
   {
    "duration": 18,
    "start_time": "2022-05-10T08:28:20.730Z"
   },
   {
    "duration": 44,
    "start_time": "2022-05-10T08:28:20.750Z"
   },
   {
    "duration": 63,
    "start_time": "2022-05-10T08:28:20.796Z"
   },
   {
    "duration": 90,
    "start_time": "2022-05-10T08:28:20.861Z"
   },
   {
    "duration": 60,
    "start_time": "2022-05-10T08:28:20.953Z"
   },
   {
    "duration": 45,
    "start_time": "2022-05-10T08:28:21.015Z"
   },
   {
    "duration": 2,
    "start_time": "2022-05-10T08:28:21.062Z"
   },
   {
    "duration": 26,
    "start_time": "2022-05-10T08:28:21.066Z"
   },
   {
    "duration": 39,
    "start_time": "2022-05-10T08:28:21.094Z"
   },
   {
    "duration": 34,
    "start_time": "2022-05-10T08:28:21.134Z"
   },
   {
    "duration": 52,
    "start_time": "2022-05-10T08:28:21.169Z"
   },
   {
    "duration": 4,
    "start_time": "2022-05-10T08:28:25.620Z"
   },
   {
    "duration": 7,
    "start_time": "2022-05-10T08:28:46.461Z"
   },
   {
    "duration": 5,
    "start_time": "2022-05-10T08:28:52.868Z"
   },
   {
    "duration": 25,
    "start_time": "2022-05-10T08:29:31.596Z"
   },
   {
    "duration": 4,
    "start_time": "2022-05-10T08:30:34.809Z"
   },
   {
    "duration": 23,
    "start_time": "2022-05-10T08:30:37.127Z"
   },
   {
    "duration": 20,
    "start_time": "2022-05-10T08:31:09.262Z"
   },
   {
    "duration": 21,
    "start_time": "2022-05-10T08:32:44.822Z"
   },
   {
    "duration": 4,
    "start_time": "2022-05-10T08:37:10.727Z"
   },
   {
    "duration": 19,
    "start_time": "2022-05-10T08:37:14.578Z"
   },
   {
    "duration": 22,
    "start_time": "2022-05-10T08:37:16.892Z"
   },
   {
    "duration": 14,
    "start_time": "2022-05-10T08:37:19.574Z"
   },
   {
    "duration": 16,
    "start_time": "2022-05-10T08:37:45.374Z"
   },
   {
    "duration": 16,
    "start_time": "2022-05-10T08:38:01.618Z"
   },
   {
    "duration": 16,
    "start_time": "2022-05-10T08:38:21.506Z"
   },
   {
    "duration": 8,
    "start_time": "2022-05-10T08:46:44.318Z"
   },
   {
    "duration": 18,
    "start_time": "2022-05-10T08:50:56.582Z"
   },
   {
    "duration": 12,
    "start_time": "2022-05-10T08:51:12.412Z"
   },
   {
    "duration": 9,
    "start_time": "2022-05-10T08:51:46.389Z"
   },
   {
    "duration": 8,
    "start_time": "2022-05-10T09:12:45.890Z"
   },
   {
    "duration": 8,
    "start_time": "2022-05-10T09:13:14.689Z"
   },
   {
    "duration": 4,
    "start_time": "2022-05-10T09:13:23.765Z"
   },
   {
    "duration": 4,
    "start_time": "2022-05-10T09:13:29.412Z"
   },
   {
    "duration": 41,
    "start_time": "2022-05-10T09:13:33.608Z"
   },
   {
    "duration": 5,
    "start_time": "2022-05-10T09:14:05.239Z"
   },
   {
    "duration": 31,
    "start_time": "2022-05-10T09:14:08.040Z"
   },
   {
    "duration": 6,
    "start_time": "2022-05-10T09:15:13.736Z"
   },
   {
    "duration": 28,
    "start_time": "2022-05-10T09:15:16.882Z"
   },
   {
    "duration": 5,
    "start_time": "2022-05-10T09:16:03.205Z"
   },
   {
    "duration": 29,
    "start_time": "2022-05-10T09:16:06.588Z"
   },
   {
    "duration": 4,
    "start_time": "2022-05-10T09:16:18.300Z"
   },
   {
    "duration": 27,
    "start_time": "2022-05-10T09:16:20.988Z"
   },
   {
    "duration": 4,
    "start_time": "2022-05-10T09:16:35.628Z"
   },
   {
    "duration": 23,
    "start_time": "2022-05-10T09:16:37.857Z"
   },
   {
    "duration": 21,
    "start_time": "2022-05-10T09:16:47.106Z"
   },
   {
    "duration": 23,
    "start_time": "2022-05-10T09:16:52.941Z"
   },
   {
    "duration": 30,
    "start_time": "2022-05-10T09:17:18.007Z"
   },
   {
    "duration": 3,
    "start_time": "2022-05-10T09:18:53.876Z"
   },
   {
    "duration": 18,
    "start_time": "2022-05-10T09:18:57.171Z"
   },
   {
    "duration": 17,
    "start_time": "2022-05-10T09:19:02.139Z"
   },
   {
    "duration": 16,
    "start_time": "2022-05-10T09:20:25.373Z"
   },
   {
    "duration": 11,
    "start_time": "2022-05-10T09:20:43.212Z"
   },
   {
    "duration": 9,
    "start_time": "2022-05-10T09:28:07.477Z"
   },
   {
    "duration": 8,
    "start_time": "2022-05-10T09:28:10.931Z"
   },
   {
    "duration": 11,
    "start_time": "2022-05-10T09:28:26.173Z"
   },
   {
    "duration": 9,
    "start_time": "2022-05-10T09:29:10.433Z"
   },
   {
    "duration": 4,
    "start_time": "2022-05-10T09:29:36.777Z"
   },
   {
    "duration": 11,
    "start_time": "2022-05-10T09:32:38.536Z"
   },
   {
    "duration": 7,
    "start_time": "2022-05-10T09:33:10.383Z"
   },
   {
    "duration": 5,
    "start_time": "2022-05-10T09:33:27.332Z"
   },
   {
    "duration": 170,
    "start_time": "2022-05-10T15:13:37.195Z"
   },
   {
    "duration": 451,
    "start_time": "2022-05-10T15:15:59.499Z"
   },
   {
    "duration": 283,
    "start_time": "2022-05-10T15:15:59.952Z"
   },
   {
    "duration": 19,
    "start_time": "2022-05-10T15:16:00.237Z"
   },
   {
    "duration": 91,
    "start_time": "2022-05-10T15:16:00.258Z"
   },
   {
    "duration": 12,
    "start_time": "2022-05-10T15:16:00.351Z"
   },
   {
    "duration": 69,
    "start_time": "2022-05-10T15:16:00.365Z"
   },
   {
    "duration": 20,
    "start_time": "2022-05-10T15:16:00.436Z"
   },
   {
    "duration": 106,
    "start_time": "2022-05-10T15:16:00.459Z"
   },
   {
    "duration": 86,
    "start_time": "2022-05-10T15:16:00.568Z"
   },
   {
    "duration": 79,
    "start_time": "2022-05-10T15:16:00.659Z"
   },
   {
    "duration": 127,
    "start_time": "2022-05-10T15:16:00.740Z"
   },
   {
    "duration": 188,
    "start_time": "2022-05-10T15:16:00.869Z"
   },
   {
    "duration": 176,
    "start_time": "2022-05-10T15:16:01.059Z"
   },
   {
    "duration": 97,
    "start_time": "2022-05-10T15:16:01.237Z"
   },
   {
    "duration": 3,
    "start_time": "2022-05-10T15:16:01.336Z"
   },
   {
    "duration": 18,
    "start_time": "2022-05-10T15:16:01.341Z"
   },
   {
    "duration": 96,
    "start_time": "2022-05-10T15:16:01.361Z"
   },
   {
    "duration": 93,
    "start_time": "2022-05-10T15:16:01.459Z"
   },
   {
    "duration": 91,
    "start_time": "2022-05-10T15:16:01.554Z"
   },
   {
    "duration": 4,
    "start_time": "2022-05-10T15:16:01.647Z"
   },
   {
    "duration": 87,
    "start_time": "2022-05-10T15:16:01.653Z"
   },
   {
    "duration": 17,
    "start_time": "2022-05-10T15:16:01.742Z"
   },
   {
    "duration": 75,
    "start_time": "2022-05-10T15:16:01.761Z"
   },
   {
    "duration": 17,
    "start_time": "2022-05-10T15:16:01.838Z"
   },
   {
    "duration": 82,
    "start_time": "2022-05-10T15:16:01.857Z"
   },
   {
    "duration": 18,
    "start_time": "2022-05-10T15:16:01.942Z"
   },
   {
    "duration": 10,
    "start_time": "2022-05-10T15:16:01.962Z"
   },
   {
    "duration": 62,
    "start_time": "2022-05-10T15:16:01.976Z"
   },
   {
    "duration": 26,
    "start_time": "2022-05-10T15:16:02.040Z"
   },
   {
    "duration": 5,
    "start_time": "2022-05-10T15:16:02.068Z"
   },
   {
    "duration": 73,
    "start_time": "2022-05-10T15:16:02.075Z"
   },
   {
    "duration": 16,
    "start_time": "2022-05-10T15:16:02.150Z"
   },
   {
    "duration": 18,
    "start_time": "2022-05-10T15:16:02.168Z"
   },
   {
    "duration": 18,
    "start_time": "2022-05-10T15:16:02.188Z"
   },
   {
    "duration": 12,
    "start_time": "2022-05-10T15:16:02.233Z"
   },
   {
    "duration": 18,
    "start_time": "2022-05-10T15:16:02.247Z"
   },
   {
    "duration": 26,
    "start_time": "2022-05-10T15:16:02.267Z"
   },
   {
    "duration": 19,
    "start_time": "2022-05-10T15:16:02.295Z"
   },
   {
    "duration": 66,
    "start_time": "2022-05-10T15:16:02.316Z"
   },
   {
    "duration": 47,
    "start_time": "2022-05-10T15:30:45.535Z"
   },
   {
    "duration": 417,
    "start_time": "2022-05-10T15:30:58.872Z"
   },
   {
    "duration": 201,
    "start_time": "2022-05-10T15:30:59.291Z"
   },
   {
    "duration": 17,
    "start_time": "2022-05-10T15:30:59.494Z"
   },
   {
    "duration": 30,
    "start_time": "2022-05-10T15:30:59.514Z"
   },
   {
    "duration": 4,
    "start_time": "2022-05-10T15:30:59.546Z"
   },
   {
    "duration": 27,
    "start_time": "2022-05-10T15:30:59.551Z"
   },
   {
    "duration": 6,
    "start_time": "2022-05-10T15:30:59.580Z"
   },
   {
    "duration": 26,
    "start_time": "2022-05-10T15:30:59.588Z"
   },
   {
    "duration": 19,
    "start_time": "2022-05-10T15:30:59.616Z"
   },
   {
    "duration": 46,
    "start_time": "2022-05-10T15:30:59.638Z"
   },
   {
    "duration": 67,
    "start_time": "2022-05-10T15:30:59.685Z"
   },
   {
    "duration": 92,
    "start_time": "2022-05-10T15:30:59.754Z"
   },
   {
    "duration": 73,
    "start_time": "2022-05-10T15:30:59.848Z"
   },
   {
    "duration": 40,
    "start_time": "2022-05-10T15:30:59.922Z"
   },
   {
    "duration": 3,
    "start_time": "2022-05-10T15:30:59.974Z"
   },
   {
    "duration": 59,
    "start_time": "2022-05-10T15:30:59.979Z"
   },
   {
    "duration": 64,
    "start_time": "2022-05-10T15:31:00.040Z"
   },
   {
    "duration": 3,
    "start_time": "2022-05-10T15:31:33.445Z"
   },
   {
    "duration": 163,
    "start_time": "2022-05-10T15:31:33.450Z"
   },
   {
    "duration": 11,
    "start_time": "2022-05-10T15:31:33.614Z"
   },
   {
    "duration": 33,
    "start_time": "2022-05-10T15:31:33.627Z"
   },
   {
    "duration": 5,
    "start_time": "2022-05-10T15:31:33.674Z"
   },
   {
    "duration": 12,
    "start_time": "2022-05-10T15:31:33.680Z"
   },
   {
    "duration": 5,
    "start_time": "2022-05-10T15:31:33.694Z"
   },
   {
    "duration": 28,
    "start_time": "2022-05-10T15:31:33.700Z"
   },
   {
    "duration": 42,
    "start_time": "2022-05-10T15:31:33.731Z"
   },
   {
    "duration": 25,
    "start_time": "2022-05-10T15:31:33.775Z"
   },
   {
    "duration": 76,
    "start_time": "2022-05-10T15:31:33.802Z"
   },
   {
    "duration": 71,
    "start_time": "2022-05-10T15:31:33.879Z"
   },
   {
    "duration": 73,
    "start_time": "2022-05-10T15:31:33.951Z"
   },
   {
    "duration": 60,
    "start_time": "2022-05-10T15:31:34.026Z"
   },
   {
    "duration": 3,
    "start_time": "2022-05-10T15:31:34.087Z"
   },
   {
    "duration": 16,
    "start_time": "2022-05-10T15:31:34.092Z"
   },
   {
    "duration": 38,
    "start_time": "2022-05-10T15:31:34.110Z"
   },
   {
    "duration": 14,
    "start_time": "2022-05-10T15:31:39.073Z"
   },
   {
    "duration": 12,
    "start_time": "2022-05-10T15:32:13.810Z"
   },
   {
    "duration": 4,
    "start_time": "2022-05-10T15:32:28.817Z"
   },
   {
    "duration": 17,
    "start_time": "2022-05-10T15:32:41.666Z"
   },
   {
    "duration": 15,
    "start_time": "2022-05-10T15:32:44.427Z"
   },
   {
    "duration": 14,
    "start_time": "2022-05-10T15:32:46.312Z"
   },
   {
    "duration": 15,
    "start_time": "2022-05-10T15:32:47.455Z"
   },
   {
    "duration": 18,
    "start_time": "2022-05-10T15:32:48.191Z"
   },
   {
    "duration": 16,
    "start_time": "2022-05-10T15:32:48.796Z"
   },
   {
    "duration": 9,
    "start_time": "2022-05-10T15:32:52.552Z"
   },
   {
    "duration": 11,
    "start_time": "2022-05-10T15:33:11.221Z"
   },
   {
    "duration": 10,
    "start_time": "2022-05-10T15:33:13.242Z"
   },
   {
    "duration": 5,
    "start_time": "2022-05-10T15:33:16.483Z"
   },
   {
    "duration": 20,
    "start_time": "2022-05-10T15:33:18.788Z"
   },
   {
    "duration": 13,
    "start_time": "2022-05-10T15:33:20.603Z"
   },
   {
    "duration": 19,
    "start_time": "2022-05-10T15:33:21.929Z"
   },
   {
    "duration": 17,
    "start_time": "2022-05-10T15:33:24.682Z"
   },
   {
    "duration": 10,
    "start_time": "2022-05-10T15:33:32.588Z"
   },
   {
    "duration": 5,
    "start_time": "2022-05-10T15:34:39.617Z"
   },
   {
    "duration": 7,
    "start_time": "2022-05-10T15:34:44.770Z"
   },
   {
    "duration": 5,
    "start_time": "2022-05-10T15:34:47.650Z"
   },
   {
    "duration": 30,
    "start_time": "2022-05-10T15:35:42.457Z"
   }
  ],
  "colab": {
   "collapsed_sections": [
    "E0vqbgi9ay0H",
    "VUC88oWjTJw2"
   ],
   "name": "yandex_music_project.ipynb",
   "provenance": []
  },
  "kernelspec": {
   "display_name": "Python 3 (ipykernel)",
   "language": "python",
   "name": "python3"
  },
  "language_info": {
   "codemirror_mode": {
    "name": "ipython",
    "version": 3
   },
   "file_extension": ".py",
   "mimetype": "text/x-python",
   "name": "python",
   "nbconvert_exporter": "python",
   "pygments_lexer": "ipython3",
   "version": "3.9.13"
  },
  "toc": {
   "base_numbering": 1,
   "nav_menu": {},
   "number_sections": true,
   "sideBar": true,
   "skip_h1_title": true,
   "title_cell": "Table of Contents",
   "title_sidebar": "Contents",
   "toc_cell": false,
   "toc_position": {
    "height": "calc(100% - 180px)",
    "left": "10px",
    "top": "150px",
    "width": "165px"
   },
   "toc_section_display": true,
   "toc_window_display": true
  }
 },
 "nbformat": 4,
 "nbformat_minor": 1
}
