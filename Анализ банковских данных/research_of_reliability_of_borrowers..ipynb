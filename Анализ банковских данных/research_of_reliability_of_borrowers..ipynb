{
 "cells": [
  {
   "cell_type": "markdown",
   "id": "18214e22",
   "metadata": {},
   "source": [
    "# Исследование надежности заемщиков."
   ]
  },
  {
   "cell_type": "markdown",
   "id": "2d45c60b",
   "metadata": {},
   "source": [
    "Задача нашего исследования - разобраться, влияет ли семейное положение и количество детей клиента на факт погашения кредита в срок"
   ]
  },
  {
   "cell_type": "markdown",
   "id": "f06053a0",
   "metadata": {},
   "source": [
    "Результаты нашего исследования будут учтены при построении модели кредитного скоринга — специальной системы, которая оценивает способность потенциального заёмщика вернуть кредит банку."
   ]
  },
  {
   "cell_type": "markdown",
   "id": "939a455d",
   "metadata": {},
   "source": [
    "**Шаги работы:**\n",
    "\n",
    "- Обзор данных\n",
    "- Заполнение пропусков\n",
    "- Проверка данных на анамалии и исправление\n",
    "- Изменение типов данных\n",
    "- Удаление дубликатов \n",
    "- Декомпозиция исходного датафрейма\n",
    "- Категоризация дохода\n",
    "- Категоризация целей кредита \n",
    "- Ответы на вопросы \n",
    "- Вывод"
   ]
  },
  {
   "cell_type": "markdown",
   "id": "368e35b1",
   "metadata": {},
   "source": [
    "## Обзор данных"
   ]
  },
  {
   "cell_type": "code",
   "execution_count": 1,
   "id": "65fbdc46",
   "metadata": {},
   "outputs": [],
   "source": [
    "import pandas as pd #импортируем библиотеку"
   ]
  },
  {
   "cell_type": "code",
   "execution_count": 2,
   "id": "d45723b0",
   "metadata": {},
   "outputs": [],
   "source": [
    "data = pd.read_csv('/Users/alekseivlasov/Desktop/project/2/data.csv')"
   ]
  },
  {
   "cell_type": "code",
   "execution_count": 3,
   "id": "a67c4991",
   "metadata": {},
   "outputs": [
    {
     "data": {
      "text/html": [
       "<div>\n",
       "<style scoped>\n",
       "    .dataframe tbody tr th:only-of-type {\n",
       "        vertical-align: middle;\n",
       "    }\n",
       "\n",
       "    .dataframe tbody tr th {\n",
       "        vertical-align: top;\n",
       "    }\n",
       "\n",
       "    .dataframe thead th {\n",
       "        text-align: right;\n",
       "    }\n",
       "</style>\n",
       "<table border=\"1\" class=\"dataframe\">\n",
       "  <thead>\n",
       "    <tr style=\"text-align: right;\">\n",
       "      <th></th>\n",
       "      <th>children</th>\n",
       "      <th>days_employed</th>\n",
       "      <th>dob_years</th>\n",
       "      <th>education</th>\n",
       "      <th>education_id</th>\n",
       "      <th>family_status</th>\n",
       "      <th>family_status_id</th>\n",
       "      <th>gender</th>\n",
       "      <th>income_type</th>\n",
       "      <th>debt</th>\n",
       "      <th>total_income</th>\n",
       "      <th>purpose</th>\n",
       "    </tr>\n",
       "  </thead>\n",
       "  <tbody>\n",
       "    <tr>\n",
       "      <th>0</th>\n",
       "      <td>1</td>\n",
       "      <td>-8437.673028</td>\n",
       "      <td>42</td>\n",
       "      <td>высшее</td>\n",
       "      <td>0</td>\n",
       "      <td>женат / замужем</td>\n",
       "      <td>0</td>\n",
       "      <td>F</td>\n",
       "      <td>сотрудник</td>\n",
       "      <td>0</td>\n",
       "      <td>253875.639453</td>\n",
       "      <td>покупка жилья</td>\n",
       "    </tr>\n",
       "    <tr>\n",
       "      <th>1</th>\n",
       "      <td>1</td>\n",
       "      <td>-4024.803754</td>\n",
       "      <td>36</td>\n",
       "      <td>среднее</td>\n",
       "      <td>1</td>\n",
       "      <td>женат / замужем</td>\n",
       "      <td>0</td>\n",
       "      <td>F</td>\n",
       "      <td>сотрудник</td>\n",
       "      <td>0</td>\n",
       "      <td>112080.014102</td>\n",
       "      <td>приобретение автомобиля</td>\n",
       "    </tr>\n",
       "    <tr>\n",
       "      <th>2</th>\n",
       "      <td>0</td>\n",
       "      <td>-5623.422610</td>\n",
       "      <td>33</td>\n",
       "      <td>Среднее</td>\n",
       "      <td>1</td>\n",
       "      <td>женат / замужем</td>\n",
       "      <td>0</td>\n",
       "      <td>M</td>\n",
       "      <td>сотрудник</td>\n",
       "      <td>0</td>\n",
       "      <td>145885.952297</td>\n",
       "      <td>покупка жилья</td>\n",
       "    </tr>\n",
       "    <tr>\n",
       "      <th>3</th>\n",
       "      <td>3</td>\n",
       "      <td>-4124.747207</td>\n",
       "      <td>32</td>\n",
       "      <td>среднее</td>\n",
       "      <td>1</td>\n",
       "      <td>женат / замужем</td>\n",
       "      <td>0</td>\n",
       "      <td>M</td>\n",
       "      <td>сотрудник</td>\n",
       "      <td>0</td>\n",
       "      <td>267628.550329</td>\n",
       "      <td>дополнительное образование</td>\n",
       "    </tr>\n",
       "    <tr>\n",
       "      <th>4</th>\n",
       "      <td>0</td>\n",
       "      <td>340266.072047</td>\n",
       "      <td>53</td>\n",
       "      <td>среднее</td>\n",
       "      <td>1</td>\n",
       "      <td>гражданский брак</td>\n",
       "      <td>1</td>\n",
       "      <td>F</td>\n",
       "      <td>пенсионер</td>\n",
       "      <td>0</td>\n",
       "      <td>158616.077870</td>\n",
       "      <td>сыграть свадьбу</td>\n",
       "    </tr>\n",
       "    <tr>\n",
       "      <th>5</th>\n",
       "      <td>0</td>\n",
       "      <td>-926.185831</td>\n",
       "      <td>27</td>\n",
       "      <td>высшее</td>\n",
       "      <td>0</td>\n",
       "      <td>гражданский брак</td>\n",
       "      <td>1</td>\n",
       "      <td>M</td>\n",
       "      <td>компаньон</td>\n",
       "      <td>0</td>\n",
       "      <td>255763.565419</td>\n",
       "      <td>покупка жилья</td>\n",
       "    </tr>\n",
       "    <tr>\n",
       "      <th>6</th>\n",
       "      <td>0</td>\n",
       "      <td>-2879.202052</td>\n",
       "      <td>43</td>\n",
       "      <td>высшее</td>\n",
       "      <td>0</td>\n",
       "      <td>женат / замужем</td>\n",
       "      <td>0</td>\n",
       "      <td>F</td>\n",
       "      <td>компаньон</td>\n",
       "      <td>0</td>\n",
       "      <td>240525.971920</td>\n",
       "      <td>операции с жильем</td>\n",
       "    </tr>\n",
       "    <tr>\n",
       "      <th>7</th>\n",
       "      <td>0</td>\n",
       "      <td>-152.779569</td>\n",
       "      <td>50</td>\n",
       "      <td>СРЕДНЕЕ</td>\n",
       "      <td>1</td>\n",
       "      <td>женат / замужем</td>\n",
       "      <td>0</td>\n",
       "      <td>M</td>\n",
       "      <td>сотрудник</td>\n",
       "      <td>0</td>\n",
       "      <td>135823.934197</td>\n",
       "      <td>образование</td>\n",
       "    </tr>\n",
       "    <tr>\n",
       "      <th>8</th>\n",
       "      <td>2</td>\n",
       "      <td>-6929.865299</td>\n",
       "      <td>35</td>\n",
       "      <td>ВЫСШЕЕ</td>\n",
       "      <td>0</td>\n",
       "      <td>гражданский брак</td>\n",
       "      <td>1</td>\n",
       "      <td>F</td>\n",
       "      <td>сотрудник</td>\n",
       "      <td>0</td>\n",
       "      <td>95856.832424</td>\n",
       "      <td>на проведение свадьбы</td>\n",
       "    </tr>\n",
       "    <tr>\n",
       "      <th>9</th>\n",
       "      <td>0</td>\n",
       "      <td>-2188.756445</td>\n",
       "      <td>41</td>\n",
       "      <td>среднее</td>\n",
       "      <td>1</td>\n",
       "      <td>женат / замужем</td>\n",
       "      <td>0</td>\n",
       "      <td>M</td>\n",
       "      <td>сотрудник</td>\n",
       "      <td>0</td>\n",
       "      <td>144425.938277</td>\n",
       "      <td>покупка жилья для семьи</td>\n",
       "    </tr>\n",
       "  </tbody>\n",
       "</table>\n",
       "</div>"
      ],
      "text/plain": [
       "   children  days_employed  dob_years education  education_id  \\\n",
       "0         1   -8437.673028         42    высшее             0   \n",
       "1         1   -4024.803754         36   среднее             1   \n",
       "2         0   -5623.422610         33   Среднее             1   \n",
       "3         3   -4124.747207         32   среднее             1   \n",
       "4         0  340266.072047         53   среднее             1   \n",
       "5         0    -926.185831         27    высшее             0   \n",
       "6         0   -2879.202052         43    высшее             0   \n",
       "7         0    -152.779569         50   СРЕДНЕЕ             1   \n",
       "8         2   -6929.865299         35    ВЫСШЕЕ             0   \n",
       "9         0   -2188.756445         41   среднее             1   \n",
       "\n",
       "      family_status  family_status_id gender income_type  debt   total_income  \\\n",
       "0   женат / замужем                 0      F   сотрудник     0  253875.639453   \n",
       "1   женат / замужем                 0      F   сотрудник     0  112080.014102   \n",
       "2   женат / замужем                 0      M   сотрудник     0  145885.952297   \n",
       "3   женат / замужем                 0      M   сотрудник     0  267628.550329   \n",
       "4  гражданский брак                 1      F   пенсионер     0  158616.077870   \n",
       "5  гражданский брак                 1      M   компаньон     0  255763.565419   \n",
       "6   женат / замужем                 0      F   компаньон     0  240525.971920   \n",
       "7   женат / замужем                 0      M   сотрудник     0  135823.934197   \n",
       "8  гражданский брак                 1      F   сотрудник     0   95856.832424   \n",
       "9   женат / замужем                 0      M   сотрудник     0  144425.938277   \n",
       "\n",
       "                      purpose  \n",
       "0               покупка жилья  \n",
       "1     приобретение автомобиля  \n",
       "2               покупка жилья  \n",
       "3  дополнительное образование  \n",
       "4             сыграть свадьбу  \n",
       "5               покупка жилья  \n",
       "6           операции с жильем  \n",
       "7                 образование  \n",
       "8       на проведение свадьбы  \n",
       "9     покупка жилья для семьи  "
      ]
     },
     "execution_count": 3,
     "metadata": {},
     "output_type": "execute_result"
    }
   ],
   "source": [
    "data.head(10) #открываем первые 10 строк датасета"
   ]
  },
  {
   "cell_type": "code",
   "execution_count": 4,
   "id": "27f2bd68",
   "metadata": {},
   "outputs": [
    {
     "name": "stdout",
     "output_type": "stream",
     "text": [
      "<class 'pandas.core.frame.DataFrame'>\n",
      "RangeIndex: 21525 entries, 0 to 21524\n",
      "Data columns (total 12 columns):\n",
      " #   Column            Non-Null Count  Dtype  \n",
      "---  ------            --------------  -----  \n",
      " 0   children          21525 non-null  int64  \n",
      " 1   days_employed     19351 non-null  float64\n",
      " 2   dob_years         21525 non-null  int64  \n",
      " 3   education         21525 non-null  object \n",
      " 4   education_id      21525 non-null  int64  \n",
      " 5   family_status     21525 non-null  object \n",
      " 6   family_status_id  21525 non-null  int64  \n",
      " 7   gender            21525 non-null  object \n",
      " 8   income_type       21525 non-null  object \n",
      " 9   debt              21525 non-null  int64  \n",
      " 10  total_income      19351 non-null  float64\n",
      " 11  purpose           21525 non-null  object \n",
      "dtypes: float64(2), int64(5), object(5)\n",
      "memory usage: 2.0+ MB\n"
     ]
    }
   ],
   "source": [
    "data.info() #получаем общую информацию по датасету"
   ]
  },
  {
   "cell_type": "markdown",
   "id": "849369d4",
   "metadata": {},
   "source": [
    "Название столбцов соответствует хорошему стилю"
   ]
  },
  {
   "cell_type": "markdown",
   "id": "1d534546",
   "metadata": {},
   "source": [
    "## Заполнение пропусков"
   ]
  },
  {
   "cell_type": "code",
   "execution_count": 5,
   "id": "1fd770a8",
   "metadata": {
    "scrolled": true
   },
   "outputs": [
    {
     "data": {
      "text/plain": [
       "children               0\n",
       "days_employed       2174\n",
       "dob_years              0\n",
       "education              0\n",
       "education_id           0\n",
       "family_status          0\n",
       "family_status_id       0\n",
       "gender                 0\n",
       "income_type            0\n",
       "debt                   0\n",
       "total_income        2174\n",
       "purpose                0\n",
       "dtype: int64"
      ]
     },
     "execution_count": 5,
     "metadata": {},
     "output_type": "execute_result"
    }
   ],
   "source": [
    "data.isna().sum() #проверим датасет на пропуски"
   ]
  },
  {
   "cell_type": "markdown",
   "id": "1e8911fa",
   "metadata": {},
   "source": [
    "Найдено 2 столбца с пропусками: `days_employed` и `total_income`"
   ]
  },
  {
   "cell_type": "markdown",
   "id": "1500b896",
   "metadata": {},
   "source": [
    "В столбце `total_income`  пропуски `NaN`"
   ]
  },
  {
   "cell_type": "code",
   "execution_count": 6,
   "id": "228f0a72",
   "metadata": {},
   "outputs": [
    {
     "data": {
      "text/plain": [
       "children             0.000000\n",
       "days_employed       11.234562\n",
       "dob_years            0.000000\n",
       "education            0.000000\n",
       "education_id         0.000000\n",
       "family_status        0.000000\n",
       "family_status_id     0.000000\n",
       "gender               0.000000\n",
       "income_type          0.000000\n",
       "debt                 0.000000\n",
       "total_income        11.234562\n",
       "purpose              0.000000\n",
       "dtype: float64"
      ]
     },
     "execution_count": 6,
     "metadata": {},
     "output_type": "execute_result"
    }
   ],
   "source": [
    "pass_income = data.isna().sum()\n",
    "all_income = data.count()\n",
    "\n",
    "(pass_income / all_income) * 100"
   ]
  },
  {
   "cell_type": "markdown",
   "id": "0deaff93",
   "metadata": {},
   "source": [
    "Доля пропущенных значений 11%"
   ]
  },
  {
   "cell_type": "markdown",
   "id": "ec80f88c",
   "metadata": {},
   "source": [
    "Возможная причина появляение пропусков `total_income` отсутствия опыта, так как количество пропусков одинаково "
   ]
  },
  {
   "cell_type": "markdown",
   "id": "03934617",
   "metadata": {},
   "source": [
    "Если мы заполним пропуски средним значением или 0, мы можем получить при дальнейших расчетах некорректные выводы, поэтому лучше заменить пропуски медианным значением"
   ]
  },
  {
   "cell_type": "markdown",
   "id": "e366626e",
   "metadata": {},
   "source": [
    "Для каждого типа занятости определим медианное значение total_income и заполним пропуски с тем же типом"
   ]
  },
  {
   "cell_type": "code",
   "execution_count": 7,
   "id": "d3a5164f",
   "metadata": {},
   "outputs": [],
   "source": [
    "income_type_list = [\n",
    "    'сотрудник', 'компаньон', 'пенсионер', 'госслужащий', 'предприниматель', 'безработный', 'в декрете', 'студент']\n",
    "\n",
    "for item in income_type_list:\n",
    "    type_median = data.loc[data['income_type'] == item,'total_income'].median()\n",
    "    data.loc[data['income_type'] == item,'total_income'] = data.loc[data['income_type'] == item,'total_income'].fillna(type_median)"
   ]
  },
  {
   "cell_type": "markdown",
   "id": "c23491ea",
   "metadata": {},
   "source": [
    "## Проверка данных на аномалии и исправления."
   ]
  },
  {
   "cell_type": "markdown",
   "id": "3bfbce5c",
   "metadata": {},
   "source": [
    "Когда мы знакомились с датасетом, сразу бросились в глаза отрицательные значения в столбце `days_employed` "
   ]
  },
  {
   "cell_type": "code",
   "execution_count": 8,
   "id": "3fa1fe58",
   "metadata": {
    "scrolled": true
   },
   "outputs": [
    {
     "data": {
      "text/plain": [
       "15906"
      ]
     },
     "execution_count": 8,
     "metadata": {},
     "output_type": "execute_result"
    }
   ],
   "source": [
    "data[data['days_employed'] < 0]['days_employed'].count() #проверим количество отрицательных значений"
   ]
  },
  {
   "cell_type": "code",
   "execution_count": 9,
   "id": "5e654059",
   "metadata": {},
   "outputs": [
    {
     "data": {
      "text/plain": [
       "401755.40047533"
      ]
     },
     "execution_count": 9,
     "metadata": {},
     "output_type": "execute_result"
    }
   ],
   "source": [
    "data['days_employed'].max() #посмтрим, какой максимальный трудовой стаж в днях"
   ]
  },
  {
   "cell_type": "code",
   "execution_count": 10,
   "id": "5a321763",
   "metadata": {},
   "outputs": [
    {
     "data": {
      "text/plain": [
       "1115.9872235425833"
      ]
     },
     "execution_count": 10,
     "metadata": {},
     "output_type": "execute_result"
    }
   ],
   "source": [
    "max_employed = data['days_employed'].max()\n",
    "max_employed = max_employed/ 360\n",
    "max_employed"
   ]
  },
  {
   "cell_type": "markdown",
   "id": "e98980ca",
   "metadata": {},
   "source": [
    "1115 лет отличный стаж, но не совсем реальный для нашего мира. Скорей всего, стаж заполнился не в днях, а в часах"
   ]
  },
  {
   "cell_type": "code",
   "execution_count": 11,
   "id": "483744a4",
   "metadata": {},
   "outputs": [
    {
     "data": {
      "text/plain": [
       "46.49946764760764"
      ]
     },
     "execution_count": 11,
     "metadata": {},
     "output_type": "execute_result"
    }
   ],
   "source": [
    "max_employed/24"
   ]
  },
  {
   "cell_type": "markdown",
   "id": "2168c1d4",
   "metadata": {},
   "source": [
    "46 лет - этот стаж больше подходит для нашей планеты "
   ]
  },
  {
   "cell_type": "markdown",
   "id": "de9ae125",
   "metadata": {},
   "source": [
    "В столбце `days_employed` найдены отрицательные и завышенные значения:  \n",
    "Отрицательные значения могли появится при технической ошибке  \n",
    "Завышенные значения имеют формат не в днях, а в часах."
   ]
  },
  {
   "cell_type": "code",
   "execution_count": 12,
   "id": "740e4c7c",
   "metadata": {},
   "outputs": [],
   "source": [
    "#для начала мы заменим отрицательные значения положительными \n",
    "data['days_employed'] = data['days_employed'].abs()"
   ]
  },
  {
   "cell_type": "code",
   "execution_count": 13,
   "id": "6db2874b",
   "metadata": {},
   "outputs": [
    {
     "data": {
      "text/plain": [
       "0"
      ]
     },
     "execution_count": 13,
     "metadata": {},
     "output_type": "execute_result"
    }
   ],
   "source": [
    "data[data['days_employed'] < 0]['days_employed'].count()"
   ]
  },
  {
   "cell_type": "markdown",
   "id": "777dbab2",
   "metadata": {},
   "source": [
    "Мы убрали минус и оставили такие же значения, так как не найдено законномерности, почему возникли отрицательные значения"
   ]
  },
  {
   "cell_type": "code",
   "execution_count": 14,
   "id": "db15885e",
   "metadata": {},
   "outputs": [
    {
     "data": {
      "text/plain": [
       "16739.80835313875"
      ]
     },
     "execution_count": 14,
     "metadata": {},
     "output_type": "execute_result"
    }
   ],
   "source": [
    "#возьмем за основу стаж 47 лет - 16920 дней, все что выше, будем переводить \n",
    "data.loc[data['days_employed'] > 16920, 'days_employed'] = data['days_employed']/24\n",
    "data['days_employed'].max() #проверим, получилось ли убрать завышенные значения        "
   ]
  },
  {
   "cell_type": "markdown",
   "id": "008b99f9",
   "metadata": {},
   "source": [
    "Все значения, которые были больше 47 лет (16920 дня), мы перевели из часов в дни. Теперь максимальный трудовой стаж выглядит реалистично"
   ]
  },
  {
   "cell_type": "markdown",
   "id": "12a6afae",
   "metadata": {},
   "source": [
    "В столбце `days_employed` остались пропуски, их мы заполним медианными значениями по типу занятости"
   ]
  },
  {
   "cell_type": "code",
   "execution_count": 15,
   "id": "17ccce56",
   "metadata": {},
   "outputs": [],
   "source": [
    "for item in income_type_list:\n",
    "    type_median = data.loc[data['income_type'] == item, 'days_employed'].median()\n",
    "    data.loc[data['income_type'] == item, 'days_employed'] = data.loc[data['income_type'] == item, 'days_employed'].fillna(type_median)"
   ]
  },
  {
   "cell_type": "code",
   "execution_count": 16,
   "id": "0a83ddb3",
   "metadata": {},
   "outputs": [
    {
     "data": {
      "text/plain": [
       "children            0\n",
       "days_employed       0\n",
       "dob_years           0\n",
       "education           0\n",
       "education_id        0\n",
       "family_status       0\n",
       "family_status_id    0\n",
       "gender              0\n",
       "income_type         0\n",
       "debt                0\n",
       "total_income        0\n",
       "purpose             0\n",
       "dtype: int64"
      ]
     },
     "execution_count": 16,
     "metadata": {},
     "output_type": "execute_result"
    }
   ],
   "source": [
    "data.isna().sum()"
   ]
  },
  {
   "cell_type": "markdown",
   "id": "c3d0e9f7",
   "metadata": {},
   "source": [
    "Мы избавились от пропусков в датасете"
   ]
  },
  {
   "cell_type": "markdown",
   "id": "f877f5d1",
   "metadata": {},
   "source": [
    "Нужно проверить столбец, который понадобится для исследования"
   ]
  },
  {
   "cell_type": "code",
   "execution_count": 17,
   "id": "11127395",
   "metadata": {
    "scrolled": true
   },
   "outputs": [
    {
     "data": {
      "text/plain": [
       " 0     14149\n",
       " 1      4818\n",
       " 2      2055\n",
       " 3       330\n",
       " 20       76\n",
       "-1        47\n",
       " 4        41\n",
       " 5         9\n",
       "Name: children, dtype: int64"
      ]
     },
     "execution_count": 17,
     "metadata": {},
     "output_type": "execute_result"
    }
   ],
   "source": [
    "data['children'].value_counts()"
   ]
  },
  {
   "cell_type": "markdown",
   "id": "4d06b377",
   "metadata": {},
   "source": [
    "20 детей может быть, но смущает, что такое количество детей встречается чаще чем 4 и 5 ребенка, что не похоже на правду. И у нас в списке пристутствует отрицательное значение, такого тоже быть не может  \n",
    "Так как доля аномалий мала и ни на что не повлияет - мы удалим строчки с аномальными значениями"
   ]
  },
  {
   "cell_type": "code",
   "execution_count": 18,
   "id": "c5894cb7",
   "metadata": {},
   "outputs": [
    {
     "data": {
      "text/plain": [
       "0    14149\n",
       "1     4818\n",
       "2     2055\n",
       "3      330\n",
       "4       41\n",
       "5        9\n",
       "Name: children, dtype: int64"
      ]
     },
     "execution_count": 18,
     "metadata": {},
     "output_type": "execute_result"
    }
   ],
   "source": [
    "data = data.loc[data['children'] != 20]\n",
    "data = data.loc[data['children'] != -1]\n",
    "data['children'].value_counts()"
   ]
  },
  {
   "cell_type": "code",
   "execution_count": 19,
   "id": "df9edb42",
   "metadata": {},
   "outputs": [
    {
     "data": {
      "text/plain": [
       "F      14154\n",
       "M       7247\n",
       "XNA        1\n",
       "Name: gender, dtype: int64"
      ]
     },
     "execution_count": 19,
     "metadata": {},
     "output_type": "execute_result"
    }
   ],
   "source": [
    "data['gender'].value_counts() #проверяем gender на аномалии"
   ]
  },
  {
   "cell_type": "markdown",
   "id": "34a9e45d",
   "metadata": {},
   "source": [
    "Мы нашли странное значение в данных пола. Так как встречается оно всего один раз - мы его удалим"
   ]
  },
  {
   "cell_type": "code",
   "execution_count": 20,
   "id": "badee0dc",
   "metadata": {
    "scrolled": true
   },
   "outputs": [
    {
     "data": {
      "text/plain": [
       "F    14154\n",
       "M     7247\n",
       "Name: gender, dtype: int64"
      ]
     },
     "execution_count": 20,
     "metadata": {},
     "output_type": "execute_result"
    }
   ],
   "source": [
    "data = data.loc[data['gender'] != 'XNA'] #удалили строку\n",
    "data['gender'].value_counts()"
   ]
  },
  {
   "cell_type": "markdown",
   "id": "c15c5dd5",
   "metadata": {},
   "source": [
    "Нашли аномалии в датасете и обработали их, переходим к следующему этапу"
   ]
  },
  {
   "cell_type": "markdown",
   "id": "ace9ad49",
   "metadata": {},
   "source": [
    "## Изменение типов данных."
   ]
  },
  {
   "cell_type": "code",
   "execution_count": 21,
   "id": "dc8b732c",
   "metadata": {},
   "outputs": [],
   "source": [
    "data['total_income'] = data['total_income'].astype('int') #изменим вещественный тип данных на целочисленный\n",
    "data['days_employed'] = data['days_employed'].astype('float32') #для экономии памяти float64 заменим на float32"
   ]
  },
  {
   "cell_type": "code",
   "execution_count": 22,
   "id": "c7afba3a",
   "metadata": {
    "scrolled": true
   },
   "outputs": [
    {
     "name": "stdout",
     "output_type": "stream",
     "text": [
      "<class 'pandas.core.frame.DataFrame'>\n",
      "Int64Index: 21401 entries, 0 to 21524\n",
      "Data columns (total 12 columns):\n",
      " #   Column            Non-Null Count  Dtype  \n",
      "---  ------            --------------  -----  \n",
      " 0   children          21401 non-null  int64  \n",
      " 1   days_employed     21401 non-null  float32\n",
      " 2   dob_years         21401 non-null  int64  \n",
      " 3   education         21401 non-null  object \n",
      " 4   education_id      21401 non-null  int64  \n",
      " 5   family_status     21401 non-null  object \n",
      " 6   family_status_id  21401 non-null  int64  \n",
      " 7   gender            21401 non-null  object \n",
      " 8   income_type       21401 non-null  object \n",
      " 9   debt              21401 non-null  int64  \n",
      " 10  total_income      21401 non-null  int64  \n",
      " 11  purpose           21401 non-null  object \n",
      "dtypes: float32(1), int64(6), object(5)\n",
      "memory usage: 2.0+ MB\n"
     ]
    }
   ],
   "source": [
    "data.info()"
   ]
  },
  {
   "cell_type": "markdown",
   "id": "037fe148",
   "metadata": {},
   "source": [
    "## Удаление дубликатов."
   ]
  },
  {
   "cell_type": "markdown",
   "id": "961277f6",
   "metadata": {},
   "source": [
    "Вначале найдем неявные дубликаты, с помощью метода `value_counts()`"
   ]
  },
  {
   "cell_type": "code",
   "execution_count": 23,
   "id": "702c1c34",
   "metadata": {
    "scrolled": false
   },
   "outputs": [
    {
     "data": {
      "text/plain": [
       "среднее                13667\n",
       "высшее                  4698\n",
       "СРЕДНЕЕ                  766\n",
       "Среднее                  703\n",
       "неоконченное высшее      664\n",
       "ВЫСШЕЕ                   271\n",
       "Высшее                   268\n",
       "начальное                250\n",
       "Неоконченное высшее       47\n",
       "НЕОКОНЧЕННОЕ ВЫСШЕЕ       29\n",
       "НАЧАЛЬНОЕ                 17\n",
       "Начальное                 15\n",
       "ученая степень             4\n",
       "Ученая степень             1\n",
       "УЧЕНАЯ СТЕПЕНЬ             1\n",
       "Name: education, dtype: int64"
      ]
     },
     "execution_count": 23,
     "metadata": {},
     "output_type": "execute_result"
    }
   ],
   "source": [
    "data['education'].value_counts()"
   ]
  },
  {
   "cell_type": "markdown",
   "id": "751ccd94",
   "metadata": {},
   "source": [
    "Найдены одинковые значения, но записанные по-разному: с использованием заглавных и строчных букв"
   ]
  },
  {
   "cell_type": "code",
   "execution_count": 24,
   "id": "bfcd470e",
   "metadata": {},
   "outputs": [
    {
     "data": {
      "text/plain": [
       "0         высшее\n",
       "1        среднее\n",
       "2        среднее\n",
       "3        среднее\n",
       "4        среднее\n",
       "          ...   \n",
       "21520    среднее\n",
       "21521    среднее\n",
       "21522    среднее\n",
       "21523    среднее\n",
       "21524    среднее\n",
       "Name: education, Length: 21401, dtype: object"
      ]
     },
     "execution_count": 24,
     "metadata": {},
     "output_type": "execute_result"
    }
   ],
   "source": [
    "data['education'] = data['education'].str.lower() #с помощью метода str.lower приведем к одному регистру\n",
    "data['education']"
   ]
  },
  {
   "cell_type": "code",
   "execution_count": 25,
   "id": "b0c84b8f",
   "metadata": {},
   "outputs": [
    {
     "data": {
      "text/plain": [
       "среднее                15136\n",
       "высшее                  5237\n",
       "неоконченное высшее      740\n",
       "начальное                282\n",
       "ученая степень             6\n",
       "Name: education, dtype: int64"
      ]
     },
     "execution_count": 25,
     "metadata": {},
     "output_type": "execute_result"
    }
   ],
   "source": [
    "data['education'].value_counts()"
   ]
  },
  {
   "cell_type": "code",
   "execution_count": 26,
   "id": "bb6cab3b",
   "metadata": {},
   "outputs": [
    {
     "data": {
      "text/plain": [
       "свадьба                                   796\n",
       "на проведение свадьбы                     772\n",
       "сыграть свадьбу                           769\n",
       "операции с недвижимостью                  673\n",
       "покупка коммерческой недвижимости         661\n",
       "покупка жилья для сдачи                   651\n",
       "операции с жильем                         648\n",
       "операции с коммерческой недвижимостью     646\n",
       "жилье                                     642\n",
       "покупка жилья                             641\n",
       "покупка жилья для семьи                   640\n",
       "недвижимость                              632\n",
       "строительство собственной недвижимости    628\n",
       "операции со своей недвижимостью           626\n",
       "строительство жилой недвижимости          622\n",
       "строительство недвижимости                620\n",
       "покупка своего жилья                      619\n",
       "покупка недвижимости                      618\n",
       "ремонт жилью                              609\n",
       "покупка жилой недвижимости                603\n",
       "на покупку своего автомобиля              504\n",
       "заняться высшим образованием              496\n",
       "автомобиль                                492\n",
       "сделка с подержанным автомобилем          484\n",
       "автомобили                                476\n",
       "свой автомобиль                           475\n",
       "на покупку подержанного автомобиля        472\n",
       "на покупку автомобиля                     470\n",
       "приобретение автомобиля                   460\n",
       "дополнительное образование                457\n",
       "сделка с автомобилем                      455\n",
       "высшее образование                        447\n",
       "получение дополнительного образования     445\n",
       "образование                               442\n",
       "получение образования                     441\n",
       "профильное образование                    432\n",
       "получение высшего образования             425\n",
       "заняться образованием                     412\n",
       "Name: purpose, dtype: int64"
      ]
     },
     "execution_count": 26,
     "metadata": {},
     "output_type": "execute_result"
    }
   ],
   "source": [
    "data['purpose'].value_counts()"
   ]
  },
  {
   "cell_type": "markdown",
   "id": "70acf9fb",
   "metadata": {},
   "source": [
    "Перебрав столбцы методом `value_counts()` нашли неявные дубликаты в столбце `purpose`. Связаны они скорей всего тем, что столбец заполняется в свободной форме и не привязан к определенным категориям. Его трогать не будем, так как это не цель нашего исследования "
   ]
  },
  {
   "cell_type": "markdown",
   "id": "5f19e3ed",
   "metadata": {},
   "source": [
    "Методом `duplicated()` проверим наличие явных дубликатов, при нахождении удалим"
   ]
  },
  {
   "cell_type": "code",
   "execution_count": 27,
   "id": "02d5801e",
   "metadata": {},
   "outputs": [
    {
     "data": {
      "text/plain": [
       "71"
      ]
     },
     "execution_count": 27,
     "metadata": {},
     "output_type": "execute_result"
    }
   ],
   "source": [
    "data.duplicated().sum() #проверим наличие явных дубликатов в датасете"
   ]
  },
  {
   "cell_type": "code",
   "execution_count": 28,
   "id": "97e88a88",
   "metadata": {},
   "outputs": [],
   "source": [
    "data = data.drop_duplicates().reset_index(drop=True) #удаляем явные дубликаты"
   ]
  },
  {
   "cell_type": "code",
   "execution_count": 29,
   "id": "d530ade7",
   "metadata": {},
   "outputs": [
    {
     "data": {
      "text/plain": [
       "0"
      ]
     },
     "execution_count": 29,
     "metadata": {},
     "output_type": "execute_result"
    }
   ],
   "source": [
    "data.duplicated().sum()"
   ]
  },
  {
   "cell_type": "markdown",
   "id": "0464a236",
   "metadata": {},
   "source": [
    "## Формирование дополнительных датафреймов словарей, декомпозиция исходного датафрейма."
   ]
  },
  {
   "cell_type": "markdown",
   "id": "1746236b",
   "metadata": {},
   "source": [
    "Создадим первый датафрейм, где укажем уникальные значения `education` и `education_id`"
   ]
  },
  {
   "cell_type": "code",
   "execution_count": 30,
   "id": "9619f903",
   "metadata": {},
   "outputs": [
    {
     "data": {
      "text/html": [
       "<div>\n",
       "<style scoped>\n",
       "    .dataframe tbody tr th:only-of-type {\n",
       "        vertical-align: middle;\n",
       "    }\n",
       "\n",
       "    .dataframe tbody tr th {\n",
       "        vertical-align: top;\n",
       "    }\n",
       "\n",
       "    .dataframe thead th {\n",
       "        text-align: right;\n",
       "    }\n",
       "</style>\n",
       "<table border=\"1\" class=\"dataframe\">\n",
       "  <thead>\n",
       "    <tr style=\"text-align: right;\">\n",
       "      <th></th>\n",
       "      <th>education</th>\n",
       "      <th>education_id</th>\n",
       "    </tr>\n",
       "  </thead>\n",
       "  <tbody>\n",
       "    <tr>\n",
       "      <th>0</th>\n",
       "      <td>высшее</td>\n",
       "      <td>0</td>\n",
       "    </tr>\n",
       "    <tr>\n",
       "      <th>1</th>\n",
       "      <td>среднее</td>\n",
       "      <td>1</td>\n",
       "    </tr>\n",
       "    <tr>\n",
       "      <th>2</th>\n",
       "      <td>среднее</td>\n",
       "      <td>1</td>\n",
       "    </tr>\n",
       "    <tr>\n",
       "      <th>3</th>\n",
       "      <td>среднее</td>\n",
       "      <td>1</td>\n",
       "    </tr>\n",
       "    <tr>\n",
       "      <th>4</th>\n",
       "      <td>среднее</td>\n",
       "      <td>1</td>\n",
       "    </tr>\n",
       "    <tr>\n",
       "      <th>5</th>\n",
       "      <td>высшее</td>\n",
       "      <td>0</td>\n",
       "    </tr>\n",
       "    <tr>\n",
       "      <th>6</th>\n",
       "      <td>высшее</td>\n",
       "      <td>0</td>\n",
       "    </tr>\n",
       "    <tr>\n",
       "      <th>7</th>\n",
       "      <td>среднее</td>\n",
       "      <td>1</td>\n",
       "    </tr>\n",
       "    <tr>\n",
       "      <th>8</th>\n",
       "      <td>высшее</td>\n",
       "      <td>0</td>\n",
       "    </tr>\n",
       "    <tr>\n",
       "      <th>9</th>\n",
       "      <td>среднее</td>\n",
       "      <td>1</td>\n",
       "    </tr>\n",
       "  </tbody>\n",
       "</table>\n",
       "</div>"
      ],
      "text/plain": [
       "  education  education_id\n",
       "0    высшее             0\n",
       "1   среднее             1\n",
       "2   среднее             1\n",
       "3   среднее             1\n",
       "4   среднее             1\n",
       "5    высшее             0\n",
       "6    высшее             0\n",
       "7   среднее             1\n",
       "8    высшее             0\n",
       "9   среднее             1"
      ]
     },
     "execution_count": 30,
     "metadata": {},
     "output_type": "execute_result"
    }
   ],
   "source": [
    "education_status = data[['education', 'education_id']]\n",
    "education_status.head(10)"
   ]
  },
  {
   "cell_type": "code",
   "execution_count": 31,
   "id": "12cf32d9",
   "metadata": {
    "scrolled": true
   },
   "outputs": [
    {
     "data": {
      "text/html": [
       "<div>\n",
       "<style scoped>\n",
       "    .dataframe tbody tr th:only-of-type {\n",
       "        vertical-align: middle;\n",
       "    }\n",
       "\n",
       "    .dataframe tbody tr th {\n",
       "        vertical-align: top;\n",
       "    }\n",
       "\n",
       "    .dataframe thead th {\n",
       "        text-align: right;\n",
       "    }\n",
       "</style>\n",
       "<table border=\"1\" class=\"dataframe\">\n",
       "  <thead>\n",
       "    <tr style=\"text-align: right;\">\n",
       "      <th></th>\n",
       "      <th>education</th>\n",
       "      <th>education_id</th>\n",
       "    </tr>\n",
       "  </thead>\n",
       "  <tbody>\n",
       "    <tr>\n",
       "      <th>0</th>\n",
       "      <td>высшее</td>\n",
       "      <td>0</td>\n",
       "    </tr>\n",
       "    <tr>\n",
       "      <th>1</th>\n",
       "      <td>среднее</td>\n",
       "      <td>1</td>\n",
       "    </tr>\n",
       "    <tr>\n",
       "      <th>2</th>\n",
       "      <td>неоконченное высшее</td>\n",
       "      <td>2</td>\n",
       "    </tr>\n",
       "    <tr>\n",
       "      <th>3</th>\n",
       "      <td>начальное</td>\n",
       "      <td>3</td>\n",
       "    </tr>\n",
       "    <tr>\n",
       "      <th>4</th>\n",
       "      <td>ученая степень</td>\n",
       "      <td>4</td>\n",
       "    </tr>\n",
       "  </tbody>\n",
       "</table>\n",
       "</div>"
      ],
      "text/plain": [
       "             education  education_id\n",
       "0               высшее             0\n",
       "1              среднее             1\n",
       "2  неоконченное высшее             2\n",
       "3            начальное             3\n",
       "4       ученая степень             4"
      ]
     },
     "execution_count": 31,
     "metadata": {},
     "output_type": "execute_result"
    }
   ],
   "source": [
    "education_status = education_status.drop_duplicates().reset_index(drop=True)\n",
    "education_status.head()"
   ]
  },
  {
   "cell_type": "markdown",
   "id": "53f25313",
   "metadata": {},
   "source": [
    "Тоже самое проделываем со вторым датафреймом, который будет состоять из уникальных значений `family_status` и `family_status_id`"
   ]
  },
  {
   "cell_type": "code",
   "execution_count": 32,
   "id": "eaae6b25",
   "metadata": {},
   "outputs": [
    {
     "data": {
      "text/html": [
       "<div>\n",
       "<style scoped>\n",
       "    .dataframe tbody tr th:only-of-type {\n",
       "        vertical-align: middle;\n",
       "    }\n",
       "\n",
       "    .dataframe tbody tr th {\n",
       "        vertical-align: top;\n",
       "    }\n",
       "\n",
       "    .dataframe thead th {\n",
       "        text-align: right;\n",
       "    }\n",
       "</style>\n",
       "<table border=\"1\" class=\"dataframe\">\n",
       "  <thead>\n",
       "    <tr style=\"text-align: right;\">\n",
       "      <th></th>\n",
       "      <th>family_status</th>\n",
       "      <th>family_status_id</th>\n",
       "    </tr>\n",
       "  </thead>\n",
       "  <tbody>\n",
       "    <tr>\n",
       "      <th>0</th>\n",
       "      <td>женат / замужем</td>\n",
       "      <td>0</td>\n",
       "    </tr>\n",
       "    <tr>\n",
       "      <th>1</th>\n",
       "      <td>женат / замужем</td>\n",
       "      <td>0</td>\n",
       "    </tr>\n",
       "    <tr>\n",
       "      <th>2</th>\n",
       "      <td>женат / замужем</td>\n",
       "      <td>0</td>\n",
       "    </tr>\n",
       "    <tr>\n",
       "      <th>3</th>\n",
       "      <td>женат / замужем</td>\n",
       "      <td>0</td>\n",
       "    </tr>\n",
       "    <tr>\n",
       "      <th>4</th>\n",
       "      <td>гражданский брак</td>\n",
       "      <td>1</td>\n",
       "    </tr>\n",
       "    <tr>\n",
       "      <th>5</th>\n",
       "      <td>гражданский брак</td>\n",
       "      <td>1</td>\n",
       "    </tr>\n",
       "    <tr>\n",
       "      <th>6</th>\n",
       "      <td>женат / замужем</td>\n",
       "      <td>0</td>\n",
       "    </tr>\n",
       "    <tr>\n",
       "      <th>7</th>\n",
       "      <td>женат / замужем</td>\n",
       "      <td>0</td>\n",
       "    </tr>\n",
       "    <tr>\n",
       "      <th>8</th>\n",
       "      <td>гражданский брак</td>\n",
       "      <td>1</td>\n",
       "    </tr>\n",
       "    <tr>\n",
       "      <th>9</th>\n",
       "      <td>женат / замужем</td>\n",
       "      <td>0</td>\n",
       "    </tr>\n",
       "  </tbody>\n",
       "</table>\n",
       "</div>"
      ],
      "text/plain": [
       "      family_status  family_status_id\n",
       "0   женат / замужем                 0\n",
       "1   женат / замужем                 0\n",
       "2   женат / замужем                 0\n",
       "3   женат / замужем                 0\n",
       "4  гражданский брак                 1\n",
       "5  гражданский брак                 1\n",
       "6   женат / замужем                 0\n",
       "7   женат / замужем                 0\n",
       "8  гражданский брак                 1\n",
       "9   женат / замужем                 0"
      ]
     },
     "execution_count": 32,
     "metadata": {},
     "output_type": "execute_result"
    }
   ],
   "source": [
    "family_status = data[['family_status', 'family_status_id']]\n",
    "family_status.head(10)"
   ]
  },
  {
   "cell_type": "code",
   "execution_count": 33,
   "id": "45ad96e2",
   "metadata": {},
   "outputs": [
    {
     "data": {
      "text/html": [
       "<div>\n",
       "<style scoped>\n",
       "    .dataframe tbody tr th:only-of-type {\n",
       "        vertical-align: middle;\n",
       "    }\n",
       "\n",
       "    .dataframe tbody tr th {\n",
       "        vertical-align: top;\n",
       "    }\n",
       "\n",
       "    .dataframe thead th {\n",
       "        text-align: right;\n",
       "    }\n",
       "</style>\n",
       "<table border=\"1\" class=\"dataframe\">\n",
       "  <thead>\n",
       "    <tr style=\"text-align: right;\">\n",
       "      <th></th>\n",
       "      <th>family_status</th>\n",
       "      <th>family_status_id</th>\n",
       "    </tr>\n",
       "  </thead>\n",
       "  <tbody>\n",
       "    <tr>\n",
       "      <th>0</th>\n",
       "      <td>женат / замужем</td>\n",
       "      <td>0</td>\n",
       "    </tr>\n",
       "    <tr>\n",
       "      <th>1</th>\n",
       "      <td>гражданский брак</td>\n",
       "      <td>1</td>\n",
       "    </tr>\n",
       "    <tr>\n",
       "      <th>2</th>\n",
       "      <td>вдовец / вдова</td>\n",
       "      <td>2</td>\n",
       "    </tr>\n",
       "    <tr>\n",
       "      <th>3</th>\n",
       "      <td>в разводе</td>\n",
       "      <td>3</td>\n",
       "    </tr>\n",
       "    <tr>\n",
       "      <th>4</th>\n",
       "      <td>Не женат / не замужем</td>\n",
       "      <td>4</td>\n",
       "    </tr>\n",
       "  </tbody>\n",
       "</table>\n",
       "</div>"
      ],
      "text/plain": [
       "           family_status  family_status_id\n",
       "0        женат / замужем                 0\n",
       "1       гражданский брак                 1\n",
       "2         вдовец / вдова                 2\n",
       "3              в разводе                 3\n",
       "4  Не женат / не замужем                 4"
      ]
     },
     "execution_count": 33,
     "metadata": {},
     "output_type": "execute_result"
    }
   ],
   "source": [
    "family_status = family_status.drop_duplicates().reset_index(drop=True)\n",
    "family_status.head()"
   ]
  },
  {
   "cell_type": "code",
   "execution_count": 34,
   "id": "0e5dc6d3",
   "metadata": {},
   "outputs": [],
   "source": [
    "data = data.drop(columns=['education', 'family_status'])"
   ]
  },
  {
   "cell_type": "code",
   "execution_count": 35,
   "id": "7b02e8f8",
   "metadata": {},
   "outputs": [
    {
     "data": {
      "text/plain": [
       "Index(['children', 'days_employed', 'dob_years', 'education_id',\n",
       "       'family_status_id', 'gender', 'income_type', 'debt', 'total_income',\n",
       "       'purpose'],\n",
       "      dtype='object')"
      ]
     },
     "execution_count": 35,
     "metadata": {},
     "output_type": "execute_result"
    }
   ],
   "source": [
    "data.columns"
   ]
  },
  {
   "cell_type": "markdown",
   "id": "8ad89b5c",
   "metadata": {},
   "source": [
    "Удалили из исходного датафрейма столбцы `education` и `family_status`, оставив только их идентификаторы: `education_id` и `family_status_id`"
   ]
  },
  {
   "cell_type": "markdown",
   "id": "558f651a",
   "metadata": {},
   "source": [
    "## Категоризация дохода."
   ]
  },
  {
   "cell_type": "code",
   "execution_count": 36,
   "id": "549ca663",
   "metadata": {},
   "outputs": [],
   "source": [
    "#создадим функцию, которая будет присваивать категорию дохода\n",
    "def total_income_f(total):\n",
    "    if total <= 30000:\n",
    "        return 'E'\n",
    "    if total <= 50000:\n",
    "        return 'D'\n",
    "    if total <= 200000:\n",
    "        return 'C'\n",
    "    if total <= 1000000:\n",
    "        return 'B'\n",
    "    if total > 1000000:\n",
    "        return 'A'\n",
    "    else:\n",
    "        return 'Не подходит под категорию'"
   ]
  },
  {
   "cell_type": "code",
   "execution_count": 37,
   "id": "3d7f2235",
   "metadata": {
    "scrolled": true
   },
   "outputs": [
    {
     "name": "stdout",
     "output_type": "stream",
     "text": [
      "E\n",
      "C\n",
      "D\n",
      "B\n",
      "E\n"
     ]
    }
   ],
   "source": [
    "total_test = [10, 200000, 50000, 1000000, 30000] #проверим работу нашей функции\n",
    "for _ in total_test:\n",
    "    print(total_income_f(_))"
   ]
  },
  {
   "cell_type": "code",
   "execution_count": 38,
   "id": "7f731c74",
   "metadata": {
    "scrolled": true
   },
   "outputs": [
    {
     "data": {
      "text/html": [
       "<div>\n",
       "<style scoped>\n",
       "    .dataframe tbody tr th:only-of-type {\n",
       "        vertical-align: middle;\n",
       "    }\n",
       "\n",
       "    .dataframe tbody tr th {\n",
       "        vertical-align: top;\n",
       "    }\n",
       "\n",
       "    .dataframe thead th {\n",
       "        text-align: right;\n",
       "    }\n",
       "</style>\n",
       "<table border=\"1\" class=\"dataframe\">\n",
       "  <thead>\n",
       "    <tr style=\"text-align: right;\">\n",
       "      <th></th>\n",
       "      <th>children</th>\n",
       "      <th>days_employed</th>\n",
       "      <th>dob_years</th>\n",
       "      <th>education_id</th>\n",
       "      <th>family_status_id</th>\n",
       "      <th>gender</th>\n",
       "      <th>income_type</th>\n",
       "      <th>debt</th>\n",
       "      <th>total_income</th>\n",
       "      <th>purpose</th>\n",
       "      <th>total_income_category</th>\n",
       "    </tr>\n",
       "  </thead>\n",
       "  <tbody>\n",
       "    <tr>\n",
       "      <th>0</th>\n",
       "      <td>1</td>\n",
       "      <td>8437.672852</td>\n",
       "      <td>42</td>\n",
       "      <td>0</td>\n",
       "      <td>0</td>\n",
       "      <td>F</td>\n",
       "      <td>сотрудник</td>\n",
       "      <td>0</td>\n",
       "      <td>253875</td>\n",
       "      <td>покупка жилья</td>\n",
       "      <td>B</td>\n",
       "    </tr>\n",
       "    <tr>\n",
       "      <th>1</th>\n",
       "      <td>1</td>\n",
       "      <td>4024.803711</td>\n",
       "      <td>36</td>\n",
       "      <td>1</td>\n",
       "      <td>0</td>\n",
       "      <td>F</td>\n",
       "      <td>сотрудник</td>\n",
       "      <td>0</td>\n",
       "      <td>112080</td>\n",
       "      <td>приобретение автомобиля</td>\n",
       "      <td>C</td>\n",
       "    </tr>\n",
       "    <tr>\n",
       "      <th>2</th>\n",
       "      <td>0</td>\n",
       "      <td>5623.422852</td>\n",
       "      <td>33</td>\n",
       "      <td>1</td>\n",
       "      <td>0</td>\n",
       "      <td>M</td>\n",
       "      <td>сотрудник</td>\n",
       "      <td>0</td>\n",
       "      <td>145885</td>\n",
       "      <td>покупка жилья</td>\n",
       "      <td>C</td>\n",
       "    </tr>\n",
       "    <tr>\n",
       "      <th>3</th>\n",
       "      <td>3</td>\n",
       "      <td>4124.747070</td>\n",
       "      <td>32</td>\n",
       "      <td>1</td>\n",
       "      <td>0</td>\n",
       "      <td>M</td>\n",
       "      <td>сотрудник</td>\n",
       "      <td>0</td>\n",
       "      <td>267628</td>\n",
       "      <td>дополнительное образование</td>\n",
       "      <td>B</td>\n",
       "    </tr>\n",
       "    <tr>\n",
       "      <th>4</th>\n",
       "      <td>0</td>\n",
       "      <td>14177.752930</td>\n",
       "      <td>53</td>\n",
       "      <td>1</td>\n",
       "      <td>1</td>\n",
       "      <td>F</td>\n",
       "      <td>пенсионер</td>\n",
       "      <td>0</td>\n",
       "      <td>158616</td>\n",
       "      <td>сыграть свадьбу</td>\n",
       "      <td>C</td>\n",
       "    </tr>\n",
       "  </tbody>\n",
       "</table>\n",
       "</div>"
      ],
      "text/plain": [
       "   children  days_employed  dob_years  education_id  family_status_id gender  \\\n",
       "0         1    8437.672852         42             0                 0      F   \n",
       "1         1    4024.803711         36             1                 0      F   \n",
       "2         0    5623.422852         33             1                 0      M   \n",
       "3         3    4124.747070         32             1                 0      M   \n",
       "4         0   14177.752930         53             1                 1      F   \n",
       "\n",
       "  income_type  debt  total_income                     purpose  \\\n",
       "0   сотрудник     0        253875               покупка жилья   \n",
       "1   сотрудник     0        112080     приобретение автомобиля   \n",
       "2   сотрудник     0        145885               покупка жилья   \n",
       "3   сотрудник     0        267628  дополнительное образование   \n",
       "4   пенсионер     0        158616             сыграть свадьбу   \n",
       "\n",
       "  total_income_category  \n",
       "0                     B  \n",
       "1                     C  \n",
       "2                     C  \n",
       "3                     B  \n",
       "4                     C  "
      ]
     },
     "execution_count": 38,
     "metadata": {},
     "output_type": "execute_result"
    }
   ],
   "source": [
    "#создали новый столбец и применили функцию методом apply\n",
    "data['total_income_category'] = data['total_income'].apply(total_income_f)\n",
    "data.head()"
   ]
  },
  {
   "cell_type": "markdown",
   "id": "0c95008f",
   "metadata": {},
   "source": [
    "## Категоризация целей кредита."
   ]
  },
  {
   "cell_type": "markdown",
   "id": "4da0255a",
   "metadata": {},
   "source": [
    "Посмотрим уникальные значения по цели кредита"
   ]
  },
  {
   "cell_type": "code",
   "execution_count": 39,
   "id": "99fcec3c",
   "metadata": {},
   "outputs": [
    {
     "data": {
      "text/plain": [
       "свадьба                                   790\n",
       "на проведение свадьбы                     763\n",
       "сыграть свадьбу                           760\n",
       "операции с недвижимостью                  672\n",
       "покупка коммерческой недвижимости         658\n",
       "покупка жилья для сдачи                   649\n",
       "операции с жильем                         647\n",
       "операции с коммерческой недвижимостью     645\n",
       "жилье                                     641\n",
       "покупка жилья                             640\n",
       "покупка жилья для семьи                   637\n",
       "недвижимость                              631\n",
       "строительство собственной недвижимости    628\n",
       "операции со своей недвижимостью           623\n",
       "строительство жилой недвижимости          620\n",
       "строительство недвижимости                619\n",
       "покупка своего жилья                      619\n",
       "покупка недвижимости                      615\n",
       "ремонт жилью                              604\n",
       "покупка жилой недвижимости                602\n",
       "на покупку своего автомобиля              504\n",
       "заняться высшим образованием              496\n",
       "автомобиль                                491\n",
       "сделка с подержанным автомобилем          481\n",
       "автомобили                                476\n",
       "свой автомобиль                           473\n",
       "на покупку подержанного автомобиля        471\n",
       "на покупку автомобиля                     469\n",
       "приобретение автомобиля                   459\n",
       "сделка с автомобилем                      455\n",
       "дополнительное образование                455\n",
       "высшее образование                        446\n",
       "получение дополнительного образования     444\n",
       "образование                               442\n",
       "получение образования                     440\n",
       "профильное образование                    432\n",
       "получение высшего образования             425\n",
       "заняться образованием                     408\n",
       "Name: purpose, dtype: int64"
      ]
     },
     "execution_count": 39,
     "metadata": {},
     "output_type": "execute_result"
    }
   ],
   "source": [
    "data['purpose'].value_counts()"
   ]
  },
  {
   "cell_type": "code",
   "execution_count": 40,
   "id": "29afc47a",
   "metadata": {},
   "outputs": [],
   "source": [
    "#создадим функцию, которая будет формировать категории\n",
    "def purpose_function(purpose):\n",
    "    try:\n",
    "        if 'автомобил' in purpose:\n",
    "            return 'операции с автомобилем'\n",
    "        if 'недвижим' in purpose or 'жиль' in purpose:\n",
    "            return 'операции с недвижимостью'\n",
    "        if 'свадьб' in purpose:\n",
    "            return 'проведение свадьбы'\n",
    "        if 'образован' in purpose:\n",
    "            return 'получение образования'\n",
    "        else:\n",
    "            return 'такой категории нет'\n",
    "    except:\n",
    "        return 'Ошибка'"
   ]
  },
  {
   "cell_type": "code",
   "execution_count": 41,
   "id": "cc4b698d",
   "metadata": {},
   "outputs": [
    {
     "name": "stdout",
     "output_type": "stream",
     "text": [
      "операции с автомобилем\n",
      "операции с недвижимостью\n",
      "проведение свадьбы\n",
      "получение образования\n"
     ]
    }
   ],
   "source": [
    "purpose_test = ['хочу купить автомобиль', 'очень сильно нужно жилье', 'планирую свадьбу', 'доп образование']\n",
    "for _ in purpose_test:\n",
    "    print(purpose_function(_)) #проверим функцию"
   ]
  },
  {
   "cell_type": "markdown",
   "id": "894734f4",
   "metadata": {},
   "source": [
    "Функция работает"
   ]
  },
  {
   "cell_type": "code",
   "execution_count": 42,
   "id": "92a9b218",
   "metadata": {},
   "outputs": [
    {
     "data": {
      "text/html": [
       "<div>\n",
       "<style scoped>\n",
       "    .dataframe tbody tr th:only-of-type {\n",
       "        vertical-align: middle;\n",
       "    }\n",
       "\n",
       "    .dataframe tbody tr th {\n",
       "        vertical-align: top;\n",
       "    }\n",
       "\n",
       "    .dataframe thead th {\n",
       "        text-align: right;\n",
       "    }\n",
       "</style>\n",
       "<table border=\"1\" class=\"dataframe\">\n",
       "  <thead>\n",
       "    <tr style=\"text-align: right;\">\n",
       "      <th></th>\n",
       "      <th>children</th>\n",
       "      <th>days_employed</th>\n",
       "      <th>dob_years</th>\n",
       "      <th>education_id</th>\n",
       "      <th>family_status_id</th>\n",
       "      <th>gender</th>\n",
       "      <th>income_type</th>\n",
       "      <th>debt</th>\n",
       "      <th>total_income</th>\n",
       "      <th>purpose</th>\n",
       "      <th>total_income_category</th>\n",
       "      <th>purpose_category</th>\n",
       "    </tr>\n",
       "  </thead>\n",
       "  <tbody>\n",
       "    <tr>\n",
       "      <th>0</th>\n",
       "      <td>1</td>\n",
       "      <td>8437.672852</td>\n",
       "      <td>42</td>\n",
       "      <td>0</td>\n",
       "      <td>0</td>\n",
       "      <td>F</td>\n",
       "      <td>сотрудник</td>\n",
       "      <td>0</td>\n",
       "      <td>253875</td>\n",
       "      <td>покупка жилья</td>\n",
       "      <td>B</td>\n",
       "      <td>операции с недвижимостью</td>\n",
       "    </tr>\n",
       "    <tr>\n",
       "      <th>1</th>\n",
       "      <td>1</td>\n",
       "      <td>4024.803711</td>\n",
       "      <td>36</td>\n",
       "      <td>1</td>\n",
       "      <td>0</td>\n",
       "      <td>F</td>\n",
       "      <td>сотрудник</td>\n",
       "      <td>0</td>\n",
       "      <td>112080</td>\n",
       "      <td>приобретение автомобиля</td>\n",
       "      <td>C</td>\n",
       "      <td>операции с автомобилем</td>\n",
       "    </tr>\n",
       "    <tr>\n",
       "      <th>2</th>\n",
       "      <td>0</td>\n",
       "      <td>5623.422852</td>\n",
       "      <td>33</td>\n",
       "      <td>1</td>\n",
       "      <td>0</td>\n",
       "      <td>M</td>\n",
       "      <td>сотрудник</td>\n",
       "      <td>0</td>\n",
       "      <td>145885</td>\n",
       "      <td>покупка жилья</td>\n",
       "      <td>C</td>\n",
       "      <td>операции с недвижимостью</td>\n",
       "    </tr>\n",
       "    <tr>\n",
       "      <th>3</th>\n",
       "      <td>3</td>\n",
       "      <td>4124.747070</td>\n",
       "      <td>32</td>\n",
       "      <td>1</td>\n",
       "      <td>0</td>\n",
       "      <td>M</td>\n",
       "      <td>сотрудник</td>\n",
       "      <td>0</td>\n",
       "      <td>267628</td>\n",
       "      <td>дополнительное образование</td>\n",
       "      <td>B</td>\n",
       "      <td>получение образования</td>\n",
       "    </tr>\n",
       "    <tr>\n",
       "      <th>4</th>\n",
       "      <td>0</td>\n",
       "      <td>14177.752930</td>\n",
       "      <td>53</td>\n",
       "      <td>1</td>\n",
       "      <td>1</td>\n",
       "      <td>F</td>\n",
       "      <td>пенсионер</td>\n",
       "      <td>0</td>\n",
       "      <td>158616</td>\n",
       "      <td>сыграть свадьбу</td>\n",
       "      <td>C</td>\n",
       "      <td>проведение свадьбы</td>\n",
       "    </tr>\n",
       "  </tbody>\n",
       "</table>\n",
       "</div>"
      ],
      "text/plain": [
       "   children  days_employed  dob_years  education_id  family_status_id gender  \\\n",
       "0         1    8437.672852         42             0                 0      F   \n",
       "1         1    4024.803711         36             1                 0      F   \n",
       "2         0    5623.422852         33             1                 0      M   \n",
       "3         3    4124.747070         32             1                 0      M   \n",
       "4         0   14177.752930         53             1                 1      F   \n",
       "\n",
       "  income_type  debt  total_income                     purpose  \\\n",
       "0   сотрудник     0        253875               покупка жилья   \n",
       "1   сотрудник     0        112080     приобретение автомобиля   \n",
       "2   сотрудник     0        145885               покупка жилья   \n",
       "3   сотрудник     0        267628  дополнительное образование   \n",
       "4   пенсионер     0        158616             сыграть свадьбу   \n",
       "\n",
       "  total_income_category          purpose_category  \n",
       "0                     B  операции с недвижимостью  \n",
       "1                     C    операции с автомобилем  \n",
       "2                     C  операции с недвижимостью  \n",
       "3                     B     получение образования  \n",
       "4                     C        проведение свадьбы  "
      ]
     },
     "execution_count": 42,
     "metadata": {},
     "output_type": "execute_result"
    }
   ],
   "source": [
    "#применяем функцию к датафрейму, с помощью метода apply\n",
    "data['purpose_category'] = data['purpose'].apply(purpose_function)\n",
    "data.head()"
   ]
  },
  {
   "cell_type": "markdown",
   "id": "1d251bf2",
   "metadata": {},
   "source": [
    "Теперь в датафрейме есть распределение по категориям на цель получения кредита"
   ]
  },
  {
   "cell_type": "markdown",
   "id": "ee85871b",
   "metadata": {},
   "source": [
    "### Ответы на вопросы."
   ]
  },
  {
   "cell_type": "markdown",
   "id": "17a26672",
   "metadata": {},
   "source": [
    "##### Вопрос 1:"
   ]
  },
  {
   "cell_type": "markdown",
   "id": "c96417c8",
   "metadata": {},
   "source": [
    "Давайте ответим на 1 вопрос: есть ли зависимость между количеством детей и возвратом кредита в срок?  \n",
    "Для того, чтобы дать ответ воспользуемся `pivot_table`"
   ]
  },
  {
   "cell_type": "code",
   "execution_count": 43,
   "id": "76c60b69",
   "metadata": {},
   "outputs": [
    {
     "data": {
      "text/html": [
       "<div>\n",
       "<style scoped>\n",
       "    .dataframe tbody tr th:only-of-type {\n",
       "        vertical-align: middle;\n",
       "    }\n",
       "\n",
       "    .dataframe tbody tr th {\n",
       "        vertical-align: top;\n",
       "    }\n",
       "\n",
       "    .dataframe thead th {\n",
       "        text-align: right;\n",
       "    }\n",
       "</style>\n",
       "<table border=\"1\" class=\"dataframe\">\n",
       "  <thead>\n",
       "    <tr style=\"text-align: right;\">\n",
       "      <th>debt</th>\n",
       "      <th>0</th>\n",
       "      <th>1</th>\n",
       "      <th>addiction</th>\n",
       "    </tr>\n",
       "    <tr>\n",
       "      <th>children</th>\n",
       "      <th></th>\n",
       "      <th></th>\n",
       "      <th></th>\n",
       "    </tr>\n",
       "  </thead>\n",
       "  <tbody>\n",
       "    <tr>\n",
       "      <th>0</th>\n",
       "      <td>13027</td>\n",
       "      <td>1063</td>\n",
       "      <td>0.081600</td>\n",
       "    </tr>\n",
       "    <tr>\n",
       "      <th>1</th>\n",
       "      <td>4364</td>\n",
       "      <td>444</td>\n",
       "      <td>0.101742</td>\n",
       "    </tr>\n",
       "    <tr>\n",
       "      <th>2</th>\n",
       "      <td>1858</td>\n",
       "      <td>194</td>\n",
       "      <td>0.104413</td>\n",
       "    </tr>\n",
       "    <tr>\n",
       "      <th>3</th>\n",
       "      <td>303</td>\n",
       "      <td>27</td>\n",
       "      <td>0.089109</td>\n",
       "    </tr>\n",
       "    <tr>\n",
       "      <th>4</th>\n",
       "      <td>37</td>\n",
       "      <td>4</td>\n",
       "      <td>0.108108</td>\n",
       "    </tr>\n",
       "    <tr>\n",
       "      <th>5</th>\n",
       "      <td>9</td>\n",
       "      <td>0</td>\n",
       "      <td>0.000000</td>\n",
       "    </tr>\n",
       "  </tbody>\n",
       "</table>\n",
       "</div>"
      ],
      "text/plain": [
       "debt          0     1  addiction\n",
       "children                        \n",
       "0         13027  1063   0.081600\n",
       "1          4364   444   0.101742\n",
       "2          1858   194   0.104413\n",
       "3           303    27   0.089109\n",
       "4            37     4   0.108108\n",
       "5             9     0   0.000000"
      ]
     },
     "execution_count": 43,
     "metadata": {},
     "output_type": "execute_result"
    }
   ],
   "source": [
    "children_pivot1 = data.pivot_table(index=['children'], columns='debt', values='dob_years', aggfunc='count', fill_value=0)\n",
    "children_pivot1['addiction'] = children_pivot1[1]/children_pivot1[0]\n",
    "children_pivot1"
   ]
  },
  {
   "cell_type": "code",
   "execution_count": 44,
   "id": "164e1b56",
   "metadata": {},
   "outputs": [
    {
     "data": {
      "text/html": [
       "<div>\n",
       "<style scoped>\n",
       "    .dataframe tbody tr th:only-of-type {\n",
       "        vertical-align: middle;\n",
       "    }\n",
       "\n",
       "    .dataframe tbody tr th {\n",
       "        vertical-align: top;\n",
       "    }\n",
       "\n",
       "    .dataframe thead tr th {\n",
       "        text-align: left;\n",
       "    }\n",
       "\n",
       "    .dataframe thead tr:last-of-type th {\n",
       "        text-align: right;\n",
       "    }\n",
       "</style>\n",
       "<table border=\"1\" class=\"dataframe\">\n",
       "  <thead>\n",
       "    <tr>\n",
       "      <th></th>\n",
       "      <th>sum</th>\n",
       "      <th>count</th>\n",
       "      <th>mean</th>\n",
       "    </tr>\n",
       "    <tr>\n",
       "      <th></th>\n",
       "      <th>debt</th>\n",
       "      <th>debt</th>\n",
       "      <th>debt</th>\n",
       "    </tr>\n",
       "    <tr>\n",
       "      <th>children</th>\n",
       "      <th></th>\n",
       "      <th></th>\n",
       "      <th></th>\n",
       "    </tr>\n",
       "  </thead>\n",
       "  <tbody>\n",
       "    <tr>\n",
       "      <th>0</th>\n",
       "      <td>1063</td>\n",
       "      <td>14090</td>\n",
       "      <td>0.075444</td>\n",
       "    </tr>\n",
       "    <tr>\n",
       "      <th>1</th>\n",
       "      <td>444</td>\n",
       "      <td>4808</td>\n",
       "      <td>0.092346</td>\n",
       "    </tr>\n",
       "    <tr>\n",
       "      <th>2</th>\n",
       "      <td>194</td>\n",
       "      <td>2052</td>\n",
       "      <td>0.094542</td>\n",
       "    </tr>\n",
       "    <tr>\n",
       "      <th>3</th>\n",
       "      <td>27</td>\n",
       "      <td>330</td>\n",
       "      <td>0.081818</td>\n",
       "    </tr>\n",
       "    <tr>\n",
       "      <th>4</th>\n",
       "      <td>4</td>\n",
       "      <td>41</td>\n",
       "      <td>0.097561</td>\n",
       "    </tr>\n",
       "    <tr>\n",
       "      <th>5</th>\n",
       "      <td>0</td>\n",
       "      <td>9</td>\n",
       "      <td>0.000000</td>\n",
       "    </tr>\n",
       "  </tbody>\n",
       "</table>\n",
       "</div>"
      ],
      "text/plain": [
       "           sum  count      mean\n",
       "          debt   debt      debt\n",
       "children                       \n",
       "0         1063  14090  0.075444\n",
       "1          444   4808  0.092346\n",
       "2          194   2052  0.094542\n",
       "3           27    330  0.081818\n",
       "4            4     41  0.097561\n",
       "5            0      9  0.000000"
      ]
     },
     "execution_count": 44,
     "metadata": {},
     "output_type": "execute_result"
    }
   ],
   "source": [
    "children_pivot2 = data.pivot_table(index=\"children\", values=\"debt\", aggfunc=['sum','count','mean'])\n",
    "children_pivot2"
   ]
  },
  {
   "cell_type": "markdown",
   "id": "748dc20c",
   "metadata": {},
   "source": [
    "##### Вывод 1:"
   ]
  },
  {
   "cell_type": "markdown",
   "id": "e29c4a31",
   "metadata": {},
   "source": [
    "Как показывает сводная таблица - зависимости между количеством детей и возвратом кредита в срок нет, доля отличается на незначительное количество пунктов, каких-то всплесков не обнаружили. Радует, что большая часть возвращает кредит в срок, а те у кого 5 детей, все вовремя платят"
   ]
  },
  {
   "cell_type": "markdown",
   "id": "0327640b",
   "metadata": {},
   "source": [
    "##### Вопрос 2:"
   ]
  },
  {
   "cell_type": "markdown",
   "id": "04a9a525",
   "metadata": {},
   "source": [
    "Давайте также проверим, есть ли зависимость между семейным положением и возвратом кредита в срок"
   ]
  },
  {
   "cell_type": "code",
   "execution_count": 45,
   "id": "1fc14731",
   "metadata": {},
   "outputs": [
    {
     "data": {
      "text/html": [
       "<div>\n",
       "<style scoped>\n",
       "    .dataframe tbody tr th:only-of-type {\n",
       "        vertical-align: middle;\n",
       "    }\n",
       "\n",
       "    .dataframe tbody tr th {\n",
       "        vertical-align: top;\n",
       "    }\n",
       "\n",
       "    .dataframe thead th {\n",
       "        text-align: right;\n",
       "    }\n",
       "</style>\n",
       "<table border=\"1\" class=\"dataframe\">\n",
       "  <thead>\n",
       "    <tr style=\"text-align: right;\">\n",
       "      <th></th>\n",
       "      <th>children</th>\n",
       "      <th>days_employed</th>\n",
       "      <th>dob_years</th>\n",
       "      <th>education_id</th>\n",
       "      <th>family_status_id</th>\n",
       "      <th>gender</th>\n",
       "      <th>income_type</th>\n",
       "      <th>debt</th>\n",
       "      <th>total_income</th>\n",
       "      <th>purpose</th>\n",
       "      <th>total_income_category</th>\n",
       "      <th>purpose_category</th>\n",
       "      <th>family_status</th>\n",
       "    </tr>\n",
       "  </thead>\n",
       "  <tbody>\n",
       "    <tr>\n",
       "      <th>0</th>\n",
       "      <td>1</td>\n",
       "      <td>8437.672852</td>\n",
       "      <td>42</td>\n",
       "      <td>0</td>\n",
       "      <td>0</td>\n",
       "      <td>F</td>\n",
       "      <td>сотрудник</td>\n",
       "      <td>0</td>\n",
       "      <td>253875</td>\n",
       "      <td>покупка жилья</td>\n",
       "      <td>B</td>\n",
       "      <td>операции с недвижимостью</td>\n",
       "      <td>женат / замужем</td>\n",
       "    </tr>\n",
       "    <tr>\n",
       "      <th>1</th>\n",
       "      <td>1</td>\n",
       "      <td>4024.803711</td>\n",
       "      <td>36</td>\n",
       "      <td>1</td>\n",
       "      <td>0</td>\n",
       "      <td>F</td>\n",
       "      <td>сотрудник</td>\n",
       "      <td>0</td>\n",
       "      <td>112080</td>\n",
       "      <td>приобретение автомобиля</td>\n",
       "      <td>C</td>\n",
       "      <td>операции с автомобилем</td>\n",
       "      <td>женат / замужем</td>\n",
       "    </tr>\n",
       "    <tr>\n",
       "      <th>2</th>\n",
       "      <td>0</td>\n",
       "      <td>5623.422852</td>\n",
       "      <td>33</td>\n",
       "      <td>1</td>\n",
       "      <td>0</td>\n",
       "      <td>M</td>\n",
       "      <td>сотрудник</td>\n",
       "      <td>0</td>\n",
       "      <td>145885</td>\n",
       "      <td>покупка жилья</td>\n",
       "      <td>C</td>\n",
       "      <td>операции с недвижимостью</td>\n",
       "      <td>женат / замужем</td>\n",
       "    </tr>\n",
       "    <tr>\n",
       "      <th>3</th>\n",
       "      <td>3</td>\n",
       "      <td>4124.747070</td>\n",
       "      <td>32</td>\n",
       "      <td>1</td>\n",
       "      <td>0</td>\n",
       "      <td>M</td>\n",
       "      <td>сотрудник</td>\n",
       "      <td>0</td>\n",
       "      <td>267628</td>\n",
       "      <td>дополнительное образование</td>\n",
       "      <td>B</td>\n",
       "      <td>получение образования</td>\n",
       "      <td>женат / замужем</td>\n",
       "    </tr>\n",
       "    <tr>\n",
       "      <th>4</th>\n",
       "      <td>0</td>\n",
       "      <td>14177.752930</td>\n",
       "      <td>53</td>\n",
       "      <td>1</td>\n",
       "      <td>1</td>\n",
       "      <td>F</td>\n",
       "      <td>пенсионер</td>\n",
       "      <td>0</td>\n",
       "      <td>158616</td>\n",
       "      <td>сыграть свадьбу</td>\n",
       "      <td>C</td>\n",
       "      <td>проведение свадьбы</td>\n",
       "      <td>гражданский брак</td>\n",
       "    </tr>\n",
       "  </tbody>\n",
       "</table>\n",
       "</div>"
      ],
      "text/plain": [
       "   children  days_employed  dob_years  education_id  family_status_id gender  \\\n",
       "0         1    8437.672852         42             0                 0      F   \n",
       "1         1    4024.803711         36             1                 0      F   \n",
       "2         0    5623.422852         33             1                 0      M   \n",
       "3         3    4124.747070         32             1                 0      M   \n",
       "4         0   14177.752930         53             1                 1      F   \n",
       "\n",
       "  income_type  debt  total_income                     purpose  \\\n",
       "0   сотрудник     0        253875               покупка жилья   \n",
       "1   сотрудник     0        112080     приобретение автомобиля   \n",
       "2   сотрудник     0        145885               покупка жилья   \n",
       "3   сотрудник     0        267628  дополнительное образование   \n",
       "4   пенсионер     0        158616             сыграть свадьбу   \n",
       "\n",
       "  total_income_category          purpose_category     family_status  \n",
       "0                     B  операции с недвижимостью   женат / замужем  \n",
       "1                     C    операции с автомобилем   женат / замужем  \n",
       "2                     C  операции с недвижимостью   женат / замужем  \n",
       "3                     B     получение образования   женат / замужем  \n",
       "4                     C        проведение свадьбы  гражданский брак  "
      ]
     },
     "execution_count": 45,
     "metadata": {},
     "output_type": "execute_result"
    }
   ],
   "source": [
    "data_family_status = data.merge(family_status, on='family_status_id', how='left') #методом merge склеим 2 таблицы\n",
    "data_family_status.head()"
   ]
  },
  {
   "cell_type": "code",
   "execution_count": 46,
   "id": "dbb3ffdd",
   "metadata": {
    "scrolled": true
   },
   "outputs": [
    {
     "data": {
      "text/html": [
       "<div>\n",
       "<style scoped>\n",
       "    .dataframe tbody tr th:only-of-type {\n",
       "        vertical-align: middle;\n",
       "    }\n",
       "\n",
       "    .dataframe tbody tr th {\n",
       "        vertical-align: top;\n",
       "    }\n",
       "\n",
       "    .dataframe thead th {\n",
       "        text-align: right;\n",
       "    }\n",
       "</style>\n",
       "<table border=\"1\" class=\"dataframe\">\n",
       "  <thead>\n",
       "    <tr style=\"text-align: right;\">\n",
       "      <th>debt</th>\n",
       "      <th>0</th>\n",
       "      <th>1</th>\n",
       "      <th>addiction</th>\n",
       "    </tr>\n",
       "    <tr>\n",
       "      <th>family_status</th>\n",
       "      <th></th>\n",
       "      <th></th>\n",
       "      <th></th>\n",
       "    </tr>\n",
       "  </thead>\n",
       "  <tbody>\n",
       "    <tr>\n",
       "      <th>Не женат / не замужем</th>\n",
       "      <td>2523</td>\n",
       "      <td>273</td>\n",
       "      <td>0.108205</td>\n",
       "    </tr>\n",
       "    <tr>\n",
       "      <th>в разводе</th>\n",
       "      <td>1105</td>\n",
       "      <td>84</td>\n",
       "      <td>0.076018</td>\n",
       "    </tr>\n",
       "    <tr>\n",
       "      <th>вдовец / вдова</th>\n",
       "      <td>888</td>\n",
       "      <td>63</td>\n",
       "      <td>0.070946</td>\n",
       "    </tr>\n",
       "    <tr>\n",
       "      <th>гражданский брак</th>\n",
       "      <td>3748</td>\n",
       "      <td>385</td>\n",
       "      <td>0.102721</td>\n",
       "    </tr>\n",
       "    <tr>\n",
       "      <th>женат / замужем</th>\n",
       "      <td>11334</td>\n",
       "      <td>927</td>\n",
       "      <td>0.081789</td>\n",
       "    </tr>\n",
       "  </tbody>\n",
       "</table>\n",
       "</div>"
      ],
      "text/plain": [
       "debt                       0    1  addiction\n",
       "family_status                               \n",
       "Не женат / не замужем   2523  273   0.108205\n",
       "в разводе               1105   84   0.076018\n",
       "вдовец / вдова           888   63   0.070946\n",
       "гражданский брак        3748  385   0.102721\n",
       "женат / замужем        11334  927   0.081789"
      ]
     },
     "execution_count": 46,
     "metadata": {},
     "output_type": "execute_result"
    }
   ],
   "source": [
    "family_pivot = data_family_status.pivot_table(\n",
    "    index='family_status', columns='debt', values='dob_years', aggfunc='count'\n",
    ")\n",
    "family_pivot['addiction'] = family_pivot[1]/family_pivot[0]\n",
    "family_pivot"
   ]
  },
  {
   "cell_type": "markdown",
   "id": "13a665d1",
   "metadata": {},
   "source": [
    "##### Вывод 2:"
   ]
  },
  {
   "cell_type": "markdown",
   "id": "6c69f4b0",
   "metadata": {},
   "source": [
    "Зависимость между семейным положением и оплатой кредита в срок тоже не обнаружено "
   ]
  },
  {
   "cell_type": "markdown",
   "id": "abc6b95d",
   "metadata": {},
   "source": [
    "##### Вопрос 3:"
   ]
  },
  {
   "cell_type": "markdown",
   "id": "a7ce9246",
   "metadata": {},
   "source": [
    "Сейчас узнаем, есть ли зависимость между уровнем дохода и возвратом кредита в срок  \n",
    "Для анализа возьмем данные по категориям дохода"
   ]
  },
  {
   "cell_type": "code",
   "execution_count": 47,
   "id": "04aa3b1c",
   "metadata": {},
   "outputs": [
    {
     "data": {
      "text/html": [
       "<div>\n",
       "<style scoped>\n",
       "    .dataframe tbody tr th:only-of-type {\n",
       "        vertical-align: middle;\n",
       "    }\n",
       "\n",
       "    .dataframe tbody tr th {\n",
       "        vertical-align: top;\n",
       "    }\n",
       "\n",
       "    .dataframe thead th {\n",
       "        text-align: right;\n",
       "    }\n",
       "</style>\n",
       "<table border=\"1\" class=\"dataframe\">\n",
       "  <thead>\n",
       "    <tr style=\"text-align: right;\">\n",
       "      <th>debt</th>\n",
       "      <th>0</th>\n",
       "      <th>1</th>\n",
       "      <th>addiction</th>\n",
       "    </tr>\n",
       "    <tr>\n",
       "      <th>total_income_category</th>\n",
       "      <th></th>\n",
       "      <th></th>\n",
       "      <th></th>\n",
       "    </tr>\n",
       "  </thead>\n",
       "  <tbody>\n",
       "    <tr>\n",
       "      <th>A</th>\n",
       "      <td>23</td>\n",
       "      <td>2</td>\n",
       "      <td>0.086957</td>\n",
       "    </tr>\n",
       "    <tr>\n",
       "      <th>B</th>\n",
       "      <td>4659</td>\n",
       "      <td>354</td>\n",
       "      <td>0.075982</td>\n",
       "    </tr>\n",
       "    <tr>\n",
       "      <th>C</th>\n",
       "      <td>14568</td>\n",
       "      <td>1353</td>\n",
       "      <td>0.092875</td>\n",
       "    </tr>\n",
       "    <tr>\n",
       "      <th>D</th>\n",
       "      <td>328</td>\n",
       "      <td>21</td>\n",
       "      <td>0.064024</td>\n",
       "    </tr>\n",
       "    <tr>\n",
       "      <th>E</th>\n",
       "      <td>20</td>\n",
       "      <td>2</td>\n",
       "      <td>0.100000</td>\n",
       "    </tr>\n",
       "  </tbody>\n",
       "</table>\n",
       "</div>"
      ],
      "text/plain": [
       "debt                       0     1  addiction\n",
       "total_income_category                        \n",
       "A                         23     2   0.086957\n",
       "B                       4659   354   0.075982\n",
       "C                      14568  1353   0.092875\n",
       "D                        328    21   0.064024\n",
       "E                         20     2   0.100000"
      ]
     },
     "execution_count": 47,
     "metadata": {},
     "output_type": "execute_result"
    }
   ],
   "source": [
    "income_pivot = data.pivot_table(index='total_income_category', columns='debt', values='dob_years', aggfunc='count')\n",
    "income_pivot['addiction'] = income_pivot[1]/income_pivot[0]\n",
    "income_pivot"
   ]
  },
  {
   "cell_type": "markdown",
   "id": "97819597",
   "metadata": {},
   "source": [
    "##### Вывод 3:"
   ]
  },
  {
   "cell_type": "markdown",
   "id": "b9a203c5",
   "metadata": {},
   "source": [
    "Между уровнем дохода и возвратом кредита зависимости не обнаружили. В сводной таблице хорошо видно, что категории `B` и `C` чаще всего берут кредит"
   ]
  },
  {
   "cell_type": "markdown",
   "id": "45a72ef4",
   "metadata": {},
   "source": [
    "##### Вопрос 4:"
   ]
  },
  {
   "cell_type": "markdown",
   "id": "d7a21eee",
   "metadata": {},
   "source": [
    "В последнем вопросе мы узнаем, как разные цели кредита влияют на его возврат в срок"
   ]
  },
  {
   "cell_type": "code",
   "execution_count": 48,
   "id": "c3166a01",
   "metadata": {},
   "outputs": [
    {
     "data": {
      "text/html": [
       "<div>\n",
       "<style scoped>\n",
       "    .dataframe tbody tr th:only-of-type {\n",
       "        vertical-align: middle;\n",
       "    }\n",
       "\n",
       "    .dataframe tbody tr th {\n",
       "        vertical-align: top;\n",
       "    }\n",
       "\n",
       "    .dataframe thead th {\n",
       "        text-align: right;\n",
       "    }\n",
       "</style>\n",
       "<table border=\"1\" class=\"dataframe\">\n",
       "  <thead>\n",
       "    <tr style=\"text-align: right;\">\n",
       "      <th>debt</th>\n",
       "      <th>0</th>\n",
       "      <th>1</th>\n",
       "      <th>addiction</th>\n",
       "    </tr>\n",
       "    <tr>\n",
       "      <th>purpose_category</th>\n",
       "      <th></th>\n",
       "      <th></th>\n",
       "      <th></th>\n",
       "    </tr>\n",
       "  </thead>\n",
       "  <tbody>\n",
       "    <tr>\n",
       "      <th>операции с автомобилем</th>\n",
       "      <td>3879</td>\n",
       "      <td>400</td>\n",
       "      <td>0.103119</td>\n",
       "    </tr>\n",
       "    <tr>\n",
       "      <th>операции с недвижимостью</th>\n",
       "      <td>9970</td>\n",
       "      <td>780</td>\n",
       "      <td>0.078235</td>\n",
       "    </tr>\n",
       "    <tr>\n",
       "      <th>получение образования</th>\n",
       "      <td>3619</td>\n",
       "      <td>369</td>\n",
       "      <td>0.101962</td>\n",
       "    </tr>\n",
       "    <tr>\n",
       "      <th>проведение свадьбы</th>\n",
       "      <td>2130</td>\n",
       "      <td>183</td>\n",
       "      <td>0.085915</td>\n",
       "    </tr>\n",
       "  </tbody>\n",
       "</table>\n",
       "</div>"
      ],
      "text/plain": [
       "debt                         0    1  addiction\n",
       "purpose_category                              \n",
       "операции с автомобилем    3879  400   0.103119\n",
       "операции с недвижимостью  9970  780   0.078235\n",
       "получение образования     3619  369   0.101962\n",
       "проведение свадьбы        2130  183   0.085915"
      ]
     },
     "execution_count": 48,
     "metadata": {},
     "output_type": "execute_result"
    }
   ],
   "source": [
    "purpose_pivot = data.pivot_table(index='purpose_category', columns='debt', values='dob_years', aggfunc='count')\n",
    "purpose_pivot['addiction'] = purpose_pivot[1]/purpose_pivot[0]\n",
    "purpose_pivot"
   ]
  },
  {
   "cell_type": "markdown",
   "id": "b7e2d0d1",
   "metadata": {},
   "source": [
    "##### Вывод 4:"
   ]
  },
  {
   "cell_type": "markdown",
   "id": "724d9fa9",
   "metadata": {},
   "source": [
    "От цели кредита не зависит, выплатит клиент в срок или нет"
   ]
  },
  {
   "cell_type": "markdown",
   "id": "69352657",
   "metadata": {},
   "source": [
    "## Общий вывод:"
   ]
  },
  {
   "cell_type": "markdown",
   "id": "2547fd7b",
   "metadata": {},
   "source": [
    "В данном исследовании мы проделали следующие шаги:\n",
    "\n",
    "**Обзор данных**  \n",
    "Познакомились с таблицей, просмотрели, какие есть столбцы и какой тип значений в них. Просматривая данные были выявленны пропуски в таблицах\n",
    "\n",
    "**Заполнение пропусков**  \n",
    "Пропуски нашли в двух столбцах ``days_employed`` и ``total_income``с одинаковым количеством. Также вычислили долю пропусков, она составила 11%, было принятно решение их не удалять, а заполнить медианными значениями по типу клиента\n",
    "\n",
    "**Проверка данных на аномалии**  \n",
    "Проверяя данные на аномалии нашли отрицательные и завышенные значения в общем стаже работы. Отрицательные значения исправили, а завышенные перевели, так как они были не в днях, а в часах  \n",
    "*Рекомендуем заполнять данных столбец в одном формате \"дни\"*\n",
    "\n",
    "В столбце ``children`` аномальными значениями были: \"20\" и \"-1\" - мы их удалили, так как доля была незначительная, по сравнению со всем датасетом\n",
    "\n",
    "Лишнее значение было в столбце ``gender``, значение удалили\n",
    "\n",
    "**Изменение типов данных**  \n",
    "Далее изменили типы данных, для дальнейшего исследования\n",
    "\n",
    "**Удаление дубликатов**\n",
    "Нашли явные и неявные дубликаты, после чего удалили или привели к единому регистру\n",
    "*Рекомедуем прописывать значения в одном регистре, чтобы не было дублей\n",
    "\n",
    "**Фомрирование дополнительных датафреймов**  \n",
    "Мы создали датафреймы: ``education_status`` и ``education_status`` для того, чтобы упростить работу в основном датасете\n",
    "\n",
    "**Категоризация**  \n",
    "Также мы сделали категории по доходу и категории целей кредита, теперь можно анализировать датафрейм по категорям."
   ]
  },
  {
   "cell_type": "markdown",
   "id": "9184ddf6",
   "metadata": {},
   "source": [
    "---"
   ]
  },
  {
   "cell_type": "markdown",
   "id": "e3a2220b",
   "metadata": {},
   "source": [
    "Задача нашего исследования была - разобраться, влияет ли семейное положение и количество детей клиента на факт погашения кредита в срок\n",
    "\n",
    "Мы разобрали 4 сводные таблицы по разным типам и все они показывают похожие результаты, нет явных выбросов, разница в 2-3%. А это говорит о том, что количество детей и семейное положение не влияют на возврат кредита вовремя\n",
    "\n",
    "Клиенты, у которых нет детей больше всех берут кредиты и процент просрочек один из самых маленьких!  \n",
    "На эту группу стоит обратить внимание\n",
    "\n",
    "Также, больше всего берут кредиты люди, которые находятся в браке, на втором месте - гражданский брак\n",
    "\n",
    "Можно обратить внимание на категорию дохода \"B\" и \"С\" эти сегменты по количеству привышают остальных, но по проценту возврата также не сильно отличаются"
   ]
  }
 ],
 "metadata": {
  "ExecuteTimeLog": [
   {
    "duration": 852,
    "start_time": "2022-05-24T17:45:11.714Z"
   },
   {
    "duration": 29,
    "start_time": "2022-05-24T17:45:38.422Z"
   },
   {
    "duration": 17,
    "start_time": "2022-05-24T17:47:30.446Z"
   },
   {
    "duration": 9,
    "start_time": "2022-05-24T17:54:56.814Z"
   },
   {
    "duration": 5,
    "start_time": "2022-05-24T18:03:59.466Z"
   },
   {
    "duration": 16,
    "start_time": "2022-05-24T18:08:18.936Z"
   },
   {
    "duration": 85,
    "start_time": "2022-05-24T18:08:34.623Z"
   },
   {
    "duration": 11,
    "start_time": "2022-05-24T18:08:47.530Z"
   },
   {
    "duration": 8,
    "start_time": "2022-05-24T18:09:02.102Z"
   },
   {
    "duration": 6,
    "start_time": "2022-05-24T18:09:40.946Z"
   },
   {
    "duration": 13,
    "start_time": "2022-05-24T18:11:24.145Z"
   },
   {
    "duration": 466,
    "start_time": "2022-05-24T18:12:15.558Z"
   },
   {
    "duration": 5,
    "start_time": "2022-05-24T18:13:06.385Z"
   },
   {
    "duration": 11,
    "start_time": "2022-05-24T18:13:33.378Z"
   },
   {
    "duration": 4,
    "start_time": "2022-05-24T18:13:37.306Z"
   },
   {
    "duration": 11,
    "start_time": "2022-05-24T18:14:19.756Z"
   },
   {
    "duration": 4,
    "start_time": "2022-05-24T18:14:21.906Z"
   },
   {
    "duration": 3,
    "start_time": "2022-05-24T18:17:41.910Z"
   },
   {
    "duration": 4,
    "start_time": "2022-05-24T18:18:29.130Z"
   },
   {
    "duration": 42,
    "start_time": "2022-05-24T18:18:55.938Z"
   },
   {
    "duration": 11,
    "start_time": "2022-05-24T18:19:24.234Z"
   },
   {
    "duration": 12,
    "start_time": "2022-05-24T18:21:51.762Z"
   },
   {
    "duration": 5,
    "start_time": "2022-05-24T19:48:12.279Z"
   },
   {
    "duration": 7,
    "start_time": "2022-05-24T19:48:29.612Z"
   },
   {
    "duration": 4,
    "start_time": "2022-05-24T19:48:45.937Z"
   },
   {
    "duration": 13,
    "start_time": "2022-05-24T19:48:54.493Z"
   },
   {
    "duration": 6,
    "start_time": "2022-05-24T19:49:06.429Z"
   },
   {
    "duration": 4,
    "start_time": "2022-05-24T19:49:29.937Z"
   },
   {
    "duration": 206,
    "start_time": "2022-05-24T19:53:10.335Z"
   },
   {
    "duration": 45,
    "start_time": "2022-05-24T19:53:36.565Z"
   },
   {
    "duration": 10,
    "start_time": "2022-05-24T19:55:16.375Z"
   },
   {
    "duration": 39,
    "start_time": "2022-05-24T19:55:35.066Z"
   },
   {
    "duration": 41,
    "start_time": "2022-05-24T19:55:50.282Z"
   },
   {
    "duration": 24,
    "start_time": "2022-05-24T19:55:55.827Z"
   },
   {
    "duration": 32,
    "start_time": "2022-05-24T19:59:41.335Z"
   },
   {
    "duration": 22,
    "start_time": "2022-05-24T19:59:44.792Z"
   },
   {
    "duration": 12,
    "start_time": "2022-05-24T19:59:51.453Z"
   },
   {
    "duration": 13,
    "start_time": "2022-05-24T19:59:54.632Z"
   },
   {
    "duration": 31,
    "start_time": "2022-05-24T20:03:34.566Z"
   },
   {
    "duration": 12,
    "start_time": "2022-05-24T20:09:54.095Z"
   },
   {
    "duration": 173,
    "start_time": "2022-05-24T20:11:13.383Z"
   },
   {
    "duration": 9,
    "start_time": "2022-05-24T20:11:29.179Z"
   },
   {
    "duration": 10,
    "start_time": "2022-05-24T20:11:42.397Z"
   },
   {
    "duration": 10,
    "start_time": "2022-05-24T20:11:57.715Z"
   },
   {
    "duration": 14,
    "start_time": "2022-05-24T20:12:02.186Z"
   },
   {
    "duration": 20,
    "start_time": "2022-05-24T20:23:32.971Z"
   },
   {
    "duration": 20,
    "start_time": "2022-05-24T20:24:21.982Z"
   },
   {
    "duration": 15,
    "start_time": "2022-05-24T20:28:08.056Z"
   },
   {
    "duration": 8,
    "start_time": "2022-05-24T20:29:12.671Z"
   },
   {
    "duration": 6,
    "start_time": "2022-05-24T20:29:33.470Z"
   },
   {
    "duration": 5,
    "start_time": "2022-05-24T20:29:52.409Z"
   },
   {
    "duration": 271,
    "start_time": "2022-05-24T20:31:57.291Z"
   },
   {
    "duration": 10,
    "start_time": "2022-05-24T20:32:11.921Z"
   },
   {
    "duration": 9,
    "start_time": "2022-05-24T20:32:27.942Z"
   },
   {
    "duration": 7,
    "start_time": "2022-05-24T20:32:33.155Z"
   },
   {
    "duration": 5,
    "start_time": "2022-05-24T20:33:28.328Z"
   },
   {
    "duration": 4,
    "start_time": "2022-05-24T20:33:31.790Z"
   },
   {
    "duration": 7,
    "start_time": "2022-05-24T20:33:37.944Z"
   },
   {
    "duration": 6,
    "start_time": "2022-05-24T20:33:41.758Z"
   },
   {
    "duration": 7,
    "start_time": "2022-05-24T20:33:53.136Z"
   },
   {
    "duration": 20,
    "start_time": "2022-05-24T20:34:37.375Z"
   },
   {
    "duration": 7,
    "start_time": "2022-05-24T20:34:39.926Z"
   },
   {
    "duration": 24,
    "start_time": "2022-05-24T20:35:25.730Z"
   },
   {
    "duration": 8,
    "start_time": "2022-05-24T20:39:56.867Z"
   },
   {
    "duration": 100,
    "start_time": "2022-05-24T20:40:13.847Z"
   },
   {
    "duration": 5,
    "start_time": "2022-05-24T20:40:17.736Z"
   },
   {
    "duration": 5,
    "start_time": "2022-05-24T20:40:28.430Z"
   },
   {
    "duration": 8,
    "start_time": "2022-05-24T20:41:02.919Z"
   },
   {
    "duration": 5,
    "start_time": "2022-05-24T20:41:08.536Z"
   },
   {
    "duration": 6,
    "start_time": "2022-05-24T20:41:59.338Z"
   },
   {
    "duration": 15,
    "start_time": "2022-05-24T20:42:56.355Z"
   },
   {
    "duration": 12,
    "start_time": "2022-05-24T20:43:02.269Z"
   },
   {
    "duration": 5,
    "start_time": "2022-05-24T20:43:41.934Z"
   },
   {
    "duration": 5,
    "start_time": "2022-05-24T20:44:16.033Z"
   },
   {
    "duration": 481,
    "start_time": "2022-05-24T20:45:20.040Z"
   },
   {
    "duration": 20,
    "start_time": "2022-05-24T20:45:20.523Z"
   },
   {
    "duration": 18,
    "start_time": "2022-05-24T20:45:20.544Z"
   },
   {
    "duration": 35,
    "start_time": "2022-05-24T20:45:20.564Z"
   },
   {
    "duration": 24,
    "start_time": "2022-05-24T20:45:20.601Z"
   },
   {
    "duration": 538,
    "start_time": "2022-05-24T20:45:50.497Z"
   },
   {
    "duration": 22,
    "start_time": "2022-05-24T20:45:51.037Z"
   },
   {
    "duration": 35,
    "start_time": "2022-05-24T20:45:51.061Z"
   },
   {
    "duration": 12,
    "start_time": "2022-05-24T20:45:51.098Z"
   },
   {
    "duration": 19,
    "start_time": "2022-05-24T20:45:51.111Z"
   },
   {
    "duration": 82,
    "start_time": "2022-05-24T20:46:21.200Z"
   },
   {
    "duration": 538,
    "start_time": "2022-05-25T18:35:11.120Z"
   },
   {
    "duration": 26,
    "start_time": "2022-05-25T18:35:11.660Z"
   },
   {
    "duration": 23,
    "start_time": "2022-05-25T18:35:11.688Z"
   },
   {
    "duration": 15,
    "start_time": "2022-05-25T18:35:11.714Z"
   },
   {
    "duration": 18,
    "start_time": "2022-05-25T18:35:11.731Z"
   },
   {
    "duration": 5,
    "start_time": "2022-05-25T18:45:03.400Z"
   },
   {
    "duration": 5,
    "start_time": "2022-05-25T18:46:27.122Z"
   },
   {
    "duration": 11,
    "start_time": "2022-05-25T18:46:35.704Z"
   },
   {
    "duration": 468,
    "start_time": "2022-05-25T18:53:39.423Z"
   },
   {
    "duration": 26,
    "start_time": "2022-05-25T18:53:39.894Z"
   },
   {
    "duration": 20,
    "start_time": "2022-05-25T18:53:39.921Z"
   },
   {
    "duration": 11,
    "start_time": "2022-05-25T18:53:39.943Z"
   },
   {
    "duration": 43,
    "start_time": "2022-05-25T18:53:39.957Z"
   },
   {
    "duration": 475,
    "start_time": "2022-05-25T18:54:01.242Z"
   },
   {
    "duration": 21,
    "start_time": "2022-05-25T18:54:01.719Z"
   },
   {
    "duration": 17,
    "start_time": "2022-05-25T18:54:01.742Z"
   },
   {
    "duration": 14,
    "start_time": "2022-05-25T18:54:01.761Z"
   },
   {
    "duration": 34,
    "start_time": "2022-05-25T18:54:01.777Z"
   },
   {
    "duration": 8,
    "start_time": "2022-05-25T18:54:01.813Z"
   },
   {
    "duration": 8,
    "start_time": "2022-05-25T18:54:27.014Z"
   },
   {
    "duration": 7,
    "start_time": "2022-05-25T18:55:04.743Z"
   },
   {
    "duration": 73,
    "start_time": "2022-05-25T18:55:59.281Z"
   },
   {
    "duration": 8,
    "start_time": "2022-05-25T18:56:26.369Z"
   },
   {
    "duration": 14,
    "start_time": "2022-05-25T18:56:54.897Z"
   },
   {
    "duration": 16,
    "start_time": "2022-05-25T18:57:02.571Z"
   },
   {
    "duration": 18,
    "start_time": "2022-05-25T19:08:40.216Z"
   },
   {
    "duration": 13,
    "start_time": "2022-05-25T19:09:08.424Z"
   },
   {
    "duration": 6,
    "start_time": "2022-05-25T19:10:39.878Z"
   },
   {
    "duration": 482,
    "start_time": "2022-05-25T19:10:47.617Z"
   },
   {
    "duration": 19,
    "start_time": "2022-05-25T19:10:48.101Z"
   },
   {
    "duration": 16,
    "start_time": "2022-05-25T19:10:48.121Z"
   },
   {
    "duration": 10,
    "start_time": "2022-05-25T19:10:48.139Z"
   },
   {
    "duration": 27,
    "start_time": "2022-05-25T19:10:48.151Z"
   },
   {
    "duration": 9,
    "start_time": "2022-05-25T19:10:48.195Z"
   },
   {
    "duration": 10,
    "start_time": "2022-05-25T19:15:33.895Z"
   },
   {
    "duration": 497,
    "start_time": "2022-05-25T19:23:57.585Z"
   },
   {
    "duration": 23,
    "start_time": "2022-05-25T19:23:58.084Z"
   },
   {
    "duration": 18,
    "start_time": "2022-05-25T19:23:58.109Z"
   },
   {
    "duration": 15,
    "start_time": "2022-05-25T19:23:58.129Z"
   },
   {
    "duration": 19,
    "start_time": "2022-05-25T19:23:58.146Z"
   },
   {
    "duration": 32,
    "start_time": "2022-05-25T19:23:58.166Z"
   },
   {
    "duration": 12,
    "start_time": "2022-05-25T19:23:58.199Z"
   },
   {
    "duration": 23,
    "start_time": "2022-05-25T19:31:06.526Z"
   },
   {
    "duration": 76,
    "start_time": "2022-05-25T19:35:58.785Z"
   },
   {
    "duration": 8,
    "start_time": "2022-05-25T19:36:06.119Z"
   },
   {
    "duration": 9,
    "start_time": "2022-05-25T19:36:51.780Z"
   },
   {
    "duration": 9,
    "start_time": "2022-05-25T19:37:09.286Z"
   },
   {
    "duration": 7,
    "start_time": "2022-05-25T19:37:22.784Z"
   },
   {
    "duration": 8,
    "start_time": "2022-05-25T19:37:37.312Z"
   },
   {
    "duration": 6,
    "start_time": "2022-05-25T19:37:42.348Z"
   },
   {
    "duration": 6,
    "start_time": "2022-05-25T19:38:08.579Z"
   },
   {
    "duration": 23,
    "start_time": "2022-05-25T19:42:29.614Z"
   },
   {
    "duration": 13,
    "start_time": "2022-05-25T19:42:43.577Z"
   },
   {
    "duration": 8,
    "start_time": "2022-05-25T19:42:56.026Z"
   },
   {
    "duration": 5,
    "start_time": "2022-05-25T19:52:10.699Z"
   },
   {
    "duration": 5,
    "start_time": "2022-05-25T19:52:18.315Z"
   },
   {
    "duration": 4,
    "start_time": "2022-05-25T19:52:24.373Z"
   },
   {
    "duration": 74,
    "start_time": "2022-05-26T04:06:50.251Z"
   },
   {
    "duration": 805,
    "start_time": "2022-05-26T04:07:19.939Z"
   },
   {
    "duration": 27,
    "start_time": "2022-05-26T04:07:20.746Z"
   },
   {
    "duration": 22,
    "start_time": "2022-05-26T04:07:20.775Z"
   },
   {
    "duration": 9,
    "start_time": "2022-05-26T04:07:20.800Z"
   },
   {
    "duration": 15,
    "start_time": "2022-05-26T04:07:20.810Z"
   },
   {
    "duration": 4,
    "start_time": "2022-05-26T04:07:20.827Z"
   },
   {
    "duration": 36,
    "start_time": "2022-05-26T04:07:20.833Z"
   },
   {
    "duration": 6,
    "start_time": "2022-05-26T04:07:20.879Z"
   },
   {
    "duration": 14,
    "start_time": "2022-05-26T04:07:20.886Z"
   },
   {
    "duration": 19,
    "start_time": "2022-05-26T04:07:20.901Z"
   },
   {
    "duration": 17,
    "start_time": "2022-05-26T04:07:44.400Z"
   },
   {
    "duration": 20,
    "start_time": "2022-05-26T04:11:47.242Z"
   },
   {
    "duration": 85,
    "start_time": "2022-05-26T04:24:22.095Z"
   },
   {
    "duration": 4,
    "start_time": "2022-05-26T04:24:37.187Z"
   },
   {
    "duration": 18,
    "start_time": "2022-05-26T04:25:17.943Z"
   },
   {
    "duration": 14,
    "start_time": "2022-05-26T04:25:23.114Z"
   },
   {
    "duration": 5,
    "start_time": "2022-05-26T04:28:44.866Z"
   },
   {
    "duration": 7,
    "start_time": "2022-05-26T04:31:56.055Z"
   },
   {
    "duration": 6,
    "start_time": "2022-05-26T04:32:35.014Z"
   },
   {
    "duration": 4,
    "start_time": "2022-05-26T04:35:54.699Z"
   },
   {
    "duration": 6,
    "start_time": "2022-05-26T04:44:36.912Z"
   },
   {
    "duration": 483,
    "start_time": "2022-05-26T04:44:53.477Z"
   },
   {
    "duration": 24,
    "start_time": "2022-05-26T04:44:53.962Z"
   },
   {
    "duration": 16,
    "start_time": "2022-05-26T04:44:53.988Z"
   },
   {
    "duration": 9,
    "start_time": "2022-05-26T04:44:54.006Z"
   },
   {
    "duration": 44,
    "start_time": "2022-05-26T04:44:54.017Z"
   },
   {
    "duration": 7,
    "start_time": "2022-05-26T04:44:54.065Z"
   },
   {
    "duration": 16,
    "start_time": "2022-05-26T04:44:54.074Z"
   },
   {
    "duration": 10,
    "start_time": "2022-05-26T04:44:54.092Z"
   },
   {
    "duration": 20,
    "start_time": "2022-05-26T04:44:54.104Z"
   },
   {
    "duration": 8,
    "start_time": "2022-05-26T04:44:54.127Z"
   },
   {
    "duration": 19,
    "start_time": "2022-05-26T04:44:54.137Z"
   },
   {
    "duration": 19,
    "start_time": "2022-05-26T04:44:54.157Z"
   },
   {
    "duration": 9,
    "start_time": "2022-05-26T04:44:54.177Z"
   },
   {
    "duration": 10,
    "start_time": "2022-05-26T04:44:54.188Z"
   },
   {
    "duration": 9,
    "start_time": "2022-05-26T04:45:56.289Z"
   },
   {
    "duration": 751,
    "start_time": "2022-05-26T04:47:00.532Z"
   },
   {
    "duration": 11768,
    "start_time": "2022-05-26T04:47:23.377Z"
   },
   {
    "duration": 64,
    "start_time": "2022-05-26T04:49:01.544Z"
   },
   {
    "duration": 11,
    "start_time": "2022-05-26T04:49:24.275Z"
   },
   {
    "duration": 8,
    "start_time": "2022-05-26T04:51:26.670Z"
   },
   {
    "duration": 5,
    "start_time": "2022-05-26T05:09:46.806Z"
   },
   {
    "duration": 18,
    "start_time": "2022-05-26T05:10:13.072Z"
   },
   {
    "duration": 4,
    "start_time": "2022-05-26T05:10:26.528Z"
   },
   {
    "duration": 179,
    "start_time": "2022-05-26T05:10:47.469Z"
   },
   {
    "duration": 121,
    "start_time": "2022-05-26T05:11:30.825Z"
   },
   {
    "duration": 37,
    "start_time": "2022-05-26T05:12:16.452Z"
   },
   {
    "duration": 604,
    "start_time": "2022-05-26T05:13:50.945Z"
   },
   {
    "duration": 45,
    "start_time": "2022-05-26T05:13:51.552Z"
   },
   {
    "duration": 16,
    "start_time": "2022-05-26T05:13:51.599Z"
   },
   {
    "duration": 12,
    "start_time": "2022-05-26T05:13:51.618Z"
   },
   {
    "duration": 38,
    "start_time": "2022-05-26T05:13:51.631Z"
   },
   {
    "duration": 11,
    "start_time": "2022-05-26T05:13:51.671Z"
   },
   {
    "duration": 26,
    "start_time": "2022-05-26T05:13:51.686Z"
   },
   {
    "duration": 11,
    "start_time": "2022-05-26T05:13:51.715Z"
   },
   {
    "duration": 4,
    "start_time": "2022-05-26T05:13:51.728Z"
   },
   {
    "duration": 35,
    "start_time": "2022-05-26T05:13:51.735Z"
   },
   {
    "duration": 10,
    "start_time": "2022-05-26T05:13:51.778Z"
   },
   {
    "duration": 7,
    "start_time": "2022-05-26T05:13:51.790Z"
   },
   {
    "duration": 7,
    "start_time": "2022-05-26T05:13:51.798Z"
   },
   {
    "duration": 18,
    "start_time": "2022-05-26T05:14:36.593Z"
   },
   {
    "duration": 10,
    "start_time": "2022-05-26T05:15:01.777Z"
   },
   {
    "duration": 13,
    "start_time": "2022-05-26T05:15:07.016Z"
   },
   {
    "duration": 8,
    "start_time": "2022-05-26T05:15:32.502Z"
   },
   {
    "duration": 19,
    "start_time": "2022-05-26T05:15:38.952Z"
   },
   {
    "duration": 16,
    "start_time": "2022-05-26T05:17:13.081Z"
   },
   {
    "duration": 10,
    "start_time": "2022-05-26T05:17:30.400Z"
   },
   {
    "duration": 6,
    "start_time": "2022-05-26T05:19:33.114Z"
   },
   {
    "duration": 8,
    "start_time": "2022-05-26T05:20:32.586Z"
   },
   {
    "duration": 7,
    "start_time": "2022-05-26T05:21:12.013Z"
   },
   {
    "duration": 6,
    "start_time": "2022-05-26T05:22:34.208Z"
   },
   {
    "duration": 8,
    "start_time": "2022-05-26T05:22:45.502Z"
   },
   {
    "duration": 7,
    "start_time": "2022-05-26T05:23:00.030Z"
   },
   {
    "duration": 7,
    "start_time": "2022-05-26T05:27:27.543Z"
   },
   {
    "duration": 6,
    "start_time": "2022-05-26T05:28:32.500Z"
   },
   {
    "duration": 9,
    "start_time": "2022-05-26T05:28:39.385Z"
   },
   {
    "duration": 513,
    "start_time": "2022-05-26T05:29:02.391Z"
   },
   {
    "duration": 20,
    "start_time": "2022-05-26T05:29:02.907Z"
   },
   {
    "duration": 33,
    "start_time": "2022-05-26T05:29:02.929Z"
   },
   {
    "duration": 12,
    "start_time": "2022-05-26T05:29:02.963Z"
   },
   {
    "duration": 29,
    "start_time": "2022-05-26T05:29:02.978Z"
   },
   {
    "duration": 5,
    "start_time": "2022-05-26T05:29:03.010Z"
   },
   {
    "duration": 17,
    "start_time": "2022-05-26T05:29:03.016Z"
   },
   {
    "duration": 7,
    "start_time": "2022-05-26T05:29:03.035Z"
   },
   {
    "duration": 26,
    "start_time": "2022-05-26T05:29:03.044Z"
   },
   {
    "duration": 25,
    "start_time": "2022-05-26T05:29:03.073Z"
   },
   {
    "duration": 6,
    "start_time": "2022-05-26T05:29:03.100Z"
   },
   {
    "duration": 5,
    "start_time": "2022-05-26T05:29:03.108Z"
   },
   {
    "duration": 9,
    "start_time": "2022-05-26T05:29:03.115Z"
   },
   {
    "duration": 10,
    "start_time": "2022-05-26T05:29:03.126Z"
   },
   {
    "duration": 11,
    "start_time": "2022-05-26T05:29:03.137Z"
   },
   {
    "duration": 37,
    "start_time": "2022-05-26T05:29:03.150Z"
   },
   {
    "duration": 5,
    "start_time": "2022-05-26T05:29:03.189Z"
   },
   {
    "duration": 12,
    "start_time": "2022-05-26T05:29:03.196Z"
   },
   {
    "duration": 506,
    "start_time": "2022-05-26T05:33:40.779Z"
   },
   {
    "duration": 21,
    "start_time": "2022-05-26T05:33:41.288Z"
   },
   {
    "duration": 16,
    "start_time": "2022-05-26T05:33:41.310Z"
   },
   {
    "duration": 8,
    "start_time": "2022-05-26T05:33:41.328Z"
   },
   {
    "duration": 39,
    "start_time": "2022-05-26T05:33:41.339Z"
   },
   {
    "duration": 9,
    "start_time": "2022-05-26T05:33:41.384Z"
   },
   {
    "duration": 13,
    "start_time": "2022-05-26T05:33:41.395Z"
   },
   {
    "duration": 7,
    "start_time": "2022-05-26T05:33:41.410Z"
   },
   {
    "duration": 5,
    "start_time": "2022-05-26T05:33:41.419Z"
   },
   {
    "duration": 32,
    "start_time": "2022-05-26T05:33:41.426Z"
   },
   {
    "duration": 8,
    "start_time": "2022-05-26T05:33:41.460Z"
   },
   {
    "duration": 21,
    "start_time": "2022-05-26T05:33:41.470Z"
   },
   {
    "duration": 6,
    "start_time": "2022-05-26T05:33:41.493Z"
   },
   {
    "duration": 7,
    "start_time": "2022-05-26T05:33:41.502Z"
   },
   {
    "duration": 6,
    "start_time": "2022-05-26T05:33:41.510Z"
   },
   {
    "duration": 10,
    "start_time": "2022-05-26T05:33:41.518Z"
   },
   {
    "duration": 5,
    "start_time": "2022-05-26T05:33:41.529Z"
   },
   {
    "duration": 24,
    "start_time": "2022-05-26T05:33:41.536Z"
   },
   {
    "duration": 8,
    "start_time": "2022-05-26T05:42:57.416Z"
   },
   {
    "duration": 6,
    "start_time": "2022-05-26T05:43:10.837Z"
   },
   {
    "duration": 7,
    "start_time": "2022-05-26T05:43:30.199Z"
   },
   {
    "duration": 764,
    "start_time": "2022-05-26T18:10:23.065Z"
   },
   {
    "duration": 21,
    "start_time": "2022-05-26T18:10:23.831Z"
   },
   {
    "duration": 19,
    "start_time": "2022-05-26T18:10:23.853Z"
   },
   {
    "duration": 14,
    "start_time": "2022-05-26T18:10:23.875Z"
   },
   {
    "duration": 26,
    "start_time": "2022-05-26T18:10:23.892Z"
   },
   {
    "duration": 5,
    "start_time": "2022-05-26T18:12:07.891Z"
   },
   {
    "duration": 6,
    "start_time": "2022-05-26T18:12:22.404Z"
   },
   {
    "duration": 49,
    "start_time": "2022-05-26T18:13:21.543Z"
   },
   {
    "duration": 17,
    "start_time": "2022-05-26T18:13:41.544Z"
   },
   {
    "duration": 52,
    "start_time": "2022-05-26T18:16:02.447Z"
   },
   {
    "duration": 16,
    "start_time": "2022-05-26T18:16:03.946Z"
   },
   {
    "duration": 479,
    "start_time": "2022-05-26T18:16:38.184Z"
   },
   {
    "duration": 21,
    "start_time": "2022-05-26T18:16:38.665Z"
   },
   {
    "duration": 20,
    "start_time": "2022-05-26T18:16:38.688Z"
   },
   {
    "duration": 11,
    "start_time": "2022-05-26T18:16:38.709Z"
   },
   {
    "duration": 31,
    "start_time": "2022-05-26T18:16:38.722Z"
   },
   {
    "duration": 44,
    "start_time": "2022-05-26T18:17:16.676Z"
   },
   {
    "duration": 8,
    "start_time": "2022-05-26T18:17:29.009Z"
   },
   {
    "duration": 15,
    "start_time": "2022-05-26T18:18:29.592Z"
   },
   {
    "duration": 7,
    "start_time": "2022-05-26T18:18:29.610Z"
   },
   {
    "duration": 5,
    "start_time": "2022-05-26T18:18:29.619Z"
   },
   {
    "duration": 6,
    "start_time": "2022-05-26T18:18:29.626Z"
   },
   {
    "duration": 13,
    "start_time": "2022-05-26T18:18:29.633Z"
   },
   {
    "duration": 7,
    "start_time": "2022-05-26T18:18:29.647Z"
   },
   {
    "duration": 15,
    "start_time": "2022-05-26T18:18:29.659Z"
   },
   {
    "duration": 8,
    "start_time": "2022-05-26T18:18:29.676Z"
   },
   {
    "duration": 4,
    "start_time": "2022-05-26T18:18:29.686Z"
   },
   {
    "duration": 23,
    "start_time": "2022-05-26T18:18:29.691Z"
   },
   {
    "duration": 7,
    "start_time": "2022-05-26T18:18:29.716Z"
   },
   {
    "duration": 9,
    "start_time": "2022-05-26T18:18:29.725Z"
   },
   {
    "duration": 914,
    "start_time": "2022-05-26T18:21:35.886Z"
   },
   {
    "duration": 48,
    "start_time": "2022-05-26T18:21:36.803Z"
   },
   {
    "duration": 24,
    "start_time": "2022-05-26T18:21:36.852Z"
   },
   {
    "duration": 11,
    "start_time": "2022-05-26T18:21:36.878Z"
   },
   {
    "duration": 85,
    "start_time": "2022-05-26T18:21:36.891Z"
   },
   {
    "duration": 61,
    "start_time": "2022-05-26T18:21:36.979Z"
   },
   {
    "duration": 21,
    "start_time": "2022-05-26T18:21:37.042Z"
   },
   {
    "duration": 16,
    "start_time": "2022-05-26T18:21:37.065Z"
   },
   {
    "duration": 7,
    "start_time": "2022-05-26T18:21:37.082Z"
   },
   {
    "duration": 7,
    "start_time": "2022-05-26T18:21:37.091Z"
   },
   {
    "duration": 13,
    "start_time": "2022-05-26T18:21:37.099Z"
   },
   {
    "duration": 8,
    "start_time": "2022-05-26T18:21:37.113Z"
   },
   {
    "duration": 17,
    "start_time": "2022-05-26T18:21:37.123Z"
   },
   {
    "duration": 14,
    "start_time": "2022-05-26T18:21:37.142Z"
   },
   {
    "duration": 194,
    "start_time": "2022-05-26T18:21:51.692Z"
   },
   {
    "duration": 44,
    "start_time": "2022-05-26T18:22:20.528Z"
   },
   {
    "duration": 49,
    "start_time": "2022-05-26T18:22:29.649Z"
   },
   {
    "duration": 9,
    "start_time": "2022-05-26T18:22:29.700Z"
   },
   {
    "duration": 14,
    "start_time": "2022-05-26T18:22:29.711Z"
   },
   {
    "duration": 11,
    "start_time": "2022-05-26T18:22:29.727Z"
   },
   {
    "duration": 7,
    "start_time": "2022-05-26T18:24:22.068Z"
   },
   {
    "duration": 9,
    "start_time": "2022-05-26T18:24:33.239Z"
   },
   {
    "duration": 7,
    "start_time": "2022-05-26T18:24:45.322Z"
   },
   {
    "duration": 5,
    "start_time": "2022-05-26T18:25:40.326Z"
   },
   {
    "duration": 6,
    "start_time": "2022-05-26T18:25:48.299Z"
   },
   {
    "duration": 15,
    "start_time": "2022-05-26T18:26:01.350Z"
   },
   {
    "duration": 14,
    "start_time": "2022-05-26T18:26:46.932Z"
   },
   {
    "duration": 19,
    "start_time": "2022-05-26T18:26:59.343Z"
   },
   {
    "duration": 26,
    "start_time": "2022-05-26T18:29:07.463Z"
   },
   {
    "duration": 18,
    "start_time": "2022-05-26T18:29:15.904Z"
   },
   {
    "duration": 20,
    "start_time": "2022-05-26T18:30:05.422Z"
   },
   {
    "duration": 26,
    "start_time": "2022-05-26T18:34:56.968Z"
   },
   {
    "duration": 20,
    "start_time": "2022-05-26T18:35:06.007Z"
   },
   {
    "duration": 17,
    "start_time": "2022-05-26T18:35:44.400Z"
   },
   {
    "duration": 665,
    "start_time": "2022-05-26T18:35:54.413Z"
   },
   {
    "duration": 20,
    "start_time": "2022-05-26T18:35:55.080Z"
   },
   {
    "duration": 17,
    "start_time": "2022-05-26T18:35:55.102Z"
   },
   {
    "duration": 10,
    "start_time": "2022-05-26T18:35:55.122Z"
   },
   {
    "duration": 40,
    "start_time": "2022-05-26T18:35:55.134Z"
   },
   {
    "duration": 76,
    "start_time": "2022-05-26T18:35:55.176Z"
   },
   {
    "duration": 16,
    "start_time": "2022-05-26T18:35:55.253Z"
   },
   {
    "duration": 16,
    "start_time": "2022-05-26T18:35:55.271Z"
   },
   {
    "duration": 11,
    "start_time": "2022-05-26T18:35:55.288Z"
   },
   {
    "duration": 15,
    "start_time": "2022-05-26T18:35:55.302Z"
   },
   {
    "duration": 8,
    "start_time": "2022-05-26T18:35:55.319Z"
   },
   {
    "duration": 7,
    "start_time": "2022-05-26T18:35:55.329Z"
   },
   {
    "duration": 23,
    "start_time": "2022-05-26T18:35:55.338Z"
   },
   {
    "duration": 19,
    "start_time": "2022-05-26T18:35:55.367Z"
   },
   {
    "duration": 69,
    "start_time": "2022-05-26T18:35:55.388Z"
   },
   {
    "duration": 16,
    "start_time": "2022-05-26T18:35:55.460Z"
   },
   {
    "duration": 16,
    "start_time": "2022-05-26T18:35:55.478Z"
   },
   {
    "duration": 18,
    "start_time": "2022-05-26T18:35:55.496Z"
   },
   {
    "duration": 13,
    "start_time": "2022-05-26T18:35:55.516Z"
   },
   {
    "duration": 14,
    "start_time": "2022-05-26T18:35:55.530Z"
   },
   {
    "duration": 18,
    "start_time": "2022-05-26T18:36:00.712Z"
   },
   {
    "duration": 20,
    "start_time": "2022-05-26T18:36:31.133Z"
   },
   {
    "duration": 25,
    "start_time": "2022-05-26T18:36:45.301Z"
   },
   {
    "duration": 7,
    "start_time": "2022-05-26T18:38:49.601Z"
   },
   {
    "duration": 6,
    "start_time": "2022-05-26T18:40:13.585Z"
   },
   {
    "duration": 14,
    "start_time": "2022-05-26T18:42:02.086Z"
   },
   {
    "duration": 12,
    "start_time": "2022-05-26T18:42:39.521Z"
   },
   {
    "duration": 10,
    "start_time": "2022-05-26T18:43:26.111Z"
   },
   {
    "duration": 14,
    "start_time": "2022-05-26T18:43:31.524Z"
   },
   {
    "duration": 10,
    "start_time": "2022-05-26T18:44:01.145Z"
   },
   {
    "duration": 671,
    "start_time": "2022-05-26T18:44:50.955Z"
   },
   {
    "duration": 8,
    "start_time": "2022-05-26T18:44:56.309Z"
   },
   {
    "duration": 14,
    "start_time": "2022-05-26T18:45:02.052Z"
   },
   {
    "duration": 5,
    "start_time": "2022-05-26T18:49:38.217Z"
   },
   {
    "duration": 10,
    "start_time": "2022-05-26T18:49:51.949Z"
   },
   {
    "duration": 6,
    "start_time": "2022-05-26T18:49:58.344Z"
   },
   {
    "duration": 9,
    "start_time": "2022-05-26T18:50:05.214Z"
   },
   {
    "duration": 7,
    "start_time": "2022-05-26T18:50:14.667Z"
   },
   {
    "duration": 5,
    "start_time": "2022-05-26T18:50:23.328Z"
   },
   {
    "duration": 7,
    "start_time": "2022-05-26T18:50:45.470Z"
   },
   {
    "duration": 10,
    "start_time": "2022-05-26T19:16:14.828Z"
   },
   {
    "duration": 10,
    "start_time": "2022-05-26T19:16:28.827Z"
   },
   {
    "duration": 9,
    "start_time": "2022-05-26T19:18:20.587Z"
   },
   {
    "duration": 15,
    "start_time": "2022-05-26T19:19:23.050Z"
   },
   {
    "duration": 9,
    "start_time": "2022-05-26T19:22:48.014Z"
   },
   {
    "duration": 9,
    "start_time": "2022-05-26T19:23:11.661Z"
   },
   {
    "duration": 12,
    "start_time": "2022-05-26T19:23:25.489Z"
   },
   {
    "duration": 9,
    "start_time": "2022-05-26T19:24:09.329Z"
   },
   {
    "duration": 12,
    "start_time": "2022-05-26T19:24:44.696Z"
   },
   {
    "duration": 10,
    "start_time": "2022-05-26T19:24:50.909Z"
   },
   {
    "duration": 11,
    "start_time": "2022-05-26T19:27:20.905Z"
   },
   {
    "duration": 8,
    "start_time": "2022-05-26T19:28:20.276Z"
   },
   {
    "duration": 6,
    "start_time": "2022-05-26T19:28:31.697Z"
   },
   {
    "duration": 13,
    "start_time": "2022-05-26T19:28:42.734Z"
   },
   {
    "duration": 432,
    "start_time": "2022-05-26T19:29:17.977Z"
   },
   {
    "duration": 486,
    "start_time": "2022-05-26T19:29:23.744Z"
   },
   {
    "duration": 514,
    "start_time": "2022-05-26T19:29:50.485Z"
   },
   {
    "duration": 21,
    "start_time": "2022-05-26T19:29:51.002Z"
   },
   {
    "duration": 33,
    "start_time": "2022-05-26T19:29:51.024Z"
   },
   {
    "duration": 16,
    "start_time": "2022-05-26T19:29:51.062Z"
   },
   {
    "duration": 49,
    "start_time": "2022-05-26T19:29:51.083Z"
   },
   {
    "duration": 57,
    "start_time": "2022-05-26T19:29:51.133Z"
   },
   {
    "duration": 10,
    "start_time": "2022-05-26T19:29:51.192Z"
   },
   {
    "duration": 10,
    "start_time": "2022-05-26T19:29:51.204Z"
   },
   {
    "duration": 5,
    "start_time": "2022-05-26T19:29:51.216Z"
   },
   {
    "duration": 9,
    "start_time": "2022-05-26T19:29:51.223Z"
   },
   {
    "duration": 44,
    "start_time": "2022-05-26T19:29:51.234Z"
   },
   {
    "duration": 16,
    "start_time": "2022-05-26T19:29:51.280Z"
   },
   {
    "duration": 10,
    "start_time": "2022-05-26T19:29:51.297Z"
   },
   {
    "duration": 23,
    "start_time": "2022-05-26T19:29:51.309Z"
   },
   {
    "duration": 61,
    "start_time": "2022-05-26T19:29:51.334Z"
   },
   {
    "duration": 9,
    "start_time": "2022-05-26T19:29:51.397Z"
   },
   {
    "duration": 9,
    "start_time": "2022-05-26T19:29:51.408Z"
   },
   {
    "duration": 14,
    "start_time": "2022-05-26T19:29:51.419Z"
   },
   {
    "duration": 7,
    "start_time": "2022-05-26T19:29:51.434Z"
   },
   {
    "duration": 35,
    "start_time": "2022-05-26T19:29:51.442Z"
   },
   {
    "duration": 22,
    "start_time": "2022-05-26T19:29:51.482Z"
   },
   {
    "duration": 19,
    "start_time": "2022-05-26T19:29:51.506Z"
   },
   {
    "duration": 17,
    "start_time": "2022-05-26T19:29:51.526Z"
   },
   {
    "duration": 15,
    "start_time": "2022-05-26T19:29:51.544Z"
   },
   {
    "duration": 44,
    "start_time": "2022-05-26T19:29:51.560Z"
   },
   {
    "duration": 13,
    "start_time": "2022-05-26T19:29:51.606Z"
   },
   {
    "duration": 18,
    "start_time": "2022-05-26T19:29:51.620Z"
   },
   {
    "duration": 15,
    "start_time": "2022-05-26T19:29:51.640Z"
   },
   {
    "duration": 47,
    "start_time": "2022-05-26T19:29:51.659Z"
   },
   {
    "duration": 11,
    "start_time": "2022-05-26T19:29:51.707Z"
   },
   {
    "duration": 16,
    "start_time": "2022-05-26T19:29:51.719Z"
   },
   {
    "duration": 84,
    "start_time": "2022-05-26T19:30:23.848Z"
   },
   {
    "duration": 6,
    "start_time": "2022-05-26T19:30:41.695Z"
   },
   {
    "duration": 18,
    "start_time": "2022-05-26T19:30:56.141Z"
   },
   {
    "duration": 4,
    "start_time": "2022-05-26T19:30:58.626Z"
   },
   {
    "duration": 467,
    "start_time": "2022-05-26T19:34:27.574Z"
   },
   {
    "duration": 25,
    "start_time": "2022-05-26T19:34:28.043Z"
   },
   {
    "duration": 37,
    "start_time": "2022-05-26T19:34:28.070Z"
   },
   {
    "duration": 10,
    "start_time": "2022-05-26T19:34:28.110Z"
   },
   {
    "duration": 18,
    "start_time": "2022-05-26T19:34:28.122Z"
   },
   {
    "duration": 64,
    "start_time": "2022-05-26T19:34:28.142Z"
   },
   {
    "duration": 10,
    "start_time": "2022-05-26T19:34:28.208Z"
   },
   {
    "duration": 7,
    "start_time": "2022-05-26T19:34:28.219Z"
   },
   {
    "duration": 6,
    "start_time": "2022-05-26T19:34:28.227Z"
   },
   {
    "duration": 37,
    "start_time": "2022-05-26T19:34:28.235Z"
   },
   {
    "duration": 13,
    "start_time": "2022-05-26T19:34:28.273Z"
   },
   {
    "duration": 8,
    "start_time": "2022-05-26T19:34:28.287Z"
   },
   {
    "duration": 10,
    "start_time": "2022-05-26T19:34:28.296Z"
   },
   {
    "duration": 9,
    "start_time": "2022-05-26T19:34:28.307Z"
   },
   {
    "duration": 43,
    "start_time": "2022-05-26T19:34:28.317Z"
   },
   {
    "duration": 12,
    "start_time": "2022-05-26T19:34:28.366Z"
   },
   {
    "duration": 8,
    "start_time": "2022-05-26T19:34:28.380Z"
   },
   {
    "duration": 13,
    "start_time": "2022-05-26T19:34:28.389Z"
   },
   {
    "duration": 11,
    "start_time": "2022-05-26T19:34:28.403Z"
   },
   {
    "duration": 17,
    "start_time": "2022-05-26T19:34:28.416Z"
   },
   {
    "duration": 25,
    "start_time": "2022-05-26T19:34:28.434Z"
   },
   {
    "duration": 35,
    "start_time": "2022-05-26T19:34:28.461Z"
   },
   {
    "duration": 17,
    "start_time": "2022-05-26T19:34:28.497Z"
   },
   {
    "duration": 7,
    "start_time": "2022-05-26T19:34:28.515Z"
   },
   {
    "duration": 14,
    "start_time": "2022-05-26T19:34:28.524Z"
   },
   {
    "duration": 22,
    "start_time": "2022-05-26T19:34:28.540Z"
   },
   {
    "duration": 27,
    "start_time": "2022-05-26T19:34:28.564Z"
   },
   {
    "duration": 7,
    "start_time": "2022-05-26T19:34:52.912Z"
   },
   {
    "duration": 11,
    "start_time": "2022-05-26T19:34:57.751Z"
   },
   {
    "duration": 7,
    "start_time": "2022-05-26T19:35:15.700Z"
   },
   {
    "duration": 469,
    "start_time": "2022-05-26T19:40:20.870Z"
   },
   {
    "duration": 27,
    "start_time": "2022-05-26T19:40:21.341Z"
   },
   {
    "duration": 29,
    "start_time": "2022-05-26T19:40:21.369Z"
   },
   {
    "duration": 9,
    "start_time": "2022-05-26T19:40:21.399Z"
   },
   {
    "duration": 15,
    "start_time": "2022-05-26T19:40:21.410Z"
   },
   {
    "duration": 58,
    "start_time": "2022-05-26T19:40:21.427Z"
   },
   {
    "duration": 8,
    "start_time": "2022-05-26T19:40:21.487Z"
   },
   {
    "duration": 7,
    "start_time": "2022-05-26T19:40:21.497Z"
   },
   {
    "duration": 4,
    "start_time": "2022-05-26T19:40:21.506Z"
   },
   {
    "duration": 5,
    "start_time": "2022-05-26T19:40:21.511Z"
   },
   {
    "duration": 4,
    "start_time": "2022-05-26T19:40:21.518Z"
   },
   {
    "duration": 33,
    "start_time": "2022-05-26T19:40:21.523Z"
   },
   {
    "duration": 28,
    "start_time": "2022-05-26T19:40:21.560Z"
   },
   {
    "duration": 8,
    "start_time": "2022-05-26T19:40:21.590Z"
   },
   {
    "duration": 41,
    "start_time": "2022-05-26T19:40:21.599Z"
   },
   {
    "duration": 9,
    "start_time": "2022-05-26T19:40:21.641Z"
   },
   {
    "duration": 29,
    "start_time": "2022-05-26T19:40:21.651Z"
   },
   {
    "duration": 9,
    "start_time": "2022-05-26T19:40:21.681Z"
   },
   {
    "duration": 6,
    "start_time": "2022-05-26T19:40:21.691Z"
   },
   {
    "duration": 19,
    "start_time": "2022-05-26T19:40:21.698Z"
   },
   {
    "duration": 16,
    "start_time": "2022-05-26T19:40:21.718Z"
   },
   {
    "duration": 23,
    "start_time": "2022-05-26T19:40:21.735Z"
   },
   {
    "duration": 25,
    "start_time": "2022-05-26T19:40:21.759Z"
   },
   {
    "duration": 10,
    "start_time": "2022-05-26T19:40:21.786Z"
   },
   {
    "duration": 18,
    "start_time": "2022-05-26T19:40:21.798Z"
   },
   {
    "duration": 8,
    "start_time": "2022-05-26T19:40:21.818Z"
   },
   {
    "duration": 11,
    "start_time": "2022-05-26T19:40:21.828Z"
   },
   {
    "duration": 34,
    "start_time": "2022-05-26T19:40:21.840Z"
   },
   {
    "duration": 15,
    "start_time": "2022-05-26T19:40:21.876Z"
   },
   {
    "duration": 7,
    "start_time": "2022-05-26T19:40:21.893Z"
   },
   {
    "duration": 13,
    "start_time": "2022-05-26T19:40:21.901Z"
   },
   {
    "duration": 6,
    "start_time": "2022-05-26T19:40:21.916Z"
   },
   {
    "duration": 5,
    "start_time": "2022-05-26T19:40:21.923Z"
   },
   {
    "duration": 88,
    "start_time": "2022-05-26T19:42:33.198Z"
   },
   {
    "duration": 445,
    "start_time": "2022-05-26T19:42:53.196Z"
   },
   {
    "duration": 33,
    "start_time": "2022-05-26T19:42:53.643Z"
   },
   {
    "duration": 20,
    "start_time": "2022-05-26T19:42:53.678Z"
   },
   {
    "duration": 9,
    "start_time": "2022-05-26T19:42:53.700Z"
   },
   {
    "duration": 18,
    "start_time": "2022-05-26T19:42:53.710Z"
   },
   {
    "duration": 52,
    "start_time": "2022-05-26T19:42:53.729Z"
   },
   {
    "duration": 9,
    "start_time": "2022-05-26T19:42:53.783Z"
   },
   {
    "duration": 8,
    "start_time": "2022-05-26T19:42:53.793Z"
   },
   {
    "duration": 6,
    "start_time": "2022-05-26T19:42:53.803Z"
   },
   {
    "duration": 6,
    "start_time": "2022-05-26T19:42:53.811Z"
   },
   {
    "duration": 6,
    "start_time": "2022-05-26T19:42:53.818Z"
   },
   {
    "duration": 5,
    "start_time": "2022-05-26T19:42:53.826Z"
   },
   {
    "duration": 11,
    "start_time": "2022-05-26T19:42:53.853Z"
   },
   {
    "duration": 33,
    "start_time": "2022-05-26T19:42:53.866Z"
   },
   {
    "duration": 48,
    "start_time": "2022-05-26T19:42:53.900Z"
   },
   {
    "duration": 19,
    "start_time": "2022-05-26T19:42:53.949Z"
   },
   {
    "duration": 23,
    "start_time": "2022-05-26T19:42:53.970Z"
   },
   {
    "duration": 9,
    "start_time": "2022-05-26T19:42:53.994Z"
   },
   {
    "duration": 5,
    "start_time": "2022-05-26T19:42:54.004Z"
   },
   {
    "duration": 16,
    "start_time": "2022-05-26T19:42:54.010Z"
   },
   {
    "duration": 16,
    "start_time": "2022-05-26T19:42:54.027Z"
   },
   {
    "duration": 29,
    "start_time": "2022-05-26T19:42:54.044Z"
   },
   {
    "duration": 16,
    "start_time": "2022-05-26T19:42:54.078Z"
   },
   {
    "duration": 7,
    "start_time": "2022-05-26T19:42:54.095Z"
   },
   {
    "duration": 16,
    "start_time": "2022-05-26T19:42:54.103Z"
   },
   {
    "duration": 9,
    "start_time": "2022-05-26T19:42:54.121Z"
   },
   {
    "duration": 39,
    "start_time": "2022-05-26T19:42:54.131Z"
   },
   {
    "duration": 16,
    "start_time": "2022-05-26T19:42:54.178Z"
   },
   {
    "duration": 13,
    "start_time": "2022-05-26T19:42:54.195Z"
   },
   {
    "duration": 7,
    "start_time": "2022-05-26T19:42:54.209Z"
   },
   {
    "duration": 11,
    "start_time": "2022-05-26T19:42:54.218Z"
   },
   {
    "duration": 16,
    "start_time": "2022-05-26T19:43:03.477Z"
   },
   {
    "duration": 7,
    "start_time": "2022-05-26T19:43:15.249Z"
   },
   {
    "duration": 8,
    "start_time": "2022-05-26T19:43:32.877Z"
   },
   {
    "duration": 5,
    "start_time": "2022-05-26T19:43:35.228Z"
   },
   {
    "duration": 3,
    "start_time": "2022-05-26T19:55:23.568Z"
   },
   {
    "duration": 3,
    "start_time": "2022-05-26T19:55:29.273Z"
   },
   {
    "duration": 3,
    "start_time": "2022-05-26T19:55:44.735Z"
   },
   {
    "duration": 4,
    "start_time": "2022-05-26T19:57:44.304Z"
   },
   {
    "duration": 74,
    "start_time": "2022-05-26T19:57:51.870Z"
   },
   {
    "duration": 12,
    "start_time": "2022-05-26T19:58:18.264Z"
   },
   {
    "duration": 4,
    "start_time": "2022-05-26T19:59:01.396Z"
   },
   {
    "duration": 3,
    "start_time": "2022-05-26T19:59:18.907Z"
   },
   {
    "duration": 4,
    "start_time": "2022-05-26T19:59:30.642Z"
   },
   {
    "duration": 3,
    "start_time": "2022-05-26T20:01:44.613Z"
   },
   {
    "duration": 4,
    "start_time": "2022-05-26T20:01:50.593Z"
   },
   {
    "duration": 13,
    "start_time": "2022-05-26T20:02:06.063Z"
   },
   {
    "duration": 17,
    "start_time": "2022-05-26T20:02:21.564Z"
   },
   {
    "duration": 20,
    "start_time": "2022-05-26T20:03:35.224Z"
   },
   {
    "duration": 487,
    "start_time": "2022-05-26T20:13:41.024Z"
   },
   {
    "duration": 21,
    "start_time": "2022-05-26T20:13:41.513Z"
   },
   {
    "duration": 16,
    "start_time": "2022-05-26T20:13:41.535Z"
   },
   {
    "duration": 11,
    "start_time": "2022-05-26T20:13:41.552Z"
   },
   {
    "duration": 19,
    "start_time": "2022-05-26T20:13:41.566Z"
   },
   {
    "duration": 42,
    "start_time": "2022-05-26T20:13:41.587Z"
   },
   {
    "duration": 32,
    "start_time": "2022-05-26T20:13:41.631Z"
   },
   {
    "duration": 10,
    "start_time": "2022-05-26T20:13:41.665Z"
   },
   {
    "duration": 6,
    "start_time": "2022-05-26T20:13:41.676Z"
   },
   {
    "duration": 4,
    "start_time": "2022-05-26T20:13:41.684Z"
   },
   {
    "duration": 4,
    "start_time": "2022-05-26T20:13:41.690Z"
   },
   {
    "duration": 6,
    "start_time": "2022-05-26T20:13:41.696Z"
   },
   {
    "duration": 8,
    "start_time": "2022-05-26T20:13:41.704Z"
   },
   {
    "duration": 7,
    "start_time": "2022-05-26T20:13:41.716Z"
   },
   {
    "duration": 72,
    "start_time": "2022-05-26T20:13:41.725Z"
   },
   {
    "duration": 9,
    "start_time": "2022-05-26T20:13:41.799Z"
   },
   {
    "duration": 9,
    "start_time": "2022-05-26T20:13:41.809Z"
   },
   {
    "duration": 9,
    "start_time": "2022-05-26T20:13:41.819Z"
   },
   {
    "duration": 5,
    "start_time": "2022-05-26T20:13:41.829Z"
   },
   {
    "duration": 32,
    "start_time": "2022-05-26T20:13:41.836Z"
   },
   {
    "duration": 16,
    "start_time": "2022-05-26T20:13:41.870Z"
   },
   {
    "duration": 17,
    "start_time": "2022-05-26T20:13:41.887Z"
   },
   {
    "duration": 16,
    "start_time": "2022-05-26T20:13:41.905Z"
   },
   {
    "duration": 39,
    "start_time": "2022-05-26T20:13:41.923Z"
   },
   {
    "duration": 14,
    "start_time": "2022-05-26T20:13:41.965Z"
   },
   {
    "duration": 10,
    "start_time": "2022-05-26T20:13:41.981Z"
   },
   {
    "duration": 9,
    "start_time": "2022-05-26T20:13:41.993Z"
   },
   {
    "duration": 15,
    "start_time": "2022-05-26T20:13:42.003Z"
   },
   {
    "duration": 15,
    "start_time": "2022-05-26T20:13:42.020Z"
   },
   {
    "duration": 24,
    "start_time": "2022-05-26T20:13:42.036Z"
   },
   {
    "duration": 18,
    "start_time": "2022-05-26T20:13:42.062Z"
   },
   {
    "duration": 4,
    "start_time": "2022-05-26T20:13:42.081Z"
   },
   {
    "duration": 7,
    "start_time": "2022-05-26T20:13:42.086Z"
   },
   {
    "duration": 5,
    "start_time": "2022-05-26T20:13:42.095Z"
   },
   {
    "duration": 7,
    "start_time": "2022-05-26T20:13:42.102Z"
   },
   {
    "duration": 24,
    "start_time": "2022-05-26T20:13:42.111Z"
   },
   {
    "duration": 66,
    "start_time": "2022-05-27T04:46:44.811Z"
   },
   {
    "duration": 787,
    "start_time": "2022-05-27T04:47:09.907Z"
   },
   {
    "duration": 19,
    "start_time": "2022-05-27T04:47:10.696Z"
   },
   {
    "duration": 16,
    "start_time": "2022-05-27T04:47:10.717Z"
   },
   {
    "duration": 44,
    "start_time": "2022-05-27T04:47:10.735Z"
   },
   {
    "duration": 30,
    "start_time": "2022-05-27T04:47:10.780Z"
   },
   {
    "duration": 65,
    "start_time": "2022-05-27T04:47:10.811Z"
   },
   {
    "duration": 9,
    "start_time": "2022-05-27T04:47:10.878Z"
   },
   {
    "duration": 18,
    "start_time": "2022-05-27T04:47:10.888Z"
   },
   {
    "duration": 34,
    "start_time": "2022-05-27T04:47:10.908Z"
   },
   {
    "duration": 18,
    "start_time": "2022-05-27T04:47:10.945Z"
   },
   {
    "duration": 18,
    "start_time": "2022-05-27T04:47:10.965Z"
   },
   {
    "duration": 21,
    "start_time": "2022-05-27T04:47:10.985Z"
   },
   {
    "duration": 36,
    "start_time": "2022-05-27T04:47:11.008Z"
   },
   {
    "duration": 19,
    "start_time": "2022-05-27T04:47:11.046Z"
   },
   {
    "duration": 79,
    "start_time": "2022-05-27T04:47:11.066Z"
   },
   {
    "duration": 10,
    "start_time": "2022-05-27T04:47:11.146Z"
   },
   {
    "duration": 24,
    "start_time": "2022-05-27T04:47:11.157Z"
   },
   {
    "duration": 21,
    "start_time": "2022-05-27T04:47:11.182Z"
   },
   {
    "duration": 31,
    "start_time": "2022-05-27T04:47:11.204Z"
   },
   {
    "duration": 57,
    "start_time": "2022-05-27T04:47:11.237Z"
   },
   {
    "duration": 42,
    "start_time": "2022-05-27T04:47:11.296Z"
   },
   {
    "duration": 18,
    "start_time": "2022-05-27T04:47:11.342Z"
   },
   {
    "duration": 26,
    "start_time": "2022-05-27T04:47:11.362Z"
   },
   {
    "duration": 12,
    "start_time": "2022-05-27T04:47:11.390Z"
   },
   {
    "duration": 45,
    "start_time": "2022-05-27T04:47:11.403Z"
   },
   {
    "duration": 22,
    "start_time": "2022-05-27T04:47:11.450Z"
   },
   {
    "duration": 26,
    "start_time": "2022-05-27T04:47:11.474Z"
   },
   {
    "duration": 33,
    "start_time": "2022-05-27T04:47:11.503Z"
   },
   {
    "duration": 28,
    "start_time": "2022-05-27T04:47:11.537Z"
   },
   {
    "duration": 29,
    "start_time": "2022-05-27T04:47:11.566Z"
   },
   {
    "duration": 50,
    "start_time": "2022-05-27T04:47:11.597Z"
   },
   {
    "duration": 13,
    "start_time": "2022-05-27T04:47:11.650Z"
   },
   {
    "duration": 21,
    "start_time": "2022-05-27T04:47:11.664Z"
   },
   {
    "duration": 28,
    "start_time": "2022-05-27T04:47:11.687Z"
   },
   {
    "duration": 56,
    "start_time": "2022-05-27T04:47:11.718Z"
   },
   {
    "duration": 32,
    "start_time": "2022-05-27T04:47:11.776Z"
   },
   {
    "duration": 77,
    "start_time": "2022-05-27T04:47:32.711Z"
   },
   {
    "duration": 15,
    "start_time": "2022-05-27T04:47:40.425Z"
   },
   {
    "duration": 3,
    "start_time": "2022-05-27T05:08:36.681Z"
   },
   {
    "duration": 3,
    "start_time": "2022-05-27T05:11:59.721Z"
   },
   {
    "duration": 9,
    "start_time": "2022-05-27T05:13:15.349Z"
   },
   {
    "duration": 25,
    "start_time": "2022-05-27T05:13:22.615Z"
   },
   {
    "duration": 14,
    "start_time": "2022-05-27T05:26:16.902Z"
   },
   {
    "duration": 14,
    "start_time": "2022-05-27T05:29:31.841Z"
   },
   {
    "duration": 11,
    "start_time": "2022-05-27T05:29:40.440Z"
   },
   {
    "duration": 749,
    "start_time": "2022-05-27T05:38:52.318Z"
   },
   {
    "duration": 19,
    "start_time": "2022-05-27T05:38:53.069Z"
   },
   {
    "duration": 24,
    "start_time": "2022-05-27T05:38:53.090Z"
   },
   {
    "duration": 14,
    "start_time": "2022-05-27T05:38:53.117Z"
   },
   {
    "duration": 26,
    "start_time": "2022-05-27T05:38:53.133Z"
   },
   {
    "duration": 47,
    "start_time": "2022-05-27T05:38:53.161Z"
   },
   {
    "duration": 26,
    "start_time": "2022-05-27T05:38:53.210Z"
   },
   {
    "duration": 8,
    "start_time": "2022-05-27T05:38:53.237Z"
   },
   {
    "duration": 5,
    "start_time": "2022-05-27T05:38:53.247Z"
   },
   {
    "duration": 7,
    "start_time": "2022-05-27T05:38:53.255Z"
   },
   {
    "duration": 6,
    "start_time": "2022-05-27T05:38:53.263Z"
   },
   {
    "duration": 11,
    "start_time": "2022-05-27T05:38:53.270Z"
   },
   {
    "duration": 46,
    "start_time": "2022-05-27T05:38:53.282Z"
   },
   {
    "duration": 7,
    "start_time": "2022-05-27T05:38:53.330Z"
   },
   {
    "duration": 49,
    "start_time": "2022-05-27T05:38:53.339Z"
   },
   {
    "duration": 10,
    "start_time": "2022-05-27T05:38:53.390Z"
   },
   {
    "duration": 27,
    "start_time": "2022-05-27T05:38:53.402Z"
   },
   {
    "duration": 12,
    "start_time": "2022-05-27T05:38:53.430Z"
   },
   {
    "duration": 7,
    "start_time": "2022-05-27T05:38:53.444Z"
   },
   {
    "duration": 16,
    "start_time": "2022-05-27T05:38:53.452Z"
   },
   {
    "duration": 23,
    "start_time": "2022-05-27T05:38:53.470Z"
   },
   {
    "duration": 45,
    "start_time": "2022-05-27T05:38:53.495Z"
   },
   {
    "duration": 17,
    "start_time": "2022-05-27T05:38:53.542Z"
   },
   {
    "duration": 13,
    "start_time": "2022-05-27T05:38:53.562Z"
   },
   {
    "duration": 23,
    "start_time": "2022-05-27T05:38:53.579Z"
   },
   {
    "duration": 23,
    "start_time": "2022-05-27T05:38:53.604Z"
   },
   {
    "duration": 6,
    "start_time": "2022-05-27T05:38:53.629Z"
   },
   {
    "duration": 13,
    "start_time": "2022-05-27T05:38:53.638Z"
   },
   {
    "duration": 25,
    "start_time": "2022-05-27T05:38:53.653Z"
   },
   {
    "duration": 16,
    "start_time": "2022-05-27T05:38:53.680Z"
   },
   {
    "duration": 30,
    "start_time": "2022-05-27T05:38:53.698Z"
   },
   {
    "duration": 5,
    "start_time": "2022-05-27T05:38:53.731Z"
   },
   {
    "duration": 19,
    "start_time": "2022-05-27T05:38:53.738Z"
   },
   {
    "duration": 6,
    "start_time": "2022-05-27T05:38:53.760Z"
   },
   {
    "duration": 17,
    "start_time": "2022-05-27T05:38:53.768Z"
   },
   {
    "duration": 64,
    "start_time": "2022-05-27T05:38:53.787Z"
   },
   {
    "duration": 18,
    "start_time": "2022-05-27T05:38:53.853Z"
   },
   {
    "duration": 19,
    "start_time": "2022-05-27T05:38:53.874Z"
   },
   {
    "duration": 12,
    "start_time": "2022-05-27T05:38:53.896Z"
   },
   {
    "duration": 33,
    "start_time": "2022-05-27T05:38:53.910Z"
   },
   {
    "duration": 31,
    "start_time": "2022-05-27T05:38:53.946Z"
   },
   {
    "duration": 764,
    "start_time": "2022-05-27T05:43:37.531Z"
   },
   {
    "duration": 29,
    "start_time": "2022-05-27T05:43:38.297Z"
   },
   {
    "duration": 41,
    "start_time": "2022-05-27T05:43:38.328Z"
   },
   {
    "duration": 22,
    "start_time": "2022-05-27T05:43:38.372Z"
   },
   {
    "duration": 34,
    "start_time": "2022-05-27T05:43:38.397Z"
   },
   {
    "duration": 78,
    "start_time": "2022-05-27T05:43:38.433Z"
   },
   {
    "duration": 16,
    "start_time": "2022-05-27T05:43:38.513Z"
   },
   {
    "duration": 35,
    "start_time": "2022-05-27T05:43:38.532Z"
   },
   {
    "duration": 17,
    "start_time": "2022-05-27T05:43:38.568Z"
   },
   {
    "duration": 32,
    "start_time": "2022-05-27T05:43:38.589Z"
   },
   {
    "duration": 25,
    "start_time": "2022-05-27T05:43:38.624Z"
   },
   {
    "duration": 10,
    "start_time": "2022-05-27T05:43:38.651Z"
   },
   {
    "duration": 37,
    "start_time": "2022-05-27T05:43:38.663Z"
   },
   {
    "duration": 24,
    "start_time": "2022-05-27T05:43:38.702Z"
   },
   {
    "duration": 85,
    "start_time": "2022-05-27T05:43:38.729Z"
   },
   {
    "duration": 14,
    "start_time": "2022-05-27T05:43:38.816Z"
   },
   {
    "duration": 18,
    "start_time": "2022-05-27T05:43:38.832Z"
   },
   {
    "duration": 48,
    "start_time": "2022-05-27T05:43:38.852Z"
   },
   {
    "duration": 18,
    "start_time": "2022-05-27T05:43:38.902Z"
   },
   {
    "duration": 44,
    "start_time": "2022-05-27T05:43:38.921Z"
   },
   {
    "duration": 38,
    "start_time": "2022-05-27T05:43:38.968Z"
   },
   {
    "duration": 33,
    "start_time": "2022-05-27T05:43:39.008Z"
   },
   {
    "duration": 19,
    "start_time": "2022-05-27T05:43:39.043Z"
   },
   {
    "duration": 10,
    "start_time": "2022-05-27T05:43:39.064Z"
   },
   {
    "duration": 41,
    "start_time": "2022-05-27T05:43:39.076Z"
   },
   {
    "duration": 24,
    "start_time": "2022-05-27T05:43:39.119Z"
   },
   {
    "duration": 22,
    "start_time": "2022-05-27T05:43:39.145Z"
   },
   {
    "duration": 35,
    "start_time": "2022-05-27T05:43:39.171Z"
   },
   {
    "duration": 23,
    "start_time": "2022-05-27T05:43:39.209Z"
   },
   {
    "duration": 30,
    "start_time": "2022-05-27T05:43:39.234Z"
   },
   {
    "duration": 53,
    "start_time": "2022-05-27T05:43:39.266Z"
   },
   {
    "duration": 25,
    "start_time": "2022-05-27T05:43:39.321Z"
   },
   {
    "duration": 27,
    "start_time": "2022-05-27T05:43:39.347Z"
   },
   {
    "duration": 28,
    "start_time": "2022-05-27T05:43:39.376Z"
   },
   {
    "duration": 15,
    "start_time": "2022-05-27T05:43:39.406Z"
   },
   {
    "duration": 51,
    "start_time": "2022-05-27T05:43:39.423Z"
   },
   {
    "duration": 26,
    "start_time": "2022-05-27T05:43:39.476Z"
   },
   {
    "duration": 13,
    "start_time": "2022-05-27T05:43:39.504Z"
   },
   {
    "duration": 51,
    "start_time": "2022-05-27T05:43:39.519Z"
   },
   {
    "duration": 27,
    "start_time": "2022-05-27T05:43:39.571Z"
   },
   {
    "duration": 25,
    "start_time": "2022-05-27T05:43:39.600Z"
   },
   {
    "duration": 709,
    "start_time": "2022-05-27T05:45:58.959Z"
   },
   {
    "duration": 21,
    "start_time": "2022-05-27T05:45:59.670Z"
   },
   {
    "duration": 23,
    "start_time": "2022-05-27T05:45:59.693Z"
   },
   {
    "duration": 14,
    "start_time": "2022-05-27T05:45:59.719Z"
   },
   {
    "duration": 28,
    "start_time": "2022-05-27T05:45:59.735Z"
   },
   {
    "duration": 46,
    "start_time": "2022-05-27T05:45:59.765Z"
   },
   {
    "duration": 21,
    "start_time": "2022-05-27T05:45:59.813Z"
   },
   {
    "duration": 9,
    "start_time": "2022-05-27T05:45:59.836Z"
   },
   {
    "duration": 12,
    "start_time": "2022-05-27T05:45:59.847Z"
   },
   {
    "duration": 7,
    "start_time": "2022-05-27T05:45:59.862Z"
   },
   {
    "duration": 10,
    "start_time": "2022-05-27T05:45:59.870Z"
   },
   {
    "duration": 9,
    "start_time": "2022-05-27T05:45:59.881Z"
   },
   {
    "duration": 8,
    "start_time": "2022-05-27T05:45:59.891Z"
   },
   {
    "duration": 28,
    "start_time": "2022-05-27T05:45:59.903Z"
   },
   {
    "duration": 44,
    "start_time": "2022-05-27T05:45:59.933Z"
   },
   {
    "duration": 10,
    "start_time": "2022-05-27T05:45:59.978Z"
   },
   {
    "duration": 12,
    "start_time": "2022-05-27T05:45:59.990Z"
   },
   {
    "duration": 36,
    "start_time": "2022-05-27T05:46:00.004Z"
   },
   {
    "duration": 9,
    "start_time": "2022-05-27T05:46:00.042Z"
   },
   {
    "duration": 25,
    "start_time": "2022-05-27T05:46:00.053Z"
   },
   {
    "duration": 24,
    "start_time": "2022-05-27T05:46:00.080Z"
   },
   {
    "duration": 40,
    "start_time": "2022-05-27T05:46:00.108Z"
   },
   {
    "duration": 21,
    "start_time": "2022-05-27T05:46:00.150Z"
   },
   {
    "duration": 23,
    "start_time": "2022-05-27T05:46:00.174Z"
   },
   {
    "duration": 34,
    "start_time": "2022-05-27T05:46:00.199Z"
   },
   {
    "duration": 18,
    "start_time": "2022-05-27T05:46:00.235Z"
   },
   {
    "duration": 18,
    "start_time": "2022-05-27T05:46:00.255Z"
   },
   {
    "duration": 22,
    "start_time": "2022-05-27T05:46:00.275Z"
   },
   {
    "duration": 25,
    "start_time": "2022-05-27T05:46:00.299Z"
   },
   {
    "duration": 21,
    "start_time": "2022-05-27T05:46:00.326Z"
   },
   {
    "duration": 53,
    "start_time": "2022-05-27T05:46:00.349Z"
   },
   {
    "duration": 24,
    "start_time": "2022-05-27T05:46:00.403Z"
   },
   {
    "duration": 24,
    "start_time": "2022-05-27T05:46:00.429Z"
   },
   {
    "duration": 24,
    "start_time": "2022-05-27T05:46:00.455Z"
   },
   {
    "duration": 30,
    "start_time": "2022-05-27T05:46:00.481Z"
   },
   {
    "duration": 46,
    "start_time": "2022-05-27T05:46:00.513Z"
   },
   {
    "duration": 33,
    "start_time": "2022-05-27T05:46:00.561Z"
   },
   {
    "duration": 39,
    "start_time": "2022-05-27T05:46:00.596Z"
   },
   {
    "duration": 21,
    "start_time": "2022-05-27T05:46:00.637Z"
   },
   {
    "duration": 34,
    "start_time": "2022-05-27T05:46:00.661Z"
   },
   {
    "duration": 15,
    "start_time": "2022-05-27T05:46:00.700Z"
   },
   {
    "duration": 53,
    "start_time": "2022-05-28T05:45:41.207Z"
   },
   {
    "duration": 7,
    "start_time": "2022-05-28T05:46:01.391Z"
   },
   {
    "duration": 688,
    "start_time": "2022-05-28T05:46:14.723Z"
   },
   {
    "duration": 19,
    "start_time": "2022-05-28T05:46:15.413Z"
   },
   {
    "duration": 15,
    "start_time": "2022-05-28T05:46:15.434Z"
   },
   {
    "duration": 9,
    "start_time": "2022-05-28T05:46:15.450Z"
   },
   {
    "duration": 17,
    "start_time": "2022-05-28T05:46:15.461Z"
   },
   {
    "duration": 53,
    "start_time": "2022-05-28T05:46:15.479Z"
   },
   {
    "duration": 10,
    "start_time": "2022-05-28T05:46:15.534Z"
   },
   {
    "duration": 8,
    "start_time": "2022-05-28T05:46:15.546Z"
   },
   {
    "duration": 12,
    "start_time": "2022-05-28T05:46:15.555Z"
   },
   {
    "duration": 27,
    "start_time": "2022-05-28T05:46:15.569Z"
   },
   {
    "duration": 4,
    "start_time": "2022-05-28T05:46:15.598Z"
   },
   {
    "duration": 6,
    "start_time": "2022-05-28T05:46:15.603Z"
   },
   {
    "duration": 7,
    "start_time": "2022-05-28T05:46:15.610Z"
   },
   {
    "duration": 7,
    "start_time": "2022-05-28T05:46:15.620Z"
   },
   {
    "duration": 72,
    "start_time": "2022-05-28T05:46:15.628Z"
   },
   {
    "duration": 10,
    "start_time": "2022-05-28T05:46:15.702Z"
   },
   {
    "duration": 6,
    "start_time": "2022-05-28T05:46:15.713Z"
   },
   {
    "duration": 8,
    "start_time": "2022-05-28T05:46:15.721Z"
   },
   {
    "duration": 4,
    "start_time": "2022-05-28T05:46:15.730Z"
   },
   {
    "duration": 16,
    "start_time": "2022-05-28T05:46:15.735Z"
   },
   {
    "duration": 43,
    "start_time": "2022-05-28T05:46:15.752Z"
   },
   {
    "duration": 17,
    "start_time": "2022-05-28T05:46:15.797Z"
   },
   {
    "duration": 20,
    "start_time": "2022-05-28T05:46:15.815Z"
   },
   {
    "duration": 14,
    "start_time": "2022-05-28T05:46:15.837Z"
   },
   {
    "duration": 19,
    "start_time": "2022-05-28T05:46:15.853Z"
   },
   {
    "duration": 29,
    "start_time": "2022-05-28T05:46:15.873Z"
   },
   {
    "duration": 20,
    "start_time": "2022-05-28T05:46:15.904Z"
   },
   {
    "duration": 12,
    "start_time": "2022-05-28T05:46:15.925Z"
   },
   {
    "duration": 13,
    "start_time": "2022-05-28T05:46:15.938Z"
   },
   {
    "duration": 9,
    "start_time": "2022-05-28T05:46:15.952Z"
   },
   {
    "duration": 12,
    "start_time": "2022-05-28T05:46:15.962Z"
   },
   {
    "duration": 4,
    "start_time": "2022-05-28T05:46:15.975Z"
   },
   {
    "duration": 17,
    "start_time": "2022-05-28T05:46:15.980Z"
   },
   {
    "duration": 10,
    "start_time": "2022-05-28T05:46:15.998Z"
   },
   {
    "duration": 12,
    "start_time": "2022-05-28T05:46:16.009Z"
   },
   {
    "duration": 27,
    "start_time": "2022-05-28T05:46:16.022Z"
   },
   {
    "duration": 7,
    "start_time": "2022-05-28T05:46:16.050Z"
   },
   {
    "duration": 13,
    "start_time": "2022-05-28T05:46:16.058Z"
   },
   {
    "duration": 28,
    "start_time": "2022-05-28T05:46:16.073Z"
   },
   {
    "duration": 34,
    "start_time": "2022-05-28T05:46:16.102Z"
   },
   {
    "duration": 21,
    "start_time": "2022-05-28T05:46:31.974Z"
   },
   {
    "duration": 26,
    "start_time": "2022-05-28T05:46:41.407Z"
   },
   {
    "duration": 15,
    "start_time": "2022-05-28T05:59:32.726Z"
   },
   {
    "duration": 450,
    "start_time": "2022-05-28T06:00:41.823Z"
   },
   {
    "duration": 4,
    "start_time": "2022-05-28T06:01:08.360Z"
   },
   {
    "duration": 274,
    "start_time": "2022-05-28T06:01:38.040Z"
   },
   {
    "duration": 306,
    "start_time": "2022-05-28T06:03:30.253Z"
   },
   {
    "duration": 445,
    "start_time": "2022-05-28T06:03:39.436Z"
   },
   {
    "duration": 5,
    "start_time": "2022-05-28T06:03:53.825Z"
   },
   {
    "duration": 12,
    "start_time": "2022-05-28T06:04:20.044Z"
   },
   {
    "duration": 18,
    "start_time": "2022-05-28T06:04:51.269Z"
   },
   {
    "duration": 28,
    "start_time": "2022-05-28T06:05:23.086Z"
   },
   {
    "duration": 8,
    "start_time": "2022-05-28T06:05:31.281Z"
   },
   {
    "duration": 448,
    "start_time": "2022-05-28T06:09:55.420Z"
   },
   {
    "duration": 19,
    "start_time": "2022-05-28T06:09:55.870Z"
   },
   {
    "duration": 28,
    "start_time": "2022-05-28T06:09:55.891Z"
   },
   {
    "duration": 14,
    "start_time": "2022-05-28T06:09:55.922Z"
   },
   {
    "duration": 24,
    "start_time": "2022-05-28T06:09:55.938Z"
   },
   {
    "duration": 62,
    "start_time": "2022-05-28T06:09:55.963Z"
   },
   {
    "duration": 14,
    "start_time": "2022-05-28T06:09:56.028Z"
   },
   {
    "duration": 22,
    "start_time": "2022-05-28T06:09:56.044Z"
   },
   {
    "duration": 7,
    "start_time": "2022-05-28T06:09:56.068Z"
   },
   {
    "duration": 7,
    "start_time": "2022-05-28T06:09:56.077Z"
   },
   {
    "duration": 5,
    "start_time": "2022-05-28T06:09:56.096Z"
   },
   {
    "duration": 6,
    "start_time": "2022-05-28T06:09:56.102Z"
   },
   {
    "duration": 11,
    "start_time": "2022-05-28T06:09:56.109Z"
   },
   {
    "duration": 9,
    "start_time": "2022-05-28T06:09:56.122Z"
   },
   {
    "duration": 66,
    "start_time": "2022-05-28T06:09:56.133Z"
   },
   {
    "duration": 9,
    "start_time": "2022-05-28T06:09:56.201Z"
   },
   {
    "duration": 9,
    "start_time": "2022-05-28T06:09:56.211Z"
   },
   {
    "duration": 7,
    "start_time": "2022-05-28T06:09:56.222Z"
   },
   {
    "duration": 4,
    "start_time": "2022-05-28T06:09:56.231Z"
   },
   {
    "duration": 21,
    "start_time": "2022-05-28T06:09:56.236Z"
   },
   {
    "duration": 47,
    "start_time": "2022-05-28T06:09:56.259Z"
   },
   {
    "duration": 19,
    "start_time": "2022-05-28T06:09:56.308Z"
   },
   {
    "duration": 16,
    "start_time": "2022-05-28T06:09:56.328Z"
   },
   {
    "duration": 6,
    "start_time": "2022-05-28T06:09:56.345Z"
   },
   {
    "duration": 16,
    "start_time": "2022-05-28T06:09:56.353Z"
   },
   {
    "duration": 8,
    "start_time": "2022-05-28T06:09:56.394Z"
   },
   {
    "duration": 14,
    "start_time": "2022-05-28T06:09:56.404Z"
   },
   {
    "duration": 10,
    "start_time": "2022-05-28T06:09:56.421Z"
   },
   {
    "duration": 16,
    "start_time": "2022-05-28T06:09:56.433Z"
   },
   {
    "duration": 8,
    "start_time": "2022-05-28T06:09:56.451Z"
   },
   {
    "duration": 38,
    "start_time": "2022-05-28T06:09:56.461Z"
   },
   {
    "duration": 10,
    "start_time": "2022-05-28T06:09:56.501Z"
   },
   {
    "duration": 7,
    "start_time": "2022-05-28T06:09:56.513Z"
   },
   {
    "duration": 6,
    "start_time": "2022-05-28T06:09:56.522Z"
   },
   {
    "duration": 14,
    "start_time": "2022-05-28T06:09:56.529Z"
   },
   {
    "duration": 25,
    "start_time": "2022-05-28T06:09:56.545Z"
   },
   {
    "duration": 27,
    "start_time": "2022-05-28T06:09:56.572Z"
   },
   {
    "duration": 4,
    "start_time": "2022-05-28T06:09:56.601Z"
   },
   {
    "duration": 8,
    "start_time": "2022-05-28T06:09:56.607Z"
   },
   {
    "duration": 19,
    "start_time": "2022-05-28T06:09:56.616Z"
   },
   {
    "duration": 18,
    "start_time": "2022-05-28T06:09:56.636Z"
   },
   {
    "duration": 481,
    "start_time": "2022-05-28T06:11:48.419Z"
   },
   {
    "duration": 39,
    "start_time": "2022-05-28T06:11:48.905Z"
   },
   {
    "duration": 22,
    "start_time": "2022-05-28T06:11:48.946Z"
   },
   {
    "duration": 22,
    "start_time": "2022-05-28T06:11:48.970Z"
   },
   {
    "duration": 31,
    "start_time": "2022-05-28T06:11:48.995Z"
   },
   {
    "duration": 62,
    "start_time": "2022-05-28T06:11:49.029Z"
   },
   {
    "duration": 12,
    "start_time": "2022-05-28T06:11:49.093Z"
   },
   {
    "duration": 15,
    "start_time": "2022-05-28T06:11:49.109Z"
   },
   {
    "duration": 18,
    "start_time": "2022-05-28T06:11:49.126Z"
   },
   {
    "duration": 19,
    "start_time": "2022-05-28T06:11:49.146Z"
   },
   {
    "duration": 12,
    "start_time": "2022-05-28T06:11:49.167Z"
   },
   {
    "duration": 22,
    "start_time": "2022-05-28T06:11:49.180Z"
   },
   {
    "duration": 7,
    "start_time": "2022-05-28T06:11:49.204Z"
   },
   {
    "duration": 14,
    "start_time": "2022-05-28T06:11:49.215Z"
   },
   {
    "duration": 55,
    "start_time": "2022-05-28T06:11:49.231Z"
   },
   {
    "duration": 12,
    "start_time": "2022-05-28T06:11:49.287Z"
   },
   {
    "duration": 8,
    "start_time": "2022-05-28T06:11:49.302Z"
   },
   {
    "duration": 8,
    "start_time": "2022-05-28T06:11:49.312Z"
   },
   {
    "duration": 8,
    "start_time": "2022-05-28T06:11:49.321Z"
   },
   {
    "duration": 31,
    "start_time": "2022-05-28T06:11:49.331Z"
   },
   {
    "duration": 32,
    "start_time": "2022-05-28T06:11:49.363Z"
   },
   {
    "duration": 20,
    "start_time": "2022-05-28T06:11:49.396Z"
   },
   {
    "duration": 16,
    "start_time": "2022-05-28T06:11:49.418Z"
   },
   {
    "duration": 6,
    "start_time": "2022-05-28T06:11:49.436Z"
   },
   {
    "duration": 23,
    "start_time": "2022-05-28T06:11:49.444Z"
   },
   {
    "duration": 36,
    "start_time": "2022-05-28T06:11:49.469Z"
   },
   {
    "duration": 17,
    "start_time": "2022-05-28T06:11:49.506Z"
   },
   {
    "duration": 15,
    "start_time": "2022-05-28T06:11:49.524Z"
   },
   {
    "duration": 21,
    "start_time": "2022-05-28T06:11:49.541Z"
   },
   {
    "duration": 10,
    "start_time": "2022-05-28T06:12:01.912Z"
   },
   {
    "duration": 10,
    "start_time": "2022-05-28T06:12:08.236Z"
   },
   {
    "duration": 14,
    "start_time": "2022-05-28T06:12:27.174Z"
   },
   {
    "duration": 450,
    "start_time": "2022-05-28T06:12:44.441Z"
   },
   {
    "duration": 20,
    "start_time": "2022-05-28T06:12:44.893Z"
   },
   {
    "duration": 19,
    "start_time": "2022-05-28T06:12:44.915Z"
   },
   {
    "duration": 14,
    "start_time": "2022-05-28T06:12:44.936Z"
   },
   {
    "duration": 16,
    "start_time": "2022-05-28T06:12:44.951Z"
   },
   {
    "duration": 46,
    "start_time": "2022-05-28T06:12:44.993Z"
   },
   {
    "duration": 10,
    "start_time": "2022-05-28T06:12:45.041Z"
   },
   {
    "duration": 12,
    "start_time": "2022-05-28T06:12:45.053Z"
   },
   {
    "duration": 8,
    "start_time": "2022-05-28T06:12:45.067Z"
   },
   {
    "duration": 26,
    "start_time": "2022-05-28T06:12:45.078Z"
   },
   {
    "duration": 7,
    "start_time": "2022-05-28T06:12:45.105Z"
   },
   {
    "duration": 5,
    "start_time": "2022-05-28T06:12:45.114Z"
   },
   {
    "duration": 9,
    "start_time": "2022-05-28T06:12:45.121Z"
   },
   {
    "duration": 11,
    "start_time": "2022-05-28T06:12:45.132Z"
   },
   {
    "duration": 53,
    "start_time": "2022-05-28T06:12:45.145Z"
   },
   {
    "duration": 10,
    "start_time": "2022-05-28T06:12:45.200Z"
   },
   {
    "duration": 8,
    "start_time": "2022-05-28T06:12:45.211Z"
   },
   {
    "duration": 10,
    "start_time": "2022-05-28T06:12:45.220Z"
   },
   {
    "duration": 9,
    "start_time": "2022-05-28T06:12:45.231Z"
   },
   {
    "duration": 20,
    "start_time": "2022-05-28T06:12:45.242Z"
   },
   {
    "duration": 46,
    "start_time": "2022-05-28T06:12:45.264Z"
   },
   {
    "duration": 24,
    "start_time": "2022-05-28T06:12:45.312Z"
   },
   {
    "duration": 22,
    "start_time": "2022-05-28T06:12:45.338Z"
   },
   {
    "duration": 6,
    "start_time": "2022-05-28T06:12:45.362Z"
   },
   {
    "duration": 13,
    "start_time": "2022-05-28T06:12:45.396Z"
   },
   {
    "duration": 12,
    "start_time": "2022-05-28T06:12:45.411Z"
   },
   {
    "duration": 11,
    "start_time": "2022-05-28T06:12:45.425Z"
   },
   {
    "duration": 14,
    "start_time": "2022-05-28T06:12:45.438Z"
   },
   {
    "duration": 17,
    "start_time": "2022-05-28T06:12:45.454Z"
   },
   {
    "duration": 28,
    "start_time": "2022-05-28T06:12:45.472Z"
   },
   {
    "duration": 21,
    "start_time": "2022-05-28T06:12:45.502Z"
   },
   {
    "duration": 6,
    "start_time": "2022-05-28T06:12:45.525Z"
   },
   {
    "duration": 7,
    "start_time": "2022-05-28T06:12:45.533Z"
   },
   {
    "duration": 5,
    "start_time": "2022-05-28T06:12:45.542Z"
   },
   {
    "duration": 6,
    "start_time": "2022-05-28T06:12:45.549Z"
   },
   {
    "duration": 42,
    "start_time": "2022-05-28T06:12:45.556Z"
   },
   {
    "duration": 10,
    "start_time": "2022-05-28T06:12:45.600Z"
   },
   {
    "duration": 10,
    "start_time": "2022-05-28T06:12:45.611Z"
   },
   {
    "duration": 6,
    "start_time": "2022-05-28T06:12:45.623Z"
   },
   {
    "duration": 23,
    "start_time": "2022-05-28T06:12:45.631Z"
   },
   {
    "duration": 24,
    "start_time": "2022-05-28T06:12:45.656Z"
   },
   {
    "duration": 9,
    "start_time": "2022-05-28T06:12:45.694Z"
   },
   {
    "duration": 20,
    "start_time": "2022-05-28T06:13:19.695Z"
   },
   {
    "duration": 27,
    "start_time": "2022-05-28T06:14:31.489Z"
   },
   {
    "duration": 20,
    "start_time": "2022-05-28T06:15:04.148Z"
   },
   {
    "duration": 78,
    "start_time": "2022-05-28T06:15:52.544Z"
   },
   {
    "duration": 22,
    "start_time": "2022-05-28T06:15:59.520Z"
   },
   {
    "duration": 27,
    "start_time": "2022-05-28T06:17:53.112Z"
   },
   {
    "duration": 19,
    "start_time": "2022-05-28T06:19:27.077Z"
   },
   {
    "duration": 2,
    "start_time": "2022-05-28T06:21:32.537Z"
   },
   {
    "duration": 2,
    "start_time": "2022-05-28T06:21:34.913Z"
   },
   {
    "duration": 10,
    "start_time": "2022-05-28T06:22:42.764Z"
   },
   {
    "duration": 524,
    "start_time": "2022-05-28T06:25:14.612Z"
   },
   {
    "duration": 24,
    "start_time": "2022-05-28T06:25:15.138Z"
   },
   {
    "duration": 31,
    "start_time": "2022-05-28T06:25:15.164Z"
   },
   {
    "duration": 15,
    "start_time": "2022-05-28T06:25:15.203Z"
   },
   {
    "duration": 25,
    "start_time": "2022-05-28T06:25:15.219Z"
   },
   {
    "duration": 59,
    "start_time": "2022-05-28T06:25:15.245Z"
   },
   {
    "duration": 13,
    "start_time": "2022-05-28T06:25:15.307Z"
   },
   {
    "duration": 8,
    "start_time": "2022-05-28T06:25:15.321Z"
   },
   {
    "duration": 11,
    "start_time": "2022-05-28T06:25:15.330Z"
   },
   {
    "duration": 6,
    "start_time": "2022-05-28T06:25:15.344Z"
   },
   {
    "duration": 9,
    "start_time": "2022-05-28T06:25:15.351Z"
   },
   {
    "duration": 9,
    "start_time": "2022-05-28T06:25:15.362Z"
   },
   {
    "duration": 26,
    "start_time": "2022-05-28T06:25:15.373Z"
   },
   {
    "duration": 36,
    "start_time": "2022-05-28T06:25:15.401Z"
   },
   {
    "duration": 69,
    "start_time": "2022-05-28T06:25:15.439Z"
   },
   {
    "duration": 14,
    "start_time": "2022-05-28T06:25:15.511Z"
   },
   {
    "duration": 10,
    "start_time": "2022-05-28T06:25:15.526Z"
   },
   {
    "duration": 15,
    "start_time": "2022-05-28T06:25:15.538Z"
   },
   {
    "duration": 4,
    "start_time": "2022-05-28T06:25:15.555Z"
   },
   {
    "duration": 16,
    "start_time": "2022-05-28T06:25:15.560Z"
   },
   {
    "duration": 38,
    "start_time": "2022-05-28T06:25:15.577Z"
   },
   {
    "duration": 20,
    "start_time": "2022-05-28T06:25:15.616Z"
   },
   {
    "duration": 16,
    "start_time": "2022-05-28T06:25:15.638Z"
   },
   {
    "duration": 6,
    "start_time": "2022-05-28T06:25:15.655Z"
   },
   {
    "duration": 51,
    "start_time": "2022-05-28T06:25:15.663Z"
   },
   {
    "duration": 8,
    "start_time": "2022-05-28T06:25:15.716Z"
   },
   {
    "duration": 10,
    "start_time": "2022-05-28T06:25:15.726Z"
   },
   {
    "duration": 9,
    "start_time": "2022-05-28T06:25:15.740Z"
   },
   {
    "duration": 19,
    "start_time": "2022-05-28T06:25:15.751Z"
   },
   {
    "duration": 31,
    "start_time": "2022-05-28T06:25:15.772Z"
   },
   {
    "duration": 25,
    "start_time": "2022-05-28T06:25:15.804Z"
   },
   {
    "duration": 4,
    "start_time": "2022-05-28T06:25:15.831Z"
   },
   {
    "duration": 7,
    "start_time": "2022-05-28T06:25:15.836Z"
   },
   {
    "duration": 5,
    "start_time": "2022-05-28T06:25:15.844Z"
   },
   {
    "duration": 6,
    "start_time": "2022-05-28T06:25:15.850Z"
   },
   {
    "duration": 17,
    "start_time": "2022-05-28T06:25:15.858Z"
   },
   {
    "duration": 12,
    "start_time": "2022-05-28T06:25:15.901Z"
   },
   {
    "duration": 16,
    "start_time": "2022-05-28T06:25:15.915Z"
   },
   {
    "duration": 7,
    "start_time": "2022-05-28T06:25:15.934Z"
   },
   {
    "duration": 25,
    "start_time": "2022-05-28T06:25:15.942Z"
   },
   {
    "duration": 21,
    "start_time": "2022-05-28T06:25:35.732Z"
   },
   {
    "duration": 542,
    "start_time": "2022-05-28T06:26:06.974Z"
   },
   {
    "duration": 25,
    "start_time": "2022-05-28T06:26:07.518Z"
   },
   {
    "duration": 18,
    "start_time": "2022-05-28T06:26:07.545Z"
   },
   {
    "duration": 11,
    "start_time": "2022-05-28T06:26:07.565Z"
   },
   {
    "duration": 30,
    "start_time": "2022-05-28T06:26:07.594Z"
   },
   {
    "duration": 91,
    "start_time": "2022-05-28T06:26:07.626Z"
   },
   {
    "duration": 12,
    "start_time": "2022-05-28T06:26:07.719Z"
   },
   {
    "duration": 20,
    "start_time": "2022-05-28T06:26:07.733Z"
   },
   {
    "duration": 10,
    "start_time": "2022-05-28T06:26:07.755Z"
   },
   {
    "duration": 8,
    "start_time": "2022-05-28T06:26:07.767Z"
   },
   {
    "duration": 27,
    "start_time": "2022-05-28T06:26:07.777Z"
   },
   {
    "duration": 21,
    "start_time": "2022-05-28T06:26:07.806Z"
   },
   {
    "duration": 7,
    "start_time": "2022-05-28T06:26:07.828Z"
   },
   {
    "duration": 8,
    "start_time": "2022-05-28T06:26:07.839Z"
   },
   {
    "duration": 59,
    "start_time": "2022-05-28T06:26:07.849Z"
   },
   {
    "duration": 16,
    "start_time": "2022-05-28T06:26:07.909Z"
   },
   {
    "duration": 7,
    "start_time": "2022-05-28T06:26:07.926Z"
   },
   {
    "duration": 13,
    "start_time": "2022-05-28T06:26:07.935Z"
   },
   {
    "duration": 4,
    "start_time": "2022-05-28T06:26:07.950Z"
   },
   {
    "duration": 22,
    "start_time": "2022-05-28T06:26:07.956Z"
   },
   {
    "duration": 36,
    "start_time": "2022-05-28T06:26:07.980Z"
   },
   {
    "duration": 20,
    "start_time": "2022-05-28T06:26:08.018Z"
   },
   {
    "duration": 23,
    "start_time": "2022-05-28T06:26:08.040Z"
   },
   {
    "duration": 32,
    "start_time": "2022-05-28T06:26:08.066Z"
   },
   {
    "duration": 26,
    "start_time": "2022-05-28T06:26:08.102Z"
   },
   {
    "duration": 13,
    "start_time": "2022-05-28T06:26:08.131Z"
   },
   {
    "duration": 12,
    "start_time": "2022-05-28T06:26:08.146Z"
   },
   {
    "duration": 12,
    "start_time": "2022-05-28T06:26:08.160Z"
   },
   {
    "duration": 34,
    "start_time": "2022-05-28T06:26:08.174Z"
   },
   {
    "duration": 12,
    "start_time": "2022-05-28T06:26:08.210Z"
   },
   {
    "duration": 15,
    "start_time": "2022-05-28T06:26:08.224Z"
   },
   {
    "duration": 5,
    "start_time": "2022-05-28T06:26:08.241Z"
   },
   {
    "duration": 7,
    "start_time": "2022-05-28T06:26:08.248Z"
   },
   {
    "duration": 8,
    "start_time": "2022-05-28T06:26:08.257Z"
   },
   {
    "duration": 40,
    "start_time": "2022-05-28T06:26:08.268Z"
   },
   {
    "duration": 23,
    "start_time": "2022-05-28T06:26:08.310Z"
   },
   {
    "duration": 12,
    "start_time": "2022-05-28T06:26:08.335Z"
   },
   {
    "duration": 5,
    "start_time": "2022-05-28T06:26:08.349Z"
   },
   {
    "duration": 7,
    "start_time": "2022-05-28T06:26:08.356Z"
   },
   {
    "duration": 22,
    "start_time": "2022-05-28T06:26:08.364Z"
   },
   {
    "duration": 41,
    "start_time": "2022-05-28T06:26:08.393Z"
   },
   {
    "duration": 21,
    "start_time": "2022-05-28T06:26:08.436Z"
   },
   {
    "duration": 21,
    "start_time": "2022-05-28T06:26:08.459Z"
   },
   {
    "duration": 15,
    "start_time": "2022-05-28T06:42:21.336Z"
   },
   {
    "duration": 13,
    "start_time": "2022-05-28T06:42:46.824Z"
   },
   {
    "duration": 18,
    "start_time": "2022-05-28T06:42:52.737Z"
   },
   {
    "duration": 87,
    "start_time": "2022-05-28T06:51:26.706Z"
   },
   {
    "duration": 23,
    "start_time": "2022-05-28T06:51:36.894Z"
   },
   {
    "duration": 20,
    "start_time": "2022-05-28T06:52:05.025Z"
   },
   {
    "duration": 17,
    "start_time": "2022-05-28T06:52:29.035Z"
   },
   {
    "duration": 20,
    "start_time": "2022-05-28T06:52:45.607Z"
   },
   {
    "duration": 23,
    "start_time": "2022-05-28T06:52:57.578Z"
   },
   {
    "duration": 18,
    "start_time": "2022-05-28T06:53:42.619Z"
   },
   {
    "duration": 23,
    "start_time": "2022-05-28T06:54:09.273Z"
   },
   {
    "duration": 489,
    "start_time": "2022-05-28T07:07:48.867Z"
   },
   {
    "duration": 17,
    "start_time": "2022-05-28T07:07:49.358Z"
   },
   {
    "duration": 16,
    "start_time": "2022-05-28T07:07:49.376Z"
   },
   {
    "duration": 16,
    "start_time": "2022-05-28T07:07:49.393Z"
   },
   {
    "duration": 24,
    "start_time": "2022-05-28T07:07:49.411Z"
   },
   {
    "duration": 70,
    "start_time": "2022-05-28T07:07:49.437Z"
   },
   {
    "duration": 14,
    "start_time": "2022-05-28T07:07:49.513Z"
   },
   {
    "duration": 7,
    "start_time": "2022-05-28T07:07:49.529Z"
   },
   {
    "duration": 6,
    "start_time": "2022-05-28T07:07:49.538Z"
   },
   {
    "duration": 5,
    "start_time": "2022-05-28T07:07:49.546Z"
   },
   {
    "duration": 5,
    "start_time": "2022-05-28T07:07:49.552Z"
   },
   {
    "duration": 5,
    "start_time": "2022-05-28T07:07:49.558Z"
   },
   {
    "duration": 7,
    "start_time": "2022-05-28T07:07:49.564Z"
   },
   {
    "duration": 35,
    "start_time": "2022-05-28T07:07:49.573Z"
   },
   {
    "duration": 42,
    "start_time": "2022-05-28T07:07:49.610Z"
   },
   {
    "duration": 9,
    "start_time": "2022-05-28T07:07:49.653Z"
   },
   {
    "duration": 5,
    "start_time": "2022-05-28T07:07:49.664Z"
   },
   {
    "duration": 7,
    "start_time": "2022-05-28T07:07:49.670Z"
   },
   {
    "duration": 16,
    "start_time": "2022-05-28T07:07:49.679Z"
   },
   {
    "duration": 17,
    "start_time": "2022-05-28T07:07:49.698Z"
   },
   {
    "duration": 16,
    "start_time": "2022-05-28T07:07:49.716Z"
   },
   {
    "duration": 17,
    "start_time": "2022-05-28T07:07:49.734Z"
   },
   {
    "duration": 16,
    "start_time": "2022-05-28T07:07:49.752Z"
   },
   {
    "duration": 34,
    "start_time": "2022-05-28T07:07:49.770Z"
   },
   {
    "duration": 16,
    "start_time": "2022-05-28T07:07:49.807Z"
   },
   {
    "duration": 9,
    "start_time": "2022-05-28T07:07:49.824Z"
   },
   {
    "duration": 12,
    "start_time": "2022-05-28T07:07:49.834Z"
   },
   {
    "duration": 9,
    "start_time": "2022-05-28T07:07:49.848Z"
   },
   {
    "duration": 12,
    "start_time": "2022-05-28T07:07:49.858Z"
   },
   {
    "duration": 37,
    "start_time": "2022-05-28T07:07:49.871Z"
   },
   {
    "duration": 9,
    "start_time": "2022-05-28T07:07:49.910Z"
   },
   {
    "duration": 4,
    "start_time": "2022-05-28T07:07:49.920Z"
   },
   {
    "duration": 12,
    "start_time": "2022-05-28T07:07:49.926Z"
   },
   {
    "duration": 4,
    "start_time": "2022-05-28T07:09:13.742Z"
   },
   {
    "duration": 3,
    "start_time": "2022-05-28T07:09:18.375Z"
   },
   {
    "duration": 512,
    "start_time": "2022-05-28T07:10:07.472Z"
   },
   {
    "duration": 32,
    "start_time": "2022-05-28T07:10:07.986Z"
   },
   {
    "duration": 27,
    "start_time": "2022-05-28T07:10:08.019Z"
   },
   {
    "duration": 11,
    "start_time": "2022-05-28T07:10:08.048Z"
   },
   {
    "duration": 25,
    "start_time": "2022-05-28T07:10:08.060Z"
   },
   {
    "duration": 66,
    "start_time": "2022-05-28T07:10:08.087Z"
   },
   {
    "duration": 14,
    "start_time": "2022-05-28T07:10:08.155Z"
   },
   {
    "duration": 7,
    "start_time": "2022-05-28T07:10:08.171Z"
   },
   {
    "duration": 24,
    "start_time": "2022-05-28T07:10:08.179Z"
   },
   {
    "duration": 25,
    "start_time": "2022-05-28T07:10:08.209Z"
   },
   {
    "duration": 10,
    "start_time": "2022-05-28T07:10:08.236Z"
   },
   {
    "duration": 10,
    "start_time": "2022-05-28T07:10:08.248Z"
   },
   {
    "duration": 8,
    "start_time": "2022-05-28T07:10:08.260Z"
   },
   {
    "duration": 16,
    "start_time": "2022-05-28T07:10:08.269Z"
   },
   {
    "duration": 60,
    "start_time": "2022-05-28T07:10:08.286Z"
   },
   {
    "duration": 9,
    "start_time": "2022-05-28T07:10:08.348Z"
   },
   {
    "duration": 9,
    "start_time": "2022-05-28T07:10:08.358Z"
   },
   {
    "duration": 11,
    "start_time": "2022-05-28T07:10:08.369Z"
   },
   {
    "duration": 14,
    "start_time": "2022-05-28T07:10:08.381Z"
   },
   {
    "duration": 22,
    "start_time": "2022-05-28T07:10:08.400Z"
   },
   {
    "duration": 19,
    "start_time": "2022-05-28T07:10:08.423Z"
   },
   {
    "duration": 19,
    "start_time": "2022-05-28T07:10:08.444Z"
   },
   {
    "duration": 35,
    "start_time": "2022-05-28T07:10:08.465Z"
   },
   {
    "duration": 13,
    "start_time": "2022-05-28T07:10:08.502Z"
   },
   {
    "duration": 24,
    "start_time": "2022-05-28T07:10:08.517Z"
   },
   {
    "duration": 10,
    "start_time": "2022-05-28T07:10:08.544Z"
   },
   {
    "duration": 9,
    "start_time": "2022-05-28T07:10:08.556Z"
   },
   {
    "duration": 10,
    "start_time": "2022-05-28T07:10:08.568Z"
   },
   {
    "duration": 29,
    "start_time": "2022-05-28T07:10:08.580Z"
   },
   {
    "duration": 22,
    "start_time": "2022-05-28T07:10:08.612Z"
   },
   {
    "duration": 12,
    "start_time": "2022-05-28T07:10:08.636Z"
   },
   {
    "duration": 3,
    "start_time": "2022-05-28T07:10:08.650Z"
   },
   {
    "duration": 6,
    "start_time": "2022-05-28T07:10:08.655Z"
   },
   {
    "duration": 5,
    "start_time": "2022-05-28T07:10:08.663Z"
   },
   {
    "duration": 6,
    "start_time": "2022-05-28T07:10:08.669Z"
   },
   {
    "duration": 43,
    "start_time": "2022-05-28T07:10:08.676Z"
   },
   {
    "duration": 15,
    "start_time": "2022-05-28T07:10:08.720Z"
   },
   {
    "duration": 5,
    "start_time": "2022-05-28T07:10:47.412Z"
   },
   {
    "duration": 8,
    "start_time": "2022-05-28T07:10:49.220Z"
   },
   {
    "duration": 486,
    "start_time": "2022-05-28T07:16:35.118Z"
   },
   {
    "duration": 22,
    "start_time": "2022-05-28T07:16:35.606Z"
   },
   {
    "duration": 19,
    "start_time": "2022-05-28T07:16:35.630Z"
   },
   {
    "duration": 9,
    "start_time": "2022-05-28T07:16:35.650Z"
   },
   {
    "duration": 45,
    "start_time": "2022-05-28T07:16:35.661Z"
   },
   {
    "duration": 63,
    "start_time": "2022-05-28T07:16:35.708Z"
   },
   {
    "duration": 9,
    "start_time": "2022-05-28T07:16:35.773Z"
   },
   {
    "duration": 41,
    "start_time": "2022-05-28T07:16:35.783Z"
   },
   {
    "duration": 9,
    "start_time": "2022-05-28T07:16:35.825Z"
   },
   {
    "duration": 22,
    "start_time": "2022-05-28T07:16:35.836Z"
   },
   {
    "duration": 25,
    "start_time": "2022-05-28T07:16:35.859Z"
   },
   {
    "duration": 42,
    "start_time": "2022-05-28T07:16:35.885Z"
   },
   {
    "duration": 23,
    "start_time": "2022-05-28T07:16:35.928Z"
   },
   {
    "duration": 21,
    "start_time": "2022-05-28T07:16:35.954Z"
   },
   {
    "duration": 89,
    "start_time": "2022-05-28T07:16:35.977Z"
   },
   {
    "duration": 9,
    "start_time": "2022-05-28T07:16:36.067Z"
   },
   {
    "duration": 13,
    "start_time": "2022-05-28T07:16:36.078Z"
   },
   {
    "duration": 44,
    "start_time": "2022-05-28T07:16:36.093Z"
   },
   {
    "duration": 13,
    "start_time": "2022-05-28T07:16:36.139Z"
   },
   {
    "duration": 33,
    "start_time": "2022-05-28T07:16:36.153Z"
   },
   {
    "duration": 30,
    "start_time": "2022-05-28T07:16:36.187Z"
   },
   {
    "duration": 28,
    "start_time": "2022-05-28T07:16:36.218Z"
   },
   {
    "duration": 15,
    "start_time": "2022-05-28T07:16:36.247Z"
   },
   {
    "duration": 6,
    "start_time": "2022-05-28T07:16:36.264Z"
   },
   {
    "duration": 54,
    "start_time": "2022-05-28T07:16:36.272Z"
   },
   {
    "duration": 12,
    "start_time": "2022-05-28T07:16:36.328Z"
   },
   {
    "duration": 30,
    "start_time": "2022-05-28T07:16:36.341Z"
   },
   {
    "duration": 12,
    "start_time": "2022-05-28T07:16:36.372Z"
   },
   {
    "duration": 50,
    "start_time": "2022-05-28T07:16:36.385Z"
   },
   {
    "duration": 32,
    "start_time": "2022-05-28T07:16:36.437Z"
   },
   {
    "duration": 25,
    "start_time": "2022-05-28T07:16:36.470Z"
   },
   {
    "duration": 30,
    "start_time": "2022-05-28T07:16:36.496Z"
   },
   {
    "duration": 11,
    "start_time": "2022-05-28T07:16:36.527Z"
   },
   {
    "duration": 26,
    "start_time": "2022-05-28T07:16:36.540Z"
   },
   {
    "duration": 18,
    "start_time": "2022-05-28T07:16:36.568Z"
   },
   {
    "duration": 45,
    "start_time": "2022-05-28T07:16:36.587Z"
   },
   {
    "duration": 35,
    "start_time": "2022-05-28T07:16:36.633Z"
   },
   {
    "duration": 21,
    "start_time": "2022-05-28T07:16:36.669Z"
   },
   {
    "duration": 42,
    "start_time": "2022-05-28T07:16:36.691Z"
   },
   {
    "duration": 40,
    "start_time": "2022-05-28T07:16:36.734Z"
   },
   {
    "duration": 61,
    "start_time": "2022-05-28T07:16:36.777Z"
   },
   {
    "duration": 37,
    "start_time": "2022-05-28T07:16:36.839Z"
   },
   {
    "duration": 28,
    "start_time": "2022-05-28T07:16:36.877Z"
   },
   {
    "duration": 31,
    "start_time": "2022-05-28T07:16:36.915Z"
   },
   {
    "duration": 19,
    "start_time": "2022-05-28T07:16:36.947Z"
   },
   {
    "duration": 57,
    "start_time": "2022-05-28T07:54:40.724Z"
   },
   {
    "duration": 507,
    "start_time": "2022-05-28T08:23:24.458Z"
   },
   {
    "duration": 46,
    "start_time": "2022-05-28T08:23:24.967Z"
   },
   {
    "duration": 33,
    "start_time": "2022-05-28T08:23:25.015Z"
   },
   {
    "duration": 14,
    "start_time": "2022-05-28T08:23:25.051Z"
   },
   {
    "duration": 21,
    "start_time": "2022-05-28T08:23:25.067Z"
   },
   {
    "duration": 67,
    "start_time": "2022-05-28T08:23:25.090Z"
   },
   {
    "duration": 10,
    "start_time": "2022-05-28T08:23:25.158Z"
   },
   {
    "duration": 20,
    "start_time": "2022-05-28T08:23:25.169Z"
   },
   {
    "duration": 37,
    "start_time": "2022-05-28T08:23:25.191Z"
   },
   {
    "duration": 24,
    "start_time": "2022-05-28T08:23:25.230Z"
   },
   {
    "duration": 5,
    "start_time": "2022-05-28T08:23:25.255Z"
   },
   {
    "duration": 24,
    "start_time": "2022-05-28T08:23:25.262Z"
   },
   {
    "duration": 21,
    "start_time": "2022-05-28T08:23:25.287Z"
   },
   {
    "duration": 28,
    "start_time": "2022-05-28T08:23:25.310Z"
   },
   {
    "duration": 74,
    "start_time": "2022-05-28T08:23:25.339Z"
   },
   {
    "duration": 14,
    "start_time": "2022-05-28T08:23:25.416Z"
   },
   {
    "duration": 24,
    "start_time": "2022-05-28T08:23:25.432Z"
   },
   {
    "duration": 107,
    "start_time": "2022-05-28T08:25:31.985Z"
   },
   {
    "duration": 10,
    "start_time": "2022-05-28T08:26:25.071Z"
   },
   {
    "duration": 21,
    "start_time": "2022-05-28T08:26:38.485Z"
   },
   {
    "duration": 21,
    "start_time": "2022-05-28T08:28:26.925Z"
   },
   {
    "duration": 12,
    "start_time": "2022-05-28T08:28:49.989Z"
   },
   {
    "duration": 10,
    "start_time": "2022-05-28T08:28:58.652Z"
   },
   {
    "duration": 14,
    "start_time": "2022-05-28T08:32:56.351Z"
   },
   {
    "duration": 10,
    "start_time": "2022-05-28T08:33:07.644Z"
   },
   {
    "duration": 13,
    "start_time": "2022-05-28T08:33:16.630Z"
   },
   {
    "duration": 25,
    "start_time": "2022-05-28T08:37:31.714Z"
   },
   {
    "duration": 24,
    "start_time": "2022-05-28T08:37:34.409Z"
   },
   {
    "duration": 16,
    "start_time": "2022-05-28T08:38:12.532Z"
   },
   {
    "duration": 250,
    "start_time": "2022-05-28T08:38:24.530Z"
   },
   {
    "duration": 20,
    "start_time": "2022-05-28T08:38:33.519Z"
   },
   {
    "duration": 46,
    "start_time": "2022-05-28T08:38:43.778Z"
   },
   {
    "duration": 7,
    "start_time": "2022-05-28T08:41:50.411Z"
   },
   {
    "duration": 7,
    "start_time": "2022-05-28T08:42:24.873Z"
   },
   {
    "duration": 9,
    "start_time": "2022-05-28T08:44:03.376Z"
   },
   {
    "duration": 19,
    "start_time": "2022-05-28T08:44:13.417Z"
   },
   {
    "duration": 20,
    "start_time": "2022-05-28T08:44:21.945Z"
   },
   {
    "duration": 23,
    "start_time": "2022-05-28T08:44:53.820Z"
   },
   {
    "duration": 3,
    "start_time": "2022-05-28T08:45:42.079Z"
   },
   {
    "duration": 544,
    "start_time": "2022-05-28T08:46:03.424Z"
   },
   {
    "duration": 25,
    "start_time": "2022-05-28T08:46:03.971Z"
   },
   {
    "duration": 33,
    "start_time": "2022-05-28T08:46:04.010Z"
   },
   {
    "duration": 15,
    "start_time": "2022-05-28T08:46:04.045Z"
   },
   {
    "duration": 33,
    "start_time": "2022-05-28T08:46:04.064Z"
   },
   {
    "duration": 70,
    "start_time": "2022-05-28T08:46:04.107Z"
   },
   {
    "duration": 20,
    "start_time": "2022-05-28T08:46:04.180Z"
   },
   {
    "duration": 48,
    "start_time": "2022-05-28T08:46:04.202Z"
   },
   {
    "duration": 30,
    "start_time": "2022-05-28T08:46:04.253Z"
   },
   {
    "duration": 55,
    "start_time": "2022-05-28T08:46:04.285Z"
   },
   {
    "duration": 11,
    "start_time": "2022-05-28T08:46:04.343Z"
   },
   {
    "duration": 6,
    "start_time": "2022-05-28T08:46:04.358Z"
   },
   {
    "duration": 14,
    "start_time": "2022-05-28T08:46:04.366Z"
   },
   {
    "duration": 16,
    "start_time": "2022-05-28T08:46:04.383Z"
   },
   {
    "duration": 90,
    "start_time": "2022-05-28T08:46:04.402Z"
   },
   {
    "duration": 15,
    "start_time": "2022-05-28T08:46:04.494Z"
   },
   {
    "duration": 35,
    "start_time": "2022-05-28T08:46:04.511Z"
   },
   {
    "duration": 23,
    "start_time": "2022-05-28T08:46:13.709Z"
   },
   {
    "duration": 494,
    "start_time": "2022-05-28T09:12:38.172Z"
   },
   {
    "duration": 18,
    "start_time": "2022-05-28T09:12:38.668Z"
   },
   {
    "duration": 26,
    "start_time": "2022-05-28T09:12:38.688Z"
   },
   {
    "duration": 11,
    "start_time": "2022-05-28T09:12:38.715Z"
   },
   {
    "duration": 28,
    "start_time": "2022-05-28T09:12:38.729Z"
   },
   {
    "duration": 69,
    "start_time": "2022-05-28T09:12:38.759Z"
   },
   {
    "duration": 11,
    "start_time": "2022-05-28T09:12:38.830Z"
   },
   {
    "duration": 9,
    "start_time": "2022-05-28T09:12:38.843Z"
   },
   {
    "duration": 8,
    "start_time": "2022-05-28T09:12:38.853Z"
   },
   {
    "duration": 13,
    "start_time": "2022-05-28T09:12:38.862Z"
   },
   {
    "duration": 23,
    "start_time": "2022-05-28T09:12:38.877Z"
   },
   {
    "duration": 32,
    "start_time": "2022-05-28T09:12:38.901Z"
   },
   {
    "duration": 17,
    "start_time": "2022-05-28T09:12:38.935Z"
   },
   {
    "duration": 11,
    "start_time": "2022-05-28T09:12:38.955Z"
   },
   {
    "duration": 74,
    "start_time": "2022-05-28T09:12:38.967Z"
   },
   {
    "duration": 12,
    "start_time": "2022-05-28T09:12:39.043Z"
   },
   {
    "duration": 12,
    "start_time": "2022-05-28T09:12:39.057Z"
   },
   {
    "duration": 474,
    "start_time": "2022-05-28T09:32:24.862Z"
   },
   {
    "duration": 19,
    "start_time": "2022-05-28T09:32:25.337Z"
   },
   {
    "duration": 32,
    "start_time": "2022-05-28T09:32:25.358Z"
   },
   {
    "duration": 17,
    "start_time": "2022-05-28T09:32:25.392Z"
   },
   {
    "duration": 21,
    "start_time": "2022-05-28T09:32:25.410Z"
   },
   {
    "duration": 43,
    "start_time": "2022-05-28T09:32:25.432Z"
   },
   {
    "duration": 35,
    "start_time": "2022-05-28T09:32:25.477Z"
   },
   {
    "duration": 7,
    "start_time": "2022-05-28T09:32:25.514Z"
   },
   {
    "duration": 4,
    "start_time": "2022-05-28T09:32:25.523Z"
   },
   {
    "duration": 6,
    "start_time": "2022-05-28T09:32:25.529Z"
   },
   {
    "duration": 4,
    "start_time": "2022-05-28T09:32:25.536Z"
   },
   {
    "duration": 7,
    "start_time": "2022-05-28T09:32:25.542Z"
   },
   {
    "duration": 32,
    "start_time": "2022-05-28T09:32:25.551Z"
   },
   {
    "duration": 46,
    "start_time": "2022-05-28T09:32:25.585Z"
   },
   {
    "duration": 75,
    "start_time": "2022-05-28T09:32:25.633Z"
   },
   {
    "duration": 11,
    "start_time": "2022-05-28T09:32:25.711Z"
   },
   {
    "duration": 15,
    "start_time": "2022-05-28T09:32:25.723Z"
   },
   {
    "duration": 13,
    "start_time": "2022-05-28T11:05:47.610Z"
   },
   {
    "duration": 14,
    "start_time": "2022-05-28T11:07:02.744Z"
   },
   {
    "duration": 16,
    "start_time": "2022-05-28T11:07:33.573Z"
   },
   {
    "duration": 12,
    "start_time": "2022-05-28T11:07:44.526Z"
   },
   {
    "duration": 526,
    "start_time": "2022-05-28T11:08:13.960Z"
   },
   {
    "duration": 32,
    "start_time": "2022-05-28T11:08:14.488Z"
   },
   {
    "duration": 25,
    "start_time": "2022-05-28T11:08:14.523Z"
   },
   {
    "duration": 15,
    "start_time": "2022-05-28T11:08:14.552Z"
   },
   {
    "duration": 45,
    "start_time": "2022-05-28T11:08:14.569Z"
   },
   {
    "duration": 45,
    "start_time": "2022-05-28T11:08:14.616Z"
   },
   {
    "duration": 11,
    "start_time": "2022-05-28T11:08:14.663Z"
   },
   {
    "duration": 27,
    "start_time": "2022-05-28T11:08:14.676Z"
   },
   {
    "duration": 17,
    "start_time": "2022-05-28T11:08:14.704Z"
   },
   {
    "duration": 5,
    "start_time": "2022-05-28T11:08:14.724Z"
   },
   {
    "duration": 11,
    "start_time": "2022-05-28T11:08:14.730Z"
   },
   {
    "duration": 5,
    "start_time": "2022-05-28T11:08:14.742Z"
   },
   {
    "duration": 11,
    "start_time": "2022-05-28T11:08:14.748Z"
   },
   {
    "duration": 12,
    "start_time": "2022-05-28T11:08:14.761Z"
   },
   {
    "duration": 62,
    "start_time": "2022-05-28T11:08:14.775Z"
   },
   {
    "duration": 11,
    "start_time": "2022-05-28T11:08:14.838Z"
   },
   {
    "duration": 6,
    "start_time": "2022-05-28T11:08:14.851Z"
   },
   {
    "duration": 12,
    "start_time": "2022-05-28T11:08:14.858Z"
   },
   {
    "duration": 23,
    "start_time": "2022-05-28T11:08:14.872Z"
   },
   {
    "duration": 11,
    "start_time": "2022-05-28T11:08:14.896Z"
   },
   {
    "duration": 20,
    "start_time": "2022-05-28T11:08:14.909Z"
   },
   {
    "duration": 14,
    "start_time": "2022-05-28T11:08:14.930Z"
   },
   {
    "duration": 51,
    "start_time": "2022-05-28T11:08:14.946Z"
   },
   {
    "duration": 20,
    "start_time": "2022-05-28T11:08:15.003Z"
   },
   {
    "duration": 9,
    "start_time": "2022-05-28T11:08:15.024Z"
   },
   {
    "duration": 27,
    "start_time": "2022-05-28T11:08:15.035Z"
   },
   {
    "duration": 14,
    "start_time": "2022-05-28T11:08:15.063Z"
   },
   {
    "duration": 30,
    "start_time": "2022-05-28T11:08:15.081Z"
   },
   {
    "duration": 11,
    "start_time": "2022-05-28T11:08:15.113Z"
   },
   {
    "duration": 14,
    "start_time": "2022-05-28T11:08:15.125Z"
   },
   {
    "duration": 13,
    "start_time": "2022-05-28T11:08:15.140Z"
   },
   {
    "duration": 15,
    "start_time": "2022-05-28T11:08:15.155Z"
   },
   {
    "duration": 5,
    "start_time": "2022-05-28T11:08:15.171Z"
   },
   {
    "duration": 4,
    "start_time": "2022-05-28T11:08:15.197Z"
   },
   {
    "duration": 18,
    "start_time": "2022-05-28T11:08:15.202Z"
   },
   {
    "duration": 7,
    "start_time": "2022-05-28T11:08:15.221Z"
   },
   {
    "duration": 20,
    "start_time": "2022-05-28T11:08:15.230Z"
   },
   {
    "duration": 7,
    "start_time": "2022-05-28T11:08:15.252Z"
   },
   {
    "duration": 8,
    "start_time": "2022-05-28T11:08:15.261Z"
   },
   {
    "duration": 34,
    "start_time": "2022-05-28T11:08:15.271Z"
   },
   {
    "duration": 25,
    "start_time": "2022-05-28T11:08:15.308Z"
   },
   {
    "duration": 23,
    "start_time": "2022-05-28T11:08:15.334Z"
   },
   {
    "duration": 38,
    "start_time": "2022-05-28T11:08:15.359Z"
   },
   {
    "duration": 42,
    "start_time": "2022-05-28T11:08:15.404Z"
   },
   {
    "duration": 25,
    "start_time": "2022-05-28T11:08:15.448Z"
   },
   {
    "duration": 41,
    "start_time": "2022-05-28T11:08:15.475Z"
   },
   {
    "duration": 501,
    "start_time": "2022-05-28T11:09:20.610Z"
   },
   {
    "duration": 20,
    "start_time": "2022-05-28T11:09:21.114Z"
   },
   {
    "duration": 17,
    "start_time": "2022-05-28T11:09:21.136Z"
   },
   {
    "duration": 14,
    "start_time": "2022-05-28T11:09:21.156Z"
   },
   {
    "duration": 29,
    "start_time": "2022-05-28T11:09:21.197Z"
   },
   {
    "duration": 52,
    "start_time": "2022-05-28T11:09:21.228Z"
   },
   {
    "duration": 32,
    "start_time": "2022-05-28T11:09:21.281Z"
   },
   {
    "duration": 9,
    "start_time": "2022-05-28T11:09:21.315Z"
   },
   {
    "duration": 6,
    "start_time": "2022-05-28T11:09:21.326Z"
   },
   {
    "duration": 6,
    "start_time": "2022-05-28T11:09:21.334Z"
   },
   {
    "duration": 6,
    "start_time": "2022-05-28T11:09:21.342Z"
   },
   {
    "duration": 5,
    "start_time": "2022-05-28T11:09:21.350Z"
   },
   {
    "duration": 46,
    "start_time": "2022-05-28T11:09:21.357Z"
   },
   {
    "duration": 11,
    "start_time": "2022-05-28T11:09:21.413Z"
   },
   {
    "duration": 45,
    "start_time": "2022-05-28T11:09:21.425Z"
   },
   {
    "duration": 11,
    "start_time": "2022-05-28T11:09:21.472Z"
   },
   {
    "duration": 9,
    "start_time": "2022-05-28T11:09:21.495Z"
   },
   {
    "duration": 15,
    "start_time": "2022-05-28T11:09:21.510Z"
   },
   {
    "duration": 518,
    "start_time": "2022-05-28T11:15:15.729Z"
   },
   {
    "duration": 20,
    "start_time": "2022-05-28T11:15:16.249Z"
   },
   {
    "duration": 25,
    "start_time": "2022-05-28T11:15:16.270Z"
   },
   {
    "duration": 12,
    "start_time": "2022-05-28T11:15:16.309Z"
   },
   {
    "duration": 18,
    "start_time": "2022-05-28T11:15:16.323Z"
   },
   {
    "duration": 69,
    "start_time": "2022-05-28T11:15:16.344Z"
   },
   {
    "duration": 12,
    "start_time": "2022-05-28T11:15:16.415Z"
   },
   {
    "duration": 8,
    "start_time": "2022-05-28T11:15:16.429Z"
   },
   {
    "duration": 6,
    "start_time": "2022-05-28T11:15:16.439Z"
   },
   {
    "duration": 5,
    "start_time": "2022-05-28T11:15:16.448Z"
   },
   {
    "duration": 8,
    "start_time": "2022-05-28T11:15:16.454Z"
   },
   {
    "duration": 37,
    "start_time": "2022-05-28T11:15:16.463Z"
   },
   {
    "duration": 20,
    "start_time": "2022-05-28T11:15:16.501Z"
   },
   {
    "duration": 10,
    "start_time": "2022-05-28T11:15:16.522Z"
   },
   {
    "duration": 51,
    "start_time": "2022-05-28T11:15:16.534Z"
   },
   {
    "duration": 25,
    "start_time": "2022-05-28T11:15:16.587Z"
   },
   {
    "duration": 7,
    "start_time": "2022-05-28T11:15:16.614Z"
   },
   {
    "duration": 22,
    "start_time": "2022-05-28T11:15:16.622Z"
   },
   {
    "duration": 16,
    "start_time": "2022-05-28T11:15:38.593Z"
   },
   {
    "duration": 72,
    "start_time": "2022-05-28T11:16:55.869Z"
   },
   {
    "duration": 16,
    "start_time": "2022-05-28T11:17:08.263Z"
   },
   {
    "duration": 17,
    "start_time": "2022-05-28T11:17:24.055Z"
   },
   {
    "duration": 19,
    "start_time": "2022-05-28T11:17:48.391Z"
   },
   {
    "duration": 16,
    "start_time": "2022-05-28T11:17:55.931Z"
   },
   {
    "duration": 17,
    "start_time": "2022-05-28T11:18:02.645Z"
   },
   {
    "duration": 439,
    "start_time": "2022-05-28T11:18:35.853Z"
   },
   {
    "duration": 25,
    "start_time": "2022-05-28T11:19:36.891Z"
   },
   {
    "duration": 10,
    "start_time": "2022-05-28T11:19:53.109Z"
   },
   {
    "duration": 25,
    "start_time": "2022-05-28T11:20:10.894Z"
   },
   {
    "duration": 8,
    "start_time": "2022-05-28T11:20:37.583Z"
   },
   {
    "duration": 13,
    "start_time": "2022-05-28T11:20:51.713Z"
   },
   {
    "duration": 6,
    "start_time": "2022-05-28T11:21:01.523Z"
   },
   {
    "duration": 18,
    "start_time": "2022-05-28T11:21:32.729Z"
   },
   {
    "duration": 11,
    "start_time": "2022-05-28T11:21:40.417Z"
   },
   {
    "duration": 504,
    "start_time": "2022-05-28T11:21:55.923Z"
   },
   {
    "duration": 21,
    "start_time": "2022-05-28T11:21:56.429Z"
   },
   {
    "duration": 17,
    "start_time": "2022-05-28T11:21:56.452Z"
   },
   {
    "duration": 38,
    "start_time": "2022-05-28T11:21:56.472Z"
   },
   {
    "duration": 18,
    "start_time": "2022-05-28T11:21:56.512Z"
   },
   {
    "duration": 44,
    "start_time": "2022-05-28T11:21:56.531Z"
   },
   {
    "duration": 19,
    "start_time": "2022-05-28T11:21:56.576Z"
   },
   {
    "duration": 10,
    "start_time": "2022-05-28T11:21:56.606Z"
   },
   {
    "duration": 5,
    "start_time": "2022-05-28T11:21:56.619Z"
   },
   {
    "duration": 5,
    "start_time": "2022-05-28T11:21:56.628Z"
   },
   {
    "duration": 4,
    "start_time": "2022-05-28T11:21:56.635Z"
   },
   {
    "duration": 4,
    "start_time": "2022-05-28T11:21:56.641Z"
   },
   {
    "duration": 6,
    "start_time": "2022-05-28T11:21:56.647Z"
   },
   {
    "duration": 54,
    "start_time": "2022-05-28T11:21:56.655Z"
   },
   {
    "duration": 44,
    "start_time": "2022-05-28T11:21:56.710Z"
   },
   {
    "duration": 10,
    "start_time": "2022-05-28T11:21:56.756Z"
   },
   {
    "duration": 6,
    "start_time": "2022-05-28T11:21:56.767Z"
   },
   {
    "duration": 34,
    "start_time": "2022-05-28T11:21:56.775Z"
   },
   {
    "duration": 7,
    "start_time": "2022-05-28T11:21:56.810Z"
   },
   {
    "duration": 17,
    "start_time": "2022-05-28T11:21:56.818Z"
   },
   {
    "duration": 8,
    "start_time": "2022-05-28T11:21:56.836Z"
   },
   {
    "duration": 95,
    "start_time": "2022-05-28T11:22:02.421Z"
   },
   {
    "duration": 501,
    "start_time": "2022-05-28T11:22:11.310Z"
   },
   {
    "duration": 20,
    "start_time": "2022-05-28T11:22:11.813Z"
   },
   {
    "duration": 15,
    "start_time": "2022-05-28T11:22:11.835Z"
   },
   {
    "duration": 9,
    "start_time": "2022-05-28T11:22:11.852Z"
   },
   {
    "duration": 43,
    "start_time": "2022-05-28T11:22:11.862Z"
   },
   {
    "duration": 47,
    "start_time": "2022-05-28T11:22:11.907Z"
   },
   {
    "duration": 9,
    "start_time": "2022-05-28T11:22:11.956Z"
   },
   {
    "duration": 7,
    "start_time": "2022-05-28T11:22:11.966Z"
   },
   {
    "duration": 22,
    "start_time": "2022-05-28T11:22:11.975Z"
   },
   {
    "duration": 7,
    "start_time": "2022-05-28T11:22:11.999Z"
   },
   {
    "duration": 10,
    "start_time": "2022-05-28T11:22:12.009Z"
   },
   {
    "duration": 6,
    "start_time": "2022-05-28T11:22:12.020Z"
   },
   {
    "duration": 11,
    "start_time": "2022-05-28T11:22:12.027Z"
   },
   {
    "duration": 20,
    "start_time": "2022-05-28T11:22:12.039Z"
   },
   {
    "duration": 70,
    "start_time": "2022-05-28T11:22:12.061Z"
   },
   {
    "duration": 9,
    "start_time": "2022-05-28T11:22:12.133Z"
   },
   {
    "duration": 9,
    "start_time": "2022-05-28T11:22:12.144Z"
   },
   {
    "duration": 11,
    "start_time": "2022-05-28T11:22:12.155Z"
   },
   {
    "duration": 7,
    "start_time": "2022-05-28T11:22:12.168Z"
   },
   {
    "duration": 25,
    "start_time": "2022-05-28T11:22:12.194Z"
   },
   {
    "duration": 17,
    "start_time": "2022-05-28T11:22:12.221Z"
   },
   {
    "duration": 520,
    "start_time": "2022-05-28T11:23:18.425Z"
   },
   {
    "duration": 25,
    "start_time": "2022-05-28T11:23:18.948Z"
   },
   {
    "duration": 41,
    "start_time": "2022-05-28T11:23:18.976Z"
   },
   {
    "duration": 20,
    "start_time": "2022-05-28T11:23:19.020Z"
   },
   {
    "duration": 24,
    "start_time": "2022-05-28T11:23:19.044Z"
   },
   {
    "duration": 80,
    "start_time": "2022-05-28T11:23:19.069Z"
   },
   {
    "duration": 13,
    "start_time": "2022-05-28T11:23:19.151Z"
   },
   {
    "duration": 21,
    "start_time": "2022-05-28T11:23:19.166Z"
   },
   {
    "duration": 49,
    "start_time": "2022-05-28T11:23:19.190Z"
   },
   {
    "duration": 23,
    "start_time": "2022-05-28T11:23:19.241Z"
   },
   {
    "duration": 19,
    "start_time": "2022-05-28T11:23:19.266Z"
   },
   {
    "duration": 28,
    "start_time": "2022-05-28T11:23:19.287Z"
   },
   {
    "duration": 9,
    "start_time": "2022-05-28T11:23:19.317Z"
   },
   {
    "duration": 11,
    "start_time": "2022-05-28T11:23:19.329Z"
   },
   {
    "duration": 45,
    "start_time": "2022-05-28T11:23:19.342Z"
   },
   {
    "duration": 22,
    "start_time": "2022-05-28T11:23:19.389Z"
   },
   {
    "duration": 6,
    "start_time": "2022-05-28T11:23:19.413Z"
   },
   {
    "duration": 21,
    "start_time": "2022-05-28T11:23:23.800Z"
   },
   {
    "duration": 546,
    "start_time": "2022-05-28T11:24:30.094Z"
   },
   {
    "duration": 21,
    "start_time": "2022-05-28T11:24:30.642Z"
   },
   {
    "duration": 31,
    "start_time": "2022-05-28T11:24:30.665Z"
   },
   {
    "duration": 18,
    "start_time": "2022-05-28T11:24:30.698Z"
   },
   {
    "duration": 39,
    "start_time": "2022-05-28T11:24:30.719Z"
   },
   {
    "duration": 60,
    "start_time": "2022-05-28T11:24:30.760Z"
   },
   {
    "duration": 12,
    "start_time": "2022-05-28T11:24:30.822Z"
   },
   {
    "duration": 11,
    "start_time": "2022-05-28T11:24:30.836Z"
   },
   {
    "duration": 17,
    "start_time": "2022-05-28T11:24:30.849Z"
   },
   {
    "duration": 21,
    "start_time": "2022-05-28T11:24:30.867Z"
   },
   {
    "duration": 33,
    "start_time": "2022-05-28T11:24:30.889Z"
   },
   {
    "duration": 11,
    "start_time": "2022-05-28T11:24:30.923Z"
   },
   {
    "duration": 17,
    "start_time": "2022-05-28T11:24:30.937Z"
   },
   {
    "duration": 16,
    "start_time": "2022-05-28T11:24:30.958Z"
   },
   {
    "duration": 74,
    "start_time": "2022-05-28T11:24:30.977Z"
   },
   {
    "duration": 13,
    "start_time": "2022-05-28T11:24:31.053Z"
   },
   {
    "duration": 15,
    "start_time": "2022-05-28T11:24:31.069Z"
   },
   {
    "duration": 9,
    "start_time": "2022-05-28T11:24:36.514Z"
   },
   {
    "duration": 567,
    "start_time": "2022-05-28T11:24:58.484Z"
   },
   {
    "duration": 24,
    "start_time": "2022-05-28T11:24:59.053Z"
   },
   {
    "duration": 39,
    "start_time": "2022-05-28T11:24:59.078Z"
   },
   {
    "duration": 21,
    "start_time": "2022-05-28T11:24:59.121Z"
   },
   {
    "duration": 26,
    "start_time": "2022-05-28T11:24:59.144Z"
   },
   {
    "duration": 67,
    "start_time": "2022-05-28T11:24:59.173Z"
   },
   {
    "duration": 14,
    "start_time": "2022-05-28T11:24:59.244Z"
   },
   {
    "duration": 19,
    "start_time": "2022-05-28T11:24:59.261Z"
   },
   {
    "duration": 49,
    "start_time": "2022-05-28T11:24:59.282Z"
   },
   {
    "duration": 10,
    "start_time": "2022-05-28T11:24:59.333Z"
   },
   {
    "duration": 9,
    "start_time": "2022-05-28T11:24:59.345Z"
   },
   {
    "duration": 7,
    "start_time": "2022-05-28T11:24:59.355Z"
   },
   {
    "duration": 6,
    "start_time": "2022-05-28T11:24:59.364Z"
   },
   {
    "duration": 7,
    "start_time": "2022-05-28T11:24:59.372Z"
   },
   {
    "duration": 67,
    "start_time": "2022-05-28T11:24:59.380Z"
   },
   {
    "duration": 14,
    "start_time": "2022-05-28T11:24:59.449Z"
   },
   {
    "duration": 6,
    "start_time": "2022-05-28T11:25:02.167Z"
   },
   {
    "duration": 15,
    "start_time": "2022-05-28T11:26:05.296Z"
   },
   {
    "duration": 22,
    "start_time": "2022-05-28T11:26:14.413Z"
   },
   {
    "duration": 13,
    "start_time": "2022-05-28T11:26:17.824Z"
   },
   {
    "duration": 16,
    "start_time": "2022-05-28T11:26:21.320Z"
   },
   {
    "duration": 694,
    "start_time": "2022-05-28T11:28:10.852Z"
   },
   {
    "duration": 21,
    "start_time": "2022-05-28T11:28:11.547Z"
   },
   {
    "duration": 32,
    "start_time": "2022-05-28T11:28:11.570Z"
   },
   {
    "duration": 14,
    "start_time": "2022-05-28T11:28:11.607Z"
   },
   {
    "duration": 18,
    "start_time": "2022-05-28T11:28:11.623Z"
   },
   {
    "duration": 60,
    "start_time": "2022-05-28T11:28:11.643Z"
   },
   {
    "duration": 20,
    "start_time": "2022-05-28T11:28:11.709Z"
   },
   {
    "duration": 8,
    "start_time": "2022-05-28T11:28:11.731Z"
   },
   {
    "duration": 7,
    "start_time": "2022-05-28T11:28:11.741Z"
   },
   {
    "duration": 5,
    "start_time": "2022-05-28T11:28:11.750Z"
   },
   {
    "duration": 38,
    "start_time": "2022-05-28T11:28:11.757Z"
   },
   {
    "duration": 5,
    "start_time": "2022-05-28T11:28:11.797Z"
   },
   {
    "duration": 17,
    "start_time": "2022-05-28T11:28:11.807Z"
   },
   {
    "duration": 9,
    "start_time": "2022-05-28T11:28:11.827Z"
   },
   {
    "duration": 59,
    "start_time": "2022-05-28T11:28:11.838Z"
   },
   {
    "duration": 11,
    "start_time": "2022-05-28T11:28:11.911Z"
   },
   {
    "duration": 8,
    "start_time": "2022-05-28T11:28:11.925Z"
   },
   {
    "duration": 11,
    "start_time": "2022-05-28T11:28:11.936Z"
   },
   {
    "duration": 7,
    "start_time": "2022-05-28T11:28:11.950Z"
   },
   {
    "duration": 19,
    "start_time": "2022-05-28T11:28:11.959Z"
   },
   {
    "duration": 19,
    "start_time": "2022-05-28T11:28:11.995Z"
   },
   {
    "duration": 5,
    "start_time": "2022-05-28T11:29:11.737Z"
   },
   {
    "duration": 22,
    "start_time": "2022-05-28T11:29:13.649Z"
   },
   {
    "duration": 592,
    "start_time": "2022-05-28T11:32:39.497Z"
   },
   {
    "duration": 35,
    "start_time": "2022-05-28T11:32:40.091Z"
   },
   {
    "duration": 31,
    "start_time": "2022-05-28T11:32:40.131Z"
   },
   {
    "duration": 14,
    "start_time": "2022-05-28T11:32:40.165Z"
   },
   {
    "duration": 42,
    "start_time": "2022-05-28T11:32:40.181Z"
   },
   {
    "duration": 54,
    "start_time": "2022-05-28T11:32:40.226Z"
   },
   {
    "duration": 27,
    "start_time": "2022-05-28T11:32:40.282Z"
   },
   {
    "duration": 21,
    "start_time": "2022-05-28T11:32:40.311Z"
   },
   {
    "duration": 6,
    "start_time": "2022-05-28T11:32:40.335Z"
   },
   {
    "duration": 8,
    "start_time": "2022-05-28T11:32:40.344Z"
   },
   {
    "duration": 14,
    "start_time": "2022-05-28T11:32:40.353Z"
   },
   {
    "duration": 6,
    "start_time": "2022-05-28T11:32:40.369Z"
   },
   {
    "duration": 32,
    "start_time": "2022-05-28T11:32:40.376Z"
   },
   {
    "duration": 29,
    "start_time": "2022-05-28T11:32:40.410Z"
   },
   {
    "duration": 73,
    "start_time": "2022-05-28T11:32:40.441Z"
   },
   {
    "duration": 19,
    "start_time": "2022-05-28T11:32:40.516Z"
   },
   {
    "duration": 15,
    "start_time": "2022-05-28T11:32:40.537Z"
   },
   {
    "duration": 9,
    "start_time": "2022-05-28T11:32:40.555Z"
   },
   {
    "duration": 7,
    "start_time": "2022-05-28T11:32:40.566Z"
   },
   {
    "duration": 41,
    "start_time": "2022-05-28T11:32:40.576Z"
   },
   {
    "duration": 24,
    "start_time": "2022-05-28T11:32:40.619Z"
   },
   {
    "duration": 18,
    "start_time": "2022-05-28T11:32:40.645Z"
   },
   {
    "duration": 47,
    "start_time": "2022-05-28T11:32:40.666Z"
   },
   {
    "duration": 11,
    "start_time": "2022-05-28T11:32:43.929Z"
   },
   {
    "duration": 22,
    "start_time": "2022-05-28T11:32:48.970Z"
   },
   {
    "duration": 9,
    "start_time": "2022-05-28T11:32:51.842Z"
   },
   {
    "duration": 9,
    "start_time": "2022-05-28T11:32:57.853Z"
   },
   {
    "duration": 21,
    "start_time": "2022-05-28T11:33:00.998Z"
   },
   {
    "duration": 36,
    "start_time": "2022-05-28T11:33:06.812Z"
   },
   {
    "duration": 19,
    "start_time": "2022-05-28T11:33:09.722Z"
   },
   {
    "duration": 19,
    "start_time": "2022-05-28T11:33:13.053Z"
   },
   {
    "duration": 567,
    "start_time": "2022-05-28T11:34:24.388Z"
   },
   {
    "duration": 20,
    "start_time": "2022-05-28T11:34:24.957Z"
   },
   {
    "duration": 33,
    "start_time": "2022-05-28T11:34:24.980Z"
   },
   {
    "duration": 14,
    "start_time": "2022-05-28T11:34:25.016Z"
   },
   {
    "duration": 26,
    "start_time": "2022-05-28T11:34:25.032Z"
   },
   {
    "duration": 66,
    "start_time": "2022-05-28T11:34:25.059Z"
   },
   {
    "duration": 12,
    "start_time": "2022-05-28T11:34:25.127Z"
   },
   {
    "duration": 27,
    "start_time": "2022-05-28T11:34:25.140Z"
   },
   {
    "duration": 22,
    "start_time": "2022-05-28T11:34:25.169Z"
   },
   {
    "duration": 26,
    "start_time": "2022-05-28T11:34:25.194Z"
   },
   {
    "duration": 11,
    "start_time": "2022-05-28T11:34:25.222Z"
   },
   {
    "duration": 14,
    "start_time": "2022-05-28T11:34:25.235Z"
   },
   {
    "duration": 22,
    "start_time": "2022-05-28T11:34:25.251Z"
   },
   {
    "duration": 29,
    "start_time": "2022-05-28T11:34:25.275Z"
   },
   {
    "duration": 62,
    "start_time": "2022-05-28T11:34:25.305Z"
   },
   {
    "duration": 10,
    "start_time": "2022-05-28T11:34:25.369Z"
   },
   {
    "duration": 10,
    "start_time": "2022-05-28T11:34:25.380Z"
   },
   {
    "duration": 29,
    "start_time": "2022-05-28T11:34:25.392Z"
   },
   {
    "duration": 21,
    "start_time": "2022-05-28T11:34:25.422Z"
   },
   {
    "duration": 27,
    "start_time": "2022-05-28T11:34:25.445Z"
   },
   {
    "duration": 29,
    "start_time": "2022-05-28T11:34:33.679Z"
   },
   {
    "duration": 17,
    "start_time": "2022-05-28T11:34:41.841Z"
   },
   {
    "duration": 495,
    "start_time": "2022-05-28T11:35:01.524Z"
   },
   {
    "duration": 29,
    "start_time": "2022-05-28T11:35:02.021Z"
   },
   {
    "duration": 19,
    "start_time": "2022-05-28T11:35:02.053Z"
   },
   {
    "duration": 55,
    "start_time": "2022-05-28T11:35:02.075Z"
   },
   {
    "duration": 33,
    "start_time": "2022-05-28T11:35:02.132Z"
   },
   {
    "duration": 71,
    "start_time": "2022-05-28T11:35:02.168Z"
   },
   {
    "duration": 11,
    "start_time": "2022-05-28T11:35:02.241Z"
   },
   {
    "duration": 12,
    "start_time": "2022-05-28T11:35:02.255Z"
   },
   {
    "duration": 6,
    "start_time": "2022-05-28T11:35:02.269Z"
   },
   {
    "duration": 38,
    "start_time": "2022-05-28T11:35:02.298Z"
   },
   {
    "duration": 9,
    "start_time": "2022-05-28T11:35:02.338Z"
   },
   {
    "duration": 9,
    "start_time": "2022-05-28T11:35:02.349Z"
   },
   {
    "duration": 10,
    "start_time": "2022-05-28T11:35:02.361Z"
   },
   {
    "duration": 17,
    "start_time": "2022-05-28T11:35:02.373Z"
   },
   {
    "duration": 64,
    "start_time": "2022-05-28T11:35:02.392Z"
   },
   {
    "duration": 11,
    "start_time": "2022-05-28T11:35:02.457Z"
   },
   {
    "duration": 11,
    "start_time": "2022-05-28T11:35:02.470Z"
   },
   {
    "duration": 20,
    "start_time": "2022-05-28T11:35:02.484Z"
   },
   {
    "duration": 31,
    "start_time": "2022-05-28T11:35:02.508Z"
   },
   {
    "duration": 18,
    "start_time": "2022-05-28T11:35:02.540Z"
   },
   {
    "duration": 17,
    "start_time": "2022-05-28T11:35:02.560Z"
   },
   {
    "duration": 5,
    "start_time": "2022-05-28T11:35:02.579Z"
   },
   {
    "duration": 46,
    "start_time": "2022-05-28T11:35:02.586Z"
   },
   {
    "duration": 8,
    "start_time": "2022-05-28T11:35:02.634Z"
   },
   {
    "duration": 19,
    "start_time": "2022-05-28T11:35:02.644Z"
   },
   {
    "duration": 11,
    "start_time": "2022-05-28T11:35:02.665Z"
   },
   {
    "duration": 12,
    "start_time": "2022-05-28T11:35:02.679Z"
   },
   {
    "duration": 53,
    "start_time": "2022-05-28T11:35:02.695Z"
   },
   {
    "duration": 19,
    "start_time": "2022-05-28T11:35:02.749Z"
   },
   {
    "duration": 532,
    "start_time": "2022-05-28T11:36:51.114Z"
   },
   {
    "duration": 29,
    "start_time": "2022-05-28T11:36:51.648Z"
   },
   {
    "duration": 34,
    "start_time": "2022-05-28T11:36:51.680Z"
   },
   {
    "duration": 15,
    "start_time": "2022-05-28T11:36:51.716Z"
   },
   {
    "duration": 24,
    "start_time": "2022-05-28T11:36:51.733Z"
   },
   {
    "duration": 78,
    "start_time": "2022-05-28T11:36:51.759Z"
   },
   {
    "duration": 14,
    "start_time": "2022-05-28T11:36:51.840Z"
   },
   {
    "duration": 9,
    "start_time": "2022-05-28T11:36:51.856Z"
   },
   {
    "duration": 34,
    "start_time": "2022-05-28T11:36:51.867Z"
   },
   {
    "duration": 7,
    "start_time": "2022-05-28T11:36:51.907Z"
   },
   {
    "duration": 5,
    "start_time": "2022-05-28T11:36:51.917Z"
   },
   {
    "duration": 5,
    "start_time": "2022-05-28T11:36:51.924Z"
   },
   {
    "duration": 11,
    "start_time": "2022-05-28T11:36:51.932Z"
   },
   {
    "duration": 7,
    "start_time": "2022-05-28T11:36:51.947Z"
   },
   {
    "duration": 76,
    "start_time": "2022-05-28T11:36:51.956Z"
   },
   {
    "duration": 15,
    "start_time": "2022-05-28T11:36:52.034Z"
   },
   {
    "duration": 7,
    "start_time": "2022-05-28T11:36:52.051Z"
   },
   {
    "duration": 10,
    "start_time": "2022-05-28T11:36:52.060Z"
   },
   {
    "duration": 18,
    "start_time": "2022-05-28T11:36:52.097Z"
   },
   {
    "duration": 15,
    "start_time": "2022-05-28T11:36:52.117Z"
   },
   {
    "duration": 20,
    "start_time": "2022-05-28T11:36:52.134Z"
   },
   {
    "duration": 4,
    "start_time": "2022-05-28T11:36:52.155Z"
   },
   {
    "duration": 17,
    "start_time": "2022-05-28T11:36:52.161Z"
   },
   {
    "duration": 18,
    "start_time": "2022-05-28T11:36:52.179Z"
   },
   {
    "duration": 33,
    "start_time": "2022-05-28T11:36:52.198Z"
   },
   {
    "duration": 9,
    "start_time": "2022-05-28T11:36:52.233Z"
   },
   {
    "duration": 10,
    "start_time": "2022-05-28T11:36:52.244Z"
   },
   {
    "duration": 57,
    "start_time": "2022-05-28T11:36:52.255Z"
   },
   {
    "duration": 34,
    "start_time": "2022-05-28T11:36:52.314Z"
   },
   {
    "duration": 25,
    "start_time": "2022-05-28T11:36:52.351Z"
   },
   {
    "duration": 9,
    "start_time": "2022-05-28T11:36:52.377Z"
   },
   {
    "duration": 18,
    "start_time": "2022-05-28T11:36:52.394Z"
   },
   {
    "duration": 14,
    "start_time": "2022-05-28T11:36:52.414Z"
   },
   {
    "duration": 18,
    "start_time": "2022-05-28T11:36:52.431Z"
   },
   {
    "duration": 12,
    "start_time": "2022-05-28T11:36:52.450Z"
   },
   {
    "duration": 16,
    "start_time": "2022-05-28T11:36:52.464Z"
   },
   {
    "duration": 20,
    "start_time": "2022-05-28T11:36:52.481Z"
   },
   {
    "duration": 31,
    "start_time": "2022-05-28T11:36:52.508Z"
   },
   {
    "duration": 39,
    "start_time": "2022-05-28T11:36:52.541Z"
   },
   {
    "duration": 20,
    "start_time": "2022-05-28T11:36:52.582Z"
   },
   {
    "duration": 6,
    "start_time": "2022-05-28T11:36:52.616Z"
   },
   {
    "duration": 5,
    "start_time": "2022-05-28T11:36:52.625Z"
   },
   {
    "duration": 20,
    "start_time": "2022-05-28T11:36:52.632Z"
   },
   {
    "duration": 98,
    "start_time": "2022-05-28T11:38:07.247Z"
   },
   {
    "duration": 34,
    "start_time": "2022-05-28T11:38:40.514Z"
   },
   {
    "duration": 22,
    "start_time": "2022-05-28T11:39:16.323Z"
   },
   {
    "duration": 30,
    "start_time": "2022-05-28T11:40:09.431Z"
   },
   {
    "duration": 39,
    "start_time": "2022-05-28T11:41:01.923Z"
   },
   {
    "duration": 35,
    "start_time": "2022-05-28T11:41:21.386Z"
   },
   {
    "duration": 18,
    "start_time": "2022-05-28T11:43:15.646Z"
   },
   {
    "duration": 28,
    "start_time": "2022-05-28T11:43:26.751Z"
   },
   {
    "duration": 513,
    "start_time": "2022-05-28T11:43:55.451Z"
   },
   {
    "duration": 19,
    "start_time": "2022-05-28T11:43:55.966Z"
   },
   {
    "duration": 26,
    "start_time": "2022-05-28T11:43:55.986Z"
   },
   {
    "duration": 11,
    "start_time": "2022-05-28T11:43:56.016Z"
   },
   {
    "duration": 20,
    "start_time": "2022-05-28T11:43:56.029Z"
   },
   {
    "duration": 81,
    "start_time": "2022-05-28T11:43:56.051Z"
   },
   {
    "duration": 9,
    "start_time": "2022-05-28T11:43:56.134Z"
   },
   {
    "duration": 7,
    "start_time": "2022-05-28T11:43:56.145Z"
   },
   {
    "duration": 6,
    "start_time": "2022-05-28T11:43:56.154Z"
   },
   {
    "duration": 36,
    "start_time": "2022-05-28T11:43:56.163Z"
   },
   {
    "duration": 9,
    "start_time": "2022-05-28T11:43:56.200Z"
   },
   {
    "duration": 16,
    "start_time": "2022-05-28T11:43:56.210Z"
   },
   {
    "duration": 9,
    "start_time": "2022-05-28T11:43:56.228Z"
   },
   {
    "duration": 13,
    "start_time": "2022-05-28T11:43:56.239Z"
   },
   {
    "duration": 62,
    "start_time": "2022-05-28T11:43:56.254Z"
   },
   {
    "duration": 11,
    "start_time": "2022-05-28T11:43:56.318Z"
   },
   {
    "duration": 9,
    "start_time": "2022-05-28T11:43:56.330Z"
   },
   {
    "duration": 9,
    "start_time": "2022-05-28T11:43:56.341Z"
   },
   {
    "duration": 11,
    "start_time": "2022-05-28T11:43:56.352Z"
   },
   {
    "duration": 46,
    "start_time": "2022-05-28T11:43:56.365Z"
   },
   {
    "duration": 26,
    "start_time": "2022-05-28T11:43:56.413Z"
   },
   {
    "duration": 13,
    "start_time": "2022-05-28T11:43:56.441Z"
   },
   {
    "duration": 27,
    "start_time": "2022-05-28T11:43:56.458Z"
   },
   {
    "duration": 19,
    "start_time": "2022-05-28T11:43:56.487Z"
   },
   {
    "duration": 32,
    "start_time": "2022-05-28T11:43:56.508Z"
   },
   {
    "duration": 14,
    "start_time": "2022-05-28T11:43:56.542Z"
   },
   {
    "duration": 20,
    "start_time": "2022-05-28T11:43:56.558Z"
   },
   {
    "duration": 32,
    "start_time": "2022-05-28T11:43:56.582Z"
   },
   {
    "duration": 26,
    "start_time": "2022-05-28T11:43:56.617Z"
   },
   {
    "duration": 27,
    "start_time": "2022-05-28T11:43:56.646Z"
   },
   {
    "duration": 32,
    "start_time": "2022-05-28T11:43:56.676Z"
   },
   {
    "duration": 30,
    "start_time": "2022-05-28T11:43:56.714Z"
   },
   {
    "duration": 13,
    "start_time": "2022-05-28T11:43:56.746Z"
   },
   {
    "duration": 18,
    "start_time": "2022-05-28T11:43:56.761Z"
   },
   {
    "duration": 5,
    "start_time": "2022-05-28T11:43:56.781Z"
   },
   {
    "duration": 11,
    "start_time": "2022-05-28T11:43:56.787Z"
   },
   {
    "duration": 20,
    "start_time": "2022-05-28T11:43:56.800Z"
   },
   {
    "duration": 9,
    "start_time": "2022-05-28T11:43:56.821Z"
   },
   {
    "duration": 18,
    "start_time": "2022-05-28T11:43:56.832Z"
   },
   {
    "duration": 9,
    "start_time": "2022-05-28T11:43:56.852Z"
   },
   {
    "duration": 6,
    "start_time": "2022-05-28T11:43:56.862Z"
   },
   {
    "duration": 29,
    "start_time": "2022-05-28T11:43:56.870Z"
   },
   {
    "duration": 40,
    "start_time": "2022-05-28T11:43:56.903Z"
   },
   {
    "duration": 23,
    "start_time": "2022-05-28T11:43:56.946Z"
   },
   {
    "duration": 43,
    "start_time": "2022-05-28T11:43:56.971Z"
   },
   {
    "duration": 578,
    "start_time": "2022-05-28T19:40:50.543Z"
   },
   {
    "duration": 21,
    "start_time": "2022-05-28T19:40:51.124Z"
   },
   {
    "duration": 17,
    "start_time": "2022-05-28T19:40:51.147Z"
   },
   {
    "duration": 10,
    "start_time": "2022-05-28T19:40:51.166Z"
   },
   {
    "duration": 39,
    "start_time": "2022-05-28T19:40:51.179Z"
   },
   {
    "duration": 51,
    "start_time": "2022-05-28T19:40:51.220Z"
   },
   {
    "duration": 28,
    "start_time": "2022-05-28T19:40:51.272Z"
   },
   {
    "duration": 7,
    "start_time": "2022-05-28T19:40:51.302Z"
   },
   {
    "duration": 12,
    "start_time": "2022-05-28T19:40:51.310Z"
   },
   {
    "duration": 11,
    "start_time": "2022-05-28T19:40:51.325Z"
   },
   {
    "duration": 5,
    "start_time": "2022-05-28T19:40:51.338Z"
   },
   {
    "duration": 7,
    "start_time": "2022-05-28T19:40:51.345Z"
   },
   {
    "duration": 10,
    "start_time": "2022-05-28T19:40:51.354Z"
   },
   {
    "duration": 37,
    "start_time": "2022-05-28T19:40:51.366Z"
   },
   {
    "duration": 52,
    "start_time": "2022-05-28T19:40:51.405Z"
   },
   {
    "duration": 11,
    "start_time": "2022-05-28T19:40:51.458Z"
   },
   {
    "duration": 25,
    "start_time": "2022-05-28T19:40:51.471Z"
   },
   {
    "duration": 10,
    "start_time": "2022-05-28T19:40:51.499Z"
   },
   {
    "duration": 12,
    "start_time": "2022-05-28T19:40:51.511Z"
   },
   {
    "duration": 21,
    "start_time": "2022-05-28T19:40:51.525Z"
   },
   {
    "duration": 48,
    "start_time": "2022-05-28T19:40:51.548Z"
   },
   {
    "duration": 6,
    "start_time": "2022-05-28T19:40:51.598Z"
   },
   {
    "duration": 17,
    "start_time": "2022-05-28T19:40:51.606Z"
   },
   {
    "duration": 9,
    "start_time": "2022-05-28T19:40:51.625Z"
   },
   {
    "duration": 24,
    "start_time": "2022-05-28T19:40:51.637Z"
   },
   {
    "duration": 37,
    "start_time": "2022-05-28T19:40:51.663Z"
   },
   {
    "duration": 13,
    "start_time": "2022-05-28T19:40:51.702Z"
   },
   {
    "duration": 21,
    "start_time": "2022-05-28T19:40:51.719Z"
   },
   {
    "duration": 21,
    "start_time": "2022-05-28T19:40:51.742Z"
   },
   {
    "duration": 56,
    "start_time": "2022-05-28T19:40:51.765Z"
   },
   {
    "duration": 13,
    "start_time": "2022-05-28T19:40:51.823Z"
   },
   {
    "duration": 23,
    "start_time": "2022-05-28T19:40:51.839Z"
   },
   {
    "duration": 33,
    "start_time": "2022-05-28T19:40:51.865Z"
   },
   {
    "duration": 19,
    "start_time": "2022-05-28T19:40:51.900Z"
   },
   {
    "duration": 6,
    "start_time": "2022-05-28T19:40:51.922Z"
   },
   {
    "duration": 14,
    "start_time": "2022-05-28T19:40:51.931Z"
   },
   {
    "duration": 7,
    "start_time": "2022-05-28T19:40:51.947Z"
   },
   {
    "duration": 9,
    "start_time": "2022-05-28T19:40:51.956Z"
   },
   {
    "duration": 48,
    "start_time": "2022-05-28T19:40:51.966Z"
   },
   {
    "duration": 10,
    "start_time": "2022-05-28T19:40:52.015Z"
   },
   {
    "duration": 7,
    "start_time": "2022-05-28T19:40:52.027Z"
   },
   {
    "duration": 10,
    "start_time": "2022-05-28T19:40:52.035Z"
   },
   {
    "duration": 24,
    "start_time": "2022-05-28T19:40:52.046Z"
   },
   {
    "duration": 39,
    "start_time": "2022-05-28T19:40:52.072Z"
   },
   {
    "duration": 25,
    "start_time": "2022-05-28T19:40:52.113Z"
   },
   {
    "duration": 21,
    "start_time": "2022-05-28T19:40:52.139Z"
   },
   {
    "duration": 56,
    "start_time": "2022-05-28T19:40:52.162Z"
   },
   {
    "duration": 20,
    "start_time": "2022-05-28T19:40:52.221Z"
   },
   {
    "duration": 53,
    "start_time": "2022-05-28T19:40:52.243Z"
   },
   {
    "duration": 738,
    "start_time": "2022-05-29T04:43:43.519Z"
   },
   {
    "duration": 18,
    "start_time": "2022-05-29T04:43:44.259Z"
   },
   {
    "duration": 16,
    "start_time": "2022-05-29T04:43:44.279Z"
   },
   {
    "duration": 9,
    "start_time": "2022-05-29T04:43:44.297Z"
   },
   {
    "duration": 37,
    "start_time": "2022-05-29T04:43:44.307Z"
   },
   {
    "duration": 42,
    "start_time": "2022-05-29T04:43:44.346Z"
   },
   {
    "duration": 8,
    "start_time": "2022-05-29T04:43:44.390Z"
   },
   {
    "duration": 26,
    "start_time": "2022-05-29T04:43:44.400Z"
   },
   {
    "duration": 7,
    "start_time": "2022-05-29T04:43:44.427Z"
   },
   {
    "duration": 22,
    "start_time": "2022-05-29T04:43:44.437Z"
   },
   {
    "duration": 3,
    "start_time": "2022-05-29T04:43:44.461Z"
   },
   {
    "duration": 5,
    "start_time": "2022-05-29T04:43:44.466Z"
   },
   {
    "duration": 6,
    "start_time": "2022-05-29T04:43:44.472Z"
   },
   {
    "duration": 9,
    "start_time": "2022-05-29T04:43:44.479Z"
   },
   {
    "duration": 56,
    "start_time": "2022-05-29T04:43:44.489Z"
   },
   {
    "duration": 12,
    "start_time": "2022-05-29T04:43:44.547Z"
   },
   {
    "duration": 9,
    "start_time": "2022-05-29T04:43:44.560Z"
   },
   {
    "duration": 15,
    "start_time": "2022-05-29T04:44:31.636Z"
   },
   {
    "duration": 19,
    "start_time": "2022-05-29T04:44:51.568Z"
   },
   {
    "duration": 11,
    "start_time": "2022-05-29T04:46:41.360Z"
   },
   {
    "duration": 7,
    "start_time": "2022-05-29T04:46:50.764Z"
   },
   {
    "duration": 11,
    "start_time": "2022-05-29T04:46:57.169Z"
   },
   {
    "duration": 9,
    "start_time": "2022-05-29T04:47:49.588Z"
   },
   {
    "duration": 544,
    "start_time": "2022-05-29T04:48:04.704Z"
   },
   {
    "duration": 19,
    "start_time": "2022-05-29T04:48:05.250Z"
   },
   {
    "duration": 16,
    "start_time": "2022-05-29T04:48:05.271Z"
   },
   {
    "duration": 9,
    "start_time": "2022-05-29T04:48:05.289Z"
   },
   {
    "duration": 42,
    "start_time": "2022-05-29T04:48:05.299Z"
   },
   {
    "duration": 44,
    "start_time": "2022-05-29T04:48:05.342Z"
   },
   {
    "duration": 9,
    "start_time": "2022-05-29T04:48:05.387Z"
   },
   {
    "duration": 26,
    "start_time": "2022-05-29T04:48:05.398Z"
   },
   {
    "duration": 5,
    "start_time": "2022-05-29T04:48:05.435Z"
   },
   {
    "duration": 8,
    "start_time": "2022-05-29T04:48:05.442Z"
   },
   {
    "duration": 4,
    "start_time": "2022-05-29T04:48:05.451Z"
   },
   {
    "duration": 5,
    "start_time": "2022-05-29T04:48:05.456Z"
   },
   {
    "duration": 7,
    "start_time": "2022-05-29T04:48:05.462Z"
   },
   {
    "duration": 9,
    "start_time": "2022-05-29T04:48:05.470Z"
   },
   {
    "duration": 67,
    "start_time": "2022-05-29T04:48:05.481Z"
   },
   {
    "duration": 9,
    "start_time": "2022-05-29T04:48:05.549Z"
   },
   {
    "duration": 8,
    "start_time": "2022-05-29T04:48:05.559Z"
   },
   {
    "duration": 11,
    "start_time": "2022-05-29T04:48:05.568Z"
   },
   {
    "duration": 7,
    "start_time": "2022-05-29T04:48:05.580Z"
   },
   {
    "duration": 46,
    "start_time": "2022-05-29T04:48:05.589Z"
   },
   {
    "duration": 12,
    "start_time": "2022-05-29T04:48:10.157Z"
   },
   {
    "duration": 11,
    "start_time": "2022-05-29T04:48:12.971Z"
   },
   {
    "duration": 475,
    "start_time": "2022-05-29T04:49:06.438Z"
   },
   {
    "duration": 25,
    "start_time": "2022-05-29T04:49:06.914Z"
   },
   {
    "duration": 18,
    "start_time": "2022-05-29T04:49:06.940Z"
   },
   {
    "duration": 9,
    "start_time": "2022-05-29T04:49:06.959Z"
   },
   {
    "duration": 20,
    "start_time": "2022-05-29T04:49:06.970Z"
   },
   {
    "duration": 60,
    "start_time": "2022-05-29T04:49:06.991Z"
   },
   {
    "duration": 9,
    "start_time": "2022-05-29T04:49:07.052Z"
   },
   {
    "duration": 9,
    "start_time": "2022-05-29T04:49:07.062Z"
   },
   {
    "duration": 5,
    "start_time": "2022-05-29T04:49:07.072Z"
   },
   {
    "duration": 6,
    "start_time": "2022-05-29T04:49:07.078Z"
   },
   {
    "duration": 6,
    "start_time": "2022-05-29T04:49:07.086Z"
   },
   {
    "duration": 6,
    "start_time": "2022-05-29T04:49:07.093Z"
   },
   {
    "duration": 35,
    "start_time": "2022-05-29T04:49:07.100Z"
   },
   {
    "duration": 8,
    "start_time": "2022-05-29T04:49:07.138Z"
   },
   {
    "duration": 42,
    "start_time": "2022-05-29T04:49:07.148Z"
   },
   {
    "duration": 10,
    "start_time": "2022-05-29T04:49:07.192Z"
   },
   {
    "duration": 34,
    "start_time": "2022-05-29T04:49:07.203Z"
   },
   {
    "duration": 15,
    "start_time": "2022-05-29T04:49:07.239Z"
   },
   {
    "duration": 6,
    "start_time": "2022-05-29T04:49:07.255Z"
   },
   {
    "duration": 12,
    "start_time": "2022-05-29T04:49:07.263Z"
   },
   {
    "duration": 4,
    "start_time": "2022-05-29T04:49:07.276Z"
   },
   {
    "duration": 16,
    "start_time": "2022-05-29T04:49:07.281Z"
   },
   {
    "duration": 6,
    "start_time": "2022-05-29T04:49:07.298Z"
   },
   {
    "duration": 38,
    "start_time": "2022-05-29T04:49:07.306Z"
   },
   {
    "duration": 10,
    "start_time": "2022-05-29T04:49:07.346Z"
   },
   {
    "duration": 9,
    "start_time": "2022-05-29T04:49:07.357Z"
   },
   {
    "duration": 27,
    "start_time": "2022-05-29T04:49:10.208Z"
   },
   {
    "duration": 19,
    "start_time": "2022-05-29T04:49:12.355Z"
   },
   {
    "duration": 17,
    "start_time": "2022-05-29T04:49:13.366Z"
   },
   {
    "duration": 480,
    "start_time": "2022-05-29T04:50:52.762Z"
   },
   {
    "duration": 19,
    "start_time": "2022-05-29T04:50:53.244Z"
   },
   {
    "duration": 16,
    "start_time": "2022-05-29T04:50:53.265Z"
   },
   {
    "duration": 8,
    "start_time": "2022-05-29T04:50:53.283Z"
   },
   {
    "duration": 45,
    "start_time": "2022-05-29T04:50:53.293Z"
   },
   {
    "duration": 45,
    "start_time": "2022-05-29T04:50:53.339Z"
   },
   {
    "duration": 10,
    "start_time": "2022-05-29T04:50:53.385Z"
   },
   {
    "duration": 8,
    "start_time": "2022-05-29T04:50:53.396Z"
   },
   {
    "duration": 27,
    "start_time": "2022-05-29T04:50:53.406Z"
   },
   {
    "duration": 16,
    "start_time": "2022-05-29T04:50:53.439Z"
   },
   {
    "duration": 9,
    "start_time": "2022-05-29T04:50:53.456Z"
   },
   {
    "duration": 14,
    "start_time": "2022-05-29T04:50:53.467Z"
   },
   {
    "duration": 18,
    "start_time": "2022-05-29T04:50:53.483Z"
   },
   {
    "duration": 14,
    "start_time": "2022-05-29T04:50:53.502Z"
   },
   {
    "duration": 59,
    "start_time": "2022-05-29T04:50:53.517Z"
   },
   {
    "duration": 10,
    "start_time": "2022-05-29T04:50:53.577Z"
   },
   {
    "duration": 5,
    "start_time": "2022-05-29T04:50:53.588Z"
   },
   {
    "duration": 14,
    "start_time": "2022-05-29T04:50:53.594Z"
   },
   {
    "duration": 20,
    "start_time": "2022-05-29T04:50:53.610Z"
   },
   {
    "duration": 14,
    "start_time": "2022-05-29T04:50:53.631Z"
   },
   {
    "duration": 5,
    "start_time": "2022-05-29T04:50:53.647Z"
   },
   {
    "duration": 14,
    "start_time": "2022-05-29T04:50:53.654Z"
   },
   {
    "duration": 7,
    "start_time": "2022-05-29T04:50:53.669Z"
   },
   {
    "duration": 17,
    "start_time": "2022-05-29T04:50:53.678Z"
   },
   {
    "duration": 44,
    "start_time": "2022-05-29T04:50:53.696Z"
   },
   {
    "duration": 10,
    "start_time": "2022-05-29T04:50:53.742Z"
   },
   {
    "duration": 31,
    "start_time": "2022-05-29T04:50:53.754Z"
   },
   {
    "duration": 18,
    "start_time": "2022-05-29T04:50:53.789Z"
   },
   {
    "duration": 35,
    "start_time": "2022-05-29T04:50:53.808Z"
   },
   {
    "duration": 8,
    "start_time": "2022-05-29T04:50:53.844Z"
   },
   {
    "duration": 12,
    "start_time": "2022-05-29T04:50:53.853Z"
   },
   {
    "duration": 7,
    "start_time": "2022-05-29T04:50:53.866Z"
   },
   {
    "duration": 13,
    "start_time": "2022-05-29T04:50:53.874Z"
   },
   {
    "duration": 4,
    "start_time": "2022-05-29T04:50:53.889Z"
   },
   {
    "duration": 5,
    "start_time": "2022-05-29T04:50:53.894Z"
   },
   {
    "duration": 30,
    "start_time": "2022-05-29T04:50:53.900Z"
   },
   {
    "duration": 4,
    "start_time": "2022-05-29T04:50:53.936Z"
   },
   {
    "duration": 22,
    "start_time": "2022-05-29T04:50:53.941Z"
   },
   {
    "duration": 7,
    "start_time": "2022-05-29T04:50:53.964Z"
   },
   {
    "duration": 7,
    "start_time": "2022-05-29T04:50:53.972Z"
   },
   {
    "duration": 6,
    "start_time": "2022-05-29T04:50:53.980Z"
   },
   {
    "duration": 22,
    "start_time": "2022-05-29T04:50:53.987Z"
   },
   {
    "duration": 24,
    "start_time": "2022-05-29T04:50:54.026Z"
   },
   {
    "duration": 25,
    "start_time": "2022-05-29T04:50:54.052Z"
   },
   {
    "duration": 20,
    "start_time": "2022-05-29T04:50:54.079Z"
   },
   {
    "duration": 44,
    "start_time": "2022-05-29T04:50:54.101Z"
   },
   {
    "duration": 17,
    "start_time": "2022-05-29T04:50:54.147Z"
   },
   {
    "duration": 18,
    "start_time": "2022-05-29T04:50:54.165Z"
   },
   {
    "duration": 726,
    "start_time": "2022-05-29T06:41:52.515Z"
   },
   {
    "duration": 19,
    "start_time": "2022-05-29T06:41:53.242Z"
   },
   {
    "duration": 14,
    "start_time": "2022-05-29T06:41:53.263Z"
   },
   {
    "duration": 8,
    "start_time": "2022-05-29T06:41:53.279Z"
   },
   {
    "duration": 17,
    "start_time": "2022-05-29T06:41:53.288Z"
   },
   {
    "duration": 62,
    "start_time": "2022-05-29T06:41:53.306Z"
   },
   {
    "duration": 8,
    "start_time": "2022-05-29T06:41:53.370Z"
   },
   {
    "duration": 9,
    "start_time": "2022-05-29T06:41:53.380Z"
   },
   {
    "duration": 4,
    "start_time": "2022-05-29T06:41:53.390Z"
   },
   {
    "duration": 4,
    "start_time": "2022-05-29T06:41:53.396Z"
   },
   {
    "duration": 5,
    "start_time": "2022-05-29T06:41:53.402Z"
   },
   {
    "duration": 7,
    "start_time": "2022-05-29T06:41:53.409Z"
   },
   {
    "duration": 7,
    "start_time": "2022-05-29T06:41:53.418Z"
   },
   {
    "duration": 10,
    "start_time": "2022-05-29T06:41:53.451Z"
   },
   {
    "duration": 43,
    "start_time": "2022-05-29T06:41:53.462Z"
   },
   {
    "duration": 9,
    "start_time": "2022-05-29T06:41:53.507Z"
   },
   {
    "duration": 10,
    "start_time": "2022-05-29T06:41:53.517Z"
   },
   {
    "duration": 24,
    "start_time": "2022-05-29T06:41:53.529Z"
   },
   {
    "duration": 7,
    "start_time": "2022-05-29T06:41:53.554Z"
   },
   {
    "duration": 14,
    "start_time": "2022-05-29T06:41:53.563Z"
   },
   {
    "duration": 4,
    "start_time": "2022-05-29T06:41:53.578Z"
   },
   {
    "duration": 16,
    "start_time": "2022-05-29T06:41:53.584Z"
   },
   {
    "duration": 8,
    "start_time": "2022-05-29T06:41:53.601Z"
   },
   {
    "duration": 24,
    "start_time": "2022-05-29T06:41:53.611Z"
   },
   {
    "duration": 20,
    "start_time": "2022-05-29T06:41:53.636Z"
   },
   {
    "duration": 9,
    "start_time": "2022-05-29T06:41:53.658Z"
   },
   {
    "duration": 18,
    "start_time": "2022-05-29T06:41:53.669Z"
   },
   {
    "duration": 17,
    "start_time": "2022-05-29T06:41:53.690Z"
   },
   {
    "duration": 18,
    "start_time": "2022-05-29T06:41:53.709Z"
   },
   {
    "duration": 8,
    "start_time": "2022-05-29T06:41:53.752Z"
   },
   {
    "duration": 11,
    "start_time": "2022-05-29T06:41:53.761Z"
   },
   {
    "duration": 7,
    "start_time": "2022-05-29T06:41:53.773Z"
   },
   {
    "duration": 12,
    "start_time": "2022-05-29T06:41:53.782Z"
   },
   {
    "duration": 3,
    "start_time": "2022-05-29T06:41:53.796Z"
   },
   {
    "duration": 6,
    "start_time": "2022-05-29T06:41:53.801Z"
   },
   {
    "duration": 5,
    "start_time": "2022-05-29T06:41:53.809Z"
   },
   {
    "duration": 6,
    "start_time": "2022-05-29T06:41:53.815Z"
   },
   {
    "duration": 44,
    "start_time": "2022-05-29T06:41:53.822Z"
   },
   {
    "duration": 7,
    "start_time": "2022-05-29T06:41:53.868Z"
   },
   {
    "duration": 5,
    "start_time": "2022-05-29T06:41:53.876Z"
   },
   {
    "duration": 6,
    "start_time": "2022-05-29T06:41:53.882Z"
   },
   {
    "duration": 18,
    "start_time": "2022-05-29T06:41:53.890Z"
   },
   {
    "duration": 43,
    "start_time": "2022-05-29T06:41:53.910Z"
   },
   {
    "duration": 22,
    "start_time": "2022-05-29T06:41:53.955Z"
   },
   {
    "duration": 17,
    "start_time": "2022-05-29T06:41:53.979Z"
   },
   {
    "duration": 20,
    "start_time": "2022-05-29T06:41:53.997Z"
   },
   {
    "duration": 40,
    "start_time": "2022-05-29T06:41:54.019Z"
   },
   {
    "duration": 16,
    "start_time": "2022-05-29T06:41:54.061Z"
   }
  ],
  "kernelspec": {
   "display_name": "Python 3 (ipykernel)",
   "language": "python",
   "name": "python3"
  },
  "language_info": {
   "codemirror_mode": {
    "name": "ipython",
    "version": 3
   },
   "file_extension": ".py",
   "mimetype": "text/x-python",
   "name": "python",
   "nbconvert_exporter": "python",
   "pygments_lexer": "ipython3",
   "version": "3.9.13"
  },
  "toc": {
   "base_numbering": 1,
   "nav_menu": {},
   "number_sections": true,
   "sideBar": true,
   "skip_h1_title": true,
   "title_cell": "Table of Contents",
   "title_sidebar": "Contents",
   "toc_cell": false,
   "toc_position": {
    "height": "calc(100% - 180px)",
    "left": "10px",
    "top": "150px",
    "width": "372.390625px"
   },
   "toc_section_display": true,
   "toc_window_display": false
  }
 },
 "nbformat": 4,
 "nbformat_minor": 5
}
