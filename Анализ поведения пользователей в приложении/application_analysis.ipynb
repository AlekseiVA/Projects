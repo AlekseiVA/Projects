{
 "cells": [
  {
   "cell_type": "markdown",
   "id": "e5a56447",
   "metadata": {},
   "source": [
    "# Анализ поведения пользователей в приложении \"Ненужные вещи\""
   ]
  },
  {
   "cell_type": "markdown",
   "id": "014a1d51",
   "metadata": {},
   "source": [
    "\"Ненужные вещи\" - интернет-сервис для размещения объявлений о товарах, где продавец выкладывает свой товар, а пользователь может найти нужную ему вещь и купить  \n",
    "\n",
    "Пользователь может совершать различные действия в сервисе, например: открыть объявление, посмотреть фотографии, добавить в избранное, посмотреть контакты продавца и совершить звонок продавцу  \n",
    "\n",
    "Сервис не берет процент от успешных сделок, продавец полностью получает оплату. Наша монетизация завязана на продвижении объявлений в поисковом запросе. Продавцы могут приобрести премиальную функцию, чтобы его объявление выдавалось в топе запросов и тем самым увеличив шансы на быструю продажу  \n",
    "\n"
   ]
  },
  {
   "cell_type": "markdown",
   "id": "326d1979",
   "metadata": {},
   "source": [
    "### Материалы\n",
    "\n",
    "[Презентация](https://drive.google.com/file/d/1TCAfp5qc9-RsPpC6dIBLEH0Mb1chU0pN/view?usp=sharing)  \n",
    "[Дашборд](https://public.tableau.com/app/profile/aleksei4603/viz/Dashboardbyproject/Dashboard1?publish=yes)"
   ]
  },
  {
   "cell_type": "markdown",
   "id": "856e43d1",
   "metadata": {},
   "source": [
    "**Цель исследования**  \n",
    "\n",
    "Заказчик - продукт менеджер. Нам необходимо узнать, какая аудитория находится в приложении. Есть ли отдельные сценарии, при которых в дальнейшем, пользователей можно будет сегментировать. По результатам нашего исследования будут работать с вовлеченностью пользователей. \n",
    "\n",
    "**Определить:**  \n",
    "\n",
    "* Какие события влияют на конверсию в целевое действие?\n",
    "* Какие сценарии использования приложения выделяются?\n",
    "* Как различается время между распространенными событиями пользователей?\n",
    "\n",
    "**Обзов данных**\n",
    "\n",
    "* Открыть таблицы и изучить общую информацию о данных\n",
    "\n",
    "**Предобработка данных** \n",
    "\n",
    "* Проверить датасеты на пропуски\n",
    "* Заменить названия столбцов, если нужно и привести к правильному стилю\n",
    "* Если в данных присутствуют дубликаты, их нужно обработать \n",
    "* При необходимости, изменить типы данных\n",
    "* Обединить таблицы в один датасет\n",
    "\n",
    "\n",
    "**Исследовательский анализ данных**  \n",
    "\n",
    "1. Общий анализ по пользователям и событиям\n",
    "\n",
    "2. Проанализировать связь целевого события ``просмотра контактов`` — и других действий пользователей  \n",
    "   * Определить сессии\n",
    "   * Построить матрицу корреляций\n",
    "   * Просмотреть, какие сценарии существуют\n",
    "   * Определить самые популярные сценарии\n",
    "\n",
    "\n",
    "3. Оценить, какие действия чаще совершают те пользователи, которые просматривают контакты  \n",
    "   * Построить воронку по самым популярным сценариям с целевым событием\n",
    "   * Проанализировать влияние событий на совершение целевого события\n",
    "   * Просчитать конверсию по каждому событию в целевое действие\n",
    "   * Замерить время по каждому событию и переходом в целевое событие\n",
    "   \n",
    "\n",
    "\n",
    "**Формулировка гипотез**  \n",
    "\n",
    "1. Одни пользователи совершают действия ``tips_show`` и ``tips_click``, другие — только ``tips_show``. Проверить гипотезу: конверсия в просмотры контактов различается у этих двух групп.\n",
    "\n",
    "2. Пользователи могут совершить целевое действие после того, как добавят объявление в избранное, а могут и сразу  \n",
    "Нулевая гипотеза: конверсия в целевое действие не отличается у пользователей, кто добавил избранное, а кто нет  \n",
    "Альтернативная гипотеза: конверсия в целевое действие отличается у пользователей\n",
    "\n",
    "**Сделать общий вывод**  \n",
    "По результатам исследования дать рекомендации по возможным сценариям, которые проходят пользователи, чтобы совершить целевое действие. Предложить максимально результативный сценарий"
   ]
  },
  {
   "cell_type": "markdown",
   "id": "9e36ad22",
   "metadata": {},
   "source": [
    "## Обзор данных"
   ]
  },
  {
   "cell_type": "code",
   "execution_count": 1,
   "id": "1f671dcf",
   "metadata": {},
   "outputs": [],
   "source": [
    "#!pip install --user --upgrade pandas"
   ]
  },
  {
   "cell_type": "code",
   "execution_count": 2,
   "id": "6b400f6a",
   "metadata": {},
   "outputs": [],
   "source": [
    "#Для начала загрузим необходимые библиотеки\n",
    "\n",
    "import pandas as pd\n",
    "import numpy as np\n",
    "import seaborn as sns\n",
    "import math as mth\n",
    "from scipy import stats as st\n",
    "from plotly import graph_objects as go\n",
    "from datetime import datetime, timedelta\n",
    "from matplotlib import pyplot as plt\n",
    "%matplotlib inline"
   ]
  },
  {
   "cell_type": "code",
   "execution_count": 3,
   "id": "d941d36b",
   "metadata": {},
   "outputs": [],
   "source": [
    "#Округлим числовые значения до сотых\n",
    "pd.options.display.float_format = '{:,.2f}'.format"
   ]
  },
  {
   "cell_type": "code",
   "execution_count": 4,
   "id": "9ced5de3",
   "metadata": {},
   "outputs": [],
   "source": [
    "#Загрузим 2 датасета \n",
    "\n",
    "sources = pd.read_csv('/Users/alekseivlasov/Desktop/project/12/mobile_sourсes.csv')\n",
    "dataset = pd.read_csv('/Users/alekseivlasov/Desktop/project/12/mobile_dataset.csv')"
   ]
  },
  {
   "cell_type": "markdown",
   "id": "6a7fe41c",
   "metadata": {},
   "source": [
    "Просмотрим общую информацию по каждой таблице, чтобы познакомиться"
   ]
  },
  {
   "cell_type": "code",
   "execution_count": 5,
   "id": "67e270f6",
   "metadata": {},
   "outputs": [
    {
     "data": {
      "text/html": [
       "<div>\n",
       "<style scoped>\n",
       "    .dataframe tbody tr th:only-of-type {\n",
       "        vertical-align: middle;\n",
       "    }\n",
       "\n",
       "    .dataframe tbody tr th {\n",
       "        vertical-align: top;\n",
       "    }\n",
       "\n",
       "    .dataframe thead th {\n",
       "        text-align: right;\n",
       "    }\n",
       "</style>\n",
       "<table border=\"1\" class=\"dataframe\">\n",
       "  <thead>\n",
       "    <tr style=\"text-align: right;\">\n",
       "      <th></th>\n",
       "      <th>userId</th>\n",
       "      <th>source</th>\n",
       "    </tr>\n",
       "  </thead>\n",
       "  <tbody>\n",
       "    <tr>\n",
       "      <th>0</th>\n",
       "      <td>020292ab-89bc-4156-9acf-68bc2783f894</td>\n",
       "      <td>other</td>\n",
       "    </tr>\n",
       "    <tr>\n",
       "      <th>1</th>\n",
       "      <td>cf7eda61-9349-469f-ac27-e5b6f5ec475c</td>\n",
       "      <td>yandex</td>\n",
       "    </tr>\n",
       "    <tr>\n",
       "      <th>2</th>\n",
       "      <td>8c356c42-3ba9-4cb6-80b8-3f868d0192c3</td>\n",
       "      <td>yandex</td>\n",
       "    </tr>\n",
       "    <tr>\n",
       "      <th>3</th>\n",
       "      <td>d9b06b47-0f36-419b-bbb0-3533e582a6cb</td>\n",
       "      <td>other</td>\n",
       "    </tr>\n",
       "    <tr>\n",
       "      <th>4</th>\n",
       "      <td>f32e1e2a-3027-4693-b793-b7b3ff274439</td>\n",
       "      <td>google</td>\n",
       "    </tr>\n",
       "  </tbody>\n",
       "</table>\n",
       "</div>"
      ],
      "text/plain": [
       "                                 userId  source\n",
       "0  020292ab-89bc-4156-9acf-68bc2783f894   other\n",
       "1  cf7eda61-9349-469f-ac27-e5b6f5ec475c  yandex\n",
       "2  8c356c42-3ba9-4cb6-80b8-3f868d0192c3  yandex\n",
       "3  d9b06b47-0f36-419b-bbb0-3533e582a6cb   other\n",
       "4  f32e1e2a-3027-4693-b793-b7b3ff274439  google"
      ]
     },
     "execution_count": 5,
     "metadata": {},
     "output_type": "execute_result"
    }
   ],
   "source": [
    "#Первый датасет\n",
    "sources.head()"
   ]
  },
  {
   "cell_type": "code",
   "execution_count": 6,
   "id": "ff67ffc6",
   "metadata": {},
   "outputs": [
    {
     "name": "stdout",
     "output_type": "stream",
     "text": [
      "(4293, 2)\n",
      "<class 'pandas.core.frame.DataFrame'>\n",
      "RangeIndex: 4293 entries, 0 to 4292\n",
      "Data columns (total 2 columns):\n",
      " #   Column  Non-Null Count  Dtype \n",
      "---  ------  --------------  ----- \n",
      " 0   userId  4293 non-null   object\n",
      " 1   source  4293 non-null   object\n",
      "dtypes: object(2)\n",
      "memory usage: 67.2+ KB\n"
     ]
    }
   ],
   "source": [
    "print(sources.shape)\n",
    "sources.info()"
   ]
  },
  {
   "cell_type": "markdown",
   "id": "982b0bf4",
   "metadata": {},
   "source": [
    "Размер первого датасета: 2 колонки и 4293 строки  \n",
    "Пропусков нет, тип данных у каждой колонки ``object``  \n",
    "Нужно будет привести название к правильному стилю"
   ]
  },
  {
   "cell_type": "code",
   "execution_count": 7,
   "id": "ea134da6",
   "metadata": {},
   "outputs": [
    {
     "data": {
      "text/html": [
       "<div>\n",
       "<style scoped>\n",
       "    .dataframe tbody tr th:only-of-type {\n",
       "        vertical-align: middle;\n",
       "    }\n",
       "\n",
       "    .dataframe tbody tr th {\n",
       "        vertical-align: top;\n",
       "    }\n",
       "\n",
       "    .dataframe thead th {\n",
       "        text-align: right;\n",
       "    }\n",
       "</style>\n",
       "<table border=\"1\" class=\"dataframe\">\n",
       "  <thead>\n",
       "    <tr style=\"text-align: right;\">\n",
       "      <th></th>\n",
       "      <th>event.time</th>\n",
       "      <th>event.name</th>\n",
       "      <th>user.id</th>\n",
       "    </tr>\n",
       "  </thead>\n",
       "  <tbody>\n",
       "    <tr>\n",
       "      <th>0</th>\n",
       "      <td>2019-10-07 00:00:00.431357</td>\n",
       "      <td>advert_open</td>\n",
       "      <td>020292ab-89bc-4156-9acf-68bc2783f894</td>\n",
       "    </tr>\n",
       "    <tr>\n",
       "      <th>1</th>\n",
       "      <td>2019-10-07 00:00:01.236320</td>\n",
       "      <td>tips_show</td>\n",
       "      <td>020292ab-89bc-4156-9acf-68bc2783f894</td>\n",
       "    </tr>\n",
       "    <tr>\n",
       "      <th>2</th>\n",
       "      <td>2019-10-07 00:00:02.245341</td>\n",
       "      <td>tips_show</td>\n",
       "      <td>cf7eda61-9349-469f-ac27-e5b6f5ec475c</td>\n",
       "    </tr>\n",
       "    <tr>\n",
       "      <th>3</th>\n",
       "      <td>2019-10-07 00:00:07.039334</td>\n",
       "      <td>tips_show</td>\n",
       "      <td>020292ab-89bc-4156-9acf-68bc2783f894</td>\n",
       "    </tr>\n",
       "    <tr>\n",
       "      <th>4</th>\n",
       "      <td>2019-10-07 00:00:56.319813</td>\n",
       "      <td>advert_open</td>\n",
       "      <td>cf7eda61-9349-469f-ac27-e5b6f5ec475c</td>\n",
       "    </tr>\n",
       "  </tbody>\n",
       "</table>\n",
       "</div>"
      ],
      "text/plain": [
       "                   event.time   event.name  \\\n",
       "0  2019-10-07 00:00:00.431357  advert_open   \n",
       "1  2019-10-07 00:00:01.236320    tips_show   \n",
       "2  2019-10-07 00:00:02.245341    tips_show   \n",
       "3  2019-10-07 00:00:07.039334    tips_show   \n",
       "4  2019-10-07 00:00:56.319813  advert_open   \n",
       "\n",
       "                                user.id  \n",
       "0  020292ab-89bc-4156-9acf-68bc2783f894  \n",
       "1  020292ab-89bc-4156-9acf-68bc2783f894  \n",
       "2  cf7eda61-9349-469f-ac27-e5b6f5ec475c  \n",
       "3  020292ab-89bc-4156-9acf-68bc2783f894  \n",
       "4  cf7eda61-9349-469f-ac27-e5b6f5ec475c  "
      ]
     },
     "execution_count": 7,
     "metadata": {},
     "output_type": "execute_result"
    }
   ],
   "source": [
    "#Второй датасет\n",
    "dataset.head()"
   ]
  },
  {
   "cell_type": "code",
   "execution_count": 8,
   "id": "a33e3823",
   "metadata": {},
   "outputs": [
    {
     "name": "stdout",
     "output_type": "stream",
     "text": [
      "(74197, 3)\n",
      "<class 'pandas.core.frame.DataFrame'>\n",
      "RangeIndex: 74197 entries, 0 to 74196\n",
      "Data columns (total 3 columns):\n",
      " #   Column      Non-Null Count  Dtype \n",
      "---  ------      --------------  ----- \n",
      " 0   event.time  74197 non-null  object\n",
      " 1   event.name  74197 non-null  object\n",
      " 2   user.id     74197 non-null  object\n",
      "dtypes: object(3)\n",
      "memory usage: 1.7+ MB\n"
     ]
    }
   ],
   "source": [
    "print(dataset.shape)\n",
    "dataset.info()"
   ]
  },
  {
   "cell_type": "markdown",
   "id": "4b9a5fe3",
   "metadata": {},
   "source": [
    "Размер второго датасета: 3 колонки и 74 197 строк  \n",
    "Пропусков также нет, тип данных нужно поменять в столбце ``event.time`` и привести название колонок к правильному стилю"
   ]
  },
  {
   "cell_type": "markdown",
   "id": "a580552c",
   "metadata": {},
   "source": [
    "## Предобработка данных"
   ]
  },
  {
   "cell_type": "markdown",
   "id": "119ed8a5",
   "metadata": {},
   "source": [
    "Начнем с первого датасета  \n",
    "При обзоре данных пропуски не обнаружили, поэтому переходим к приведению столбцов к правильному стилю"
   ]
  },
  {
   "cell_type": "code",
   "execution_count": 9,
   "id": "87de01c4",
   "metadata": {},
   "outputs": [
    {
     "data": {
      "text/plain": [
       "Index(['user_id', 'source'], dtype='object')"
      ]
     },
     "execution_count": 9,
     "metadata": {},
     "output_type": "execute_result"
    }
   ],
   "source": [
    "#Нужно исправить колнку userId\n",
    "sources = sources.rename(columns={'userId':'user_id'})\n",
    "sources.columns"
   ]
  },
  {
   "cell_type": "code",
   "execution_count": 10,
   "id": "5ad02568",
   "metadata": {},
   "outputs": [
    {
     "data": {
      "text/plain": [
       "0"
      ]
     },
     "execution_count": 10,
     "metadata": {},
     "output_type": "execute_result"
    }
   ],
   "source": [
    "#Проверим на дубликаты\n",
    "sources.duplicated().sum()"
   ]
  },
  {
   "cell_type": "markdown",
   "id": "d2371ae6",
   "metadata": {},
   "source": [
    "Явных дубликатов в первой таблице не обнаружено"
   ]
  },
  {
   "cell_type": "code",
   "execution_count": 11,
   "id": "d75749a1",
   "metadata": {},
   "outputs": [
    {
     "data": {
      "text/plain": [
       "yandex    1934\n",
       "other     1230\n",
       "google    1129\n",
       "Name: source, dtype: int64"
      ]
     },
     "execution_count": 11,
     "metadata": {},
     "output_type": "execute_result"
    }
   ],
   "source": [
    "sources['source'].value_counts()"
   ]
  },
  {
   "cell_type": "markdown",
   "id": "e0b87269",
   "metadata": {},
   "source": [
    "В колонке ``source`` 3 значения"
   ]
  },
  {
   "cell_type": "markdown",
   "id": "addc916f",
   "metadata": {},
   "source": [
    "Тип данных изменять здесь не нужно, поэтому переходим к предобработке второго датасета"
   ]
  },
  {
   "cell_type": "code",
   "execution_count": 12,
   "id": "9333789f",
   "metadata": {},
   "outputs": [
    {
     "data": {
      "text/plain": [
       "Index(['event_time', 'event_name', 'user_id'], dtype='object')"
      ]
     },
     "execution_count": 12,
     "metadata": {},
     "output_type": "execute_result"
    }
   ],
   "source": [
    "#Приведем колонки к правильному стилю\n",
    "dataset = dataset.rename(columns=\n",
    "                        {'event.time':'event_time', 'event.name':'event_name', 'user.id':'user_id'}\n",
    ")\n",
    "dataset.columns"
   ]
  },
  {
   "cell_type": "code",
   "execution_count": 13,
   "id": "5bb9f5ec",
   "metadata": {},
   "outputs": [
    {
     "data": {
      "text/plain": [
       "0"
      ]
     },
     "execution_count": 13,
     "metadata": {},
     "output_type": "execute_result"
    }
   ],
   "source": [
    "#Поверим датасет на наличие дубликатов\n",
    "dataset.duplicated().sum()"
   ]
  },
  {
   "cell_type": "markdown",
   "id": "6bde3df5",
   "metadata": {},
   "source": [
    "Дубликатов тоже нет"
   ]
  },
  {
   "cell_type": "code",
   "execution_count": 14,
   "id": "3eee9411",
   "metadata": {},
   "outputs": [
    {
     "data": {
      "text/plain": [
       "tips_show        40055\n",
       "photos_show      10012\n",
       "advert_open       6164\n",
       "contacts_show     4450\n",
       "map               3881\n",
       "search_1          3506\n",
       "favorites_add     1417\n",
       "search_5          1049\n",
       "tips_click         814\n",
       "search_4           701\n",
       "contacts_call      541\n",
       "search_3           522\n",
       "search_6           460\n",
       "search_2           324\n",
       "search_7           222\n",
       "show_contacts       79\n",
       "Name: event_name, dtype: int64"
      ]
     },
     "execution_count": 14,
     "metadata": {},
     "output_type": "execute_result"
    }
   ],
   "source": [
    "dataset['event_name'].value_counts()"
   ]
  },
  {
   "cell_type": "markdown",
   "id": "ffc0272f",
   "metadata": {},
   "source": [
    "``contacts_show`` и ``show_contacts`` одно и тоже, поэтому приведем к одному названию, и объединими все ``search`` в один"
   ]
  },
  {
   "cell_type": "code",
   "execution_count": 15,
   "id": "07790b24",
   "metadata": {},
   "outputs": [],
   "source": [
    "dataset['event_name'] = dataset['event_name'].replace('show_contacts', 'contacts_show')"
   ]
  },
  {
   "cell_type": "code",
   "execution_count": 16,
   "id": "9cb39ad5",
   "metadata": {},
   "outputs": [
    {
     "data": {
      "text/plain": [
       "tips_show        40055\n",
       "photos_show      10012\n",
       "search            6784\n",
       "advert_open       6164\n",
       "contacts_show     4529\n",
       "map               3881\n",
       "favorites_add     1417\n",
       "tips_click         814\n",
       "contacts_call      541\n",
       "Name: event_name, dtype: int64"
      ]
     },
     "execution_count": 16,
     "metadata": {},
     "output_type": "execute_result"
    }
   ],
   "source": [
    "dataset['event_name'] = dataset['event_name'].replace({'search_1':'search', 'search_2':'search',\n",
    "                                                      'search_3':'search', 'search_4':'search',\n",
    "                                                      'search_5':'search', 'search_6':'search',\n",
    "                                                      'search_7':'search'})\n",
    "dataset['event_name'].value_counts()"
   ]
  },
  {
   "cell_type": "markdown",
   "id": "4f5360c7",
   "metadata": {},
   "source": [
    "От неявных дубликатов избавились, теперь нужно поменять типы данных"
   ]
  },
  {
   "cell_type": "code",
   "execution_count": 17,
   "id": "f43d9f81",
   "metadata": {},
   "outputs": [
    {
     "data": {
      "text/plain": [
       "0   2019-10-07 00:00:00.431357\n",
       "Name: event_time, dtype: datetime64[ns]"
      ]
     },
     "execution_count": 17,
     "metadata": {},
     "output_type": "execute_result"
    }
   ],
   "source": [
    "dataset['event_time'] = pd.to_datetime(dataset['event_time'], format= '%Y-%m-%d %H:%M:%S.%f')\n",
    "\n",
    "dataset['event_time'].head(1)"
   ]
  },
  {
   "cell_type": "markdown",
   "id": "41029649",
   "metadata": {},
   "source": [
    "Обединим 2 таблицы в одну, для дальнейшего исследования"
   ]
  },
  {
   "cell_type": "code",
   "execution_count": 18,
   "id": "b9896e1b",
   "metadata": {
    "scrolled": false
   },
   "outputs": [
    {
     "data": {
      "text/html": [
       "<div>\n",
       "<style scoped>\n",
       "    .dataframe tbody tr th:only-of-type {\n",
       "        vertical-align: middle;\n",
       "    }\n",
       "\n",
       "    .dataframe tbody tr th {\n",
       "        vertical-align: top;\n",
       "    }\n",
       "\n",
       "    .dataframe thead th {\n",
       "        text-align: right;\n",
       "    }\n",
       "</style>\n",
       "<table border=\"1\" class=\"dataframe\">\n",
       "  <thead>\n",
       "    <tr style=\"text-align: right;\">\n",
       "      <th></th>\n",
       "      <th>event_time</th>\n",
       "      <th>event_name</th>\n",
       "      <th>user_id</th>\n",
       "      <th>source</th>\n",
       "    </tr>\n",
       "  </thead>\n",
       "  <tbody>\n",
       "    <tr>\n",
       "      <th>0</th>\n",
       "      <td>2019-10-07 00:00:00.431357</td>\n",
       "      <td>advert_open</td>\n",
       "      <td>020292ab-89bc-4156-9acf-68bc2783f894</td>\n",
       "      <td>other</td>\n",
       "    </tr>\n",
       "    <tr>\n",
       "      <th>1</th>\n",
       "      <td>2019-10-07 00:00:01.236320</td>\n",
       "      <td>tips_show</td>\n",
       "      <td>020292ab-89bc-4156-9acf-68bc2783f894</td>\n",
       "      <td>other</td>\n",
       "    </tr>\n",
       "    <tr>\n",
       "      <th>2</th>\n",
       "      <td>2019-10-07 00:00:07.039334</td>\n",
       "      <td>tips_show</td>\n",
       "      <td>020292ab-89bc-4156-9acf-68bc2783f894</td>\n",
       "      <td>other</td>\n",
       "    </tr>\n",
       "    <tr>\n",
       "      <th>3</th>\n",
       "      <td>2019-10-07 00:01:27.770232</td>\n",
       "      <td>advert_open</td>\n",
       "      <td>020292ab-89bc-4156-9acf-68bc2783f894</td>\n",
       "      <td>other</td>\n",
       "    </tr>\n",
       "    <tr>\n",
       "      <th>4</th>\n",
       "      <td>2019-10-07 00:01:34.804591</td>\n",
       "      <td>tips_show</td>\n",
       "      <td>020292ab-89bc-4156-9acf-68bc2783f894</td>\n",
       "      <td>other</td>\n",
       "    </tr>\n",
       "  </tbody>\n",
       "</table>\n",
       "</div>"
      ],
      "text/plain": [
       "                  event_time   event_name  \\\n",
       "0 2019-10-07 00:00:00.431357  advert_open   \n",
       "1 2019-10-07 00:00:01.236320    tips_show   \n",
       "2 2019-10-07 00:00:07.039334    tips_show   \n",
       "3 2019-10-07 00:01:27.770232  advert_open   \n",
       "4 2019-10-07 00:01:34.804591    tips_show   \n",
       "\n",
       "                                user_id source  \n",
       "0  020292ab-89bc-4156-9acf-68bc2783f894  other  \n",
       "1  020292ab-89bc-4156-9acf-68bc2783f894  other  \n",
       "2  020292ab-89bc-4156-9acf-68bc2783f894  other  \n",
       "3  020292ab-89bc-4156-9acf-68bc2783f894  other  \n",
       "4  020292ab-89bc-4156-9acf-68bc2783f894  other  "
      ]
     },
     "execution_count": 18,
     "metadata": {},
     "output_type": "execute_result"
    }
   ],
   "source": [
    "df_oll = dataset.merge(sources, on='user_id', how='outer')\n",
    "df_oll.head()"
   ]
  },
  {
   "cell_type": "markdown",
   "id": "0cd6052c",
   "metadata": {},
   "source": [
    "**Вывод**  \n",
    "\n",
    "Мы завершили предобработку данных    \n",
    "* Проверили на наличие пропусков - их не обнаружили\n",
    "* Привели название колонок к правильному стилю\n",
    "* Сделали проверку на явные и неявные дубли\n",
    "* Измнили тип данных\n",
    "* Обединили 2 датасета в один"
   ]
  },
  {
   "cell_type": "markdown",
   "id": "d4cfbc35",
   "metadata": {},
   "source": [
    "## Исследовательский анализ данных"
   ]
  },
  {
   "cell_type": "markdown",
   "id": "003cf3d0",
   "metadata": {},
   "source": [
    "Посмотрим, сколько у нас пользователей и событий в датасете"
   ]
  },
  {
   "cell_type": "code",
   "execution_count": 19,
   "id": "0e7f9285",
   "metadata": {},
   "outputs": [
    {
     "name": "stdout",
     "output_type": "stream",
     "text": [
      "Количество пользователей = 4293\n",
      "Количество событий = 74197\n"
     ]
    }
   ],
   "source": [
    "print('Количество пользователей =', df_oll['user_id'].nunique())\n",
    "print('Количество событий =', df_oll['event_name'].count())"
   ]
  },
  {
   "cell_type": "markdown",
   "id": "2b459e5d",
   "metadata": {},
   "source": [
    "Посмотрим на характер распределение данного показателя через describe"
   ]
  },
  {
   "cell_type": "code",
   "execution_count": 20,
   "id": "3844c03f",
   "metadata": {},
   "outputs": [
    {
     "data": {
      "text/plain": [
       "count   4,293.00\n",
       "mean       17.28\n",
       "std        29.13\n",
       "min         1.00\n",
       "25%         5.00\n",
       "50%         9.00\n",
       "75%        17.00\n",
       "max       478.00\n",
       "Name: event_name, dtype: float64"
      ]
     },
     "execution_count": 20,
     "metadata": {},
     "output_type": "execute_result"
    }
   ],
   "source": [
    "event_users = df_oll.groupby('user_id')['event_name'].count()\n",
    "event_users.describe()\n"
   ]
  },
  {
   "cell_type": "markdown",
   "id": "b3250c4b",
   "metadata": {},
   "source": [
    "Среднее количество событий на одного пользователя: 17  \n",
    "Миниальное количество событий: 1  \n",
    "Максимальное количество событий: 478 (это очень активные пользователи)"
   ]
  },
  {
   "cell_type": "markdown",
   "id": "adf6c8a5",
   "metadata": {},
   "source": [
    "Нам нужно узнать, за какой период у нас есть данные"
   ]
  },
  {
   "cell_type": "code",
   "execution_count": 21,
   "id": "7a963089",
   "metadata": {},
   "outputs": [
    {
     "name": "stdout",
     "output_type": "stream",
     "text": [
      "Период = 27 days 23:58:12.101130\n"
     ]
    }
   ],
   "source": [
    "print('Период =', df_oll['event_time'].max() - df_oll['event_time'].min())"
   ]
  },
  {
   "cell_type": "markdown",
   "id": "ceeb8275",
   "metadata": {},
   "source": [
    "Почти 28 дней"
   ]
  },
  {
   "cell_type": "markdown",
   "id": "4729651e",
   "metadata": {},
   "source": [
    "Посчитаем сколько пользователей совершали ``contacts_show``"
   ]
  },
  {
   "cell_type": "code",
   "execution_count": 22,
   "id": "ad567847",
   "metadata": {},
   "outputs": [
    {
     "name": "stdout",
     "output_type": "stream",
     "text": [
      "Количество пользователей, которые совершили целевое событие = 981\n"
     ]
    }
   ],
   "source": [
    "contacts_show_users = df_oll.query('event_name == \"contacts_show\"')['user_id'].nunique()\n",
    "print('Количество пользователей, которые совершили целевое событие =', contacts_show_users)"
   ]
  },
  {
   "cell_type": "markdown",
   "id": "16ecfce2",
   "metadata": {},
   "source": [
    "Целевое событие - просмотр номера телефона  \n",
    "Проанализируем связь целевого события и других действий пользователя"
   ]
  },
  {
   "cell_type": "markdown",
   "id": "e39934eb",
   "metadata": {},
   "source": [
    "Для начала определим сессии для каждого пользователя, границей сделаем 1 час  "
   ]
  },
  {
   "cell_type": "code",
   "execution_count": 23,
   "id": "d6a291a0",
   "metadata": {},
   "outputs": [
    {
     "data": {
      "text/html": [
       "<div>\n",
       "<style scoped>\n",
       "    .dataframe tbody tr th:only-of-type {\n",
       "        vertical-align: middle;\n",
       "    }\n",
       "\n",
       "    .dataframe tbody tr th {\n",
       "        vertical-align: top;\n",
       "    }\n",
       "\n",
       "    .dataframe thead th {\n",
       "        text-align: right;\n",
       "    }\n",
       "</style>\n",
       "<table border=\"1\" class=\"dataframe\">\n",
       "  <thead>\n",
       "    <tr style=\"text-align: right;\">\n",
       "      <th></th>\n",
       "      <th>event_time</th>\n",
       "      <th>event_name</th>\n",
       "      <th>user_id</th>\n",
       "      <th>source</th>\n",
       "      <th>session_id</th>\n",
       "    </tr>\n",
       "  </thead>\n",
       "  <tbody>\n",
       "    <tr>\n",
       "      <th>0</th>\n",
       "      <td>2019-10-07 00:00:00.431357</td>\n",
       "      <td>advert_open</td>\n",
       "      <td>020292ab-89bc-4156-9acf-68bc2783f894</td>\n",
       "      <td>other</td>\n",
       "      <td>1</td>\n",
       "    </tr>\n",
       "    <tr>\n",
       "      <th>1</th>\n",
       "      <td>2019-10-07 00:00:01.236320</td>\n",
       "      <td>tips_show</td>\n",
       "      <td>020292ab-89bc-4156-9acf-68bc2783f894</td>\n",
       "      <td>other</td>\n",
       "      <td>1</td>\n",
       "    </tr>\n",
       "    <tr>\n",
       "      <th>2</th>\n",
       "      <td>2019-10-07 00:00:07.039334</td>\n",
       "      <td>tips_show</td>\n",
       "      <td>020292ab-89bc-4156-9acf-68bc2783f894</td>\n",
       "      <td>other</td>\n",
       "      <td>1</td>\n",
       "    </tr>\n",
       "    <tr>\n",
       "      <th>3</th>\n",
       "      <td>2019-10-07 00:01:27.770232</td>\n",
       "      <td>advert_open</td>\n",
       "      <td>020292ab-89bc-4156-9acf-68bc2783f894</td>\n",
       "      <td>other</td>\n",
       "      <td>1</td>\n",
       "    </tr>\n",
       "    <tr>\n",
       "      <th>4</th>\n",
       "      <td>2019-10-07 00:01:34.804591</td>\n",
       "      <td>tips_show</td>\n",
       "      <td>020292ab-89bc-4156-9acf-68bc2783f894</td>\n",
       "      <td>other</td>\n",
       "      <td>1</td>\n",
       "    </tr>\n",
       "  </tbody>\n",
       "</table>\n",
       "</div>"
      ],
      "text/plain": [
       "                  event_time   event_name  \\\n",
       "0 2019-10-07 00:00:00.431357  advert_open   \n",
       "1 2019-10-07 00:00:01.236320    tips_show   \n",
       "2 2019-10-07 00:00:07.039334    tips_show   \n",
       "3 2019-10-07 00:01:27.770232  advert_open   \n",
       "4 2019-10-07 00:01:34.804591    tips_show   \n",
       "\n",
       "                                user_id source  session_id  \n",
       "0  020292ab-89bc-4156-9acf-68bc2783f894  other           1  \n",
       "1  020292ab-89bc-4156-9acf-68bc2783f894  other           1  \n",
       "2  020292ab-89bc-4156-9acf-68bc2783f894  other           1  \n",
       "3  020292ab-89bc-4156-9acf-68bc2783f894  other           1  \n",
       "4  020292ab-89bc-4156-9acf-68bc2783f894  other           1  "
      ]
     },
     "execution_count": 23,
     "metadata": {},
     "output_type": "execute_result"
    }
   ],
   "source": [
    "g = (df_oll.groupby('user_id')['event_time'].diff() > pd.Timedelta('1Hour')).cumsum()\n",
    "#Добавим новую колонку\n",
    "df_oll['session_id'] = df_oll.groupby(['user_id', g], sort=False).ngroup() + 1\n",
    "df_oll.head()"
   ]
  },
  {
   "cell_type": "markdown",
   "id": "f893d177",
   "metadata": {},
   "source": [
    "**Сессии определили, теперь построим матрицу корреляций**  \n",
    "Для начала соберем нужную таблицу"
   ]
  },
  {
   "cell_type": "code",
   "execution_count": 24,
   "id": "9108a03f",
   "metadata": {},
   "outputs": [
    {
     "data": {
      "text/html": [
       "<div>\n",
       "<style scoped>\n",
       "    .dataframe tbody tr th:only-of-type {\n",
       "        vertical-align: middle;\n",
       "    }\n",
       "\n",
       "    .dataframe tbody tr th {\n",
       "        vertical-align: top;\n",
       "    }\n",
       "\n",
       "    .dataframe thead th {\n",
       "        text-align: right;\n",
       "    }\n",
       "</style>\n",
       "<table border=\"1\" class=\"dataframe\">\n",
       "  <thead>\n",
       "    <tr style=\"text-align: right;\">\n",
       "      <th>event_name</th>\n",
       "      <th>advert_open</th>\n",
       "      <th>contacts_call</th>\n",
       "      <th>contacts_show</th>\n",
       "      <th>favorites_add</th>\n",
       "      <th>map</th>\n",
       "      <th>photos_show</th>\n",
       "      <th>search</th>\n",
       "      <th>tips_click</th>\n",
       "      <th>tips_show</th>\n",
       "    </tr>\n",
       "    <tr>\n",
       "      <th>session_id</th>\n",
       "      <th></th>\n",
       "      <th></th>\n",
       "      <th></th>\n",
       "      <th></th>\n",
       "      <th></th>\n",
       "      <th></th>\n",
       "      <th></th>\n",
       "      <th></th>\n",
       "      <th></th>\n",
       "    </tr>\n",
       "  </thead>\n",
       "  <tbody>\n",
       "    <tr>\n",
       "      <th>1</th>\n",
       "      <td>10.00</td>\n",
       "      <td>NaN</td>\n",
       "      <td>NaN</td>\n",
       "      <td>NaN</td>\n",
       "      <td>3.00</td>\n",
       "      <td>NaN</td>\n",
       "      <td>NaN</td>\n",
       "      <td>NaN</td>\n",
       "      <td>15.00</td>\n",
       "    </tr>\n",
       "    <tr>\n",
       "      <th>2</th>\n",
       "      <td>10.00</td>\n",
       "      <td>NaN</td>\n",
       "      <td>NaN</td>\n",
       "      <td>NaN</td>\n",
       "      <td>NaN</td>\n",
       "      <td>NaN</td>\n",
       "      <td>NaN</td>\n",
       "      <td>1.00</td>\n",
       "      <td>14.00</td>\n",
       "    </tr>\n",
       "    <tr>\n",
       "      <th>3</th>\n",
       "      <td>3.00</td>\n",
       "      <td>NaN</td>\n",
       "      <td>NaN</td>\n",
       "      <td>NaN</td>\n",
       "      <td>1.00</td>\n",
       "      <td>NaN</td>\n",
       "      <td>1.00</td>\n",
       "      <td>NaN</td>\n",
       "      <td>3.00</td>\n",
       "    </tr>\n",
       "    <tr>\n",
       "      <th>4</th>\n",
       "      <td>2.00</td>\n",
       "      <td>NaN</td>\n",
       "      <td>NaN</td>\n",
       "      <td>NaN</td>\n",
       "      <td>NaN</td>\n",
       "      <td>NaN</td>\n",
       "      <td>NaN</td>\n",
       "      <td>NaN</td>\n",
       "      <td>14.00</td>\n",
       "    </tr>\n",
       "    <tr>\n",
       "      <th>5</th>\n",
       "      <td>NaN</td>\n",
       "      <td>NaN</td>\n",
       "      <td>NaN</td>\n",
       "      <td>NaN</td>\n",
       "      <td>5.00</td>\n",
       "      <td>NaN</td>\n",
       "      <td>3.00</td>\n",
       "      <td>NaN</td>\n",
       "      <td>13.00</td>\n",
       "    </tr>\n",
       "  </tbody>\n",
       "</table>\n",
       "</div>"
      ],
      "text/plain": [
       "event_name  advert_open  contacts_call  contacts_show  favorites_add  map  \\\n",
       "session_id                                                                  \n",
       "1                 10.00            NaN            NaN            NaN 3.00   \n",
       "2                 10.00            NaN            NaN            NaN  NaN   \n",
       "3                  3.00            NaN            NaN            NaN 1.00   \n",
       "4                  2.00            NaN            NaN            NaN  NaN   \n",
       "5                   NaN            NaN            NaN            NaN 5.00   \n",
       "\n",
       "event_name  photos_show  search  tips_click  tips_show  \n",
       "session_id                                              \n",
       "1                   NaN     NaN         NaN      15.00  \n",
       "2                   NaN     NaN        1.00      14.00  \n",
       "3                   NaN    1.00         NaN       3.00  \n",
       "4                   NaN     NaN         NaN      14.00  \n",
       "5                   NaN    3.00         NaN      13.00  "
      ]
     },
     "execution_count": 24,
     "metadata": {},
     "output_type": "execute_result"
    }
   ],
   "source": [
    "events = df_oll.pivot_table(columns='event_name', index='session_id', values='user_id', aggfunc='count')\n",
    "events.head()"
   ]
  },
  {
   "cell_type": "code",
   "execution_count": 25,
   "id": "42b60039",
   "metadata": {},
   "outputs": [
    {
     "data": {
      "image/png": "[encoded data removed]",
      "text/plain": [
       "<Figure size 1500x1500 with 2 Axes>"
      ]
     },
     "metadata": {},
     "output_type": "display_data"
    }
   ],
   "source": [
    "#Строим матрицу корреляций\n",
    "cm = events.corr()\n",
    "fig, ax = plt.subplots(figsize=[15,15])\n",
    "sns.heatmap(cm, annot=True, square=True, linewidths=.5, cmap='coolwarm')\n",
    "plt.show()"
   ]
  },
  {
   "cell_type": "markdown",
   "id": "85b8203b",
   "metadata": {},
   "source": [
    "Мы наблюдаем сильную корреляцию с событием ``contacts_call``, но оно происходит после целевого действия  \n",
    "Также сильная корреляция с событием ``favorites_add``"
   ]
  },
  {
   "cell_type": "markdown",
   "id": "254095a2",
   "metadata": {},
   "source": [
    "Для каждой сессии есть свой уникальный список событий, определим под каждую сессию уникальные события"
   ]
  },
  {
   "cell_type": "code",
   "execution_count": 26,
   "id": "8e9d1b5e",
   "metadata": {},
   "outputs": [
    {
     "data": {
      "text/html": [
       "<div>\n",
       "<style scoped>\n",
       "    .dataframe tbody tr th:only-of-type {\n",
       "        vertical-align: middle;\n",
       "    }\n",
       "\n",
       "    .dataframe tbody tr th {\n",
       "        vertical-align: top;\n",
       "    }\n",
       "\n",
       "    .dataframe thead th {\n",
       "        text-align: right;\n",
       "    }\n",
       "</style>\n",
       "<table border=\"1\" class=\"dataframe\">\n",
       "  <thead>\n",
       "    <tr style=\"text-align: right;\">\n",
       "      <th></th>\n",
       "      <th>session_id</th>\n",
       "      <th>event_unique</th>\n",
       "    </tr>\n",
       "  </thead>\n",
       "  <tbody>\n",
       "    <tr>\n",
       "      <th>0</th>\n",
       "      <td>1</td>\n",
       "      <td>[advert_open, tips_show, map]</td>\n",
       "    </tr>\n",
       "    <tr>\n",
       "      <th>1</th>\n",
       "      <td>2</td>\n",
       "      <td>[tips_show, advert_open, tips_click]</td>\n",
       "    </tr>\n",
       "    <tr>\n",
       "      <th>2</th>\n",
       "      <td>3</td>\n",
       "      <td>[advert_open, tips_show, search, map]</td>\n",
       "    </tr>\n",
       "    <tr>\n",
       "      <th>3</th>\n",
       "      <td>4</td>\n",
       "      <td>[tips_show, advert_open]</td>\n",
       "    </tr>\n",
       "    <tr>\n",
       "      <th>4</th>\n",
       "      <td>5</td>\n",
       "      <td>[tips_show, map, search]</td>\n",
       "    </tr>\n",
       "    <tr>\n",
       "      <th>5</th>\n",
       "      <td>6</td>\n",
       "      <td>[tips_show]</td>\n",
       "    </tr>\n",
       "    <tr>\n",
       "      <th>6</th>\n",
       "      <td>7</td>\n",
       "      <td>[tips_show, map, advert_open, tips_click]</td>\n",
       "    </tr>\n",
       "    <tr>\n",
       "      <th>7</th>\n",
       "      <td>8</td>\n",
       "      <td>[advert_open, tips_show]</td>\n",
       "    </tr>\n",
       "    <tr>\n",
       "      <th>8</th>\n",
       "      <td>9</td>\n",
       "      <td>[tips_show, contacts_show, tips_click]</td>\n",
       "    </tr>\n",
       "    <tr>\n",
       "      <th>9</th>\n",
       "      <td>10</td>\n",
       "      <td>[search, map, tips_show, tips_click]</td>\n",
       "    </tr>\n",
       "  </tbody>\n",
       "</table>\n",
       "</div>"
      ],
      "text/plain": [
       "   session_id                               event_unique\n",
       "0           1              [advert_open, tips_show, map]\n",
       "1           2       [tips_show, advert_open, tips_click]\n",
       "2           3      [advert_open, tips_show, search, map]\n",
       "3           4                   [tips_show, advert_open]\n",
       "4           5                   [tips_show, map, search]\n",
       "5           6                                [tips_show]\n",
       "6           7  [tips_show, map, advert_open, tips_click]\n",
       "7           8                   [advert_open, tips_show]\n",
       "8           9     [tips_show, contacts_show, tips_click]\n",
       "9          10       [search, map, tips_show, tips_click]"
      ]
     },
     "execution_count": 26,
     "metadata": {},
     "output_type": "execute_result"
    }
   ],
   "source": [
    "event_unique = df_oll.groupby('session_id').agg(event_unique=('event_name', 'unique')).reset_index()\n",
    "event_unique.head(10)"
   ]
  },
  {
   "cell_type": "markdown",
   "id": "150cb937",
   "metadata": {},
   "source": [
    "Мы сделали уникальный сценарий под каждую сессию, теперь определим самые популярные, которые чаще всего встречаются"
   ]
  },
  {
   "cell_type": "code",
   "execution_count": 27,
   "id": "dd0da58a",
   "metadata": {},
   "outputs": [
    {
     "data": {
      "text/html": [
       "<div>\n",
       "<style scoped>\n",
       "    .dataframe tbody tr th:only-of-type {\n",
       "        vertical-align: middle;\n",
       "    }\n",
       "\n",
       "    .dataframe tbody tr th {\n",
       "        vertical-align: top;\n",
       "    }\n",
       "\n",
       "    .dataframe thead th {\n",
       "        text-align: right;\n",
       "    }\n",
       "</style>\n",
       "<table border=\"1\" class=\"dataframe\">\n",
       "  <thead>\n",
       "    <tr style=\"text-align: right;\">\n",
       "      <th></th>\n",
       "      <th>index</th>\n",
       "      <th>event_unique</th>\n",
       "    </tr>\n",
       "  </thead>\n",
       "  <tbody>\n",
       "    <tr>\n",
       "      <th>0</th>\n",
       "      <td>['tips_show']</td>\n",
       "      <td>2331</td>\n",
       "    </tr>\n",
       "    <tr>\n",
       "      <th>1</th>\n",
       "      <td>['photos_show']</td>\n",
       "      <td>1198</td>\n",
       "    </tr>\n",
       "    <tr>\n",
       "      <th>2</th>\n",
       "      <td>['search']</td>\n",
       "      <td>695</td>\n",
       "    </tr>\n",
       "    <tr>\n",
       "      <th>3</th>\n",
       "      <td>['map' 'tips_show']</td>\n",
       "      <td>527</td>\n",
       "    </tr>\n",
       "    <tr>\n",
       "      <th>4</th>\n",
       "      <td>['search' 'photos_show']</td>\n",
       "      <td>508</td>\n",
       "    </tr>\n",
       "    <tr>\n",
       "      <th>5</th>\n",
       "      <td>['search' 'tips_show']</td>\n",
       "      <td>401</td>\n",
       "    </tr>\n",
       "    <tr>\n",
       "      <th>6</th>\n",
       "      <td>['tips_show' 'contacts_show']</td>\n",
       "      <td>305</td>\n",
       "    </tr>\n",
       "    <tr>\n",
       "      <th>7</th>\n",
       "      <td>['tips_show' 'map']</td>\n",
       "      <td>193</td>\n",
       "    </tr>\n",
       "    <tr>\n",
       "      <th>8</th>\n",
       "      <td>['contacts_show']</td>\n",
       "      <td>171</td>\n",
       "    </tr>\n",
       "    <tr>\n",
       "      <th>9</th>\n",
       "      <td>['map' 'advert_open' 'tips_show']</td>\n",
       "      <td>162</td>\n",
       "    </tr>\n",
       "    <tr>\n",
       "      <th>10</th>\n",
       "      <td>['tips_show' 'tips_click']</td>\n",
       "      <td>154</td>\n",
       "    </tr>\n",
       "    <tr>\n",
       "      <th>11</th>\n",
       "      <td>['advert_open']</td>\n",
       "      <td>121</td>\n",
       "    </tr>\n",
       "    <tr>\n",
       "      <th>12</th>\n",
       "      <td>['map']</td>\n",
       "      <td>114</td>\n",
       "    </tr>\n",
       "    <tr>\n",
       "      <th>13</th>\n",
       "      <td>['advert_open' 'tips_show']</td>\n",
       "      <td>109</td>\n",
       "    </tr>\n",
       "    <tr>\n",
       "      <th>14</th>\n",
       "      <td>['photos_show' 'search']</td>\n",
       "      <td>107</td>\n",
       "    </tr>\n",
       "    <tr>\n",
       "      <th>15</th>\n",
       "      <td>['search' 'map' 'tips_show']</td>\n",
       "      <td>102</td>\n",
       "    </tr>\n",
       "    <tr>\n",
       "      <th>16</th>\n",
       "      <td>['contacts_show' 'contacts_call']</td>\n",
       "      <td>99</td>\n",
       "    </tr>\n",
       "    <tr>\n",
       "      <th>17</th>\n",
       "      <td>['map' 'tips_show' 'contacts_show']</td>\n",
       "      <td>90</td>\n",
       "    </tr>\n",
       "    <tr>\n",
       "      <th>18</th>\n",
       "      <td>['search' 'map' 'advert_open' 'tips_show']</td>\n",
       "      <td>82</td>\n",
       "    </tr>\n",
       "    <tr>\n",
       "      <th>19</th>\n",
       "      <td>['photos_show' 'contacts_show']</td>\n",
       "      <td>74</td>\n",
       "    </tr>\n",
       "  </tbody>\n",
       "</table>\n",
       "</div>"
      ],
      "text/plain": [
       "                                         index  event_unique\n",
       "0                                ['tips_show']          2331\n",
       "1                              ['photos_show']          1198\n",
       "2                                   ['search']           695\n",
       "3                          ['map' 'tips_show']           527\n",
       "4                     ['search' 'photos_show']           508\n",
       "5                       ['search' 'tips_show']           401\n",
       "6                ['tips_show' 'contacts_show']           305\n",
       "7                          ['tips_show' 'map']           193\n",
       "8                            ['contacts_show']           171\n",
       "9            ['map' 'advert_open' 'tips_show']           162\n",
       "10                  ['tips_show' 'tips_click']           154\n",
       "11                             ['advert_open']           121\n",
       "12                                     ['map']           114\n",
       "13                 ['advert_open' 'tips_show']           109\n",
       "14                    ['photos_show' 'search']           107\n",
       "15                ['search' 'map' 'tips_show']           102\n",
       "16           ['contacts_show' 'contacts_call']            99\n",
       "17         ['map' 'tips_show' 'contacts_show']            90\n",
       "18  ['search' 'map' 'advert_open' 'tips_show']            82\n",
       "19             ['photos_show' 'contacts_show']            74"
      ]
     },
     "execution_count": 27,
     "metadata": {},
     "output_type": "execute_result"
    }
   ],
   "source": [
    "event_unique['event_unique'] = event_unique['event_unique'].apply(lambda x: str(x))\n",
    "event_count = event_unique['event_unique'].value_counts().reset_index()\n",
    "event_count.head(20)"
   ]
  },
  {
   "cell_type": "markdown",
   "id": "54953416",
   "metadata": {},
   "source": [
    "* Самый популярный сценарий пользователя - просмотр рекомендованных объявлений\n",
    "* На 7 месте видим сценарий, в котором присутствует целевое действие - увидел рекомендованное объявление и посмотрел номер телефона - в датасете такой сценарий повторили 305 раз  \n",
    "* Также видим сценарий, где пользователь только просмотрел контакт, скорей всего, он его ранее добавил в избранное и через время, когда сессия закончилась - прозвонил  \n",
    "* Есть сценарий, который совершили 90 раз - открыл карту объявлений, увидел рекомендованные объявления и посмотрел номер телефона"
   ]
  },
  {
   "cell_type": "markdown",
   "id": "73691fb3",
   "metadata": {},
   "source": [
    "Мы определили самые популярные сценарии с целевым действием,теперь можем простроить воронки  \n",
    "Начнем с первого сценария: увидел рекомендованное объявление и посмотрел номер телефона "
   ]
  },
  {
   "cell_type": "code",
   "execution_count": 28,
   "id": "58bb58e1",
   "metadata": {},
   "outputs": [
    {
     "name": "stdout",
     "output_type": "stream",
     "text": [
      "Количество пользователей, которые совершили событие tips_show = 2801\n",
      "Количество пользователей, которые совершили событие contacts_show = 516\n"
     ]
    }
   ],
   "source": [
    "#Посчитаем количество событий для воронки\n",
    "\n",
    "tips_show_list = df_oll.query('event_name == \"tips_show\"')['user_id'].unique()\n",
    "tips_show_contacts_show_list = df_oll.query(\n",
    "    'user_id in @tips_show_list and event_name == \"contacts_show\"')['user_id'].unique()\n",
    "\n",
    "print('Количество пользователей, которые совершили событие tips_show =',len(tips_show_list))\n",
    "print('Количество пользователей, которые совершили событие contacts_show =',len(tips_show_contacts_show_list))"
   ]
  },
  {
   "cell_type": "code",
   "execution_count": 29,
   "id": "551af12b",
   "metadata": {},
   "outputs": [
    {
     "data": {
      "image/png": "[encoded data removed]"
     },
     "metadata": {},
     "output_type": "display_data"
    }
   ],
   "source": [
    "#Строим воронку по этиv событиям\n",
    "fig = go.Figure(go.Funnel(\n",
    "    y = ['tips_show', 'contacts_show'],\n",
    "    x = [len(tips_show_list), len(tips_show_contacts_show_list)],\n",
    "    textposition = 'inside',\n",
    "    textinfo = 'value+percent initial'\n",
    "\n",
    "))\n",
    "\n",
    "fig.update_layout(title_text = 'Воронка событий: tips_show - contacts_show')\n",
    "fig.show('png')"
   ]
  },
  {
   "cell_type": "markdown",
   "id": "ee842dd3",
   "metadata": {},
   "source": [
    "Мы видим, что конверсия перехода от события ``tips_show`` 18.4% построим еще воронку с другими событиями, чтобы посмотреть лучшую комбинацию "
   ]
  },
  {
   "cell_type": "markdown",
   "id": "53daf31a",
   "metadata": {},
   "source": [
    "Следующий сценарий: map - tips_show - contacts_show"
   ]
  },
  {
   "cell_type": "code",
   "execution_count": 30,
   "id": "e2c90fdb",
   "metadata": {},
   "outputs": [
    {
     "name": "stdout",
     "output_type": "stream",
     "text": [
      "Количество пользователей, которые совершили событие map = 1456\n",
      "Количество пользователей, которые совершили событие tips_show = 1352\n",
      "Количество пользователей, которые совершили событие contacts_show = 275\n"
     ]
    }
   ],
   "source": [
    "map_list = df_oll.query('event_name == \"map\"')['user_id'].unique()\n",
    "map_tips_show_list = df_oll.query('user_id in @map_list and event_name == \"tips_show\"')['user_id'].unique()\n",
    "map_tips_show_contacts_show_list = df_oll.query(\n",
    "    'user_id in @map_tips_show_list and event_name == \"contacts_show\"')['user_id'].unique()\n",
    "\n",
    "print('Количество пользователей, которые совершили событие map =',len(map_list))\n",
    "print('Количество пользователей, которые совершили событие tips_show =',len(map_tips_show_list))\n",
    "print('Количество пользователей, которые совершили событие contacts_show =',len(map_tips_show_contacts_show_list))"
   ]
  },
  {
   "cell_type": "code",
   "execution_count": 31,
   "id": "7f85c247",
   "metadata": {},
   "outputs": [
    {
     "data": {
      "image/png": "[encoded data removed]"
     },
     "metadata": {},
     "output_type": "display_data"
    }
   ],
   "source": [
    "#Построим воронку\n",
    "\n",
    "fig = go.Figure(go.Funnel(\n",
    "    y = ['map', 'tips_show', 'contacts_show'],\n",
    "    x = [len(map_list), len(map_tips_show_list), len(map_tips_show_contacts_show_list)],\n",
    "    textposition = 'inside',\n",
    "    textinfo = 'value+percent initial'\n",
    "))\n",
    "fig.update_layout(title_text = 'Воронка событий: map - tips_show - contacts_show')\n",
    "fig.show('png')"
   ]
  },
  {
   "cell_type": "markdown",
   "id": "113189d2",
   "metadata": {},
   "source": [
    "Конверсия по предыдущему событию выше, чем в первом сценарии - 20.3%  \n",
    "Конверсия от первого события состовляет: 18,9%"
   ]
  },
  {
   "cell_type": "markdown",
   "id": "49a4eefe",
   "metadata": {},
   "source": [
    "**Воронки по самым популярным сенариям построили, теперь посчитаем конверсию из каждого события в целевое**"
   ]
  },
  {
   "cell_type": "code",
   "execution_count": 32,
   "id": "0c721dc1",
   "metadata": {},
   "outputs": [
    {
     "data": {
      "text/plain": [
       "['advert_open',\n",
       " 'tips_show',\n",
       " 'map',\n",
       " 'tips_click',\n",
       " 'search',\n",
       " 'photos_show',\n",
       " 'favorites_add',\n",
       " 'contacts_call']"
      ]
     },
     "execution_count": 32,
     "metadata": {},
     "output_type": "execute_result"
    }
   ],
   "source": [
    "#Соберем список из событий\n",
    "events_name = list(df_oll['event_name'].unique())\n",
    "events_name.remove('contacts_show')\n",
    "events_name"
   ]
  },
  {
   "cell_type": "code",
   "execution_count": 33,
   "id": "e0396e4a",
   "metadata": {},
   "outputs": [
    {
     "name": "stdout",
     "output_type": "stream",
     "text": [
      "Конверсия advert_open - contacts_show 18.4%\n",
      "Конверсия tips_show - contacts_show 18.4%\n",
      "Конверсия map - contacts_show 19.8%\n",
      "Конверсия tips_click - contacts_show 31.1%\n",
      "Конверсия search - contacts_show 22.6%\n",
      "Конверсия photos_show - contacts_show 31.0%\n",
      "Конверсия favorites_add - contacts_show 38.7%\n",
      "Конверсия contacts_call - contacts_show 100.0%\n"
     ]
    }
   ],
   "source": [
    "#Через цикл посмотрим конверсии по каждому событию в целевое событие\n",
    "for i in events_name:\n",
    "    one_list = df_oll.query('event_name == @i')['user_id'].unique()\n",
    "    two_list = df_oll.query(\n",
    "        'user_id in @one_list and event_name == \"contacts_show\"')['user_id'].unique()\n",
    "\n",
    "    print(f'Конверсия {i} - contacts_show {round((len(two_list)/len(one_list))* 100, 1)}%')"
   ]
  },
  {
   "cell_type": "markdown",
   "id": "d7ba84c5",
   "metadata": {},
   "source": [
    "Самая высокая конверсия с событием ``favorites_add`` - 38.7% и также сильная корреляция  \n",
    "На это событие стоит обратить пристальное внимание  \n",
    "Второе место у события ``photos_show`` - 31%, что говорит о том, что после просмотра товара появляется желание связаться с продавцом, чтобы купить  \n",
    "У нас еще есть конверсия 100% по событию ``contacts_call``, так как оно проходит после целевого"
   ]
  },
  {
   "cell_type": "markdown",
   "id": "c9775f8f",
   "metadata": {},
   "source": [
    "**Посмотрим, как различается время между распространенными событиями пользователей**"
   ]
  },
  {
   "cell_type": "markdown",
   "id": "cc611d7d",
   "metadata": {},
   "source": [
    "Создадим функцию, которая будет счтитать время между событиями внутри сессии"
   ]
  },
  {
   "cell_type": "code",
   "execution_count": 34,
   "id": "494949b3",
   "metadata": {},
   "outputs": [],
   "source": [
    "def time_between(e_1, e_2):\n",
    "    #выделим сессии, в которых встречаются оба события\n",
    "    event_1 = df_oll[df_oll['event_name'] == e_1]\n",
    "    list_1 = event_1['session_id'].unique()\n",
    "    \n",
    "    event_2 = df_oll[df_oll['event_name'] == e_2]\n",
    "    list_2 = event_2['session_id'].unique()\n",
    "    \n",
    "    events_list = set(list(set(list_1) & set(list_2))) #найдем пересечение событий\n",
    "    event_1_2 = df_oll[df_oll['session_id'].isin(events_list)] #отфильтруем по списку\n",
    "    \n",
    "    #удалим лишние события из датасета\n",
    "    event_1_2 = event_1_2.query('event_name == @e_1 | event_name == @e_2')\n",
    "    \n",
    "    #найдем минимальную дату первого события внутри сессии и минимальную дату второго события\n",
    "    event_1_2 = pd.pivot_table(event_1_2, values='event_time', index='session_id', columns='event_name')\n",
    "    \n",
    "    #удалим события в обратной последовательности\n",
    "    event_1_2['diff'] = event_1_2[e_2] - event_1_2[e_1]\n",
    "    #удалим лишние строки\n",
    "    event_1_2.drop(event_1_2[event_1_2[e_1] > event_1_2[e_2]].index, inplace = True)\n",
    "    #переведем интервал в секунды\n",
    "    event_1_2['diff'] = event_1_2['diff'].apply(lambda x: x.total_seconds())\n",
    "    \n",
    "    return(event_1_2)"
   ]
  },
  {
   "cell_type": "markdown",
   "id": "c6958834",
   "metadata": {},
   "source": [
    "Посчитаем среднее время и медиану по событиями и целевому действию"
   ]
  },
  {
   "cell_type": "code",
   "execution_count": 35,
   "id": "9b220b24",
   "metadata": {},
   "outputs": [
    {
     "name": "stdout",
     "output_type": "stream",
     "text": [
      "Среднее время между advert_open и contacts_show = 14.72 минут\n",
      "Медиана между advert_open и contacts_show = 6.39 минут\n",
      "\n",
      "Среднее время между tips_show и contacts_show = 9.1 минут\n",
      "Медиана между tips_show и contacts_show = 5.24 минут\n",
      "\n",
      "Среднее время между map и contacts_show = 16.72 минут\n",
      "Медиана между map и contacts_show = 9.73 минут\n",
      "\n",
      "Среднее время между tips_click и contacts_show = 18.2 минут\n",
      "Медиана между tips_click и contacts_show = 10.92 минут\n",
      "\n",
      "Среднее время между search и contacts_show = 14.18 минут\n",
      "Медиана между search и contacts_show = 6.6 минут\n",
      "\n",
      "Среднее время между photos_show и contacts_show = 11.69 минут\n",
      "Медиана между photos_show и contacts_show = 5.07 минут\n",
      "\n",
      "Среднее время между favorites_add и contacts_show = 13.08 минут\n",
      "Медиана между favorites_add и contacts_show = 5.83 минут\n",
      "\n",
      "Среднее время между contacts_call и contacts_show = 5.96 минут\n",
      "Медиана между contacts_call и contacts_show = 3.27 минут\n",
      "\n"
     ]
    }
   ],
   "source": [
    "#Сделаем это через цикл\n",
    "for i in events_name:\n",
    "    event = time_between(i, 'contacts_show')\n",
    "    print(f'Среднее время между {i} и contacts_show =', round(event['diff'].mean() / 60, 2), 'минут')\n",
    "    print(f'Медиана между {i} и contacts_show =', round(event['diff'].median() / 60, 2), 'минут')\n",
    "    print()"
   ]
  },
  {
   "cell_type": "markdown",
   "id": "e401423b",
   "metadata": {},
   "source": [
    "Среднее подверженно выбросам, поэтому вывод будем делать по медиане:  \n",
    "Быстрее всего пользовтель принимает решение открыть контакт продавца после просмотра фото"
   ]
  },
  {
   "cell_type": "markdown",
   "id": "a7ccea39",
   "metadata": {},
   "source": [
    "**Вывод:**  \n",
    "\n",
    "* Мы определили сессии для каждого пользователя, границей сделали 1 час\n",
    "* Построили матрицу корреляций, где обнаружили сильную корреляцию с событием ``favorites_add``\n",
    "* Собрали уникальные сценарии и выбралии самые популярные с целевым действием\n",
    "* Из двух сценариев лучше показал себя: ``map - tips_show - contacts_show``, на нем нужно делать упор, так как действий здесь совершенно меньше, но конверсии выше, хоть и незначительно\n",
    "* Просчитали конверсию по каждому событию отдельно: Самая высокая конверсия с событием ``favorites_add`` - 38.7% и также сильная корреляция\n",
    "* Второе место у события ``photos_show`` - 31%, что говорит о том, что после просмотра товара появляется желание связаться с продавцом, чтобы купить\n",
    "* Быстрее всего пользовтель принимает решение открыть контакт продавца после просмотра фото, что еще раз говорит о том, что фото сильно влиюет на решение"
   ]
  },
  {
   "cell_type": "markdown",
   "id": "e6e35d8a",
   "metadata": {},
   "source": [
    "## Проверка гипотез"
   ]
  },
  {
   "cell_type": "markdown",
   "id": "da03782e",
   "metadata": {},
   "source": [
    "**Первая гипотеза звучит так:** Одни пользователи совершают действия tips_show и tips_click, другие — только tips_show.  \n",
    "Проверить гипотезу, что конверсия в просмотры контактов различается у этих двух групп  \n",
    "\n",
    "Нулевая гипотеза: Конверсия в просмотры контактов не различается  \n",
    "Альтернативная гипотеза:  Конверсия в просмотры контактов различается у этих двух групп"
   ]
  },
  {
   "cell_type": "markdown",
   "id": "2a4c9341",
   "metadata": {},
   "source": [
    "Для начала выделим всех пользователей, кто совершил действие``tips_show``, а затем разделим их на 2 группы - кто совершал ``tips_click`` и кто нет"
   ]
  },
  {
   "cell_type": "code",
   "execution_count": 36,
   "id": "2f79551a",
   "metadata": {},
   "outputs": [
    {
     "name": "stdout",
     "output_type": "stream",
     "text": [
      "Количество пользователей \"tips_show\" = 2801\n",
      "Количество пользователей \"tips_show\"+\"tips_click\" = 297\n",
      "Количество пользователей только \"tips_show\" = 2504\n"
     ]
    }
   ],
   "source": [
    "tips_show_users = df_oll.query('event_name ==\"tips_show\"')['user_id'].unique().tolist()\n",
    "print('Количество пользователей \"tips_show\" =', len(tips_show_users))\n",
    "\n",
    "tips_show_click_users = df_oll.query(\n",
    "    'event_name ==\"tips_click\" and user_id==@tips_show_users')['user_id'].unique().tolist()\n",
    "print('Количество пользователей \"tips_show\"+\"tips_click\" =', len(tips_show_click_users))\n",
    "\n",
    "only_tips_show_users = list(set(tips_show_users) - set(tips_show_click_users))\n",
    "print('Количество пользователей только \"tips_show\" =', len(only_tips_show_users))"
   ]
  },
  {
   "cell_type": "markdown",
   "id": "f960797d",
   "metadata": {},
   "source": [
    "Подсчитаем конверсию в ``contacts_show`` каждой группы"
   ]
  },
  {
   "cell_type": "markdown",
   "id": "64fab899",
   "metadata": {},
   "source": [
    "Начнем с группы, где пользователь совершил 2 события ``tips_show`` и ``tips_click``"
   ]
  },
  {
   "cell_type": "code",
   "execution_count": 37,
   "id": "a5cb9526",
   "metadata": {
    "scrolled": false
   },
   "outputs": [
    {
     "name": "stdout",
     "output_type": "stream",
     "text": [
      "Количество пользователей, которые совершили целевое событие = 91\n",
      "Конверсия в целевое событие = 30.64%\n"
     ]
    }
   ],
   "source": [
    "#Первая группа\n",
    "contacts_show_in_tips_show_click = df_oll.query(\n",
    "    'user_id in @tips_show_click_users and event_name == \"contacts_show\"')['user_id'].nunique()\n",
    "\n",
    "print('Количество пользователей, которые совершили целевое событие =', contacts_show_in_tips_show_click)\n",
    "print(f'Конверсия в целевое событие = {round(contacts_show_in_tips_show_click/len(tips_show_click_users)*100,2)}%')"
   ]
  },
  {
   "cell_type": "markdown",
   "id": "214a0262",
   "metadata": {},
   "source": [
    "Переходим к группе, где пользователи совершили только одно событие ``tips_show``"
   ]
  },
  {
   "cell_type": "code",
   "execution_count": 38,
   "id": "ba1b08a4",
   "metadata": {},
   "outputs": [
    {
     "name": "stdout",
     "output_type": "stream",
     "text": [
      "Количество пользователей, которые совершили целевое событие = 425\n",
      "Конверсия в целевое событие = 16.97%\n"
     ]
    }
   ],
   "source": [
    "#Вторая группа\n",
    "contacts_show_in_only_tips_show = df_oll.query(\n",
    "    'user_id in @only_tips_show_users and event_name == \"contacts_show\"')['user_id'].nunique()\n",
    "\n",
    "print('Количество пользователей, которые совершили целевое событие =', contacts_show_in_only_tips_show)\n",
    "print(f'Конверсия в целевое событие = {round(contacts_show_in_only_tips_show/len(only_tips_show_users)*100,2)}%')"
   ]
  },
  {
   "cell_type": "markdown",
   "id": "a31ce86c",
   "metadata": {},
   "source": [
    "**Для проверки гипотезы нам подходит метод - проверка гипотезы о равенстве долей**\n",
    "\n",
    "Критический уровень статистической значимости возьмем равный 5%"
   ]
  },
  {
   "cell_type": "markdown",
   "id": "f06dbe2d",
   "metadata": {},
   "source": [
    "Напишем функцию"
   ]
  },
  {
   "cell_type": "code",
   "execution_count": 39,
   "id": "688dd11f",
   "metadata": {},
   "outputs": [],
   "source": [
    "def stat_test(successes, trials, alpha):  \n",
    "\n",
    "    alpha = alpha\n",
    "    successes = successes\n",
    "    trials = trials\n",
    "\n",
    "    # пропорция успехов в первой группе:\n",
    "    p1 = successes[0]/trials[0]\n",
    "\n",
    "    # пропорция успехов во второй группе:\n",
    "    p2 = successes[1]/trials[1]\n",
    "\n",
    "    # пропорция успехов в комбинированном датасете:\n",
    "    p_combined = (successes[0] + successes[1]) / (trials[0] + trials[1])\n",
    "\n",
    "    # разница пропорций в датасетах\n",
    "    difference = p1 - p2\n",
    "\n",
    "\n",
    "    # считаем статистику в ст.отклонениях стандартного нормального распределения\n",
    "    z_value = difference / mth.sqrt(p_combined * (1 - p_combined) * (1/trials[0] + 1/trials[1]))\n",
    "\n",
    "    # задаем стандартное нормальное распределение (среднее 0, ст.отклонение 1)\n",
    "    distr = st.norm(0, 1) \n",
    "\n",
    "\n",
    "    # считаем статистику в ст.отклонениях стандартного нормального распределения\n",
    "    z_value = difference / mth.sqrt(\n",
    "        p_combined * (1 - p_combined) * (1 / trials[0] + 1 / trials[1])\n",
    "    )\n",
    "\n",
    "    # задаем стандартное нормальное распределение (среднее 0, ст.отклонение 1)\n",
    "    distr = st.norm(0, 1)\n",
    "\n",
    "    p_value = (1 - distr.cdf(abs(z_value))) * 2\n",
    "\n",
    "    print('p-значение: ', p_value)\n",
    "\n",
    "    if p_value < alpha:\n",
    "        print('Отвергаем нулевую гипотезу: между долями есть значимая разница')\n",
    "    else:\n",
    "        print(\n",
    "            'Не получилось отвергнуть нулевую гипотезу, нет оснований считать доли разными'\n",
    "        )\n"
   ]
  },
  {
   "cell_type": "code",
   "execution_count": 40,
   "id": "45ac4e77",
   "metadata": {},
   "outputs": [
    {
     "name": "stdout",
     "output_type": "stream",
     "text": [
      "p-значение:  9.218316554537864e-09\n",
      "Отвергаем нулевую гипотезу: между долями есть значимая разница\n"
     ]
    }
   ],
   "source": [
    "alpha = .05\n",
    "successes = [contacts_show_in_tips_show_click, contacts_show_in_only_tips_show]\n",
    "trials = [len(tips_show_click_users), len(only_tips_show_users)]\n",
    "\n",
    "stat_test(successes, trials, alpha)"
   ]
  },
  {
   "cell_type": "markdown",
   "id": "cefa5296",
   "metadata": {},
   "source": [
    "**Вывод:** Конверсия в ``contacts_show`` у двух групп пользователей различается"
   ]
  },
  {
   "cell_type": "markdown",
   "id": "dd664c64",
   "metadata": {},
   "source": [
    "**Вторая гипотеза**\n",
    "\n",
    "Пользователи могут совершить целевое действие после того, как добавят объявление в избранное, а могут и сразу   \n",
    "\n",
    "Нулевая гипотеза: конверсия в целевое действие не отличается у пользователей, кто добавил избранное, а кто нет  \n",
    "Альтернативная гипотеза: конверсия в целевое действие отличается у пользователей  "
   ]
  },
  {
   "cell_type": "markdown",
   "id": "048b7c7d",
   "metadata": {},
   "source": [
    "Соберем пользователей, кто добавил объявление в избранное и кто не добавлял"
   ]
  },
  {
   "cell_type": "code",
   "execution_count": 41,
   "id": "6f3fe499",
   "metadata": {},
   "outputs": [
    {
     "name": "stdout",
     "output_type": "stream",
     "text": [
      "Количество пользователей, кто добавил в избранное = 351\n",
      "Количество пользователей, кто не добавил в избранное = 3942\n"
     ]
    }
   ],
   "source": [
    "favorites_add_users = df_oll.query('event_name ==\"favorites_add\"')['user_id'].unique().tolist()\n",
    "print('Количество пользователей, кто добавил в избранное =', len(favorites_add_users))\n",
    "\n",
    "no_favorites_add_users = df_oll.query('user_id!=@favorites_add_users')['user_id'].unique().tolist()\n",
    "print('Количество пользователей, кто не добавил в избранное =', len(no_favorites_add_users))\n"
   ]
  },
  {
   "cell_type": "code",
   "execution_count": 42,
   "id": "0bcc4125",
   "metadata": {
    "scrolled": true
   },
   "outputs": [
    {
     "name": "stdout",
     "output_type": "stream",
     "text": [
      "Количество пользователей, которые совершили целевое событие = 136\n",
      "Конверсия в целевое событие = 38.75%\n"
     ]
    }
   ],
   "source": [
    "#Первая группа\n",
    "\n",
    "contacts_show_in_favorites_add = df_oll.query(\n",
    "    'user_id in @favorites_add_users and event_name == \"contacts_show\"')['user_id'].nunique()\n",
    "\n",
    "print('Количество пользователей, которые совершили целевое событие =', contacts_show_in_favorites_add)\n",
    "print(f'Конверсия в целевое событие = {round(contacts_show_in_favorites_add/len(favorites_add_users)*100,2)}%')"
   ]
  },
  {
   "cell_type": "code",
   "execution_count": 43,
   "id": "7b8673f1",
   "metadata": {},
   "outputs": [
    {
     "name": "stdout",
     "output_type": "stream",
     "text": [
      "Количество пользователей, которые совершили целевое событие = 845\n",
      "Конверсия в целевое событие = 21.44%\n"
     ]
    }
   ],
   "source": [
    "#Вторая группа\n",
    "\n",
    "contacts_show_in_no_favorites_add = df_oll.query(\n",
    "    'user_id in @no_favorites_add_users and event_name == \"contacts_show\"')['user_id'].nunique()\n",
    "\n",
    "print('Количество пользователей, которые совершили целевое событие =', contacts_show_in_no_favorites_add)\n",
    "print(f'Конверсия в целевое событие = {round(contacts_show_in_no_favorites_add/len(no_favorites_add_users)*100,2)}%')"
   ]
  },
  {
   "cell_type": "markdown",
   "id": "9d842f78",
   "metadata": {},
   "source": [
    "Воспользуемся функцией, которую написали при проверке первой гипотезы"
   ]
  },
  {
   "cell_type": "code",
   "execution_count": 44,
   "id": "1ecccccc",
   "metadata": {},
   "outputs": [
    {
     "name": "stdout",
     "output_type": "stream",
     "text": [
      "p-значение:  1.3455903058456897e-13\n",
      "Отвергаем нулевую гипотезу: между долями есть значимая разница\n"
     ]
    }
   ],
   "source": [
    "alpha = .05\n",
    "successes = [contacts_show_in_favorites_add, contacts_show_in_no_favorites_add]\n",
    "trials = [len(favorites_add_users), len(no_favorites_add_users)]\n",
    "\n",
    "stat_test(successes, trials, alpha)"
   ]
  },
  {
   "cell_type": "markdown",
   "id": "e3683426",
   "metadata": {},
   "source": [
    "**Вывод:** \n",
    "Конверсия целевого действия отличается у пользователей, кто добавил избранное объявление и кто нет"
   ]
  },
  {
   "cell_type": "markdown",
   "id": "119d4ed9",
   "metadata": {},
   "source": [
    "## Общий вывод"
   ]
  },
  {
   "cell_type": "markdown",
   "id": "a4e64af3",
   "metadata": {},
   "source": [
    "Мы завершили исследование по пользователям приложения \"Ненужные вещи\"  \n",
    "\n",
    "**Сделали обзор и предобработку данных:**   \n",
    "* Проверили на наличие пропусков - их не обнаружили\n",
    "* Привели название колонок к правильному стилю\n",
    "* Сделали проверку на явные и неявные дубли\n",
    "* Измнили тип данных\n",
    "* Обединили 2 датасета в один\n",
    "\n",
    "**Провели исследовательский анализ данных:**  \n",
    "\n",
    "1. Обшие данные по датасету:  \n",
    "   * Период времени данных, почти 28 дней\n",
    "   * Количество пользователей = 4293\n",
    "   * Количество событий = 74197\n",
    "   * Количество событий которое совершает один пользователь за день - 17  \n",
    "   \n",
    "\n",
    "2. Проанализировали связь целевого события просмотра контактов — и других действий пользователей:  \n",
    "\n",
    "   * Самый популярный сценарий пользователя - просмотр рекомендованных объявлений\n",
    "   * На 7 месте видим сценарий, в котором присутствует целевое действие - увидел рекомендованное объявление и  посмотрел номер телефона - в датасете такой сценарий повторили 305 раз  \n",
    "   * Также видим сценарий, где пользователь только просмотрел контакт, скорей всего, он его ранее добавил в избранное и через время, когда сессия закончилась - прозвонил  \n",
    "   * Есть сценарий, который совершили 90 раз - открыл карту объявлений, увидел рекомендованные объявления и посмотрел номер телефона  \n",
    "   \n",
    "   \n",
    "3. Оценили, какие действия чаще совершают те пользователи, которые просматривают контакты:  \n",
    "\n",
    "   * Мы определили сессии для каждого пользователя, границей сделали 1 час\n",
    "   * Построили матрицу корреляций, где обнаружили сильную корреляцию с событием ``favorites_add``\n",
    "   * Собрали уникальные сценарии и выбрали самые популярные с целевым действием\n",
    "   * Из двух сценариев лучше показал себя: map - tips_show - contacts_show, на нем нужно делать упор, так как количества здесь меньше, но конверсии выше, хоть и незначительно   \n",
    "   * Просчитали конверсию по каждому событию отдельно: Самая высокая конверсия с событием ``favorites_add`` - 38.7% и также сильная корреляция\n",
    "   * Второе место у события ``photos_show`` - 31%, что говорит о том, что после просмотра товара появляется желание связаться с продавцом, чтобы купить\n",
    "   * Быстрее всего пользователь принимает решение открыть контакт продавца после просмотра фото, что еще раз говорит о том, что фото сильно влияют на решение\n",
    "   \n",
    "   \n",
    "4. Проверили 2 гипотезы:  \n",
    "\n",
    "  1. **Нулевая гипотеза:** Конверсия в просмотры контактов не различается  \n",
    "     **Альтернативная гипотеза:** Конверсия в просмотры контактов различается у этих двух групп  \n",
    "     Конверсия в contacts_show у двух групп пользователей различается  \n",
    "\n",
    "  2. **Нулевая гипотеза:** Конверсия в целевое действие не отличается у пользователей, кто добавил избранное, а кто нет  \n",
    "     **Альтернативная гипотеза:** Конверсия в целевое действие отличается у пользователей  \n",
    "     Конверсия целевого действия отличается у пользователей, кто добавил избранное объявление и кто нет\n",
    "     \n",
    "**Реокмендации:**  \n",
    "\n",
    "* Обратить внимание на событие ``favorites_add``, так как после него высокая вероятность того, что пользователь позвонит продавцу  \n",
    "* Также сделать упор на событии ``photos_show``, у него тоже конверсия выше, чем по остальным событиям и время между переходом к целевому действию минимальное\n",
    "* И увеличивать количество по сценарию: map - tips_show - contacts_show"
   ]
  }
 ],
 "metadata": {
  "ExecuteTimeLog": [
   {
    "duration": 1176,
    "start_time": "2022-11-04T08:26:03.416Z"
   },
   {
    "duration": 3,
    "start_time": "2022-11-04T08:26:04.594Z"
   },
   {
    "duration": 288,
    "start_time": "2022-11-04T08:26:04.598Z"
   },
   {
    "duration": 10,
    "start_time": "2022-11-04T08:26:04.888Z"
   },
   {
    "duration": 32,
    "start_time": "2022-11-04T08:26:04.900Z"
   },
   {
    "duration": 18,
    "start_time": "2022-11-04T08:26:04.934Z"
   },
   {
    "duration": 21,
    "start_time": "2022-11-04T08:26:04.954Z"
   },
   {
    "duration": 7,
    "start_time": "2022-11-04T08:26:04.976Z"
   },
   {
    "duration": 18,
    "start_time": "2022-11-04T08:26:04.984Z"
   },
   {
    "duration": 17,
    "start_time": "2022-11-04T08:26:05.004Z"
   },
   {
    "duration": 32,
    "start_time": "2022-11-04T08:26:05.022Z"
   },
   {
    "duration": 45,
    "start_time": "2022-11-04T08:26:05.056Z"
   },
   {
    "duration": 10,
    "start_time": "2022-11-04T08:26:05.104Z"
   },
   {
    "duration": 13,
    "start_time": "2022-11-04T08:26:05.116Z"
   },
   {
    "duration": 40,
    "start_time": "2022-11-04T08:26:05.131Z"
   },
   {
    "duration": 21,
    "start_time": "2022-11-04T08:26:05.173Z"
   },
   {
    "duration": 28,
    "start_time": "2022-11-04T08:26:05.196Z"
   },
   {
    "duration": 32,
    "start_time": "2022-11-04T08:26:05.226Z"
   },
   {
    "duration": 15,
    "start_time": "2022-11-04T08:26:05.260Z"
   },
   {
    "duration": 6,
    "start_time": "2022-11-04T08:26:05.277Z"
   },
   {
    "duration": 17,
    "start_time": "2022-11-04T08:26:05.285Z"
   },
   {
    "duration": 819,
    "start_time": "2022-11-04T08:26:05.304Z"
   },
   {
    "duration": 47,
    "start_time": "2022-11-04T08:26:06.125Z"
   },
   {
    "duration": 792,
    "start_time": "2022-11-04T08:26:06.174Z"
   },
   {
    "duration": 379,
    "start_time": "2022-11-04T08:26:06.967Z"
   },
   {
    "duration": 120,
    "start_time": "2022-11-04T08:26:07.347Z"
   },
   {
    "duration": 21,
    "start_time": "2022-11-04T08:26:07.469Z"
   },
   {
    "duration": 3041,
    "start_time": "2022-11-04T08:26:07.493Z"
   },
   {
    "duration": 30,
    "start_time": "2022-11-04T08:26:10.536Z"
   },
   {
    "duration": 10,
    "start_time": "2022-11-04T08:26:10.568Z"
   },
   {
    "duration": 89,
    "start_time": "2022-11-04T08:26:10.579Z"
   },
   {
    "duration": 18,
    "start_time": "2022-11-04T08:26:10.670Z"
   },
   {
    "duration": 46,
    "start_time": "2022-11-04T08:26:10.690Z"
   },
   {
    "duration": 18,
    "start_time": "2022-11-04T08:26:10.738Z"
   },
   {
    "duration": 17,
    "start_time": "2022-11-04T08:26:10.757Z"
   },
   {
    "duration": 44,
    "start_time": "2022-11-04T08:26:10.775Z"
   },
   {
    "duration": 13,
    "start_time": "2022-11-04T08:26:10.821Z"
   },
   {
    "duration": 28,
    "start_time": "2022-11-04T08:26:10.836Z"
   },
   {
    "duration": 5,
    "start_time": "2022-11-04T08:26:10.866Z"
   },
   {
    "duration": 6,
    "start_time": "2022-11-04T08:32:59.419Z"
   },
   {
    "duration": 1256,
    "start_time": "2022-11-05T14:09:13.353Z"
   },
   {
    "duration": 3,
    "start_time": "2022-11-05T14:09:14.612Z"
   },
   {
    "duration": 287,
    "start_time": "2022-11-05T14:09:14.617Z"
   },
   {
    "duration": 13,
    "start_time": "2022-11-05T14:09:14.906Z"
   },
   {
    "duration": 15,
    "start_time": "2022-11-05T14:09:14.932Z"
   },
   {
    "duration": 10,
    "start_time": "2022-11-05T14:09:14.949Z"
   },
   {
    "duration": 24,
    "start_time": "2022-11-05T14:09:14.961Z"
   },
   {
    "duration": 5,
    "start_time": "2022-11-05T14:09:14.988Z"
   },
   {
    "duration": 45,
    "start_time": "2022-11-05T14:09:14.994Z"
   },
   {
    "duration": 6,
    "start_time": "2022-11-05T14:09:15.041Z"
   },
   {
    "duration": 12,
    "start_time": "2022-11-05T14:09:15.049Z"
   },
   {
    "duration": 38,
    "start_time": "2022-11-05T14:09:15.063Z"
   },
   {
    "duration": 38,
    "start_time": "2022-11-05T14:09:15.102Z"
   },
   {
    "duration": 8,
    "start_time": "2022-11-05T14:09:15.146Z"
   },
   {
    "duration": 47,
    "start_time": "2022-11-05T14:09:15.156Z"
   },
   {
    "duration": 47,
    "start_time": "2022-11-05T14:09:15.205Z"
   },
   {
    "duration": 23,
    "start_time": "2022-11-05T14:09:15.254Z"
   },
   {
    "duration": 18,
    "start_time": "2022-11-05T14:09:15.278Z"
   },
   {
    "duration": 47,
    "start_time": "2022-11-05T14:09:15.298Z"
   },
   {
    "duration": 6,
    "start_time": "2022-11-05T14:09:15.347Z"
   },
   {
    "duration": 16,
    "start_time": "2022-11-05T14:09:15.355Z"
   },
   {
    "duration": 927,
    "start_time": "2022-11-05T14:09:15.373Z"
   },
   {
    "duration": 50,
    "start_time": "2022-11-05T14:09:16.302Z"
   },
   {
    "duration": 887,
    "start_time": "2022-11-05T14:09:16.354Z"
   },
   {
    "duration": 594,
    "start_time": "2022-11-05T14:09:17.243Z"
   },
   {
    "duration": 165,
    "start_time": "2022-11-05T14:09:17.840Z"
   },
   {
    "duration": 30,
    "start_time": "2022-11-05T14:09:18.007Z"
   },
   {
    "duration": 405,
    "start_time": "2022-11-05T14:09:18.041Z"
   },
   {
    "duration": 29,
    "start_time": "2022-11-05T14:09:18.448Z"
   },
   {
    "duration": 14,
    "start_time": "2022-11-05T14:09:18.523Z"
   },
   {
    "duration": 9,
    "start_time": "2022-11-05T14:09:18.543Z"
   },
   {
    "duration": 190,
    "start_time": "2022-11-05T14:09:18.554Z"
   },
   {
    "duration": 6,
    "start_time": "2022-11-05T14:09:18.746Z"
   },
   {
    "duration": 160,
    "start_time": "2022-11-05T14:09:18.753Z"
   },
   {
    "duration": 0,
    "start_time": "2022-11-05T14:09:18.916Z"
   },
   {
    "duration": 0,
    "start_time": "2022-11-05T14:09:18.917Z"
   },
   {
    "duration": 0,
    "start_time": "2022-11-05T14:09:18.927Z"
   },
   {
    "duration": 0,
    "start_time": "2022-11-05T14:09:18.928Z"
   },
   {
    "duration": 0,
    "start_time": "2022-11-05T14:09:18.928Z"
   },
   {
    "duration": 0,
    "start_time": "2022-11-05T14:09:18.929Z"
   },
   {
    "duration": 0,
    "start_time": "2022-11-05T14:09:18.930Z"
   },
   {
    "duration": 0,
    "start_time": "2022-11-05T14:09:18.931Z"
   },
   {
    "duration": 0,
    "start_time": "2022-11-05T14:09:18.931Z"
   },
   {
    "duration": 8014,
    "start_time": "2022-11-05T14:14:13.682Z"
   },
   {
    "duration": 4,
    "start_time": "2022-11-05T14:14:26.881Z"
   },
   {
    "duration": 1457,
    "start_time": "2022-11-05T14:14:26.887Z"
   },
   {
    "duration": 4,
    "start_time": "2022-11-05T14:14:28.346Z"
   },
   {
    "duration": 293,
    "start_time": "2022-11-05T14:14:28.352Z"
   },
   {
    "duration": 10,
    "start_time": "2022-11-05T14:14:28.647Z"
   },
   {
    "duration": 11,
    "start_time": "2022-11-05T14:14:28.659Z"
   },
   {
    "duration": 8,
    "start_time": "2022-11-05T14:14:28.671Z"
   },
   {
    "duration": 55,
    "start_time": "2022-11-05T14:14:28.680Z"
   },
   {
    "duration": 6,
    "start_time": "2022-11-05T14:14:28.737Z"
   },
   {
    "duration": 6,
    "start_time": "2022-11-05T14:14:28.745Z"
   },
   {
    "duration": 6,
    "start_time": "2022-11-05T14:14:28.754Z"
   },
   {
    "duration": 7,
    "start_time": "2022-11-05T14:14:28.762Z"
   },
   {
    "duration": 72,
    "start_time": "2022-11-05T14:14:28.771Z"
   },
   {
    "duration": 8,
    "start_time": "2022-11-05T14:14:28.845Z"
   },
   {
    "duration": 9,
    "start_time": "2022-11-05T14:14:28.855Z"
   },
   {
    "duration": 29,
    "start_time": "2022-11-05T14:14:28.865Z"
   },
   {
    "duration": 48,
    "start_time": "2022-11-05T14:14:28.896Z"
   },
   {
    "duration": 23,
    "start_time": "2022-11-05T14:14:28.946Z"
   },
   {
    "duration": 15,
    "start_time": "2022-11-05T14:14:28.971Z"
   },
   {
    "duration": 48,
    "start_time": "2022-11-05T14:14:28.988Z"
   },
   {
    "duration": 6,
    "start_time": "2022-11-05T14:14:29.038Z"
   },
   {
    "duration": 13,
    "start_time": "2022-11-05T14:14:29.046Z"
   },
   {
    "duration": 38,
    "start_time": "2022-11-05T14:14:29.061Z"
   },
   {
    "duration": 40,
    "start_time": "2022-11-05T14:14:29.136Z"
   },
   {
    "duration": 913,
    "start_time": "2022-11-05T14:14:29.178Z"
   },
   {
    "duration": 580,
    "start_time": "2022-11-05T14:14:30.093Z"
   },
   {
    "duration": 176,
    "start_time": "2022-11-05T14:14:30.675Z"
   },
   {
    "duration": 23,
    "start_time": "2022-11-05T14:14:30.853Z"
   },
   {
    "duration": 437,
    "start_time": "2022-11-05T14:14:30.880Z"
   },
   {
    "duration": 37,
    "start_time": "2022-11-05T14:14:31.319Z"
   },
   {
    "duration": 10,
    "start_time": "2022-11-05T14:14:31.358Z"
   },
   {
    "duration": 72,
    "start_time": "2022-11-05T14:14:31.370Z"
   },
   {
    "duration": 154,
    "start_time": "2022-11-05T14:14:31.444Z"
   },
   {
    "duration": 6,
    "start_time": "2022-11-05T14:14:31.600Z"
   },
   {
    "duration": 256,
    "start_time": "2022-11-05T14:14:31.607Z"
   },
   {
    "duration": 30,
    "start_time": "2022-11-05T14:14:31.865Z"
   },
   {
    "duration": 38,
    "start_time": "2022-11-05T14:14:31.897Z"
   },
   {
    "duration": 17,
    "start_time": "2022-11-05T14:14:31.939Z"
   },
   {
    "duration": 9,
    "start_time": "2022-11-05T14:14:31.959Z"
   },
   {
    "duration": 9,
    "start_time": "2022-11-05T14:14:31.970Z"
   },
   {
    "duration": 55,
    "start_time": "2022-11-05T14:14:31.981Z"
   },
   {
    "duration": 15,
    "start_time": "2022-11-05T14:14:32.039Z"
   },
   {
    "duration": 13,
    "start_time": "2022-11-05T14:14:32.058Z"
   },
   {
    "duration": 6,
    "start_time": "2022-11-05T14:14:32.073Z"
   }
  ],
  "kernelspec": {
   "display_name": "Python 3 (ipykernel)",
   "language": "python",
   "name": "python3"
  },
  "language_info": {
   "codemirror_mode": {
    "name": "ipython",
    "version": 3
   },
   "file_extension": ".py",
   "mimetype": "text/x-python",
   "name": "python",
   "nbconvert_exporter": "python",
   "pygments_lexer": "ipython3",
   "version": "3.9.13"
  },
  "toc": {
   "base_numbering": 1,
   "nav_menu": {},
   "number_sections": true,
   "sideBar": true,
   "skip_h1_title": true,
   "title_cell": "Table of Contents",
   "title_sidebar": "Contents",
   "toc_cell": false,
   "toc_position": {},
   "toc_section_display": true,
   "toc_window_display": false
  }
 },
 "nbformat": 4,
 "nbformat_minor": 5
}
