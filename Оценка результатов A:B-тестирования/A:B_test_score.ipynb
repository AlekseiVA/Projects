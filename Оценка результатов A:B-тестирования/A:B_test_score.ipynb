{
 "cells": [
  {
   "cell_type": "markdown",
   "id": "be098606",
   "metadata": {},
   "source": [
    "# Оценка результатов A/B-тестирования"
   ]
  },
  {
   "cell_type": "markdown",
   "id": "3dac6f17",
   "metadata": {},
   "source": [
    "**Цель исследования**\n",
    "\n",
    "Наша задача — провести оценку результатов A/B-теста. В распоряжении есть датасет с действиями пользователей, техническое задание и несколько вспомогательных датасетов.\n",
    "\n",
    "- Необходимо оценить корректность проведения теста\n",
    "- Проанализировать результаты теста\n",
    "\n",
    "Чтобы оценить корректность проведения теста, проверить:  \n",
    "\n",
    "- пересечение тестовой аудитории с конкурирующим тестом;\n",
    "- совпадение теста и маркетинговых событий, другие проблемы временных границ теста."
   ]
  },
  {
   "cell_type": "markdown",
   "id": "6e1ce315",
   "metadata": {},
   "source": [
    "**Техническое задание**\n",
    "\n",
    "* Название теста: `recommender_system_test`;\n",
    "* группы: А — контрольная, B — новая платёжная воронка;\n",
    "* дата запуска: 2020-12-07;\n",
    "* дата остановки набора новых пользователей: 2020-12-21;\n",
    "* дата остановки: 2021-01-04;\n",
    "* аудитория: 15% новых пользователей из региона EU;\n",
    "* назначение теста: тестирование изменений, связанных с внедрением улучшенной рекомендательной системы;\n",
    "* ожидаемое количество участников теста: 6000.\n",
    "* ожидаемый эффект: за 14 дней с момента регистрации пользователи покажут улучшение каждой метрики не менее, чем на 10%:\n",
    "    * конверсии в просмотр карточек товаров — событие `product_page`,\n",
    "    * просмотры корзины — `product_cart`,\n",
    "    * покупки — `purchase`."
   ]
  },
  {
   "cell_type": "markdown",
   "id": "ca10606f",
   "metadata": {},
   "source": [
    "**Декомпозиция**  \n",
    "\n",
    "1. Предобработка данных:\n",
    "    * Требуется ли преобразование типов?\n",
    "    * Описать природу пропущенных значений и дубликатов, если их обнаружим.  \n",
    "\n",
    "\n",
    "2. Оценка корректности проведения теста. Обратить внимание на:\n",
    "    * Соответствие данных требованиям технического задания. Проверить корректность всех пунктов технического задания.\n",
    "    * Время проведения теста. Убедиться, что оно не совпадает с маркетинговыми и другими активностями.\n",
    "    * Аудиторию теста. Удостовериться, что нет пересечений с конкурирующим тестом и нет пользователей, участвующих в двух группах теста одновременно. Проверить равномерность распределения по тестовым группам и правильность их формирования.  \n",
    "    \n",
    "    \n",
    "3. Исследовательский анализ данных и ответы на вопросы:\n",
    "    * Количество событий на пользователя одинаково распределены в выборках?\n",
    "    * Как число событий в выборках распределено по дням?\n",
    "    * Как меняется конверсия в воронке в выборках на разных этапах?\n",
    "    * Какие особенности данных нужно учесть, прежде чем приступать к A/B-тестированию?  \n",
    "    \n",
    "    \n",
    "4. Оценка результата A/B-тестирования\n",
    "    * Что можно сказать про результаты A/В-тестирования?\n",
    "    * Проверить статистическую разницу долей z-критерием.  \n",
    "    \n",
    "    \n",
    "5. Выводы по этапу исследовательского анализа данных и по проведённой оценке результатов A/B-тестирования    Сделать общее заключение о корректности проведения теста."
   ]
  },
  {
   "cell_type": "markdown",
   "id": "5b982e7a",
   "metadata": {},
   "source": [
    "**Для начала импортируем нужные библиотеки и загрузим датасеты**"
   ]
  },
  {
   "cell_type": "code",
   "execution_count": 1,
   "id": "c8b785a7",
   "metadata": {},
   "outputs": [],
   "source": [
    "import pandas as pd\n",
    "import numpy as np\n",
    "import scipy.stats as st\n",
    "import matplotlib.pyplot as plt\n",
    "import seaborn as sns\n",
    "import math as mth\n",
    "import datetime as dt\n",
    "import plotly.express as px\n",
    "from plotly import graph_objects as go\n",
    "from plotly.subplots import make_subplots\n",
    "import warnings\n",
    "warnings.filterwarnings('ignore')"
   ]
  },
  {
   "cell_type": "code",
   "execution_count": 2,
   "id": "5c9db6be",
   "metadata": {
    "scrolled": true
   },
   "outputs": [],
   "source": [
    "try:\n",
    "    marketing_events = pd.read_csv('ab_project_marketing_events.csv')\n",
    "except:\n",
    "    marketing_events = pd.read_csv('/Users/alekseivlasov/Desktop/project/13/ab_project_marketing_events.csv')\n",
    "\n",
    "try:\n",
    "    new_users = pd.read_csv('final_ab_new_users.csv')\n",
    "except:\n",
    "    new_users = pd.read_csv('/Users/alekseivlasov/Desktop/project/13/final_ab_new_users.csv')\n",
    "    \n",
    "try:\n",
    "    ab_events = pd.read_csv('final_ab_events.csv')\n",
    "except:\n",
    "    ab_events = pd.read_csv('/Users/alekseivlasov/Desktop/project/13/final_ab_events.csv')\n",
    "    \n",
    "try:\n",
    "    ab_participants = pd.read_csv('final_ab_participants.csv')\n",
    "except:\n",
    "    ab_participants = pd.read_csv('/Users/alekseivlasov/Desktop/project/13/final_ab_participants.csv')\n"
   ]
  },
  {
   "cell_type": "markdown",
   "id": "f2fef45b",
   "metadata": {},
   "source": [
    "## Предобработка данных"
   ]
  },
  {
   "cell_type": "code",
   "execution_count": 3,
   "id": "042fe623",
   "metadata": {},
   "outputs": [
    {
     "data": {
      "text/html": [
       "<div>\n",
       "<style scoped>\n",
       "    .dataframe tbody tr th:only-of-type {\n",
       "        vertical-align: middle;\n",
       "    }\n",
       "\n",
       "    .dataframe tbody tr th {\n",
       "        vertical-align: top;\n",
       "    }\n",
       "\n",
       "    .dataframe thead th {\n",
       "        text-align: right;\n",
       "    }\n",
       "</style>\n",
       "<table border=\"1\" class=\"dataframe\">\n",
       "  <thead>\n",
       "    <tr style=\"text-align: right;\">\n",
       "      <th></th>\n",
       "      <th>name</th>\n",
       "      <th>regions</th>\n",
       "      <th>start_dt</th>\n",
       "      <th>finish_dt</th>\n",
       "    </tr>\n",
       "  </thead>\n",
       "  <tbody>\n",
       "    <tr>\n",
       "      <th>0</th>\n",
       "      <td>Christmas&amp;New Year Promo</td>\n",
       "      <td>EU, N.America</td>\n",
       "      <td>2020-12-25</td>\n",
       "      <td>2021-01-03</td>\n",
       "    </tr>\n",
       "    <tr>\n",
       "      <th>1</th>\n",
       "      <td>St. Valentine's Day Giveaway</td>\n",
       "      <td>EU, CIS, APAC, N.America</td>\n",
       "      <td>2020-02-14</td>\n",
       "      <td>2020-02-16</td>\n",
       "    </tr>\n",
       "    <tr>\n",
       "      <th>2</th>\n",
       "      <td>St. Patric's Day Promo</td>\n",
       "      <td>EU, N.America</td>\n",
       "      <td>2020-03-17</td>\n",
       "      <td>2020-03-19</td>\n",
       "    </tr>\n",
       "    <tr>\n",
       "      <th>3</th>\n",
       "      <td>Easter Promo</td>\n",
       "      <td>EU, CIS, APAC, N.America</td>\n",
       "      <td>2020-04-12</td>\n",
       "      <td>2020-04-19</td>\n",
       "    </tr>\n",
       "    <tr>\n",
       "      <th>4</th>\n",
       "      <td>4th of July Promo</td>\n",
       "      <td>N.America</td>\n",
       "      <td>2020-07-04</td>\n",
       "      <td>2020-07-11</td>\n",
       "    </tr>\n",
       "  </tbody>\n",
       "</table>\n",
       "</div>"
      ],
      "text/plain": [
       "                           name                   regions    start_dt  \\\n",
       "0      Christmas&New Year Promo             EU, N.America  2020-12-25   \n",
       "1  St. Valentine's Day Giveaway  EU, CIS, APAC, N.America  2020-02-14   \n",
       "2        St. Patric's Day Promo             EU, N.America  2020-03-17   \n",
       "3                  Easter Promo  EU, CIS, APAC, N.America  2020-04-12   \n",
       "4             4th of July Promo                 N.America  2020-07-04   \n",
       "\n",
       "    finish_dt  \n",
       "0  2021-01-03  \n",
       "1  2020-02-16  \n",
       "2  2020-03-19  \n",
       "3  2020-04-19  \n",
       "4  2020-07-11  "
      ]
     },
     "execution_count": 3,
     "metadata": {},
     "output_type": "execute_result"
    }
   ],
   "source": [
    "marketing_events.head()"
   ]
  },
  {
   "cell_type": "code",
   "execution_count": 4,
   "id": "cf1e5806",
   "metadata": {
    "scrolled": true
   },
   "outputs": [
    {
     "name": "stdout",
     "output_type": "stream",
     "text": [
      "<class 'pandas.core.frame.DataFrame'>\n",
      "RangeIndex: 14 entries, 0 to 13\n",
      "Data columns (total 4 columns):\n",
      " #   Column     Non-Null Count  Dtype \n",
      "---  ------     --------------  ----- \n",
      " 0   name       14 non-null     object\n",
      " 1   regions    14 non-null     object\n",
      " 2   start_dt   14 non-null     object\n",
      " 3   finish_dt  14 non-null     object\n",
      "dtypes: object(4)\n",
      "memory usage: 576.0+ bytes\n"
     ]
    }
   ],
   "source": [
    "#Посмотрим общую информацию по первому датасету \n",
    "marketing_events.info()"
   ]
  },
  {
   "cell_type": "markdown",
   "id": "eca750d9",
   "metadata": {},
   "source": [
    "Первый датасет состоит из 4 колонок и 14 строк, пропусков нет, но нужно поменять тип данных в последних двух колонках"
   ]
  },
  {
   "cell_type": "code",
   "execution_count": 5,
   "id": "dfe29654",
   "metadata": {},
   "outputs": [],
   "source": [
    "marketing_events['start_dt'] = pd.to_datetime(marketing_events['start_dt'])\n",
    "marketing_events['finish_dt'] = pd.to_datetime(marketing_events['finish_dt'])"
   ]
  },
  {
   "cell_type": "code",
   "execution_count": 6,
   "id": "3c2f89c5",
   "metadata": {},
   "outputs": [
    {
     "data": {
      "text/plain": [
       "0"
      ]
     },
     "execution_count": 6,
     "metadata": {},
     "output_type": "execute_result"
    }
   ],
   "source": [
    "#Проверим данные на дубли\n",
    "marketing_events.duplicated().sum()"
   ]
  },
  {
   "cell_type": "markdown",
   "id": "bcb1de9b",
   "metadata": {},
   "source": [
    "Поменяли тип данных на временной и проверили датасет на дубли - их не обнаружено"
   ]
  },
  {
   "cell_type": "code",
   "execution_count": 7,
   "id": "7d825767",
   "metadata": {},
   "outputs": [
    {
     "data": {
      "text/html": [
       "<div>\n",
       "<style scoped>\n",
       "    .dataframe tbody tr th:only-of-type {\n",
       "        vertical-align: middle;\n",
       "    }\n",
       "\n",
       "    .dataframe tbody tr th {\n",
       "        vertical-align: top;\n",
       "    }\n",
       "\n",
       "    .dataframe thead th {\n",
       "        text-align: right;\n",
       "    }\n",
       "</style>\n",
       "<table border=\"1\" class=\"dataframe\">\n",
       "  <thead>\n",
       "    <tr style=\"text-align: right;\">\n",
       "      <th></th>\n",
       "      <th>user_id</th>\n",
       "      <th>first_date</th>\n",
       "      <th>region</th>\n",
       "      <th>device</th>\n",
       "    </tr>\n",
       "  </thead>\n",
       "  <tbody>\n",
       "    <tr>\n",
       "      <th>0</th>\n",
       "      <td>D72A72121175D8BE</td>\n",
       "      <td>2020-12-07</td>\n",
       "      <td>EU</td>\n",
       "      <td>PC</td>\n",
       "    </tr>\n",
       "    <tr>\n",
       "      <th>1</th>\n",
       "      <td>F1C668619DFE6E65</td>\n",
       "      <td>2020-12-07</td>\n",
       "      <td>N.America</td>\n",
       "      <td>Android</td>\n",
       "    </tr>\n",
       "    <tr>\n",
       "      <th>2</th>\n",
       "      <td>2E1BF1D4C37EA01F</td>\n",
       "      <td>2020-12-07</td>\n",
       "      <td>EU</td>\n",
       "      <td>PC</td>\n",
       "    </tr>\n",
       "    <tr>\n",
       "      <th>3</th>\n",
       "      <td>50734A22C0C63768</td>\n",
       "      <td>2020-12-07</td>\n",
       "      <td>EU</td>\n",
       "      <td>iPhone</td>\n",
       "    </tr>\n",
       "    <tr>\n",
       "      <th>4</th>\n",
       "      <td>E1BDDCE0DAFA2679</td>\n",
       "      <td>2020-12-07</td>\n",
       "      <td>N.America</td>\n",
       "      <td>iPhone</td>\n",
       "    </tr>\n",
       "  </tbody>\n",
       "</table>\n",
       "</div>"
      ],
      "text/plain": [
       "            user_id  first_date     region   device\n",
       "0  D72A72121175D8BE  2020-12-07         EU       PC\n",
       "1  F1C668619DFE6E65  2020-12-07  N.America  Android\n",
       "2  2E1BF1D4C37EA01F  2020-12-07         EU       PC\n",
       "3  50734A22C0C63768  2020-12-07         EU   iPhone\n",
       "4  E1BDDCE0DAFA2679  2020-12-07  N.America   iPhone"
      ]
     },
     "execution_count": 7,
     "metadata": {},
     "output_type": "execute_result"
    }
   ],
   "source": [
    "#Следующий датасет\n",
    "new_users.head()"
   ]
  },
  {
   "cell_type": "code",
   "execution_count": 8,
   "id": "cf7604fe",
   "metadata": {},
   "outputs": [
    {
     "name": "stdout",
     "output_type": "stream",
     "text": [
      "<class 'pandas.core.frame.DataFrame'>\n",
      "RangeIndex: 61733 entries, 0 to 61732\n",
      "Data columns (total 4 columns):\n",
      " #   Column      Non-Null Count  Dtype \n",
      "---  ------      --------------  ----- \n",
      " 0   user_id     61733 non-null  object\n",
      " 1   first_date  61733 non-null  object\n",
      " 2   region      61733 non-null  object\n",
      " 3   device      61733 non-null  object\n",
      "dtypes: object(4)\n",
      "memory usage: 1.9+ MB\n"
     ]
    }
   ],
   "source": [
    "new_users.info()"
   ]
  },
  {
   "cell_type": "markdown",
   "id": "8e6a80e9",
   "metadata": {},
   "source": [
    "Датасет состоит из 4 колонок и 61 733 строк, также нет пропусков и нужно поменять тип данных"
   ]
  },
  {
   "cell_type": "code",
   "execution_count": 9,
   "id": "1e569e41",
   "metadata": {},
   "outputs": [],
   "source": [
    "new_users['first_date'] = pd.to_datetime(new_users['first_date'])"
   ]
  },
  {
   "cell_type": "code",
   "execution_count": 10,
   "id": "bfe1cae1",
   "metadata": {},
   "outputs": [
    {
     "data": {
      "text/plain": [
       "0"
      ]
     },
     "execution_count": 10,
     "metadata": {},
     "output_type": "execute_result"
    }
   ],
   "source": [
    "#Проверим на дубли\n",
    "new_users.duplicated().sum()"
   ]
  },
  {
   "cell_type": "markdown",
   "id": "b770848c",
   "metadata": {},
   "source": [
    "Поменяли тип данных, дублей нет"
   ]
  },
  {
   "cell_type": "code",
   "execution_count": 11,
   "id": "d9d3ff5f",
   "metadata": {},
   "outputs": [
    {
     "data": {
      "text/html": [
       "<div>\n",
       "<style scoped>\n",
       "    .dataframe tbody tr th:only-of-type {\n",
       "        vertical-align: middle;\n",
       "    }\n",
       "\n",
       "    .dataframe tbody tr th {\n",
       "        vertical-align: top;\n",
       "    }\n",
       "\n",
       "    .dataframe thead th {\n",
       "        text-align: right;\n",
       "    }\n",
       "</style>\n",
       "<table border=\"1\" class=\"dataframe\">\n",
       "  <thead>\n",
       "    <tr style=\"text-align: right;\">\n",
       "      <th></th>\n",
       "      <th>user_id</th>\n",
       "      <th>event_dt</th>\n",
       "      <th>event_name</th>\n",
       "      <th>details</th>\n",
       "    </tr>\n",
       "  </thead>\n",
       "  <tbody>\n",
       "    <tr>\n",
       "      <th>0</th>\n",
       "      <td>E1BDDCE0DAFA2679</td>\n",
       "      <td>2020-12-07 20:22:03</td>\n",
       "      <td>purchase</td>\n",
       "      <td>99.99</td>\n",
       "    </tr>\n",
       "    <tr>\n",
       "      <th>1</th>\n",
       "      <td>7B6452F081F49504</td>\n",
       "      <td>2020-12-07 09:22:53</td>\n",
       "      <td>purchase</td>\n",
       "      <td>9.99</td>\n",
       "    </tr>\n",
       "    <tr>\n",
       "      <th>2</th>\n",
       "      <td>9CD9F34546DF254C</td>\n",
       "      <td>2020-12-07 12:59:29</td>\n",
       "      <td>purchase</td>\n",
       "      <td>4.99</td>\n",
       "    </tr>\n",
       "    <tr>\n",
       "      <th>3</th>\n",
       "      <td>96F27A054B191457</td>\n",
       "      <td>2020-12-07 04:02:40</td>\n",
       "      <td>purchase</td>\n",
       "      <td>4.99</td>\n",
       "    </tr>\n",
       "    <tr>\n",
       "      <th>4</th>\n",
       "      <td>1FD7660FDF94CA1F</td>\n",
       "      <td>2020-12-07 10:15:09</td>\n",
       "      <td>purchase</td>\n",
       "      <td>4.99</td>\n",
       "    </tr>\n",
       "  </tbody>\n",
       "</table>\n",
       "</div>"
      ],
      "text/plain": [
       "            user_id             event_dt event_name  details\n",
       "0  E1BDDCE0DAFA2679  2020-12-07 20:22:03   purchase    99.99\n",
       "1  7B6452F081F49504  2020-12-07 09:22:53   purchase     9.99\n",
       "2  9CD9F34546DF254C  2020-12-07 12:59:29   purchase     4.99\n",
       "3  96F27A054B191457  2020-12-07 04:02:40   purchase     4.99\n",
       "4  1FD7660FDF94CA1F  2020-12-07 10:15:09   purchase     4.99"
      ]
     },
     "execution_count": 11,
     "metadata": {},
     "output_type": "execute_result"
    }
   ],
   "source": [
    "#Третий датасет\n",
    "ab_events.head()"
   ]
  },
  {
   "cell_type": "code",
   "execution_count": 12,
   "id": "2acb3e14",
   "metadata": {},
   "outputs": [
    {
     "name": "stdout",
     "output_type": "stream",
     "text": [
      "<class 'pandas.core.frame.DataFrame'>\n",
      "RangeIndex: 440317 entries, 0 to 440316\n",
      "Data columns (total 4 columns):\n",
      " #   Column      Non-Null Count   Dtype  \n",
      "---  ------      --------------   -----  \n",
      " 0   user_id     440317 non-null  object \n",
      " 1   event_dt    440317 non-null  object \n",
      " 2   event_name  440317 non-null  object \n",
      " 3   details     62740 non-null   float64\n",
      "dtypes: float64(1), object(3)\n",
      "memory usage: 13.4+ MB\n"
     ]
    }
   ],
   "source": [
    "ab_events.info()"
   ]
  },
  {
   "cell_type": "markdown",
   "id": "a1dc52b9",
   "metadata": {},
   "source": [
    "В датасете 4 колонки и 440 317 строк. Нужно поменять тип данных в ``event_dt`` и в последней колонке у нас есть пропущенные значения, их нужно обработать и понять природу появления"
   ]
  },
  {
   "cell_type": "code",
   "execution_count": 13,
   "id": "deca7429",
   "metadata": {},
   "outputs": [],
   "source": [
    "ab_events['event_dt'] = pd.to_datetime(ab_events['event_dt'])"
   ]
  },
  {
   "cell_type": "markdown",
   "id": "98185c1c",
   "metadata": {},
   "source": [
    "Последняя колонка называется ``Детали``, значит она дополняет другие значения, просмотрим колонку ``event_name``"
   ]
  },
  {
   "cell_type": "code",
   "execution_count": 14,
   "id": "64ed87f1",
   "metadata": {},
   "outputs": [
    {
     "data": {
      "text/plain": [
       "login           189552\n",
       "product_page    125563\n",
       "purchase         62740\n",
       "product_cart     62462\n",
       "Name: event_name, dtype: int64"
      ]
     },
     "execution_count": 14,
     "metadata": {},
     "output_type": "execute_result"
    }
   ],
   "source": [
    "ab_events['event_name'].value_counts()"
   ]
  },
  {
   "cell_type": "markdown",
   "id": "23c2550f",
   "metadata": {},
   "source": [
    "Мы видим, что количество значений покупок совпадает с данными, которые у нас есть в ``details``  \n",
    "Скорей всего в ней прописывается сумма покупки, а в других действиях ничего нет  \n",
    "Поставим на месте пропуска заглушку, так как заполнять будет некорректно "
   ]
  },
  {
   "cell_type": "code",
   "execution_count": 15,
   "id": "e4283b8d",
   "metadata": {},
   "outputs": [
    {
     "name": "stdout",
     "output_type": "stream",
     "text": [
      "<class 'pandas.core.frame.DataFrame'>\n",
      "RangeIndex: 440317 entries, 0 to 440316\n",
      "Data columns (total 4 columns):\n",
      " #   Column      Non-Null Count   Dtype         \n",
      "---  ------      --------------   -----         \n",
      " 0   user_id     440317 non-null  object        \n",
      " 1   event_dt    440317 non-null  datetime64[ns]\n",
      " 2   event_name  440317 non-null  object        \n",
      " 3   details     440317 non-null  float64       \n",
      "dtypes: datetime64[ns](1), float64(1), object(2)\n",
      "memory usage: 13.4+ MB\n"
     ]
    }
   ],
   "source": [
    "ab_events['details'] = ab_events['details'].fillna(value = 0)\n",
    "ab_events.info()"
   ]
  },
  {
   "cell_type": "code",
   "execution_count": 16,
   "id": "2f96e997",
   "metadata": {},
   "outputs": [
    {
     "data": {
      "text/plain": [
       "0"
      ]
     },
     "execution_count": 16,
     "metadata": {},
     "output_type": "execute_result"
    }
   ],
   "source": [
    "#Проверим на дубли\n",
    "ab_events.duplicated().sum()"
   ]
  },
  {
   "cell_type": "code",
   "execution_count": 17,
   "id": "81e3ed2b",
   "metadata": {},
   "outputs": [
    {
     "data": {
      "text/html": [
       "<div>\n",
       "<style scoped>\n",
       "    .dataframe tbody tr th:only-of-type {\n",
       "        vertical-align: middle;\n",
       "    }\n",
       "\n",
       "    .dataframe tbody tr th {\n",
       "        vertical-align: top;\n",
       "    }\n",
       "\n",
       "    .dataframe thead th {\n",
       "        text-align: right;\n",
       "    }\n",
       "</style>\n",
       "<table border=\"1\" class=\"dataframe\">\n",
       "  <thead>\n",
       "    <tr style=\"text-align: right;\">\n",
       "      <th></th>\n",
       "      <th>user_id</th>\n",
       "      <th>group</th>\n",
       "      <th>ab_test</th>\n",
       "    </tr>\n",
       "  </thead>\n",
       "  <tbody>\n",
       "    <tr>\n",
       "      <th>0</th>\n",
       "      <td>D1ABA3E2887B6A73</td>\n",
       "      <td>A</td>\n",
       "      <td>recommender_system_test</td>\n",
       "    </tr>\n",
       "    <tr>\n",
       "      <th>1</th>\n",
       "      <td>A7A3664BD6242119</td>\n",
       "      <td>A</td>\n",
       "      <td>recommender_system_test</td>\n",
       "    </tr>\n",
       "    <tr>\n",
       "      <th>2</th>\n",
       "      <td>DABC14FDDFADD29E</td>\n",
       "      <td>A</td>\n",
       "      <td>recommender_system_test</td>\n",
       "    </tr>\n",
       "    <tr>\n",
       "      <th>3</th>\n",
       "      <td>04988C5DF189632E</td>\n",
       "      <td>A</td>\n",
       "      <td>recommender_system_test</td>\n",
       "    </tr>\n",
       "    <tr>\n",
       "      <th>4</th>\n",
       "      <td>482F14783456D21B</td>\n",
       "      <td>B</td>\n",
       "      <td>recommender_system_test</td>\n",
       "    </tr>\n",
       "  </tbody>\n",
       "</table>\n",
       "</div>"
      ],
      "text/plain": [
       "            user_id group                  ab_test\n",
       "0  D1ABA3E2887B6A73     A  recommender_system_test\n",
       "1  A7A3664BD6242119     A  recommender_system_test\n",
       "2  DABC14FDDFADD29E     A  recommender_system_test\n",
       "3  04988C5DF189632E     A  recommender_system_test\n",
       "4  482F14783456D21B     B  recommender_system_test"
      ]
     },
     "execution_count": 17,
     "metadata": {},
     "output_type": "execute_result"
    }
   ],
   "source": [
    "#Смотрим последний датасет\n",
    "ab_participants.head()"
   ]
  },
  {
   "cell_type": "code",
   "execution_count": 18,
   "id": "bf5108c3",
   "metadata": {},
   "outputs": [
    {
     "name": "stdout",
     "output_type": "stream",
     "text": [
      "<class 'pandas.core.frame.DataFrame'>\n",
      "RangeIndex: 18268 entries, 0 to 18267\n",
      "Data columns (total 3 columns):\n",
      " #   Column   Non-Null Count  Dtype \n",
      "---  ------   --------------  ----- \n",
      " 0   user_id  18268 non-null  object\n",
      " 1   group    18268 non-null  object\n",
      " 2   ab_test  18268 non-null  object\n",
      "dtypes: object(3)\n",
      "memory usage: 428.3+ KB\n"
     ]
    }
   ],
   "source": [
    "ab_participants.info()"
   ]
  },
  {
   "cell_type": "markdown",
   "id": "8df6e347",
   "metadata": {},
   "source": [
    "В датасете 3 колонки и 18 268 строк, пропусков нет, тип данных указан правильно, осталось проверить на дубли"
   ]
  },
  {
   "cell_type": "code",
   "execution_count": 19,
   "id": "a48313df",
   "metadata": {},
   "outputs": [
    {
     "data": {
      "text/plain": [
       "0"
      ]
     },
     "execution_count": 19,
     "metadata": {},
     "output_type": "execute_result"
    }
   ],
   "source": [
    "ab_participants.duplicated().sum()"
   ]
  },
  {
   "cell_type": "markdown",
   "id": "8d35fe14",
   "metadata": {},
   "source": [
    "**Вывод:**  \n",
    "* Провели предобработку данных\n",
    "* Просмотрели общую информацию по датасетам\n",
    "* Проверили их на пропуски и дубли, обнаруженные пропуски устранили\n",
    "* Поменяли тип данных на правильный"
   ]
  },
  {
   "cell_type": "markdown",
   "id": "0a982b40",
   "metadata": {},
   "source": [
    "Данные готовы к дальнейшему анализу"
   ]
  },
  {
   "cell_type": "markdown",
   "id": "b91014cc",
   "metadata": {},
   "source": [
    "## Оценка корректности проведения теста"
   ]
  },
  {
   "cell_type": "markdown",
   "id": "40c5e6d8",
   "metadata": {},
   "source": [
    "Проверим соответствие данных требованиям технического задания и корректность всех пунктов"
   ]
  },
  {
   "cell_type": "code",
   "execution_count": 20,
   "id": "b957b826",
   "metadata": {},
   "outputs": [
    {
     "data": {
      "text/plain": [
       "interface_eu_test          11567\n",
       "recommender_system_test     6701\n",
       "Name: ab_test, dtype: int64"
      ]
     },
     "execution_count": 20,
     "metadata": {},
     "output_type": "execute_result"
    }
   ],
   "source": [
    "ab_participants['ab_test'].value_counts()"
   ]
  },
  {
   "cell_type": "markdown",
   "id": "5e241d3e",
   "metadata": {},
   "source": [
    "Мы видим, что в датасете присутствует 2 теста, хотя в ТЗ мы анализируем 1"
   ]
  },
  {
   "cell_type": "code",
   "execution_count": 21,
   "id": "bbddd5fc",
   "metadata": {},
   "outputs": [
    {
     "data": {
      "text/html": [
       "<div>\n",
       "<style scoped>\n",
       "    .dataframe tbody tr th:only-of-type {\n",
       "        vertical-align: middle;\n",
       "    }\n",
       "\n",
       "    .dataframe tbody tr th {\n",
       "        vertical-align: top;\n",
       "    }\n",
       "\n",
       "    .dataframe thead th {\n",
       "        text-align: right;\n",
       "    }\n",
       "</style>\n",
       "<table border=\"1\" class=\"dataframe\">\n",
       "  <thead>\n",
       "    <tr style=\"text-align: right;\">\n",
       "      <th></th>\n",
       "      <th>ab_test</th>\n",
       "      <th>group</th>\n",
       "      <th>user_id</th>\n",
       "    </tr>\n",
       "  </thead>\n",
       "  <tbody>\n",
       "    <tr>\n",
       "      <th>0</th>\n",
       "      <td>interface_eu_test</td>\n",
       "      <td>A</td>\n",
       "      <td>5831</td>\n",
       "    </tr>\n",
       "    <tr>\n",
       "      <th>1</th>\n",
       "      <td>interface_eu_test</td>\n",
       "      <td>B</td>\n",
       "      <td>5736</td>\n",
       "    </tr>\n",
       "    <tr>\n",
       "      <th>2</th>\n",
       "      <td>recommender_system_test</td>\n",
       "      <td>A</td>\n",
       "      <td>3824</td>\n",
       "    </tr>\n",
       "    <tr>\n",
       "      <th>3</th>\n",
       "      <td>recommender_system_test</td>\n",
       "      <td>B</td>\n",
       "      <td>2877</td>\n",
       "    </tr>\n",
       "  </tbody>\n",
       "</table>\n",
       "</div>"
      ],
      "text/plain": [
       "                   ab_test group  user_id\n",
       "0        interface_eu_test     A     5831\n",
       "1        interface_eu_test     B     5736\n",
       "2  recommender_system_test     A     3824\n",
       "3  recommender_system_test     B     2877"
      ]
     },
     "execution_count": 21,
     "metadata": {},
     "output_type": "execute_result"
    }
   ],
   "source": [
    "i_1 = ab_participants.groupby(by = ['ab_test', 'group'])['user_id'].count().reset_index()\n",
    "i_1"
   ]
  },
  {
   "cell_type": "markdown",
   "id": "aba206e8",
   "metadata": {},
   "source": [
    "По каждому тесту видим по 2 группы: А и В  "
   ]
  },
  {
   "cell_type": "markdown",
   "id": "527168a6",
   "metadata": {},
   "source": [
    "Посмотрим, есть ли пользователи, которые учавствуют в дух тестах"
   ]
  },
  {
   "cell_type": "code",
   "execution_count": 22,
   "id": "b53d236a",
   "metadata": {},
   "outputs": [],
   "source": [
    "#Уникальные пользователи по нашему тесту\n",
    "a = ab_participants.query('ab_test == \"recommender_system_test\"')['user_id'].unique()"
   ]
  },
  {
   "cell_type": "code",
   "execution_count": 23,
   "id": "2c52e92f",
   "metadata": {},
   "outputs": [],
   "source": [
    "#Уникальные пользователи по другому тесту\n",
    "b = ab_participants.query('ab_test == \"interface_eu_test\"')['user_id'].unique()"
   ]
  },
  {
   "cell_type": "code",
   "execution_count": 24,
   "id": "ab161b0e",
   "metadata": {},
   "outputs": [],
   "source": [
    "#Всего уникальных пользователей в датасете\n",
    "a_b = ab_participants['user_id'].nunique()"
   ]
  },
  {
   "cell_type": "code",
   "execution_count": 25,
   "id": "325723a4",
   "metadata": {},
   "outputs": [
    {
     "data": {
      "text/plain": [
       "-1602"
      ]
     },
     "execution_count": 25,
     "metadata": {},
     "output_type": "execute_result"
    }
   ],
   "source": [
    "a_b - (len(a)+len(b))"
   ]
  },
  {
   "cell_type": "markdown",
   "id": "dcacfed5",
   "metadata": {},
   "source": [
    "Есть пользователи, которые попали под основной тест и конкурирующий. Посмотрим, как они распределенны в ``interface_eu_test``"
   ]
  },
  {
   "cell_type": "code",
   "execution_count": 26,
   "id": "c5f4f888",
   "metadata": {},
   "outputs": [],
   "source": [
    "#Соберем список из уникальных пользователей, которые пересекаются\n",
    "list_users = ab_participants.query('user_id in @a and user_id in @b')['user_id'].unique()"
   ]
  },
  {
   "cell_type": "code",
   "execution_count": 27,
   "id": "d8b6e616",
   "metadata": {},
   "outputs": [
    {
     "data": {
      "text/html": [
       "<div>\n",
       "<style scoped>\n",
       "    .dataframe tbody tr th:only-of-type {\n",
       "        vertical-align: middle;\n",
       "    }\n",
       "\n",
       "    .dataframe tbody tr th {\n",
       "        vertical-align: top;\n",
       "    }\n",
       "\n",
       "    .dataframe thead th {\n",
       "        text-align: right;\n",
       "    }\n",
       "</style>\n",
       "<table border=\"1\" class=\"dataframe\">\n",
       "  <thead>\n",
       "    <tr style=\"text-align: right;\">\n",
       "      <th></th>\n",
       "      <th>group</th>\n",
       "      <th>user_id</th>\n",
       "    </tr>\n",
       "  </thead>\n",
       "  <tbody>\n",
       "    <tr>\n",
       "      <th>0</th>\n",
       "      <td>A</td>\n",
       "      <td>819</td>\n",
       "    </tr>\n",
       "    <tr>\n",
       "      <th>1</th>\n",
       "      <td>B</td>\n",
       "      <td>783</td>\n",
       "    </tr>\n",
       "  </tbody>\n",
       "</table>\n",
       "</div>"
      ],
      "text/plain": [
       "  group  user_id\n",
       "0     A      819\n",
       "1     B      783"
      ]
     },
     "execution_count": 27,
     "metadata": {},
     "output_type": "execute_result"
    }
   ],
   "source": [
    "i_2 = (\n",
    " ab_participants.query('user_id in @list_users and ab_test == \"interface_eu_test\"')\n",
    "    .groupby('group', as_index=False)\n",
    "    .agg({'user_id':'nunique'})\n",
    ")\n",
    "i_2"
   ]
  },
  {
   "cell_type": "code",
   "execution_count": 28,
   "id": "b21083d4",
   "metadata": {},
   "outputs": [
    {
     "name": "stdout",
     "output_type": "stream",
     "text": [
      "Доля пользователей группы А: 0.14\n",
      "Доля пользователей группы В: 0.14\n"
     ]
    }
   ],
   "source": [
    "#Посчитаем доли:\n",
    "print('Доля пользователей группы А:', round(i_2['user_id'][0]/i_1['user_id'][0], 2))\n",
    "print('Доля пользователей группы В:', round(i_2['user_id'][1]/i_1['user_id'][1], 2))"
   ]
  },
  {
   "cell_type": "markdown",
   "id": "f6c7eb14",
   "metadata": {},
   "source": [
    "Доли пользователей распределены равномерно между группами ``A`` и ``B`` в тесте ``interface_eu_test``, можно сделать вывод, что он оказал на них одинаковое влияние  \n",
    "**Вывод:** 1602 пользователя оставляем, убираем пользовтелей, которые к нашему тесту не относятся"
   ]
  },
  {
   "cell_type": "code",
   "execution_count": 29,
   "id": "4a892b20",
   "metadata": {},
   "outputs": [
    {
     "data": {
      "text/plain": [
       "(6701, 3)"
      ]
     },
     "execution_count": 29,
     "metadata": {},
     "output_type": "execute_result"
    }
   ],
   "source": [
    "ab_participants = ab_participants.query('ab_test == \"recommender_system_test\"')\n",
    "ab_participants.shape"
   ]
  },
  {
   "cell_type": "markdown",
   "id": "4771cb1b",
   "metadata": {},
   "source": [
    "Проверим дату запуска теста"
   ]
  },
  {
   "cell_type": "code",
   "execution_count": 30,
   "id": "6da944bb",
   "metadata": {
    "scrolled": true
   },
   "outputs": [
    {
     "data": {
      "text/plain": [
       "Timestamp('2020-12-07 00:00:33')"
      ]
     },
     "execution_count": 30,
     "metadata": {},
     "output_type": "execute_result"
    }
   ],
   "source": [
    "ab_events['event_dt'].min()"
   ]
  },
  {
   "cell_type": "markdown",
   "id": "5e7a8f98",
   "metadata": {},
   "source": [
    "Дата запуска верна"
   ]
  },
  {
   "cell_type": "markdown",
   "id": "718573e1",
   "metadata": {},
   "source": [
    "В ТЗ указано, что дата остановки набора новых пользователей: 2020-12-21"
   ]
  },
  {
   "cell_type": "code",
   "execution_count": 31,
   "id": "63c58ae8",
   "metadata": {},
   "outputs": [
    {
     "data": {
      "text/plain": [
       "Timestamp('2020-12-23 00:00:00')"
      ]
     },
     "execution_count": 31,
     "metadata": {},
     "output_type": "execute_result"
    }
   ],
   "source": [
    "new_users['first_date'].max()"
   ]
  },
  {
   "cell_type": "markdown",
   "id": "5d93f5a2",
   "metadata": {},
   "source": [
    "Мы видим, что пользователи приходили после 21 декабря, их мы уберем"
   ]
  },
  {
   "cell_type": "code",
   "execution_count": 32,
   "id": "dde8de5c",
   "metadata": {},
   "outputs": [
    {
     "data": {
      "text/plain": [
       "Timestamp('2020-12-21 00:00:00')"
      ]
     },
     "execution_count": 32,
     "metadata": {},
     "output_type": "execute_result"
    }
   ],
   "source": [
    "new_users = new_users.query('first_date < \"2020-12-22\"')\n",
    "new_users['first_date'].max()"
   ]
  },
  {
   "cell_type": "markdown",
   "id": "e3e203b9",
   "metadata": {},
   "source": [
    "Дата остановки теста: 2021-01-04"
   ]
  },
  {
   "cell_type": "code",
   "execution_count": 33,
   "id": "3cd8c855",
   "metadata": {},
   "outputs": [
    {
     "data": {
      "text/plain": [
       "Timestamp('2020-12-30 23:36:33')"
      ]
     },
     "execution_count": 33,
     "metadata": {},
     "output_type": "execute_result"
    }
   ],
   "source": [
    "ab_events['event_dt'].max()"
   ]
  },
  {
   "cell_type": "markdown",
   "id": "6ac0c767",
   "metadata": {},
   "source": [
    "Нам в данных не хватает 5 дней, либо мы подглядываем, что не хорошо, либо нам дали не все данные  \n",
    "5 дней - это 18% от всего времени, которое планировалось на проведение А/B теста  \n",
    "Это нужно учитывать, при результатах теста"
   ]
  },
  {
   "cell_type": "markdown",
   "id": "4696e7f5",
   "metadata": {},
   "source": [
    "У нас должна быть аудитория: 15% новых пользователей из региона EU  \n",
    "Проверим"
   ]
  },
  {
   "cell_type": "code",
   "execution_count": 34,
   "id": "ab947726",
   "metadata": {},
   "outputs": [
    {
     "data": {
      "text/html": [
       "<div>\n",
       "<style scoped>\n",
       "    .dataframe tbody tr th:only-of-type {\n",
       "        vertical-align: middle;\n",
       "    }\n",
       "\n",
       "    .dataframe tbody tr th {\n",
       "        vertical-align: top;\n",
       "    }\n",
       "\n",
       "    .dataframe thead th {\n",
       "        text-align: right;\n",
       "    }\n",
       "</style>\n",
       "<table border=\"1\" class=\"dataframe\">\n",
       "  <thead>\n",
       "    <tr style=\"text-align: right;\">\n",
       "      <th></th>\n",
       "      <th>user_id</th>\n",
       "      <th>first_date</th>\n",
       "      <th>region</th>\n",
       "      <th>device</th>\n",
       "      <th>group</th>\n",
       "      <th>ab_test</th>\n",
       "      <th>event_dt</th>\n",
       "      <th>event_name</th>\n",
       "      <th>details</th>\n",
       "    </tr>\n",
       "  </thead>\n",
       "  <tbody>\n",
       "    <tr>\n",
       "      <th>0</th>\n",
       "      <td>D1ABA3E2887B6A73</td>\n",
       "      <td>2020-12-07</td>\n",
       "      <td>EU</td>\n",
       "      <td>PC</td>\n",
       "      <td>A</td>\n",
       "      <td>recommender_system_test</td>\n",
       "      <td>2020-12-07 14:43:27</td>\n",
       "      <td>purchase</td>\n",
       "      <td>99.99</td>\n",
       "    </tr>\n",
       "    <tr>\n",
       "      <th>1</th>\n",
       "      <td>D1ABA3E2887B6A73</td>\n",
       "      <td>2020-12-07</td>\n",
       "      <td>EU</td>\n",
       "      <td>PC</td>\n",
       "      <td>A</td>\n",
       "      <td>recommender_system_test</td>\n",
       "      <td>2020-12-25 00:04:56</td>\n",
       "      <td>purchase</td>\n",
       "      <td>4.99</td>\n",
       "    </tr>\n",
       "    <tr>\n",
       "      <th>2</th>\n",
       "      <td>D1ABA3E2887B6A73</td>\n",
       "      <td>2020-12-07</td>\n",
       "      <td>EU</td>\n",
       "      <td>PC</td>\n",
       "      <td>A</td>\n",
       "      <td>recommender_system_test</td>\n",
       "      <td>2020-12-07 14:43:29</td>\n",
       "      <td>product_cart</td>\n",
       "      <td>0.00</td>\n",
       "    </tr>\n",
       "    <tr>\n",
       "      <th>3</th>\n",
       "      <td>D1ABA3E2887B6A73</td>\n",
       "      <td>2020-12-07</td>\n",
       "      <td>EU</td>\n",
       "      <td>PC</td>\n",
       "      <td>A</td>\n",
       "      <td>recommender_system_test</td>\n",
       "      <td>2020-12-25 00:04:57</td>\n",
       "      <td>product_cart</td>\n",
       "      <td>0.00</td>\n",
       "    </tr>\n",
       "    <tr>\n",
       "      <th>4</th>\n",
       "      <td>D1ABA3E2887B6A73</td>\n",
       "      <td>2020-12-07</td>\n",
       "      <td>EU</td>\n",
       "      <td>PC</td>\n",
       "      <td>A</td>\n",
       "      <td>recommender_system_test</td>\n",
       "      <td>2020-12-07 14:43:27</td>\n",
       "      <td>product_page</td>\n",
       "      <td>0.00</td>\n",
       "    </tr>\n",
       "  </tbody>\n",
       "</table>\n",
       "</div>"
      ],
      "text/plain": [
       "            user_id first_date region device group                  ab_test  \\\n",
       "0  D1ABA3E2887B6A73 2020-12-07     EU     PC     A  recommender_system_test   \n",
       "1  D1ABA3E2887B6A73 2020-12-07     EU     PC     A  recommender_system_test   \n",
       "2  D1ABA3E2887B6A73 2020-12-07     EU     PC     A  recommender_system_test   \n",
       "3  D1ABA3E2887B6A73 2020-12-07     EU     PC     A  recommender_system_test   \n",
       "4  D1ABA3E2887B6A73 2020-12-07     EU     PC     A  recommender_system_test   \n",
       "\n",
       "             event_dt    event_name  details  \n",
       "0 2020-12-07 14:43:27      purchase    99.99  \n",
       "1 2020-12-25 00:04:56      purchase     4.99  \n",
       "2 2020-12-07 14:43:29  product_cart     0.00  \n",
       "3 2020-12-25 00:04:57  product_cart     0.00  \n",
       "4 2020-12-07 14:43:27  product_page     0.00  "
      ]
     },
     "execution_count": 34,
     "metadata": {},
     "output_type": "execute_result"
    }
   ],
   "source": [
    "#Для начала объединим 3 датасета\n",
    "df_oll = new_users.merge(ab_participants, on='user_id', how='right')\n",
    "df_oll = df_oll.merge(ab_events, on='user_id', how='left')\n",
    "df_oll.head()"
   ]
  },
  {
   "cell_type": "code",
   "execution_count": 35,
   "id": "a85274e7",
   "metadata": {},
   "outputs": [
    {
     "data": {
      "text/plain": [
       "42340"
      ]
     },
     "execution_count": 35,
     "metadata": {},
     "output_type": "execute_result"
    }
   ],
   "source": [
    "oll_EU = new_users.query('region == \"EU\"')['user_id'].nunique()\n",
    "oll_EU"
   ]
  },
  {
   "cell_type": "code",
   "execution_count": 36,
   "id": "c68ca1a9",
   "metadata": {},
   "outputs": [
    {
     "data": {
      "text/plain": [
       "6351"
      ]
     },
     "execution_count": 36,
     "metadata": {},
     "output_type": "execute_result"
    }
   ],
   "source": [
    "test_EU = df_oll.query('region == \"EU\"')['user_id'].nunique()\n",
    "test_EU"
   ]
  },
  {
   "cell_type": "code",
   "execution_count": 37,
   "id": "7a7de81f",
   "metadata": {},
   "outputs": [
    {
     "name": "stdout",
     "output_type": "stream",
     "text": [
      "Процент пользователей из региона EU: 15 %\n"
     ]
    }
   ],
   "source": [
    "print('Процент пользователей из региона EU:', round((test_EU/oll_EU)* 100),'%')"
   ]
  },
  {
   "cell_type": "code",
   "execution_count": 38,
   "id": "7139ee89",
   "metadata": {},
   "outputs": [
    {
     "name": "stdout",
     "output_type": "stream",
     "text": [
      "Количество участников теста получается: 6701\n"
     ]
    }
   ],
   "source": [
    "print('Количество участников теста получается:', df_oll['user_id'].nunique())"
   ]
  },
  {
   "cell_type": "markdown",
   "id": "e053b840",
   "metadata": {},
   "source": [
    "Проверим, не было ли за время теста 2020-12-07 - 2021-01-04 маркетинговых активностей"
   ]
  },
  {
   "cell_type": "code",
   "execution_count": 39,
   "id": "543df81a",
   "metadata": {},
   "outputs": [
    {
     "data": {
      "text/html": [
       "<div>\n",
       "<style scoped>\n",
       "    .dataframe tbody tr th:only-of-type {\n",
       "        vertical-align: middle;\n",
       "    }\n",
       "\n",
       "    .dataframe tbody tr th {\n",
       "        vertical-align: top;\n",
       "    }\n",
       "\n",
       "    .dataframe thead th {\n",
       "        text-align: right;\n",
       "    }\n",
       "</style>\n",
       "<table border=\"1\" class=\"dataframe\">\n",
       "  <thead>\n",
       "    <tr style=\"text-align: right;\">\n",
       "      <th></th>\n",
       "      <th>name</th>\n",
       "      <th>regions</th>\n",
       "      <th>start_dt</th>\n",
       "      <th>finish_dt</th>\n",
       "    </tr>\n",
       "  </thead>\n",
       "  <tbody>\n",
       "    <tr>\n",
       "      <th>0</th>\n",
       "      <td>Christmas&amp;New Year Promo</td>\n",
       "      <td>EU, N.America</td>\n",
       "      <td>2020-12-25</td>\n",
       "      <td>2021-01-03</td>\n",
       "    </tr>\n",
       "    <tr>\n",
       "      <th>10</th>\n",
       "      <td>CIS New Year Gift Lottery</td>\n",
       "      <td>CIS</td>\n",
       "      <td>2020-12-30</td>\n",
       "      <td>2021-01-07</td>\n",
       "    </tr>\n",
       "  </tbody>\n",
       "</table>\n",
       "</div>"
      ],
      "text/plain": [
       "                         name        regions   start_dt  finish_dt\n",
       "0    Christmas&New Year Promo  EU, N.America 2020-12-25 2021-01-03\n",
       "10  CIS New Year Gift Lottery            CIS 2020-12-30 2021-01-07"
      ]
     },
     "execution_count": 39,
     "metadata": {},
     "output_type": "execute_result"
    }
   ],
   "source": [
    "marketing_events.query('\"2020-12-07\" <= start_dt <= \"2021-01-04\"')"
   ]
  },
  {
   "cell_type": "markdown",
   "id": "4400957c",
   "metadata": {},
   "source": [
    "У нас есть 2 промо, второй нам не страшен, так как у нас после 30 декабря нет данных, а первый попадает на 5 дней теста, это значительный объем, поэтому не будем его убирать  \n",
    "Будем держать ``Christmas & New Year Promo`` в голове"
   ]
  },
  {
   "cell_type": "markdown",
   "id": "47c3448b",
   "metadata": {},
   "source": [
    "У нас тест закончился 30 декабря, нам надо отфильтровать пользователей, у кого меньше 14 дней  "
   ]
  },
  {
   "cell_type": "code",
   "execution_count": 40,
   "id": "fbb0c899",
   "metadata": {},
   "outputs": [
    {
     "data": {
      "text/html": [
       "<div>\n",
       "<style scoped>\n",
       "    .dataframe tbody tr th:only-of-type {\n",
       "        vertical-align: middle;\n",
       "    }\n",
       "\n",
       "    .dataframe tbody tr th {\n",
       "        vertical-align: top;\n",
       "    }\n",
       "\n",
       "    .dataframe thead th {\n",
       "        text-align: right;\n",
       "    }\n",
       "</style>\n",
       "<table border=\"1\" class=\"dataframe\">\n",
       "  <thead>\n",
       "    <tr style=\"text-align: right;\">\n",
       "      <th></th>\n",
       "      <th>user_id</th>\n",
       "      <th>first_date</th>\n",
       "      <th>region</th>\n",
       "      <th>device</th>\n",
       "      <th>group</th>\n",
       "      <th>ab_test</th>\n",
       "      <th>event_dt</th>\n",
       "      <th>event_name</th>\n",
       "      <th>details</th>\n",
       "      <th>event_date_count</th>\n",
       "    </tr>\n",
       "  </thead>\n",
       "  <tbody>\n",
       "    <tr>\n",
       "      <th>0</th>\n",
       "      <td>D1ABA3E2887B6A73</td>\n",
       "      <td>2020-12-07</td>\n",
       "      <td>EU</td>\n",
       "      <td>PC</td>\n",
       "      <td>A</td>\n",
       "      <td>recommender_system_test</td>\n",
       "      <td>2020-12-07 14:43:27</td>\n",
       "      <td>purchase</td>\n",
       "      <td>99.99</td>\n",
       "      <td>0.0</td>\n",
       "    </tr>\n",
       "    <tr>\n",
       "      <th>2</th>\n",
       "      <td>D1ABA3E2887B6A73</td>\n",
       "      <td>2020-12-07</td>\n",
       "      <td>EU</td>\n",
       "      <td>PC</td>\n",
       "      <td>A</td>\n",
       "      <td>recommender_system_test</td>\n",
       "      <td>2020-12-07 14:43:29</td>\n",
       "      <td>product_cart</td>\n",
       "      <td>0.00</td>\n",
       "      <td>0.0</td>\n",
       "    </tr>\n",
       "    <tr>\n",
       "      <th>4</th>\n",
       "      <td>D1ABA3E2887B6A73</td>\n",
       "      <td>2020-12-07</td>\n",
       "      <td>EU</td>\n",
       "      <td>PC</td>\n",
       "      <td>A</td>\n",
       "      <td>recommender_system_test</td>\n",
       "      <td>2020-12-07 14:43:27</td>\n",
       "      <td>product_page</td>\n",
       "      <td>0.00</td>\n",
       "      <td>0.0</td>\n",
       "    </tr>\n",
       "    <tr>\n",
       "      <th>6</th>\n",
       "      <td>D1ABA3E2887B6A73</td>\n",
       "      <td>2020-12-07</td>\n",
       "      <td>EU</td>\n",
       "      <td>PC</td>\n",
       "      <td>A</td>\n",
       "      <td>recommender_system_test</td>\n",
       "      <td>2020-12-07 14:43:27</td>\n",
       "      <td>login</td>\n",
       "      <td>0.00</td>\n",
       "      <td>0.0</td>\n",
       "    </tr>\n",
       "    <tr>\n",
       "      <th>8</th>\n",
       "      <td>A7A3664BD6242119</td>\n",
       "      <td>2020-12-20</td>\n",
       "      <td>EU</td>\n",
       "      <td>iPhone</td>\n",
       "      <td>A</td>\n",
       "      <td>recommender_system_test</td>\n",
       "      <td>2020-12-20 15:46:06</td>\n",
       "      <td>product_page</td>\n",
       "      <td>0.00</td>\n",
       "      <td>0.0</td>\n",
       "    </tr>\n",
       "  </tbody>\n",
       "</table>\n",
       "</div>"
      ],
      "text/plain": [
       "            user_id first_date region  device group                  ab_test  \\\n",
       "0  D1ABA3E2887B6A73 2020-12-07     EU      PC     A  recommender_system_test   \n",
       "2  D1ABA3E2887B6A73 2020-12-07     EU      PC     A  recommender_system_test   \n",
       "4  D1ABA3E2887B6A73 2020-12-07     EU      PC     A  recommender_system_test   \n",
       "6  D1ABA3E2887B6A73 2020-12-07     EU      PC     A  recommender_system_test   \n",
       "8  A7A3664BD6242119 2020-12-20     EU  iPhone     A  recommender_system_test   \n",
       "\n",
       "             event_dt    event_name  details  event_date_count  \n",
       "0 2020-12-07 14:43:27      purchase    99.99               0.0  \n",
       "2 2020-12-07 14:43:29  product_cart     0.00               0.0  \n",
       "4 2020-12-07 14:43:27  product_page     0.00               0.0  \n",
       "6 2020-12-07 14:43:27         login     0.00               0.0  \n",
       "8 2020-12-20 15:46:06  product_page     0.00               0.0  "
      ]
     },
     "execution_count": 40,
     "metadata": {},
     "output_type": "execute_result"
    }
   ],
   "source": [
    "df_oll['event_date_count'] = (df_oll['event_dt'] - df_oll['first_date']).dt.days\n",
    "df_oll = df_oll.query('event_date_count <= 14')\n",
    "warnings.filterwarnings('ignore')\n",
    "df_oll.head()"
   ]
  },
  {
   "cell_type": "markdown",
   "id": "c4f79bed",
   "metadata": {},
   "source": [
    "## Исследовательский анализ данных"
   ]
  },
  {
   "cell_type": "markdown",
   "id": "3686d08c",
   "metadata": {},
   "source": [
    "Посмотрим распределение событий по датам и группам"
   ]
  },
  {
   "cell_type": "markdown",
   "id": "3f7c6b40",
   "metadata": {},
   "source": [
    "Выделим дату из временного столбца ``event_dt``"
   ]
  },
  {
   "cell_type": "code",
   "execution_count": 41,
   "id": "7a96b083",
   "metadata": {},
   "outputs": [],
   "source": [
    "df_oll['event_dt'] = df_oll['event_dt'].dt.date\n",
    "df_oll['event_dt'] = pd.to_datetime(df_oll['event_dt'])"
   ]
  },
  {
   "cell_type": "code",
   "execution_count": 42,
   "id": "6c176976",
   "metadata": {},
   "outputs": [
    {
     "data": {
      "image/png": "[encoded data removed]",
      "text/plain": [
       "<Figure size 2300x400 with 1 Axes>"
      ]
     },
     "metadata": {},
     "output_type": "display_data"
    }
   ],
   "source": [
    "plot=df_oll.groupby(['event_dt', 'group'])['user_id'].count().reset_index()\n",
    "plot.index = plot['event_dt']\n",
    "\n",
    "plt.figure(figsize = (23, 4))\n",
    "plt.grid(True)\n",
    "plt.title('Распределение количества событий пользователей по времени в разбивке на группы', size=14)\n",
    "sns.barplot(data = plot, x = plot.index.strftime('%d.%m.%Y'), y = 'user_id', hue = 'group')\n",
    "plt.ylabel('Количество событий')\n",
    "plt.xlabel('Дата')\n",
    "plt.xticks(rotation = 45)\n",
    "plt.show()"
   ]
  },
  {
   "cell_type": "markdown",
   "id": "8908a9c1",
   "metadata": {},
   "source": [
    "И посмотрим распределение событий по тестовым группам"
   ]
  },
  {
   "cell_type": "code",
   "execution_count": 43,
   "id": "8a70a493",
   "metadata": {},
   "outputs": [
    {
     "data": {
      "image/png": "[encoded data removed]",
      "text/plain": [
       "<Figure size 2000x700 with 1 Axes>"
      ]
     },
     "metadata": {},
     "output_type": "display_data"
    }
   ],
   "source": [
    "plt.figure(figsize = (20, 7))\n",
    "plt.grid(True)\n",
    "plt.title('Распределение событий по тестовым группам', size=14)\n",
    "plot = (\n",
    "    sns.countplot(data = df_oll, x = 'event_name', hue = 'group', order = df_oll['event_name'].value_counts().index)\n",
    ")\n",
    "for p in plot.patches:\n",
    "    plot.annotate(format(p.get_height(), '.0f'), \n",
    "                   (p.get_x() + p.get_width() / 2., p.get_height()), \n",
    "                   ha = 'center', va = 'center', \n",
    "                   xytext = (0, 9), \n",
    "                   textcoords = 'offset points')\n",
    "plt.ylabel('Количество событий')\n",
    "plt.xlabel('События')\n",
    "plt.show()"
   ]
  },
  {
   "cell_type": "markdown",
   "id": "e96995a7",
   "metadata": {},
   "source": [
    "Проверим, что количество событий на пользователя одинаково распределены в выборках"
   ]
  },
  {
   "cell_type": "code",
   "execution_count": 44,
   "id": "7909dc8a",
   "metadata": {},
   "outputs": [
    {
     "data": {
      "text/html": [
       "<div>\n",
       "<style scoped>\n",
       "    .dataframe tbody tr th:only-of-type {\n",
       "        vertical-align: middle;\n",
       "    }\n",
       "\n",
       "    .dataframe tbody tr th {\n",
       "        vertical-align: top;\n",
       "    }\n",
       "\n",
       "    .dataframe thead th {\n",
       "        text-align: right;\n",
       "    }\n",
       "</style>\n",
       "<table border=\"1\" class=\"dataframe\">\n",
       "  <thead>\n",
       "    <tr style=\"text-align: right;\">\n",
       "      <th></th>\n",
       "      <th>event_dt</th>\n",
       "      <th>group</th>\n",
       "      <th>user_id</th>\n",
       "      <th>event_name</th>\n",
       "      <th>mean</th>\n",
       "    </tr>\n",
       "  </thead>\n",
       "  <tbody>\n",
       "    <tr>\n",
       "      <th>0</th>\n",
       "      <td>2020-12-07</td>\n",
       "      <td>A</td>\n",
       "      <td>154</td>\n",
       "      <td>331</td>\n",
       "      <td>2.149351</td>\n",
       "    </tr>\n",
       "    <tr>\n",
       "      <th>1</th>\n",
       "      <td>2020-12-07</td>\n",
       "      <td>B</td>\n",
       "      <td>173</td>\n",
       "      <td>378</td>\n",
       "      <td>2.184971</td>\n",
       "    </tr>\n",
       "    <tr>\n",
       "      <th>2</th>\n",
       "      <td>2020-12-08</td>\n",
       "      <td>A</td>\n",
       "      <td>160</td>\n",
       "      <td>341</td>\n",
       "      <td>2.131250</td>\n",
       "    </tr>\n",
       "    <tr>\n",
       "      <th>3</th>\n",
       "      <td>2020-12-08</td>\n",
       "      <td>B</td>\n",
       "      <td>120</td>\n",
       "      <td>252</td>\n",
       "      <td>2.100000</td>\n",
       "    </tr>\n",
       "    <tr>\n",
       "      <th>4</th>\n",
       "      <td>2020-12-09</td>\n",
       "      <td>A</td>\n",
       "      <td>178</td>\n",
       "      <td>385</td>\n",
       "      <td>2.162921</td>\n",
       "    </tr>\n",
       "  </tbody>\n",
       "</table>\n",
       "</div>"
      ],
      "text/plain": [
       "    event_dt group  user_id  event_name      mean\n",
       "0 2020-12-07     A      154         331  2.149351\n",
       "1 2020-12-07     B      173         378  2.184971\n",
       "2 2020-12-08     A      160         341  2.131250\n",
       "3 2020-12-08     B      120         252  2.100000\n",
       "4 2020-12-09     A      178         385  2.162921"
      ]
     },
     "execution_count": 44,
     "metadata": {},
     "output_type": "execute_result"
    }
   ],
   "source": [
    "#Отфильтруем данные\n",
    "\n",
    "events_date = (\n",
    "    df_oll.groupby(['event_dt', 'group']).agg({'user_id' : 'nunique','event_name' : 'count'}).reset_index()\n",
    ")\n",
    "events_date['mean'] = events_date['event_name'] / events_date['user_id']\n",
    "events_date.head()"
   ]
  },
  {
   "cell_type": "code",
   "execution_count": 45,
   "id": "cf431820",
   "metadata": {},
   "outputs": [
    {
     "data": {
      "image/png": "[encoded data removed]",
      "text/plain": [
       "<Figure size 2400x400 with 1 Axes>"
      ]
     },
     "metadata": {},
     "output_type": "display_data"
    }
   ],
   "source": [
    "#Нарисуем график\n",
    "\n",
    "events_date.index = events_date['event_dt']\n",
    "\n",
    "plt.figure(figsize = (24, 4))\n",
    "plt.grid(True)\n",
    "plt.title('Среднее количество событий на пользователя по группам', size=14)\n",
    "sns.barplot(data = events_date, x = events_date.index.strftime('%d.%m.%Y'), y = 'mean', hue = 'group')\n",
    "plt.ylabel('Количество событий')\n",
    "plt.xlabel('Дата')\n",
    "plt.xticks(rotation = 45)\n",
    "plt.show()"
   ]
  },
  {
   "cell_type": "markdown",
   "id": "142b0763",
   "metadata": {},
   "source": [
    "Мы видим, что группа ``А`` лидирует почти каждый день  \n",
    "В среднем, пользователь совершает за день 2 действия\n"
   ]
  },
  {
   "cell_type": "markdown",
   "id": "084c4c9e",
   "metadata": {},
   "source": [
    "**Посмотрим, как число событий в выборках распределено по дням**"
   ]
  },
  {
   "cell_type": "code",
   "execution_count": 46,
   "id": "7bd40e78",
   "metadata": {},
   "outputs": [
    {
     "data": {
      "text/plain": [
       "0"
      ]
     },
     "execution_count": 46,
     "metadata": {},
     "output_type": "execute_result"
    }
   ],
   "source": [
    "df_oll['event_name'].isna().sum()"
   ]
  },
  {
   "cell_type": "markdown",
   "id": "1383ebfa",
   "metadata": {},
   "source": [
    "В ``event_name`` есть пропуски, скорей всего пользователи не совершали событий, мы поставим загрушку"
   ]
  },
  {
   "cell_type": "code",
   "execution_count": 47,
   "id": "1dc912b8",
   "metadata": {},
   "outputs": [
    {
     "data": {
      "text/plain": [
       "login           10893\n",
       "product_page     6746\n",
       "purchase         3253\n",
       "product_cart     3178\n",
       "Name: event_name, dtype: int64"
      ]
     },
     "execution_count": 47,
     "metadata": {},
     "output_type": "execute_result"
    }
   ],
   "source": [
    "df_oll['event_name'] = df_oll['event_name'].fillna(value = 'unknown')\n",
    "df_oll['event_name'].value_counts()"
   ]
  },
  {
   "cell_type": "code",
   "execution_count": 48,
   "id": "ef4e0bf3",
   "metadata": {},
   "outputs": [],
   "source": [
    "count_events_per_day = df_oll.query('event_name != \"unknown\"')\n",
    "count_events_per_day['date'] = count_events_per_day['event_dt'].dt.day\n",
    "\n",
    "#Группа А\n",
    "count_events_per_day_A = (\n",
    "    count_events_per_day.query('group == \"A\"')\n",
    "    .pivot_table(index=['event_name','date'], values='event_dt', aggfunc='count').reset_index()\n",
    ")\n",
    "count_events_per_day_A.columns = ['event_name', 'date', 'count_event']\n",
    "\n",
    "#Группа В\n",
    "count_events_per_day_B = (\n",
    "    count_events_per_day.query('group == \"B\"')\n",
    "    .pivot_table(index=['event_name','date'], values='event_dt', aggfunc='count').reset_index()\n",
    ")\n",
    "count_events_per_day_B.columns = ['event_name', 'date', 'count_event']"
   ]
  },
  {
   "cell_type": "code",
   "execution_count": 49,
   "id": "4c238adb",
   "metadata": {
    "scrolled": false
   },
   "outputs": [
    {
     "data": {
      "image/png": "[encoded data removed]"
     },
     "metadata": {},
     "output_type": "display_data"
    },
    {
     "data": {
      "image/png": "[encoded data removed]"
     },
     "metadata": {},
     "output_type": "display_data"
    }
   ],
   "source": [
    "figA = px.bar(count_events_per_day_A, x='date', y='count_event', color='event_name')\n",
    "figA.update_layout(title='Распределение по дням для Group A')\n",
    "figA.show('png')\n",
    "\n",
    "figB = px.bar(count_events_per_day_B, x='date', y='count_event', color='event_name')\n",
    "figB.update_layout(title='Распределение по дням для Group В')\n",
    "figB.show('png')"
   ]
  },
  {
   "cell_type": "markdown",
   "id": "4dcbf5bb",
   "metadata": {},
   "source": [
    "* В обеих группах пиковая активность пользователей достигнута 21 числа\n",
    "\n",
    "* В группе ``В`` наблюдается высокая активность 7, 9 и 16 числа, максимальное число покупок за это период пользователи совершили 7 числа, было совершено 59 покупок  \n",
    "\n",
    "* В группе ``А`` максимальное значение покупок совпадает с пиковым значением по сумме всех событий, за 21 число было совершено 297 покупок  \n",
    "\n",
    "* Схожесть распределения событий по дням начинается с 22 числа, наблюдается плавный спад активность у группы ``А`` и менее плавный спад у группы ``В``  \n",
    "\n",
    "* Активность пользователей не коррелирует с маркетинговыми мероприятиями проведенными в эти даты, есть два события Christmas&New Year Promo начало 25 числа и CIS New Year Gift Lottery начало 30 числа."
   ]
  },
  {
   "cell_type": "markdown",
   "id": "a5b17a1a",
   "metadata": {},
   "source": [
    "**Мы изучили количество событий по каждой группе, теперь проанализируем, как менялась конверсия в воронке в выборках на разных этапах**"
   ]
  },
  {
   "cell_type": "markdown",
   "id": "0d8a2411",
   "metadata": {},
   "source": [
    "Соберем 2 группы"
   ]
  },
  {
   "cell_type": "code",
   "execution_count": 50,
   "id": "b44a64f3",
   "metadata": {},
   "outputs": [],
   "source": [
    "fun_a = df_oll.query('group == \"A\"')\\\n",
    "                .groupby('event_name')['user_id'].nunique().reset_index().sort_values('user_id', ascending = False)\n",
    "fun_a = fun_a.reindex([0,2,1,3])\n",
    "fun_b = df_oll.query('group == \"B\"')\\\n",
    "                .groupby('event_name')['user_id'].nunique().reset_index().sort_values('user_id', ascending = False)\n",
    "fun_b = fun_b.reindex([0,2,1,3])"
   ]
  },
  {
   "cell_type": "code",
   "execution_count": 51,
   "id": "e472498b",
   "metadata": {},
   "outputs": [
    {
     "data": {
      "image/png": "[encoded data removed]"
     },
     "metadata": {},
     "output_type": "display_data"
    }
   ],
   "source": [
    "fig = go.Figure()\n",
    "\n",
    "fig.add_trace(go.Funnel(\n",
    "    name = 'A',\n",
    "    y = fun_a['event_name'],\n",
    "    x = fun_a['user_id'],\n",
    "    textinfo = \"value+percent previous\"))\n",
    "\n",
    "fig.add_trace(go.Funnel(\n",
    "    name = 'B',\n",
    "    y = fun_b['event_name'],\n",
    "    x = fun_b['user_id'],\n",
    "    textinfo = \"value+percent previous\"))\n",
    "\n",
    "fig.update_layout(\n",
    "    title = {\n",
    "        'text' : 'Конверсия событий пользователей по группам А и В',\n",
    "        'x':0.5\n",
    "    }\n",
    ")\n",
    "\n",
    "fig.show('png')"
   ]
  },
  {
   "cell_type": "markdown",
   "id": "87796316",
   "metadata": {},
   "source": [
    "* Дойдя до страницы ``product_card``, все пользователи производят оплату, в группе ``В`` это 100%, в группе ``А`` - 106%, что говорит о том, что можно оплачивать минуя корзину\n",
    "\n",
    "* Конверсия в группе ``A`` выше на этапах: product_page и purchase. Группа ``B`` лидирует только на этапе product_cart\n",
    "* Ожидаемый эффект лучшей конверссии группы ``В`` в размере прироста на 10% не наблюдается"
   ]
  },
  {
   "cell_type": "markdown",
   "id": "5db34f42",
   "metadata": {},
   "source": [
    "**Какие особенности данных нужно учесть, прежде чем приступать к A/B-тестированию**"
   ]
  },
  {
   "cell_type": "markdown",
   "id": "c01f2ff4",
   "metadata": {},
   "source": [
    "1.  Группа ``A`` больше почти на 1000 пользователей группы ``B``  \n",
    "2.  1602 пользователя учавствовали в конкурирующем A/B-тесте\n",
    "3.  Нам в данных не хватает 5 дней, либо мы подглядываем, что не хорошо, либо нам дали не все данные\n",
    "4.  В момент тестирования были запущены 2 маркетинговые активности"
   ]
  },
  {
   "cell_type": "markdown",
   "id": "9fd87891",
   "metadata": {},
   "source": [
    "## Оценка результата A/B-тестирования"
   ]
  },
  {
   "cell_type": "markdown",
   "id": "b2a4d29a",
   "metadata": {},
   "source": [
    "Что можно сказать про результаты A/В-тестирования:  \n",
    "Мы видим в воронке, что не произошел рост на 10%, а даже немного произошел спад по конверсиям"
   ]
  },
  {
   "cell_type": "markdown",
   "id": "987172fe",
   "metadata": {},
   "source": [
    "Посмотрим на количество пользователей в каждой экспериментальной группе в разрезе событий:"
   ]
  },
  {
   "cell_type": "code",
   "execution_count": 52,
   "id": "0369b466",
   "metadata": {},
   "outputs": [
    {
     "data": {
      "text/html": [
       "<div>\n",
       "<style scoped>\n",
       "    .dataframe tbody tr th:only-of-type {\n",
       "        vertical-align: middle;\n",
       "    }\n",
       "\n",
       "    .dataframe tbody tr th {\n",
       "        vertical-align: top;\n",
       "    }\n",
       "\n",
       "    .dataframe thead th {\n",
       "        text-align: right;\n",
       "    }\n",
       "</style>\n",
       "<table border=\"1\" class=\"dataframe\">\n",
       "  <thead>\n",
       "    <tr style=\"text-align: right;\">\n",
       "      <th>group</th>\n",
       "      <th>A</th>\n",
       "      <th>B</th>\n",
       "    </tr>\n",
       "    <tr>\n",
       "      <th>event_name</th>\n",
       "      <th></th>\n",
       "      <th></th>\n",
       "    </tr>\n",
       "  </thead>\n",
       "  <tbody>\n",
       "    <tr>\n",
       "      <th>login</th>\n",
       "      <td>2747</td>\n",
       "      <td>927</td>\n",
       "    </tr>\n",
       "    <tr>\n",
       "      <th>product_page</th>\n",
       "      <td>1780</td>\n",
       "      <td>523</td>\n",
       "    </tr>\n",
       "    <tr>\n",
       "      <th>purchase</th>\n",
       "      <td>872</td>\n",
       "      <td>256</td>\n",
       "    </tr>\n",
       "    <tr>\n",
       "      <th>product_cart</th>\n",
       "      <td>824</td>\n",
       "      <td>255</td>\n",
       "    </tr>\n",
       "  </tbody>\n",
       "</table>\n",
       "</div>"
      ],
      "text/plain": [
       "group            A    B\n",
       "event_name             \n",
       "login         2747  927\n",
       "product_page  1780  523\n",
       "purchase       872  256\n",
       "product_cart   824  255"
      ]
     },
     "execution_count": 52,
     "metadata": {},
     "output_type": "execute_result"
    }
   ],
   "source": [
    "events_by_groups = df_oll\\\n",
    "                    .pivot_table(index = 'event_name', columns = 'group', values = 'user_id', aggfunc = 'nunique')\\\n",
    "                    .sort_values('A', ascending = False)\n",
    "\n",
    "events_by_groups"
   ]
  },
  {
   "cell_type": "markdown",
   "id": "dd4a4174",
   "metadata": {},
   "source": [
    "Размеры групп различаются, что говорит о неоптимальности разбиения данных по группам"
   ]
  },
  {
   "cell_type": "markdown",
   "id": "0f29d568",
   "metadata": {},
   "source": [
    "**Нулевая гипотеза:** Группы А и В равны  \n",
    "**Альтернативная гипотеза:** Между группами есть разница"
   ]
  },
  {
   "cell_type": "markdown",
   "id": "db179556",
   "metadata": {},
   "source": [
    "**Проверим статистическую разницу долей z-критерием**"
   ]
  },
  {
   "cell_type": "code",
   "execution_count": 53,
   "id": "3498293f",
   "metadata": {},
   "outputs": [],
   "source": [
    "#Напишем функцию\n",
    "\n",
    "def z_test(group_1, group_2, eventname, alpha): \n",
    "    purchases1 = events_by_groups.loc[eventname, group_1]\n",
    "    purchases2 = events_by_groups.loc[eventname, group_2]\n",
    "    n1 = events_by_groups.iloc[0, 0]\n",
    "    n2 = events_by_groups.iloc[0, 1]\n",
    "    p1 = purchases1 / n1    \n",
    "    p2 = purchases2 / n2     \n",
    "    difference = p1 - p2    \n",
    "    p_combined = (purchases1 + purchases2) / (n1 + n2)    \n",
    "    z_value = difference / mth.sqrt(p_combined * (1 - p_combined) * (1 / n1 + 1 / n2))                \n",
    "    distr = st.norm(0, 1)    \n",
    "    p_value = (1 - distr.cdf(abs(z_value))) * 2\n",
    "\n",
    "    bonferroni_alpha = alpha / 4\n",
    "    \n",
    "    print('Проверка события:', eventname)\n",
    "    print('p-value: ',p_value)\n",
    "   \n",
    "    if (p_value < bonferroni_alpha):\n",
    "        print(\"Отвергаем нулевую гипотезу: между конверсией групп есть значимая разница\")\n",
    "    else:\n",
    "        print(\"Не получилось отвергнуть нулевую гипотезу, нет оснований считать конверсию групп разной\") \n",
    "    print('')"
   ]
  },
  {
   "cell_type": "code",
   "execution_count": 54,
   "id": "ef667b84",
   "metadata": {},
   "outputs": [
    {
     "name": "stdout",
     "output_type": "stream",
     "text": [
      "Проверка события: login\n",
      "p-value:  nan\n",
      "Не получилось отвергнуть нулевую гипотезу, нет оснований считать конверсию групп разной\n",
      "\n",
      "Проверка события: product_page\n",
      "p-value:  5.084368080776613e-06\n",
      "Отвергаем нулевую гипотезу: между конверсией групп есть значимая разница\n",
      "\n",
      "Проверка события: purchase\n",
      "p-value:  0.018474632659979617\n",
      "Не получилось отвергнуть нулевую гипотезу, нет оснований считать конверсию групп разной\n",
      "\n",
      "Проверка события: product_cart\n",
      "p-value:  0.15034216422194624\n",
      "Не получилось отвергнуть нулевую гипотезу, нет оснований считать конверсию групп разной\n",
      "\n"
     ]
    }
   ],
   "source": [
    "for eventname in events_by_groups.index:\n",
    "    z_test('A', 'B', eventname, 0.05)"
   ]
  },
  {
   "cell_type": "markdown",
   "id": "90539e28",
   "metadata": {},
   "source": [
    "Для события ``login``, проверка статистической разницы долей z-критерием невозможна, так как это действие совершили все пользователи группы ``А`` и группы ``В``, а это число соответствует максимальному размеру выборки групп.\n",
    "\n",
    "Значимая статистическая разница в конверсии групп ``А`` и ``В`` присутствует только для события product_page."
   ]
  },
  {
   "cell_type": "markdown",
   "id": "dc4297b4",
   "metadata": {},
   "source": [
    "## Вывод"
   ]
  },
  {
   "cell_type": "markdown",
   "id": "ec13ee86",
   "metadata": {},
   "source": [
    "Мы завершили исследование и оценку результатов A/B-тестирования\n",
    "\n",
    "**Предобработка данных:**  \n",
    "* Просмотрели общую информацию по датасетам\n",
    "* Проверили их на пропуски и дубли, обнаруженные пропуски устранили\n",
    "* Поменяли тип данных на правильный  \n",
    "\n",
    "**Оценка корректности проведения теста:**  \n",
    "* Группа ``A`` больше почти на 1000 пользователей группы ``B``  \n",
    "* 1602 пользователя учавствовали в конкурирующем A/B-тесте\n",
    "* Нам в данных не хватает 5 дней, либо мы подглядываем, что не хорошо, либо нам дали не все данные\n",
    "* В момент тестирования были запущены 2 маркетинговые активности  \n",
    "\n",
    "Поэтому доверять результатам исследования не стоит, так как далеко не все правила ТЗ были исполнены\n",
    "\n",
    "**Исследовательский анализ данных:**  \n",
    "* В обеих группах пиковая активность пользователей достигнута 21 числа\n",
    "\n",
    "* В группе ``В`` наблюдается высокая активность 7, 9 и 16 числа, максимальное число покупок за это период пользователи совершили 7 числа, было совершено 59 покупок  \n",
    "\n",
    "* В группе ``А`` максимальное значение покупок совпадает с пиковым значением по сумме всех событий, за 21 число было совершено 297 покупок  \n",
    "\n",
    "* Схожесть распределения событий по дням начинается с 22 числа, наблюдается плавный спад активность у группы ``А`` и менее плавный спад у группы ``В``  \n",
    "\n",
    "* Активность пользователей не коррелирует с маркетинговыми мероприятиями проведенными в эти даты, есть два события Christmas&New Year Promo начало 25 числа и CIS New Year Gift Lottery начало 30 числа.\n",
    "* Дойдя до страницы ``product_card``, все пользователи производят оплату, в группе ``В`` это 100%, в группе ``А`` - 106%, что говорит о том, что можно оплачивать минуя корзину\n",
    "\n",
    "* Конверсия в группе ``A`` выше на этапах: product_page и purchase. Группа ``B`` лидирует только на этапе product_cart\n",
    "* Ожидаемый эффект лучшей конверссии группы ``В`` в размере прироста на 10% не наблюдается\n",
    "\n",
    "**Оценка результата A/B-тестирования:**  \n",
    "Для события ``login``, проверка статистической разницы долей z-критерием невозможна, так как это действие совершили все пользователи группы ``А`` и группы ``В``, а это число соответствует максимальному размеру выборки групп  \n",
    "\n",
    "Значимая статистическая разница в конверсии групп ``А`` и ``В`` присутствует только для события product_page  \n",
    "Но как показывает конверсия, изменения только ухудшили результаты  \n",
    "Поэтому оснований считать изменения, связанные с внедрением улучшенной рекомендательной системы, успешными нет  \n",
    "Лучше остаться на прошлом варианте до изменения или провести A/B тестирование заново, но строго по ТЗ, так как были допущены ошибки"
   ]
  }
 ],
 "metadata": {
  "ExecuteTimeLog": [
   {
    "duration": 1391,
    "start_time": "2022-11-11T06:36:38.936Z"
   },
   {
    "duration": 148,
    "start_time": "2022-11-11T06:36:40.329Z"
   },
   {
    "duration": 0,
    "start_time": "2022-11-11T06:36:40.480Z"
   },
   {
    "duration": 0,
    "start_time": "2022-11-11T06:36:40.481Z"
   },
   {
    "duration": 0,
    "start_time": "2022-11-11T06:36:40.482Z"
   },
   {
    "duration": 0,
    "start_time": "2022-11-11T06:36:40.483Z"
   },
   {
    "duration": 0,
    "start_time": "2022-11-11T06:36:40.484Z"
   },
   {
    "duration": 0,
    "start_time": "2022-11-11T06:36:40.486Z"
   },
   {
    "duration": 0,
    "start_time": "2022-11-11T06:36:40.486Z"
   },
   {
    "duration": 0,
    "start_time": "2022-11-11T06:36:40.487Z"
   },
   {
    "duration": 0,
    "start_time": "2022-11-11T06:36:40.489Z"
   },
   {
    "duration": 0,
    "start_time": "2022-11-11T06:36:40.490Z"
   },
   {
    "duration": 0,
    "start_time": "2022-11-11T06:36:40.492Z"
   },
   {
    "duration": 0,
    "start_time": "2022-11-11T06:36:40.493Z"
   },
   {
    "duration": 0,
    "start_time": "2022-11-11T06:36:40.495Z"
   },
   {
    "duration": 0,
    "start_time": "2022-11-11T06:36:40.496Z"
   },
   {
    "duration": 0,
    "start_time": "2022-11-11T06:36:40.497Z"
   },
   {
    "duration": 0,
    "start_time": "2022-11-11T06:36:40.499Z"
   },
   {
    "duration": 0,
    "start_time": "2022-11-11T06:36:40.500Z"
   },
   {
    "duration": 0,
    "start_time": "2022-11-11T06:36:40.501Z"
   },
   {
    "duration": 0,
    "start_time": "2022-11-11T06:36:40.502Z"
   },
   {
    "duration": 0,
    "start_time": "2022-11-11T06:36:40.504Z"
   },
   {
    "duration": 0,
    "start_time": "2022-11-11T06:36:40.506Z"
   },
   {
    "duration": 0,
    "start_time": "2022-11-11T06:36:40.507Z"
   },
   {
    "duration": 0,
    "start_time": "2022-11-11T06:36:40.546Z"
   },
   {
    "duration": 0,
    "start_time": "2022-11-11T06:36:40.547Z"
   },
   {
    "duration": 0,
    "start_time": "2022-11-11T06:36:40.548Z"
   },
   {
    "duration": 0,
    "start_time": "2022-11-11T06:36:40.550Z"
   },
   {
    "duration": 0,
    "start_time": "2022-11-11T06:36:40.551Z"
   },
   {
    "duration": 0,
    "start_time": "2022-11-11T06:36:40.552Z"
   },
   {
    "duration": 0,
    "start_time": "2022-11-11T06:36:40.554Z"
   },
   {
    "duration": 0,
    "start_time": "2022-11-11T06:36:40.555Z"
   },
   {
    "duration": 0,
    "start_time": "2022-11-11T06:36:40.556Z"
   },
   {
    "duration": 0,
    "start_time": "2022-11-11T06:36:40.557Z"
   },
   {
    "duration": 0,
    "start_time": "2022-11-11T06:36:40.558Z"
   },
   {
    "duration": 0,
    "start_time": "2022-11-11T06:36:40.559Z"
   },
   {
    "duration": 0,
    "start_time": "2022-11-11T06:36:40.561Z"
   },
   {
    "duration": 0,
    "start_time": "2022-11-11T06:36:40.561Z"
   },
   {
    "duration": 0,
    "start_time": "2022-11-11T06:36:40.563Z"
   },
   {
    "duration": 0,
    "start_time": "2022-11-11T06:36:40.564Z"
   },
   {
    "duration": 0,
    "start_time": "2022-11-11T06:36:40.565Z"
   },
   {
    "duration": 0,
    "start_time": "2022-11-11T06:36:40.566Z"
   },
   {
    "duration": 0,
    "start_time": "2022-11-11T06:36:40.567Z"
   },
   {
    "duration": 0,
    "start_time": "2022-11-11T06:36:40.568Z"
   },
   {
    "duration": 0,
    "start_time": "2022-11-11T06:36:40.569Z"
   },
   {
    "duration": 0,
    "start_time": "2022-11-11T06:36:40.570Z"
   },
   {
    "duration": 0,
    "start_time": "2022-11-11T06:36:40.571Z"
   },
   {
    "duration": 0,
    "start_time": "2022-11-11T06:36:40.572Z"
   },
   {
    "duration": 0,
    "start_time": "2022-11-11T06:36:40.573Z"
   },
   {
    "duration": 0,
    "start_time": "2022-11-11T06:36:40.574Z"
   },
   {
    "duration": 0,
    "start_time": "2022-11-11T06:36:40.575Z"
   },
   {
    "duration": 1193,
    "start_time": "2022-11-12T07:03:21.232Z"
   },
   {
    "duration": 1174,
    "start_time": "2022-11-12T07:03:22.428Z"
   },
   {
    "duration": 15,
    "start_time": "2022-11-12T07:03:23.604Z"
   },
   {
    "duration": 44,
    "start_time": "2022-11-12T07:03:23.621Z"
   },
   {
    "duration": 15,
    "start_time": "2022-11-12T07:03:23.669Z"
   },
   {
    "duration": 18,
    "start_time": "2022-11-12T07:03:23.686Z"
   },
   {
    "duration": 28,
    "start_time": "2022-11-12T07:03:23.706Z"
   },
   {
    "duration": 37,
    "start_time": "2022-11-12T07:03:23.736Z"
   },
   {
    "duration": 32,
    "start_time": "2022-11-12T07:03:23.775Z"
   },
   {
    "duration": 48,
    "start_time": "2022-11-12T07:03:23.809Z"
   },
   {
    "duration": 11,
    "start_time": "2022-11-12T07:03:23.858Z"
   },
   {
    "duration": 74,
    "start_time": "2022-11-12T07:03:23.870Z"
   },
   {
    "duration": 85,
    "start_time": "2022-11-12T07:03:23.946Z"
   },
   {
    "duration": 39,
    "start_time": "2022-11-12T07:03:24.034Z"
   },
   {
    "duration": 68,
    "start_time": "2022-11-12T07:03:24.074Z"
   },
   {
    "duration": 176,
    "start_time": "2022-11-12T07:03:24.143Z"
   },
   {
    "duration": 7,
    "start_time": "2022-11-12T07:03:24.320Z"
   },
   {
    "duration": 23,
    "start_time": "2022-11-12T07:03:24.328Z"
   },
   {
    "duration": 18,
    "start_time": "2022-11-12T07:03:24.352Z"
   },
   {
    "duration": 14,
    "start_time": "2022-11-12T07:03:24.371Z"
   },
   {
    "duration": 28,
    "start_time": "2022-11-12T07:03:24.386Z"
   },
   {
    "duration": 7,
    "start_time": "2022-11-12T07:03:24.415Z"
   },
   {
    "duration": 7,
    "start_time": "2022-11-12T07:03:24.424Z"
   },
   {
    "duration": 11,
    "start_time": "2022-11-12T07:03:24.432Z"
   },
   {
    "duration": 5,
    "start_time": "2022-11-12T07:03:24.445Z"
   },
   {
    "duration": 9,
    "start_time": "2022-11-12T07:03:24.451Z"
   },
   {
    "duration": 13,
    "start_time": "2022-11-12T07:03:24.462Z"
   },
   {
    "duration": 30,
    "start_time": "2022-11-12T07:03:24.477Z"
   },
   {
    "duration": 15,
    "start_time": "2022-11-12T07:03:24.508Z"
   },
   {
    "duration": 18,
    "start_time": "2022-11-12T07:03:24.524Z"
   },
   {
    "duration": 24,
    "start_time": "2022-11-12T07:03:24.543Z"
   },
   {
    "duration": 43,
    "start_time": "2022-11-12T07:03:24.568Z"
   },
   {
    "duration": 30,
    "start_time": "2022-11-12T07:03:24.612Z"
   },
   {
    "duration": 212,
    "start_time": "2022-11-12T07:03:24.644Z"
   },
   {
    "duration": 18,
    "start_time": "2022-11-12T07:03:24.857Z"
   },
   {
    "duration": 61,
    "start_time": "2022-11-12T07:03:24.877Z"
   },
   {
    "duration": 26,
    "start_time": "2022-11-12T07:03:24.940Z"
   },
   {
    "duration": 32,
    "start_time": "2022-11-12T07:03:24.967Z"
   },
   {
    "duration": 17,
    "start_time": "2022-11-12T07:03:25.001Z"
   },
   {
    "duration": 19,
    "start_time": "2022-11-12T07:03:25.019Z"
   },
   {
    "duration": 41,
    "start_time": "2022-11-12T07:03:25.041Z"
   },
   {
    "duration": 374,
    "start_time": "2022-11-12T07:03:25.085Z"
   },
   {
    "duration": 5,
    "start_time": "2022-11-12T07:03:25.461Z"
   },
   {
    "duration": 38,
    "start_time": "2022-11-12T07:03:25.467Z"
   },
   {
    "duration": 29,
    "start_time": "2022-11-12T07:03:25.507Z"
   },
   {
    "duration": 347,
    "start_time": "2022-11-12T07:03:25.538Z"
   },
   {
    "duration": 18,
    "start_time": "2022-11-12T07:03:25.887Z"
   },
   {
    "duration": 11,
    "start_time": "2022-11-12T07:03:25.906Z"
   },
   {
    "duration": 18,
    "start_time": "2022-11-12T07:03:25.918Z"
   },
   {
    "duration": 22,
    "start_time": "2022-11-12T07:03:25.937Z"
   },
   {
    "duration": 32,
    "start_time": "2022-11-12T07:03:25.961Z"
   },
   {
    "duration": 32,
    "start_time": "2022-11-12T07:03:25.995Z"
   },
   {
    "duration": 5,
    "start_time": "2022-11-12T07:03:26.029Z"
   },
   {
    "duration": 22,
    "start_time": "2022-11-12T07:03:26.036Z"
   },
   {
    "duration": 13,
    "start_time": "2022-11-12T07:03:26.060Z"
   },
   {
    "duration": 4,
    "start_time": "2022-11-12T07:09:17.800Z"
   },
   {
    "duration": 1467,
    "start_time": "2022-11-12T10:55:31.117Z"
   },
   {
    "duration": 2151,
    "start_time": "2022-11-12T10:55:32.586Z"
   },
   {
    "duration": 12,
    "start_time": "2022-11-12T10:55:34.738Z"
   },
   {
    "duration": 10,
    "start_time": "2022-11-12T10:55:34.751Z"
   },
   {
    "duration": 7,
    "start_time": "2022-11-12T10:55:34.762Z"
   },
   {
    "duration": 9,
    "start_time": "2022-11-12T10:55:34.770Z"
   },
   {
    "duration": 9,
    "start_time": "2022-11-12T10:55:34.780Z"
   },
   {
    "duration": 25,
    "start_time": "2022-11-12T10:55:34.790Z"
   },
   {
    "duration": 13,
    "start_time": "2022-11-12T10:55:34.816Z"
   },
   {
    "duration": 46,
    "start_time": "2022-11-12T10:55:34.830Z"
   },
   {
    "duration": 9,
    "start_time": "2022-11-12T10:55:34.878Z"
   },
   {
    "duration": 78,
    "start_time": "2022-11-12T10:55:34.888Z"
   },
   {
    "duration": 92,
    "start_time": "2022-11-12T10:55:34.969Z"
   },
   {
    "duration": 40,
    "start_time": "2022-11-12T10:55:35.065Z"
   },
   {
    "duration": 72,
    "start_time": "2022-11-12T10:55:35.107Z"
   },
   {
    "duration": 195,
    "start_time": "2022-11-12T10:55:35.181Z"
   },
   {
    "duration": 7,
    "start_time": "2022-11-12T10:55:35.378Z"
   },
   {
    "duration": 13,
    "start_time": "2022-11-12T10:55:35.386Z"
   },
   {
    "duration": 19,
    "start_time": "2022-11-12T10:55:35.400Z"
   },
   {
    "duration": 9,
    "start_time": "2022-11-12T10:55:35.421Z"
   },
   {
    "duration": 31,
    "start_time": "2022-11-12T10:55:35.431Z"
   },
   {
    "duration": 7,
    "start_time": "2022-11-12T10:55:35.463Z"
   },
   {
    "duration": 6,
    "start_time": "2022-11-12T10:55:35.472Z"
   },
   {
    "duration": 7,
    "start_time": "2022-11-12T10:55:35.480Z"
   },
   {
    "duration": 5,
    "start_time": "2022-11-12T10:55:35.489Z"
   },
   {
    "duration": 16,
    "start_time": "2022-11-12T10:55:35.495Z"
   },
   {
    "duration": 35,
    "start_time": "2022-11-12T10:55:35.513Z"
   },
   {
    "duration": 7,
    "start_time": "2022-11-12T10:55:35.552Z"
   },
   {
    "duration": 16,
    "start_time": "2022-11-12T10:55:35.561Z"
   },
   {
    "duration": 6,
    "start_time": "2022-11-12T10:55:35.579Z"
   },
   {
    "duration": 7,
    "start_time": "2022-11-12T10:55:35.587Z"
   },
   {
    "duration": 14,
    "start_time": "2022-11-12T10:55:35.596Z"
   },
   {
    "duration": 24,
    "start_time": "2022-11-12T10:55:35.611Z"
   },
   {
    "duration": 176,
    "start_time": "2022-11-12T10:55:35.637Z"
   },
   {
    "duration": 16,
    "start_time": "2022-11-12T10:55:35.815Z"
   },
   {
    "duration": 27,
    "start_time": "2022-11-12T10:55:35.833Z"
   },
   {
    "duration": 3,
    "start_time": "2022-11-12T10:55:35.862Z"
   },
   {
    "duration": 17,
    "start_time": "2022-11-12T10:55:35.867Z"
   },
   {
    "duration": 12,
    "start_time": "2022-11-12T10:55:35.886Z"
   },
   {
    "duration": 30,
    "start_time": "2022-11-12T10:55:35.900Z"
   },
   {
    "duration": 20,
    "start_time": "2022-11-12T10:55:35.945Z"
   },
   {
    "duration": 217,
    "start_time": "2022-11-12T10:55:35.967Z"
   },
   {
    "duration": 5,
    "start_time": "2022-11-12T10:55:36.186Z"
   },
   {
    "duration": 13,
    "start_time": "2022-11-12T10:55:36.193Z"
   },
   {
    "duration": 56,
    "start_time": "2022-11-12T10:55:36.208Z"
   },
   {
    "duration": 689,
    "start_time": "2022-11-12T10:55:36.266Z"
   },
   {
    "duration": 20,
    "start_time": "2022-11-12T10:55:36.956Z"
   },
   {
    "duration": 12,
    "start_time": "2022-11-12T10:55:36.978Z"
   },
   {
    "duration": 69,
    "start_time": "2022-11-12T10:55:36.992Z"
   },
   {
    "duration": 4,
    "start_time": "2022-11-12T10:55:37.063Z"
   },
   {
    "duration": 23,
    "start_time": "2022-11-12T10:55:37.069Z"
   }
  ],
  "kernelspec": {
   "display_name": "Python 3 (ipykernel)",
   "language": "python",
   "name": "python3"
  },
  "language_info": {
   "codemirror_mode": {
    "name": "ipython",
    "version": 3
   },
   "file_extension": ".py",
   "mimetype": "text/x-python",
   "name": "python",
   "nbconvert_exporter": "python",
   "pygments_lexer": "ipython3",
   "version": "3.9.13"
  },
  "toc": {
   "base_numbering": 1,
   "nav_menu": {},
   "number_sections": true,
   "sideBar": true,
   "skip_h1_title": true,
   "title_cell": "Table of Contents",
   "title_sidebar": "Contents",
   "toc_cell": false,
   "toc_position": {},
   "toc_section_display": true,
   "toc_window_display": false
  }
 },
 "nbformat": 4,
 "nbformat_minor": 5
}
