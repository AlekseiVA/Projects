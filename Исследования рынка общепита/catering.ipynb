{
 "cells": [
  {
   "cell_type": "markdown",
   "metadata": {},
   "source": [
    "# Рынок заведений общественного питания Москвы"
   ]
  },
  {
   "cell_type": "markdown",
   "metadata": {},
   "source": [
    "Мы решили открыть небольшое кафе в Москве. Оно оригинальное — гостей должны обслуживать роботы. Проект многообещающий, но дорогой. Вместе с партнёрами мы решились обратиться к инвесторам. Их интересует текущее положение дел на рынке — сможет ли кафе снискать популярность на долгое время, когда все зеваки насмотрятся на роботов-официантов?  \n",
    "Нам надо провести исследование рынка. Есть открытые данные о заведениях общественного питания в Москве"
   ]
  },
  {
   "cell_type": "markdown",
   "metadata": {},
   "source": [
    "**За время проекта были выполнены следующие шаги:**  \n",
    "* Загрузка и предобработка данных\n",
    "* Анализ данных\n",
    "* Вывод"
   ]
  },
  {
   "cell_type": "markdown",
   "metadata": {},
   "source": [
    "У нас датафрейм, в котором содержится 15366 строк и 6 столбцов  \n",
    "Информация о столбцах:  \n",
    "``id`` — идентификатор объекта;  \n",
    "``object_name`` — название объекта общественного питания;  \n",
    "``chain`` — сетевой ресторан;  \n",
    "``object_type`` — тип объекта общественного питания;  \n",
    "``address`` — адрес;  \n",
    "``number`` — количество посадочных мест.  "
   ]
  },
  {
   "cell_type": "code",
   "execution_count": 1,
   "metadata": {},
   "outputs": [],
   "source": [
    "# Импортируем небходимые библиотеки для исследования\n",
    "\n",
    "import pandas as pd\n",
    "import numpy as np\n",
    "import matplotlib.pyplot as plt\n",
    "import seaborn as sns"
   ]
  },
  {
   "cell_type": "markdown",
   "metadata": {},
   "source": [
    "## Загрузка и предобработкак данных"
   ]
  },
  {
   "cell_type": "code",
   "execution_count": 2,
   "metadata": {},
   "outputs": [
    {
     "data": {
      "text/html": [
       "<div>\n",
       "<style scoped>\n",
       "    .dataframe tbody tr th:only-of-type {\n",
       "        vertical-align: middle;\n",
       "    }\n",
       "\n",
       "    .dataframe tbody tr th {\n",
       "        vertical-align: top;\n",
       "    }\n",
       "\n",
       "    .dataframe thead th {\n",
       "        text-align: right;\n",
       "    }\n",
       "</style>\n",
       "<table border=\"1\" class=\"dataframe\">\n",
       "  <thead>\n",
       "    <tr style=\"text-align: right;\">\n",
       "      <th></th>\n",
       "      <th>id</th>\n",
       "      <th>object_name</th>\n",
       "      <th>chain</th>\n",
       "      <th>object_type</th>\n",
       "      <th>address</th>\n",
       "      <th>number</th>\n",
       "    </tr>\n",
       "  </thead>\n",
       "  <tbody>\n",
       "    <tr>\n",
       "      <th>0</th>\n",
       "      <td>151635</td>\n",
       "      <td>СМЕТАНА</td>\n",
       "      <td>нет</td>\n",
       "      <td>кафе</td>\n",
       "      <td>город Москва, улица Егора Абакумова, дом 9</td>\n",
       "      <td>48</td>\n",
       "    </tr>\n",
       "    <tr>\n",
       "      <th>1</th>\n",
       "      <td>77874</td>\n",
       "      <td>Родник</td>\n",
       "      <td>нет</td>\n",
       "      <td>кафе</td>\n",
       "      <td>город Москва, улица Талалихина, дом 2/1, корпус 1</td>\n",
       "      <td>35</td>\n",
       "    </tr>\n",
       "    <tr>\n",
       "      <th>2</th>\n",
       "      <td>24309</td>\n",
       "      <td>Кафе «Академия»</td>\n",
       "      <td>нет</td>\n",
       "      <td>кафе</td>\n",
       "      <td>город Москва, Абельмановская улица, дом 6</td>\n",
       "      <td>95</td>\n",
       "    </tr>\n",
       "    <tr>\n",
       "      <th>3</th>\n",
       "      <td>21894</td>\n",
       "      <td>ПИЦЦЕТОРИЯ</td>\n",
       "      <td>да</td>\n",
       "      <td>кафе</td>\n",
       "      <td>город Москва, Абрамцевская улица, дом 1</td>\n",
       "      <td>40</td>\n",
       "    </tr>\n",
       "    <tr>\n",
       "      <th>4</th>\n",
       "      <td>119365</td>\n",
       "      <td>Кафе «Вишневая метель»</td>\n",
       "      <td>нет</td>\n",
       "      <td>кафе</td>\n",
       "      <td>город Москва, Абрамцевская улица, дом 9, корпус 1</td>\n",
       "      <td>50</td>\n",
       "    </tr>\n",
       "  </tbody>\n",
       "</table>\n",
       "</div>"
      ],
      "text/plain": [
       "       id             object_name chain object_type  \\\n",
       "0  151635                 СМЕТАНА   нет        кафе   \n",
       "1   77874                  Родник   нет        кафе   \n",
       "2   24309         Кафе «Академия»   нет        кафе   \n",
       "3   21894              ПИЦЦЕТОРИЯ    да        кафе   \n",
       "4  119365  Кафе «Вишневая метель»   нет        кафе   \n",
       "\n",
       "                                             address  number  \n",
       "0         город Москва, улица Егора Абакумова, дом 9      48  \n",
       "1  город Москва, улица Талалихина, дом 2/1, корпус 1      35  \n",
       "2          город Москва, Абельмановская улица, дом 6      95  \n",
       "3            город Москва, Абрамцевская улица, дом 1      40  \n",
       "4  город Москва, Абрамцевская улица, дом 9, корпус 1      50  "
      ]
     },
     "execution_count": 2,
     "metadata": {},
     "output_type": "execute_result"
    }
   ],
   "source": [
    "# Объявим переменную и добавим датафрейм\n",
    "\n",
    "df = pd.read_csv('/Users/alekseivlasov/Desktop/project/8/rest_data.csv')\n",
    "df.head()"
   ]
  },
  {
   "cell_type": "code",
   "execution_count": 3,
   "metadata": {},
   "outputs": [
    {
     "data": {
      "text/plain": [
       "(15366, 6)"
      ]
     },
     "execution_count": 3,
     "metadata": {},
     "output_type": "execute_result"
    }
   ],
   "source": [
    "# Посмотрим размер таблицы\n",
    "df.shape"
   ]
  },
  {
   "cell_type": "markdown",
   "metadata": {},
   "source": [
    "В датафрейме 15366 строк и 6 колонок"
   ]
  },
  {
   "cell_type": "markdown",
   "metadata": {},
   "source": [
    "Масштаб таблицы оценили, теперь изучим общую информацию"
   ]
  },
  {
   "cell_type": "code",
   "execution_count": 4,
   "metadata": {},
   "outputs": [
    {
     "name": "stdout",
     "output_type": "stream",
     "text": [
      "<class 'pandas.core.frame.DataFrame'>\n",
      "RangeIndex: 15366 entries, 0 to 15365\n",
      "Data columns (total 6 columns):\n",
      " #   Column       Non-Null Count  Dtype \n",
      "---  ------       --------------  ----- \n",
      " 0   id           15366 non-null  int64 \n",
      " 1   object_name  15366 non-null  object\n",
      " 2   chain        15366 non-null  object\n",
      " 3   object_type  15366 non-null  object\n",
      " 4   address      15366 non-null  object\n",
      " 5   number       15366 non-null  int64 \n",
      "dtypes: int64(2), object(4)\n",
      "memory usage: 720.4+ KB\n"
     ]
    }
   ],
   "source": [
    "df.info()"
   ]
  },
  {
   "cell_type": "markdown",
   "metadata": {},
   "source": [
    "Название столбцов оформлено в правильном стиле, пропусков нет"
   ]
  },
  {
   "cell_type": "code",
   "execution_count": 5,
   "metadata": {},
   "outputs": [
    {
     "data": {
      "text/plain": [
       "нет    12398\n",
       "да      2968\n",
       "Name: chain, dtype: int64"
      ]
     },
     "execution_count": 5,
     "metadata": {},
     "output_type": "execute_result"
    }
   ],
   "source": [
    "#Рассмотрим поближе столбец chain\n",
    "df['chain'].value_counts()"
   ]
  },
  {
   "cell_type": "markdown",
   "metadata": {},
   "source": [
    "У нас 2 варианта ответа и подходит больше булевой тип данных. Заменим ``Нет`` на ``0`` и ``Да`` на ``1``    \n",
    "После чего поменяем тип данных"
   ]
  },
  {
   "cell_type": "code",
   "execution_count": 6,
   "metadata": {},
   "outputs": [],
   "source": [
    "df['chain'] = df['chain'].replace('нет', 0, regex=True)\n",
    "df['chain'] = df['chain'].replace('да', 1, regex=True)\n",
    "df['chain'] = df['chain'].astype('bool')"
   ]
  },
  {
   "cell_type": "code",
   "execution_count": 7,
   "metadata": {},
   "outputs": [
    {
     "data": {
      "text/html": [
       "<div>\n",
       "<style scoped>\n",
       "    .dataframe tbody tr th:only-of-type {\n",
       "        vertical-align: middle;\n",
       "    }\n",
       "\n",
       "    .dataframe tbody tr th {\n",
       "        vertical-align: top;\n",
       "    }\n",
       "\n",
       "    .dataframe thead th {\n",
       "        text-align: right;\n",
       "    }\n",
       "</style>\n",
       "<table border=\"1\" class=\"dataframe\">\n",
       "  <thead>\n",
       "    <tr style=\"text-align: right;\">\n",
       "      <th></th>\n",
       "      <th>id</th>\n",
       "      <th>object_name</th>\n",
       "      <th>chain</th>\n",
       "      <th>object_type</th>\n",
       "      <th>address</th>\n",
       "      <th>number</th>\n",
       "    </tr>\n",
       "  </thead>\n",
       "  <tbody>\n",
       "    <tr>\n",
       "      <th>0</th>\n",
       "      <td>151635</td>\n",
       "      <td>СМЕТАНА</td>\n",
       "      <td>False</td>\n",
       "      <td>кафе</td>\n",
       "      <td>город Москва, улица Егора Абакумова, дом 9</td>\n",
       "      <td>48</td>\n",
       "    </tr>\n",
       "    <tr>\n",
       "      <th>1</th>\n",
       "      <td>77874</td>\n",
       "      <td>Родник</td>\n",
       "      <td>False</td>\n",
       "      <td>кафе</td>\n",
       "      <td>город Москва, улица Талалихина, дом 2/1, корпус 1</td>\n",
       "      <td>35</td>\n",
       "    </tr>\n",
       "    <tr>\n",
       "      <th>2</th>\n",
       "      <td>24309</td>\n",
       "      <td>Кафе «Академия»</td>\n",
       "      <td>False</td>\n",
       "      <td>кафе</td>\n",
       "      <td>город Москва, Абельмановская улица, дом 6</td>\n",
       "      <td>95</td>\n",
       "    </tr>\n",
       "    <tr>\n",
       "      <th>3</th>\n",
       "      <td>21894</td>\n",
       "      <td>ПИЦЦЕТОРИЯ</td>\n",
       "      <td>True</td>\n",
       "      <td>кафе</td>\n",
       "      <td>город Москва, Абрамцевская улица, дом 1</td>\n",
       "      <td>40</td>\n",
       "    </tr>\n",
       "    <tr>\n",
       "      <th>4</th>\n",
       "      <td>119365</td>\n",
       "      <td>Кафе «Вишневая метель»</td>\n",
       "      <td>False</td>\n",
       "      <td>кафе</td>\n",
       "      <td>город Москва, Абрамцевская улица, дом 9, корпус 1</td>\n",
       "      <td>50</td>\n",
       "    </tr>\n",
       "  </tbody>\n",
       "</table>\n",
       "</div>"
      ],
      "text/plain": [
       "       id             object_name  chain object_type  \\\n",
       "0  151635                 СМЕТАНА  False        кафе   \n",
       "1   77874                  Родник  False        кафе   \n",
       "2   24309         Кафе «Академия»  False        кафе   \n",
       "3   21894              ПИЦЦЕТОРИЯ   True        кафе   \n",
       "4  119365  Кафе «Вишневая метель»  False        кафе   \n",
       "\n",
       "                                             address  number  \n",
       "0         город Москва, улица Егора Абакумова, дом 9      48  \n",
       "1  город Москва, улица Талалихина, дом 2/1, корпус 1      35  \n",
       "2          город Москва, Абельмановская улица, дом 6      95  \n",
       "3            город Москва, Абрамцевская улица, дом 1      40  \n",
       "4  город Москва, Абрамцевская улица, дом 9, корпус 1      50  "
      ]
     },
     "execution_count": 7,
     "metadata": {},
     "output_type": "execute_result"
    }
   ],
   "source": [
    "df.head()"
   ]
  },
  {
   "cell_type": "markdown",
   "metadata": {},
   "source": [
    "Мы поменяли тип данных в столбце ``chain``, в других колонках приведен правильный тип данных"
   ]
  },
  {
   "cell_type": "markdown",
   "metadata": {},
   "source": [
    "В столбце ``object_name`` назавания написаны совершенно различным способом. Приведем к единому виду"
   ]
  },
  {
   "cell_type": "code",
   "execution_count": 8,
   "metadata": {},
   "outputs": [
    {
     "data": {
      "text/html": [
       "<div>\n",
       "<style scoped>\n",
       "    .dataframe tbody tr th:only-of-type {\n",
       "        vertical-align: middle;\n",
       "    }\n",
       "\n",
       "    .dataframe tbody tr th {\n",
       "        vertical-align: top;\n",
       "    }\n",
       "\n",
       "    .dataframe thead th {\n",
       "        text-align: right;\n",
       "    }\n",
       "</style>\n",
       "<table border=\"1\" class=\"dataframe\">\n",
       "  <thead>\n",
       "    <tr style=\"text-align: right;\">\n",
       "      <th></th>\n",
       "      <th>id</th>\n",
       "      <th>object_name</th>\n",
       "      <th>chain</th>\n",
       "      <th>object_type</th>\n",
       "      <th>address</th>\n",
       "      <th>number</th>\n",
       "    </tr>\n",
       "  </thead>\n",
       "  <tbody>\n",
       "    <tr>\n",
       "      <th>0</th>\n",
       "      <td>151635</td>\n",
       "      <td>сметана</td>\n",
       "      <td>False</td>\n",
       "      <td>кафе</td>\n",
       "      <td>город Москва, улица Егора Абакумова, дом 9</td>\n",
       "      <td>48</td>\n",
       "    </tr>\n",
       "    <tr>\n",
       "      <th>1</th>\n",
       "      <td>77874</td>\n",
       "      <td>родник</td>\n",
       "      <td>False</td>\n",
       "      <td>кафе</td>\n",
       "      <td>город Москва, улица Талалихина, дом 2/1, корпус 1</td>\n",
       "      <td>35</td>\n",
       "    </tr>\n",
       "    <tr>\n",
       "      <th>2</th>\n",
       "      <td>24309</td>\n",
       "      <td>кафе «академия»</td>\n",
       "      <td>False</td>\n",
       "      <td>кафе</td>\n",
       "      <td>город Москва, Абельмановская улица, дом 6</td>\n",
       "      <td>95</td>\n",
       "    </tr>\n",
       "    <tr>\n",
       "      <th>3</th>\n",
       "      <td>21894</td>\n",
       "      <td>пиццетория</td>\n",
       "      <td>True</td>\n",
       "      <td>кафе</td>\n",
       "      <td>город Москва, Абрамцевская улица, дом 1</td>\n",
       "      <td>40</td>\n",
       "    </tr>\n",
       "    <tr>\n",
       "      <th>4</th>\n",
       "      <td>119365</td>\n",
       "      <td>кафе «вишневая метель»</td>\n",
       "      <td>False</td>\n",
       "      <td>кафе</td>\n",
       "      <td>город Москва, Абрамцевская улица, дом 9, корпус 1</td>\n",
       "      <td>50</td>\n",
       "    </tr>\n",
       "  </tbody>\n",
       "</table>\n",
       "</div>"
      ],
      "text/plain": [
       "       id             object_name  chain object_type  \\\n",
       "0  151635                 сметана  False        кафе   \n",
       "1   77874                  родник  False        кафе   \n",
       "2   24309         кафе «академия»  False        кафе   \n",
       "3   21894              пиццетория   True        кафе   \n",
       "4  119365  кафе «вишневая метель»  False        кафе   \n",
       "\n",
       "                                             address  number  \n",
       "0         город Москва, улица Егора Абакумова, дом 9      48  \n",
       "1  город Москва, улица Талалихина, дом 2/1, корпус 1      35  \n",
       "2          город Москва, Абельмановская улица, дом 6      95  \n",
       "3            город Москва, Абрамцевская улица, дом 1      40  \n",
       "4  город Москва, Абрамцевская улица, дом 9, корпус 1      50  "
      ]
     },
     "execution_count": 8,
     "metadata": {},
     "output_type": "execute_result"
    }
   ],
   "source": [
    "df['object_name'] = df['object_name'].str.lower()\n",
    "df.head()"
   ]
  },
  {
   "cell_type": "code",
   "execution_count": 9,
   "metadata": {},
   "outputs": [
    {
     "data": {
      "text/plain": [
       "85"
      ]
     },
     "execution_count": 9,
     "metadata": {},
     "output_type": "execute_result"
    }
   ],
   "source": [
    "# Проверим таблицу на дубли\n",
    "df[['object_name', 'chain', 'object_type', 'address', 'number']].duplicated().sum()"
   ]
  },
  {
   "cell_type": "markdown",
   "metadata": {},
   "source": [
    "Мы просмотрели дубли без id и нашли 85 дублей, это меньше 0,01% поэтому удаляем дубли"
   ]
  },
  {
   "cell_type": "code",
   "execution_count": 10,
   "metadata": {},
   "outputs": [],
   "source": [
    "# Удалим дубли \n",
    "df = df.drop_duplicates(subset=['object_name', 'chain', 'object_type', 'address', 'number'])"
   ]
  },
  {
   "cell_type": "code",
   "execution_count": 11,
   "metadata": {},
   "outputs": [
    {
     "data": {
      "text/plain": [
       "0"
      ]
     },
     "execution_count": 11,
     "metadata": {},
     "output_type": "execute_result"
    }
   ],
   "source": [
    "df[['object_name', 'chain', 'object_type', 'address', 'number']].duplicated().sum()"
   ]
  },
  {
   "cell_type": "markdown",
   "metadata": {},
   "source": [
    "Мы сделали передобратку данных и теперь данные готовы к исследованию"
   ]
  },
  {
   "cell_type": "markdown",
   "metadata": {},
   "source": [
    "## Анализ данных"
   ]
  },
  {
   "cell_type": "markdown",
   "metadata": {},
   "source": [
    "### Исследуем соотношение видов объектов общественного питания по количеству  \n",
    "Для этого сгруппируем данные по видам общественного питания"
   ]
  },
  {
   "cell_type": "code",
   "execution_count": 12,
   "metadata": {},
   "outputs": [
    {
     "data": {
      "text/html": [
       "<div>\n",
       "<style scoped>\n",
       "    .dataframe tbody tr th:only-of-type {\n",
       "        vertical-align: middle;\n",
       "    }\n",
       "\n",
       "    .dataframe tbody tr th {\n",
       "        vertical-align: top;\n",
       "    }\n",
       "\n",
       "    .dataframe thead th {\n",
       "        text-align: right;\n",
       "    }\n",
       "</style>\n",
       "<table border=\"1\" class=\"dataframe\">\n",
       "  <thead>\n",
       "    <tr style=\"text-align: right;\">\n",
       "      <th></th>\n",
       "      <th>object_type</th>\n",
       "      <th>id</th>\n",
       "    </tr>\n",
       "  </thead>\n",
       "  <tbody>\n",
       "    <tr>\n",
       "      <th>0</th>\n",
       "      <td>кафе</td>\n",
       "      <td>6071</td>\n",
       "    </tr>\n",
       "    <tr>\n",
       "      <th>1</th>\n",
       "      <td>столовая</td>\n",
       "      <td>2584</td>\n",
       "    </tr>\n",
       "    <tr>\n",
       "      <th>2</th>\n",
       "      <td>ресторан</td>\n",
       "      <td>2282</td>\n",
       "    </tr>\n",
       "    <tr>\n",
       "      <th>3</th>\n",
       "      <td>предприятие быстрого обслуживания</td>\n",
       "      <td>1897</td>\n",
       "    </tr>\n",
       "    <tr>\n",
       "      <th>4</th>\n",
       "      <td>бар</td>\n",
       "      <td>855</td>\n",
       "    </tr>\n",
       "  </tbody>\n",
       "</table>\n",
       "</div>"
      ],
      "text/plain": [
       "                         object_type    id\n",
       "0                               кафе  6071\n",
       "1                           столовая  2584\n",
       "2                           ресторан  2282\n",
       "3  предприятие быстрого обслуживания  1897\n",
       "4                                бар   855"
      ]
     },
     "execution_count": 12,
     "metadata": {},
     "output_type": "execute_result"
    }
   ],
   "source": [
    "df_object_type = (\n",
    "    df.groupby(by='object_type')\n",
    "    .agg({'id':'count'})\n",
    "    .sort_values(by='id', ascending=False)\n",
    "    .reset_index()\n",
    ")   \n",
    "df_object_type.head()"
   ]
  },
  {
   "cell_type": "code",
   "execution_count": 13,
   "metadata": {},
   "outputs": [
    {
     "data": {
      "image/png": "[encoded data removed]",
      "text/plain": [
       "<Figure size 1500x800 with 1 Axes>"
      ]
     },
     "metadata": {},
     "output_type": "display_data"
    }
   ],
   "source": [
    "# Нарисуем график\n",
    "fig, ax = plt.subplots(figsize=(15,8))\n",
    "ax = sns.barplot(x='object_type', y='id', data=df_object_type)\n",
    "ax.set_title('График соотношение видов объектов общественного питания по количеству')\n",
    "ax.set_xlabel('Вид объекта общественного питания')\n",
    "ax.set_ylabel('Количество')\n",
    "plt.xticks(rotation=40)\n",
    "plt.show()"
   ]
  },
  {
   "cell_type": "markdown",
   "metadata": {},
   "source": [
    "На графике мы видим 9 видов объектов общественного питания. На первом месте - \"Кафе\", а на последнем - \"Магазин (отдел кулинарии)\""
   ]
  },
  {
   "cell_type": "markdown",
   "metadata": {},
   "source": [
    "### Исследуем соотношение сетевых и несетевых заведений по количеству"
   ]
  },
  {
   "cell_type": "markdown",
   "metadata": {},
   "source": [
    "Здесь нам тоже понадобится столбчатая диаграмма "
   ]
  },
  {
   "cell_type": "code",
   "execution_count": 14,
   "metadata": {},
   "outputs": [
    {
     "data": {
      "text/html": [
       "<div>\n",
       "<style scoped>\n",
       "    .dataframe tbody tr th:only-of-type {\n",
       "        vertical-align: middle;\n",
       "    }\n",
       "\n",
       "    .dataframe tbody tr th {\n",
       "        vertical-align: top;\n",
       "    }\n",
       "\n",
       "    .dataframe thead th {\n",
       "        text-align: right;\n",
       "    }\n",
       "</style>\n",
       "<table border=\"1\" class=\"dataframe\">\n",
       "  <thead>\n",
       "    <tr style=\"text-align: right;\">\n",
       "      <th></th>\n",
       "      <th>chain</th>\n",
       "      <th>id</th>\n",
       "    </tr>\n",
       "  </thead>\n",
       "  <tbody>\n",
       "    <tr>\n",
       "      <th>0</th>\n",
       "      <td>False</td>\n",
       "      <td>12317</td>\n",
       "    </tr>\n",
       "    <tr>\n",
       "      <th>1</th>\n",
       "      <td>True</td>\n",
       "      <td>2964</td>\n",
       "    </tr>\n",
       "  </tbody>\n",
       "</table>\n",
       "</div>"
      ],
      "text/plain": [
       "   chain     id\n",
       "0  False  12317\n",
       "1   True   2964"
      ]
     },
     "execution_count": 14,
     "metadata": {},
     "output_type": "execute_result"
    }
   ],
   "source": [
    "df_chain = (\n",
    "    df.groupby(by='chain')\n",
    "    .agg({'id':'count'})\n",
    "    .reset_index()\n",
    ")\n",
    "df_chain"
   ]
  },
  {
   "cell_type": "code",
   "execution_count": 15,
   "metadata": {},
   "outputs": [
    {
     "data": {
      "image/png": "[encoded data removed]",
      "text/plain": [
       "<Figure size 900x600 with 1 Axes>"
      ]
     },
     "metadata": {},
     "output_type": "display_data"
    }
   ],
   "source": [
    "# Построрим график\n",
    "fig, ax = plt.subplots(figsize=(9,6))\n",
    "ax = sns.barplot(x='chain', y='id', data=df_chain)\n",
    "ax.set_title('График соотношения сетевых и несетевых заведений по количеству')\n",
    "ax.set_xlabel('Сетевое или несетевое заведение')\n",
    "ax.set_ylabel('Количество')\n",
    "plt.show()"
   ]
  },
  {
   "cell_type": "markdown",
   "metadata": {},
   "source": [
    "На графике видно, что несетевых заведений больше, чем сетевых в 4 раза"
   ]
  },
  {
   "cell_type": "markdown",
   "metadata": {},
   "source": [
    "### Проверим, для какого вида объекта общественного питания характерно сетевое распространение "
   ]
  },
  {
   "cell_type": "code",
   "execution_count": 16,
   "metadata": {},
   "outputs": [
    {
     "data": {
      "text/html": [
       "<div>\n",
       "<style scoped>\n",
       "    .dataframe tbody tr th:only-of-type {\n",
       "        vertical-align: middle;\n",
       "    }\n",
       "\n",
       "    .dataframe tbody tr th {\n",
       "        vertical-align: top;\n",
       "    }\n",
       "\n",
       "    .dataframe thead th {\n",
       "        text-align: right;\n",
       "    }\n",
       "</style>\n",
       "<table border=\"1\" class=\"dataframe\">\n",
       "  <thead>\n",
       "    <tr style=\"text-align: right;\">\n",
       "      <th></th>\n",
       "      <th>object_type</th>\n",
       "      <th>chain</th>\n",
       "      <th>id</th>\n",
       "    </tr>\n",
       "  </thead>\n",
       "  <tbody>\n",
       "    <tr>\n",
       "      <th>0</th>\n",
       "      <td>бар</td>\n",
       "      <td>False</td>\n",
       "      <td>818</td>\n",
       "    </tr>\n",
       "    <tr>\n",
       "      <th>1</th>\n",
       "      <td>бар</td>\n",
       "      <td>True</td>\n",
       "      <td>37</td>\n",
       "    </tr>\n",
       "    <tr>\n",
       "      <th>2</th>\n",
       "      <td>буфет</td>\n",
       "      <td>False</td>\n",
       "      <td>565</td>\n",
       "    </tr>\n",
       "    <tr>\n",
       "      <th>3</th>\n",
       "      <td>буфет</td>\n",
       "      <td>True</td>\n",
       "      <td>11</td>\n",
       "    </tr>\n",
       "    <tr>\n",
       "      <th>4</th>\n",
       "      <td>закусочная</td>\n",
       "      <td>False</td>\n",
       "      <td>292</td>\n",
       "    </tr>\n",
       "  </tbody>\n",
       "</table>\n",
       "</div>"
      ],
      "text/plain": [
       "  object_type  chain   id\n",
       "0         бар  False  818\n",
       "1         бар   True   37\n",
       "2       буфет  False  565\n",
       "3       буфет   True   11\n",
       "4  закусочная  False  292"
      ]
     },
     "execution_count": 16,
     "metadata": {},
     "output_type": "execute_result"
    }
   ],
   "source": [
    "df_chain_object = (df.groupby(['object_type', 'chain'])\n",
    "                   .agg({'id':'count'})\n",
    "                   .reset_index()\n",
    ")\n",
    "df_chain_object.head()"
   ]
  },
  {
   "cell_type": "code",
   "execution_count": 17,
   "metadata": {},
   "outputs": [
    {
     "data": {
      "image/png": "[encoded data removed]",
      "text/plain": [
       "<Figure size 1500x800 with 1 Axes>"
      ]
     },
     "metadata": {},
     "output_type": "display_data"
    }
   ],
   "source": [
    "# Нарисуем график\n",
    "\n",
    "fig, ax = plt.subplots(figsize=(15,8))\n",
    "ax = sns.barplot(x='object_type', y='id', hue='chain', data=df_chain_object)\n",
    "ax.set_title('График сетевого распространение по видам объекта общественного питания')\n",
    "ax.set_xlabel('Вид объекта общественного питания')\n",
    "ax.set_ylabel('Количество')\n",
    "plt.xticks(rotation=40)\n",
    "plt.show()"
   ]
  },
  {
   "cell_type": "markdown",
   "metadata": {},
   "source": [
    "Распространение несетевым путем характерно почти для каждого вида объектов  \n",
    "Важный момент, что все перечисленные объекты развиваются не только несетевым путем, а также и сетевым, в меньшей мере"
   ]
  },
  {
   "cell_type": "markdown",
   "metadata": {},
   "source": [
    "### Проверим, что характерно для сетевых заведений: много заведений с небольшим числом посадочных мест в каждом или мало заведений с большим количеством посадочных мест"
   ]
  },
  {
   "cell_type": "markdown",
   "metadata": {},
   "source": [
    "Для проверки нам потребуется отфильтровать данные"
   ]
  },
  {
   "cell_type": "code",
   "execution_count": 18,
   "metadata": {},
   "outputs": [],
   "source": [
    "df_filtred = (df.query('chain == True')\n",
    "              .groupby(by='object_name')\n",
    "              .agg({'id':'count', 'number':'mean'})\n",
    ")"
   ]
  },
  {
   "cell_type": "code",
   "execution_count": 19,
   "metadata": {
    "scrolled": true
   },
   "outputs": [
    {
     "data": {
      "text/html": [
       "<div>\n",
       "<style scoped>\n",
       "    .dataframe tbody tr th:only-of-type {\n",
       "        vertical-align: middle;\n",
       "    }\n",
       "\n",
       "    .dataframe tbody tr th {\n",
       "        vertical-align: top;\n",
       "    }\n",
       "\n",
       "    .dataframe thead th {\n",
       "        text-align: right;\n",
       "    }\n",
       "</style>\n",
       "<table border=\"1\" class=\"dataframe\">\n",
       "  <thead>\n",
       "    <tr style=\"text-align: right;\">\n",
       "      <th></th>\n",
       "      <th>id</th>\n",
       "      <th>number</th>\n",
       "    </tr>\n",
       "    <tr>\n",
       "      <th>object_name</th>\n",
       "      <th></th>\n",
       "      <th></th>\n",
       "    </tr>\n",
       "  </thead>\n",
       "  <tbody>\n",
       "    <tr>\n",
       "      <th>beverly hills diner</th>\n",
       "      <td>1</td>\n",
       "      <td>88.000000</td>\n",
       "    </tr>\n",
       "    <tr>\n",
       "      <th>bierloga</th>\n",
       "      <td>1</td>\n",
       "      <td>75.000000</td>\n",
       "    </tr>\n",
       "    <tr>\n",
       "      <th>black &amp; white</th>\n",
       "      <td>1</td>\n",
       "      <td>40.000000</td>\n",
       "    </tr>\n",
       "    <tr>\n",
       "      <th>bocconcino</th>\n",
       "      <td>3</td>\n",
       "      <td>66.666667</td>\n",
       "    </tr>\n",
       "    <tr>\n",
       "      <th>boobo</th>\n",
       "      <td>1</td>\n",
       "      <td>46.000000</td>\n",
       "    </tr>\n",
       "  </tbody>\n",
       "</table>\n",
       "</div>"
      ],
      "text/plain": [
       "                     id     number\n",
       "object_name                       \n",
       "beverly hills diner   1  88.000000\n",
       "bierloga              1  75.000000\n",
       "black & white         1  40.000000\n",
       "bocconcino            3  66.666667\n",
       "boobo                 1  46.000000"
      ]
     },
     "execution_count": 19,
     "metadata": {},
     "output_type": "execute_result"
    }
   ],
   "source": [
    "df_filtred.head()"
   ]
  },
  {
   "cell_type": "code",
   "execution_count": 20,
   "metadata": {},
   "outputs": [
    {
     "data": {
      "image/png": "[encoded data removed]",
      "text/plain": [
       "<Figure size 1500x800 with 1 Axes>"
      ]
     },
     "metadata": {},
     "output_type": "display_data"
    }
   ],
   "source": [
    "fig, ax = plt.subplots(figsize=(15,8))\n",
    "ax = sns.scatterplot(x='id', y='number', data=df_filtred)\n",
    "ax.set_title('Отношение количества заведений и количества посадочных мест')\n",
    "ax.set_xlabel('Количество заведений')\n",
    "ax.set_ylabel('Количество посадочных мест')\n",
    "plt.xticks(rotation=40)\n",
    "plt.show()"
   ]
  },
  {
   "cell_type": "markdown",
   "metadata": {},
   "source": [
    "Для сетевых заведений характерно: чем больше заведений, тем меньше посадочных мест"
   ]
  },
  {
   "cell_type": "markdown",
   "metadata": {},
   "source": [
    "### Для каждого вида объекта общественного питания определим среднее количество посадочных мест"
   ]
  },
  {
   "cell_type": "markdown",
   "metadata": {},
   "source": [
    "Проверим, какой вид предоставляет в среднем самое большое количество посадочных мест"
   ]
  },
  {
   "cell_type": "code",
   "execution_count": 21,
   "metadata": {},
   "outputs": [
    {
     "data": {
      "text/html": [
       "<div>\n",
       "<style scoped>\n",
       "    .dataframe tbody tr th:only-of-type {\n",
       "        vertical-align: middle;\n",
       "    }\n",
       "\n",
       "    .dataframe tbody tr th {\n",
       "        vertical-align: top;\n",
       "    }\n",
       "\n",
       "    .dataframe thead th {\n",
       "        text-align: right;\n",
       "    }\n",
       "</style>\n",
       "<table border=\"1\" class=\"dataframe\">\n",
       "  <thead>\n",
       "    <tr style=\"text-align: right;\">\n",
       "      <th></th>\n",
       "      <th>object_type</th>\n",
       "      <th>number</th>\n",
       "    </tr>\n",
       "  </thead>\n",
       "  <tbody>\n",
       "    <tr>\n",
       "      <th>0</th>\n",
       "      <td>столовая</td>\n",
       "      <td>130.337848</td>\n",
       "    </tr>\n",
       "    <tr>\n",
       "      <th>1</th>\n",
       "      <td>ресторан</td>\n",
       "      <td>96.884750</td>\n",
       "    </tr>\n",
       "    <tr>\n",
       "      <th>2</th>\n",
       "      <td>буфет</td>\n",
       "      <td>51.425347</td>\n",
       "    </tr>\n",
       "    <tr>\n",
       "      <th>3</th>\n",
       "      <td>бар</td>\n",
       "      <td>43.533333</td>\n",
       "    </tr>\n",
       "    <tr>\n",
       "      <th>4</th>\n",
       "      <td>кафе</td>\n",
       "      <td>39.785703</td>\n",
       "    </tr>\n",
       "  </tbody>\n",
       "</table>\n",
       "</div>"
      ],
      "text/plain": [
       "  object_type      number\n",
       "0    столовая  130.337848\n",
       "1    ресторан   96.884750\n",
       "2       буфет   51.425347\n",
       "3         бар   43.533333\n",
       "4        кафе   39.785703"
      ]
     },
     "execution_count": 21,
     "metadata": {},
     "output_type": "execute_result"
    }
   ],
   "source": [
    "df_number_mean = (df.groupby(by='object_type')\n",
    "                  .agg({'number':'mean'})\n",
    "                  .sort_values(by='number', ascending=False)\n",
    "                  .reset_index()\n",
    ")\n",
    "df_number_mean.head()"
   ]
  },
  {
   "cell_type": "code",
   "execution_count": 22,
   "metadata": {},
   "outputs": [
    {
     "data": {
      "image/png": "[encoded data removed]",
      "text/plain": [
       "<Figure size 1500x800 with 1 Axes>"
      ]
     },
     "metadata": {},
     "output_type": "display_data"
    }
   ],
   "source": [
    "# Рисуем график\n",
    "\n",
    "fig, ax = plt.subplots(figsize=(15,8))\n",
    "ax = sns.barplot(x='object_type', y='number', data=df_number_mean)\n",
    "ax.set_title('Среднее количество посадочных мест по типу объекта общественного питания')\n",
    "ax.set_xlabel('Тип объекта общественного питания')\n",
    "ax.set_ylabel('Среднее количество посадочных мест')\n",
    "plt.xticks(rotation=40)\n",
    "plt.show()"
   ]
  },
  {
   "cell_type": "markdown",
   "metadata": {},
   "source": [
    "По количеству посадочных мест лидируют столовые, они подразумевают в себе большие залы, именно поэтому в столовых много посадочных мест"
   ]
  },
  {
   "cell_type": "code",
   "execution_count": 23,
   "metadata": {},
   "outputs": [
    {
     "data": {
      "text/html": [
       "<div>\n",
       "<style scoped>\n",
       "    .dataframe tbody tr th:only-of-type {\n",
       "        vertical-align: middle;\n",
       "    }\n",
       "\n",
       "    .dataframe tbody tr th {\n",
       "        vertical-align: top;\n",
       "    }\n",
       "\n",
       "    .dataframe thead th {\n",
       "        text-align: right;\n",
       "    }\n",
       "</style>\n",
       "<table border=\"1\" class=\"dataframe\">\n",
       "  <thead>\n",
       "    <tr style=\"text-align: right;\">\n",
       "      <th></th>\n",
       "      <th>id</th>\n",
       "      <th>object_name</th>\n",
       "      <th>chain</th>\n",
       "      <th>object_type</th>\n",
       "      <th>address</th>\n",
       "      <th>number</th>\n",
       "    </tr>\n",
       "  </thead>\n",
       "  <tbody>\n",
       "    <tr>\n",
       "      <th>0</th>\n",
       "      <td>151635</td>\n",
       "      <td>сметана</td>\n",
       "      <td>False</td>\n",
       "      <td>кафе</td>\n",
       "      <td>город Москва, улица Егора Абакумова, дом 9</td>\n",
       "      <td>48</td>\n",
       "    </tr>\n",
       "    <tr>\n",
       "      <th>1</th>\n",
       "      <td>77874</td>\n",
       "      <td>родник</td>\n",
       "      <td>False</td>\n",
       "      <td>кафе</td>\n",
       "      <td>город Москва, улица Талалихина, дом 2/1, корпус 1</td>\n",
       "      <td>35</td>\n",
       "    </tr>\n",
       "    <tr>\n",
       "      <th>2</th>\n",
       "      <td>24309</td>\n",
       "      <td>кафе «академия»</td>\n",
       "      <td>False</td>\n",
       "      <td>кафе</td>\n",
       "      <td>город Москва, Абельмановская улица, дом 6</td>\n",
       "      <td>95</td>\n",
       "    </tr>\n",
       "    <tr>\n",
       "      <th>3</th>\n",
       "      <td>21894</td>\n",
       "      <td>пиццетория</td>\n",
       "      <td>True</td>\n",
       "      <td>кафе</td>\n",
       "      <td>город Москва, Абрамцевская улица, дом 1</td>\n",
       "      <td>40</td>\n",
       "    </tr>\n",
       "    <tr>\n",
       "      <th>4</th>\n",
       "      <td>119365</td>\n",
       "      <td>кафе «вишневая метель»</td>\n",
       "      <td>False</td>\n",
       "      <td>кафе</td>\n",
       "      <td>город Москва, Абрамцевская улица, дом 9, корпус 1</td>\n",
       "      <td>50</td>\n",
       "    </tr>\n",
       "  </tbody>\n",
       "</table>\n",
       "</div>"
      ],
      "text/plain": [
       "       id             object_name  chain object_type  \\\n",
       "0  151635                 сметана  False        кафе   \n",
       "1   77874                  родник  False        кафе   \n",
       "2   24309         кафе «академия»  False        кафе   \n",
       "3   21894              пиццетория   True        кафе   \n",
       "4  119365  кафе «вишневая метель»  False        кафе   \n",
       "\n",
       "                                             address  number  \n",
       "0         город Москва, улица Егора Абакумова, дом 9      48  \n",
       "1  город Москва, улица Талалихина, дом 2/1, корпус 1      35  \n",
       "2          город Москва, Абельмановская улица, дом 6      95  \n",
       "3            город Москва, Абрамцевская улица, дом 1      40  \n",
       "4  город Москва, Абрамцевская улица, дом 9, корпус 1      50  "
      ]
     },
     "execution_count": 23,
     "metadata": {},
     "output_type": "execute_result"
    }
   ],
   "source": [
    "df.head()"
   ]
  },
  {
   "cell_type": "markdown",
   "metadata": {},
   "source": [
    "Для дальнейшего исследования выделим в отдельный столбец информацию об улице из столбца ``address``"
   ]
  },
  {
   "cell_type": "code",
   "execution_count": 24,
   "metadata": {},
   "outputs": [
    {
     "data": {
      "text/html": [
       "<div>\n",
       "<style scoped>\n",
       "    .dataframe tbody tr th:only-of-type {\n",
       "        vertical-align: middle;\n",
       "    }\n",
       "\n",
       "    .dataframe tbody tr th {\n",
       "        vertical-align: top;\n",
       "    }\n",
       "\n",
       "    .dataframe thead th {\n",
       "        text-align: right;\n",
       "    }\n",
       "</style>\n",
       "<table border=\"1\" class=\"dataframe\">\n",
       "  <thead>\n",
       "    <tr style=\"text-align: right;\">\n",
       "      <th></th>\n",
       "      <th>id</th>\n",
       "      <th>object_name</th>\n",
       "      <th>chain</th>\n",
       "      <th>object_type</th>\n",
       "      <th>address</th>\n",
       "      <th>number</th>\n",
       "      <th>street</th>\n",
       "    </tr>\n",
       "  </thead>\n",
       "  <tbody>\n",
       "    <tr>\n",
       "      <th>0</th>\n",
       "      <td>151635</td>\n",
       "      <td>сметана</td>\n",
       "      <td>False</td>\n",
       "      <td>кафе</td>\n",
       "      <td>город Москва, улица Егора Абакумова, дом 9</td>\n",
       "      <td>48</td>\n",
       "      <td>улица егора абакумова</td>\n",
       "    </tr>\n",
       "    <tr>\n",
       "      <th>1</th>\n",
       "      <td>77874</td>\n",
       "      <td>родник</td>\n",
       "      <td>False</td>\n",
       "      <td>кафе</td>\n",
       "      <td>город Москва, улица Талалихина, дом 2/1, корпус 1</td>\n",
       "      <td>35</td>\n",
       "      <td>улица талалихина</td>\n",
       "    </tr>\n",
       "    <tr>\n",
       "      <th>2</th>\n",
       "      <td>24309</td>\n",
       "      <td>кафе «академия»</td>\n",
       "      <td>False</td>\n",
       "      <td>кафе</td>\n",
       "      <td>город Москва, Абельмановская улица, дом 6</td>\n",
       "      <td>95</td>\n",
       "      <td>абельмановская улица</td>\n",
       "    </tr>\n",
       "    <tr>\n",
       "      <th>3</th>\n",
       "      <td>21894</td>\n",
       "      <td>пиццетория</td>\n",
       "      <td>True</td>\n",
       "      <td>кафе</td>\n",
       "      <td>город Москва, Абрамцевская улица, дом 1</td>\n",
       "      <td>40</td>\n",
       "      <td>абрамцевская улица</td>\n",
       "    </tr>\n",
       "    <tr>\n",
       "      <th>4</th>\n",
       "      <td>119365</td>\n",
       "      <td>кафе «вишневая метель»</td>\n",
       "      <td>False</td>\n",
       "      <td>кафе</td>\n",
       "      <td>город Москва, Абрамцевская улица, дом 9, корпус 1</td>\n",
       "      <td>50</td>\n",
       "      <td>абрамцевская улица</td>\n",
       "    </tr>\n",
       "  </tbody>\n",
       "</table>\n",
       "</div>"
      ],
      "text/plain": [
       "       id             object_name  chain object_type  \\\n",
       "0  151635                 сметана  False        кафе   \n",
       "1   77874                  родник  False        кафе   \n",
       "2   24309         кафе «академия»  False        кафе   \n",
       "3   21894              пиццетория   True        кафе   \n",
       "4  119365  кафе «вишневая метель»  False        кафе   \n",
       "\n",
       "                                             address  number  \\\n",
       "0         город Москва, улица Егора Абакумова, дом 9      48   \n",
       "1  город Москва, улица Талалихина, дом 2/1, корпус 1      35   \n",
       "2          город Москва, Абельмановская улица, дом 6      95   \n",
       "3            город Москва, Абрамцевская улица, дом 1      40   \n",
       "4  город Москва, Абрамцевская улица, дом 9, корпус 1      50   \n",
       "\n",
       "                   street  \n",
       "0   улица егора абакумова  \n",
       "1        улица талалихина  \n",
       "2    абельмановская улица  \n",
       "3      абрамцевская улица  \n",
       "4      абрамцевская улица  "
      ]
     },
     "execution_count": 24,
     "metadata": {},
     "output_type": "execute_result"
    }
   ],
   "source": [
    "df['street'] = df['address'].str.lower()\n",
    "df['street'] = df['street'].str.split(\",\")\n",
    "df['street'] = df['street'].apply(lambda x: x[1])\n",
    "df.head()"
   ]
  },
  {
   "cell_type": "markdown",
   "metadata": {},
   "source": [
    "### Построим график топ-10 улиц по количеству объектов общественного питания\n"
   ]
  },
  {
   "cell_type": "markdown",
   "metadata": {},
   "source": [
    "Перед тем, как определить топ-10 улиц, нам необходимо воспользоваться внешней информацией и добавить районы в наш датафрейм"
   ]
  },
  {
   "cell_type": "code",
   "execution_count": 25,
   "metadata": {
    "scrolled": false
   },
   "outputs": [
    {
     "data": {
      "text/html": [
       "<div>\n",
       "<style scoped>\n",
       "    .dataframe tbody tr th:only-of-type {\n",
       "        vertical-align: middle;\n",
       "    }\n",
       "\n",
       "    .dataframe tbody tr th {\n",
       "        vertical-align: top;\n",
       "    }\n",
       "\n",
       "    .dataframe thead th {\n",
       "        text-align: right;\n",
       "    }\n",
       "</style>\n",
       "<table border=\"1\" class=\"dataframe\">\n",
       "  <thead>\n",
       "    <tr style=\"text-align: right;\">\n",
       "      <th></th>\n",
       "      <th>ID</th>\n",
       "      <th>Name</th>\n",
       "      <th>global_id</th>\n",
       "      <th>IsNetObject</th>\n",
       "      <th>OperatingCompany</th>\n",
       "      <th>TypeObject</th>\n",
       "      <th>AdmArea</th>\n",
       "      <th>District</th>\n",
       "      <th>Address</th>\n",
       "      <th>PublicPhone</th>\n",
       "      <th>SeatsCount</th>\n",
       "      <th>SocialPrivileges</th>\n",
       "      <th>Longitude_WGS84</th>\n",
       "      <th>Latitude_WGS84</th>\n",
       "      <th>geodata_center</th>\n",
       "      <th>geoarea</th>\n",
       "    </tr>\n",
       "  </thead>\n",
       "  <tbody>\n",
       "    <tr>\n",
       "      <th>0</th>\n",
       "      <td>Код</td>\n",
       "      <td>Наименование</td>\n",
       "      <td>global_id</td>\n",
       "      <td>Является сетевым</td>\n",
       "      <td>Название управляющей компании</td>\n",
       "      <td>Вид объекта</td>\n",
       "      <td>Административный округ по адресу</td>\n",
       "      <td>Район</td>\n",
       "      <td>Адрес</td>\n",
       "      <td>Контактный телефон</td>\n",
       "      <td>Число посадочных мест</td>\n",
       "      <td>Показатель социальных льгот</td>\n",
       "      <td>Долгота в WGS-84</td>\n",
       "      <td>Широта в WGS-84</td>\n",
       "      <td>geodata_center</td>\n",
       "      <td>geoarea</td>\n",
       "    </tr>\n",
       "    <tr>\n",
       "      <th>1</th>\n",
       "      <td>00151635</td>\n",
       "      <td>СМЕТАНА</td>\n",
       "      <td>637376221</td>\n",
       "      <td>нет</td>\n",
       "      <td>NaN</td>\n",
       "      <td>кафе</td>\n",
       "      <td>Северо-Восточный административный округ</td>\n",
       "      <td>Ярославский район</td>\n",
       "      <td>город Москва, улица Егора Абакумова, дом 9</td>\n",
       "      <td>PublicPhone:(499) 183-14-10\\n\\n</td>\n",
       "      <td>48</td>\n",
       "      <td>нет</td>\n",
       "      <td>37.7145650004360390</td>\n",
       "      <td>55.8790015313033730</td>\n",
       "      <td>NaN</td>\n",
       "      <td>NaN</td>\n",
       "    </tr>\n",
       "    <tr>\n",
       "      <th>2</th>\n",
       "      <td>000077874</td>\n",
       "      <td>Родник</td>\n",
       "      <td>637376331</td>\n",
       "      <td>нет</td>\n",
       "      <td>NaN</td>\n",
       "      <td>кафе</td>\n",
       "      <td>Центральный административный округ</td>\n",
       "      <td>Таганский район</td>\n",
       "      <td>город Москва, улица Талалихина, дом 2/1, корпус 1</td>\n",
       "      <td>PublicPhone:(495) 676-55-35\\n\\n</td>\n",
       "      <td>35</td>\n",
       "      <td>нет</td>\n",
       "      <td>37.6733061300344000</td>\n",
       "      <td>55.7382386551547000</td>\n",
       "      <td>NaN</td>\n",
       "      <td>NaN</td>\n",
       "    </tr>\n",
       "    <tr>\n",
       "      <th>3</th>\n",
       "      <td>000024309</td>\n",
       "      <td>Кафе «Академия»</td>\n",
       "      <td>637376349</td>\n",
       "      <td>нет</td>\n",
       "      <td>NaN</td>\n",
       "      <td>ресторан</td>\n",
       "      <td>Центральный административный округ</td>\n",
       "      <td>Таганский район</td>\n",
       "      <td>Российская Федерация, город Москва, внутригоро...</td>\n",
       "      <td>PublicPhone:(495) 662-30-10\\n\\n</td>\n",
       "      <td>95</td>\n",
       "      <td>нет</td>\n",
       "      <td>37.6696475969381000</td>\n",
       "      <td>55.7355114718314000</td>\n",
       "      <td>NaN</td>\n",
       "      <td>NaN</td>\n",
       "    </tr>\n",
       "    <tr>\n",
       "      <th>4</th>\n",
       "      <td>000027429</td>\n",
       "      <td>ГБОУ «Школа № 1430 имени Героя Социалистическо...</td>\n",
       "      <td>637376480</td>\n",
       "      <td>нет</td>\n",
       "      <td>NaN</td>\n",
       "      <td>столовая</td>\n",
       "      <td>Северо-Восточный административный округ</td>\n",
       "      <td>район Лианозово</td>\n",
       "      <td>город Москва, Угличская улица, дом 17</td>\n",
       "      <td>PublicPhone:(499) 908-06-15\\n\\n</td>\n",
       "      <td>240</td>\n",
       "      <td>нет</td>\n",
       "      <td>37.5669400000000020</td>\n",
       "      <td>55.9040188006692200</td>\n",
       "      <td>NaN</td>\n",
       "      <td>NaN</td>\n",
       "    </tr>\n",
       "  </tbody>\n",
       "</table>\n",
       "</div>"
      ],
      "text/plain": [
       "          ID                                               Name  global_id  \\\n",
       "0        Код                                       Наименование  global_id   \n",
       "1   00151635                                            СМЕТАНА  637376221   \n",
       "2  000077874                                             Родник  637376331   \n",
       "3  000024309                                    Кафе «Академия»  637376349   \n",
       "4  000027429  ГБОУ «Школа № 1430 имени Героя Социалистическо...  637376480   \n",
       "\n",
       "        IsNetObject               OperatingCompany   TypeObject  \\\n",
       "0  Является сетевым  Название управляющей компании  Вид объекта   \n",
       "1               нет                            NaN         кафе   \n",
       "2               нет                            NaN         кафе   \n",
       "3               нет                            NaN     ресторан   \n",
       "4               нет                            NaN     столовая   \n",
       "\n",
       "                                   AdmArea           District  \\\n",
       "0         Административный округ по адресу              Район   \n",
       "1  Северо-Восточный административный округ  Ярославский район   \n",
       "2       Центральный административный округ    Таганский район   \n",
       "3       Центральный административный округ    Таганский район   \n",
       "4  Северо-Восточный административный округ    район Лианозово   \n",
       "\n",
       "                                             Address  \\\n",
       "0                                              Адрес   \n",
       "1         город Москва, улица Егора Абакумова, дом 9   \n",
       "2  город Москва, улица Талалихина, дом 2/1, корпус 1   \n",
       "3  Российская Федерация, город Москва, внутригоро...   \n",
       "4              город Москва, Угличская улица, дом 17   \n",
       "\n",
       "                       PublicPhone             SeatsCount  \\\n",
       "0               Контактный телефон  Число посадочных мест   \n",
       "1  PublicPhone:(499) 183-14-10\\n\\n                     48   \n",
       "2  PublicPhone:(495) 676-55-35\\n\\n                     35   \n",
       "3  PublicPhone:(495) 662-30-10\\n\\n                     95   \n",
       "4  PublicPhone:(499) 908-06-15\\n\\n                    240   \n",
       "\n",
       "              SocialPrivileges      Longitude_WGS84       Latitude_WGS84  \\\n",
       "0  Показатель социальных льгот     Долгота в WGS-84      Широта в WGS-84   \n",
       "1                          нет  37.7145650004360390  55.8790015313033730   \n",
       "2                          нет  37.6733061300344000  55.7382386551547000   \n",
       "3                          нет  37.6696475969381000  55.7355114718314000   \n",
       "4                          нет  37.5669400000000020  55.9040188006692200   \n",
       "\n",
       "   geodata_center  geoarea  \n",
       "0  geodata_center  geoarea  \n",
       "1             NaN      NaN  \n",
       "2             NaN      NaN  \n",
       "3             NaN      NaN  \n",
       "4             NaN      NaN  "
      ]
     },
     "execution_count": 25,
     "metadata": {},
     "output_type": "execute_result"
    }
   ],
   "source": [
    "#Загрузим таблицу из открытого источника,где есть район\n",
    "\n",
    "from io import BytesIO\n",
    "import requests\n",
    "spreadsheet_id = '1yqnHrUl418SeSlsJNx0IfutMmzrZC6yMgq4Jzp9QYW4'\n",
    "file_name = 'https://docs.google.com/spreadsheets/d/{}/export?format=csv'.format(spreadsheet_id)\n",
    "r = requests.get(file_name)\n",
    "df_district = pd.read_csv(BytesIO(r.content))\n",
    "df_district.head() "
   ]
  },
  {
   "cell_type": "code",
   "execution_count": 26,
   "metadata": {},
   "outputs": [
    {
     "data": {
      "text/html": [
       "<div>\n",
       "<style scoped>\n",
       "    .dataframe tbody tr th:only-of-type {\n",
       "        vertical-align: middle;\n",
       "    }\n",
       "\n",
       "    .dataframe tbody tr th {\n",
       "        vertical-align: top;\n",
       "    }\n",
       "\n",
       "    .dataframe thead th {\n",
       "        text-align: right;\n",
       "    }\n",
       "</style>\n",
       "<table border=\"1\" class=\"dataframe\">\n",
       "  <thead>\n",
       "    <tr style=\"text-align: right;\">\n",
       "      <th></th>\n",
       "      <th>id</th>\n",
       "      <th>street</th>\n",
       "      <th>district</th>\n",
       "      <th>number</th>\n",
       "    </tr>\n",
       "  </thead>\n",
       "  <tbody>\n",
       "    <tr>\n",
       "      <th>0</th>\n",
       "      <td>151635</td>\n",
       "      <td>улица егора абакумова</td>\n",
       "      <td>Ярославский район</td>\n",
       "      <td>48</td>\n",
       "    </tr>\n",
       "    <tr>\n",
       "      <th>1</th>\n",
       "      <td>77874</td>\n",
       "      <td>улица талалихина</td>\n",
       "      <td>Таганский район</td>\n",
       "      <td>35</td>\n",
       "    </tr>\n",
       "    <tr>\n",
       "      <th>2</th>\n",
       "      <td>24309</td>\n",
       "      <td>абельмановская улица</td>\n",
       "      <td>NaN</td>\n",
       "      <td>95</td>\n",
       "    </tr>\n",
       "    <tr>\n",
       "      <th>3</th>\n",
       "      <td>21894</td>\n",
       "      <td>абрамцевская улица</td>\n",
       "      <td>район Лианозово</td>\n",
       "      <td>40</td>\n",
       "    </tr>\n",
       "    <tr>\n",
       "      <th>5</th>\n",
       "      <td>119365</td>\n",
       "      <td>абрамцевская улица</td>\n",
       "      <td>NaN</td>\n",
       "      <td>50</td>\n",
       "    </tr>\n",
       "  </tbody>\n",
       "</table>\n",
       "</div>"
      ],
      "text/plain": [
       "       id                  street           district  number\n",
       "0  151635   улица егора абакумова  Ярославский район      48\n",
       "1   77874        улица талалихина    Таганский район      35\n",
       "2   24309    абельмановская улица                NaN      95\n",
       "3   21894      абрамцевская улица    район Лианозово      40\n",
       "5  119365      абрамцевская улица                NaN      50"
      ]
     },
     "execution_count": 26,
     "metadata": {},
     "output_type": "execute_result"
    }
   ],
   "source": [
    "#Объединим таблицы\n",
    "\n",
    "df_new = df[['id', 'address', 'street', 'number']]\n",
    "\n",
    "df_new_distr = df_district[['District', 'Address']]\n",
    "df_new_distr.columns = df_new_distr.columns.str.lower()\n",
    "\n",
    "df_final = df_new.merge(df_new_distr, on='address', how='left')\n",
    "df_final = df_final[['id', 'street', 'district' ,'number']].drop_duplicates()\n",
    "\n",
    "df_final.head()"
   ]
  },
  {
   "cell_type": "code",
   "execution_count": 27,
   "metadata": {},
   "outputs": [
    {
     "data": {
      "text/plain": [
       "(15410, 4)"
      ]
     },
     "execution_count": 27,
     "metadata": {},
     "output_type": "execute_result"
    }
   ],
   "source": [
    "df_final.shape"
   ]
  },
  {
   "cell_type": "markdown",
   "metadata": {},
   "source": [
    "У нас образовались пропуски по районам, их мы заменим специальным символом ``unknown``"
   ]
  },
  {
   "cell_type": "code",
   "execution_count": 28,
   "metadata": {},
   "outputs": [],
   "source": [
    "df_final['district'] = df_final['district'].fillna(value = 'unknown')"
   ]
  },
  {
   "cell_type": "code",
   "execution_count": 29,
   "metadata": {},
   "outputs": [
    {
     "data": {
      "text/plain": [
       "0"
      ]
     },
     "execution_count": 29,
     "metadata": {},
     "output_type": "execute_result"
    }
   ],
   "source": [
    "df_final['district'].isna().sum()"
   ]
  },
  {
   "cell_type": "code",
   "execution_count": 30,
   "metadata": {},
   "outputs": [
    {
     "data": {
      "text/html": [
       "<div>\n",
       "<style scoped>\n",
       "    .dataframe tbody tr th:only-of-type {\n",
       "        vertical-align: middle;\n",
       "    }\n",
       "\n",
       "    .dataframe tbody tr th {\n",
       "        vertical-align: top;\n",
       "    }\n",
       "\n",
       "    .dataframe thead th {\n",
       "        text-align: right;\n",
       "    }\n",
       "</style>\n",
       "<table border=\"1\" class=\"dataframe\">\n",
       "  <thead>\n",
       "    <tr style=\"text-align: right;\">\n",
       "      <th></th>\n",
       "      <th>street</th>\n",
       "      <th>id</th>\n",
       "    </tr>\n",
       "  </thead>\n",
       "  <tbody>\n",
       "    <tr>\n",
       "      <th>0</th>\n",
       "      <td>проспект мира</td>\n",
       "      <td>203</td>\n",
       "    </tr>\n",
       "    <tr>\n",
       "      <th>1</th>\n",
       "      <td>профсоюзная улица</td>\n",
       "      <td>181</td>\n",
       "    </tr>\n",
       "    <tr>\n",
       "      <th>2</th>\n",
       "      <td>ленинградский проспект</td>\n",
       "      <td>170</td>\n",
       "    </tr>\n",
       "    <tr>\n",
       "      <th>3</th>\n",
       "      <td>пресненская набережная</td>\n",
       "      <td>167</td>\n",
       "    </tr>\n",
       "    <tr>\n",
       "      <th>4</th>\n",
       "      <td>кутузовский проспект</td>\n",
       "      <td>165</td>\n",
       "    </tr>\n",
       "    <tr>\n",
       "      <th>5</th>\n",
       "      <td>варшавское шоссе</td>\n",
       "      <td>161</td>\n",
       "    </tr>\n",
       "    <tr>\n",
       "      <th>6</th>\n",
       "      <td>ленинский проспект</td>\n",
       "      <td>147</td>\n",
       "    </tr>\n",
       "    <tr>\n",
       "      <th>7</th>\n",
       "      <td>проспект вернадского</td>\n",
       "      <td>128</td>\n",
       "    </tr>\n",
       "    <tr>\n",
       "      <th>8</th>\n",
       "      <td>каширское шоссе</td>\n",
       "      <td>111</td>\n",
       "    </tr>\n",
       "    <tr>\n",
       "      <th>9</th>\n",
       "      <td>кировоградская улица</td>\n",
       "      <td>108</td>\n",
       "    </tr>\n",
       "  </tbody>\n",
       "</table>\n",
       "</div>"
      ],
      "text/plain": [
       "                    street   id\n",
       "0            проспект мира  203\n",
       "1        профсоюзная улица  181\n",
       "2   ленинградский проспект  170\n",
       "3   пресненская набережная  167\n",
       "4     кутузовский проспект  165\n",
       "5         варшавское шоссе  161\n",
       "6       ленинский проспект  147\n",
       "7     проспект вернадского  128\n",
       "8          каширское шоссе  111\n",
       "9     кировоградская улица  108"
      ]
     },
     "execution_count": 30,
     "metadata": {},
     "output_type": "execute_result"
    }
   ],
   "source": [
    "#Теперь определим топ-10 улиц по количеству объектов\n",
    "top_streets = (df_final.query('street != \" город зеленоград\" and street != \" поселение сосенское\"')\n",
    "               .groupby(by = 'street')\n",
    "               .agg({'id':'count'})\n",
    "               .sort_values(by='id', ascending=False)\n",
    "               .reset_index()\n",
    "               .head(10)\n",
    "               \n",
    ")\n",
    "top_streets"
   ]
  },
  {
   "cell_type": "code",
   "execution_count": 31,
   "metadata": {},
   "outputs": [
    {
     "data": {
      "text/html": [
       "<div>\n",
       "<style scoped>\n",
       "    .dataframe tbody tr th:only-of-type {\n",
       "        vertical-align: middle;\n",
       "    }\n",
       "\n",
       "    .dataframe tbody tr th {\n",
       "        vertical-align: top;\n",
       "    }\n",
       "\n",
       "    .dataframe thead th {\n",
       "        text-align: right;\n",
       "    }\n",
       "</style>\n",
       "<table border=\"1\" class=\"dataframe\">\n",
       "  <thead>\n",
       "    <tr style=\"text-align: right;\">\n",
       "      <th></th>\n",
       "      <th>id</th>\n",
       "      <th>street</th>\n",
       "      <th>district</th>\n",
       "      <th>number</th>\n",
       "    </tr>\n",
       "  </thead>\n",
       "  <tbody>\n",
       "    <tr>\n",
       "      <th>0</th>\n",
       "      <td>151635</td>\n",
       "      <td>улица егора абакумова</td>\n",
       "      <td>Ярославский район</td>\n",
       "      <td>48</td>\n",
       "    </tr>\n",
       "    <tr>\n",
       "      <th>1</th>\n",
       "      <td>77874</td>\n",
       "      <td>улица талалихина</td>\n",
       "      <td>Таганский район</td>\n",
       "      <td>35</td>\n",
       "    </tr>\n",
       "    <tr>\n",
       "      <th>2</th>\n",
       "      <td>24309</td>\n",
       "      <td>абельмановская улица</td>\n",
       "      <td>unknown</td>\n",
       "      <td>95</td>\n",
       "    </tr>\n",
       "    <tr>\n",
       "      <th>3</th>\n",
       "      <td>21894</td>\n",
       "      <td>абрамцевская улица</td>\n",
       "      <td>район Лианозово</td>\n",
       "      <td>40</td>\n",
       "    </tr>\n",
       "    <tr>\n",
       "      <th>5</th>\n",
       "      <td>119365</td>\n",
       "      <td>абрамцевская улица</td>\n",
       "      <td>unknown</td>\n",
       "      <td>50</td>\n",
       "    </tr>\n",
       "  </tbody>\n",
       "</table>\n",
       "</div>"
      ],
      "text/plain": [
       "       id                  street           district  number\n",
       "0  151635   улица егора абакумова  Ярославский район      48\n",
       "1   77874        улица талалихина    Таганский район      35\n",
       "2   24309    абельмановская улица            unknown      95\n",
       "3   21894      абрамцевская улица    район Лианозово      40\n",
       "5  119365      абрамцевская улица            unknown      50"
      ]
     },
     "execution_count": 31,
     "metadata": {},
     "output_type": "execute_result"
    }
   ],
   "source": [
    "# Сделаем уникальные пары улица - район\n",
    "street_and_district = df_final.drop_duplicates(subset=['street', 'district'])\n",
    "street_and_district.head()"
   ]
  },
  {
   "cell_type": "code",
   "execution_count": 32,
   "metadata": {},
   "outputs": [
    {
     "data": {
      "text/html": [
       "<div>\n",
       "<style scoped>\n",
       "    .dataframe tbody tr th:only-of-type {\n",
       "        vertical-align: middle;\n",
       "    }\n",
       "\n",
       "    .dataframe tbody tr th {\n",
       "        vertical-align: top;\n",
       "    }\n",
       "\n",
       "    .dataframe thead th {\n",
       "        text-align: right;\n",
       "    }\n",
       "</style>\n",
       "<table border=\"1\" class=\"dataframe\">\n",
       "  <thead>\n",
       "    <tr style=\"text-align: right;\">\n",
       "      <th></th>\n",
       "      <th>street</th>\n",
       "      <th>district</th>\n",
       "    </tr>\n",
       "  </thead>\n",
       "  <tbody>\n",
       "    <tr>\n",
       "      <th>0</th>\n",
       "      <td>1-й автозаводский проезд</td>\n",
       "      <td>[unknown]</td>\n",
       "    </tr>\n",
       "    <tr>\n",
       "      <th>1</th>\n",
       "      <td>1-й амбулаторный проезд</td>\n",
       "      <td>[район Аэропорт]</td>\n",
       "    </tr>\n",
       "    <tr>\n",
       "      <th>2</th>\n",
       "      <td>1-й балтийский переулок</td>\n",
       "      <td>[район Аэропорт]</td>\n",
       "    </tr>\n",
       "    <tr>\n",
       "      <th>3</th>\n",
       "      <td>1-й басманный переулок</td>\n",
       "      <td>[Красносельский район]</td>\n",
       "    </tr>\n",
       "    <tr>\n",
       "      <th>4</th>\n",
       "      <td>1-й ботанический проезд</td>\n",
       "      <td>[район Свиблово]</td>\n",
       "    </tr>\n",
       "  </tbody>\n",
       "</table>\n",
       "</div>"
      ],
      "text/plain": [
       "                      street                district\n",
       "0   1-й автозаводский проезд               [unknown]\n",
       "1    1-й амбулаторный проезд        [район Аэропорт]\n",
       "2    1-й балтийский переулок        [район Аэропорт]\n",
       "3     1-й басманный переулок  [Красносельский район]\n",
       "4    1-й ботанический проезд        [район Свиблово]"
      ]
     },
     "execution_count": 32,
     "metadata": {},
     "output_type": "execute_result"
    }
   ],
   "source": [
    "#Сгруппируем по улицам и сделаем список с районами\n",
    "street_and_district = (street_and_district.groupby('street')\n",
    "                       .agg({'district':list})\n",
    "                       .reset_index()\n",
    ")\n",
    "street_and_district.head()"
   ]
  },
  {
   "cell_type": "markdown",
   "metadata": {},
   "source": [
    "Соединим таблицы, чтобы посмотреть, в каких районах расположены наши топ-10 улиц"
   ]
  },
  {
   "cell_type": "code",
   "execution_count": 33,
   "metadata": {},
   "outputs": [
    {
     "data": {
      "text/html": [
       "<div>\n",
       "<style scoped>\n",
       "    .dataframe tbody tr th:only-of-type {\n",
       "        vertical-align: middle;\n",
       "    }\n",
       "\n",
       "    .dataframe tbody tr th {\n",
       "        vertical-align: top;\n",
       "    }\n",
       "\n",
       "    .dataframe thead th {\n",
       "        text-align: right;\n",
       "    }\n",
       "</style>\n",
       "<table border=\"1\" class=\"dataframe\">\n",
       "  <thead>\n",
       "    <tr style=\"text-align: right;\">\n",
       "      <th></th>\n",
       "      <th>street</th>\n",
       "      <th>id</th>\n",
       "      <th>district</th>\n",
       "    </tr>\n",
       "  </thead>\n",
       "  <tbody>\n",
       "    <tr>\n",
       "      <th>0</th>\n",
       "      <td>проспект мира</td>\n",
       "      <td>203</td>\n",
       "      <td>[Мещанский район, unknown, Останкинский район,...</td>\n",
       "    </tr>\n",
       "    <tr>\n",
       "      <th>1</th>\n",
       "      <td>профсоюзная улица</td>\n",
       "      <td>181</td>\n",
       "      <td>[unknown, район Черёмушки, район Тёплый Стан, ...</td>\n",
       "    </tr>\n",
       "    <tr>\n",
       "      <th>2</th>\n",
       "      <td>ленинградский проспект</td>\n",
       "      <td>170</td>\n",
       "      <td>[район Беговой, район Аэропорт, unknown, район...</td>\n",
       "    </tr>\n",
       "    <tr>\n",
       "      <th>3</th>\n",
       "      <td>пресненская набережная</td>\n",
       "      <td>167</td>\n",
       "      <td>[Пресненский район, unknown]</td>\n",
       "    </tr>\n",
       "    <tr>\n",
       "      <th>4</th>\n",
       "      <td>кутузовский проспект</td>\n",
       "      <td>165</td>\n",
       "      <td>[unknown, район Дорогомилово, район Фили-Давыд...</td>\n",
       "    </tr>\n",
       "    <tr>\n",
       "      <th>5</th>\n",
       "      <td>варшавское шоссе</td>\n",
       "      <td>161</td>\n",
       "      <td>[unknown, Донской район, район Чертаново Южное...</td>\n",
       "    </tr>\n",
       "    <tr>\n",
       "      <th>6</th>\n",
       "      <td>ленинский проспект</td>\n",
       "      <td>147</td>\n",
       "      <td>[район Якиманка, Донской район, unknown, Гагар...</td>\n",
       "    </tr>\n",
       "    <tr>\n",
       "      <th>7</th>\n",
       "      <td>проспект вернадского</td>\n",
       "      <td>128</td>\n",
       "      <td>[unknown, Ломоносовский район, район Тропарёво...</td>\n",
       "    </tr>\n",
       "    <tr>\n",
       "      <th>8</th>\n",
       "      <td>каширское шоссе</td>\n",
       "      <td>111</td>\n",
       "      <td>[unknown, район Москворечье-Сабурово, район Ор...</td>\n",
       "    </tr>\n",
       "    <tr>\n",
       "      <th>9</th>\n",
       "      <td>кировоградская улица</td>\n",
       "      <td>108</td>\n",
       "      <td>[район Чертаново Центральное, unknown, район Ч...</td>\n",
       "    </tr>\n",
       "  </tbody>\n",
       "</table>\n",
       "</div>"
      ],
      "text/plain": [
       "                    street   id  \\\n",
       "0            проспект мира  203   \n",
       "1        профсоюзная улица  181   \n",
       "2   ленинградский проспект  170   \n",
       "3   пресненская набережная  167   \n",
       "4     кутузовский проспект  165   \n",
       "5         варшавское шоссе  161   \n",
       "6       ленинский проспект  147   \n",
       "7     проспект вернадского  128   \n",
       "8          каширское шоссе  111   \n",
       "9     кировоградская улица  108   \n",
       "\n",
       "                                            district  \n",
       "0  [Мещанский район, unknown, Останкинский район,...  \n",
       "1  [unknown, район Черёмушки, район Тёплый Стан, ...  \n",
       "2  [район Беговой, район Аэропорт, unknown, район...  \n",
       "3                       [Пресненский район, unknown]  \n",
       "4  [unknown, район Дорогомилово, район Фили-Давыд...  \n",
       "5  [unknown, Донской район, район Чертаново Южное...  \n",
       "6  [район Якиманка, Донской район, unknown, Гагар...  \n",
       "7  [unknown, Ломоносовский район, район Тропарёво...  \n",
       "8  [unknown, район Москворечье-Сабурово, район Ор...  \n",
       "9  [район Чертаново Центральное, unknown, район Ч...  "
      ]
     },
     "execution_count": 33,
     "metadata": {},
     "output_type": "execute_result"
    }
   ],
   "source": [
    "df_top_street = top_streets.merge(street_and_district, on='street', how='left')\n",
    "df_top_street"
   ]
  },
  {
   "cell_type": "code",
   "execution_count": 34,
   "metadata": {},
   "outputs": [
    {
     "data": {
      "image/png": "[encoded data removed]",
      "text/plain": [
       "<Figure size 1500x800 with 1 Axes>"
      ]
     },
     "metadata": {},
     "output_type": "display_data"
    }
   ],
   "source": [
    "fig, ax = plt.subplots(figsize=(15,8))\n",
    "ax = sns.barplot(x='street', y='id', data=top_streets)\n",
    "ax.set_title('Топ-10 улиц по количеству объектов общественного питания')\n",
    "ax.set_xlabel('Улицы')\n",
    "ax.set_ylabel('Количество')\n",
    "plt.xticks(rotation=40)\n",
    "plt.show()"
   ]
  },
  {
   "cell_type": "markdown",
   "metadata": {},
   "source": [
    "Мы определили топ-10 улиц по количеству объектов общественного питания и узнали, в каких районах они находятся  \n",
    "Проспект мира - на первом месте по количеству объектов общественного питания"
   ]
  },
  {
   "cell_type": "markdown",
   "metadata": {},
   "source": [
    "### Найдем число улиц с одним объектом общественного питания"
   ]
  },
  {
   "cell_type": "code",
   "execution_count": 35,
   "metadata": {},
   "outputs": [
    {
     "data": {
      "text/html": [
       "<div>\n",
       "<style scoped>\n",
       "    .dataframe tbody tr th:only-of-type {\n",
       "        vertical-align: middle;\n",
       "    }\n",
       "\n",
       "    .dataframe tbody tr th {\n",
       "        vertical-align: top;\n",
       "    }\n",
       "\n",
       "    .dataframe thead th {\n",
       "        text-align: right;\n",
       "    }\n",
       "</style>\n",
       "<table border=\"1\" class=\"dataframe\">\n",
       "  <thead>\n",
       "    <tr style=\"text-align: right;\">\n",
       "      <th></th>\n",
       "      <th>street</th>\n",
       "      <th>id</th>\n",
       "      <th>district</th>\n",
       "    </tr>\n",
       "  </thead>\n",
       "  <tbody>\n",
       "    <tr>\n",
       "      <th>0</th>\n",
       "      <td>1-й балтийский переулок</td>\n",
       "      <td>1</td>\n",
       "      <td>район Аэропорт</td>\n",
       "    </tr>\n",
       "    <tr>\n",
       "      <th>1</th>\n",
       "      <td>1-й басманный переулок</td>\n",
       "      <td>1</td>\n",
       "      <td>Красносельский район</td>\n",
       "    </tr>\n",
       "    <tr>\n",
       "      <th>2</th>\n",
       "      <td>1-й ботанический проезд</td>\n",
       "      <td>1</td>\n",
       "      <td>район Свиблово</td>\n",
       "    </tr>\n",
       "    <tr>\n",
       "      <th>3</th>\n",
       "      <td>1-й вешняковский проезд</td>\n",
       "      <td>1</td>\n",
       "      <td>unknown</td>\n",
       "    </tr>\n",
       "    <tr>\n",
       "      <th>4</th>\n",
       "      <td>1-й голутвинский переулок</td>\n",
       "      <td>1</td>\n",
       "      <td>район Якиманка</td>\n",
       "    </tr>\n",
       "  </tbody>\n",
       "</table>\n",
       "</div>"
      ],
      "text/plain": [
       "                       street  id              district\n",
       "0     1-й балтийский переулок   1        район Аэропорт\n",
       "1      1-й басманный переулок   1  Красносельский район\n",
       "2     1-й ботанический проезд   1        район Свиблово\n",
       "3     1-й вешняковский проезд   1               unknown\n",
       "4   1-й голутвинский переулок   1        район Якиманка"
      ]
     },
     "metadata": {},
     "output_type": "display_data"
    },
    {
     "data": {
      "text/plain": [
       "(579, 3)"
      ]
     },
     "metadata": {},
     "output_type": "display_data"
    }
   ],
   "source": [
    "one_object = (df_final.groupby(by='street')\n",
    "              .agg({'id':'count', 'district':'max'})\n",
    "              .query('id == 1')\n",
    "              .reset_index()\n",
    ")\n",
    "display(one_object.head())\n",
    "display(one_object.shape)"
   ]
  },
  {
   "cell_type": "markdown",
   "metadata": {},
   "source": [
    "579 улиц с одним объектом общественного питания"
   ]
  },
  {
   "cell_type": "markdown",
   "metadata": {},
   "source": [
    "Теперь сгруппируем датафрейм по районам, чтобы посмотреть, в каких районах Москвы находятся эти улицы, с расчетом числа улиц с 1 заведениев в каждом из нах"
   ]
  },
  {
   "cell_type": "code",
   "execution_count": 36,
   "metadata": {},
   "outputs": [
    {
     "data": {
      "text/html": [
       "<div>\n",
       "<style scoped>\n",
       "    .dataframe tbody tr th:only-of-type {\n",
       "        vertical-align: middle;\n",
       "    }\n",
       "\n",
       "    .dataframe tbody tr th {\n",
       "        vertical-align: top;\n",
       "    }\n",
       "\n",
       "    .dataframe thead th {\n",
       "        text-align: right;\n",
       "    }\n",
       "</style>\n",
       "<table border=\"1\" class=\"dataframe\">\n",
       "  <thead>\n",
       "    <tr style=\"text-align: right;\">\n",
       "      <th></th>\n",
       "      <th>district</th>\n",
       "      <th>street_number</th>\n",
       "    </tr>\n",
       "  </thead>\n",
       "  <tbody>\n",
       "    <tr>\n",
       "      <th>0</th>\n",
       "      <td>unknown</td>\n",
       "      <td>237</td>\n",
       "    </tr>\n",
       "    <tr>\n",
       "      <th>1</th>\n",
       "      <td>Алексеевский район</td>\n",
       "      <td>6</td>\n",
       "    </tr>\n",
       "    <tr>\n",
       "      <th>2</th>\n",
       "      <td>Алтуфьевский район</td>\n",
       "      <td>2</td>\n",
       "    </tr>\n",
       "    <tr>\n",
       "      <th>3</th>\n",
       "      <td>Бабушкинский район</td>\n",
       "      <td>5</td>\n",
       "    </tr>\n",
       "    <tr>\n",
       "      <th>4</th>\n",
       "      <td>Басманный район</td>\n",
       "      <td>16</td>\n",
       "    </tr>\n",
       "  </tbody>\n",
       "</table>\n",
       "</div>"
      ],
      "text/plain": [
       "             district  street_number\n",
       "0             unknown            237\n",
       "1  Алексеевский район              6\n",
       "2  Алтуфьевский район              2\n",
       "3  Бабушкинский район              5\n",
       "4     Басманный район             16"
      ]
     },
     "execution_count": 36,
     "metadata": {},
     "output_type": "execute_result"
    }
   ],
   "source": [
    "one_object = (one_object.groupby('district').agg({'id':'count'})\n",
    "              .reset_index()\n",
    "              .rename(columns={'id':'street_number'})\n",
    ")\n",
    "\n",
    "one_object.head(5)"
   ]
  },
  {
   "cell_type": "markdown",
   "metadata": {},
   "source": [
    "Мы получили количество улиц с одним объектом общественного питания и обнурижили, что большая часть улиц распалагается в центральной части города  \n",
    "Это связано с тем, что в целом заведения чаще распологаются ближе к центру города  \n",
    "Также сгруппировали данные по районам и получили количество улиц по каждому району"
   ]
  },
  {
   "cell_type": "markdown",
   "metadata": {},
   "source": [
    "## Вывод"
   ]
  },
  {
   "cell_type": "markdown",
   "metadata": {},
   "source": [
    "Мы проанализировали открытые данные о заведениях общественного питания в Москве, для того, чтобы можно было выбрать максимально правильную локацию, вид заведения и объем  \n",
    "\n",
    "* В исследовании участвовало 15366 заведений\n",
    "* По количеству заведений лидирует Кафе, на этот вид объекта стоит обратить внимание\n",
    "* Сетевых заведений в 4 раза больше, чем не сетевых\n",
    "* Распростронение сетевым путем характерно для: столовых, кафетерий, буфетов и магазинов(отдел кулинарии)\n",
    "* Для сетевых заведений характерно: много заведений с небольшим числом посадочных мест в каждом\n",
    "* Для кафе среднее количество посадочных мест: 40, на это количество стоит обратить внимание\n",
    "* Лучше всего открываться на Проспекте мира, так как эта улица пользуется пополуярностью у заведений\n"
   ]
  },
  {
   "cell_type": "markdown",
   "metadata": {},
   "source": [
    "Презентация: <https://drive.google.com/file/d/1G8QYO6LCS-t02Iqw32z6NVA1_cQNMQ8W/view?usp=sharing>"
   ]
  }
 ],
 "metadata": {
  "ExecuteTimeLog": [
   {
    "duration": 795,
    "start_time": "2022-08-28T04:35:45.365Z"
   },
   {
    "duration": 540,
    "start_time": "2022-08-28T04:36:45.055Z"
   },
   {
    "duration": 3,
    "start_time": "2022-08-28T04:48:32.945Z"
   },
   {
    "duration": 269,
    "start_time": "2022-08-28T04:49:31.637Z"
   },
   {
    "duration": 88,
    "start_time": "2022-08-28T04:49:45.910Z"
   },
   {
    "duration": 82,
    "start_time": "2022-08-28T04:49:53.011Z"
   },
   {
    "duration": 100,
    "start_time": "2022-08-28T04:50:45.680Z"
   },
   {
    "duration": 9,
    "start_time": "2022-08-28T04:50:52.485Z"
   },
   {
    "duration": 3,
    "start_time": "2022-08-28T04:51:48.834Z"
   },
   {
    "duration": 13,
    "start_time": "2022-08-28T04:53:24.556Z"
   },
   {
    "duration": 9,
    "start_time": "2022-08-28T04:57:03.062Z"
   },
   {
    "duration": 9,
    "start_time": "2022-08-28T04:57:13.587Z"
   },
   {
    "duration": 8,
    "start_time": "2022-08-28T04:57:25.241Z"
   },
   {
    "duration": 5,
    "start_time": "2022-08-28T05:01:46.831Z"
   },
   {
    "duration": 6,
    "start_time": "2022-08-28T05:02:03.989Z"
   },
   {
    "duration": 10,
    "start_time": "2022-08-28T05:02:19.131Z"
   },
   {
    "duration": 10,
    "start_time": "2022-08-28T05:02:23.475Z"
   },
   {
    "duration": 6,
    "start_time": "2022-08-28T05:02:27.476Z"
   },
   {
    "duration": 6,
    "start_time": "2022-08-28T05:02:38.957Z"
   },
   {
    "duration": 1124,
    "start_time": "2022-08-28T05:02:52.956Z"
   },
   {
    "duration": 75,
    "start_time": "2022-08-28T05:02:54.082Z"
   },
   {
    "duration": 4,
    "start_time": "2022-08-28T05:02:54.158Z"
   },
   {
    "duration": 18,
    "start_time": "2022-08-28T05:02:54.163Z"
   },
   {
    "duration": 5,
    "start_time": "2022-08-28T05:02:54.183Z"
   },
   {
    "duration": 9,
    "start_time": "2022-08-28T05:02:54.190Z"
   },
   {
    "duration": 7,
    "start_time": "2022-08-28T05:03:11.937Z"
   },
   {
    "duration": 9,
    "start_time": "2022-08-28T05:03:18.738Z"
   },
   {
    "duration": 1135,
    "start_time": "2022-08-28T05:05:16.961Z"
   },
   {
    "duration": 78,
    "start_time": "2022-08-28T05:05:18.100Z"
   },
   {
    "duration": 3,
    "start_time": "2022-08-28T05:05:18.180Z"
   },
   {
    "duration": 31,
    "start_time": "2022-08-28T05:05:18.184Z"
   },
   {
    "duration": 6,
    "start_time": "2022-08-28T05:05:18.217Z"
   },
   {
    "duration": 31,
    "start_time": "2022-08-28T05:05:18.224Z"
   },
   {
    "duration": 8,
    "start_time": "2022-08-28T05:05:18.257Z"
   },
   {
    "duration": 5,
    "start_time": "2022-08-28T05:06:18.877Z"
   },
   {
    "duration": 10,
    "start_time": "2022-08-28T05:06:20.010Z"
   },
   {
    "duration": 18,
    "start_time": "2022-08-28T05:17:39.407Z"
   },
   {
    "duration": 1136,
    "start_time": "2022-08-28T05:20:42.911Z"
   },
   {
    "duration": 81,
    "start_time": "2022-08-28T05:20:44.049Z"
   },
   {
    "duration": 4,
    "start_time": "2022-08-28T05:20:44.132Z"
   },
   {
    "duration": 23,
    "start_time": "2022-08-28T05:20:44.137Z"
   },
   {
    "duration": 8,
    "start_time": "2022-08-28T05:20:44.163Z"
   },
   {
    "duration": 47,
    "start_time": "2022-08-28T05:20:44.186Z"
   },
   {
    "duration": 11,
    "start_time": "2022-08-28T05:20:44.235Z"
   },
   {
    "duration": 26,
    "start_time": "2022-08-28T05:20:44.248Z"
   },
   {
    "duration": 1146,
    "start_time": "2022-08-29T04:47:36.223Z"
   },
   {
    "duration": 258,
    "start_time": "2022-08-29T04:47:37.371Z"
   },
   {
    "duration": 3,
    "start_time": "2022-08-29T04:47:37.631Z"
   },
   {
    "duration": 12,
    "start_time": "2022-08-29T04:47:37.636Z"
   },
   {
    "duration": 5,
    "start_time": "2022-08-29T04:47:37.650Z"
   },
   {
    "duration": 30,
    "start_time": "2022-08-29T04:47:37.657Z"
   },
   {
    "duration": 13,
    "start_time": "2022-08-29T04:47:37.689Z"
   },
   {
    "duration": 19,
    "start_time": "2022-08-29T04:47:37.703Z"
   },
   {
    "duration": 7,
    "start_time": "2022-08-29T04:52:18.717Z"
   },
   {
    "duration": 9,
    "start_time": "2022-08-29T04:52:25.421Z"
   },
   {
    "duration": 11,
    "start_time": "2022-08-29T04:52:38.682Z"
   },
   {
    "duration": 101,
    "start_time": "2022-08-29T04:57:56.842Z"
   },
   {
    "duration": 161,
    "start_time": "2022-08-29T04:59:19.870Z"
   },
   {
    "duration": 141,
    "start_time": "2022-08-29T05:06:48.249Z"
   },
   {
    "duration": 101,
    "start_time": "2022-08-29T05:07:31.560Z"
   },
   {
    "duration": 149,
    "start_time": "2022-08-29T05:08:29.593Z"
   },
   {
    "duration": 152,
    "start_time": "2022-08-29T05:08:55.710Z"
   },
   {
    "duration": 174,
    "start_time": "2022-08-29T05:09:59.393Z"
   },
   {
    "duration": 178,
    "start_time": "2022-08-29T05:10:52.016Z"
   },
   {
    "duration": 176,
    "start_time": "2022-08-29T05:11:00.292Z"
   },
   {
    "duration": 221,
    "start_time": "2022-08-29T05:14:24.121Z"
   },
   {
    "duration": 178,
    "start_time": "2022-08-29T05:14:33.681Z"
   },
   {
    "duration": 176,
    "start_time": "2022-08-29T05:15:05.018Z"
   },
   {
    "duration": 168,
    "start_time": "2022-08-29T05:15:30.577Z"
   },
   {
    "duration": 163,
    "start_time": "2022-08-29T05:15:49.914Z"
   },
   {
    "duration": 152,
    "start_time": "2022-08-29T05:19:59.086Z"
   },
   {
    "duration": 152,
    "start_time": "2022-08-29T05:20:24.258Z"
   },
   {
    "duration": 169,
    "start_time": "2022-08-29T05:20:58.587Z"
   },
   {
    "duration": 157,
    "start_time": "2022-08-29T05:21:10.739Z"
   },
   {
    "duration": 189,
    "start_time": "2022-08-29T05:21:26.772Z"
   },
   {
    "duration": 184,
    "start_time": "2022-08-29T05:21:40.899Z"
   },
   {
    "duration": 284,
    "start_time": "2022-08-29T05:21:47.601Z"
   },
   {
    "duration": 163,
    "start_time": "2022-08-29T05:22:01.537Z"
   },
   {
    "duration": 172,
    "start_time": "2022-08-29T05:22:19.441Z"
   },
   {
    "duration": 196,
    "start_time": "2022-08-29T05:22:30.043Z"
   },
   {
    "duration": 217,
    "start_time": "2022-08-29T05:22:44.510Z"
   },
   {
    "duration": 185,
    "start_time": "2022-08-29T05:22:51.135Z"
   },
   {
    "duration": 195,
    "start_time": "2022-08-29T05:23:12.329Z"
   },
   {
    "duration": 1062,
    "start_time": "2022-08-29T05:26:14.799Z"
   },
   {
    "duration": 73,
    "start_time": "2022-08-29T05:26:15.863Z"
   },
   {
    "duration": 4,
    "start_time": "2022-08-29T05:26:15.938Z"
   },
   {
    "duration": 14,
    "start_time": "2022-08-29T05:26:15.943Z"
   },
   {
    "duration": 6,
    "start_time": "2022-08-29T05:26:15.959Z"
   },
   {
    "duration": 52,
    "start_time": "2022-08-29T05:26:15.966Z"
   },
   {
    "duration": 8,
    "start_time": "2022-08-29T05:26:16.019Z"
   },
   {
    "duration": 19,
    "start_time": "2022-08-29T05:26:16.028Z"
   },
   {
    "duration": 6,
    "start_time": "2022-08-29T05:26:16.049Z"
   },
   {
    "duration": 225,
    "start_time": "2022-08-29T05:26:16.057Z"
   },
   {
    "duration": 11,
    "start_time": "2022-08-29T05:26:46.843Z"
   },
   {
    "duration": 244,
    "start_time": "2022-08-29T05:40:48.923Z"
   },
   {
    "duration": 101,
    "start_time": "2022-08-29T05:42:53.905Z"
   },
   {
    "duration": 9,
    "start_time": "2022-08-29T05:43:10.431Z"
   },
   {
    "duration": 140,
    "start_time": "2022-08-29T05:45:55.049Z"
   },
   {
    "duration": 135,
    "start_time": "2022-08-29T05:46:13.160Z"
   },
   {
    "duration": 122,
    "start_time": "2022-08-29T05:47:21.392Z"
   },
   {
    "duration": 1062,
    "start_time": "2022-08-29T05:48:08.392Z"
   },
   {
    "duration": 76,
    "start_time": "2022-08-29T05:48:09.456Z"
   },
   {
    "duration": 4,
    "start_time": "2022-08-29T05:48:09.533Z"
   },
   {
    "duration": 16,
    "start_time": "2022-08-29T05:48:09.539Z"
   },
   {
    "duration": 5,
    "start_time": "2022-08-29T05:48:09.557Z"
   },
   {
    "duration": 48,
    "start_time": "2022-08-29T05:48:09.564Z"
   },
   {
    "duration": 8,
    "start_time": "2022-08-29T05:48:09.614Z"
   },
   {
    "duration": 26,
    "start_time": "2022-08-29T05:48:09.624Z"
   },
   {
    "duration": 14,
    "start_time": "2022-08-29T05:48:09.652Z"
   },
   {
    "duration": 254,
    "start_time": "2022-08-29T05:48:09.669Z"
   },
   {
    "duration": 10,
    "start_time": "2022-08-29T05:48:09.925Z"
   },
   {
    "duration": 122,
    "start_time": "2022-08-29T05:48:09.949Z"
   },
   {
    "duration": 1253,
    "start_time": "2022-08-30T04:15:13.951Z"
   },
   {
    "duration": 257,
    "start_time": "2022-08-30T04:15:15.206Z"
   },
   {
    "duration": 3,
    "start_time": "2022-08-30T04:15:15.465Z"
   },
   {
    "duration": 22,
    "start_time": "2022-08-30T04:15:15.470Z"
   },
   {
    "duration": 6,
    "start_time": "2022-08-30T04:15:15.494Z"
   },
   {
    "duration": 34,
    "start_time": "2022-08-30T04:15:15.501Z"
   },
   {
    "duration": 9,
    "start_time": "2022-08-30T04:15:15.536Z"
   },
   {
    "duration": 21,
    "start_time": "2022-08-30T04:15:15.547Z"
   },
   {
    "duration": 11,
    "start_time": "2022-08-30T04:15:15.570Z"
   },
   {
    "duration": 263,
    "start_time": "2022-08-30T04:15:15.583Z"
   },
   {
    "duration": 9,
    "start_time": "2022-08-30T04:15:15.848Z"
   },
   {
    "duration": 166,
    "start_time": "2022-08-30T04:15:15.858Z"
   },
   {
    "duration": 28,
    "start_time": "2022-08-30T04:29:30.611Z"
   },
   {
    "duration": 18,
    "start_time": "2022-08-30T04:30:03.124Z"
   },
   {
    "duration": 205,
    "start_time": "2022-08-30T04:33:26.990Z"
   },
   {
    "duration": 282,
    "start_time": "2022-08-30T04:33:58.907Z"
   },
   {
    "duration": 210,
    "start_time": "2022-08-30T04:34:11.459Z"
   },
   {
    "duration": 210,
    "start_time": "2022-08-30T04:34:23.101Z"
   },
   {
    "duration": 15,
    "start_time": "2022-08-30T04:52:50.062Z"
   },
   {
    "duration": 207,
    "start_time": "2022-08-30T04:55:54.150Z"
   },
   {
    "duration": 15,
    "start_time": "2022-08-30T04:59:00.394Z"
   },
   {
    "duration": 174,
    "start_time": "2022-08-30T04:59:56.168Z"
   },
   {
    "duration": 19,
    "start_time": "2022-08-30T05:01:46.023Z"
   },
   {
    "duration": 7,
    "start_time": "2022-08-30T05:05:05.912Z"
   },
   {
    "duration": 18,
    "start_time": "2022-08-30T05:08:46.050Z"
   },
   {
    "duration": 208,
    "start_time": "2022-08-30T05:09:07.801Z"
   },
   {
    "duration": 1111,
    "start_time": "2022-08-30T05:09:22.811Z"
   },
   {
    "duration": 78,
    "start_time": "2022-08-30T05:09:23.924Z"
   },
   {
    "duration": 4,
    "start_time": "2022-08-30T05:09:24.003Z"
   },
   {
    "duration": 21,
    "start_time": "2022-08-30T05:09:24.009Z"
   },
   {
    "duration": 19,
    "start_time": "2022-08-30T05:09:24.032Z"
   },
   {
    "duration": 39,
    "start_time": "2022-08-30T05:09:24.053Z"
   },
   {
    "duration": 8,
    "start_time": "2022-08-30T05:09:24.094Z"
   },
   {
    "duration": 24,
    "start_time": "2022-08-30T05:09:24.104Z"
   },
   {
    "duration": 10,
    "start_time": "2022-08-30T05:09:24.129Z"
   },
   {
    "duration": 222,
    "start_time": "2022-08-30T05:09:24.141Z"
   },
   {
    "duration": 10,
    "start_time": "2022-08-30T05:09:24.364Z"
   },
   {
    "duration": 127,
    "start_time": "2022-08-30T05:09:24.376Z"
   },
   {
    "duration": 17,
    "start_time": "2022-08-30T05:09:24.504Z"
   },
   {
    "duration": 223,
    "start_time": "2022-08-30T05:09:24.523Z"
   },
   {
    "duration": 6,
    "start_time": "2022-08-30T05:09:24.747Z"
   },
   {
    "duration": 329,
    "start_time": "2022-08-30T05:09:24.755Z"
   },
   {
    "duration": 235,
    "start_time": "2022-08-30T05:09:48.325Z"
   },
   {
    "duration": 256,
    "start_time": "2022-08-30T05:09:56.896Z"
   },
   {
    "duration": 248,
    "start_time": "2022-08-30T05:12:01.922Z"
   },
   {
    "duration": 1088,
    "start_time": "2022-08-30T05:12:12.106Z"
   },
   {
    "duration": 76,
    "start_time": "2022-08-30T05:12:13.197Z"
   },
   {
    "duration": 4,
    "start_time": "2022-08-30T05:12:13.275Z"
   },
   {
    "duration": 16,
    "start_time": "2022-08-30T05:12:13.282Z"
   },
   {
    "duration": 10,
    "start_time": "2022-08-30T05:12:13.299Z"
   },
   {
    "duration": 31,
    "start_time": "2022-08-30T05:12:13.310Z"
   },
   {
    "duration": 8,
    "start_time": "2022-08-30T05:12:13.343Z"
   },
   {
    "duration": 23,
    "start_time": "2022-08-30T05:12:13.353Z"
   },
   {
    "duration": 33,
    "start_time": "2022-08-30T05:12:13.377Z"
   },
   {
    "duration": 219,
    "start_time": "2022-08-30T05:12:13.412Z"
   },
   {
    "duration": 9,
    "start_time": "2022-08-30T05:12:13.632Z"
   },
   {
    "duration": 130,
    "start_time": "2022-08-30T05:12:13.643Z"
   },
   {
    "duration": 14,
    "start_time": "2022-08-30T05:12:13.775Z"
   },
   {
    "duration": 219,
    "start_time": "2022-08-30T05:12:13.790Z"
   },
   {
    "duration": 6,
    "start_time": "2022-08-30T05:12:14.010Z"
   },
   {
    "duration": 273,
    "start_time": "2022-08-30T05:12:14.018Z"
   },
   {
    "duration": 14,
    "start_time": "2022-08-30T05:16:15.342Z"
   },
   {
    "duration": 12,
    "start_time": "2022-08-30T05:17:01.134Z"
   },
   {
    "duration": 235,
    "start_time": "2022-08-30T05:20:35.803Z"
   },
   {
    "duration": 1089,
    "start_time": "2022-08-30T05:27:14.703Z"
   },
   {
    "duration": 78,
    "start_time": "2022-08-30T05:27:15.794Z"
   },
   {
    "duration": 4,
    "start_time": "2022-08-30T05:27:15.874Z"
   },
   {
    "duration": 31,
    "start_time": "2022-08-30T05:27:15.880Z"
   },
   {
    "duration": 6,
    "start_time": "2022-08-30T05:27:15.914Z"
   },
   {
    "duration": 40,
    "start_time": "2022-08-30T05:27:15.921Z"
   },
   {
    "duration": 9,
    "start_time": "2022-08-30T05:27:15.963Z"
   },
   {
    "duration": 42,
    "start_time": "2022-08-30T05:27:15.974Z"
   },
   {
    "duration": 12,
    "start_time": "2022-08-30T05:27:16.018Z"
   },
   {
    "duration": 234,
    "start_time": "2022-08-30T05:27:16.033Z"
   },
   {
    "duration": 10,
    "start_time": "2022-08-30T05:27:16.269Z"
   },
   {
    "duration": 131,
    "start_time": "2022-08-30T05:27:16.280Z"
   },
   {
    "duration": 14,
    "start_time": "2022-08-30T05:27:16.412Z"
   },
   {
    "duration": 214,
    "start_time": "2022-08-30T05:27:16.428Z"
   },
   {
    "duration": 5,
    "start_time": "2022-08-30T05:27:16.644Z"
   },
   {
    "duration": 283,
    "start_time": "2022-08-30T05:27:16.651Z"
   },
   {
    "duration": 93,
    "start_time": "2022-08-30T05:27:16.936Z"
   },
   {
    "duration": 0,
    "start_time": "2022-08-30T05:27:17.031Z"
   },
   {
    "duration": 8,
    "start_time": "2022-08-30T05:27:46.215Z"
   },
   {
    "duration": 14,
    "start_time": "2022-08-30T05:27:48.672Z"
   },
   {
    "duration": 15,
    "start_time": "2022-08-30T05:27:57.263Z"
   },
   {
    "duration": 1079,
    "start_time": "2022-08-30T05:28:10.310Z"
   },
   {
    "duration": 76,
    "start_time": "2022-08-30T05:28:11.390Z"
   },
   {
    "duration": 4,
    "start_time": "2022-08-30T05:28:11.467Z"
   },
   {
    "duration": 24,
    "start_time": "2022-08-30T05:28:11.473Z"
   },
   {
    "duration": 11,
    "start_time": "2022-08-30T05:28:11.499Z"
   },
   {
    "duration": 38,
    "start_time": "2022-08-30T05:28:11.512Z"
   },
   {
    "duration": 12,
    "start_time": "2022-08-30T05:28:11.552Z"
   },
   {
    "duration": 31,
    "start_time": "2022-08-30T05:28:11.566Z"
   },
   {
    "duration": 15,
    "start_time": "2022-08-30T05:28:11.598Z"
   },
   {
    "duration": 235,
    "start_time": "2022-08-30T05:28:11.615Z"
   },
   {
    "duration": 9,
    "start_time": "2022-08-30T05:28:11.852Z"
   },
   {
    "duration": 138,
    "start_time": "2022-08-30T05:28:11.862Z"
   },
   {
    "duration": 15,
    "start_time": "2022-08-30T05:28:12.002Z"
   },
   {
    "duration": 205,
    "start_time": "2022-08-30T05:28:12.019Z"
   },
   {
    "duration": 6,
    "start_time": "2022-08-30T05:28:12.226Z"
   },
   {
    "duration": 269,
    "start_time": "2022-08-30T05:28:12.233Z"
   },
   {
    "duration": 12,
    "start_time": "2022-08-30T05:28:12.504Z"
   },
   {
    "duration": 220,
    "start_time": "2022-08-30T05:28:12.518Z"
   },
   {
    "duration": 1080,
    "start_time": "2022-08-30T05:28:41.104Z"
   },
   {
    "duration": 76,
    "start_time": "2022-08-30T05:28:42.186Z"
   },
   {
    "duration": 4,
    "start_time": "2022-08-30T05:28:42.263Z"
   },
   {
    "duration": 17,
    "start_time": "2022-08-30T05:28:42.269Z"
   },
   {
    "duration": 6,
    "start_time": "2022-08-30T05:28:42.287Z"
   },
   {
    "duration": 38,
    "start_time": "2022-08-30T05:28:42.294Z"
   },
   {
    "duration": 8,
    "start_time": "2022-08-30T05:28:42.333Z"
   },
   {
    "duration": 21,
    "start_time": "2022-08-30T05:28:42.342Z"
   },
   {
    "duration": 10,
    "start_time": "2022-08-30T05:28:42.364Z"
   },
   {
    "duration": 231,
    "start_time": "2022-08-30T05:28:42.376Z"
   },
   {
    "duration": 10,
    "start_time": "2022-08-30T05:28:42.608Z"
   },
   {
    "duration": 137,
    "start_time": "2022-08-30T05:28:42.620Z"
   },
   {
    "duration": 14,
    "start_time": "2022-08-30T05:28:42.758Z"
   },
   {
    "duration": 225,
    "start_time": "2022-08-30T05:28:42.774Z"
   },
   {
    "duration": 12,
    "start_time": "2022-08-30T05:28:43.002Z"
   },
   {
    "duration": 315,
    "start_time": "2022-08-30T05:28:43.016Z"
   },
   {
    "duration": 13,
    "start_time": "2022-08-30T05:28:43.333Z"
   },
   {
    "duration": 204,
    "start_time": "2022-08-30T05:28:43.347Z"
   },
   {
    "duration": 9,
    "start_time": "2022-08-30T05:30:13.851Z"
   },
   {
    "duration": 1094,
    "start_time": "2022-08-30T05:37:24.072Z"
   },
   {
    "duration": 74,
    "start_time": "2022-08-30T05:37:25.167Z"
   },
   {
    "duration": 3,
    "start_time": "2022-08-30T05:37:25.243Z"
   },
   {
    "duration": 15,
    "start_time": "2022-08-30T05:37:25.248Z"
   },
   {
    "duration": 17,
    "start_time": "2022-08-30T05:37:25.264Z"
   },
   {
    "duration": 47,
    "start_time": "2022-08-30T05:37:25.282Z"
   },
   {
    "duration": 8,
    "start_time": "2022-08-30T05:37:25.330Z"
   },
   {
    "duration": 41,
    "start_time": "2022-08-30T05:37:25.339Z"
   },
   {
    "duration": 15,
    "start_time": "2022-08-30T05:37:25.381Z"
   },
   {
    "duration": 217,
    "start_time": "2022-08-30T05:37:25.398Z"
   },
   {
    "duration": 8,
    "start_time": "2022-08-30T05:37:25.616Z"
   },
   {
    "duration": 123,
    "start_time": "2022-08-30T05:37:25.626Z"
   },
   {
    "duration": 14,
    "start_time": "2022-08-30T05:37:25.751Z"
   },
   {
    "duration": 233,
    "start_time": "2022-08-30T05:37:25.766Z"
   },
   {
    "duration": 6,
    "start_time": "2022-08-30T05:37:26.008Z"
   },
   {
    "duration": 290,
    "start_time": "2022-08-30T05:37:26.016Z"
   },
   {
    "duration": 12,
    "start_time": "2022-08-30T05:37:26.308Z"
   },
   {
    "duration": 214,
    "start_time": "2022-08-30T05:37:26.322Z"
   },
   {
    "duration": 8,
    "start_time": "2022-08-30T05:37:26.538Z"
   },
   {
    "duration": 1394,
    "start_time": "2022-08-31T04:27:36.751Z"
   },
   {
    "duration": 234,
    "start_time": "2022-08-31T04:27:38.147Z"
   },
   {
    "duration": 5,
    "start_time": "2022-08-31T04:27:38.383Z"
   },
   {
    "duration": 18,
    "start_time": "2022-08-31T04:27:38.390Z"
   },
   {
    "duration": 7,
    "start_time": "2022-08-31T04:27:38.409Z"
   },
   {
    "duration": 34,
    "start_time": "2022-08-31T04:27:38.418Z"
   },
   {
    "duration": 12,
    "start_time": "2022-08-31T04:27:38.454Z"
   },
   {
    "duration": 39,
    "start_time": "2022-08-31T04:27:38.467Z"
   },
   {
    "duration": 12,
    "start_time": "2022-08-31T04:27:38.508Z"
   },
   {
    "duration": 259,
    "start_time": "2022-08-31T04:27:38.522Z"
   },
   {
    "duration": 16,
    "start_time": "2022-08-31T04:27:38.783Z"
   },
   {
    "duration": 134,
    "start_time": "2022-08-31T04:27:38.801Z"
   },
   {
    "duration": 23,
    "start_time": "2022-08-31T04:27:38.937Z"
   },
   {
    "duration": 241,
    "start_time": "2022-08-31T04:27:38.962Z"
   },
   {
    "duration": 7,
    "start_time": "2022-08-31T04:27:39.205Z"
   },
   {
    "duration": 330,
    "start_time": "2022-08-31T04:27:39.214Z"
   },
   {
    "duration": 13,
    "start_time": "2022-08-31T04:27:39.546Z"
   },
   {
    "duration": 248,
    "start_time": "2022-08-31T04:27:39.561Z"
   },
   {
    "duration": 10,
    "start_time": "2022-08-31T04:27:39.810Z"
   },
   {
    "duration": 58,
    "start_time": "2022-08-31T04:36:32.715Z"
   },
   {
    "duration": 106,
    "start_time": "2022-08-31T04:36:57.120Z"
   },
   {
    "duration": 46,
    "start_time": "2022-08-31T04:37:03.085Z"
   },
   {
    "duration": 20,
    "start_time": "2022-08-31T04:39:57.104Z"
   },
   {
    "duration": 14,
    "start_time": "2022-08-31T04:48:45.071Z"
   },
   {
    "duration": 15,
    "start_time": "2022-08-31T04:49:00.750Z"
   },
   {
    "duration": 22,
    "start_time": "2022-08-31T04:49:08.861Z"
   },
   {
    "duration": 37,
    "start_time": "2022-08-31T04:49:28.559Z"
   },
   {
    "duration": 22,
    "start_time": "2022-08-31T04:52:19.417Z"
   },
   {
    "duration": 19,
    "start_time": "2022-08-31T04:52:28.063Z"
   },
   {
    "duration": 0,
    "start_time": "2022-08-31T04:59:29.451Z"
   },
   {
    "duration": 1495,
    "start_time": "2022-08-31T04:59:52.174Z"
   },
   {
    "duration": 89,
    "start_time": "2022-08-31T04:59:53.671Z"
   },
   {
    "duration": 5,
    "start_time": "2022-08-31T04:59:53.761Z"
   },
   {
    "duration": 67,
    "start_time": "2022-08-31T04:59:53.768Z"
   },
   {
    "duration": 10,
    "start_time": "2022-08-31T04:59:53.837Z"
   },
   {
    "duration": 71,
    "start_time": "2022-08-31T04:59:53.849Z"
   },
   {
    "duration": 17,
    "start_time": "2022-08-31T04:59:53.923Z"
   },
   {
    "duration": 41,
    "start_time": "2022-08-31T04:59:53.942Z"
   },
   {
    "duration": 17,
    "start_time": "2022-08-31T04:59:53.985Z"
   },
   {
    "duration": 255,
    "start_time": "2022-08-31T04:59:54.005Z"
   },
   {
    "duration": 11,
    "start_time": "2022-08-31T04:59:54.263Z"
   },
   {
    "duration": 150,
    "start_time": "2022-08-31T04:59:54.276Z"
   },
   {
    "duration": 15,
    "start_time": "2022-08-31T04:59:54.428Z"
   },
   {
    "duration": 244,
    "start_time": "2022-08-31T04:59:54.445Z"
   },
   {
    "duration": 6,
    "start_time": "2022-08-31T04:59:54.692Z"
   },
   {
    "duration": 305,
    "start_time": "2022-08-31T04:59:54.699Z"
   },
   {
    "duration": 13,
    "start_time": "2022-08-31T04:59:55.006Z"
   },
   {
    "duration": 253,
    "start_time": "2022-08-31T04:59:55.020Z"
   },
   {
    "duration": 18,
    "start_time": "2022-08-31T04:59:55.275Z"
   },
   {
    "duration": 46,
    "start_time": "2022-08-31T04:59:55.295Z"
   },
   {
    "duration": 25,
    "start_time": "2022-08-31T04:59:55.342Z"
   },
   {
    "duration": 40634,
    "start_time": "2022-08-31T04:59:55.391Z"
   },
   {
    "duration": 22,
    "start_time": "2022-08-31T05:01:14.841Z"
   },
   {
    "duration": 280,
    "start_time": "2022-08-31T05:01:17.985Z"
   },
   {
    "duration": 254,
    "start_time": "2022-08-31T05:02:14.043Z"
   },
   {
    "duration": 22,
    "start_time": "2022-08-31T05:11:30.512Z"
   },
   {
    "duration": 239,
    "start_time": "2022-08-31T05:11:51.377Z"
   },
   {
    "duration": 1192,
    "start_time": "2022-08-31T05:22:50.612Z"
   },
   {
    "duration": 97,
    "start_time": "2022-08-31T05:22:51.807Z"
   },
   {
    "duration": 5,
    "start_time": "2022-08-31T05:22:51.906Z"
   },
   {
    "duration": 24,
    "start_time": "2022-08-31T05:22:51.912Z"
   },
   {
    "duration": 21,
    "start_time": "2022-08-31T05:22:51.940Z"
   },
   {
    "duration": 57,
    "start_time": "2022-08-31T05:22:51.963Z"
   },
   {
    "duration": 13,
    "start_time": "2022-08-31T05:22:52.022Z"
   },
   {
    "duration": 47,
    "start_time": "2022-08-31T05:22:52.038Z"
   },
   {
    "duration": 22,
    "start_time": "2022-08-31T05:22:52.090Z"
   },
   {
    "duration": 287,
    "start_time": "2022-08-31T05:22:52.115Z"
   },
   {
    "duration": 11,
    "start_time": "2022-08-31T05:22:52.404Z"
   },
   {
    "duration": 147,
    "start_time": "2022-08-31T05:22:52.417Z"
   },
   {
    "duration": 15,
    "start_time": "2022-08-31T05:22:52.566Z"
   },
   {
    "duration": 248,
    "start_time": "2022-08-31T05:22:52.594Z"
   },
   {
    "duration": 7,
    "start_time": "2022-08-31T05:22:52.844Z"
   },
   {
    "duration": 323,
    "start_time": "2022-08-31T05:22:52.853Z"
   },
   {
    "duration": 15,
    "start_time": "2022-08-31T05:22:53.178Z"
   },
   {
    "duration": 253,
    "start_time": "2022-08-31T05:22:53.195Z"
   },
   {
    "duration": 10,
    "start_time": "2022-08-31T05:22:53.451Z"
   },
   {
    "duration": 81,
    "start_time": "2022-08-31T05:22:53.464Z"
   },
   {
    "duration": 25,
    "start_time": "2022-08-31T05:22:53.549Z"
   },
   {
    "duration": 253,
    "start_time": "2022-08-31T05:22:53.576Z"
   },
   {
    "duration": 18,
    "start_time": "2022-08-31T05:35:12.602Z"
   },
   {
    "duration": 16,
    "start_time": "2022-08-31T05:35:19.690Z"
   },
   {
    "duration": 144,
    "start_time": "2022-08-31T05:35:32.095Z"
   },
   {
    "duration": 20,
    "start_time": "2022-08-31T05:35:35.838Z"
   },
   {
    "duration": 13,
    "start_time": "2022-08-31T05:35:59.506Z"
   },
   {
    "duration": 1231,
    "start_time": "2022-08-31T05:46:30.837Z"
   },
   {
    "duration": 94,
    "start_time": "2022-08-31T05:46:32.071Z"
   },
   {
    "duration": 4,
    "start_time": "2022-08-31T05:46:32.167Z"
   },
   {
    "duration": 40,
    "start_time": "2022-08-31T05:46:32.172Z"
   },
   {
    "duration": 9,
    "start_time": "2022-08-31T05:46:32.215Z"
   },
   {
    "duration": 50,
    "start_time": "2022-08-31T05:46:32.226Z"
   },
   {
    "duration": 14,
    "start_time": "2022-08-31T05:46:32.277Z"
   },
   {
    "duration": 35,
    "start_time": "2022-08-31T05:46:32.293Z"
   },
   {
    "duration": 18,
    "start_time": "2022-08-31T05:46:32.329Z"
   },
   {
    "duration": 241,
    "start_time": "2022-08-31T05:46:32.349Z"
   },
   {
    "duration": 10,
    "start_time": "2022-08-31T05:46:32.592Z"
   },
   {
    "duration": 139,
    "start_time": "2022-08-31T05:46:32.604Z"
   },
   {
    "duration": 14,
    "start_time": "2022-08-31T05:46:32.745Z"
   },
   {
    "duration": 247,
    "start_time": "2022-08-31T05:46:32.762Z"
   },
   {
    "duration": 7,
    "start_time": "2022-08-31T05:46:33.010Z"
   },
   {
    "duration": 309,
    "start_time": "2022-08-31T05:46:33.019Z"
   },
   {
    "duration": 15,
    "start_time": "2022-08-31T05:46:33.330Z"
   },
   {
    "duration": 230,
    "start_time": "2022-08-31T05:46:33.348Z"
   },
   {
    "duration": 15,
    "start_time": "2022-08-31T05:46:33.580Z"
   },
   {
    "duration": 52,
    "start_time": "2022-08-31T05:46:33.597Z"
   },
   {
    "duration": 40,
    "start_time": "2022-08-31T05:46:33.652Z"
   },
   {
    "duration": 248,
    "start_time": "2022-08-31T05:46:33.695Z"
   },
   {
    "duration": 16,
    "start_time": "2022-08-31T05:46:33.945Z"
   },
   {
    "duration": 1172,
    "start_time": "2022-09-02T04:53:39.755Z"
   },
   {
    "duration": 259,
    "start_time": "2022-09-02T04:53:40.929Z"
   },
   {
    "duration": 3,
    "start_time": "2022-09-02T04:53:41.189Z"
   },
   {
    "duration": 14,
    "start_time": "2022-09-02T04:53:41.194Z"
   },
   {
    "duration": 9,
    "start_time": "2022-09-02T04:53:41.209Z"
   },
   {
    "duration": 32,
    "start_time": "2022-09-02T04:53:41.219Z"
   },
   {
    "duration": 9,
    "start_time": "2022-09-02T04:53:41.253Z"
   },
   {
    "duration": 19,
    "start_time": "2022-09-02T04:53:41.264Z"
   },
   {
    "duration": 10,
    "start_time": "2022-09-02T04:53:41.284Z"
   },
   {
    "duration": 219,
    "start_time": "2022-09-02T04:53:41.296Z"
   },
   {
    "duration": 9,
    "start_time": "2022-09-02T04:53:41.516Z"
   },
   {
    "duration": 131,
    "start_time": "2022-09-02T04:53:41.526Z"
   },
   {
    "duration": 13,
    "start_time": "2022-09-02T04:53:41.659Z"
   },
   {
    "duration": 204,
    "start_time": "2022-09-02T04:53:41.673Z"
   },
   {
    "duration": 5,
    "start_time": "2022-09-02T04:53:41.878Z"
   },
   {
    "duration": 245,
    "start_time": "2022-09-02T04:53:41.884Z"
   },
   {
    "duration": 12,
    "start_time": "2022-09-02T04:53:42.130Z"
   },
   {
    "duration": 217,
    "start_time": "2022-09-02T04:53:42.143Z"
   },
   {
    "duration": 9,
    "start_time": "2022-09-02T04:53:42.361Z"
   },
   {
    "duration": 41,
    "start_time": "2022-09-02T04:53:42.372Z"
   },
   {
    "duration": 38,
    "start_time": "2022-09-02T04:53:42.415Z"
   },
   {
    "duration": 233,
    "start_time": "2022-09-02T04:53:42.454Z"
   },
   {
    "duration": 12,
    "start_time": "2022-09-02T04:53:42.689Z"
   },
   {
    "duration": 406,
    "start_time": "2022-09-02T04:54:23.264Z"
   },
   {
    "duration": 235,
    "start_time": "2022-09-02T04:55:06.723Z"
   },
   {
    "duration": 326,
    "start_time": "2022-09-02T04:56:02.168Z"
   },
   {
    "duration": 1802,
    "start_time": "2022-09-02T04:58:24.298Z"
   },
   {
    "duration": 1662,
    "start_time": "2022-09-02T04:58:39.282Z"
   },
   {
    "duration": 2,
    "start_time": "2022-09-02T04:58:50.836Z"
   },
   {
    "duration": 1767,
    "start_time": "2022-09-02T04:59:58.165Z"
   },
   {
    "duration": 2099,
    "start_time": "2022-09-02T05:00:42.226Z"
   },
   {
    "duration": 1688,
    "start_time": "2022-09-02T05:06:51.780Z"
   },
   {
    "duration": 1036,
    "start_time": "2022-09-02T05:07:23.484Z"
   },
   {
    "duration": 72,
    "start_time": "2022-09-02T05:07:24.521Z"
   },
   {
    "duration": 3,
    "start_time": "2022-09-02T05:07:24.595Z"
   },
   {
    "duration": 19,
    "start_time": "2022-09-02T05:07:24.600Z"
   },
   {
    "duration": 6,
    "start_time": "2022-09-02T05:07:24.621Z"
   },
   {
    "duration": 33,
    "start_time": "2022-09-02T05:07:24.629Z"
   },
   {
    "duration": 8,
    "start_time": "2022-09-02T05:07:24.663Z"
   },
   {
    "duration": 29,
    "start_time": "2022-09-02T05:07:24.673Z"
   },
   {
    "duration": 11,
    "start_time": "2022-09-02T05:07:24.703Z"
   },
   {
    "duration": 216,
    "start_time": "2022-09-02T05:07:24.717Z"
   },
   {
    "duration": 11,
    "start_time": "2022-09-02T05:07:24.935Z"
   },
   {
    "duration": 119,
    "start_time": "2022-09-02T05:07:24.948Z"
   },
   {
    "duration": 13,
    "start_time": "2022-09-02T05:07:25.069Z"
   },
   {
    "duration": 212,
    "start_time": "2022-09-02T05:07:25.083Z"
   },
   {
    "duration": 6,
    "start_time": "2022-09-02T05:07:25.296Z"
   },
   {
    "duration": 254,
    "start_time": "2022-09-02T05:07:25.303Z"
   },
   {
    "duration": 11,
    "start_time": "2022-09-02T05:07:25.559Z"
   },
   {
    "duration": 205,
    "start_time": "2022-09-02T05:07:25.571Z"
   },
   {
    "duration": 9,
    "start_time": "2022-09-02T05:07:25.777Z"
   },
   {
    "duration": 52,
    "start_time": "2022-09-02T05:07:25.787Z"
   },
   {
    "duration": 22,
    "start_time": "2022-09-02T05:07:25.840Z"
   },
   {
    "duration": 223,
    "start_time": "2022-09-02T05:07:25.864Z"
   },
   {
    "duration": 1580,
    "start_time": "2022-09-02T05:07:26.088Z"
   },
   {
    "duration": 12,
    "start_time": "2022-09-02T05:07:27.670Z"
   },
   {
    "duration": 11,
    "start_time": "2022-09-02T05:11:18.943Z"
   },
   {
    "duration": 16,
    "start_time": "2022-09-02T05:12:52.253Z"
   },
   {
    "duration": 23,
    "start_time": "2022-09-02T05:13:01.670Z"
   },
   {
    "duration": 21,
    "start_time": "2022-09-02T05:13:14.031Z"
   },
   {
    "duration": 1038,
    "start_time": "2022-09-02T05:13:40.476Z"
   },
   {
    "duration": 73,
    "start_time": "2022-09-02T05:13:41.516Z"
   },
   {
    "duration": 3,
    "start_time": "2022-09-02T05:13:41.591Z"
   },
   {
    "duration": 15,
    "start_time": "2022-09-02T05:13:41.596Z"
   },
   {
    "duration": 5,
    "start_time": "2022-09-02T05:13:41.613Z"
   },
   {
    "duration": 37,
    "start_time": "2022-09-02T05:13:41.619Z"
   },
   {
    "duration": 7,
    "start_time": "2022-09-02T05:13:41.658Z"
   },
   {
    "duration": 23,
    "start_time": "2022-09-02T05:13:41.666Z"
   },
   {
    "duration": 12,
    "start_time": "2022-09-02T05:13:41.692Z"
   },
   {
    "duration": 223,
    "start_time": "2022-09-02T05:13:41.706Z"
   },
   {
    "duration": 13,
    "start_time": "2022-09-02T05:13:41.931Z"
   },
   {
    "duration": 113,
    "start_time": "2022-09-02T05:13:41.946Z"
   },
   {
    "duration": 12,
    "start_time": "2022-09-02T05:13:42.061Z"
   },
   {
    "duration": 209,
    "start_time": "2022-09-02T05:13:42.074Z"
   },
   {
    "duration": 5,
    "start_time": "2022-09-02T05:13:42.284Z"
   },
   {
    "duration": 267,
    "start_time": "2022-09-02T05:13:42.290Z"
   },
   {
    "duration": 13,
    "start_time": "2022-09-02T05:13:42.559Z"
   },
   {
    "duration": 194,
    "start_time": "2022-09-02T05:13:42.573Z"
   },
   {
    "duration": 9,
    "start_time": "2022-09-02T05:13:42.768Z"
   },
   {
    "duration": 41,
    "start_time": "2022-09-02T05:13:42.779Z"
   },
   {
    "duration": 35,
    "start_time": "2022-09-02T05:13:42.822Z"
   },
   {
    "duration": 218,
    "start_time": "2022-09-02T05:13:42.859Z"
   },
   {
    "duration": 2520,
    "start_time": "2022-09-02T05:13:43.078Z"
   },
   {
    "duration": 17,
    "start_time": "2022-09-02T05:13:45.600Z"
   },
   {
    "duration": 102,
    "start_time": "2022-09-02T05:13:45.619Z"
   },
   {
    "duration": 0,
    "start_time": "2022-09-02T05:13:45.722Z"
   },
   {
    "duration": 0,
    "start_time": "2022-09-02T05:13:45.724Z"
   },
   {
    "duration": 1094,
    "start_time": "2022-09-02T05:14:40.114Z"
   },
   {
    "duration": 73,
    "start_time": "2022-09-02T05:14:41.210Z"
   },
   {
    "duration": 3,
    "start_time": "2022-09-02T05:14:41.285Z"
   },
   {
    "duration": 29,
    "start_time": "2022-09-02T05:14:41.290Z"
   },
   {
    "duration": 21,
    "start_time": "2022-09-02T05:14:41.320Z"
   },
   {
    "duration": 36,
    "start_time": "2022-09-02T05:14:41.342Z"
   },
   {
    "duration": 14,
    "start_time": "2022-09-02T05:14:41.379Z"
   },
   {
    "duration": 25,
    "start_time": "2022-09-02T05:14:41.394Z"
   },
   {
    "duration": 18,
    "start_time": "2022-09-02T05:14:41.420Z"
   },
   {
    "duration": 222,
    "start_time": "2022-09-02T05:14:41.441Z"
   },
   {
    "duration": 9,
    "start_time": "2022-09-02T05:14:41.664Z"
   },
   {
    "duration": 124,
    "start_time": "2022-09-02T05:14:41.675Z"
   },
   {
    "duration": 13,
    "start_time": "2022-09-02T05:14:41.800Z"
   },
   {
    "duration": 219,
    "start_time": "2022-09-02T05:14:41.814Z"
   },
   {
    "duration": 5,
    "start_time": "2022-09-02T05:14:42.035Z"
   },
   {
    "duration": 256,
    "start_time": "2022-09-02T05:14:42.041Z"
   },
   {
    "duration": 11,
    "start_time": "2022-09-02T05:14:42.299Z"
   },
   {
    "duration": 210,
    "start_time": "2022-09-02T05:14:42.312Z"
   },
   {
    "duration": 8,
    "start_time": "2022-09-02T05:14:42.524Z"
   },
   {
    "duration": 46,
    "start_time": "2022-09-02T05:14:42.533Z"
   },
   {
    "duration": 20,
    "start_time": "2022-09-02T05:14:42.580Z"
   },
   {
    "duration": 223,
    "start_time": "2022-09-02T05:14:42.601Z"
   },
   {
    "duration": 1574,
    "start_time": "2022-09-02T05:14:42.826Z"
   },
   {
    "duration": 16,
    "start_time": "2022-09-02T05:14:44.401Z"
   },
   {
    "duration": 50,
    "start_time": "2022-09-02T05:14:44.419Z"
   },
   {
    "duration": 0,
    "start_time": "2022-09-02T05:14:44.471Z"
   },
   {
    "duration": 0,
    "start_time": "2022-09-02T05:14:44.472Z"
   },
   {
    "duration": 99,
    "start_time": "2022-09-02T05:15:20.978Z"
   },
   {
    "duration": 4,
    "start_time": "2022-09-02T05:15:25.170Z"
   },
   {
    "duration": 9,
    "start_time": "2022-09-02T05:15:31.482Z"
   },
   {
    "duration": 4,
    "start_time": "2022-09-02T05:15:36.605Z"
   },
   {
    "duration": 9,
    "start_time": "2022-09-02T05:18:50.870Z"
   },
   {
    "duration": 48,
    "start_time": "2022-09-02T05:23:23.808Z"
   },
   {
    "duration": 9,
    "start_time": "2022-09-02T05:23:37.181Z"
   },
   {
    "duration": 4,
    "start_time": "2022-09-02T05:23:39.864Z"
   },
   {
    "duration": 4,
    "start_time": "2022-09-02T05:23:47.193Z"
   },
   {
    "duration": 45,
    "start_time": "2022-09-02T05:24:35.531Z"
   },
   {
    "duration": 21,
    "start_time": "2022-09-02T05:36:12.321Z"
   },
   {
    "duration": 18,
    "start_time": "2022-09-02T05:36:59.925Z"
   },
   {
    "duration": 124,
    "start_time": "2022-09-02T05:37:20.091Z"
   },
   {
    "duration": 212,
    "start_time": "2022-09-02T05:38:59.700Z"
   },
   {
    "duration": 1024,
    "start_time": "2022-09-02T05:41:38.895Z"
   },
   {
    "duration": 74,
    "start_time": "2022-09-02T05:41:39.920Z"
   },
   {
    "duration": 3,
    "start_time": "2022-09-02T05:41:39.996Z"
   },
   {
    "duration": 17,
    "start_time": "2022-09-02T05:41:40.000Z"
   },
   {
    "duration": 5,
    "start_time": "2022-09-02T05:41:40.018Z"
   },
   {
    "duration": 38,
    "start_time": "2022-09-02T05:41:40.025Z"
   },
   {
    "duration": 8,
    "start_time": "2022-09-02T05:41:40.065Z"
   },
   {
    "duration": 19,
    "start_time": "2022-09-02T05:41:40.074Z"
   },
   {
    "duration": 11,
    "start_time": "2022-09-02T05:41:40.095Z"
   },
   {
    "duration": 251,
    "start_time": "2022-09-02T05:41:40.109Z"
   },
   {
    "duration": 10,
    "start_time": "2022-09-02T05:41:40.361Z"
   },
   {
    "duration": 123,
    "start_time": "2022-09-02T05:41:40.373Z"
   },
   {
    "duration": 14,
    "start_time": "2022-09-02T05:41:40.498Z"
   },
   {
    "duration": 218,
    "start_time": "2022-09-02T05:41:40.514Z"
   },
   {
    "duration": 8,
    "start_time": "2022-09-02T05:41:40.734Z"
   },
   {
    "duration": 269,
    "start_time": "2022-09-02T05:41:40.744Z"
   },
   {
    "duration": 12,
    "start_time": "2022-09-02T05:41:41.015Z"
   },
   {
    "duration": 204,
    "start_time": "2022-09-02T05:41:41.029Z"
   },
   {
    "duration": 10,
    "start_time": "2022-09-02T05:41:41.234Z"
   },
   {
    "duration": 50,
    "start_time": "2022-09-02T05:41:41.246Z"
   },
   {
    "duration": 2643,
    "start_time": "2022-09-02T05:41:41.298Z"
   },
   {
    "duration": 56,
    "start_time": "2022-09-02T05:41:43.943Z"
   },
   {
    "duration": 162,
    "start_time": "2022-09-02T05:41:44.001Z"
   },
   {
    "duration": 298,
    "start_time": "2022-09-02T05:41:44.165Z"
   },
   {
    "duration": 13,
    "start_time": "2022-09-02T05:41:44.464Z"
   },
   {
    "duration": 12,
    "start_time": "2022-09-02T05:42:23.358Z"
   },
   {
    "duration": 14,
    "start_time": "2022-09-02T05:42:30.147Z"
   },
   {
    "duration": 30,
    "start_time": "2022-09-02T05:43:47.307Z"
   },
   {
    "duration": 145,
    "start_time": "2022-09-02T05:43:51.841Z"
   },
   {
    "duration": 211,
    "start_time": "2022-09-02T05:44:02.804Z"
   },
   {
    "duration": 15,
    "start_time": "2022-09-02T05:44:08.550Z"
   },
   {
    "duration": 39,
    "start_time": "2022-09-02T05:44:43.800Z"
   },
   {
    "duration": 58,
    "start_time": "2022-09-02T05:45:05.783Z"
   },
   {
    "duration": 2529,
    "start_time": "2022-09-02T05:45:36.084Z"
   },
   {
    "duration": 74,
    "start_time": "2022-09-02T05:45:38.614Z"
   },
   {
    "duration": 3,
    "start_time": "2022-09-02T05:45:38.690Z"
   },
   {
    "duration": 13,
    "start_time": "2022-09-02T05:45:38.696Z"
   },
   {
    "duration": 11,
    "start_time": "2022-09-02T05:45:38.710Z"
   },
   {
    "duration": 39,
    "start_time": "2022-09-02T05:45:38.723Z"
   },
   {
    "duration": 9,
    "start_time": "2022-09-02T05:45:38.763Z"
   },
   {
    "duration": 27,
    "start_time": "2022-09-02T05:45:38.774Z"
   },
   {
    "duration": 10,
    "start_time": "2022-09-02T05:45:38.803Z"
   },
   {
    "duration": 286,
    "start_time": "2022-09-02T05:45:38.816Z"
   },
   {
    "duration": 9,
    "start_time": "2022-09-02T05:45:39.104Z"
   },
   {
    "duration": 134,
    "start_time": "2022-09-02T05:45:39.114Z"
   },
   {
    "duration": 14,
    "start_time": "2022-09-02T05:45:39.250Z"
   },
   {
    "duration": 212,
    "start_time": "2022-09-02T05:45:39.266Z"
   },
   {
    "duration": 6,
    "start_time": "2022-09-02T05:45:39.480Z"
   },
   {
    "duration": 278,
    "start_time": "2022-09-02T05:45:39.488Z"
   },
   {
    "duration": 12,
    "start_time": "2022-09-02T05:45:39.767Z"
   },
   {
    "duration": 231,
    "start_time": "2022-09-02T05:45:39.780Z"
   },
   {
    "duration": 9,
    "start_time": "2022-09-02T05:45:40.012Z"
   },
   {
    "duration": 53,
    "start_time": "2022-09-02T05:45:40.022Z"
   },
   {
    "duration": 1738,
    "start_time": "2022-09-02T05:45:40.077Z"
   },
   {
    "duration": 56,
    "start_time": "2022-09-02T05:45:41.817Z"
   },
   {
    "duration": 136,
    "start_time": "2022-09-02T05:45:41.874Z"
   },
   {
    "duration": 287,
    "start_time": "2022-09-02T05:45:42.011Z"
   },
   {
    "duration": 14,
    "start_time": "2022-09-02T05:45:42.299Z"
   },
   {
    "duration": 16,
    "start_time": "2022-09-02T05:46:57.085Z"
   },
   {
    "duration": 16,
    "start_time": "2022-09-02T05:47:05.352Z"
   },
   {
    "duration": 18,
    "start_time": "2022-09-02T05:47:12.957Z"
   },
   {
    "duration": 15,
    "start_time": "2022-09-02T05:48:47.559Z"
   },
   {
    "duration": 151,
    "start_time": "2022-09-02T05:51:17.875Z"
   },
   {
    "duration": 1026,
    "start_time": "2022-09-02T05:52:17.186Z"
   },
   {
    "duration": 73,
    "start_time": "2022-09-02T05:52:18.214Z"
   },
   {
    "duration": 3,
    "start_time": "2022-09-02T05:52:18.288Z"
   },
   {
    "duration": 15,
    "start_time": "2022-09-02T05:52:18.293Z"
   },
   {
    "duration": 6,
    "start_time": "2022-09-02T05:52:18.309Z"
   },
   {
    "duration": 46,
    "start_time": "2022-09-02T05:52:18.316Z"
   },
   {
    "duration": 7,
    "start_time": "2022-09-02T05:52:18.364Z"
   },
   {
    "duration": 24,
    "start_time": "2022-09-02T05:52:18.373Z"
   },
   {
    "duration": 11,
    "start_time": "2022-09-02T05:52:18.399Z"
   },
   {
    "duration": 234,
    "start_time": "2022-09-02T05:52:18.413Z"
   },
   {
    "duration": 10,
    "start_time": "2022-09-02T05:52:18.649Z"
   },
   {
    "duration": 123,
    "start_time": "2022-09-02T05:52:18.661Z"
   },
   {
    "duration": 14,
    "start_time": "2022-09-02T05:52:18.786Z"
   },
   {
    "duration": 293,
    "start_time": "2022-09-02T05:52:18.802Z"
   },
   {
    "duration": 6,
    "start_time": "2022-09-02T05:52:19.097Z"
   },
   {
    "duration": 285,
    "start_time": "2022-09-02T05:52:19.105Z"
   },
   {
    "duration": 13,
    "start_time": "2022-09-02T05:52:19.392Z"
   },
   {
    "duration": 198,
    "start_time": "2022-09-02T05:52:19.406Z"
   },
   {
    "duration": 9,
    "start_time": "2022-09-02T05:52:19.605Z"
   },
   {
    "duration": 51,
    "start_time": "2022-09-02T05:52:19.616Z"
   },
   {
    "duration": 2475,
    "start_time": "2022-09-02T05:52:19.668Z"
   },
   {
    "duration": 51,
    "start_time": "2022-09-02T05:52:22.144Z"
   },
   {
    "duration": 129,
    "start_time": "2022-09-02T05:52:22.197Z"
   },
   {
    "duration": 285,
    "start_time": "2022-09-02T05:52:22.328Z"
   },
   {
    "duration": 117,
    "start_time": "2022-09-02T05:52:22.614Z"
   },
   {
    "duration": 1263,
    "start_time": "2022-09-03T04:16:03.354Z"
   },
   {
    "duration": 261,
    "start_time": "2022-09-03T04:16:04.618Z"
   },
   {
    "duration": 3,
    "start_time": "2022-09-03T04:16:04.880Z"
   },
   {
    "duration": 14,
    "start_time": "2022-09-03T04:16:04.885Z"
   },
   {
    "duration": 6,
    "start_time": "2022-09-03T04:16:04.900Z"
   },
   {
    "duration": 31,
    "start_time": "2022-09-03T04:16:04.907Z"
   },
   {
    "duration": 7,
    "start_time": "2022-09-03T04:16:04.940Z"
   },
   {
    "duration": 24,
    "start_time": "2022-09-03T04:16:04.949Z"
   },
   {
    "duration": 9,
    "start_time": "2022-09-03T04:16:04.975Z"
   },
   {
    "duration": 214,
    "start_time": "2022-09-03T04:16:04.986Z"
   },
   {
    "duration": 9,
    "start_time": "2022-09-03T04:16:05.201Z"
   },
   {
    "duration": 115,
    "start_time": "2022-09-03T04:16:05.211Z"
   },
   {
    "duration": 21,
    "start_time": "2022-09-03T04:16:05.327Z"
   },
   {
    "duration": 211,
    "start_time": "2022-09-03T04:16:05.350Z"
   },
   {
    "duration": 6,
    "start_time": "2022-09-03T04:16:05.562Z"
   },
   {
    "duration": 255,
    "start_time": "2022-09-03T04:16:05.570Z"
   },
   {
    "duration": 11,
    "start_time": "2022-09-03T04:16:05.827Z"
   },
   {
    "duration": 201,
    "start_time": "2022-09-03T04:16:05.839Z"
   },
   {
    "duration": 7,
    "start_time": "2022-09-03T04:16:06.042Z"
   },
   {
    "duration": 59,
    "start_time": "2022-09-03T04:16:06.050Z"
   },
   {
    "duration": 2703,
    "start_time": "2022-09-03T04:16:06.111Z"
   },
   {
    "duration": 70,
    "start_time": "2022-09-03T04:16:08.815Z"
   },
   {
    "duration": 185,
    "start_time": "2022-09-03T04:16:08.886Z"
   },
   {
    "duration": 271,
    "start_time": "2022-09-03T04:16:09.073Z"
   },
   {
    "duration": 129,
    "start_time": "2022-09-03T04:16:09.346Z"
   },
   {
    "duration": 15,
    "start_time": "2022-09-03T04:16:39.266Z"
   },
   {
    "duration": 120,
    "start_time": "2022-09-03T04:16:53.672Z"
   },
   {
    "duration": 11,
    "start_time": "2022-09-03T04:18:00.973Z"
   },
   {
    "duration": 144,
    "start_time": "2022-09-03T04:18:26.214Z"
   },
   {
    "duration": 105,
    "start_time": "2022-09-03T04:19:33.778Z"
   },
   {
    "duration": 23,
    "start_time": "2022-09-03T04:19:41.666Z"
   },
   {
    "duration": 11,
    "start_time": "2022-09-03T04:20:23.245Z"
   },
   {
    "duration": 12,
    "start_time": "2022-09-03T04:22:30.537Z"
   },
   {
    "duration": 9,
    "start_time": "2022-09-03T04:23:12.546Z"
   },
   {
    "duration": 9,
    "start_time": "2022-09-03T04:23:17.805Z"
   },
   {
    "duration": 1009,
    "start_time": "2022-09-03T04:23:25.400Z"
   },
   {
    "duration": 73,
    "start_time": "2022-09-03T04:23:26.411Z"
   },
   {
    "duration": 3,
    "start_time": "2022-09-03T04:23:26.486Z"
   },
   {
    "duration": 14,
    "start_time": "2022-09-03T04:23:26.491Z"
   },
   {
    "duration": 10,
    "start_time": "2022-09-03T04:23:26.506Z"
   },
   {
    "duration": 36,
    "start_time": "2022-09-03T04:23:26.518Z"
   },
   {
    "duration": 7,
    "start_time": "2022-09-03T04:23:26.556Z"
   },
   {
    "duration": 22,
    "start_time": "2022-09-03T04:23:26.565Z"
   },
   {
    "duration": 9,
    "start_time": "2022-09-03T04:23:26.589Z"
   },
   {
    "duration": 215,
    "start_time": "2022-09-03T04:23:26.601Z"
   },
   {
    "duration": 9,
    "start_time": "2022-09-03T04:23:26.818Z"
   },
   {
    "duration": 109,
    "start_time": "2022-09-03T04:23:26.838Z"
   },
   {
    "duration": 13,
    "start_time": "2022-09-03T04:23:26.948Z"
   },
   {
    "duration": 207,
    "start_time": "2022-09-03T04:23:26.962Z"
   },
   {
    "duration": 5,
    "start_time": "2022-09-03T04:23:27.171Z"
   },
   {
    "duration": 256,
    "start_time": "2022-09-03T04:23:27.177Z"
   },
   {
    "duration": 12,
    "start_time": "2022-09-03T04:23:27.435Z"
   },
   {
    "duration": 206,
    "start_time": "2022-09-03T04:23:27.448Z"
   },
   {
    "duration": 8,
    "start_time": "2022-09-03T04:23:27.655Z"
   },
   {
    "duration": 47,
    "start_time": "2022-09-03T04:23:27.665Z"
   },
   {
    "duration": 2680,
    "start_time": "2022-09-03T04:23:27.714Z"
   },
   {
    "duration": 60,
    "start_time": "2022-09-03T04:23:30.396Z"
   },
   {
    "duration": 137,
    "start_time": "2022-09-03T04:23:30.457Z"
   },
   {
    "duration": 289,
    "start_time": "2022-09-03T04:23:30.596Z"
   },
   {
    "duration": 122,
    "start_time": "2022-09-03T04:23:30.887Z"
   },
   {
    "duration": 6,
    "start_time": "2022-09-03T04:23:31.011Z"
   },
   {
    "duration": 97,
    "start_time": "2022-09-03T04:24:29.263Z"
   },
   {
    "duration": 1143,
    "start_time": "2022-09-03T04:25:01.499Z"
   },
   {
    "duration": 75,
    "start_time": "2022-09-03T04:25:02.643Z"
   },
   {
    "duration": 4,
    "start_time": "2022-09-03T04:25:02.719Z"
   },
   {
    "duration": 18,
    "start_time": "2022-09-03T04:25:02.724Z"
   },
   {
    "duration": 21,
    "start_time": "2022-09-03T04:25:02.744Z"
   },
   {
    "duration": 47,
    "start_time": "2022-09-03T04:25:02.766Z"
   },
   {
    "duration": 8,
    "start_time": "2022-09-03T04:25:02.815Z"
   },
   {
    "duration": 28,
    "start_time": "2022-09-03T04:25:02.824Z"
   },
   {
    "duration": 11,
    "start_time": "2022-09-03T04:25:02.854Z"
   },
   {
    "duration": 223,
    "start_time": "2022-09-03T04:25:02.867Z"
   },
   {
    "duration": 9,
    "start_time": "2022-09-03T04:25:03.091Z"
   },
   {
    "duration": 123,
    "start_time": "2022-09-03T04:25:03.102Z"
   },
   {
    "duration": 21,
    "start_time": "2022-09-03T04:25:03.226Z"
   },
   {
    "duration": 227,
    "start_time": "2022-09-03T04:25:03.248Z"
   },
   {
    "duration": 6,
    "start_time": "2022-09-03T04:25:03.476Z"
   },
   {
    "duration": 258,
    "start_time": "2022-09-03T04:25:03.483Z"
   },
   {
    "duration": 12,
    "start_time": "2022-09-03T04:25:03.743Z"
   },
   {
    "duration": 209,
    "start_time": "2022-09-03T04:25:03.757Z"
   },
   {
    "duration": 8,
    "start_time": "2022-09-03T04:25:03.968Z"
   },
   {
    "duration": 79,
    "start_time": "2022-09-03T04:25:03.978Z"
   },
   {
    "duration": 1902,
    "start_time": "2022-09-03T04:25:04.059Z"
   },
   {
    "duration": 52,
    "start_time": "2022-09-03T04:25:05.962Z"
   },
   {
    "duration": 135,
    "start_time": "2022-09-03T04:25:06.015Z"
   },
   {
    "duration": 283,
    "start_time": "2022-09-03T04:25:06.152Z"
   },
   {
    "duration": 136,
    "start_time": "2022-09-03T04:25:06.438Z"
   },
   {
    "duration": 20,
    "start_time": "2022-09-03T04:25:06.576Z"
   },
   {
    "duration": 887,
    "start_time": "2022-09-03T04:25:57.019Z"
   },
   {
    "duration": 4,
    "start_time": "2022-09-03T04:26:10.764Z"
   },
   {
    "duration": 12,
    "start_time": "2022-09-03T04:26:20.966Z"
   },
   {
    "duration": 1032,
    "start_time": "2022-09-03T04:26:30.388Z"
   },
   {
    "duration": 73,
    "start_time": "2022-09-03T04:26:31.422Z"
   },
   {
    "duration": 3,
    "start_time": "2022-09-03T04:26:31.497Z"
   },
   {
    "duration": 24,
    "start_time": "2022-09-03T04:26:31.502Z"
   },
   {
    "duration": 24,
    "start_time": "2022-09-03T04:26:31.527Z"
   },
   {
    "duration": 33,
    "start_time": "2022-09-03T04:26:31.553Z"
   },
   {
    "duration": 22,
    "start_time": "2022-09-03T04:26:31.588Z"
   },
   {
    "duration": 38,
    "start_time": "2022-09-03T04:26:31.612Z"
   },
   {
    "duration": 21,
    "start_time": "2022-09-03T04:26:31.652Z"
   },
   {
    "duration": 215,
    "start_time": "2022-09-03T04:26:31.676Z"
   },
   {
    "duration": 10,
    "start_time": "2022-09-03T04:26:31.893Z"
   },
   {
    "duration": 121,
    "start_time": "2022-09-03T04:26:31.905Z"
   },
   {
    "duration": 21,
    "start_time": "2022-09-03T04:26:32.028Z"
   },
   {
    "duration": 201,
    "start_time": "2022-09-03T04:26:32.051Z"
   },
   {
    "duration": 6,
    "start_time": "2022-09-03T04:26:32.254Z"
   },
   {
    "duration": 271,
    "start_time": "2022-09-03T04:26:32.262Z"
   },
   {
    "duration": 12,
    "start_time": "2022-09-03T04:26:32.535Z"
   },
   {
    "duration": 210,
    "start_time": "2022-09-03T04:26:32.548Z"
   },
   {
    "duration": 8,
    "start_time": "2022-09-03T04:26:32.760Z"
   },
   {
    "duration": 41,
    "start_time": "2022-09-03T04:26:32.770Z"
   },
   {
    "duration": 1864,
    "start_time": "2022-09-03T04:26:32.812Z"
   },
   {
    "duration": 61,
    "start_time": "2022-09-03T04:26:34.678Z"
   },
   {
    "duration": 136,
    "start_time": "2022-09-03T04:26:34.741Z"
   },
   {
    "duration": 275,
    "start_time": "2022-09-03T04:26:34.879Z"
   },
   {
    "duration": 131,
    "start_time": "2022-09-03T04:26:35.156Z"
   },
   {
    "duration": 26,
    "start_time": "2022-09-03T04:26:35.288Z"
   },
   {
    "duration": 799,
    "start_time": "2022-09-03T04:26:35.315Z"
   },
   {
    "duration": 5,
    "start_time": "2022-09-03T04:27:05.253Z"
   },
   {
    "duration": 11,
    "start_time": "2022-09-03T04:27:44.867Z"
   },
   {
    "duration": 1171,
    "start_time": "2022-09-03T04:27:53.547Z"
   },
   {
    "duration": 74,
    "start_time": "2022-09-03T04:27:54.720Z"
   },
   {
    "duration": 3,
    "start_time": "2022-09-03T04:27:54.796Z"
   },
   {
    "duration": 14,
    "start_time": "2022-09-03T04:27:54.801Z"
   },
   {
    "duration": 5,
    "start_time": "2022-09-03T04:27:54.818Z"
   },
   {
    "duration": 29,
    "start_time": "2022-09-03T04:27:54.838Z"
   },
   {
    "duration": 10,
    "start_time": "2022-09-03T04:27:54.868Z"
   },
   {
    "duration": 36,
    "start_time": "2022-09-03T04:27:54.880Z"
   },
   {
    "duration": 27,
    "start_time": "2022-09-03T04:27:54.918Z"
   },
   {
    "duration": 227,
    "start_time": "2022-09-03T04:27:54.946Z"
   },
   {
    "duration": 10,
    "start_time": "2022-09-03T04:27:55.175Z"
   },
   {
    "duration": 132,
    "start_time": "2022-09-03T04:27:55.187Z"
   },
   {
    "duration": 23,
    "start_time": "2022-09-03T04:27:55.321Z"
   },
   {
    "duration": 207,
    "start_time": "2022-09-03T04:27:55.346Z"
   },
   {
    "duration": 6,
    "start_time": "2022-09-03T04:27:55.555Z"
   },
   {
    "duration": 275,
    "start_time": "2022-09-03T04:27:55.562Z"
   },
   {
    "duration": 13,
    "start_time": "2022-09-03T04:27:55.838Z"
   },
   {
    "duration": 219,
    "start_time": "2022-09-03T04:27:55.852Z"
   },
   {
    "duration": 11,
    "start_time": "2022-09-03T04:27:56.073Z"
   },
   {
    "duration": 64,
    "start_time": "2022-09-03T04:27:56.086Z"
   },
   {
    "duration": 1997,
    "start_time": "2022-09-03T04:27:56.152Z"
   },
   {
    "duration": 63,
    "start_time": "2022-09-03T04:27:58.151Z"
   },
   {
    "duration": 144,
    "start_time": "2022-09-03T04:27:58.216Z"
   },
   {
    "duration": 272,
    "start_time": "2022-09-03T04:27:58.362Z"
   },
   {
    "duration": 130,
    "start_time": "2022-09-03T04:27:58.637Z"
   },
   {
    "duration": 125,
    "start_time": "2022-09-03T04:27:58.768Z"
   },
   {
    "duration": 11,
    "start_time": "2022-09-03T04:28:56.896Z"
   },
   {
    "duration": 11,
    "start_time": "2022-09-03T04:29:11.802Z"
   },
   {
    "duration": 11,
    "start_time": "2022-09-03T04:29:32.686Z"
   },
   {
    "duration": 12,
    "start_time": "2022-09-03T04:29:41.348Z"
   },
   {
    "duration": 12,
    "start_time": "2022-09-03T04:29:51.988Z"
   },
   {
    "duration": 1115,
    "start_time": "2022-09-03T04:30:05.326Z"
   },
   {
    "duration": 73,
    "start_time": "2022-09-03T04:30:06.443Z"
   },
   {
    "duration": 3,
    "start_time": "2022-09-03T04:30:06.518Z"
   },
   {
    "duration": 14,
    "start_time": "2022-09-03T04:30:06.522Z"
   },
   {
    "duration": 5,
    "start_time": "2022-09-03T04:30:06.539Z"
   },
   {
    "duration": 44,
    "start_time": "2022-09-03T04:30:06.546Z"
   },
   {
    "duration": 8,
    "start_time": "2022-09-03T04:30:06.591Z"
   },
   {
    "duration": 17,
    "start_time": "2022-09-03T04:30:06.600Z"
   },
   {
    "duration": 10,
    "start_time": "2022-09-03T04:30:06.618Z"
   },
   {
    "duration": 218,
    "start_time": "2022-09-03T04:30:06.640Z"
   },
   {
    "duration": 10,
    "start_time": "2022-09-03T04:30:06.860Z"
   },
   {
    "duration": 127,
    "start_time": "2022-09-03T04:30:06.872Z"
   },
   {
    "duration": 14,
    "start_time": "2022-09-03T04:30:07.001Z"
   },
   {
    "duration": 219,
    "start_time": "2022-09-03T04:30:07.017Z"
   },
   {
    "duration": 6,
    "start_time": "2022-09-03T04:30:07.238Z"
   },
   {
    "duration": 256,
    "start_time": "2022-09-03T04:30:07.245Z"
   },
   {
    "duration": 12,
    "start_time": "2022-09-03T04:30:07.502Z"
   },
   {
    "duration": 199,
    "start_time": "2022-09-03T04:30:07.515Z"
   },
   {
    "duration": 8,
    "start_time": "2022-09-03T04:30:07.716Z"
   },
   {
    "duration": 50,
    "start_time": "2022-09-03T04:30:07.725Z"
   },
   {
    "duration": 2037,
    "start_time": "2022-09-03T04:30:07.776Z"
   },
   {
    "duration": 57,
    "start_time": "2022-09-03T04:30:09.814Z"
   },
   {
    "duration": 142,
    "start_time": "2022-09-03T04:30:09.872Z"
   },
   {
    "duration": 280,
    "start_time": "2022-09-03T04:30:10.015Z"
   },
   {
    "duration": 126,
    "start_time": "2022-09-03T04:30:10.296Z"
   },
   {
    "duration": 17,
    "start_time": "2022-09-03T04:30:10.424Z"
   },
   {
    "duration": 1096,
    "start_time": "2022-09-03T04:30:35.837Z"
   },
   {
    "duration": 85,
    "start_time": "2022-09-03T04:30:36.935Z"
   },
   {
    "duration": 3,
    "start_time": "2022-09-03T04:30:37.021Z"
   },
   {
    "duration": 37,
    "start_time": "2022-09-03T04:30:37.026Z"
   },
   {
    "duration": 17,
    "start_time": "2022-09-03T04:30:37.065Z"
   },
   {
    "duration": 41,
    "start_time": "2022-09-03T04:30:37.083Z"
   },
   {
    "duration": 8,
    "start_time": "2022-09-03T04:30:37.126Z"
   },
   {
    "duration": 48,
    "start_time": "2022-09-03T04:30:37.135Z"
   },
   {
    "duration": 16,
    "start_time": "2022-09-03T04:30:37.184Z"
   },
   {
    "duration": 214,
    "start_time": "2022-09-03T04:30:37.203Z"
   },
   {
    "duration": 10,
    "start_time": "2022-09-03T04:30:37.419Z"
   },
   {
    "duration": 139,
    "start_time": "2022-09-03T04:30:37.439Z"
   },
   {
    "duration": 13,
    "start_time": "2022-09-03T04:30:37.580Z"
   },
   {
    "duration": 223,
    "start_time": "2022-09-03T04:30:37.594Z"
   },
   {
    "duration": 5,
    "start_time": "2022-09-03T04:30:37.818Z"
   },
   {
    "duration": 277,
    "start_time": "2022-09-03T04:30:37.825Z"
   },
   {
    "duration": 12,
    "start_time": "2022-09-03T04:30:38.104Z"
   },
   {
    "duration": 211,
    "start_time": "2022-09-03T04:30:38.117Z"
   },
   {
    "duration": 11,
    "start_time": "2022-09-03T04:30:38.330Z"
   },
   {
    "duration": 54,
    "start_time": "2022-09-03T04:30:38.342Z"
   },
   {
    "duration": 1875,
    "start_time": "2022-09-03T04:30:38.398Z"
   },
   {
    "duration": 52,
    "start_time": "2022-09-03T04:30:40.275Z"
   },
   {
    "duration": 163,
    "start_time": "2022-09-03T04:30:40.328Z"
   },
   {
    "duration": 298,
    "start_time": "2022-09-03T04:30:40.492Z"
   },
   {
    "duration": 149,
    "start_time": "2022-09-03T04:30:40.792Z"
   },
   {
    "duration": 13,
    "start_time": "2022-09-03T04:30:40.943Z"
   },
   {
    "duration": 933,
    "start_time": "2022-09-03T04:31:44.262Z"
   },
   {
    "duration": 1020,
    "start_time": "2022-09-03T04:42:59.904Z"
   },
   {
    "duration": 73,
    "start_time": "2022-09-03T04:43:00.926Z"
   },
   {
    "duration": 3,
    "start_time": "2022-09-03T04:43:01.001Z"
   },
   {
    "duration": 24,
    "start_time": "2022-09-03T04:43:01.005Z"
   },
   {
    "duration": 8,
    "start_time": "2022-09-03T04:43:01.031Z"
   },
   {
    "duration": 33,
    "start_time": "2022-09-03T04:43:01.040Z"
   },
   {
    "duration": 10,
    "start_time": "2022-09-03T04:43:01.075Z"
   },
   {
    "duration": 22,
    "start_time": "2022-09-03T04:43:01.086Z"
   },
   {
    "duration": 10,
    "start_time": "2022-09-03T04:43:01.110Z"
   },
   {
    "duration": 226,
    "start_time": "2022-09-03T04:43:01.122Z"
   },
   {
    "duration": 9,
    "start_time": "2022-09-03T04:43:01.350Z"
   },
   {
    "duration": 127,
    "start_time": "2022-09-03T04:43:01.360Z"
   },
   {
    "duration": 14,
    "start_time": "2022-09-03T04:43:01.488Z"
   },
   {
    "duration": 216,
    "start_time": "2022-09-03T04:43:01.504Z"
   },
   {
    "duration": 6,
    "start_time": "2022-09-03T04:43:01.721Z"
   },
   {
    "duration": 262,
    "start_time": "2022-09-03T04:43:01.728Z"
   },
   {
    "duration": 13,
    "start_time": "2022-09-03T04:43:01.991Z"
   },
   {
    "duration": 205,
    "start_time": "2022-09-03T04:43:02.005Z"
   },
   {
    "duration": 7,
    "start_time": "2022-09-03T04:43:02.212Z"
   },
   {
    "duration": 51,
    "start_time": "2022-09-03T04:43:02.221Z"
   },
   {
    "duration": 2824,
    "start_time": "2022-09-03T04:43:02.273Z"
   },
   {
    "duration": 57,
    "start_time": "2022-09-03T04:43:05.099Z"
   },
   {
    "duration": 126,
    "start_time": "2022-09-03T04:43:05.158Z"
   },
   {
    "duration": 276,
    "start_time": "2022-09-03T04:43:05.286Z"
   },
   {
    "duration": 132,
    "start_time": "2022-09-03T04:43:05.564Z"
   },
   {
    "duration": 9,
    "start_time": "2022-09-03T04:43:05.698Z"
   },
   {
    "duration": 126,
    "start_time": "2022-09-03T05:00:15.548Z"
   },
   {
    "duration": 1041,
    "start_time": "2022-09-03T05:00:22.770Z"
   },
   {
    "duration": 71,
    "start_time": "2022-09-03T05:00:23.813Z"
   },
   {
    "duration": 4,
    "start_time": "2022-09-03T05:00:23.885Z"
   },
   {
    "duration": 13,
    "start_time": "2022-09-03T05:00:23.891Z"
   },
   {
    "duration": 5,
    "start_time": "2022-09-03T05:00:23.905Z"
   },
   {
    "duration": 45,
    "start_time": "2022-09-03T05:00:23.912Z"
   },
   {
    "duration": 8,
    "start_time": "2022-09-03T05:00:23.958Z"
   },
   {
    "duration": 18,
    "start_time": "2022-09-03T05:00:23.967Z"
   },
   {
    "duration": 9,
    "start_time": "2022-09-03T05:00:23.987Z"
   },
   {
    "duration": 216,
    "start_time": "2022-09-03T05:00:23.998Z"
   },
   {
    "duration": 9,
    "start_time": "2022-09-03T05:00:24.216Z"
   },
   {
    "duration": 133,
    "start_time": "2022-09-03T05:00:24.226Z"
   },
   {
    "duration": 13,
    "start_time": "2022-09-03T05:00:24.361Z"
   },
   {
    "duration": 215,
    "start_time": "2022-09-03T05:00:24.375Z"
   },
   {
    "duration": 5,
    "start_time": "2022-09-03T05:00:24.592Z"
   },
   {
    "duration": 266,
    "start_time": "2022-09-03T05:00:24.599Z"
   },
   {
    "duration": 12,
    "start_time": "2022-09-03T05:00:24.866Z"
   },
   {
    "duration": 196,
    "start_time": "2022-09-03T05:00:24.880Z"
   },
   {
    "duration": 8,
    "start_time": "2022-09-03T05:00:25.078Z"
   },
   {
    "duration": 52,
    "start_time": "2022-09-03T05:00:25.087Z"
   },
   {
    "duration": 2851,
    "start_time": "2022-09-03T05:00:25.140Z"
   },
   {
    "duration": 63,
    "start_time": "2022-09-03T05:00:27.993Z"
   },
   {
    "duration": 136,
    "start_time": "2022-09-03T05:00:28.058Z"
   },
   {
    "duration": 279,
    "start_time": "2022-09-03T05:00:28.196Z"
   },
   {
    "duration": 135,
    "start_time": "2022-09-03T05:00:28.476Z"
   },
   {
    "duration": 29,
    "start_time": "2022-09-03T05:00:28.612Z"
   },
   {
    "duration": 120,
    "start_time": "2022-09-03T05:01:33.729Z"
   },
   {
    "duration": 108,
    "start_time": "2022-09-03T05:01:59.874Z"
   },
   {
    "duration": 1026,
    "start_time": "2022-09-03T05:20:23.990Z"
   },
   {
    "duration": 74,
    "start_time": "2022-09-03T05:20:25.018Z"
   },
   {
    "duration": 4,
    "start_time": "2022-09-03T05:20:25.094Z"
   },
   {
    "duration": 27,
    "start_time": "2022-09-03T05:20:25.099Z"
   },
   {
    "duration": 10,
    "start_time": "2022-09-03T05:20:25.128Z"
   },
   {
    "duration": 34,
    "start_time": "2022-09-03T05:20:25.139Z"
   },
   {
    "duration": 8,
    "start_time": "2022-09-03T05:20:25.174Z"
   },
   {
    "duration": 28,
    "start_time": "2022-09-03T05:20:25.183Z"
   },
   {
    "duration": 10,
    "start_time": "2022-09-03T05:20:25.212Z"
   },
   {
    "duration": 210,
    "start_time": "2022-09-03T05:20:25.223Z"
   },
   {
    "duration": 9,
    "start_time": "2022-09-03T05:20:25.435Z"
   },
   {
    "duration": 126,
    "start_time": "2022-09-03T05:20:25.446Z"
   },
   {
    "duration": 12,
    "start_time": "2022-09-03T05:20:25.573Z"
   },
   {
    "duration": 212,
    "start_time": "2022-09-03T05:20:25.587Z"
   },
   {
    "duration": 6,
    "start_time": "2022-09-03T05:20:25.800Z"
   },
   {
    "duration": 246,
    "start_time": "2022-09-03T05:20:25.807Z"
   },
   {
    "duration": 12,
    "start_time": "2022-09-03T05:20:26.054Z"
   },
   {
    "duration": 212,
    "start_time": "2022-09-03T05:20:26.067Z"
   },
   {
    "duration": 11,
    "start_time": "2022-09-03T05:20:26.281Z"
   },
   {
    "duration": 55,
    "start_time": "2022-09-03T05:20:26.294Z"
   },
   {
    "duration": 3162,
    "start_time": "2022-09-03T05:20:26.350Z"
   },
   {
    "duration": 62,
    "start_time": "2022-09-03T05:20:29.514Z"
   },
   {
    "duration": 149,
    "start_time": "2022-09-03T05:20:29.578Z"
   },
   {
    "duration": 269,
    "start_time": "2022-09-03T05:20:29.728Z"
   },
   {
    "duration": 140,
    "start_time": "2022-09-03T05:20:29.998Z"
   },
   {
    "duration": 10,
    "start_time": "2022-09-03T05:20:30.140Z"
   },
   {
    "duration": 1025,
    "start_time": "2022-09-03T05:26:44.377Z"
   },
   {
    "duration": 74,
    "start_time": "2022-09-03T05:26:45.404Z"
   },
   {
    "duration": 3,
    "start_time": "2022-09-03T05:26:45.480Z"
   },
   {
    "duration": 14,
    "start_time": "2022-09-03T05:26:45.485Z"
   },
   {
    "duration": 5,
    "start_time": "2022-09-03T05:26:45.501Z"
   },
   {
    "duration": 40,
    "start_time": "2022-09-03T05:26:45.508Z"
   },
   {
    "duration": 7,
    "start_time": "2022-09-03T05:26:45.550Z"
   },
   {
    "duration": 27,
    "start_time": "2022-09-03T05:26:45.559Z"
   },
   {
    "duration": 9,
    "start_time": "2022-09-03T05:26:45.588Z"
   },
   {
    "duration": 212,
    "start_time": "2022-09-03T05:26:45.598Z"
   },
   {
    "duration": 8,
    "start_time": "2022-09-03T05:26:45.812Z"
   },
   {
    "duration": 120,
    "start_time": "2022-09-03T05:26:45.821Z"
   },
   {
    "duration": 12,
    "start_time": "2022-09-03T05:26:45.943Z"
   },
   {
    "duration": 211,
    "start_time": "2022-09-03T05:26:45.958Z"
   },
   {
    "duration": 6,
    "start_time": "2022-09-03T05:26:46.171Z"
   },
   {
    "duration": 254,
    "start_time": "2022-09-03T05:26:46.179Z"
   },
   {
    "duration": 12,
    "start_time": "2022-09-03T05:26:46.435Z"
   },
   {
    "duration": 234,
    "start_time": "2022-09-03T05:26:46.448Z"
   },
   {
    "duration": 8,
    "start_time": "2022-09-03T05:26:46.684Z"
   },
   {
    "duration": 49,
    "start_time": "2022-09-03T05:26:46.693Z"
   },
   {
    "duration": 3415,
    "start_time": "2022-09-03T05:26:46.744Z"
   },
   {
    "duration": 53,
    "start_time": "2022-09-03T05:26:50.161Z"
   },
   {
    "duration": 148,
    "start_time": "2022-09-03T05:26:50.216Z"
   },
   {
    "duration": 274,
    "start_time": "2022-09-03T05:26:50.366Z"
   },
   {
    "duration": 165,
    "start_time": "2022-09-03T05:26:50.642Z"
   },
   {
    "duration": 12,
    "start_time": "2022-09-03T05:26:50.808Z"
   },
   {
    "duration": 1049,
    "start_time": "2022-09-03T07:24:46.634Z"
   },
   {
    "duration": 76,
    "start_time": "2022-09-03T07:24:47.685Z"
   },
   {
    "duration": 3,
    "start_time": "2022-09-03T07:24:47.763Z"
   },
   {
    "duration": 20,
    "start_time": "2022-09-03T07:24:47.768Z"
   },
   {
    "duration": 7,
    "start_time": "2022-09-03T07:24:47.791Z"
   },
   {
    "duration": 33,
    "start_time": "2022-09-03T07:24:47.800Z"
   },
   {
    "duration": 9,
    "start_time": "2022-09-03T07:24:47.834Z"
   },
   {
    "duration": 18,
    "start_time": "2022-09-03T07:24:47.845Z"
   },
   {
    "duration": 29,
    "start_time": "2022-09-03T07:24:47.865Z"
   },
   {
    "duration": 235,
    "start_time": "2022-09-03T07:24:47.896Z"
   },
   {
    "duration": 12,
    "start_time": "2022-09-03T07:24:48.132Z"
   },
   {
    "duration": 132,
    "start_time": "2022-09-03T07:24:48.146Z"
   },
   {
    "duration": 13,
    "start_time": "2022-09-03T07:24:48.284Z"
   },
   {
    "duration": 231,
    "start_time": "2022-09-03T07:24:48.299Z"
   },
   {
    "duration": 6,
    "start_time": "2022-09-03T07:24:48.531Z"
   },
   {
    "duration": 286,
    "start_time": "2022-09-03T07:24:48.538Z"
   },
   {
    "duration": 14,
    "start_time": "2022-09-03T07:24:48.826Z"
   },
   {
    "duration": 218,
    "start_time": "2022-09-03T07:24:48.841Z"
   },
   {
    "duration": 9,
    "start_time": "2022-09-03T07:24:49.060Z"
   },
   {
    "duration": 51,
    "start_time": "2022-09-03T07:24:49.070Z"
   },
   {
    "duration": 3029,
    "start_time": "2022-09-03T07:24:49.123Z"
   },
   {
    "duration": 64,
    "start_time": "2022-09-03T07:24:52.154Z"
   },
   {
    "duration": 138,
    "start_time": "2022-09-03T07:24:52.219Z"
   },
   {
    "duration": 294,
    "start_time": "2022-09-03T07:24:52.359Z"
   },
   {
    "duration": 162,
    "start_time": "2022-09-03T07:24:52.655Z"
   },
   {
    "duration": 14,
    "start_time": "2022-09-03T07:24:52.818Z"
   },
   {
    "duration": 58,
    "start_time": "2022-09-03T07:30:21.708Z"
   },
   {
    "duration": 327,
    "start_time": "2022-09-03T07:30:30.120Z"
   },
   {
    "duration": 137,
    "start_time": "2022-09-03T07:30:49.911Z"
   },
   {
    "duration": 22,
    "start_time": "2022-09-03T07:30:54.187Z"
   },
   {
    "duration": 22,
    "start_time": "2022-09-03T07:31:02.761Z"
   },
   {
    "duration": 44,
    "start_time": "2022-09-03T07:51:11.006Z"
   },
   {
    "duration": 1334,
    "start_time": "2022-09-03T07:51:18.979Z"
   },
   {
    "duration": 268,
    "start_time": "2022-09-03T07:51:20.315Z"
   },
   {
    "duration": 5,
    "start_time": "2022-09-03T07:51:20.584Z"
   },
   {
    "duration": 16,
    "start_time": "2022-09-03T07:51:20.591Z"
   },
   {
    "duration": 7,
    "start_time": "2022-09-03T07:51:20.609Z"
   },
   {
    "duration": 38,
    "start_time": "2022-09-03T07:51:20.617Z"
   },
   {
    "duration": 29,
    "start_time": "2022-09-03T07:51:20.657Z"
   },
   {
    "duration": 12,
    "start_time": "2022-09-03T07:51:20.689Z"
   },
   {
    "duration": 21,
    "start_time": "2022-09-03T07:51:20.703Z"
   },
   {
    "duration": 12,
    "start_time": "2022-09-03T07:51:20.728Z"
   },
   {
    "duration": 258,
    "start_time": "2022-09-03T07:51:20.742Z"
   },
   {
    "duration": 11,
    "start_time": "2022-09-03T07:51:21.002Z"
   },
   {
    "duration": 149,
    "start_time": "2022-09-03T07:51:21.015Z"
   },
   {
    "duration": 26,
    "start_time": "2022-09-03T07:51:21.166Z"
   },
   {
    "duration": 228,
    "start_time": "2022-09-03T07:51:21.194Z"
   },
   {
    "duration": 7,
    "start_time": "2022-09-03T07:51:21.424Z"
   },
   {
    "duration": 271,
    "start_time": "2022-09-03T07:51:21.433Z"
   },
   {
    "duration": 13,
    "start_time": "2022-09-03T07:51:21.706Z"
   },
   {
    "duration": 216,
    "start_time": "2022-09-03T07:51:21.721Z"
   },
   {
    "duration": 8,
    "start_time": "2022-09-03T07:51:21.939Z"
   },
   {
    "duration": 53,
    "start_time": "2022-09-03T07:51:21.948Z"
   },
   {
    "duration": 2849,
    "start_time": "2022-09-03T07:51:22.002Z"
   },
   {
    "duration": 55,
    "start_time": "2022-09-03T07:51:24.853Z"
   },
   {
    "duration": 147,
    "start_time": "2022-09-03T07:51:24.909Z"
   },
   {
    "duration": 317,
    "start_time": "2022-09-03T07:51:25.057Z"
   },
   {
    "duration": 160,
    "start_time": "2022-09-03T07:51:25.376Z"
   },
   {
    "duration": 12,
    "start_time": "2022-09-03T07:51:25.537Z"
   },
   {
    "duration": 10,
    "start_time": "2022-09-03T07:51:37.729Z"
   },
   {
    "duration": 18,
    "start_time": "2022-09-03T07:51:44.090Z"
   },
   {
    "duration": 18,
    "start_time": "2022-09-03T07:54:02.905Z"
   },
   {
    "duration": 3,
    "start_time": "2022-09-03T07:54:21.393Z"
   },
   {
    "duration": 75,
    "start_time": "2022-09-03T07:54:21.397Z"
   },
   {
    "duration": 4,
    "start_time": "2022-09-03T07:54:21.473Z"
   },
   {
    "duration": 15,
    "start_time": "2022-09-03T07:54:21.478Z"
   },
   {
    "duration": 6,
    "start_time": "2022-09-03T07:54:21.496Z"
   },
   {
    "duration": 37,
    "start_time": "2022-09-03T07:54:21.504Z"
   },
   {
    "duration": 9,
    "start_time": "2022-09-03T07:54:21.543Z"
   },
   {
    "duration": 15,
    "start_time": "2022-09-03T07:54:26.136Z"
   },
   {
    "duration": 19,
    "start_time": "2022-09-03T07:54:28.181Z"
   },
   {
    "duration": 21,
    "start_time": "2022-09-03T08:03:34.946Z"
   },
   {
    "duration": 18,
    "start_time": "2022-09-03T08:03:48.669Z"
   },
   {
    "duration": 17,
    "start_time": "2022-09-03T08:04:26.095Z"
   },
   {
    "duration": 114,
    "start_time": "2022-09-03T08:04:34.743Z"
   },
   {
    "duration": 61,
    "start_time": "2022-09-03T08:04:42.878Z"
   },
   {
    "duration": 17,
    "start_time": "2022-09-03T08:04:46.538Z"
   },
   {
    "duration": 18,
    "start_time": "2022-09-03T08:04:57.153Z"
   },
   {
    "duration": 16,
    "start_time": "2022-09-03T08:05:24.974Z"
   },
   {
    "duration": 16,
    "start_time": "2022-09-03T08:05:25.785Z"
   },
   {
    "duration": 3,
    "start_time": "2022-09-03T08:05:31.058Z"
   },
   {
    "duration": 80,
    "start_time": "2022-09-03T08:05:31.063Z"
   },
   {
    "duration": 4,
    "start_time": "2022-09-03T08:05:31.145Z"
   },
   {
    "duration": 45,
    "start_time": "2022-09-03T08:05:31.151Z"
   },
   {
    "duration": 17,
    "start_time": "2022-09-03T08:05:31.199Z"
   },
   {
    "duration": 35,
    "start_time": "2022-09-03T08:05:31.218Z"
   },
   {
    "duration": 8,
    "start_time": "2022-09-03T08:05:31.254Z"
   },
   {
    "duration": 28,
    "start_time": "2022-09-03T08:05:31.264Z"
   },
   {
    "duration": 20,
    "start_time": "2022-09-03T08:05:31.294Z"
   },
   {
    "duration": 16,
    "start_time": "2022-09-03T08:05:31.315Z"
   },
   {
    "duration": 28,
    "start_time": "2022-09-03T08:05:31.333Z"
   },
   {
    "duration": 3,
    "start_time": "2022-09-03T08:06:10.979Z"
   },
   {
    "duration": 90,
    "start_time": "2022-09-03T08:06:10.985Z"
   },
   {
    "duration": 5,
    "start_time": "2022-09-03T08:06:11.077Z"
   },
   {
    "duration": 13,
    "start_time": "2022-09-03T08:06:11.084Z"
   },
   {
    "duration": 9,
    "start_time": "2022-09-03T08:06:11.100Z"
   },
   {
    "duration": 42,
    "start_time": "2022-09-03T08:06:11.111Z"
   },
   {
    "duration": 10,
    "start_time": "2022-09-03T08:06:11.154Z"
   },
   {
    "duration": 33,
    "start_time": "2022-09-03T08:06:11.166Z"
   },
   {
    "duration": 21,
    "start_time": "2022-09-03T08:06:11.200Z"
   },
   {
    "duration": 25,
    "start_time": "2022-09-03T08:06:11.223Z"
   },
   {
    "duration": 25,
    "start_time": "2022-09-03T08:06:23.773Z"
   },
   {
    "duration": 15,
    "start_time": "2022-09-03T08:06:24.716Z"
   },
   {
    "duration": 29,
    "start_time": "2022-09-03T08:07:39.091Z"
   },
   {
    "duration": 17,
    "start_time": "2022-09-03T08:07:39.759Z"
   },
   {
    "duration": 3,
    "start_time": "2022-09-03T08:07:46.772Z"
   },
   {
    "duration": 84,
    "start_time": "2022-09-03T08:07:46.777Z"
   },
   {
    "duration": 5,
    "start_time": "2022-09-03T08:07:46.863Z"
   },
   {
    "duration": 17,
    "start_time": "2022-09-03T08:07:46.869Z"
   },
   {
    "duration": 11,
    "start_time": "2022-09-03T08:07:46.889Z"
   },
   {
    "duration": 37,
    "start_time": "2022-09-03T08:07:46.902Z"
   },
   {
    "duration": 10,
    "start_time": "2022-09-03T08:07:46.941Z"
   },
   {
    "duration": 36,
    "start_time": "2022-09-03T08:07:46.953Z"
   },
   {
    "duration": 21,
    "start_time": "2022-09-03T08:07:46.991Z"
   },
   {
    "duration": 23,
    "start_time": "2022-09-03T08:07:47.014Z"
   },
   {
    "duration": 47,
    "start_time": "2022-09-03T08:07:47.039Z"
   },
   {
    "duration": 3,
    "start_time": "2022-09-03T08:09:45.206Z"
   },
   {
    "duration": 79,
    "start_time": "2022-09-03T08:09:45.211Z"
   },
   {
    "duration": 4,
    "start_time": "2022-09-03T08:09:45.292Z"
   },
   {
    "duration": 16,
    "start_time": "2022-09-03T08:09:45.297Z"
   },
   {
    "duration": 9,
    "start_time": "2022-09-03T08:09:45.315Z"
   },
   {
    "duration": 35,
    "start_time": "2022-09-03T08:09:45.326Z"
   },
   {
    "duration": 29,
    "start_time": "2022-09-03T08:09:45.362Z"
   },
   {
    "duration": 18,
    "start_time": "2022-09-03T08:09:45.393Z"
   },
   {
    "duration": 18,
    "start_time": "2022-09-03T08:09:45.412Z"
   },
   {
    "duration": 20,
    "start_time": "2022-09-03T08:09:45.432Z"
   },
   {
    "duration": 47,
    "start_time": "2022-09-03T08:09:45.454Z"
   },
   {
    "duration": 1070,
    "start_time": "2022-09-03T08:10:05.722Z"
   },
   {
    "duration": 79,
    "start_time": "2022-09-03T08:10:06.795Z"
   },
   {
    "duration": 3,
    "start_time": "2022-09-03T08:10:06.876Z"
   },
   {
    "duration": 16,
    "start_time": "2022-09-03T08:10:06.881Z"
   },
   {
    "duration": 9,
    "start_time": "2022-09-03T08:10:06.899Z"
   },
   {
    "duration": 31,
    "start_time": "2022-09-03T08:10:06.910Z"
   },
   {
    "duration": 9,
    "start_time": "2022-09-03T08:10:06.942Z"
   },
   {
    "duration": 33,
    "start_time": "2022-09-03T08:10:06.952Z"
   },
   {
    "duration": 21,
    "start_time": "2022-09-03T08:10:06.986Z"
   },
   {
    "duration": 20,
    "start_time": "2022-09-03T08:10:07.008Z"
   },
   {
    "duration": 18,
    "start_time": "2022-09-03T08:10:07.030Z"
   },
   {
    "duration": 39,
    "start_time": "2022-09-03T08:10:07.050Z"
   },
   {
    "duration": 236,
    "start_time": "2022-09-03T08:10:07.091Z"
   },
   {
    "duration": 11,
    "start_time": "2022-09-03T08:10:07.330Z"
   },
   {
    "duration": 139,
    "start_time": "2022-09-03T08:10:07.343Z"
   },
   {
    "duration": 15,
    "start_time": "2022-09-03T08:10:07.485Z"
   },
   {
    "duration": 237,
    "start_time": "2022-09-03T08:10:07.502Z"
   },
   {
    "duration": 6,
    "start_time": "2022-09-03T08:10:07.741Z"
   },
   {
    "duration": 291,
    "start_time": "2022-09-03T08:10:07.749Z"
   },
   {
    "duration": 13,
    "start_time": "2022-09-03T08:10:08.042Z"
   },
   {
    "duration": 228,
    "start_time": "2022-09-03T08:10:08.057Z"
   },
   {
    "duration": 9,
    "start_time": "2022-09-03T08:10:08.287Z"
   },
   {
    "duration": 375,
    "start_time": "2022-09-03T08:10:08.298Z"
   },
   {
    "duration": 0,
    "start_time": "2022-09-03T08:10:08.675Z"
   },
   {
    "duration": 0,
    "start_time": "2022-09-03T08:10:08.676Z"
   },
   {
    "duration": 1,
    "start_time": "2022-09-03T08:10:08.677Z"
   },
   {
    "duration": 0,
    "start_time": "2022-09-03T08:10:08.679Z"
   },
   {
    "duration": 0,
    "start_time": "2022-09-03T08:10:08.680Z"
   },
   {
    "duration": 0,
    "start_time": "2022-09-03T08:10:08.681Z"
   },
   {
    "duration": 1266,
    "start_time": "2022-09-04T04:57:40.090Z"
   },
   {
    "duration": 253,
    "start_time": "2022-09-04T04:57:41.358Z"
   },
   {
    "duration": 4,
    "start_time": "2022-09-04T04:57:41.612Z"
   },
   {
    "duration": 22,
    "start_time": "2022-09-04T04:57:41.617Z"
   },
   {
    "duration": 9,
    "start_time": "2022-09-04T04:57:41.641Z"
   },
   {
    "duration": 32,
    "start_time": "2022-09-04T04:57:41.651Z"
   },
   {
    "duration": 7,
    "start_time": "2022-09-04T04:57:41.685Z"
   },
   {
    "duration": 17,
    "start_time": "2022-09-04T04:57:41.694Z"
   },
   {
    "duration": 18,
    "start_time": "2022-09-04T04:57:46.717Z"
   },
   {
    "duration": 22,
    "start_time": "2022-09-04T04:57:47.951Z"
   },
   {
    "duration": 25,
    "start_time": "2022-09-04T04:58:24.848Z"
   },
   {
    "duration": 15,
    "start_time": "2022-09-04T04:58:29.012Z"
   },
   {
    "duration": 863,
    "start_time": "2022-09-04T04:58:48.886Z"
   },
   {
    "duration": 23,
    "start_time": "2022-09-04T04:58:58.469Z"
   },
   {
    "duration": 15,
    "start_time": "2022-09-04T04:59:00.775Z"
   },
   {
    "duration": 3,
    "start_time": "2022-09-04T05:00:13.532Z"
   },
   {
    "duration": 81,
    "start_time": "2022-09-04T05:00:13.537Z"
   },
   {
    "duration": 4,
    "start_time": "2022-09-04T05:00:13.619Z"
   },
   {
    "duration": 17,
    "start_time": "2022-09-04T05:00:13.624Z"
   },
   {
    "duration": 7,
    "start_time": "2022-09-04T05:00:13.643Z"
   },
   {
    "duration": 38,
    "start_time": "2022-09-04T05:00:13.652Z"
   },
   {
    "duration": 8,
    "start_time": "2022-09-04T05:00:13.692Z"
   },
   {
    "duration": 27,
    "start_time": "2022-09-04T05:00:13.702Z"
   },
   {
    "duration": 20,
    "start_time": "2022-09-04T05:01:04.019Z"
   },
   {
    "duration": 19,
    "start_time": "2022-09-04T05:01:04.604Z"
   },
   {
    "duration": 22,
    "start_time": "2022-09-04T05:01:07.475Z"
   },
   {
    "duration": 16,
    "start_time": "2022-09-04T05:01:09.163Z"
   },
   {
    "duration": 13,
    "start_time": "2022-09-04T05:01:16.575Z"
   },
   {
    "duration": 16,
    "start_time": "2022-09-04T05:01:18.379Z"
   },
   {
    "duration": 3,
    "start_time": "2022-09-04T05:01:26.035Z"
   },
   {
    "duration": 91,
    "start_time": "2022-09-04T05:01:26.040Z"
   },
   {
    "duration": 3,
    "start_time": "2022-09-04T05:01:26.133Z"
   },
   {
    "duration": 15,
    "start_time": "2022-09-04T05:01:26.138Z"
   },
   {
    "duration": 6,
    "start_time": "2022-09-04T05:01:26.155Z"
   },
   {
    "duration": 50,
    "start_time": "2022-09-04T05:01:26.163Z"
   },
   {
    "duration": 11,
    "start_time": "2022-09-04T05:01:26.215Z"
   },
   {
    "duration": 23,
    "start_time": "2022-09-04T05:01:26.228Z"
   },
   {
    "duration": 40,
    "start_time": "2022-09-04T05:01:26.253Z"
   },
   {
    "duration": 16,
    "start_time": "2022-09-04T05:01:26.295Z"
   },
   {
    "duration": 17,
    "start_time": "2022-09-04T05:01:26.313Z"
   },
   {
    "duration": 148,
    "start_time": "2022-09-04T05:06:48.367Z"
   },
   {
    "duration": 2,
    "start_time": "2022-09-04T05:06:58.772Z"
   },
   {
    "duration": 77,
    "start_time": "2022-09-04T05:06:58.776Z"
   },
   {
    "duration": 3,
    "start_time": "2022-09-04T05:06:58.855Z"
   },
   {
    "duration": 16,
    "start_time": "2022-09-04T05:06:58.859Z"
   },
   {
    "duration": 5,
    "start_time": "2022-09-04T05:06:58.877Z"
   },
   {
    "duration": 30,
    "start_time": "2022-09-04T05:06:58.884Z"
   },
   {
    "duration": 7,
    "start_time": "2022-09-04T05:06:58.916Z"
   },
   {
    "duration": 19,
    "start_time": "2022-09-04T05:06:58.925Z"
   },
   {
    "duration": 19,
    "start_time": "2022-09-04T05:06:58.946Z"
   },
   {
    "duration": 13,
    "start_time": "2022-09-04T05:06:58.966Z"
   },
   {
    "duration": 20,
    "start_time": "2022-09-04T05:06:58.981Z"
   },
   {
    "duration": 12,
    "start_time": "2022-09-04T05:06:59.003Z"
   },
   {
    "duration": 11,
    "start_time": "2022-09-04T05:07:03.560Z"
   },
   {
    "duration": 229,
    "start_time": "2022-09-04T05:07:04.325Z"
   },
   {
    "duration": 224,
    "start_time": "2022-09-04T05:07:31.576Z"
   },
   {
    "duration": 131,
    "start_time": "2022-09-04T05:08:44.373Z"
   },
   {
    "duration": 3,
    "start_time": "2022-09-04T05:08:49.772Z"
   },
   {
    "duration": 77,
    "start_time": "2022-09-04T05:08:49.777Z"
   },
   {
    "duration": 3,
    "start_time": "2022-09-04T05:08:49.856Z"
   },
   {
    "duration": 18,
    "start_time": "2022-09-04T05:08:49.861Z"
   },
   {
    "duration": 6,
    "start_time": "2022-09-04T05:08:49.881Z"
   },
   {
    "duration": 34,
    "start_time": "2022-09-04T05:08:49.889Z"
   },
   {
    "duration": 7,
    "start_time": "2022-09-04T05:08:49.925Z"
   },
   {
    "duration": 19,
    "start_time": "2022-09-04T05:08:49.934Z"
   },
   {
    "duration": 20,
    "start_time": "2022-09-04T05:08:49.955Z"
   },
   {
    "duration": 12,
    "start_time": "2022-09-04T05:08:49.986Z"
   },
   {
    "duration": 15,
    "start_time": "2022-09-04T05:08:49.999Z"
   },
   {
    "duration": 11,
    "start_time": "2022-09-04T05:08:50.016Z"
   },
   {
    "duration": 238,
    "start_time": "2022-09-04T05:08:50.029Z"
   },
   {
    "duration": 20,
    "start_time": "2022-09-04T05:08:50.269Z"
   },
   {
    "duration": 124,
    "start_time": "2022-09-04T05:08:50.290Z"
   },
   {
    "duration": 14,
    "start_time": "2022-09-04T05:08:50.416Z"
   },
   {
    "duration": 139,
    "start_time": "2022-09-04T05:08:59.267Z"
   },
   {
    "duration": 77,
    "start_time": "2022-09-04T05:10:29.908Z"
   },
   {
    "duration": 8,
    "start_time": "2022-09-04T05:10:39.499Z"
   },
   {
    "duration": 12,
    "start_time": "2022-09-04T05:10:47.405Z"
   },
   {
    "duration": 650,
    "start_time": "2022-09-04T05:11:38.273Z"
   },
   {
    "duration": 12,
    "start_time": "2022-09-04T05:21:25.315Z"
   },
   {
    "duration": 3,
    "start_time": "2022-09-04T05:21:31.009Z"
   },
   {
    "duration": 92,
    "start_time": "2022-09-04T05:21:31.014Z"
   },
   {
    "duration": 3,
    "start_time": "2022-09-04T05:21:31.108Z"
   },
   {
    "duration": 34,
    "start_time": "2022-09-04T05:21:31.112Z"
   },
   {
    "duration": 24,
    "start_time": "2022-09-04T05:21:31.148Z"
   },
   {
    "duration": 37,
    "start_time": "2022-09-04T05:21:31.174Z"
   },
   {
    "duration": 15,
    "start_time": "2022-09-04T05:21:31.213Z"
   },
   {
    "duration": 27,
    "start_time": "2022-09-04T05:21:31.229Z"
   },
   {
    "duration": 17,
    "start_time": "2022-09-04T05:21:31.257Z"
   },
   {
    "duration": 25,
    "start_time": "2022-09-04T05:21:31.276Z"
   },
   {
    "duration": 81,
    "start_time": "2022-09-04T05:21:31.302Z"
   },
   {
    "duration": 10,
    "start_time": "2022-09-04T05:21:31.385Z"
   },
   {
    "duration": 210,
    "start_time": "2022-09-04T05:21:31.396Z"
   },
   {
    "duration": 9,
    "start_time": "2022-09-04T05:21:31.609Z"
   },
   {
    "duration": 126,
    "start_time": "2022-09-04T05:21:31.619Z"
   },
   {
    "duration": 687,
    "start_time": "2022-09-04T05:21:31.746Z"
   },
   {
    "duration": 11,
    "start_time": "2022-09-04T05:21:36.481Z"
   },
   {
    "duration": 5,
    "start_time": "2022-09-04T05:21:46.890Z"
   },
   {
    "duration": 17,
    "start_time": "2022-09-04T05:21:54.773Z"
   },
   {
    "duration": 12,
    "start_time": "2022-09-04T05:22:27.021Z"
   },
   {
    "duration": 12,
    "start_time": "2022-09-04T05:22:57.509Z"
   },
   {
    "duration": 2,
    "start_time": "2022-09-04T05:23:18.611Z"
   },
   {
    "duration": 74,
    "start_time": "2022-09-04T05:23:18.615Z"
   },
   {
    "duration": 4,
    "start_time": "2022-09-04T05:23:18.690Z"
   },
   {
    "duration": 14,
    "start_time": "2022-09-04T05:23:18.695Z"
   },
   {
    "duration": 6,
    "start_time": "2022-09-04T05:23:18.711Z"
   },
   {
    "duration": 36,
    "start_time": "2022-09-04T05:23:18.719Z"
   },
   {
    "duration": 8,
    "start_time": "2022-09-04T05:23:18.757Z"
   },
   {
    "duration": 32,
    "start_time": "2022-09-04T05:23:18.767Z"
   },
   {
    "duration": 17,
    "start_time": "2022-09-04T05:23:18.800Z"
   },
   {
    "duration": 12,
    "start_time": "2022-09-04T05:23:18.818Z"
   },
   {
    "duration": 13,
    "start_time": "2022-09-04T05:23:18.832Z"
   },
   {
    "duration": 9,
    "start_time": "2022-09-04T05:23:18.847Z"
   },
   {
    "duration": 238,
    "start_time": "2022-09-04T05:23:18.858Z"
   },
   {
    "duration": 9,
    "start_time": "2022-09-04T05:23:19.099Z"
   },
   {
    "duration": 132,
    "start_time": "2022-09-04T05:23:19.109Z"
   },
   {
    "duration": 712,
    "start_time": "2022-09-04T05:23:19.242Z"
   },
   {
    "duration": 12,
    "start_time": "2022-09-04T05:23:23.406Z"
   },
   {
    "duration": 5,
    "start_time": "2022-09-04T05:23:28.051Z"
   },
   {
    "duration": 15,
    "start_time": "2022-09-04T05:23:29.491Z"
   },
   {
    "duration": 10,
    "start_time": "2022-09-04T05:24:24.364Z"
   },
   {
    "duration": 7,
    "start_time": "2022-09-04T05:24:25.375Z"
   },
   {
    "duration": 192,
    "start_time": "2022-09-04T05:25:02.422Z"
   },
   {
    "duration": 9,
    "start_time": "2022-09-04T05:25:29.108Z"
   },
   {
    "duration": 6,
    "start_time": "2022-09-04T05:25:29.459Z"
   },
   {
    "duration": 180,
    "start_time": "2022-09-04T05:25:30.682Z"
   },
   {
    "duration": 8,
    "start_time": "2022-09-04T05:25:48.985Z"
   },
   {
    "duration": 6,
    "start_time": "2022-09-04T05:26:44.699Z"
   },
   {
    "duration": 196,
    "start_time": "2022-09-04T05:27:01.890Z"
   },
   {
    "duration": 3,
    "start_time": "2022-09-04T05:30:37.242Z"
   },
   {
    "duration": 79,
    "start_time": "2022-09-04T05:30:37.248Z"
   },
   {
    "duration": 4,
    "start_time": "2022-09-04T05:30:37.329Z"
   },
   {
    "duration": 26,
    "start_time": "2022-09-04T05:30:37.334Z"
   },
   {
    "duration": 17,
    "start_time": "2022-09-04T05:30:37.362Z"
   },
   {
    "duration": 37,
    "start_time": "2022-09-04T05:30:37.382Z"
   },
   {
    "duration": 8,
    "start_time": "2022-09-04T05:30:37.421Z"
   },
   {
    "duration": 21,
    "start_time": "2022-09-04T05:30:37.431Z"
   },
   {
    "duration": 21,
    "start_time": "2022-09-04T05:30:37.454Z"
   },
   {
    "duration": 17,
    "start_time": "2022-09-04T05:30:37.477Z"
   },
   {
    "duration": 28,
    "start_time": "2022-09-04T05:30:37.495Z"
   },
   {
    "duration": 25,
    "start_time": "2022-09-04T05:30:37.525Z"
   },
   {
    "duration": 221,
    "start_time": "2022-09-04T05:30:37.551Z"
   },
   {
    "duration": 15,
    "start_time": "2022-09-04T05:30:37.773Z"
   },
   {
    "duration": 127,
    "start_time": "2022-09-04T05:30:37.790Z"
   },
   {
    "duration": 762,
    "start_time": "2022-09-04T05:30:37.919Z"
   },
   {
    "duration": 12,
    "start_time": "2022-09-04T05:30:38.682Z"
   },
   {
    "duration": 38,
    "start_time": "2022-09-04T05:30:38.696Z"
   },
   {
    "duration": 191,
    "start_time": "2022-09-04T05:30:38.737Z"
   },
   {
    "duration": 14,
    "start_time": "2022-09-04T05:30:38.931Z"
   },
   {
    "duration": 229,
    "start_time": "2022-09-04T05:30:38.946Z"
   },
   {
    "duration": 14,
    "start_time": "2022-09-04T05:30:39.177Z"
   },
   {
    "duration": 40,
    "start_time": "2022-09-04T05:30:47.307Z"
   },
   {
    "duration": 2922,
    "start_time": "2022-09-04T05:30:55.944Z"
   },
   {
    "duration": 49,
    "start_time": "2022-09-04T05:30:58.868Z"
   },
   {
    "duration": 142,
    "start_time": "2022-09-04T05:31:52.451Z"
   },
   {
    "duration": 55,
    "start_time": "2022-09-04T05:33:13.467Z"
   },
   {
    "duration": 22,
    "start_time": "2022-09-04T05:33:32.093Z"
   },
   {
    "duration": 43,
    "start_time": "2022-09-04T05:41:21.376Z"
   },
   {
    "duration": 161,
    "start_time": "2022-09-04T05:41:28.083Z"
   },
   {
    "duration": 20,
    "start_time": "2022-09-04T05:42:09.608Z"
   },
   {
    "duration": 21,
    "start_time": "2022-09-04T05:42:23.837Z"
   },
   {
    "duration": 27,
    "start_time": "2022-09-04T05:43:04.178Z"
   },
   {
    "duration": 162,
    "start_time": "2022-09-04T05:43:25.010Z"
   },
   {
    "duration": 34,
    "start_time": "2022-09-04T05:43:46.593Z"
   },
   {
    "duration": 29,
    "start_time": "2022-09-04T05:48:22.147Z"
   },
   {
    "duration": 23,
    "start_time": "2022-09-04T05:48:46.150Z"
   },
   {
    "duration": 237,
    "start_time": "2022-09-04T05:51:36.467Z"
   },
   {
    "duration": 20,
    "start_time": "2022-09-04T05:51:54.130Z"
   },
   {
    "duration": 3,
    "start_time": "2022-09-04T05:52:53.305Z"
   },
   {
    "duration": 85,
    "start_time": "2022-09-04T05:52:53.311Z"
   },
   {
    "duration": 7,
    "start_time": "2022-09-04T05:52:53.398Z"
   },
   {
    "duration": 21,
    "start_time": "2022-09-04T05:52:53.407Z"
   },
   {
    "duration": 8,
    "start_time": "2022-09-04T05:52:53.432Z"
   },
   {
    "duration": 68,
    "start_time": "2022-09-04T05:52:53.442Z"
   },
   {
    "duration": 11,
    "start_time": "2022-09-04T05:52:53.512Z"
   },
   {
    "duration": 21,
    "start_time": "2022-09-04T05:52:53.525Z"
   },
   {
    "duration": 46,
    "start_time": "2022-09-04T05:52:53.549Z"
   },
   {
    "duration": 17,
    "start_time": "2022-09-04T05:52:53.597Z"
   },
   {
    "duration": 17,
    "start_time": "2022-09-04T05:52:53.616Z"
   },
   {
    "duration": 10,
    "start_time": "2022-09-04T05:52:53.635Z"
   },
   {
    "duration": 234,
    "start_time": "2022-09-04T05:52:53.647Z"
   },
   {
    "duration": 18,
    "start_time": "2022-09-04T05:52:53.888Z"
   },
   {
    "duration": 129,
    "start_time": "2022-09-04T05:52:53.908Z"
   },
   {
    "duration": 714,
    "start_time": "2022-09-04T05:52:54.038Z"
   },
   {
    "duration": 10,
    "start_time": "2022-09-04T05:52:54.753Z"
   },
   {
    "duration": 15,
    "start_time": "2022-09-04T05:52:54.765Z"
   },
   {
    "duration": 187,
    "start_time": "2022-09-04T05:52:54.791Z"
   },
   {
    "duration": 24,
    "start_time": "2022-09-04T05:52:54.980Z"
   },
   {
    "duration": 232,
    "start_time": "2022-09-04T05:52:55.005Z"
   },
   {
    "duration": 8,
    "start_time": "2022-09-04T05:52:55.239Z"
   },
   {
    "duration": 128,
    "start_time": "2022-09-04T05:52:55.249Z"
   },
   {
    "duration": 2841,
    "start_time": "2022-09-04T05:52:55.378Z"
   },
   {
    "duration": 49,
    "start_time": "2022-09-04T05:52:58.221Z"
   },
   {
    "duration": 162,
    "start_time": "2022-09-04T05:52:58.272Z"
   },
   {
    "duration": 235,
    "start_time": "2022-09-04T05:52:58.437Z"
   },
   {
    "duration": 163,
    "start_time": "2022-09-04T05:52:58.674Z"
   },
   {
    "duration": 12,
    "start_time": "2022-09-04T05:52:58.839Z"
   },
   {
    "duration": 24,
    "start_time": "2022-09-04T05:54:22.015Z"
   },
   {
    "duration": 11,
    "start_time": "2022-09-04T05:54:53.733Z"
   },
   {
    "duration": 9,
    "start_time": "2022-09-04T05:55:41.274Z"
   },
   {
    "duration": 67,
    "start_time": "2022-09-04T05:57:11.981Z"
   },
   {
    "duration": 12,
    "start_time": "2022-09-04T05:57:17.437Z"
   },
   {
    "duration": 3,
    "start_time": "2022-09-04T05:57:29.018Z"
   },
   {
    "duration": 89,
    "start_time": "2022-09-04T05:57:29.023Z"
   },
   {
    "duration": 3,
    "start_time": "2022-09-04T05:57:29.114Z"
   },
   {
    "duration": 25,
    "start_time": "2022-09-04T05:57:29.119Z"
   },
   {
    "duration": 23,
    "start_time": "2022-09-04T05:57:29.146Z"
   },
   {
    "duration": 73,
    "start_time": "2022-09-04T05:57:29.171Z"
   },
   {
    "duration": 12,
    "start_time": "2022-09-04T05:57:29.246Z"
   },
   {
    "duration": 42,
    "start_time": "2022-09-04T05:57:29.259Z"
   },
   {
    "duration": 24,
    "start_time": "2022-09-04T05:57:29.303Z"
   },
   {
    "duration": 24,
    "start_time": "2022-09-04T05:57:29.329Z"
   },
   {
    "duration": 49,
    "start_time": "2022-09-04T05:57:29.355Z"
   },
   {
    "duration": 34,
    "start_time": "2022-09-04T05:57:29.408Z"
   },
   {
    "duration": 236,
    "start_time": "2022-09-04T05:57:29.444Z"
   },
   {
    "duration": 16,
    "start_time": "2022-09-04T05:57:29.690Z"
   },
   {
    "duration": 164,
    "start_time": "2022-09-04T05:57:29.708Z"
   },
   {
    "duration": 836,
    "start_time": "2022-09-04T05:57:29.874Z"
   },
   {
    "duration": 11,
    "start_time": "2022-09-04T05:57:30.712Z"
   },
   {
    "duration": 27,
    "start_time": "2022-09-04T05:57:30.725Z"
   },
   {
    "duration": 241,
    "start_time": "2022-09-04T05:57:30.754Z"
   },
   {
    "duration": 15,
    "start_time": "2022-09-04T05:57:30.996Z"
   },
   {
    "duration": 273,
    "start_time": "2022-09-04T05:57:31.013Z"
   },
   {
    "duration": 20,
    "start_time": "2022-09-04T05:57:31.290Z"
   },
   {
    "duration": 62,
    "start_time": "2022-09-04T05:57:31.312Z"
   },
   {
    "duration": 1958,
    "start_time": "2022-09-04T05:57:31.376Z"
   },
   {
    "duration": 66,
    "start_time": "2022-09-04T05:57:33.336Z"
   },
   {
    "duration": 152,
    "start_time": "2022-09-04T05:57:33.405Z"
   },
   {
    "duration": 272,
    "start_time": "2022-09-04T05:57:33.559Z"
   },
   {
    "duration": 155,
    "start_time": "2022-09-04T05:57:33.832Z"
   },
   {
    "duration": 10,
    "start_time": "2022-09-04T05:57:43.735Z"
   },
   {
    "duration": 17,
    "start_time": "2022-09-04T05:58:12.654Z"
   },
   {
    "duration": 1069,
    "start_time": "2022-09-04T05:58:28.438Z"
   },
   {
    "duration": 77,
    "start_time": "2022-09-04T05:58:29.508Z"
   },
   {
    "duration": 10,
    "start_time": "2022-09-04T05:58:29.586Z"
   },
   {
    "duration": 40,
    "start_time": "2022-09-04T05:58:29.600Z"
   },
   {
    "duration": 20,
    "start_time": "2022-09-04T05:58:29.642Z"
   },
   {
    "duration": 55,
    "start_time": "2022-09-04T05:58:29.665Z"
   },
   {
    "duration": 10,
    "start_time": "2022-09-04T05:58:29.722Z"
   },
   {
    "duration": 17,
    "start_time": "2022-09-04T05:58:29.734Z"
   },
   {
    "duration": 36,
    "start_time": "2022-09-04T05:58:29.753Z"
   },
   {
    "duration": 17,
    "start_time": "2022-09-04T05:58:29.792Z"
   },
   {
    "duration": 15,
    "start_time": "2022-09-04T05:58:29.812Z"
   },
   {
    "duration": 12,
    "start_time": "2022-09-04T05:58:29.828Z"
   },
   {
    "duration": 271,
    "start_time": "2022-09-04T05:58:29.842Z"
   },
   {
    "duration": 10,
    "start_time": "2022-09-04T05:58:30.115Z"
   },
   {
    "duration": 136,
    "start_time": "2022-09-04T05:58:30.126Z"
   },
   {
    "duration": 749,
    "start_time": "2022-09-04T05:58:30.264Z"
   },
   {
    "duration": 10,
    "start_time": "2022-09-04T05:58:31.014Z"
   },
   {
    "duration": 13,
    "start_time": "2022-09-04T05:58:31.026Z"
   },
   {
    "duration": 219,
    "start_time": "2022-09-04T05:58:31.040Z"
   },
   {
    "duration": 12,
    "start_time": "2022-09-04T05:58:31.260Z"
   },
   {
    "duration": 248,
    "start_time": "2022-09-04T05:58:31.273Z"
   },
   {
    "duration": 12,
    "start_time": "2022-09-04T05:58:31.523Z"
   },
   {
    "duration": 77,
    "start_time": "2022-09-04T05:58:31.537Z"
   },
   {
    "duration": 2038,
    "start_time": "2022-09-04T05:58:31.615Z"
   },
   {
    "duration": 66,
    "start_time": "2022-09-04T05:58:33.655Z"
   },
   {
    "duration": 154,
    "start_time": "2022-09-04T05:58:33.723Z"
   },
   {
    "duration": 346,
    "start_time": "2022-09-04T05:58:33.879Z"
   },
   {
    "duration": 152,
    "start_time": "2022-09-04T05:58:34.229Z"
   },
   {
    "duration": 24,
    "start_time": "2022-09-04T05:58:34.383Z"
   },
   {
    "duration": 4,
    "start_time": "2022-09-04T06:05:46.631Z"
   },
   {
    "duration": 227,
    "start_time": "2022-09-04T06:06:18.316Z"
   },
   {
    "duration": 49,
    "start_time": "2022-09-04T10:28:32.244Z"
   },
   {
    "duration": 1273,
    "start_time": "2022-09-04T10:28:38.467Z"
   },
   {
    "duration": 127,
    "start_time": "2022-09-04T10:28:39.742Z"
   },
   {
    "duration": 3,
    "start_time": "2022-09-04T10:28:39.871Z"
   },
   {
    "duration": 14,
    "start_time": "2022-09-04T10:28:39.876Z"
   },
   {
    "duration": 6,
    "start_time": "2022-09-04T10:28:39.892Z"
   },
   {
    "duration": 32,
    "start_time": "2022-09-04T10:28:39.900Z"
   },
   {
    "duration": 8,
    "start_time": "2022-09-04T10:28:39.934Z"
   },
   {
    "duration": 38,
    "start_time": "2022-09-04T10:28:39.943Z"
   },
   {
    "duration": 17,
    "start_time": "2022-09-04T10:28:39.983Z"
   },
   {
    "duration": 12,
    "start_time": "2022-09-04T10:28:40.002Z"
   },
   {
    "duration": 15,
    "start_time": "2022-09-04T10:28:40.016Z"
   },
   {
    "duration": 36,
    "start_time": "2022-09-04T10:28:40.032Z"
   },
   {
    "duration": 230,
    "start_time": "2022-09-04T10:28:40.070Z"
   },
   {
    "duration": 10,
    "start_time": "2022-09-04T10:28:40.302Z"
   },
   {
    "duration": 130,
    "start_time": "2022-09-04T10:28:40.313Z"
   },
   {
    "duration": 708,
    "start_time": "2022-09-04T10:28:40.445Z"
   },
   {
    "duration": 21,
    "start_time": "2022-09-04T10:28:41.155Z"
   },
   {
    "duration": 10,
    "start_time": "2022-09-04T10:28:41.177Z"
   },
   {
    "duration": 199,
    "start_time": "2022-09-04T10:28:41.188Z"
   },
   {
    "duration": 14,
    "start_time": "2022-09-04T10:28:41.389Z"
   },
   {
    "duration": 247,
    "start_time": "2022-09-04T10:28:41.404Z"
   },
   {
    "duration": 15,
    "start_time": "2022-09-04T10:28:41.652Z"
   },
   {
    "duration": 44,
    "start_time": "2022-09-04T10:28:41.669Z"
   },
   {
    "duration": 3759,
    "start_time": "2022-09-04T10:28:41.714Z"
   },
   {
    "duration": 58,
    "start_time": "2022-09-04T10:28:45.477Z"
   },
   {
    "duration": 174,
    "start_time": "2022-09-04T10:28:45.537Z"
   },
   {
    "duration": 142,
    "start_time": "2022-09-04T10:29:14.642Z"
   },
   {
    "duration": 41,
    "start_time": "2022-09-04T10:29:15.757Z"
   },
   {
    "duration": 45,
    "start_time": "2022-09-04T10:29:20.923Z"
   },
   {
    "duration": 125,
    "start_time": "2022-09-04T10:29:44.370Z"
   },
   {
    "duration": 55,
    "start_time": "2022-09-04T10:32:03.944Z"
   },
   {
    "duration": 56,
    "start_time": "2022-09-04T10:32:56.315Z"
   },
   {
    "duration": 65,
    "start_time": "2022-09-04T10:33:16.668Z"
   },
   {
    "duration": 8,
    "start_time": "2022-09-04T10:33:54.962Z"
   },
   {
    "duration": 52,
    "start_time": "2022-09-04T10:34:17.609Z"
   },
   {
    "duration": 56,
    "start_time": "2022-09-04T10:34:37.126Z"
   },
   {
    "duration": 1374,
    "start_time": "2022-09-05T04:44:10.167Z"
   },
   {
    "duration": 341,
    "start_time": "2022-09-05T04:44:11.543Z"
   },
   {
    "duration": 3,
    "start_time": "2022-09-05T04:44:11.886Z"
   },
   {
    "duration": 27,
    "start_time": "2022-09-05T04:44:11.891Z"
   },
   {
    "duration": 8,
    "start_time": "2022-09-05T04:44:11.919Z"
   },
   {
    "duration": 45,
    "start_time": "2022-09-05T04:44:11.929Z"
   },
   {
    "duration": 8,
    "start_time": "2022-09-05T04:44:11.976Z"
   },
   {
    "duration": 33,
    "start_time": "2022-09-05T04:44:11.986Z"
   },
   {
    "duration": 33,
    "start_time": "2022-09-05T04:44:12.020Z"
   },
   {
    "duration": 16,
    "start_time": "2022-09-05T04:44:12.055Z"
   },
   {
    "duration": 24,
    "start_time": "2022-09-05T04:44:12.072Z"
   },
   {
    "duration": 11,
    "start_time": "2022-09-05T04:44:12.097Z"
   },
   {
    "duration": 231,
    "start_time": "2022-09-05T04:44:12.109Z"
   },
   {
    "duration": 17,
    "start_time": "2022-09-05T04:44:12.341Z"
   },
   {
    "duration": 139,
    "start_time": "2022-09-05T04:44:12.359Z"
   },
   {
    "duration": 673,
    "start_time": "2022-09-05T04:44:12.500Z"
   },
   {
    "duration": 9,
    "start_time": "2022-09-05T04:44:13.175Z"
   },
   {
    "duration": 9,
    "start_time": "2022-09-05T04:44:13.186Z"
   },
   {
    "duration": 215,
    "start_time": "2022-09-05T04:44:13.196Z"
   },
   {
    "duration": 12,
    "start_time": "2022-09-05T04:44:13.413Z"
   },
   {
    "duration": 223,
    "start_time": "2022-09-05T04:44:13.427Z"
   },
   {
    "duration": 9,
    "start_time": "2022-09-05T04:44:13.652Z"
   },
   {
    "duration": 53,
    "start_time": "2022-09-05T04:44:13.663Z"
   },
   {
    "duration": 2409,
    "start_time": "2022-09-05T04:44:13.718Z"
   },
   {
    "duration": 54,
    "start_time": "2022-09-05T04:44:16.129Z"
   },
   {
    "duration": 138,
    "start_time": "2022-09-05T04:44:16.185Z"
   },
   {
    "duration": 61,
    "start_time": "2022-09-05T04:44:16.325Z"
   },
   {
    "duration": 282,
    "start_time": "2022-09-05T04:44:16.388Z"
   },
   {
    "duration": 139,
    "start_time": "2022-09-05T04:44:16.672Z"
   },
   {
    "duration": 10,
    "start_time": "2022-09-05T04:44:16.812Z"
   },
   {
    "duration": 2,
    "start_time": "2022-09-05T04:52:14.505Z"
   },
   {
    "duration": 85,
    "start_time": "2022-09-05T04:52:14.509Z"
   },
   {
    "duration": 4,
    "start_time": "2022-09-05T04:52:14.595Z"
   },
   {
    "duration": 23,
    "start_time": "2022-09-05T04:52:14.602Z"
   },
   {
    "duration": 10,
    "start_time": "2022-09-05T04:52:14.628Z"
   },
   {
    "duration": 42,
    "start_time": "2022-09-05T04:52:14.640Z"
   },
   {
    "duration": 8,
    "start_time": "2022-09-05T04:52:14.683Z"
   },
   {
    "duration": 16,
    "start_time": "2022-09-05T04:52:14.693Z"
   },
   {
    "duration": 20,
    "start_time": "2022-09-05T04:52:14.710Z"
   },
   {
    "duration": 28,
    "start_time": "2022-09-05T04:52:14.731Z"
   },
   {
    "duration": 18,
    "start_time": "2022-09-05T04:52:14.761Z"
   },
   {
    "duration": 12,
    "start_time": "2022-09-05T04:52:14.780Z"
   },
   {
    "duration": 241,
    "start_time": "2022-09-05T04:52:14.793Z"
   },
   {
    "duration": 21,
    "start_time": "2022-09-05T04:52:15.037Z"
   },
   {
    "duration": 123,
    "start_time": "2022-09-05T04:52:15.060Z"
   },
   {
    "duration": 813,
    "start_time": "2022-09-05T04:52:15.185Z"
   },
   {
    "duration": 10,
    "start_time": "2022-09-05T04:52:15.999Z"
   },
   {
    "duration": 21,
    "start_time": "2022-09-05T04:52:16.011Z"
   },
   {
    "duration": 197,
    "start_time": "2022-09-05T04:52:16.033Z"
   },
   {
    "duration": 11,
    "start_time": "2022-09-05T04:52:16.232Z"
   },
   {
    "duration": 215,
    "start_time": "2022-09-05T04:52:16.244Z"
   },
   {
    "duration": 9,
    "start_time": "2022-09-05T04:52:16.460Z"
   },
   {
    "duration": 41,
    "start_time": "2022-09-05T04:52:16.470Z"
   },
   {
    "duration": 2378,
    "start_time": "2022-09-05T04:52:16.513Z"
   },
   {
    "duration": 48,
    "start_time": "2022-09-05T04:52:18.892Z"
   },
   {
    "duration": 155,
    "start_time": "2022-09-05T04:52:18.941Z"
   },
   {
    "duration": 69,
    "start_time": "2022-09-05T04:52:19.097Z"
   },
   {
    "duration": 499,
    "start_time": "2022-09-05T04:53:00.817Z"
   },
   {
    "duration": 11,
    "start_time": "2022-09-05T04:56:19.791Z"
   },
   {
    "duration": 5,
    "start_time": "2022-09-05T04:56:25.886Z"
   },
   {
    "duration": 3,
    "start_time": "2022-09-05T04:56:29.973Z"
   },
   {
    "duration": 74,
    "start_time": "2022-09-05T04:56:29.978Z"
   },
   {
    "duration": 3,
    "start_time": "2022-09-05T04:56:30.054Z"
   },
   {
    "duration": 17,
    "start_time": "2022-09-05T04:56:30.059Z"
   },
   {
    "duration": 8,
    "start_time": "2022-09-05T04:56:30.079Z"
   },
   {
    "duration": 32,
    "start_time": "2022-09-05T04:56:30.089Z"
   },
   {
    "duration": 8,
    "start_time": "2022-09-05T04:56:30.123Z"
   },
   {
    "duration": 35,
    "start_time": "2022-09-05T04:56:30.132Z"
   },
   {
    "duration": 24,
    "start_time": "2022-09-05T04:56:30.168Z"
   },
   {
    "duration": 12,
    "start_time": "2022-09-05T04:56:30.194Z"
   },
   {
    "duration": 14,
    "start_time": "2022-09-05T04:56:30.207Z"
   },
   {
    "duration": 10,
    "start_time": "2022-09-05T04:56:30.222Z"
   },
   {
    "duration": 220,
    "start_time": "2022-09-05T04:56:30.233Z"
   },
   {
    "duration": 9,
    "start_time": "2022-09-05T04:56:30.457Z"
   },
   {
    "duration": 124,
    "start_time": "2022-09-05T04:56:30.467Z"
   },
   {
    "duration": 644,
    "start_time": "2022-09-05T04:56:30.592Z"
   },
   {
    "duration": 18,
    "start_time": "2022-09-05T04:56:31.239Z"
   },
   {
    "duration": 6,
    "start_time": "2022-09-05T04:56:31.259Z"
   },
   {
    "duration": 260,
    "start_time": "2022-09-05T04:56:31.266Z"
   },
   {
    "duration": 11,
    "start_time": "2022-09-05T04:56:31.528Z"
   },
   {
    "duration": 212,
    "start_time": "2022-09-05T04:56:31.541Z"
   },
   {
    "duration": 10,
    "start_time": "2022-09-05T04:56:31.754Z"
   },
   {
    "duration": 58,
    "start_time": "2022-09-05T04:56:31.765Z"
   },
   {
    "duration": 1545,
    "start_time": "2022-09-05T04:56:31.825Z"
   },
   {
    "duration": 49,
    "start_time": "2022-09-05T04:56:33.371Z"
   },
   {
    "duration": 42,
    "start_time": "2022-09-05T04:56:55.079Z"
   },
   {
    "duration": 3,
    "start_time": "2022-09-05T04:56:56.058Z"
   },
   {
    "duration": 42,
    "start_time": "2022-09-05T04:57:03.803Z"
   },
   {
    "duration": 4,
    "start_time": "2022-09-05T04:57:05.577Z"
   },
   {
    "duration": 68,
    "start_time": "2022-09-05T04:57:12.949Z"
   },
   {
    "duration": 4,
    "start_time": "2022-09-05T05:03:50.043Z"
   },
   {
    "duration": 9,
    "start_time": "2022-09-05T05:06:18.704Z"
   },
   {
    "duration": 10,
    "start_time": "2022-09-05T05:11:37.029Z"
   },
   {
    "duration": 3,
    "start_time": "2022-09-05T05:11:49.689Z"
   },
   {
    "duration": 72,
    "start_time": "2022-09-05T05:11:49.693Z"
   },
   {
    "duration": 3,
    "start_time": "2022-09-05T05:11:49.766Z"
   },
   {
    "duration": 13,
    "start_time": "2022-09-05T05:11:49.770Z"
   },
   {
    "duration": 5,
    "start_time": "2022-09-05T05:11:49.785Z"
   },
   {
    "duration": 30,
    "start_time": "2022-09-05T05:11:49.792Z"
   },
   {
    "duration": 34,
    "start_time": "2022-09-05T05:11:49.823Z"
   },
   {
    "duration": 15,
    "start_time": "2022-09-05T05:11:49.859Z"
   },
   {
    "duration": 17,
    "start_time": "2022-09-05T05:11:49.876Z"
   },
   {
    "duration": 11,
    "start_time": "2022-09-05T05:11:49.895Z"
   },
   {
    "duration": 14,
    "start_time": "2022-09-05T05:11:49.907Z"
   },
   {
    "duration": 40,
    "start_time": "2022-09-05T05:11:49.922Z"
   },
   {
    "duration": 206,
    "start_time": "2022-09-05T05:11:49.963Z"
   },
   {
    "duration": 9,
    "start_time": "2022-09-05T05:11:50.172Z"
   },
   {
    "duration": 131,
    "start_time": "2022-09-05T05:11:50.183Z"
   },
   {
    "duration": 655,
    "start_time": "2022-09-05T05:11:50.316Z"
   },
   {
    "duration": 8,
    "start_time": "2022-09-05T05:11:50.973Z"
   },
   {
    "duration": 12,
    "start_time": "2022-09-05T05:11:50.983Z"
   },
   {
    "duration": 198,
    "start_time": "2022-09-05T05:11:50.997Z"
   },
   {
    "duration": 13,
    "start_time": "2022-09-05T05:11:51.197Z"
   },
   {
    "duration": 222,
    "start_time": "2022-09-05T05:11:51.212Z"
   },
   {
    "duration": 9,
    "start_time": "2022-09-05T05:11:51.436Z"
   },
   {
    "duration": 38,
    "start_time": "2022-09-05T05:11:51.457Z"
   },
   {
    "duration": 2588,
    "start_time": "2022-09-05T05:11:51.497Z"
   },
   {
    "duration": 51,
    "start_time": "2022-09-05T05:11:54.087Z"
   },
   {
    "duration": 4,
    "start_time": "2022-09-05T05:11:54.139Z"
   },
   {
    "duration": 141,
    "start_time": "2022-09-05T05:11:54.157Z"
   },
   {
    "duration": 3,
    "start_time": "2022-09-05T05:11:54.300Z"
   },
   {
    "duration": 220,
    "start_time": "2022-09-05T05:11:54.305Z"
   },
   {
    "duration": 95,
    "start_time": "2022-09-05T05:11:54.526Z"
   },
   {
    "duration": 4,
    "start_time": "2022-09-05T05:13:03.240Z"
   },
   {
    "duration": 72,
    "start_time": "2022-09-05T05:13:03.246Z"
   },
   {
    "duration": 3,
    "start_time": "2022-09-05T05:13:03.320Z"
   },
   {
    "duration": 15,
    "start_time": "2022-09-05T05:13:03.325Z"
   },
   {
    "duration": 6,
    "start_time": "2022-09-05T05:13:03.341Z"
   },
   {
    "duration": 30,
    "start_time": "2022-09-05T05:13:03.349Z"
   },
   {
    "duration": 8,
    "start_time": "2022-09-05T05:13:03.381Z"
   },
   {
    "duration": 18,
    "start_time": "2022-09-05T05:13:03.390Z"
   },
   {
    "duration": 22,
    "start_time": "2022-09-05T05:13:03.410Z"
   },
   {
    "duration": 32,
    "start_time": "2022-09-05T05:13:03.437Z"
   },
   {
    "duration": 14,
    "start_time": "2022-09-05T05:13:03.470Z"
   },
   {
    "duration": 10,
    "start_time": "2022-09-05T05:13:03.485Z"
   },
   {
    "duration": 225,
    "start_time": "2022-09-05T05:13:03.496Z"
   },
   {
    "duration": 10,
    "start_time": "2022-09-05T05:13:03.723Z"
   },
   {
    "duration": 134,
    "start_time": "2022-09-05T05:13:03.735Z"
   },
   {
    "duration": 657,
    "start_time": "2022-09-05T05:13:03.870Z"
   },
   {
    "duration": 9,
    "start_time": "2022-09-05T05:13:04.529Z"
   },
   {
    "duration": 18,
    "start_time": "2022-09-05T05:13:04.540Z"
   },
   {
    "duration": 181,
    "start_time": "2022-09-05T05:13:04.560Z"
   },
   {
    "duration": 21,
    "start_time": "2022-09-05T05:13:04.742Z"
   },
   {
    "duration": 213,
    "start_time": "2022-09-05T05:13:04.765Z"
   },
   {
    "duration": 8,
    "start_time": "2022-09-05T05:13:04.979Z"
   },
   {
    "duration": 44,
    "start_time": "2022-09-05T05:13:04.989Z"
   },
   {
    "duration": 1689,
    "start_time": "2022-09-05T05:13:05.035Z"
   },
   {
    "duration": 48,
    "start_time": "2022-09-05T05:13:06.726Z"
   },
   {
    "duration": 4,
    "start_time": "2022-09-05T05:13:06.775Z"
   },
   {
    "duration": 78,
    "start_time": "2022-09-05T05:13:06.780Z"
   },
   {
    "duration": 4,
    "start_time": "2022-09-05T05:13:06.861Z"
   },
   {
    "duration": 225,
    "start_time": "2022-09-05T05:13:06.866Z"
   },
   {
    "duration": 103,
    "start_time": "2022-09-05T05:13:13.307Z"
   },
   {
    "duration": 9,
    "start_time": "2022-09-05T05:20:53.642Z"
   },
   {
    "duration": 8,
    "start_time": "2022-09-05T05:20:58.856Z"
   },
   {
    "duration": 46,
    "start_time": "2022-09-05T05:22:22.809Z"
   },
   {
    "duration": 4,
    "start_time": "2022-09-05T05:22:24.267Z"
   },
   {
    "duration": 134,
    "start_time": "2022-09-05T05:22:27.487Z"
   },
   {
    "duration": 3,
    "start_time": "2022-09-05T05:22:59.231Z"
   },
   {
    "duration": 70,
    "start_time": "2022-09-05T05:22:59.236Z"
   },
   {
    "duration": 4,
    "start_time": "2022-09-05T05:22:59.308Z"
   },
   {
    "duration": 13,
    "start_time": "2022-09-05T05:22:59.313Z"
   },
   {
    "duration": 5,
    "start_time": "2022-09-05T05:22:59.328Z"
   },
   {
    "duration": 40,
    "start_time": "2022-09-05T05:22:59.334Z"
   },
   {
    "duration": 8,
    "start_time": "2022-09-05T05:22:59.375Z"
   },
   {
    "duration": 17,
    "start_time": "2022-09-05T05:22:59.384Z"
   },
   {
    "duration": 16,
    "start_time": "2022-09-05T05:22:59.403Z"
   },
   {
    "duration": 37,
    "start_time": "2022-09-05T05:22:59.420Z"
   },
   {
    "duration": 14,
    "start_time": "2022-09-05T05:22:59.459Z"
   },
   {
    "duration": 10,
    "start_time": "2022-09-05T05:22:59.474Z"
   },
   {
    "duration": 221,
    "start_time": "2022-09-05T05:22:59.486Z"
   },
   {
    "duration": 9,
    "start_time": "2022-09-05T05:22:59.709Z"
   },
   {
    "duration": 124,
    "start_time": "2022-09-05T05:22:59.720Z"
   },
   {
    "duration": 743,
    "start_time": "2022-09-05T05:22:59.846Z"
   },
   {
    "duration": 9,
    "start_time": "2022-09-05T05:23:00.591Z"
   },
   {
    "duration": 17,
    "start_time": "2022-09-05T05:23:00.602Z"
   },
   {
    "duration": 191,
    "start_time": "2022-09-05T05:23:00.620Z"
   },
   {
    "duration": 12,
    "start_time": "2022-09-05T05:23:00.813Z"
   },
   {
    "duration": 213,
    "start_time": "2022-09-05T05:23:00.826Z"
   },
   {
    "duration": 8,
    "start_time": "2022-09-05T05:23:01.041Z"
   },
   {
    "duration": 47,
    "start_time": "2022-09-05T05:23:01.057Z"
   },
   {
    "duration": 2873,
    "start_time": "2022-09-05T05:23:01.106Z"
   },
   {
    "duration": 51,
    "start_time": "2022-09-05T05:23:03.981Z"
   },
   {
    "duration": 4,
    "start_time": "2022-09-05T05:23:04.033Z"
   },
   {
    "duration": 77,
    "start_time": "2022-09-05T05:23:04.039Z"
   },
   {
    "duration": 5,
    "start_time": "2022-09-05T05:23:04.118Z"
   },
   {
    "duration": 240,
    "start_time": "2022-09-05T05:23:04.124Z"
   },
   {
    "duration": 9,
    "start_time": "2022-09-05T05:23:04.366Z"
   },
   {
    "duration": 144,
    "start_time": "2022-09-05T05:23:04.376Z"
   },
   {
    "duration": 1112,
    "start_time": "2022-09-05T05:23:06.157Z"
   },
   {
    "duration": 73,
    "start_time": "2022-09-05T05:23:07.270Z"
   },
   {
    "duration": 3,
    "start_time": "2022-09-05T05:23:07.344Z"
   },
   {
    "duration": 14,
    "start_time": "2022-09-05T05:23:07.349Z"
   },
   {
    "duration": 5,
    "start_time": "2022-09-05T05:23:07.365Z"
   },
   {
    "duration": 33,
    "start_time": "2022-09-05T05:23:07.371Z"
   },
   {
    "duration": 9,
    "start_time": "2022-09-05T05:23:07.406Z"
   },
   {
    "duration": 15,
    "start_time": "2022-09-05T05:23:07.417Z"
   },
   {
    "duration": 30,
    "start_time": "2022-09-05T05:23:07.434Z"
   },
   {
    "duration": 12,
    "start_time": "2022-09-05T05:23:07.466Z"
   },
   {
    "duration": 14,
    "start_time": "2022-09-05T05:23:07.479Z"
   },
   {
    "duration": 9,
    "start_time": "2022-09-05T05:23:07.495Z"
   },
   {
    "duration": 229,
    "start_time": "2022-09-05T05:23:07.506Z"
   },
   {
    "duration": 8,
    "start_time": "2022-09-05T05:23:07.738Z"
   },
   {
    "duration": 123,
    "start_time": "2022-09-05T05:23:07.748Z"
   },
   {
    "duration": 656,
    "start_time": "2022-09-05T05:23:07.873Z"
   },
   {
    "duration": 10,
    "start_time": "2022-09-05T05:23:08.530Z"
   },
   {
    "duration": 6,
    "start_time": "2022-09-05T05:23:08.541Z"
   },
   {
    "duration": 187,
    "start_time": "2022-09-05T05:23:08.557Z"
   },
   {
    "duration": 20,
    "start_time": "2022-09-05T05:23:08.746Z"
   },
   {
    "duration": 213,
    "start_time": "2022-09-05T05:23:08.768Z"
   },
   {
    "duration": 7,
    "start_time": "2022-09-05T05:23:08.983Z"
   },
   {
    "duration": 39,
    "start_time": "2022-09-05T05:23:08.992Z"
   },
   {
    "duration": 1726,
    "start_time": "2022-09-05T05:23:09.032Z"
   },
   {
    "duration": 51,
    "start_time": "2022-09-05T05:23:10.759Z"
   },
   {
    "duration": 3,
    "start_time": "2022-09-05T05:23:10.812Z"
   },
   {
    "duration": 74,
    "start_time": "2022-09-05T05:23:10.817Z"
   },
   {
    "duration": 3,
    "start_time": "2022-09-05T05:23:10.893Z"
   },
   {
    "duration": 326,
    "start_time": "2022-09-05T05:23:10.898Z"
   },
   {
    "duration": 9,
    "start_time": "2022-09-05T05:23:11.226Z"
   },
   {
    "duration": 149,
    "start_time": "2022-09-05T05:23:11.237Z"
   },
   {
    "duration": 9,
    "start_time": "2022-09-05T05:23:11.387Z"
   },
   {
    "duration": 55,
    "start_time": "2022-09-05T05:25:27.397Z"
   },
   {
    "duration": 3,
    "start_time": "2022-09-05T05:25:31.509Z"
   },
   {
    "duration": 6,
    "start_time": "2022-09-05T05:28:34.683Z"
   },
   {
    "duration": 6,
    "start_time": "2022-09-05T05:28:49.344Z"
   },
   {
    "duration": 125,
    "start_time": "2022-09-05T05:28:54.453Z"
   },
   {
    "duration": 6,
    "start_time": "2022-09-05T05:29:02.896Z"
   },
   {
    "duration": 287,
    "start_time": "2022-09-05T05:29:05.558Z"
   },
   {
    "duration": 8,
    "start_time": "2022-09-05T05:29:09.518Z"
   },
   {
    "duration": 225,
    "start_time": "2022-09-05T05:29:15.230Z"
   },
   {
    "duration": 12,
    "start_time": "2022-09-05T05:29:32.825Z"
   },
   {
    "duration": 13,
    "start_time": "2022-09-05T05:30:44.730Z"
   },
   {
    "duration": 14,
    "start_time": "2022-09-05T05:30:49.509Z"
   },
   {
    "duration": 15,
    "start_time": "2022-09-05T05:30:54.174Z"
   },
   {
    "duration": 16,
    "start_time": "2022-09-05T05:30:55.581Z"
   },
   {
    "duration": 10,
    "start_time": "2022-09-05T05:30:56.745Z"
   },
   {
    "duration": 9,
    "start_time": "2022-09-05T05:30:57.996Z"
   },
   {
    "duration": 10,
    "start_time": "2022-09-05T05:30:59.128Z"
   },
   {
    "duration": 11,
    "start_time": "2022-09-05T05:31:00.180Z"
   },
   {
    "duration": 16,
    "start_time": "2022-09-05T05:31:01.171Z"
   },
   {
    "duration": 16,
    "start_time": "2022-09-05T05:31:27.419Z"
   },
   {
    "duration": 122,
    "start_time": "2022-09-05T05:31:43.846Z"
   },
   {
    "duration": 16,
    "start_time": "2022-09-05T05:31:49.932Z"
   },
   {
    "duration": 4,
    "start_time": "2022-09-05T05:31:56.673Z"
   },
   {
    "duration": 75,
    "start_time": "2022-09-05T05:31:56.679Z"
   },
   {
    "duration": 5,
    "start_time": "2022-09-05T05:31:56.756Z"
   },
   {
    "duration": 27,
    "start_time": "2022-09-05T05:31:56.764Z"
   },
   {
    "duration": 8,
    "start_time": "2022-09-05T05:31:56.792Z"
   },
   {
    "duration": 30,
    "start_time": "2022-09-05T05:31:56.802Z"
   },
   {
    "duration": 8,
    "start_time": "2022-09-05T05:31:56.834Z"
   },
   {
    "duration": 32,
    "start_time": "2022-09-05T05:31:56.843Z"
   },
   {
    "duration": 28,
    "start_time": "2022-09-05T05:31:56.877Z"
   },
   {
    "duration": 16,
    "start_time": "2022-09-05T05:31:56.909Z"
   },
   {
    "duration": 42,
    "start_time": "2022-09-05T05:31:56.927Z"
   },
   {
    "duration": 16,
    "start_time": "2022-09-05T05:31:56.972Z"
   },
   {
    "duration": 224,
    "start_time": "2022-09-05T05:31:56.989Z"
   },
   {
    "duration": 10,
    "start_time": "2022-09-05T05:31:57.214Z"
   },
   {
    "duration": 161,
    "start_time": "2022-09-05T05:31:57.225Z"
   },
   {
    "duration": 758,
    "start_time": "2022-09-05T05:31:57.388Z"
   },
   {
    "duration": 16,
    "start_time": "2022-09-05T05:31:58.147Z"
   },
   {
    "duration": 7,
    "start_time": "2022-09-05T05:31:58.165Z"
   },
   {
    "duration": 208,
    "start_time": "2022-09-05T05:31:58.174Z"
   },
   {
    "duration": 12,
    "start_time": "2022-09-05T05:31:58.384Z"
   },
   {
    "duration": 249,
    "start_time": "2022-09-05T05:31:58.398Z"
   },
   {
    "duration": 10,
    "start_time": "2022-09-05T05:31:58.649Z"
   },
   {
    "duration": 55,
    "start_time": "2022-09-05T05:31:58.662Z"
   },
   {
    "duration": 2746,
    "start_time": "2022-09-05T05:31:58.719Z"
   },
   {
    "duration": 58,
    "start_time": "2022-09-05T05:32:01.467Z"
   },
   {
    "duration": 32,
    "start_time": "2022-09-05T05:32:01.527Z"
   },
   {
    "duration": 5,
    "start_time": "2022-09-05T05:32:01.561Z"
   },
   {
    "duration": 24,
    "start_time": "2022-09-05T05:32:01.569Z"
   },
   {
    "duration": 97,
    "start_time": "2022-09-05T05:32:01.595Z"
   },
   {
    "duration": 4,
    "start_time": "2022-09-05T05:32:01.693Z"
   },
   {
    "duration": 264,
    "start_time": "2022-09-05T05:32:01.699Z"
   },
   {
    "duration": 403,
    "start_time": "2022-09-05T05:32:01.966Z"
   },
   {
    "duration": 11,
    "start_time": "2022-09-05T05:32:39.578Z"
   },
   {
    "duration": 49,
    "start_time": "2022-09-05T18:33:10.202Z"
   },
   {
    "duration": 1244,
    "start_time": "2022-09-05T18:33:14.216Z"
   },
   {
    "duration": 167,
    "start_time": "2022-09-05T18:33:15.462Z"
   },
   {
    "duration": 4,
    "start_time": "2022-09-05T18:33:15.630Z"
   },
   {
    "duration": 25,
    "start_time": "2022-09-05T18:33:15.636Z"
   },
   {
    "duration": 9,
    "start_time": "2022-09-05T18:33:15.664Z"
   },
   {
    "duration": 56,
    "start_time": "2022-09-05T18:33:15.674Z"
   },
   {
    "duration": 9,
    "start_time": "2022-09-05T18:33:15.731Z"
   },
   {
    "duration": 23,
    "start_time": "2022-09-05T18:33:15.741Z"
   },
   {
    "duration": 41,
    "start_time": "2022-09-05T18:33:15.766Z"
   },
   {
    "duration": 12,
    "start_time": "2022-09-05T18:33:15.809Z"
   },
   {
    "duration": 14,
    "start_time": "2022-09-05T18:33:15.822Z"
   },
   {
    "duration": 11,
    "start_time": "2022-09-05T18:33:15.837Z"
   },
   {
    "duration": 233,
    "start_time": "2022-09-05T18:33:15.850Z"
   },
   {
    "duration": 10,
    "start_time": "2022-09-05T18:33:16.085Z"
   },
   {
    "duration": 134,
    "start_time": "2022-09-05T18:33:16.097Z"
   },
   {
    "duration": 735,
    "start_time": "2022-09-05T18:33:16.233Z"
   },
   {
    "duration": 12,
    "start_time": "2022-09-05T18:33:16.970Z"
   },
   {
    "duration": 8,
    "start_time": "2022-09-05T18:33:17.001Z"
   },
   {
    "duration": 196,
    "start_time": "2022-09-05T18:33:17.011Z"
   },
   {
    "duration": 11,
    "start_time": "2022-09-05T18:33:17.208Z"
   },
   {
    "duration": 268,
    "start_time": "2022-09-05T18:33:17.221Z"
   },
   {
    "duration": 11,
    "start_time": "2022-09-05T18:33:17.491Z"
   },
   {
    "duration": 71,
    "start_time": "2022-09-05T18:33:17.504Z"
   },
   {
    "duration": 3054,
    "start_time": "2022-09-05T18:33:17.578Z"
   },
   {
    "duration": 60,
    "start_time": "2022-09-05T18:33:20.633Z"
   },
   {
    "duration": 4,
    "start_time": "2022-09-05T18:33:20.694Z"
   },
   {
    "duration": 7,
    "start_time": "2022-09-05T18:33:20.699Z"
   },
   {
    "duration": 5,
    "start_time": "2022-09-05T18:33:20.709Z"
   },
   {
    "duration": 91,
    "start_time": "2022-09-05T18:33:20.715Z"
   },
   {
    "duration": 19,
    "start_time": "2022-09-05T18:33:27.621Z"
   },
   {
    "duration": 10,
    "start_time": "2022-09-05T18:36:04.417Z"
   },
   {
    "duration": 11,
    "start_time": "2022-09-05T18:36:23.817Z"
   },
   {
    "duration": 19,
    "start_time": "2022-09-05T18:36:30.437Z"
   },
   {
    "duration": 114,
    "start_time": "2022-09-05T18:40:02.679Z"
   },
   {
    "duration": 230,
    "start_time": "2022-09-05T18:40:32.340Z"
   },
   {
    "duration": 73,
    "start_time": "2022-09-05T18:40:39.112Z"
   },
   {
    "duration": 118,
    "start_time": "2022-09-05T18:41:10.545Z"
   },
   {
    "duration": 61,
    "start_time": "2022-09-05T18:41:18.219Z"
   },
   {
    "duration": 45,
    "start_time": "2022-09-05T18:41:52.396Z"
   },
   {
    "duration": 53,
    "start_time": "2022-09-05T18:42:06.635Z"
   },
   {
    "duration": 44,
    "start_time": "2022-09-05T18:42:09.300Z"
   },
   {
    "duration": 3,
    "start_time": "2022-09-05T18:42:45.677Z"
   },
   {
    "duration": 97,
    "start_time": "2022-09-05T18:42:45.682Z"
   },
   {
    "duration": 3,
    "start_time": "2022-09-05T18:42:45.781Z"
   },
   {
    "duration": 21,
    "start_time": "2022-09-05T18:42:45.786Z"
   },
   {
    "duration": 6,
    "start_time": "2022-09-05T18:42:45.810Z"
   },
   {
    "duration": 60,
    "start_time": "2022-09-05T18:42:45.818Z"
   },
   {
    "duration": 10,
    "start_time": "2022-09-05T18:42:45.880Z"
   },
   {
    "duration": 29,
    "start_time": "2022-09-05T18:42:45.891Z"
   },
   {
    "duration": 44,
    "start_time": "2022-09-05T18:42:45.921Z"
   },
   {
    "duration": 13,
    "start_time": "2022-09-05T18:42:45.966Z"
   },
   {
    "duration": 15,
    "start_time": "2022-09-05T18:42:45.981Z"
   },
   {
    "duration": 11,
    "start_time": "2022-09-05T18:42:45.997Z"
   },
   {
    "duration": 240,
    "start_time": "2022-09-05T18:42:46.010Z"
   },
   {
    "duration": 12,
    "start_time": "2022-09-05T18:42:46.255Z"
   },
   {
    "duration": 119,
    "start_time": "2022-09-05T18:42:46.272Z"
   },
   {
    "duration": 683,
    "start_time": "2022-09-05T18:42:46.393Z"
   },
   {
    "duration": 10,
    "start_time": "2022-09-05T18:42:47.077Z"
   },
   {
    "duration": 9,
    "start_time": "2022-09-05T18:42:47.088Z"
   },
   {
    "duration": 196,
    "start_time": "2022-09-05T18:42:47.098Z"
   },
   {
    "duration": 16,
    "start_time": "2022-09-05T18:42:47.296Z"
   },
   {
    "duration": 254,
    "start_time": "2022-09-05T18:42:47.314Z"
   },
   {
    "duration": 12,
    "start_time": "2022-09-05T18:42:47.570Z"
   },
   {
    "duration": 59,
    "start_time": "2022-09-05T18:42:47.584Z"
   },
   {
    "duration": 2681,
    "start_time": "2022-09-05T18:42:47.644Z"
   },
   {
    "duration": 59,
    "start_time": "2022-09-05T18:42:50.327Z"
   },
   {
    "duration": 4,
    "start_time": "2022-09-05T18:42:50.388Z"
   },
   {
    "duration": 7,
    "start_time": "2022-09-05T18:42:50.394Z"
   },
   {
    "duration": 8,
    "start_time": "2022-09-05T18:42:50.402Z"
   },
   {
    "duration": 79,
    "start_time": "2022-09-05T18:42:50.411Z"
   },
   {
    "duration": 17,
    "start_time": "2022-09-05T18:42:50.492Z"
   },
   {
    "duration": 12,
    "start_time": "2022-09-05T18:42:50.511Z"
   },
   {
    "duration": 68,
    "start_time": "2022-09-05T18:42:50.524Z"
   },
   {
    "duration": 5,
    "start_time": "2022-09-05T18:44:47.256Z"
   },
   {
    "duration": 91,
    "start_time": "2022-09-05T18:44:47.263Z"
   },
   {
    "duration": 6,
    "start_time": "2022-09-05T18:44:47.356Z"
   },
   {
    "duration": 23,
    "start_time": "2022-09-05T18:44:47.366Z"
   },
   {
    "duration": 8,
    "start_time": "2022-09-05T18:44:47.391Z"
   },
   {
    "duration": 44,
    "start_time": "2022-09-05T18:44:47.401Z"
   },
   {
    "duration": 25,
    "start_time": "2022-09-05T18:44:47.447Z"
   },
   {
    "duration": 32,
    "start_time": "2022-09-05T18:44:47.473Z"
   },
   {
    "duration": 30,
    "start_time": "2022-09-05T18:44:47.507Z"
   },
   {
    "duration": 22,
    "start_time": "2022-09-05T18:44:47.539Z"
   },
   {
    "duration": 28,
    "start_time": "2022-09-05T18:44:47.563Z"
   },
   {
    "duration": 12,
    "start_time": "2022-09-05T18:44:47.592Z"
   },
   {
    "duration": 211,
    "start_time": "2022-09-05T18:44:47.607Z"
   },
   {
    "duration": 10,
    "start_time": "2022-09-05T18:44:47.819Z"
   },
   {
    "duration": 126,
    "start_time": "2022-09-05T18:44:47.831Z"
   },
   {
    "duration": 642,
    "start_time": "2022-09-05T18:44:47.958Z"
   },
   {
    "duration": 9,
    "start_time": "2022-09-05T18:44:48.602Z"
   },
   {
    "duration": 7,
    "start_time": "2022-09-05T18:44:48.612Z"
   },
   {
    "duration": 266,
    "start_time": "2022-09-05T18:44:48.621Z"
   },
   {
    "duration": 12,
    "start_time": "2022-09-05T18:44:48.889Z"
   },
   {
    "duration": 229,
    "start_time": "2022-09-05T18:44:48.903Z"
   },
   {
    "duration": 8,
    "start_time": "2022-09-05T18:44:49.134Z"
   },
   {
    "duration": 64,
    "start_time": "2022-09-05T18:44:49.144Z"
   },
   {
    "duration": 1961,
    "start_time": "2022-09-05T18:44:49.210Z"
   },
   {
    "duration": 48,
    "start_time": "2022-09-05T18:44:51.173Z"
   },
   {
    "duration": 4,
    "start_time": "2022-09-05T18:44:51.222Z"
   },
   {
    "duration": 6,
    "start_time": "2022-09-05T18:44:51.228Z"
   },
   {
    "duration": 27,
    "start_time": "2022-09-05T18:44:51.236Z"
   },
   {
    "duration": 87,
    "start_time": "2022-09-05T18:44:51.265Z"
   },
   {
    "duration": 30,
    "start_time": "2022-09-05T18:44:51.353Z"
   },
   {
    "duration": 13,
    "start_time": "2022-09-05T18:44:51.385Z"
   },
   {
    "duration": 58,
    "start_time": "2022-09-05T18:44:51.399Z"
   },
   {
    "duration": 7,
    "start_time": "2022-09-05T18:45:01.739Z"
   },
   {
    "duration": 15,
    "start_time": "2022-09-05T18:45:06.786Z"
   },
   {
    "duration": 17,
    "start_time": "2022-09-05T18:45:26.884Z"
   },
   {
    "duration": 16,
    "start_time": "2022-09-05T18:45:40.170Z"
   },
   {
    "duration": 171,
    "start_time": "2022-09-05T18:49:07.209Z"
   },
   {
    "duration": 16,
    "start_time": "2022-09-05T18:50:39.098Z"
   },
   {
    "duration": 18,
    "start_time": "2022-09-05T18:51:53.821Z"
   },
   {
    "duration": 54,
    "start_time": "2022-09-05T18:52:44.190Z"
   },
   {
    "duration": 923,
    "start_time": "2022-09-05T18:52:49.690Z"
   },
   {
    "duration": 18,
    "start_time": "2022-09-05T18:54:42.470Z"
   },
   {
    "duration": 15,
    "start_time": "2022-09-05T18:54:54.191Z"
   },
   {
    "duration": 15,
    "start_time": "2022-09-05T18:56:17.019Z"
   },
   {
    "duration": 18,
    "start_time": "2022-09-05T18:56:33.969Z"
   },
   {
    "duration": 1079,
    "start_time": "2022-09-05T18:56:50.700Z"
   },
   {
    "duration": 70,
    "start_time": "2022-09-05T18:56:51.780Z"
   },
   {
    "duration": 8,
    "start_time": "2022-09-05T18:56:51.852Z"
   },
   {
    "duration": 17,
    "start_time": "2022-09-05T18:56:51.866Z"
   },
   {
    "duration": 5,
    "start_time": "2022-09-05T18:56:51.884Z"
   },
   {
    "duration": 29,
    "start_time": "2022-09-05T18:56:51.890Z"
   },
   {
    "duration": 7,
    "start_time": "2022-09-05T18:56:51.921Z"
   },
   {
    "duration": 30,
    "start_time": "2022-09-05T18:56:51.930Z"
   },
   {
    "duration": 20,
    "start_time": "2022-09-05T18:56:51.961Z"
   },
   {
    "duration": 13,
    "start_time": "2022-09-05T18:56:51.983Z"
   },
   {
    "duration": 16,
    "start_time": "2022-09-05T18:56:51.998Z"
   },
   {
    "duration": 17,
    "start_time": "2022-09-05T18:56:52.015Z"
   },
   {
    "duration": 225,
    "start_time": "2022-09-05T18:56:52.033Z"
   },
   {
    "duration": 14,
    "start_time": "2022-09-05T18:56:52.260Z"
   },
   {
    "duration": 128,
    "start_time": "2022-09-05T18:56:52.276Z"
   },
   {
    "duration": 667,
    "start_time": "2022-09-05T18:56:52.406Z"
   },
   {
    "duration": 11,
    "start_time": "2022-09-05T18:56:53.074Z"
   },
   {
    "duration": 6,
    "start_time": "2022-09-05T18:56:53.086Z"
   },
   {
    "duration": 198,
    "start_time": "2022-09-05T18:56:53.093Z"
   },
   {
    "duration": 13,
    "start_time": "2022-09-05T18:56:53.292Z"
   },
   {
    "duration": 227,
    "start_time": "2022-09-05T18:56:53.307Z"
   },
   {
    "duration": 9,
    "start_time": "2022-09-05T18:56:53.536Z"
   },
   {
    "duration": 42,
    "start_time": "2022-09-05T18:56:53.562Z"
   },
   {
    "duration": 2894,
    "start_time": "2022-09-05T18:56:53.605Z"
   },
   {
    "duration": 54,
    "start_time": "2022-09-05T18:56:56.501Z"
   },
   {
    "duration": 8,
    "start_time": "2022-09-05T18:56:56.559Z"
   },
   {
    "duration": 5,
    "start_time": "2022-09-05T18:56:56.571Z"
   },
   {
    "duration": 6,
    "start_time": "2022-09-05T18:56:56.579Z"
   },
   {
    "duration": 21,
    "start_time": "2022-09-05T18:56:56.586Z"
   },
   {
    "duration": 11,
    "start_time": "2022-09-05T18:56:56.608Z"
   },
   {
    "duration": 82,
    "start_time": "2022-09-05T18:56:56.620Z"
   },
   {
    "duration": 13,
    "start_time": "2022-09-05T18:56:56.704Z"
   },
   {
    "duration": 305,
    "start_time": "2022-09-05T18:56:56.718Z"
   },
   {
    "duration": 0,
    "start_time": "2022-09-05T18:56:57.025Z"
   },
   {
    "duration": 0,
    "start_time": "2022-09-05T18:56:57.026Z"
   },
   {
    "duration": 4,
    "start_time": "2022-09-05T18:59:19.802Z"
   },
   {
    "duration": 3,
    "start_time": "2022-09-05T18:59:46.370Z"
   },
   {
    "duration": 55,
    "start_time": "2022-09-05T18:59:58.386Z"
   },
   {
    "duration": 4,
    "start_time": "2022-09-05T18:59:59.302Z"
   },
   {
    "duration": 61,
    "start_time": "2022-09-05T19:00:13.410Z"
   },
   {
    "duration": 4,
    "start_time": "2022-09-05T19:00:14.536Z"
   },
   {
    "duration": 50,
    "start_time": "2022-09-05T19:00:20.517Z"
   },
   {
    "duration": 4,
    "start_time": "2022-09-05T19:00:20.737Z"
   },
   {
    "duration": 25,
    "start_time": "2022-09-05T19:00:42.670Z"
   },
   {
    "duration": 3,
    "start_time": "2022-09-05T19:00:43.972Z"
   },
   {
    "duration": 28,
    "start_time": "2022-09-05T19:00:57.555Z"
   },
   {
    "duration": 4,
    "start_time": "2022-09-05T19:00:58.520Z"
   },
   {
    "duration": 24,
    "start_time": "2022-09-05T19:01:02.816Z"
   },
   {
    "duration": 3,
    "start_time": "2022-09-05T19:01:03.400Z"
   },
   {
    "duration": 29,
    "start_time": "2022-09-05T19:01:08.278Z"
   },
   {
    "duration": 4,
    "start_time": "2022-09-05T19:01:09.034Z"
   },
   {
    "duration": 59,
    "start_time": "2022-09-05T19:01:58.042Z"
   },
   {
    "duration": 3,
    "start_time": "2022-09-05T19:01:59.611Z"
   },
   {
    "duration": 1088,
    "start_time": "2022-09-05T19:03:04.152Z"
   },
   {
    "duration": 81,
    "start_time": "2022-09-05T19:03:05.242Z"
   },
   {
    "duration": 3,
    "start_time": "2022-09-05T19:03:05.325Z"
   },
   {
    "duration": 15,
    "start_time": "2022-09-05T19:03:05.330Z"
   },
   {
    "duration": 22,
    "start_time": "2022-09-05T19:03:05.347Z"
   },
   {
    "duration": 28,
    "start_time": "2022-09-05T19:03:05.371Z"
   },
   {
    "duration": 8,
    "start_time": "2022-09-05T19:03:05.400Z"
   },
   {
    "duration": 16,
    "start_time": "2022-09-05T19:03:05.410Z"
   },
   {
    "duration": 38,
    "start_time": "2022-09-05T19:03:05.428Z"
   },
   {
    "duration": 14,
    "start_time": "2022-09-05T19:03:05.468Z"
   },
   {
    "duration": 14,
    "start_time": "2022-09-05T19:03:05.484Z"
   },
   {
    "duration": 12,
    "start_time": "2022-09-05T19:03:05.499Z"
   },
   {
    "duration": 238,
    "start_time": "2022-09-05T19:03:05.512Z"
   },
   {
    "duration": 17,
    "start_time": "2022-09-05T19:03:05.754Z"
   },
   {
    "duration": 116,
    "start_time": "2022-09-05T19:03:05.773Z"
   },
   {
    "duration": 654,
    "start_time": "2022-09-05T19:03:05.890Z"
   },
   {
    "duration": 18,
    "start_time": "2022-09-05T19:03:06.546Z"
   },
   {
    "duration": 16,
    "start_time": "2022-09-05T19:03:06.565Z"
   },
   {
    "duration": 193,
    "start_time": "2022-09-05T19:03:06.582Z"
   },
   {
    "duration": 14,
    "start_time": "2022-09-05T19:03:06.777Z"
   },
   {
    "duration": 230,
    "start_time": "2022-09-05T19:03:06.792Z"
   },
   {
    "duration": 8,
    "start_time": "2022-09-05T19:03:07.024Z"
   },
   {
    "duration": 68,
    "start_time": "2022-09-05T19:03:07.034Z"
   },
   {
    "duration": 2889,
    "start_time": "2022-09-05T19:03:07.104Z"
   },
   {
    "duration": 76,
    "start_time": "2022-09-05T19:03:09.994Z"
   },
   {
    "duration": 3,
    "start_time": "2022-09-05T19:03:10.072Z"
   },
   {
    "duration": 6,
    "start_time": "2022-09-05T19:03:10.076Z"
   },
   {
    "duration": 7,
    "start_time": "2022-09-05T19:03:10.085Z"
   },
   {
    "duration": 19,
    "start_time": "2022-09-05T19:03:10.094Z"
   },
   {
    "duration": 11,
    "start_time": "2022-09-05T19:03:10.114Z"
   },
   {
    "duration": 58,
    "start_time": "2022-09-05T19:03:10.127Z"
   },
   {
    "duration": 13,
    "start_time": "2022-09-05T19:03:10.187Z"
   },
   {
    "duration": 315,
    "start_time": "2022-09-05T19:03:10.202Z"
   },
   {
    "duration": 178,
    "start_time": "2022-09-05T19:03:10.518Z"
   },
   {
    "duration": 9,
    "start_time": "2022-09-05T19:03:10.698Z"
   },
   {
    "duration": 1044,
    "start_time": "2022-09-05T19:20:05.900Z"
   },
   {
    "duration": 71,
    "start_time": "2022-09-05T19:20:06.946Z"
   },
   {
    "duration": 3,
    "start_time": "2022-09-05T19:20:07.019Z"
   },
   {
    "duration": 14,
    "start_time": "2022-09-05T19:20:07.023Z"
   },
   {
    "duration": 6,
    "start_time": "2022-09-05T19:20:07.039Z"
   },
   {
    "duration": 29,
    "start_time": "2022-09-05T19:20:07.046Z"
   },
   {
    "duration": 8,
    "start_time": "2022-09-05T19:20:07.076Z"
   },
   {
    "duration": 17,
    "start_time": "2022-09-05T19:20:07.085Z"
   },
   {
    "duration": 16,
    "start_time": "2022-09-05T19:20:07.104Z"
   },
   {
    "duration": 11,
    "start_time": "2022-09-05T19:20:07.122Z"
   },
   {
    "duration": 33,
    "start_time": "2022-09-05T19:20:07.134Z"
   },
   {
    "duration": 10,
    "start_time": "2022-09-05T19:20:07.168Z"
   },
   {
    "duration": 248,
    "start_time": "2022-09-05T19:20:07.180Z"
   },
   {
    "duration": 11,
    "start_time": "2022-09-05T19:20:07.430Z"
   },
   {
    "duration": 139,
    "start_time": "2022-09-05T19:20:07.443Z"
   },
   {
    "duration": 631,
    "start_time": "2022-09-05T19:20:07.584Z"
   },
   {
    "duration": 11,
    "start_time": "2022-09-05T19:20:08.216Z"
   },
   {
    "duration": 12,
    "start_time": "2022-09-05T19:20:08.229Z"
   },
   {
    "duration": 174,
    "start_time": "2022-09-05T19:20:08.242Z"
   },
   {
    "duration": 11,
    "start_time": "2022-09-05T19:20:08.418Z"
   },
   {
    "duration": 199,
    "start_time": "2022-09-05T19:20:08.430Z"
   },
   {
    "duration": 8,
    "start_time": "2022-09-05T19:20:08.630Z"
   },
   {
    "duration": 49,
    "start_time": "2022-09-05T19:20:08.639Z"
   },
   {
    "duration": 2855,
    "start_time": "2022-09-05T19:20:08.690Z"
   },
   {
    "duration": 52,
    "start_time": "2022-09-05T19:20:11.547Z"
   },
   {
    "duration": 3,
    "start_time": "2022-09-05T19:20:11.600Z"
   },
   {
    "duration": 6,
    "start_time": "2022-09-05T19:20:11.605Z"
   },
   {
    "duration": 8,
    "start_time": "2022-09-05T19:20:11.612Z"
   },
   {
    "duration": 34,
    "start_time": "2022-09-05T19:20:11.621Z"
   },
   {
    "duration": 10,
    "start_time": "2022-09-05T19:20:11.657Z"
   },
   {
    "duration": 44,
    "start_time": "2022-09-05T19:20:11.669Z"
   },
   {
    "duration": 11,
    "start_time": "2022-09-05T19:20:11.715Z"
   },
   {
    "duration": 289,
    "start_time": "2022-09-05T19:20:11.727Z"
   },
   {
    "duration": 137,
    "start_time": "2022-09-05T19:20:12.018Z"
   },
   {
    "duration": 10,
    "start_time": "2022-09-05T19:20:12.157Z"
   },
   {
    "duration": 1083,
    "start_time": "2022-09-06T05:04:17.771Z"
   },
   {
    "duration": 262,
    "start_time": "2022-09-06T05:04:18.859Z"
   },
   {
    "duration": 4,
    "start_time": "2022-09-06T05:04:19.123Z"
   },
   {
    "duration": 22,
    "start_time": "2022-09-06T05:04:19.129Z"
   },
   {
    "duration": 8,
    "start_time": "2022-09-06T05:04:19.154Z"
   },
   {
    "duration": 35,
    "start_time": "2022-09-06T05:04:19.164Z"
   },
   {
    "duration": 8,
    "start_time": "2022-09-06T05:04:19.201Z"
   },
   {
    "duration": 17,
    "start_time": "2022-09-06T05:04:19.211Z"
   },
   {
    "duration": 39,
    "start_time": "2022-09-06T05:04:19.230Z"
   },
   {
    "duration": 15,
    "start_time": "2022-09-06T05:04:19.271Z"
   },
   {
    "duration": 19,
    "start_time": "2022-09-06T05:04:19.288Z"
   },
   {
    "duration": 12,
    "start_time": "2022-09-06T05:04:19.308Z"
   },
   {
    "duration": 271,
    "start_time": "2022-09-06T05:04:19.321Z"
   },
   {
    "duration": 16,
    "start_time": "2022-09-06T05:04:19.596Z"
   },
   {
    "duration": 178,
    "start_time": "2022-09-06T05:04:19.614Z"
   },
   {
    "duration": 935,
    "start_time": "2022-09-06T05:04:19.794Z"
   },
   {
    "duration": 10,
    "start_time": "2022-09-06T05:04:20.731Z"
   },
   {
    "duration": 16,
    "start_time": "2022-09-06T05:04:20.743Z"
   },
   {
    "duration": 206,
    "start_time": "2022-09-06T05:04:20.761Z"
   },
   {
    "duration": 13,
    "start_time": "2022-09-06T05:04:20.969Z"
   },
   {
    "duration": 246,
    "start_time": "2022-09-06T05:04:20.985Z"
   },
   {
    "duration": 13,
    "start_time": "2022-09-06T05:04:21.233Z"
   },
   {
    "duration": 60,
    "start_time": "2022-09-06T05:04:21.248Z"
   },
   {
    "duration": 3492,
    "start_time": "2022-09-06T05:04:21.310Z"
   },
   {
    "duration": 62,
    "start_time": "2022-09-06T05:04:24.803Z"
   },
   {
    "duration": 4,
    "start_time": "2022-09-06T05:04:24.866Z"
   },
   {
    "duration": 14,
    "start_time": "2022-09-06T05:04:24.871Z"
   },
   {
    "duration": 10,
    "start_time": "2022-09-06T05:04:24.886Z"
   },
   {
    "duration": 21,
    "start_time": "2022-09-06T05:04:24.898Z"
   },
   {
    "duration": 13,
    "start_time": "2022-09-06T05:04:24.921Z"
   },
   {
    "duration": 65,
    "start_time": "2022-09-06T05:04:24.935Z"
   },
   {
    "duration": 14,
    "start_time": "2022-09-06T05:04:25.002Z"
   },
   {
    "duration": 355,
    "start_time": "2022-09-06T05:04:25.017Z"
   },
   {
    "duration": 187,
    "start_time": "2022-09-06T05:04:25.376Z"
   },
   {
    "duration": 13,
    "start_time": "2022-09-06T05:04:25.565Z"
   },
   {
    "duration": 14,
    "start_time": "2022-09-06T05:05:01.408Z"
   },
   {
    "duration": 10,
    "start_time": "2022-09-06T05:09:40.070Z"
   },
   {
    "duration": 11,
    "start_time": "2022-09-06T05:09:47.151Z"
   },
   {
    "duration": 1315,
    "start_time": "2022-09-06T05:23:23.803Z"
   },
   {
    "duration": 264,
    "start_time": "2022-09-06T05:23:25.120Z"
   },
   {
    "duration": 4,
    "start_time": "2022-09-06T05:23:25.386Z"
   },
   {
    "duration": 22,
    "start_time": "2022-09-06T05:23:25.392Z"
   },
   {
    "duration": 12,
    "start_time": "2022-09-06T05:23:25.417Z"
   },
   {
    "duration": 44,
    "start_time": "2022-09-06T05:23:25.431Z"
   },
   {
    "duration": 8,
    "start_time": "2022-09-06T05:23:25.477Z"
   },
   {
    "duration": 20,
    "start_time": "2022-09-06T05:23:25.486Z"
   },
   {
    "duration": 31,
    "start_time": "2022-09-06T05:23:25.508Z"
   },
   {
    "duration": 12,
    "start_time": "2022-09-06T05:23:25.542Z"
   },
   {
    "duration": 14,
    "start_time": "2022-09-06T05:23:25.555Z"
   },
   {
    "duration": 10,
    "start_time": "2022-09-06T05:23:25.571Z"
   },
   {
    "duration": 258,
    "start_time": "2022-09-06T05:23:25.582Z"
   },
   {
    "duration": 12,
    "start_time": "2022-09-06T05:23:25.842Z"
   },
   {
    "duration": 134,
    "start_time": "2022-09-06T05:23:25.855Z"
   },
   {
    "duration": 663,
    "start_time": "2022-09-06T05:23:25.991Z"
   },
   {
    "duration": 9,
    "start_time": "2022-09-06T05:23:26.655Z"
   },
   {
    "duration": 10,
    "start_time": "2022-09-06T05:23:26.666Z"
   },
   {
    "duration": 208,
    "start_time": "2022-09-06T05:23:26.677Z"
   },
   {
    "duration": 12,
    "start_time": "2022-09-06T05:23:26.887Z"
   },
   {
    "duration": 221,
    "start_time": "2022-09-06T05:23:26.901Z"
   },
   {
    "duration": 17,
    "start_time": "2022-09-06T05:23:27.124Z"
   },
   {
    "duration": 51,
    "start_time": "2022-09-06T05:23:27.142Z"
   },
   {
    "duration": 2341,
    "start_time": "2022-09-06T05:23:27.195Z"
   },
   {
    "duration": 53,
    "start_time": "2022-09-06T05:23:29.537Z"
   },
   {
    "duration": 4,
    "start_time": "2022-09-06T05:23:29.592Z"
   },
   {
    "duration": 9,
    "start_time": "2022-09-06T05:23:29.598Z"
   },
   {
    "duration": 10,
    "start_time": "2022-09-06T05:23:29.610Z"
   },
   {
    "duration": 22,
    "start_time": "2022-09-06T05:23:29.638Z"
   },
   {
    "duration": 12,
    "start_time": "2022-09-06T05:23:29.661Z"
   },
   {
    "duration": 85,
    "start_time": "2022-09-06T05:23:29.674Z"
   },
   {
    "duration": 17,
    "start_time": "2022-09-06T05:23:29.761Z"
   },
   {
    "duration": 301,
    "start_time": "2022-09-06T05:23:29.780Z"
   },
   {
    "duration": 157,
    "start_time": "2022-09-06T05:23:30.083Z"
   },
   {
    "duration": 10,
    "start_time": "2022-09-06T05:23:30.242Z"
   },
   {
    "duration": 14,
    "start_time": "2022-09-06T05:23:30.253Z"
   },
   {
    "duration": 106,
    "start_time": "2022-09-06T05:31:10.471Z"
   },
   {
    "duration": 8,
    "start_time": "2022-09-06T05:31:26.314Z"
   },
   {
    "duration": 9,
    "start_time": "2022-09-06T05:31:31.069Z"
   },
   {
    "duration": 5,
    "start_time": "2022-09-06T05:32:52.686Z"
   },
   {
    "duration": 2,
    "start_time": "2022-09-06T05:32:57.114Z"
   },
   {
    "duration": 78,
    "start_time": "2022-09-06T05:32:57.118Z"
   },
   {
    "duration": 4,
    "start_time": "2022-09-06T05:32:57.198Z"
   },
   {
    "duration": 15,
    "start_time": "2022-09-06T05:32:57.203Z"
   },
   {
    "duration": 8,
    "start_time": "2022-09-06T05:32:57.220Z"
   },
   {
    "duration": 32,
    "start_time": "2022-09-06T05:32:57.229Z"
   },
   {
    "duration": 9,
    "start_time": "2022-09-06T05:32:57.262Z"
   },
   {
    "duration": 18,
    "start_time": "2022-09-06T05:32:57.273Z"
   },
   {
    "duration": 16,
    "start_time": "2022-09-06T05:32:57.293Z"
   },
   {
    "duration": 31,
    "start_time": "2022-09-06T05:32:57.310Z"
   },
   {
    "duration": 13,
    "start_time": "2022-09-06T05:32:57.342Z"
   },
   {
    "duration": 10,
    "start_time": "2022-09-06T05:32:57.357Z"
   },
   {
    "duration": 221,
    "start_time": "2022-09-06T05:32:57.368Z"
   },
   {
    "duration": 8,
    "start_time": "2022-09-06T05:32:57.592Z"
   },
   {
    "duration": 129,
    "start_time": "2022-09-06T05:32:57.602Z"
   },
   {
    "duration": 705,
    "start_time": "2022-09-06T05:32:57.733Z"
   },
   {
    "duration": 4,
    "start_time": "2022-09-06T05:33:00.555Z"
   },
   {
    "duration": 17,
    "start_time": "2022-09-06T05:37:04.990Z"
   },
   {
    "duration": 12,
    "start_time": "2022-09-06T05:39:47.217Z"
   },
   {
    "duration": 21,
    "start_time": "2022-09-06T05:40:00.475Z"
   },
   {
    "duration": 255,
    "start_time": "2022-09-06T05:40:19.393Z"
   },
   {
    "duration": 13,
    "start_time": "2022-09-06T05:40:38.195Z"
   },
   {
    "duration": 1270,
    "start_time": "2022-09-06T19:15:20.540Z"
   },
   {
    "duration": 607,
    "start_time": "2022-09-06T19:15:21.812Z"
   },
   {
    "duration": 4,
    "start_time": "2022-09-06T19:15:22.421Z"
   },
   {
    "duration": 34,
    "start_time": "2022-09-06T19:15:22.426Z"
   },
   {
    "duration": 14,
    "start_time": "2022-09-06T19:15:22.462Z"
   },
   {
    "duration": 57,
    "start_time": "2022-09-06T19:15:22.477Z"
   },
   {
    "duration": 21,
    "start_time": "2022-09-06T19:15:22.536Z"
   },
   {
    "duration": 42,
    "start_time": "2022-09-06T19:15:22.559Z"
   },
   {
    "duration": 41,
    "start_time": "2022-09-06T19:15:22.603Z"
   },
   {
    "duration": 46,
    "start_time": "2022-09-06T19:15:22.646Z"
   },
   {
    "duration": 36,
    "start_time": "2022-09-06T19:15:22.694Z"
   },
   {
    "duration": 14,
    "start_time": "2022-09-06T19:15:22.732Z"
   },
   {
    "duration": 227,
    "start_time": "2022-09-06T19:15:22.749Z"
   },
   {
    "duration": 11,
    "start_time": "2022-09-06T19:15:22.980Z"
   },
   {
    "duration": 130,
    "start_time": "2022-09-06T19:15:22.992Z"
   },
   {
    "duration": 658,
    "start_time": "2022-09-06T19:15:23.124Z"
   },
   {
    "duration": 12,
    "start_time": "2022-09-06T19:15:23.784Z"
   },
   {
    "duration": 257,
    "start_time": "2022-09-06T19:15:23.798Z"
   },
   {
    "duration": 9,
    "start_time": "2022-09-06T19:15:24.057Z"
   },
   {
    "duration": 7,
    "start_time": "2022-09-06T19:15:24.068Z"
   },
   {
    "duration": 192,
    "start_time": "2022-09-06T19:15:24.076Z"
   },
   {
    "duration": 11,
    "start_time": "2022-09-06T19:15:24.270Z"
   },
   {
    "duration": 217,
    "start_time": "2022-09-06T19:15:24.282Z"
   },
   {
    "duration": 21,
    "start_time": "2022-09-06T19:15:24.501Z"
   },
   {
    "duration": 46,
    "start_time": "2022-09-06T19:15:24.524Z"
   },
   {
    "duration": 3051,
    "start_time": "2022-09-06T19:15:24.572Z"
   },
   {
    "duration": 52,
    "start_time": "2022-09-06T19:15:27.625Z"
   },
   {
    "duration": 4,
    "start_time": "2022-09-06T19:15:27.679Z"
   },
   {
    "duration": 24,
    "start_time": "2022-09-06T19:15:27.685Z"
   },
   {
    "duration": 13,
    "start_time": "2022-09-06T19:15:27.711Z"
   },
   {
    "duration": 25,
    "start_time": "2022-09-06T19:15:27.726Z"
   },
   {
    "duration": 12,
    "start_time": "2022-09-06T19:15:27.752Z"
   },
   {
    "duration": 65,
    "start_time": "2022-09-06T19:15:27.766Z"
   },
   {
    "duration": 12,
    "start_time": "2022-09-06T19:15:27.832Z"
   },
   {
    "duration": 231,
    "start_time": "2022-09-06T19:15:27.845Z"
   },
   {
    "duration": 197,
    "start_time": "2022-09-06T19:15:28.078Z"
   },
   {
    "duration": 9,
    "start_time": "2022-09-06T19:15:28.277Z"
   },
   {
    "duration": 22,
    "start_time": "2022-09-06T19:15:28.288Z"
   },
   {
    "duration": 13,
    "start_time": "2022-09-06T19:19:37.502Z"
   },
   {
    "duration": 12,
    "start_time": "2022-09-06T19:23:29.322Z"
   },
   {
    "duration": 12,
    "start_time": "2022-09-06T19:23:37.158Z"
   },
   {
    "duration": 51,
    "start_time": "2022-09-06T19:24:41.454Z"
   },
   {
    "duration": 3,
    "start_time": "2022-09-06T19:25:13.687Z"
   },
   {
    "duration": 78,
    "start_time": "2022-09-06T19:25:13.692Z"
   },
   {
    "duration": 3,
    "start_time": "2022-09-06T19:25:13.771Z"
   },
   {
    "duration": 18,
    "start_time": "2022-09-06T19:25:13.776Z"
   },
   {
    "duration": 9,
    "start_time": "2022-09-06T19:25:13.796Z"
   },
   {
    "duration": 34,
    "start_time": "2022-09-06T19:25:13.807Z"
   },
   {
    "duration": 19,
    "start_time": "2022-09-06T19:25:13.842Z"
   },
   {
    "duration": 22,
    "start_time": "2022-09-06T19:25:13.862Z"
   },
   {
    "duration": 19,
    "start_time": "2022-09-06T19:25:13.886Z"
   },
   {
    "duration": 13,
    "start_time": "2022-09-06T19:25:13.908Z"
   },
   {
    "duration": 15,
    "start_time": "2022-09-06T19:25:13.923Z"
   },
   {
    "duration": 11,
    "start_time": "2022-09-06T19:25:13.939Z"
   },
   {
    "duration": 231,
    "start_time": "2022-09-06T19:25:13.952Z"
   },
   {
    "duration": 9,
    "start_time": "2022-09-06T19:25:14.185Z"
   },
   {
    "duration": 130,
    "start_time": "2022-09-06T19:25:14.195Z"
   },
   {
    "duration": 12,
    "start_time": "2022-09-06T19:25:14.328Z"
   },
   {
    "duration": 261,
    "start_time": "2022-09-06T19:25:14.342Z"
   },
   {
    "duration": 9,
    "start_time": "2022-09-06T19:25:35.180Z"
   },
   {
    "duration": 7,
    "start_time": "2022-09-06T19:25:35.850Z"
   },
   {
    "duration": 192,
    "start_time": "2022-09-06T19:25:40.243Z"
   },
   {
    "duration": 112,
    "start_time": "2022-09-06T19:26:27.974Z"
   },
   {
    "duration": 22,
    "start_time": "2022-09-06T19:26:56.599Z"
   },
   {
    "duration": 14,
    "start_time": "2022-09-06T19:27:01.681Z"
   },
   {
    "duration": 3,
    "start_time": "2022-09-06T19:29:50.432Z"
   },
   {
    "duration": 77,
    "start_time": "2022-09-06T19:29:50.436Z"
   },
   {
    "duration": 3,
    "start_time": "2022-09-06T19:29:50.515Z"
   },
   {
    "duration": 19,
    "start_time": "2022-09-06T19:29:50.519Z"
   },
   {
    "duration": 8,
    "start_time": "2022-09-06T19:29:50.540Z"
   },
   {
    "duration": 38,
    "start_time": "2022-09-06T19:29:50.549Z"
   },
   {
    "duration": 8,
    "start_time": "2022-09-06T19:29:50.589Z"
   },
   {
    "duration": 17,
    "start_time": "2022-09-06T19:29:50.608Z"
   },
   {
    "duration": 21,
    "start_time": "2022-09-06T19:29:50.627Z"
   },
   {
    "duration": 13,
    "start_time": "2022-09-06T19:29:50.650Z"
   },
   {
    "duration": 14,
    "start_time": "2022-09-06T19:29:50.664Z"
   },
   {
    "duration": 38,
    "start_time": "2022-09-06T19:29:50.679Z"
   },
   {
    "duration": 211,
    "start_time": "2022-09-06T19:29:50.718Z"
   },
   {
    "duration": 9,
    "start_time": "2022-09-06T19:29:50.932Z"
   },
   {
    "duration": 121,
    "start_time": "2022-09-06T19:29:50.943Z"
   },
   {
    "duration": 13,
    "start_time": "2022-09-06T19:29:51.065Z"
   },
   {
    "duration": 267,
    "start_time": "2022-09-06T19:29:51.080Z"
   },
   {
    "duration": 9,
    "start_time": "2022-09-06T19:29:51.349Z"
   },
   {
    "duration": 8,
    "start_time": "2022-09-06T19:29:51.360Z"
   },
   {
    "duration": 198,
    "start_time": "2022-09-06T19:29:51.369Z"
   },
   {
    "duration": 12,
    "start_time": "2022-09-06T19:29:51.568Z"
   },
   {
    "duration": 223,
    "start_time": "2022-09-06T19:29:51.581Z"
   },
   {
    "duration": 9,
    "start_time": "2022-09-06T19:29:51.806Z"
   },
   {
    "duration": 134,
    "start_time": "2022-09-06T19:29:51.817Z"
   },
   {
    "duration": 2962,
    "start_time": "2022-09-06T19:29:51.953Z"
   },
   {
    "duration": 51,
    "start_time": "2022-09-06T19:29:54.917Z"
   },
   {
    "duration": 4,
    "start_time": "2022-09-06T19:29:54.970Z"
   },
   {
    "duration": 9,
    "start_time": "2022-09-06T19:29:54.976Z"
   },
   {
    "duration": 33,
    "start_time": "2022-09-06T19:29:54.987Z"
   },
   {
    "duration": 37,
    "start_time": "2022-09-06T19:29:55.022Z"
   },
   {
    "duration": 13,
    "start_time": "2022-09-06T19:29:55.060Z"
   },
   {
    "duration": 46,
    "start_time": "2022-09-06T19:29:55.075Z"
   },
   {
    "duration": 13,
    "start_time": "2022-09-06T19:29:55.123Z"
   },
   {
    "duration": 233,
    "start_time": "2022-09-06T19:29:55.138Z"
   },
   {
    "duration": 153,
    "start_time": "2022-09-06T19:29:55.373Z"
   },
   {
    "duration": 10,
    "start_time": "2022-09-06T19:29:55.528Z"
   },
   {
    "duration": 1050,
    "start_time": "2022-09-06T19:45:23.644Z"
   },
   {
    "duration": 74,
    "start_time": "2022-09-06T19:45:24.696Z"
   },
   {
    "duration": 3,
    "start_time": "2022-09-06T19:45:24.772Z"
   },
   {
    "duration": 15,
    "start_time": "2022-09-06T19:45:24.777Z"
   },
   {
    "duration": 5,
    "start_time": "2022-09-06T19:45:24.793Z"
   },
   {
    "duration": 31,
    "start_time": "2022-09-06T19:45:24.800Z"
   },
   {
    "duration": 9,
    "start_time": "2022-09-06T19:45:24.832Z"
   },
   {
    "duration": 21,
    "start_time": "2022-09-06T19:45:24.842Z"
   },
   {
    "duration": 18,
    "start_time": "2022-09-06T19:45:24.865Z"
   },
   {
    "duration": 32,
    "start_time": "2022-09-06T19:45:24.885Z"
   },
   {
    "duration": 14,
    "start_time": "2022-09-06T19:45:24.919Z"
   },
   {
    "duration": 10,
    "start_time": "2022-09-06T19:45:24.935Z"
   },
   {
    "duration": 238,
    "start_time": "2022-09-06T19:45:24.947Z"
   },
   {
    "duration": 9,
    "start_time": "2022-09-06T19:45:25.187Z"
   },
   {
    "duration": 122,
    "start_time": "2022-09-06T19:45:25.197Z"
   },
   {
    "duration": 12,
    "start_time": "2022-09-06T19:45:25.320Z"
   },
   {
    "duration": 278,
    "start_time": "2022-09-06T19:45:25.333Z"
   },
   {
    "duration": 10,
    "start_time": "2022-09-06T19:45:25.612Z"
   },
   {
    "duration": 7,
    "start_time": "2022-09-06T19:45:25.623Z"
   },
   {
    "duration": 203,
    "start_time": "2022-09-06T19:45:25.631Z"
   },
   {
    "duration": 13,
    "start_time": "2022-09-06T19:45:25.836Z"
   },
   {
    "duration": 261,
    "start_time": "2022-09-06T19:45:25.851Z"
   },
   {
    "duration": 9,
    "start_time": "2022-09-06T19:45:26.114Z"
   },
   {
    "duration": 47,
    "start_time": "2022-09-06T19:45:26.125Z"
   },
   {
    "duration": 2587,
    "start_time": "2022-09-06T19:45:26.174Z"
   },
   {
    "duration": 58,
    "start_time": "2022-09-06T19:45:28.762Z"
   },
   {
    "duration": 3,
    "start_time": "2022-09-06T19:45:28.822Z"
   },
   {
    "duration": 9,
    "start_time": "2022-09-06T19:45:28.828Z"
   },
   {
    "duration": 12,
    "start_time": "2022-09-06T19:45:28.839Z"
   },
   {
    "duration": 24,
    "start_time": "2022-09-06T19:45:28.853Z"
   },
   {
    "duration": 14,
    "start_time": "2022-09-06T19:45:28.879Z"
   },
   {
    "duration": 58,
    "start_time": "2022-09-06T19:45:28.894Z"
   },
   {
    "duration": 13,
    "start_time": "2022-09-06T19:45:28.954Z"
   },
   {
    "duration": 297,
    "start_time": "2022-09-06T19:45:28.969Z"
   },
   {
    "duration": 168,
    "start_time": "2022-09-06T19:45:29.268Z"
   },
   {
    "duration": 9,
    "start_time": "2022-09-06T19:45:29.438Z"
   },
   {
    "duration": 1360,
    "start_time": "2022-09-07T05:27:07.929Z"
   },
   {
    "duration": 281,
    "start_time": "2022-09-07T05:27:09.292Z"
   },
   {
    "duration": 4,
    "start_time": "2022-09-07T05:27:09.575Z"
   },
   {
    "duration": 20,
    "start_time": "2022-09-07T05:27:09.580Z"
   },
   {
    "duration": 6,
    "start_time": "2022-09-07T05:27:09.603Z"
   },
   {
    "duration": 32,
    "start_time": "2022-09-07T05:27:09.611Z"
   },
   {
    "duration": 10,
    "start_time": "2022-09-07T05:27:09.644Z"
   },
   {
    "duration": 19,
    "start_time": "2022-09-07T05:27:09.655Z"
   },
   {
    "duration": 42,
    "start_time": "2022-09-07T05:27:09.676Z"
   },
   {
    "duration": 16,
    "start_time": "2022-09-07T05:27:09.720Z"
   },
   {
    "duration": 16,
    "start_time": "2022-09-07T05:27:09.738Z"
   },
   {
    "duration": 13,
    "start_time": "2022-09-07T05:27:09.756Z"
   },
   {
    "duration": 265,
    "start_time": "2022-09-07T05:27:09.771Z"
   },
   {
    "duration": 10,
    "start_time": "2022-09-07T05:27:10.041Z"
   },
   {
    "duration": 150,
    "start_time": "2022-09-07T05:27:10.053Z"
   },
   {
    "duration": 15,
    "start_time": "2022-09-07T05:27:10.204Z"
   },
   {
    "duration": 324,
    "start_time": "2022-09-07T05:27:10.221Z"
   },
   {
    "duration": 11,
    "start_time": "2022-09-07T05:27:10.548Z"
   },
   {
    "duration": 8,
    "start_time": "2022-09-07T05:27:10.561Z"
   },
   {
    "duration": 224,
    "start_time": "2022-09-07T05:27:10.570Z"
   },
   {
    "duration": 17,
    "start_time": "2022-09-07T05:27:10.796Z"
   },
   {
    "duration": 241,
    "start_time": "2022-09-07T05:27:10.818Z"
   },
   {
    "duration": 10,
    "start_time": "2022-09-07T05:27:11.062Z"
   },
   {
    "duration": 60,
    "start_time": "2022-09-07T05:27:11.073Z"
   },
   {
    "duration": 2797,
    "start_time": "2022-09-07T05:27:11.135Z"
   },
   {
    "duration": 57,
    "start_time": "2022-09-07T05:27:13.934Z"
   },
   {
    "duration": 4,
    "start_time": "2022-09-07T05:27:14.002Z"
   },
   {
    "duration": 7,
    "start_time": "2022-09-07T05:27:14.008Z"
   },
   {
    "duration": 9,
    "start_time": "2022-09-07T05:27:14.016Z"
   },
   {
    "duration": 21,
    "start_time": "2022-09-07T05:27:14.027Z"
   },
   {
    "duration": 14,
    "start_time": "2022-09-07T05:27:14.050Z"
   },
   {
    "duration": 86,
    "start_time": "2022-09-07T05:27:14.066Z"
   },
   {
    "duration": 14,
    "start_time": "2022-09-07T05:27:14.154Z"
   },
   {
    "duration": 342,
    "start_time": "2022-09-07T05:27:14.171Z"
   },
   {
    "duration": 179,
    "start_time": "2022-09-07T05:27:14.515Z"
   },
   {
    "duration": 11,
    "start_time": "2022-09-07T05:27:14.703Z"
   }
  ],
  "kernelspec": {
   "display_name": "Python 3 (ipykernel)",
   "language": "python",
   "name": "python3"
  },
  "language_info": {
   "codemirror_mode": {
    "name": "ipython",
    "version": 3
   },
   "file_extension": ".py",
   "mimetype": "text/x-python",
   "name": "python",
   "nbconvert_exporter": "python",
   "pygments_lexer": "ipython3",
   "version": "3.9.13"
  },
  "toc": {
   "base_numbering": 1,
   "nav_menu": {},
   "number_sections": true,
   "sideBar": true,
   "skip_h1_title": true,
   "title_cell": "Table of Contents",
   "title_sidebar": "Contents",
   "toc_cell": false,
   "toc_position": {
    "height": "calc(100% - 180px)",
    "left": "10px",
    "top": "150px",
    "width": "494.1875px"
   },
   "toc_section_display": true,
   "toc_window_display": false
  }
 },
 "nbformat": 4,
 "nbformat_minor": 2
}
