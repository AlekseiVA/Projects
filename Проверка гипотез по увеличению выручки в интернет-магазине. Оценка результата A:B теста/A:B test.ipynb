{
 "cells": [
  {
   "cell_type": "markdown",
   "metadata": {},
   "source": [
    "# A/B тест интернет-магазина"
   ]
  },
  {
   "cell_type": "markdown",
   "metadata": {},
   "source": [
    "## Приоритизация гипотез"
   ]
  },
  {
   "cell_type": "markdown",
   "metadata": {},
   "source": [
    "Вместе с отделом маркетинга мы подготовили список гипотез для увелечение выручки  \n",
    "Наша задача: приоритизировать гипотезы, чтобы было понимания, с каких гипотез начинать исследования\n",
    "\n",
    "* Для начала загрузим библиотеки, которые потребуются для исследования\n",
    "* Далее просмотрим датафрейм\n",
    "* Сделаем предобработку данных\n",
    "* Применим фреймворк ``ICE`` для приоритизации гипотез\n",
    "* Применим фреймворк ``RICE``\n",
    "* Сделаем выводы на основе полученных данных"
   ]
  },
  {
   "cell_type": "code",
   "execution_count": 1,
   "metadata": {},
   "outputs": [],
   "source": [
    "#Загрузим библиотеки, которые нам нужны для дальнейшего исследования\n",
    "import pandas as pd\n",
    "import numpy as np\n",
    "import scipy.stats as stats\n",
    "import datetime as dt \n",
    "import matplotlib.pyplot as plt\n",
    "pd.options.display.max_colwidth = 210"
   ]
  },
  {
   "cell_type": "code",
   "execution_count": 2,
   "metadata": {},
   "outputs": [
    {
     "data": {
      "text/html": [
       "<div>\n",
       "<style scoped>\n",
       "    .dataframe tbody tr th:only-of-type {\n",
       "        vertical-align: middle;\n",
       "    }\n",
       "\n",
       "    .dataframe tbody tr th {\n",
       "        vertical-align: top;\n",
       "    }\n",
       "\n",
       "    .dataframe thead th {\n",
       "        text-align: right;\n",
       "    }\n",
       "</style>\n",
       "<table border=\"1\" class=\"dataframe\">\n",
       "  <thead>\n",
       "    <tr style=\"text-align: right;\">\n",
       "      <th></th>\n",
       "      <th>Hypothesis</th>\n",
       "      <th>Reach</th>\n",
       "      <th>Impact</th>\n",
       "      <th>Confidence</th>\n",
       "      <th>Efforts</th>\n",
       "    </tr>\n",
       "  </thead>\n",
       "  <tbody>\n",
       "    <tr>\n",
       "      <th>0</th>\n",
       "      <td>Добавить два новых канала привлечения трафика, что позволит привлекать на 30% больше пользователей</td>\n",
       "      <td>3</td>\n",
       "      <td>10</td>\n",
       "      <td>8</td>\n",
       "      <td>6</td>\n",
       "    </tr>\n",
       "    <tr>\n",
       "      <th>1</th>\n",
       "      <td>Запустить собственную службу доставки, что сократит срок доставки заказов</td>\n",
       "      <td>2</td>\n",
       "      <td>5</td>\n",
       "      <td>4</td>\n",
       "      <td>10</td>\n",
       "    </tr>\n",
       "    <tr>\n",
       "      <th>2</th>\n",
       "      <td>Добавить блоки рекомендаций товаров на сайт интернет магазина, чтобы повысить конверсию и средний чек заказа</td>\n",
       "      <td>8</td>\n",
       "      <td>3</td>\n",
       "      <td>7</td>\n",
       "      <td>3</td>\n",
       "    </tr>\n",
       "    <tr>\n",
       "      <th>3</th>\n",
       "      <td>Изменить структура категорий, что увеличит конверсию, т.к. пользователи быстрее найдут нужный товар</td>\n",
       "      <td>8</td>\n",
       "      <td>3</td>\n",
       "      <td>3</td>\n",
       "      <td>8</td>\n",
       "    </tr>\n",
       "    <tr>\n",
       "      <th>4</th>\n",
       "      <td>Изменить цвет фона главной страницы, чтобы увеличить вовлеченность пользователей</td>\n",
       "      <td>3</td>\n",
       "      <td>1</td>\n",
       "      <td>1</td>\n",
       "      <td>1</td>\n",
       "    </tr>\n",
       "  </tbody>\n",
       "</table>\n",
       "</div>"
      ],
      "text/plain": [
       "                                                                                                     Hypothesis  \\\n",
       "0            Добавить два новых канала привлечения трафика, что позволит привлекать на 30% больше пользователей   \n",
       "1                                     Запустить собственную службу доставки, что сократит срок доставки заказов   \n",
       "2  Добавить блоки рекомендаций товаров на сайт интернет магазина, чтобы повысить конверсию и средний чек заказа   \n",
       "3           Изменить структура категорий, что увеличит конверсию, т.к. пользователи быстрее найдут нужный товар   \n",
       "4                              Изменить цвет фона главной страницы, чтобы увеличить вовлеченность пользователей   \n",
       "\n",
       "   Reach  Impact  Confidence  Efforts  \n",
       "0      3      10           8        6  \n",
       "1      2       5           4       10  \n",
       "2      8       3           7        3  \n",
       "3      8       3           3        8  \n",
       "4      3       1           1        1  "
      ]
     },
     "execution_count": 2,
     "metadata": {},
     "output_type": "execute_result"
    }
   ],
   "source": [
    "#Откроем датафрейм с гипотезами\n",
    "hypothesis = pd.read_csv('/Users/alekseivlasov/Desktop/project/7/hypothesis.csv')\n",
    "\n",
    "hypothesis.head()"
   ]
  },
  {
   "cell_type": "code",
   "execution_count": 3,
   "metadata": {},
   "outputs": [],
   "source": [
    "#Приведем название столбцов к правильному стилю\n",
    "hypothesis.columns = [x.lower() for x in hypothesis.columns.values]"
   ]
  },
  {
   "cell_type": "code",
   "execution_count": 4,
   "metadata": {},
   "outputs": [
    {
     "name": "stdout",
     "output_type": "stream",
     "text": [
      "<class 'pandas.core.frame.DataFrame'>\n",
      "RangeIndex: 9 entries, 0 to 8\n",
      "Data columns (total 5 columns):\n",
      " #   Column      Non-Null Count  Dtype \n",
      "---  ------      --------------  ----- \n",
      " 0   hypothesis  9 non-null      object\n",
      " 1   reach       9 non-null      int64 \n",
      " 2   impact      9 non-null      int64 \n",
      " 3   confidence  9 non-null      int64 \n",
      " 4   efforts     9 non-null      int64 \n",
      "dtypes: int64(4), object(1)\n",
      "memory usage: 488.0+ bytes\n"
     ]
    }
   ],
   "source": [
    "#Просмотрим общую инфомацию\n",
    "hypothesis.info()"
   ]
  },
  {
   "cell_type": "markdown",
   "metadata": {},
   "source": [
    "Датафрейм загризили, привели к правильному стилю и проверили общую информацию. Все готово для исследования"
   ]
  },
  {
   "cell_type": "markdown",
   "metadata": {},
   "source": [
    "### Применим фреймворк ``ICE`` для приоритизации гипотез и отсортируем их по убыванию приоритета"
   ]
  },
  {
   "cell_type": "code",
   "execution_count": 5,
   "metadata": {},
   "outputs": [
    {
     "data": {
      "text/html": [
       "<div>\n",
       "<style scoped>\n",
       "    .dataframe tbody tr th:only-of-type {\n",
       "        vertical-align: middle;\n",
       "    }\n",
       "\n",
       "    .dataframe tbody tr th {\n",
       "        vertical-align: top;\n",
       "    }\n",
       "\n",
       "    .dataframe thead th {\n",
       "        text-align: right;\n",
       "    }\n",
       "</style>\n",
       "<table border=\"1\" class=\"dataframe\">\n",
       "  <thead>\n",
       "    <tr style=\"text-align: right;\">\n",
       "      <th></th>\n",
       "      <th>hypothesis</th>\n",
       "      <th>ice</th>\n",
       "    </tr>\n",
       "  </thead>\n",
       "  <tbody>\n",
       "    <tr>\n",
       "      <th>8</th>\n",
       "      <td>Запустить акцию, дающую скидку на товар в день рождения</td>\n",
       "      <td>16.200000</td>\n",
       "    </tr>\n",
       "    <tr>\n",
       "      <th>0</th>\n",
       "      <td>Добавить два новых канала привлечения трафика, что позволит привлекать на 30% больше пользователей</td>\n",
       "      <td>13.333333</td>\n",
       "    </tr>\n",
       "    <tr>\n",
       "      <th>7</th>\n",
       "      <td>Добавить форму подписки на все основные страницы, чтобы собрать базу клиентов для email-рассылок</td>\n",
       "      <td>11.200000</td>\n",
       "    </tr>\n",
       "    <tr>\n",
       "      <th>6</th>\n",
       "      <td>Показать на главной странице баннеры с актуальными акциями и распродажами, чтобы увеличить конверсию</td>\n",
       "      <td>8.000000</td>\n",
       "    </tr>\n",
       "    <tr>\n",
       "      <th>2</th>\n",
       "      <td>Добавить блоки рекомендаций товаров на сайт интернет магазина, чтобы повысить конверсию и средний чек заказа</td>\n",
       "      <td>7.000000</td>\n",
       "    </tr>\n",
       "    <tr>\n",
       "      <th>1</th>\n",
       "      <td>Запустить собственную службу доставки, что сократит срок доставки заказов</td>\n",
       "      <td>2.000000</td>\n",
       "    </tr>\n",
       "    <tr>\n",
       "      <th>5</th>\n",
       "      <td>Добавить страницу отзывов клиентов о магазине, что позволит увеличить количество заказов</td>\n",
       "      <td>1.333333</td>\n",
       "    </tr>\n",
       "    <tr>\n",
       "      <th>3</th>\n",
       "      <td>Изменить структура категорий, что увеличит конверсию, т.к. пользователи быстрее найдут нужный товар</td>\n",
       "      <td>1.125000</td>\n",
       "    </tr>\n",
       "    <tr>\n",
       "      <th>4</th>\n",
       "      <td>Изменить цвет фона главной страницы, чтобы увеличить вовлеченность пользователей</td>\n",
       "      <td>1.000000</td>\n",
       "    </tr>\n",
       "  </tbody>\n",
       "</table>\n",
       "</div>"
      ],
      "text/plain": [
       "                                                                                                     hypothesis  \\\n",
       "8                                                       Запустить акцию, дающую скидку на товар в день рождения   \n",
       "0            Добавить два новых канала привлечения трафика, что позволит привлекать на 30% больше пользователей   \n",
       "7              Добавить форму подписки на все основные страницы, чтобы собрать базу клиентов для email-рассылок   \n",
       "6          Показать на главной странице баннеры с актуальными акциями и распродажами, чтобы увеличить конверсию   \n",
       "2  Добавить блоки рекомендаций товаров на сайт интернет магазина, чтобы повысить конверсию и средний чек заказа   \n",
       "1                                     Запустить собственную службу доставки, что сократит срок доставки заказов   \n",
       "5                      Добавить страницу отзывов клиентов о магазине, что позволит увеличить количество заказов   \n",
       "3           Изменить структура категорий, что увеличит конверсию, т.к. пользователи быстрее найдут нужный товар   \n",
       "4                              Изменить цвет фона главной страницы, чтобы увеличить вовлеченность пользователей   \n",
       "\n",
       "         ice  \n",
       "8  16.200000  \n",
       "0  13.333333  \n",
       "7  11.200000  \n",
       "6   8.000000  \n",
       "2   7.000000  \n",
       "1   2.000000  \n",
       "5   1.333333  \n",
       "3   1.125000  \n",
       "4   1.000000  "
      ]
     },
     "metadata": {},
     "output_type": "display_data"
    }
   ],
   "source": [
    "hypothesis['ice'] = (hypothesis['impact'] * hypothesis['confidence']) / hypothesis['efforts']\n",
    "\n",
    "display(hypothesis[['hypothesis', 'ice']].sort_values(by='ice', ascending=False))"
   ]
  },
  {
   "cell_type": "markdown",
   "metadata": {},
   "source": [
    "Применив фреймворк ``ICE`` мы определили наиболее перспективные гипотезы: 8, 0, 7"
   ]
  },
  {
   "cell_type": "markdown",
   "metadata": {},
   "source": [
    "### Применим фреймворк ``RICE`` для приоритизации гипотез и отсортируем их по убыванию приоритета"
   ]
  },
  {
   "cell_type": "code",
   "execution_count": 6,
   "metadata": {},
   "outputs": [
    {
     "data": {
      "text/html": [
       "<div>\n",
       "<style scoped>\n",
       "    .dataframe tbody tr th:only-of-type {\n",
       "        vertical-align: middle;\n",
       "    }\n",
       "\n",
       "    .dataframe tbody tr th {\n",
       "        vertical-align: top;\n",
       "    }\n",
       "\n",
       "    .dataframe thead th {\n",
       "        text-align: right;\n",
       "    }\n",
       "</style>\n",
       "<table border=\"1\" class=\"dataframe\">\n",
       "  <thead>\n",
       "    <tr style=\"text-align: right;\">\n",
       "      <th></th>\n",
       "      <th>hypothesis</th>\n",
       "      <th>rice</th>\n",
       "    </tr>\n",
       "  </thead>\n",
       "  <tbody>\n",
       "    <tr>\n",
       "      <th>7</th>\n",
       "      <td>Добавить форму подписки на все основные страницы, чтобы собрать базу клиентов для email-рассылок</td>\n",
       "      <td>112.0</td>\n",
       "    </tr>\n",
       "    <tr>\n",
       "      <th>2</th>\n",
       "      <td>Добавить блоки рекомендаций товаров на сайт интернет магазина, чтобы повысить конверсию и средний чек заказа</td>\n",
       "      <td>56.0</td>\n",
       "    </tr>\n",
       "    <tr>\n",
       "      <th>0</th>\n",
       "      <td>Добавить два новых канала привлечения трафика, что позволит привлекать на 30% больше пользователей</td>\n",
       "      <td>40.0</td>\n",
       "    </tr>\n",
       "    <tr>\n",
       "      <th>6</th>\n",
       "      <td>Показать на главной странице баннеры с актуальными акциями и распродажами, чтобы увеличить конверсию</td>\n",
       "      <td>40.0</td>\n",
       "    </tr>\n",
       "    <tr>\n",
       "      <th>8</th>\n",
       "      <td>Запустить акцию, дающую скидку на товар в день рождения</td>\n",
       "      <td>16.2</td>\n",
       "    </tr>\n",
       "    <tr>\n",
       "      <th>3</th>\n",
       "      <td>Изменить структура категорий, что увеличит конверсию, т.к. пользователи быстрее найдут нужный товар</td>\n",
       "      <td>9.0</td>\n",
       "    </tr>\n",
       "    <tr>\n",
       "      <th>1</th>\n",
       "      <td>Запустить собственную службу доставки, что сократит срок доставки заказов</td>\n",
       "      <td>4.0</td>\n",
       "    </tr>\n",
       "    <tr>\n",
       "      <th>5</th>\n",
       "      <td>Добавить страницу отзывов клиентов о магазине, что позволит увеличить количество заказов</td>\n",
       "      <td>4.0</td>\n",
       "    </tr>\n",
       "    <tr>\n",
       "      <th>4</th>\n",
       "      <td>Изменить цвет фона главной страницы, чтобы увеличить вовлеченность пользователей</td>\n",
       "      <td>3.0</td>\n",
       "    </tr>\n",
       "  </tbody>\n",
       "</table>\n",
       "</div>"
      ],
      "text/plain": [
       "                                                                                                     hypothesis  \\\n",
       "7              Добавить форму подписки на все основные страницы, чтобы собрать базу клиентов для email-рассылок   \n",
       "2  Добавить блоки рекомендаций товаров на сайт интернет магазина, чтобы повысить конверсию и средний чек заказа   \n",
       "0            Добавить два новых канала привлечения трафика, что позволит привлекать на 30% больше пользователей   \n",
       "6          Показать на главной странице баннеры с актуальными акциями и распродажами, чтобы увеличить конверсию   \n",
       "8                                                       Запустить акцию, дающую скидку на товар в день рождения   \n",
       "3           Изменить структура категорий, что увеличит конверсию, т.к. пользователи быстрее найдут нужный товар   \n",
       "1                                     Запустить собственную службу доставки, что сократит срок доставки заказов   \n",
       "5                      Добавить страницу отзывов клиентов о магазине, что позволит увеличить количество заказов   \n",
       "4                              Изменить цвет фона главной страницы, чтобы увеличить вовлеченность пользователей   \n",
       "\n",
       "    rice  \n",
       "7  112.0  \n",
       "2   56.0  \n",
       "0   40.0  \n",
       "6   40.0  \n",
       "8   16.2  \n",
       "3    9.0  \n",
       "1    4.0  \n",
       "5    4.0  \n",
       "4    3.0  "
      ]
     },
     "metadata": {},
     "output_type": "display_data"
    }
   ],
   "source": [
    "hypothesis['rice'] = (hypothesis['reach'] * hypothesis['impact'] * hypothesis['confidence']) / hypothesis['efforts']\n",
    "\n",
    "display(hypothesis[['hypothesis', 'rice']].sort_values(by='rice', ascending=False))"
   ]
  },
  {
   "cell_type": "markdown",
   "metadata": {},
   "source": [
    "Применив фреймворк ``RICE`` мы определили наиболее перспективные гипотезы, список немного отличается от ``ICE``: 7, 2, 0, 6  \n",
    "Гипотезы 0 и 6 набрали одинаковые значения"
   ]
  },
  {
   "cell_type": "code",
   "execution_count": 7,
   "metadata": {},
   "outputs": [
    {
     "data": {
      "text/html": [
       "<div>\n",
       "<style scoped>\n",
       "    .dataframe tbody tr th:only-of-type {\n",
       "        vertical-align: middle;\n",
       "    }\n",
       "\n",
       "    .dataframe tbody tr th {\n",
       "        vertical-align: top;\n",
       "    }\n",
       "\n",
       "    .dataframe thead th {\n",
       "        text-align: right;\n",
       "    }\n",
       "</style>\n",
       "<table border=\"1\" class=\"dataframe\">\n",
       "  <thead>\n",
       "    <tr style=\"text-align: right;\">\n",
       "      <th></th>\n",
       "      <th>hypothesis</th>\n",
       "      <th>reach</th>\n",
       "      <th>impact</th>\n",
       "      <th>confidence</th>\n",
       "      <th>efforts</th>\n",
       "      <th>ice</th>\n",
       "      <th>rice</th>\n",
       "    </tr>\n",
       "  </thead>\n",
       "  <tbody>\n",
       "    <tr>\n",
       "      <th>7</th>\n",
       "      <td>Добавить форму подписки на все основные страницы, чтобы собрать базу клиентов для email-рассылок</td>\n",
       "      <td>10</td>\n",
       "      <td>7</td>\n",
       "      <td>8</td>\n",
       "      <td>5</td>\n",
       "      <td>11.200000</td>\n",
       "      <td>112.0</td>\n",
       "    </tr>\n",
       "    <tr>\n",
       "      <th>2</th>\n",
       "      <td>Добавить блоки рекомендаций товаров на сайт интернет магазина, чтобы повысить конверсию и средний чек заказа</td>\n",
       "      <td>8</td>\n",
       "      <td>3</td>\n",
       "      <td>7</td>\n",
       "      <td>3</td>\n",
       "      <td>7.000000</td>\n",
       "      <td>56.0</td>\n",
       "    </tr>\n",
       "    <tr>\n",
       "      <th>0</th>\n",
       "      <td>Добавить два новых канала привлечения трафика, что позволит привлекать на 30% больше пользователей</td>\n",
       "      <td>3</td>\n",
       "      <td>10</td>\n",
       "      <td>8</td>\n",
       "      <td>6</td>\n",
       "      <td>13.333333</td>\n",
       "      <td>40.0</td>\n",
       "    </tr>\n",
       "    <tr>\n",
       "      <th>6</th>\n",
       "      <td>Показать на главной странице баннеры с актуальными акциями и распродажами, чтобы увеличить конверсию</td>\n",
       "      <td>5</td>\n",
       "      <td>3</td>\n",
       "      <td>8</td>\n",
       "      <td>3</td>\n",
       "      <td>8.000000</td>\n",
       "      <td>40.0</td>\n",
       "    </tr>\n",
       "    <tr>\n",
       "      <th>8</th>\n",
       "      <td>Запустить акцию, дающую скидку на товар в день рождения</td>\n",
       "      <td>1</td>\n",
       "      <td>9</td>\n",
       "      <td>9</td>\n",
       "      <td>5</td>\n",
       "      <td>16.200000</td>\n",
       "      <td>16.2</td>\n",
       "    </tr>\n",
       "    <tr>\n",
       "      <th>3</th>\n",
       "      <td>Изменить структура категорий, что увеличит конверсию, т.к. пользователи быстрее найдут нужный товар</td>\n",
       "      <td>8</td>\n",
       "      <td>3</td>\n",
       "      <td>3</td>\n",
       "      <td>8</td>\n",
       "      <td>1.125000</td>\n",
       "      <td>9.0</td>\n",
       "    </tr>\n",
       "    <tr>\n",
       "      <th>1</th>\n",
       "      <td>Запустить собственную службу доставки, что сократит срок доставки заказов</td>\n",
       "      <td>2</td>\n",
       "      <td>5</td>\n",
       "      <td>4</td>\n",
       "      <td>10</td>\n",
       "      <td>2.000000</td>\n",
       "      <td>4.0</td>\n",
       "    </tr>\n",
       "    <tr>\n",
       "      <th>5</th>\n",
       "      <td>Добавить страницу отзывов клиентов о магазине, что позволит увеличить количество заказов</td>\n",
       "      <td>3</td>\n",
       "      <td>2</td>\n",
       "      <td>2</td>\n",
       "      <td>3</td>\n",
       "      <td>1.333333</td>\n",
       "      <td>4.0</td>\n",
       "    </tr>\n",
       "    <tr>\n",
       "      <th>4</th>\n",
       "      <td>Изменить цвет фона главной страницы, чтобы увеличить вовлеченность пользователей</td>\n",
       "      <td>3</td>\n",
       "      <td>1</td>\n",
       "      <td>1</td>\n",
       "      <td>1</td>\n",
       "      <td>1.000000</td>\n",
       "      <td>3.0</td>\n",
       "    </tr>\n",
       "  </tbody>\n",
       "</table>\n",
       "</div>"
      ],
      "text/plain": [
       "                                                                                                     hypothesis  \\\n",
       "7              Добавить форму подписки на все основные страницы, чтобы собрать базу клиентов для email-рассылок   \n",
       "2  Добавить блоки рекомендаций товаров на сайт интернет магазина, чтобы повысить конверсию и средний чек заказа   \n",
       "0            Добавить два новых канала привлечения трафика, что позволит привлекать на 30% больше пользователей   \n",
       "6          Показать на главной странице баннеры с актуальными акциями и распродажами, чтобы увеличить конверсию   \n",
       "8                                                       Запустить акцию, дающую скидку на товар в день рождения   \n",
       "3           Изменить структура категорий, что увеличит конверсию, т.к. пользователи быстрее найдут нужный товар   \n",
       "1                                     Запустить собственную службу доставки, что сократит срок доставки заказов   \n",
       "5                      Добавить страницу отзывов клиентов о магазине, что позволит увеличить количество заказов   \n",
       "4                              Изменить цвет фона главной страницы, чтобы увеличить вовлеченность пользователей   \n",
       "\n",
       "   reach  impact  confidence  efforts        ice   rice  \n",
       "7     10       7           8        5  11.200000  112.0  \n",
       "2      8       3           7        3   7.000000   56.0  \n",
       "0      3      10           8        6  13.333333   40.0  \n",
       "6      5       3           8        3   8.000000   40.0  \n",
       "8      1       9           9        5  16.200000   16.2  \n",
       "3      8       3           3        8   1.125000    9.0  \n",
       "1      2       5           4       10   2.000000    4.0  \n",
       "5      3       2           2        3   1.333333    4.0  \n",
       "4      3       1           1        1   1.000000    3.0  "
      ]
     },
     "execution_count": 7,
     "metadata": {},
     "output_type": "execute_result"
    }
   ],
   "source": [
    "#Просмотрим всею таблицу с результатами и отсортируем по RICE\n",
    "hypothesis.sort_values(by='rice', ascending=False)"
   ]
  },
  {
   "cell_type": "markdown",
   "metadata": {},
   "source": [
    "### Вывод"
   ]
  },
  {
   "cell_type": "markdown",
   "metadata": {},
   "source": [
    "* На первое место перешла 7 гипотеза, которая была на 3 месте, когда применили ``ICE``\n",
    "* 8 гипотеза ушла с наиболее перспективных гипотез\n",
    "* На втором месте теперь 2 гипотеза, вместо 0, а 0 гипотеза поделила третье место с 6 гипотезой\n",
    "\n",
    "Это произошло, потому что в модификации ``RICE`` появился еще один компонтент ``Reach``, который теперь еще учитывает, скольких пользователей затронет изменение, которое мы хотим внести"
   ]
  },
  {
   "cell_type": "markdown",
   "metadata": {},
   "source": [
    "## Анализ A/B-теста"
   ]
  },
  {
   "cell_type": "markdown",
   "metadata": {},
   "source": [
    "Теперь приступаем к анализу A/B-теста\n",
    "**Наша задача:** провести анализ и принять решение по результатам теста \n",
    "**Варианты решений:**\n",
    "1. Остановить тест, зафиксировать победу одной из групп;\n",
    "2. Остановить тест, зафиксировать отсутствие различий между группами;\n",
    "3. Продолжить тест.\n",
    "\n",
    "**Какие шаги будут проделаны в ходе анализа:**\n",
    "\n",
    "* Предобработка данных\n",
    "* Построение графиков по ключевым метрикам\n",
    "* Определение аномальных значений и устранение их\n",
    "* Подсчет статистической значимости по ключевым метрикам\n",
    "* Вывод по тесту"
   ]
  },
  {
   "cell_type": "markdown",
   "metadata": {},
   "source": [
    "### Предобработка данных"
   ]
  },
  {
   "cell_type": "code",
   "execution_count": 8,
   "metadata": {},
   "outputs": [
    {
     "data": {
      "text/html": [
       "<div>\n",
       "<style scoped>\n",
       "    .dataframe tbody tr th:only-of-type {\n",
       "        vertical-align: middle;\n",
       "    }\n",
       "\n",
       "    .dataframe tbody tr th {\n",
       "        vertical-align: top;\n",
       "    }\n",
       "\n",
       "    .dataframe thead th {\n",
       "        text-align: right;\n",
       "    }\n",
       "</style>\n",
       "<table border=\"1\" class=\"dataframe\">\n",
       "  <thead>\n",
       "    <tr style=\"text-align: right;\">\n",
       "      <th></th>\n",
       "      <th>transactionId</th>\n",
       "      <th>visitorId</th>\n",
       "      <th>date</th>\n",
       "      <th>revenue</th>\n",
       "      <th>group</th>\n",
       "    </tr>\n",
       "  </thead>\n",
       "  <tbody>\n",
       "    <tr>\n",
       "      <th>0</th>\n",
       "      <td>3667963787</td>\n",
       "      <td>3312258926</td>\n",
       "      <td>2019-08-15</td>\n",
       "      <td>1650</td>\n",
       "      <td>B</td>\n",
       "    </tr>\n",
       "    <tr>\n",
       "      <th>1</th>\n",
       "      <td>2804400009</td>\n",
       "      <td>3642806036</td>\n",
       "      <td>2019-08-15</td>\n",
       "      <td>730</td>\n",
       "      <td>B</td>\n",
       "    </tr>\n",
       "    <tr>\n",
       "      <th>2</th>\n",
       "      <td>2961555356</td>\n",
       "      <td>4069496402</td>\n",
       "      <td>2019-08-15</td>\n",
       "      <td>400</td>\n",
       "      <td>A</td>\n",
       "    </tr>\n",
       "    <tr>\n",
       "      <th>3</th>\n",
       "      <td>3797467345</td>\n",
       "      <td>1196621759</td>\n",
       "      <td>2019-08-15</td>\n",
       "      <td>9759</td>\n",
       "      <td>B</td>\n",
       "    </tr>\n",
       "    <tr>\n",
       "      <th>4</th>\n",
       "      <td>2282983706</td>\n",
       "      <td>2322279887</td>\n",
       "      <td>2019-08-15</td>\n",
       "      <td>2308</td>\n",
       "      <td>B</td>\n",
       "    </tr>\n",
       "  </tbody>\n",
       "</table>\n",
       "</div>"
      ],
      "text/plain": [
       "   transactionId   visitorId        date  revenue group\n",
       "0     3667963787  3312258926  2019-08-15     1650     B\n",
       "1     2804400009  3642806036  2019-08-15      730     B\n",
       "2     2961555356  4069496402  2019-08-15      400     A\n",
       "3     3797467345  1196621759  2019-08-15     9759     B\n",
       "4     2282983706  2322279887  2019-08-15     2308     B"
      ]
     },
     "metadata": {},
     "output_type": "display_data"
    },
    {
     "data": {
      "text/html": [
       "<div>\n",
       "<style scoped>\n",
       "    .dataframe tbody tr th:only-of-type {\n",
       "        vertical-align: middle;\n",
       "    }\n",
       "\n",
       "    .dataframe tbody tr th {\n",
       "        vertical-align: top;\n",
       "    }\n",
       "\n",
       "    .dataframe thead th {\n",
       "        text-align: right;\n",
       "    }\n",
       "</style>\n",
       "<table border=\"1\" class=\"dataframe\">\n",
       "  <thead>\n",
       "    <tr style=\"text-align: right;\">\n",
       "      <th></th>\n",
       "      <th>date</th>\n",
       "      <th>group</th>\n",
       "      <th>visitors</th>\n",
       "    </tr>\n",
       "  </thead>\n",
       "  <tbody>\n",
       "    <tr>\n",
       "      <th>0</th>\n",
       "      <td>2019-08-01</td>\n",
       "      <td>A</td>\n",
       "      <td>719</td>\n",
       "    </tr>\n",
       "    <tr>\n",
       "      <th>1</th>\n",
       "      <td>2019-08-02</td>\n",
       "      <td>A</td>\n",
       "      <td>619</td>\n",
       "    </tr>\n",
       "    <tr>\n",
       "      <th>2</th>\n",
       "      <td>2019-08-03</td>\n",
       "      <td>A</td>\n",
       "      <td>507</td>\n",
       "    </tr>\n",
       "    <tr>\n",
       "      <th>3</th>\n",
       "      <td>2019-08-04</td>\n",
       "      <td>A</td>\n",
       "      <td>717</td>\n",
       "    </tr>\n",
       "    <tr>\n",
       "      <th>4</th>\n",
       "      <td>2019-08-05</td>\n",
       "      <td>A</td>\n",
       "      <td>756</td>\n",
       "    </tr>\n",
       "  </tbody>\n",
       "</table>\n",
       "</div>"
      ],
      "text/plain": [
       "         date group  visitors\n",
       "0  2019-08-01     A       719\n",
       "1  2019-08-02     A       619\n",
       "2  2019-08-03     A       507\n",
       "3  2019-08-04     A       717\n",
       "4  2019-08-05     A       756"
      ]
     },
     "metadata": {},
     "output_type": "display_data"
    }
   ],
   "source": [
    "#Откроем таблицы\n",
    "orders = pd.read_csv('/Users/alekseivlasov/Desktop/project/7/orders.csv')\n",
    "visitors = pd.read_csv('/Users/alekseivlasov/Desktop/project/7/visitors.csv')\n",
    "\n",
    "display(orders.head())\n",
    "display(visitors.head())"
   ]
  },
  {
   "cell_type": "code",
   "execution_count": 9,
   "metadata": {},
   "outputs": [
    {
     "name": "stdout",
     "output_type": "stream",
     "text": [
      "<class 'pandas.core.frame.DataFrame'>\n",
      "RangeIndex: 1197 entries, 0 to 1196\n",
      "Data columns (total 5 columns):\n",
      " #   Column         Non-Null Count  Dtype \n",
      "---  ------         --------------  ----- \n",
      " 0   transactionId  1197 non-null   int64 \n",
      " 1   visitorId      1197 non-null   int64 \n",
      " 2   date           1197 non-null   object\n",
      " 3   revenue        1197 non-null   int64 \n",
      " 4   group          1197 non-null   object\n",
      "dtypes: int64(3), object(2)\n",
      "memory usage: 46.9+ KB\n"
     ]
    }
   ],
   "source": [
    "#Посмотрим общую информацию по датафреймам\n",
    "orders.info()"
   ]
  },
  {
   "cell_type": "code",
   "execution_count": 10,
   "metadata": {},
   "outputs": [
    {
     "name": "stdout",
     "output_type": "stream",
     "text": [
      "<class 'pandas.core.frame.DataFrame'>\n",
      "RangeIndex: 62 entries, 0 to 61\n",
      "Data columns (total 3 columns):\n",
      " #   Column    Non-Null Count  Dtype \n",
      "---  ------    --------------  ----- \n",
      " 0   date      62 non-null     object\n",
      " 1   group     62 non-null     object\n",
      " 2   visitors  62 non-null     int64 \n",
      "dtypes: int64(1), object(2)\n",
      "memory usage: 1.6+ KB\n"
     ]
    }
   ],
   "source": [
    "visitors.info()"
   ]
  },
  {
   "cell_type": "markdown",
   "metadata": {},
   "source": [
    "В таблице ``orders`` нужно привести название столбцов к правильному стилю и изменитиь тип данных в столбце ``date``  \n",
    "В таблице ``visitors`` тоже поменяем тип данных в столбце ``date``  \n",
    "Пропусков в таблицах нет"
   ]
  },
  {
   "cell_type": "code",
   "execution_count": 11,
   "metadata": {},
   "outputs": [],
   "source": [
    "#Переименуем столбцы\n",
    "orders = orders.rename(\n",
    "    columns={'transactionId':'transaction_id', 'visitorId':'visitor_id'}\n",
    ")"
   ]
  },
  {
   "cell_type": "code",
   "execution_count": 12,
   "metadata": {},
   "outputs": [],
   "source": [
    "#Поменяем тип данных\n",
    "orders['date'] = pd.to_datetime(orders['date'], format='%Y-%m-%d')\n",
    "visitors['date'] = pd.to_datetime(visitors['date'], format='%Y-%m-%d')"
   ]
  },
  {
   "cell_type": "code",
   "execution_count": 13,
   "metadata": {},
   "outputs": [
    {
     "name": "stdout",
     "output_type": "stream",
     "text": [
      "<class 'pandas.core.frame.DataFrame'>\n",
      "RangeIndex: 1197 entries, 0 to 1196\n",
      "Data columns (total 5 columns):\n",
      " #   Column          Non-Null Count  Dtype         \n",
      "---  ------          --------------  -----         \n",
      " 0   transaction_id  1197 non-null   int64         \n",
      " 1   visitor_id      1197 non-null   int64         \n",
      " 2   date            1197 non-null   datetime64[ns]\n",
      " 3   revenue         1197 non-null   int64         \n",
      " 4   group           1197 non-null   object        \n",
      "dtypes: datetime64[ns](1), int64(3), object(1)\n",
      "memory usage: 46.9+ KB\n"
     ]
    }
   ],
   "source": [
    "#Проверим изменения\n",
    "orders.info()"
   ]
  },
  {
   "cell_type": "code",
   "execution_count": 14,
   "metadata": {},
   "outputs": [
    {
     "name": "stdout",
     "output_type": "stream",
     "text": [
      "<class 'pandas.core.frame.DataFrame'>\n",
      "RangeIndex: 62 entries, 0 to 61\n",
      "Data columns (total 3 columns):\n",
      " #   Column    Non-Null Count  Dtype         \n",
      "---  ------    --------------  -----         \n",
      " 0   date      62 non-null     datetime64[ns]\n",
      " 1   group     62 non-null     object        \n",
      " 2   visitors  62 non-null     int64         \n",
      "dtypes: datetime64[ns](1), int64(1), object(1)\n",
      "memory usage: 1.6+ KB\n"
     ]
    }
   ],
   "source": [
    "visitors.info()"
   ]
  },
  {
   "cell_type": "markdown",
   "metadata": {},
   "source": [
    "Перед исследованием проверим, нет ли пользователей, которые попали в обе группы"
   ]
  },
  {
   "cell_type": "code",
   "execution_count": 15,
   "metadata": {},
   "outputs": [
    {
     "data": {
      "text/html": [
       "<div>\n",
       "<style scoped>\n",
       "    .dataframe tbody tr th:only-of-type {\n",
       "        vertical-align: middle;\n",
       "    }\n",
       "\n",
       "    .dataframe tbody tr th {\n",
       "        vertical-align: top;\n",
       "    }\n",
       "\n",
       "    .dataframe thead th {\n",
       "        text-align: right;\n",
       "    }\n",
       "</style>\n",
       "<table border=\"1\" class=\"dataframe\">\n",
       "  <thead>\n",
       "    <tr style=\"text-align: right;\">\n",
       "      <th></th>\n",
       "      <th>visitor_id</th>\n",
       "      <th>group</th>\n",
       "    </tr>\n",
       "  </thead>\n",
       "  <tbody>\n",
       "    <tr>\n",
       "      <th>0</th>\n",
       "      <td>2654030115</td>\n",
       "      <td>2</td>\n",
       "    </tr>\n",
       "    <tr>\n",
       "      <th>1</th>\n",
       "      <td>3891541246</td>\n",
       "      <td>2</td>\n",
       "    </tr>\n",
       "    <tr>\n",
       "      <th>2</th>\n",
       "      <td>3941795274</td>\n",
       "      <td>2</td>\n",
       "    </tr>\n",
       "    <tr>\n",
       "      <th>3</th>\n",
       "      <td>1404934699</td>\n",
       "      <td>2</td>\n",
       "    </tr>\n",
       "    <tr>\n",
       "      <th>4</th>\n",
       "      <td>351125977</td>\n",
       "      <td>2</td>\n",
       "    </tr>\n",
       "  </tbody>\n",
       "</table>\n",
       "</div>"
      ],
      "text/plain": [
       "   visitor_id  group\n",
       "0  2654030115      2\n",
       "1  3891541246      2\n",
       "2  3941795274      2\n",
       "3  1404934699      2\n",
       "4   351125977      2"
      ]
     },
     "execution_count": 15,
     "metadata": {},
     "output_type": "execute_result"
    }
   ],
   "source": [
    "id_duplicated = (\n",
    "    orders.groupby('visitor_id')\n",
    "    .agg({'group':'nunique'})\n",
    "    .sort_values(by='group', ascending=False)\n",
    "    .reset_index()\n",
    ")\n",
    "\n",
    "id_duplicated.head()"
   ]
  },
  {
   "cell_type": "code",
   "execution_count": 16,
   "metadata": {
    "scrolled": true
   },
   "outputs": [
    {
     "data": {
      "text/plain": [
       "58"
      ]
     },
     "execution_count": 16,
     "metadata": {},
     "output_type": "execute_result"
    }
   ],
   "source": [
    "#Оставим в переменной только те id, которые попали в 2 группы\n",
    "id_duplicated = id_duplicated.query('group == 2')\n",
    "id_duplicated['visitor_id'].count()"
   ]
  },
  {
   "cell_type": "markdown",
   "metadata": {},
   "source": [
    "Мы получили 58 пользователей, которые, за время эксперимента, были в двух группах  \n",
    "Такие id лучше удалить, чтобы тест был корректный"
   ]
  },
  {
   "cell_type": "code",
   "execution_count": 17,
   "metadata": {},
   "outputs": [],
   "source": [
    "#Оставим только список id\n",
    "id_duplicated = list(id_duplicated['visitor_id'])"
   ]
  },
  {
   "cell_type": "code",
   "execution_count": 18,
   "metadata": {},
   "outputs": [],
   "source": [
    "#Уберем строки, где есть пользователи из списка\n",
    "orders = orders.query('visitor_id != @id_duplicated')"
   ]
  },
  {
   "cell_type": "markdown",
   "metadata": {},
   "source": [
    "Чтобы построить графики для анализа A/B-теста, нужно собрать кумулятивные данные"
   ]
  },
  {
   "cell_type": "code",
   "execution_count": 19,
   "metadata": {},
   "outputs": [
    {
     "data": {
      "text/html": [
       "<div>\n",
       "<style scoped>\n",
       "    .dataframe tbody tr th:only-of-type {\n",
       "        vertical-align: middle;\n",
       "    }\n",
       "\n",
       "    .dataframe tbody tr th {\n",
       "        vertical-align: top;\n",
       "    }\n",
       "\n",
       "    .dataframe thead th {\n",
       "        text-align: right;\n",
       "    }\n",
       "</style>\n",
       "<table border=\"1\" class=\"dataframe\">\n",
       "  <thead>\n",
       "    <tr style=\"text-align: right;\">\n",
       "      <th></th>\n",
       "      <th>date</th>\n",
       "      <th>group</th>\n",
       "      <th>orders</th>\n",
       "      <th>buyers</th>\n",
       "      <th>revenue</th>\n",
       "      <th>visitors</th>\n",
       "    </tr>\n",
       "  </thead>\n",
       "  <tbody>\n",
       "    <tr>\n",
       "      <th>0</th>\n",
       "      <td>2019-08-01</td>\n",
       "      <td>A</td>\n",
       "      <td>23</td>\n",
       "      <td>19</td>\n",
       "      <td>142779</td>\n",
       "      <td>719</td>\n",
       "    </tr>\n",
       "    <tr>\n",
       "      <th>1</th>\n",
       "      <td>2019-08-01</td>\n",
       "      <td>B</td>\n",
       "      <td>17</td>\n",
       "      <td>17</td>\n",
       "      <td>59758</td>\n",
       "      <td>713</td>\n",
       "    </tr>\n",
       "    <tr>\n",
       "      <th>2</th>\n",
       "      <td>2019-08-02</td>\n",
       "      <td>A</td>\n",
       "      <td>42</td>\n",
       "      <td>36</td>\n",
       "      <td>234381</td>\n",
       "      <td>1338</td>\n",
       "    </tr>\n",
       "    <tr>\n",
       "      <th>3</th>\n",
       "      <td>2019-08-02</td>\n",
       "      <td>B</td>\n",
       "      <td>40</td>\n",
       "      <td>39</td>\n",
       "      <td>221801</td>\n",
       "      <td>1294</td>\n",
       "    </tr>\n",
       "    <tr>\n",
       "      <th>4</th>\n",
       "      <td>2019-08-03</td>\n",
       "      <td>A</td>\n",
       "      <td>66</td>\n",
       "      <td>60</td>\n",
       "      <td>346854</td>\n",
       "      <td>1845</td>\n",
       "    </tr>\n",
       "  </tbody>\n",
       "</table>\n",
       "</div>"
      ],
      "text/plain": [
       "        date group  orders  buyers  revenue  visitors\n",
       "0 2019-08-01     A      23      19   142779       719\n",
       "1 2019-08-01     B      17      17    59758       713\n",
       "2 2019-08-02     A      42      36   234381      1338\n",
       "3 2019-08-02     B      40      39   221801      1294\n",
       "4 2019-08-03     A      66      60   346854      1845"
      ]
     },
     "metadata": {},
     "output_type": "display_data"
    }
   ],
   "source": [
    "#Cоздаем массив уникальных пар значений дат и групп теста\n",
    "dates_groups = orders[['date', 'group']].drop_duplicates()\n",
    "\n",
    "#получаем агрегированные кумулятивные по дням данные о заказах\n",
    "orders_aggregated = dates_groups.apply(\n",
    "    lambda x: orders[np.logical_and(orders['date'] <= x['date'], orders['group'] == x['group'])]\n",
    "    .agg({'date':'max', 'group':'max', 'transaction_id':'nunique', 'visitor_id':'nunique', 'revenue':'sum'})\n",
    "    ,axis=1\n",
    ").sort_values(by=['date', 'group'])\n",
    "\n",
    "#получаем агрегированные кумулятивные по дням данные о посетителях интернет-магазина \n",
    "visitors_aggregated = dates_groups.apply(\n",
    "    lambda x: visitors[np.logical_and(visitors['date'] <= x['date'], visitors['group'] == x['group'])]\n",
    "    .agg({'date':'max', 'group':'max', 'visitors':'sum'})\n",
    "    ,axis=1\n",
    ").sort_values(by=['date', 'group'])\n",
    "\n",
    "#объединяем кумулятивные данные в одной таблице и присваиваем ее столбцам понятные названия\n",
    "cumulative_df = orders_aggregated.merge(visitors_aggregated, left_on=['date', 'group'], right_on=['date', 'group'])\n",
    "cumulative_df.columns = ['date', 'group', 'orders', 'buyers', 'revenue', 'visitors']\n",
    "\n",
    "display(cumulative_df.head())"
   ]
  },
  {
   "cell_type": "markdown",
   "metadata": {},
   "source": [
    "**Мы сделали предобработку данных:**\n",
    "\n",
    "* Привели название столбцов к правильному стилю\n",
    "* Изменили тип данных в нужных столбцах \n",
    "* Нашли и удалили пользователей, кто попал в 2 группы\n",
    "* Создали датафрейм с кумулятивными данными\n",
    "\n",
    "Теперь можно приступить к исследованию"
   ]
  },
  {
   "cell_type": "markdown",
   "metadata": {},
   "source": [
    "### Построим график кумулятивной выручки по группам"
   ]
  },
  {
   "cell_type": "code",
   "execution_count": 20,
   "metadata": {},
   "outputs": [
    {
     "data": {
      "image/png": "[encoded data removed]",
      "text/plain": [
       "<Figure size 1200x600 with 1 Axes>"
      ]
     },
     "metadata": {},
     "output_type": "display_data"
    }
   ],
   "source": [
    "#Разделим датафреймы по группам \n",
    "cumulative_revenue_a = cumulative_df[cumulative_df['group'] == 'A'][['date', 'revenue', 'orders']]\n",
    "cumulative_revenue_b = cumulative_df[cumulative_df['group'] == 'B'][['date', 'revenue', 'orders']]\n",
    "\n",
    "#Строим графики\n",
    "plt.figure(figsize=(12,6))\n",
    "plt.plot(cumulative_revenue_a['date'], cumulative_revenue_a['revenue'], label = 'A')\n",
    "plt.plot(cumulative_revenue_b['date'], cumulative_revenue_b['revenue'], label = 'B')\n",
    "plt.title('График кумулятивной выручки по группам')\n",
    "plt.xlabel('Дата')\n",
    "plt.ylabel('Выручка')\n",
    "plt.legend();"
   ]
  },
  {
   "cell_type": "markdown",
   "metadata": {},
   "source": [
    "На графике мы видим, что первые 5 дней 2 группы шли примерно с одинаковой выручкой. Далее группа ``B`` начала показывать больше выручки, но 13 августа группа ``А`` догнала.  \n",
    "С 17 августа был резкий скачок у группы ``B`` и дальше группа ``B`` лидировала  \n",
    "Этот скачок нужно будет отдельно посмотреть, что там могло произойти"
   ]
  },
  {
   "cell_type": "markdown",
   "metadata": {},
   "source": [
    "### Построим график кумулятивного среднего чека по группам"
   ]
  },
  {
   "cell_type": "code",
   "execution_count": 21,
   "metadata": {},
   "outputs": [
    {
     "data": {
      "image/png": "[encoded data removed]",
      "text/plain": [
       "<Figure size 1200x600 with 1 Axes>"
      ]
     },
     "metadata": {},
     "output_type": "display_data"
    }
   ],
   "source": [
    "plt.figure(figsize=(12,6))\n",
    "plt.plot(cumulative_revenue_a['date'], cumulative_revenue_a['revenue']/cumulative_revenue_a['orders'], label = 'A')\n",
    "plt.plot(cumulative_revenue_b['date'], cumulative_revenue_b['revenue']/cumulative_revenue_b['orders'], label = 'B')\n",
    "plt.title('График кумулятивного среднего чека по группам')\n",
    "plt.xlabel('Дата')\n",
    "plt.ylabel('Средний чек')\n",
    "plt.legend();"
   ]
  },
  {
   "cell_type": "markdown",
   "metadata": {},
   "source": [
    "В самом начале теста у группы ``А`` был средний чек больше, дальше у группы ``B`` резко средний чек вырос, возможно попались круппные чеки   \n",
    "К середине теста у группы ``А`` стабилизировался средний чек и шел ровно, а вот группа ``B`` показала еще один резкий скачок вверх"
   ]
  },
  {
   "cell_type": "markdown",
   "metadata": {},
   "source": [
    "### Построим график относительного изменения кумулятивного среднего чека группы B к группе A"
   ]
  },
  {
   "cell_type": "code",
   "execution_count": 22,
   "metadata": {},
   "outputs": [
    {
     "data": {
      "image/png": "[encoded data removed]",
      "text/plain": [
       "<Figure size 1200x600 with 1 Axes>"
      ]
     },
     "metadata": {},
     "output_type": "display_data"
    }
   ],
   "source": [
    "#Собираем данные в одном датафрейме\n",
    "merge_cumulative_revenue = cumulative_revenue_a.merge(\n",
    "    cumulative_revenue_b, left_on='date', right_on='date', how='left', suffixes =['a', 'b']\n",
    ")\n",
    "\n",
    "#строим отношение средних чеков\n",
    "plt.figure(figsize=(12,6))\n",
    "plt.plot(merge_cumulative_revenue['date'], \n",
    "         (merge_cumulative_revenue['revenueb']/merge_cumulative_revenue['ordersb'])/\n",
    "        (merge_cumulative_revenue['revenuea']/merge_cumulative_revenue['ordersa']) - 1)\n",
    "plt.title('График относительного изменения кумулятивного среднего чека группы B к группе A')\n",
    "plt.xlabel('Дата')\n",
    "\n",
    "#добавляем ось X\n",
    "plt.axhline(y=0, color='black', linestyle='--');"
   ]
  },
  {
   "cell_type": "markdown",
   "metadata": {},
   "source": [
    "В нескольких точках график различия между сегментами резко «скачет». Где-то уж точно спрятались крупные заказы и выбросы  \n",
    "Найдём их позже"
   ]
  },
  {
   "cell_type": "markdown",
   "metadata": {},
   "source": [
    "### Построим график кумулятивной конверсии по группам"
   ]
  },
  {
   "cell_type": "code",
   "execution_count": 23,
   "metadata": {},
   "outputs": [
    {
     "data": {
      "image/png": "[encoded data removed]",
      "text/plain": [
       "<Figure size 1200x600 with 1 Axes>"
      ]
     },
     "metadata": {},
     "output_type": "display_data"
    }
   ],
   "source": [
    "#Считаем кумулятивную конверсию \n",
    "cumulative_df['conversion'] = cumulative_df['orders'] / cumulative_df['visitors']\n",
    "\n",
    "#отделяем данные по группе A\n",
    "cumulative_df_a = cumulative_df[cumulative_df['group'] == 'A']\n",
    "\n",
    "#отделяем данные по группе B\n",
    "cumulative_df_b = cumulative_df[cumulative_df['group'] == 'B']\n",
    "\n",
    "#строим график\n",
    "plt.figure(figsize=(12,6))\n",
    "plt.plot(cumulative_df_a['date'], cumulative_df_a['conversion'], label = 'A')\n",
    "plt.plot(cumulative_df_b['date'], cumulative_df_b['conversion'], label = 'B')\n",
    "plt.title('График кумулятивной конверсии по группам')\n",
    "plt.xlabel('Дата')\n",
    "plt.ylabel('Конверсия')\n",
    "plt.legend();"
   ]
  },
  {
   "cell_type": "markdown",
   "metadata": {},
   "source": [
    "Вначале группа ``A`` лидидровала по конверсии, но далее группа ``B`` вышла вперед и дальше график шел ровно"
   ]
  },
  {
   "cell_type": "markdown",
   "metadata": {},
   "source": [
    "### Построим график относительного изменения кумулятивной конверсии группы B к группе A"
   ]
  },
  {
   "cell_type": "code",
   "execution_count": 24,
   "metadata": {},
   "outputs": [
    {
     "data": {
      "image/png": "[encoded data removed]",
      "text/plain": [
       "<Figure size 1200x600 with 1 Axes>"
      ]
     },
     "metadata": {},
     "output_type": "display_data"
    }
   ],
   "source": [
    "#Собираем данные в одном датафрейме\n",
    "merge_cumulative_conversion = cumulative_df_a[['date', 'conversion']].merge(\n",
    "    cumulative_df_b[['date', 'conversion']], left_on = 'date', right_on = 'date', how = 'left',\n",
    "    suffixes = ['a', 'b']\n",
    ")\n",
    "\n",
    "#строим отношение конверсии\n",
    "plt.figure(figsize =(12,6))\n",
    "plt.plot(merge_cumulative_conversion['date'], merge_cumulative_conversion['conversionb']/\n",
    "        merge_cumulative_conversion['conversiona'] - 1\n",
    ")\n",
    "plt.title('Относительный прирост конверсии группы B относительно группы A')\n",
    "plt.xlabel('Дата')\n",
    "\n",
    "\n",
    "plt.axhline(y=0, color= 'black', linestyle ='--');"
   ]
  },
  {
   "cell_type": "markdown",
   "metadata": {},
   "source": [
    "В начале теста группа ``B`` значительно проигрывала группе ``A``, затем вырвалась вперёд.  \n",
    "В целом, делать какие-либо выводы по тесту нельзя. Сперва стоит проанализировать аномалии, возможно, они изменят картину"
   ]
  },
  {
   "cell_type": "markdown",
   "metadata": {},
   "source": [
    "### Построим точечный график количества заказов по пользователям"
   ]
  },
  {
   "cell_type": "code",
   "execution_count": 25,
   "metadata": {},
   "outputs": [
    {
     "data": {
      "text/html": [
       "<div>\n",
       "<style scoped>\n",
       "    .dataframe tbody tr th:only-of-type {\n",
       "        vertical-align: middle;\n",
       "    }\n",
       "\n",
       "    .dataframe tbody tr th {\n",
       "        vertical-align: top;\n",
       "    }\n",
       "\n",
       "    .dataframe thead th {\n",
       "        text-align: right;\n",
       "    }\n",
       "</style>\n",
       "<table border=\"1\" class=\"dataframe\">\n",
       "  <thead>\n",
       "    <tr style=\"text-align: right;\">\n",
       "      <th></th>\n",
       "      <th>user_id</th>\n",
       "      <th>orders</th>\n",
       "    </tr>\n",
       "  </thead>\n",
       "  <tbody>\n",
       "    <tr>\n",
       "      <th>0</th>\n",
       "      <td>5114589</td>\n",
       "      <td>1</td>\n",
       "    </tr>\n",
       "    <tr>\n",
       "      <th>1</th>\n",
       "      <td>6958315</td>\n",
       "      <td>1</td>\n",
       "    </tr>\n",
       "    <tr>\n",
       "      <th>2</th>\n",
       "      <td>11685486</td>\n",
       "      <td>1</td>\n",
       "    </tr>\n",
       "    <tr>\n",
       "      <th>3</th>\n",
       "      <td>39475350</td>\n",
       "      <td>1</td>\n",
       "    </tr>\n",
       "    <tr>\n",
       "      <th>4</th>\n",
       "      <td>47206413</td>\n",
       "      <td>1</td>\n",
       "    </tr>\n",
       "  </tbody>\n",
       "</table>\n",
       "</div>"
      ],
      "text/plain": [
       "    user_id  orders\n",
       "0   5114589       1\n",
       "1   6958315       1\n",
       "2  11685486       1\n",
       "3  39475350       1\n",
       "4  47206413       1"
      ]
     },
     "execution_count": 25,
     "metadata": {},
     "output_type": "execute_result"
    }
   ],
   "source": [
    "#Подготовим датафрейм\n",
    "orders_by_users = (\n",
    "    orders.groupby('visitor_id', as_index=False)\n",
    "    .agg({'transaction_id':'nunique'})\n",
    ")\n",
    "\n",
    "orders_by_users.columns = ['user_id', 'orders']\n",
    "\n",
    "orders_by_users.head()"
   ]
  },
  {
   "cell_type": "code",
   "execution_count": 26,
   "metadata": {},
   "outputs": [
    {
     "data": {
      "image/png": "[encoded data removed]",
      "text/plain": [
       "<Figure size 1200x600 with 1 Axes>"
      ]
     },
     "metadata": {},
     "output_type": "display_data"
    }
   ],
   "source": [
    "#Построим график\n",
    "x_values = pd.Series(range(0, len(orders_by_users)))\n",
    "\n",
    "plt.figure(figsize=(12,6))\n",
    "plt.scatter(x_values, orders_by_users['orders'])\n",
    "plt.title('График количества заказов по пользователям')\n",
    "plt.xlabel('Количество пользователей')\n",
    "plt.ylabel('Количество заказов');"
   ]
  },
  {
   "cell_type": "markdown",
   "metadata": {},
   "source": [
    "Максимальное количество заказов на одного пользователя 3  \n",
    "Большая часть пользователей делает 1 заказ"
   ]
  },
  {
   "cell_type": "markdown",
   "metadata": {},
   "source": [
    "### Посчитаем 95-й и 99-й перцентили количества заказов на пользователя"
   ]
  },
  {
   "cell_type": "code",
   "execution_count": 27,
   "metadata": {},
   "outputs": [
    {
     "data": {
      "text/plain": [
       "array([1., 2.])"
      ]
     },
     "execution_count": 27,
     "metadata": {},
     "output_type": "execute_result"
    }
   ],
   "source": [
    "percentile_orders = np.percentile(orders_by_users['orders'], [95, 99])\n",
    "percentile_orders"
   ]
  },
  {
   "cell_type": "markdown",
   "metadata": {},
   "source": [
    "Не более 1% пользователей оформляли больше чем 1 заказ  \n",
    "Оставим пользователей, которые делали 1 заказ"
   ]
  },
  {
   "cell_type": "markdown",
   "metadata": {},
   "source": [
    "### Построим точечный график стоимостей заказов"
   ]
  },
  {
   "cell_type": "code",
   "execution_count": 28,
   "metadata": {},
   "outputs": [
    {
     "data": {
      "image/png": "[encoded data removed]",
      "text/plain": [
       "<Figure size 1200x600 with 1 Axes>"
      ]
     },
     "metadata": {},
     "output_type": "display_data"
    }
   ],
   "source": [
    "x_values = pd.Series(range(0, len(orders['revenue'])))\n",
    "plt.figure(figsize=(12, 6))\n",
    "plt.scatter(x_values, orders['revenue'])\n",
    "plt.title('График стоимостей заказов')\n",
    "plt.xlabel('Количество пользователей')\n",
    "plt.ylabel('Стоимость');"
   ]
  },
  {
   "cell_type": "markdown",
   "metadata": {},
   "source": [
    "У нас 2 явных аномальных по заказа, которые сильно отличаются от большинства  \n",
    "Остальные идут очень ровно"
   ]
  },
  {
   "cell_type": "markdown",
   "metadata": {},
   "source": [
    "### Посчитаем 95-й и 99-й перцентили стоимости заказов"
   ]
  },
  {
   "cell_type": "code",
   "execution_count": 29,
   "metadata": {},
   "outputs": [
    {
     "data": {
      "text/plain": [
       "array([26785., 53904.])"
      ]
     },
     "execution_count": 29,
     "metadata": {},
     "output_type": "execute_result"
    }
   ],
   "source": [
    "percentile_revenue = np.percentile(orders['revenue'], [95, 99])\n",
    "percentile_revenue"
   ]
  },
  {
   "cell_type": "markdown",
   "metadata": {},
   "source": [
    "Не более 5% заказов дороже 26 785 рублей и не более 1% дороже 53 904 рублей  \n",
    "Оставим заказы, стоимостью менее 26 785 рублей"
   ]
  },
  {
   "cell_type": "markdown",
   "metadata": {},
   "source": [
    "**Подготовим данные для следующего исследования**"
   ]
  },
  {
   "cell_type": "code",
   "execution_count": 30,
   "metadata": {},
   "outputs": [
    {
     "data": {
      "text/html": [
       "<div>\n",
       "<style scoped>\n",
       "    .dataframe tbody tr th:only-of-type {\n",
       "        vertical-align: middle;\n",
       "    }\n",
       "\n",
       "    .dataframe tbody tr th {\n",
       "        vertical-align: top;\n",
       "    }\n",
       "\n",
       "    .dataframe thead th {\n",
       "        text-align: right;\n",
       "    }\n",
       "</style>\n",
       "<table border=\"1\" class=\"dataframe\">\n",
       "  <thead>\n",
       "    <tr style=\"text-align: right;\">\n",
       "      <th></th>\n",
       "      <th>date</th>\n",
       "      <th>orders_per_date_a</th>\n",
       "      <th>revenue_per_date_a</th>\n",
       "      <th>orders_per_date_b</th>\n",
       "      <th>revenue_per_date_b</th>\n",
       "      <th>orders_cumulative_a</th>\n",
       "      <th>revenue_cummulative_a</th>\n",
       "      <th>orders_cummulative_b</th>\n",
       "      <th>revenue_cummulative_b</th>\n",
       "      <th>visitors_per_date_a</th>\n",
       "      <th>visitors_per_date_b</th>\n",
       "      <th>visitors_cummulative_a</th>\n",
       "      <th>visitors_cummulative_b</th>\n",
       "    </tr>\n",
       "  </thead>\n",
       "  <tbody>\n",
       "    <tr>\n",
       "      <th>0</th>\n",
       "      <td>2019-08-01</td>\n",
       "      <td>23</td>\n",
       "      <td>142779</td>\n",
       "      <td>17</td>\n",
       "      <td>59758</td>\n",
       "      <td>23</td>\n",
       "      <td>142779</td>\n",
       "      <td>17</td>\n",
       "      <td>59758</td>\n",
       "      <td>719</td>\n",
       "      <td>713</td>\n",
       "      <td>719</td>\n",
       "      <td>713</td>\n",
       "    </tr>\n",
       "    <tr>\n",
       "      <th>1</th>\n",
       "      <td>2019-08-02</td>\n",
       "      <td>19</td>\n",
       "      <td>91602</td>\n",
       "      <td>23</td>\n",
       "      <td>162043</td>\n",
       "      <td>42</td>\n",
       "      <td>234381</td>\n",
       "      <td>40</td>\n",
       "      <td>221801</td>\n",
       "      <td>619</td>\n",
       "      <td>581</td>\n",
       "      <td>1338</td>\n",
       "      <td>1294</td>\n",
       "    </tr>\n",
       "    <tr>\n",
       "      <th>2</th>\n",
       "      <td>2019-08-03</td>\n",
       "      <td>24</td>\n",
       "      <td>112473</td>\n",
       "      <td>14</td>\n",
       "      <td>67049</td>\n",
       "      <td>66</td>\n",
       "      <td>346854</td>\n",
       "      <td>54</td>\n",
       "      <td>288850</td>\n",
       "      <td>507</td>\n",
       "      <td>509</td>\n",
       "      <td>1845</td>\n",
       "      <td>1803</td>\n",
       "    </tr>\n",
       "    <tr>\n",
       "      <th>3</th>\n",
       "      <td>2019-08-04</td>\n",
       "      <td>11</td>\n",
       "      <td>41176</td>\n",
       "      <td>14</td>\n",
       "      <td>96890</td>\n",
       "      <td>77</td>\n",
       "      <td>388030</td>\n",
       "      <td>68</td>\n",
       "      <td>385740</td>\n",
       "      <td>717</td>\n",
       "      <td>770</td>\n",
       "      <td>2562</td>\n",
       "      <td>2573</td>\n",
       "    </tr>\n",
       "    <tr>\n",
       "      <th>4</th>\n",
       "      <td>2019-08-05</td>\n",
       "      <td>22</td>\n",
       "      <td>86383</td>\n",
       "      <td>21</td>\n",
       "      <td>89908</td>\n",
       "      <td>99</td>\n",
       "      <td>474413</td>\n",
       "      <td>89</td>\n",
       "      <td>475648</td>\n",
       "      <td>756</td>\n",
       "      <td>707</td>\n",
       "      <td>3318</td>\n",
       "      <td>3280</td>\n",
       "    </tr>\n",
       "  </tbody>\n",
       "</table>\n",
       "</div>"
      ],
      "text/plain": [
       "        date  orders_per_date_a  revenue_per_date_a  orders_per_date_b  \\\n",
       "0 2019-08-01                 23              142779                 17   \n",
       "1 2019-08-02                 19               91602                 23   \n",
       "2 2019-08-03                 24              112473                 14   \n",
       "3 2019-08-04                 11               41176                 14   \n",
       "4 2019-08-05                 22               86383                 21   \n",
       "\n",
       "   revenue_per_date_b  orders_cumulative_a  revenue_cummulative_a  \\\n",
       "0               59758                   23                 142779   \n",
       "1              162043                   42                 234381   \n",
       "2               67049                   66                 346854   \n",
       "3               96890                   77                 388030   \n",
       "4               89908                   99                 474413   \n",
       "\n",
       "   orders_cummulative_b  revenue_cummulative_b  visitors_per_date_a  \\\n",
       "0                    17                  59758                  719   \n",
       "1                    40                 221801                  619   \n",
       "2                    54                 288850                  507   \n",
       "3                    68                 385740                  717   \n",
       "4                    89                 475648                  756   \n",
       "\n",
       "   visitors_per_date_b  visitors_cummulative_a  visitors_cummulative_b  \n",
       "0                  713                     719                     713  \n",
       "1                  581                    1338                    1294  \n",
       "2                  509                    1845                    1803  \n",
       "3                  770                    2562                    2573  \n",
       "4                  707                    3318                    3280  "
      ]
     },
     "metadata": {},
     "output_type": "display_data"
    }
   ],
   "source": [
    "visitors_a_daily = visitors[visitors['group'] == 'A'][['date', 'visitors']]\n",
    "visitors_a_daily.columns = ['date', 'visitors_per_date_a']\n",
    "\n",
    "visitors_a_cummulative = visitors_a_daily.apply(\n",
    "    lambda x: visitors_a_daily[visitors_a_daily['date'] <= x['date']]\n",
    "    .agg({'date':'max', 'visitors_per_date_a':'sum'}), axis=1,\n",
    ")\n",
    "visitors_a_cummulative.columns = ['date', 'visitors_cummulative_a']\n",
    "\n",
    "\n",
    "visitors_b_daily = visitors[visitors['group'] =='B'][['date', 'visitors']]\n",
    "visitors_b_daily.columns = ['date', 'visitors_per_date_b']\n",
    "\n",
    "visitors_b_cummulative = visitors_b_daily.apply(\n",
    "    lambda x: visitors_b_daily[visitors_b_daily['date'] <= x['date']]\n",
    "    .agg({'date':'max', 'visitors_per_date_b':'sum'}), axis=1,\n",
    ")\n",
    "visitors_b_cummulative.columns = ['date', 'visitors_cummulative_b']\n",
    "\n",
    "orders_a_daily = (\n",
    "    orders[orders['group'] == 'A'][['date', 'transaction_id', 'visitor_id', 'revenue']]\n",
    "    .groupby('date', as_index=False)\n",
    "    .agg({'transaction_id':pd.Series.nunique, 'revenue':'sum'})\n",
    ")\n",
    "orders_a_daily.columns = ['date', 'orders_per_date_a', 'revenue_per_date_a']\n",
    "\n",
    "orders_a_cummulative = orders_a_daily.apply(\n",
    "    lambda x: orders_a_daily[orders_a_daily['date'] <= x['date']]\n",
    "    .agg({'date':'max', 'orders_per_date_a':'sum', 'revenue_per_date_a':'sum'}), axis=1,\n",
    ").sort_values(by=['date'])\n",
    "orders_a_cummulative.columns = ['date', 'orders_cumulative_a', 'revenue_cummulative_a']\n",
    "\n",
    "orders_b_daily = (\n",
    "    orders[orders['group'] == 'B'][['date', 'transaction_id', 'visitor_id', 'revenue']]\n",
    "    .groupby('date', as_index=False)\n",
    "    .agg({'transaction_id':pd.Series.nunique, 'revenue':'sum'})\n",
    ")\n",
    "orders_b_daily.columns = ['date', 'orders_per_date_b', 'revenue_per_date_b']\n",
    "\n",
    "orders_b_cummulative = orders_b_daily.apply(\n",
    "    lambda x: orders_b_daily[orders_b_daily['date'] <= x['date']]\n",
    "    .agg({'date':'max', 'orders_per_date_b':'sum', 'revenue_per_date_b':'sum'}), axis=1,\n",
    ").sort_values(by=['date'])\n",
    "orders_b_cummulative.columns = ['date', 'orders_cummulative_b', 'revenue_cummulative_b']\n",
    "\n",
    "df_final = (\n",
    "    orders_a_daily.merge(\n",
    "        orders_b_daily, left_on='date', right_on='date', how='left'\n",
    "    )\n",
    ".merge(orders_a_cummulative, left_on='date', right_on='date', how='left')\n",
    ".merge(orders_b_cummulative, left_on='date', right_on='date', how='left')\n",
    ".merge(visitors_a_daily, left_on='date', right_on='date', how='left')\n",
    ".merge(visitors_b_daily, left_on='date', right_on='date', how='left')\n",
    ".merge(visitors_a_cummulative, left_on='date', right_on='date', how='left')\n",
    ".merge(visitors_b_cummulative, left_on='date', right_on='date', how='left')\n",
    ")\n",
    "\n",
    "display(df_final.head())"
   ]
  },
  {
   "cell_type": "markdown",
   "metadata": {},
   "source": [
    "Подготовили датафрейм для дальнейшего исследования"
   ]
  },
  {
   "cell_type": "markdown",
   "metadata": {},
   "source": [
    "### Посчитаем статистическую значимость различий в конверсии между группами по «сырым» данным"
   ]
  },
  {
   "cell_type": "markdown",
   "metadata": {},
   "source": [
    "Сформулируем гипотезы. Нулевая: различий в конверсии между группами нет. Альтернативная: различия в конверсии между группами есть."
   ]
  },
  {
   "cell_type": "markdown",
   "metadata": {},
   "source": [
    "Создадим переменные ``orders_by_users_a`` и ``orders_by_users_b`` со столбцами ``['user_id', 'orders']``. В них для пользователей, которые заказывали хотя бы 1 раз, укажем число совершённых заказов"
   ]
  },
  {
   "cell_type": "code",
   "execution_count": 31,
   "metadata": {},
   "outputs": [],
   "source": [
    "orders_by_users_a = (\n",
    "    orders[orders['group'] == 'A']\n",
    "    .groupby('visitor_id', as_index=False)\n",
    "    .agg({'transaction_id':pd.Series.nunique})\n",
    ")\n",
    "orders_by_users_a.columns = ['user_id', 'orders']\n",
    "\n",
    "orders_by_users_b = (\n",
    "    orders[orders['group'] == 'B']\n",
    "    .groupby('visitor_id', as_index=False)\n",
    "    .agg({'transaction_id':pd.Series.nunique})\n",
    ")\n",
    "orders_by_users_b.columns = ['user_id', 'orders']"
   ]
  },
  {
   "cell_type": "markdown",
   "metadata": {},
   "source": [
    "Объявим переменные ``sample_a`` и ``sample_b``, в которых пользователям из разных групп будет соответствовать количество заказов. Тем, кто ничего не заказал, будут соответствовать нули. Это нужно, чтобы подготовить выборки к проверке критерием Манна-Уитни."
   ]
  },
  {
   "cell_type": "code",
   "execution_count": 32,
   "metadata": {},
   "outputs": [],
   "source": [
    "sample_a = pd.concat(\n",
    "    [orders_by_users_a['orders']\n",
    "    ,pd.Series(\n",
    "        0, index=np.arange(df_final['visitors_per_date_a'].sum() - \n",
    "                          len(orders_by_users_a['orders'])), name='orders'\n",
    "    )\n",
    "    ], axis=0\n",
    ")\n",
    "\n",
    "sample_b = pd.concat(\n",
    "    [\n",
    "        orders_by_users_b['orders']\n",
    "        , pd.Series(\n",
    "            0, index=np.arange(df_final['visitors_per_date_b'].sum() -\n",
    "                              len(orders_by_users_b['orders'])), name='orders'\n",
    "        )\n",
    "    ], axis=0\n",
    ")"
   ]
  },
  {
   "cell_type": "markdown",
   "metadata": {},
   "source": [
    "Выведем относительный прирост среднего числа заказов группы ``B``: среднее число заказов группы ``B`` / среднее число заказов группы ``A`` - 1. Округлим до трёх знаков после запятой."
   ]
  },
  {
   "cell_type": "code",
   "execution_count": 33,
   "metadata": {},
   "outputs": [
    {
     "name": "stdout",
     "output_type": "stream",
     "text": [
      "Статистическая значимость: 0.011\n",
      "Относительный прирост среднего числа заказов группы B: 0.160\n"
     ]
    }
   ],
   "source": [
    "print(\"Статистическая значимость: {0:.3f}\".format(stats.mannwhitneyu(sample_a, sample_b)[1]))\n",
    "print(\"Относительный прирост среднего числа заказов группы B: {0:.3f}\".format(sample_b.mean() / sample_a.mean() - 1))"
   ]
  },
  {
   "cell_type": "markdown",
   "metadata": {},
   "source": [
    "**Вывод**\n",
    "\n",
    "* По \"сырым\" данным различия в конверсии между группами ``A`` и ``B`` есть, так как p-value меньше 0.05\n",
    "* Группа ``B`` на 16% превышает группу ``A``"
   ]
  },
  {
   "cell_type": "markdown",
   "metadata": {},
   "source": [
    "### Посчитаем статистическую значимость различий в среднем чеке заказа между группами по «сырым» данным"
   ]
  },
  {
   "cell_type": "markdown",
   "metadata": {},
   "source": [
    "Сформулируем гипотезы. Нулевая гипотеза: различий в среднем чеке между группами нет. Альтернативная гипотеза: различия в среднем чеке между группами есть."
   ]
  },
  {
   "cell_type": "code",
   "execution_count": 34,
   "metadata": {},
   "outputs": [
    {
     "name": "stdout",
     "output_type": "stream",
     "text": [
      "Статистическая значимость: 0.829\n",
      "Относительный прирост среднего числа заказов группы B: 0.287\n"
     ]
    }
   ],
   "source": [
    "print(\"Статистическая значимость: {0:.3f}\".format(stats.mannwhitneyu(orders[orders['group'] == 'A']['revenue']\n",
    "                                          , orders[orders['group'] == 'B']['revenue'])[1]))\n",
    "print(\"Относительный прирост среднего числа заказов группы B: {0:.3f}\".format(orders[orders['group'] == 'B']['revenue'].mean() \n",
    "                       / orders[orders['group'] == 'A']['revenue'].mean() -1))"
   ]
  },
  {
   "cell_type": "markdown",
   "metadata": {},
   "source": [
    "**Вывод**\n",
    "\n",
    "* P-value значительно больше 0.05. Значит, причин отвергать нулевую гипотезу и считать, что в среднем чеке есть различия, нет\n",
    "\n",
    "* Средний чек группы ``B``выше среднего чека группы ``A`` на 28%"
   ]
  },
  {
   "cell_type": "markdown",
   "metadata": {},
   "source": [
    "### Посчитаем статистическую значимость различий в конверсии между группами по «очищенным» данным"
   ]
  },
  {
   "cell_type": "markdown",
   "metadata": {},
   "source": [
    "Примем за аномальных пользователей тех, кто совершил более 1 заказа или совершил заказ дороже 26 785 рублей. Таким образом мы уберем 5% пользователей с наибольшим числом заказов пользователей с дорогими заказами"
   ]
  },
  {
   "cell_type": "code",
   "execution_count": 35,
   "metadata": {},
   "outputs": [
    {
     "data": {
      "text/plain": [
       "568     113298937\n",
       "1099    148427295\n",
       "928     204675465\n",
       "33      249864742\n",
       "684     358944393\n",
       "dtype: int64"
      ]
     },
     "metadata": {},
     "output_type": "display_data"
    },
    {
     "data": {
      "text/plain": [
       "86"
      ]
     },
     "metadata": {},
     "output_type": "display_data"
    }
   ],
   "source": [
    "users_with_many_orders = pd.concat(\n",
    "    [\n",
    "        orders_by_users_a[orders_by_users_a['orders'] > percentile_orders[0]]['user_id'],\n",
    "        orders_by_users_b[orders_by_users_b['orders'] > percentile_orders[0]]['user_id'],\n",
    "    ],\n",
    "    axis=0,\n",
    ")\n",
    "users_with_expensive_orders = orders[orders['revenue'] > percentile_revenue[0]]['visitor_id']\n",
    "abnormal_users = (\n",
    "    pd.concat([users_with_many_orders, users_with_expensive_orders], axis=0)\n",
    "    .drop_duplicates()\n",
    "    .sort_values()\n",
    ")\n",
    "\n",
    "display(abnormal_users.head())\n",
    "display(abnormal_users.shape[0])"
   ]
  },
  {
   "cell_type": "markdown",
   "metadata": {},
   "source": [
    "Мы обнаружили всего 86 аномальных пользователей"
   ]
  },
  {
   "cell_type": "code",
   "execution_count": 36,
   "metadata": {},
   "outputs": [],
   "source": [
    "#Подготовим выборки количества заказов по пользователям по группам теста\n",
    "\n",
    "sample_a_filtered = pd.concat(\n",
    "    [\n",
    "        orders_by_users_a[\n",
    "            np.logical_not(orders_by_users_a['user_id'].isin(abnormal_users))\n",
    "        ]['orders'],\n",
    "        pd.Series(\n",
    "            0,\n",
    "            index=np.arange(\n",
    "                df_final['visitors_per_date_a'].sum() - len(orders_by_users_a['orders'])\n",
    "            ),\n",
    "            name='orders'\n",
    "        ),\n",
    "    ],\n",
    "    axis=0,\n",
    ")\n",
    "\n",
    "sample_b_filtered = pd.concat(\n",
    "    [\n",
    "        orders_by_users_b[\n",
    "            np.logical_not(orders_by_users_b['user_id'].isin(abnormal_users))\n",
    "        ]['orders'],\n",
    "        pd.Series(\n",
    "            0,\n",
    "            index=np.arange(\n",
    "                df_final['visitors_per_date_b'].sum() - len(orders_by_users_b['orders'])\n",
    "            ),\n",
    "            name='orders'\n",
    "        ),\n",
    "    ],\n",
    "    axis=0,\n",
    ")"
   ]
  },
  {
   "cell_type": "code",
   "execution_count": 37,
   "metadata": {},
   "outputs": [
    {
     "name": "stdout",
     "output_type": "stream",
     "text": [
      "0.016\n",
      "0.174\n"
     ]
    }
   ],
   "source": [
    "print(\"{0:.3f}\".format(stats.mannwhitneyu(sample_a_filtered, sample_b_filtered)[1]))\n",
    "print(\"{0:.3f}\".format(sample_b_filtered.mean() / sample_a_filtered.mean() - 1))"
   ]
  },
  {
   "cell_type": "markdown",
   "metadata": {},
   "source": [
    "Результаты по конверсии почти не изменились  \n",
    "Посмотрим, произошло что-нибудь с результатами по среднему чеку"
   ]
  },
  {
   "cell_type": "markdown",
   "metadata": {},
   "source": [
    "### Посчитаем статистическую значимость различий в среднем чеке заказа между группами по «очищенным» данным"
   ]
  },
  {
   "cell_type": "code",
   "execution_count": 38,
   "metadata": {},
   "outputs": [
    {
     "name": "stdout",
     "output_type": "stream",
     "text": [
      "0.727\n",
      "-0.034\n"
     ]
    }
   ],
   "source": [
    "print(\n",
    "    \"{0:.3f}\".format(\n",
    "        stats.mannwhitneyu(\n",
    "            orders[\n",
    "                np.logical_and(\n",
    "                    orders['group'] == 'A', \n",
    "                    np.logical_not(orders['visitor_id'].isin(abnormal_users)),\n",
    "                )\n",
    "            ]['revenue'],\n",
    "            orders[\n",
    "                np.logical_and(\n",
    "                    orders['group'] == 'B',\n",
    "                    np.logical_not(orders['visitor_id'].isin(abnormal_users)),\n",
    "                )\n",
    "            ]['revenue'],\n",
    "        )[1]\n",
    "    )\n",
    ")\n",
    "\n",
    "print(\n",
    "    \"{0:.3f}\".format(\n",
    "        orders[\n",
    "            np.logical_and(\n",
    "                orders['group'] == 'B',\n",
    "                np.logical_not(orders['visitor_id'].isin(abnormal_users)),\n",
    "            )\n",
    "        ]['revenue'].mean()\n",
    "        / orders[\n",
    "            np.logical_and(\n",
    "                orders['group'] == 'A',\n",
    "                np.logical_not(orders['visitor_id'].isin(abnormal_users)),\n",
    "            )\n",
    "        ]['revenue'].mean() -1\n",
    "    )\n",
    ")"
   ]
  },
  {
   "cell_type": "markdown",
   "metadata": {},
   "source": [
    "P-value уменьшился и группа ``B`` теперь ниже на 3%"
   ]
  },
  {
   "cell_type": "markdown",
   "metadata": {},
   "source": [
    "## Вывод"
   ]
  },
  {
   "cell_type": "markdown",
   "metadata": {},
   "source": [
    "Мы завершили анализ по A/B-тесту, теперь можно перейти к выводу и дальшейшему решению\n",
    "\n",
    "**Построив график кумулятивной выручки по групам мы выяснили:**  \n",
    "Первые 5 дней 2 группы шли примерно с одинаковой выручкой. Далее группа ``B`` начала показывать больше выручки, но 13 августа группа ``А`` догнала. С 17 августа был резкий скачок у группы ``B`` и дальше группа ``B`` лидировала  \n",
    "\n",
    "\n",
    "**Следующим графиком построили кумулятивный средий чек по группам:**  \n",
    "В самом начале теста у группы ``А`` был средний чек больше, дальше у группы ``B`` резко средний чек вырос, возможно попались круппные чеки    \n",
    "К середине теста у группы ``А`` стабилизировался средний чек и шел ровно, а вот группа ``B`` показала еще один резкий скачок вверх  \n",
    "\n",
    "**Построили график относительного изменения кумулятивного среднего чека группы B к группе A:**  \n",
    "В нескольких точках график различия между сегментами резко «скачет». Где-то уж точно спрятались крупные заказы и выбросы  \n",
    "\n",
    "**Построили график кумулятивной конверсии по группам:**  \n",
    "Вначале группа ``A`` лидидровала по конверсии, но далее группа ``B`` вышла вперед и дальше график шел ровно  \n",
    "\n",
    "**Построили график относительного изменения кумулятивной конверсии группы B к группе A:**  \n",
    "В начале теста группа ``B`` значительно проигрывала группе ``A``, затем вырвалась вперёд   \n",
    "\n",
    "**Построили точечный график количества заказов по пользователям:**  \n",
    "Выяснили, что максимальное количество заказов на одного пользователя - 3, а большая часть пользователей делает - 1 заказ  \n",
    "\n",
    "**Посчитали 95-й и 99-й перцентили количества заказов на пользователя:**  \n",
    "* Не более 1% пользователей оформляли больше чем 1 заказ  \n",
    "* Приняли решение оставить пользователей, которые делали 1 заказ  \n",
    "\n",
    "**Построили точечный график стоимостей заказов:**  \n",
    "У нас получилось 2 явных аномальных по заказа, которые сильно отличаются от большинства    \n",
    "\n",
    "**Посчитали 95-й и 99-й перцентили стоимости заказов:**  \n",
    "* Не более 5% заказов дороже 26 785 рублей и не более 1% дороже 53 904 рублей  \n",
    "* Оставили заказы, стоимостью менее 26 785 рублей  \n",
    "\n",
    "**Посчитали статистическую значимость различий в конверсии между группами по «сырым» данным**  \n",
    "Сформулировали гипотезы. Нулевая: различий в конверсии между группами нет. Альтернативная: различия в конверсии между группами есть.  \n",
    "* По \"сырым\" данным различия в конверсии между группами ``A`` и ``B`` есть, так как p-value меньше 0.05\n",
    "* Группа ``B`` на 16% превышает группу ``A``  \n",
    "\n",
    "**Посчитали статистическую значимость различий в среднем чеке заказа между группами по «сырым» данным**  \n",
    "Сформулировали гипотезы. Нулевая гипотеза: различий в среднем чеке между группами нет. Альтернативная гипотеза: различия в среднем чеке между группами есть.  \n",
    "* P-value значительно больше 0.05. Значит, причин отвергать нулевую гипотезу и считать, что в среднем чеке есть различия, нет\n",
    "\n",
    "* Средний чек группы ``B``выше среднего чека группы ``A`` на 28%  \n",
    "\n",
    "**Посчитали статистическую значимость различий в конверсии между группами по «очищенным» данным**  \n",
    "Результаты по конверсии почти не изменились  \n",
    "\n",
    "**Посчитали статистическую значимость различий в среднем чеке заказа между группами по «очищенным» данным**  \n",
    "P-value уменьшился и группа ``B`` теперь ниже на 3%"
   ]
  },
  {
   "cell_type": "markdown",
   "metadata": {},
   "source": [
    "**Решение по A/B- тесту:**\n",
    "\n",
    "* Есть статистически значимое различие по конверсии между группами по «сырым» и по данным после фильтрации аномалий\n",
    "\n",
    "* Нет статистически значимого различия по среднему чеку между группами ни по «сырым», ни по данным после фильтрации аномалий\n",
    "\n",
    "* График различия конверсии между группами сообщает, что результаты группы B лучше группы A\n",
    "\n",
    "\n",
    "A/B-тест можно завершать и зафиксировать победу группе ``B``, так как рост конверсии статистически не опровергли"
   ]
  }
 ],
 "metadata": {
  "ExecuteTimeLog": [
   {
    "duration": 906,
    "start_time": "2022-08-17T04:43:27.910Z"
   },
   {
    "duration": 74,
    "start_time": "2022-08-17T04:44:55.571Z"
   },
   {
    "duration": 96,
    "start_time": "2022-08-17T04:46:27.099Z"
   },
   {
    "duration": 3,
    "start_time": "2022-08-17T04:47:21.430Z"
   },
   {
    "duration": 8,
    "start_time": "2022-08-17T04:47:54.339Z"
   },
   {
    "duration": 10,
    "start_time": "2022-08-17T04:48:26.680Z"
   },
   {
    "duration": 812,
    "start_time": "2022-08-17T04:53:31.283Z"
   },
   {
    "duration": 5,
    "start_time": "2022-08-17T04:53:41.479Z"
   },
   {
    "duration": 6,
    "start_time": "2022-08-17T04:53:47.470Z"
   },
   {
    "duration": 10,
    "start_time": "2022-08-17T04:56:28.477Z"
   },
   {
    "duration": 9,
    "start_time": "2022-08-17T04:56:36.015Z"
   },
   {
    "duration": 9,
    "start_time": "2022-08-17T05:05:44.522Z"
   },
   {
    "duration": 758,
    "start_time": "2022-08-17T05:21:27.969Z"
   },
   {
    "duration": 40,
    "start_time": "2022-08-17T05:21:28.729Z"
   },
   {
    "duration": 5,
    "start_time": "2022-08-17T05:21:28.772Z"
   },
   {
    "duration": 15,
    "start_time": "2022-08-17T05:21:28.778Z"
   },
   {
    "duration": 13,
    "start_time": "2022-08-17T05:21:28.795Z"
   },
   {
    "duration": 7,
    "start_time": "2022-08-17T05:21:28.810Z"
   },
   {
    "duration": 152,
    "start_time": "2022-08-17T05:24:38.481Z"
   },
   {
    "duration": 67,
    "start_time": "2022-08-17T05:24:53.032Z"
   },
   {
    "duration": 73,
    "start_time": "2022-08-17T05:25:05.386Z"
   },
   {
    "duration": 12,
    "start_time": "2022-08-17T05:25:16.016Z"
   },
   {
    "duration": 10,
    "start_time": "2022-08-17T05:25:24.895Z"
   },
   {
    "duration": 825,
    "start_time": "2022-08-17T05:25:36.178Z"
   },
   {
    "duration": 37,
    "start_time": "2022-08-17T05:25:37.005Z"
   },
   {
    "duration": 2,
    "start_time": "2022-08-17T05:25:37.044Z"
   },
   {
    "duration": 25,
    "start_time": "2022-08-17T05:25:37.048Z"
   },
   {
    "duration": 22,
    "start_time": "2022-08-17T05:25:37.075Z"
   },
   {
    "duration": 10,
    "start_time": "2022-08-17T05:25:37.098Z"
   },
   {
    "duration": 99,
    "start_time": "2022-08-17T05:25:37.109Z"
   },
   {
    "duration": 19,
    "start_time": "2022-08-17T05:34:11.663Z"
   },
   {
    "duration": 13,
    "start_time": "2022-08-17T05:34:48.116Z"
   },
   {
    "duration": 13,
    "start_time": "2022-08-17T05:34:50.767Z"
   },
   {
    "duration": 3,
    "start_time": "2022-08-17T05:38:19.247Z"
   },
   {
    "duration": 13,
    "start_time": "2022-08-17T05:42:03.436Z"
   },
   {
    "duration": 513,
    "start_time": "2022-08-17T05:42:58.194Z"
   },
   {
    "duration": 6,
    "start_time": "2022-08-17T05:43:35.268Z"
   },
   {
    "duration": 16,
    "start_time": "2022-08-17T05:44:07.152Z"
   },
   {
    "duration": 11,
    "start_time": "2022-08-17T05:44:17.158Z"
   },
   {
    "duration": 858,
    "start_time": "2022-08-17T05:45:00.280Z"
   },
   {
    "duration": 39,
    "start_time": "2022-08-17T05:45:01.140Z"
   },
   {
    "duration": 23,
    "start_time": "2022-08-17T05:45:01.181Z"
   },
   {
    "duration": 40,
    "start_time": "2022-08-17T05:45:01.206Z"
   },
   {
    "duration": 38,
    "start_time": "2022-08-17T05:45:01.249Z"
   },
   {
    "duration": 21,
    "start_time": "2022-08-17T05:45:01.289Z"
   },
   {
    "duration": 113,
    "start_time": "2022-08-17T05:45:01.312Z"
   },
   {
    "duration": 16,
    "start_time": "2022-08-17T05:45:01.426Z"
   },
   {
    "duration": 75,
    "start_time": "2022-08-17T05:45:01.444Z"
   },
   {
    "duration": 54,
    "start_time": "2022-08-17T05:45:01.521Z"
   },
   {
    "duration": 36,
    "start_time": "2022-08-17T05:45:01.577Z"
   },
   {
    "duration": 31,
    "start_time": "2022-08-17T05:45:01.614Z"
   },
   {
    "duration": 28,
    "start_time": "2022-08-17T05:45:01.647Z"
   },
   {
    "duration": 841,
    "start_time": "2022-08-18T04:20:43.781Z"
   },
   {
    "duration": 75,
    "start_time": "2022-08-18T04:20:44.624Z"
   },
   {
    "duration": 3,
    "start_time": "2022-08-18T04:20:44.701Z"
   },
   {
    "duration": 16,
    "start_time": "2022-08-18T04:20:44.705Z"
   },
   {
    "duration": 14,
    "start_time": "2022-08-18T04:20:44.723Z"
   },
   {
    "duration": 11,
    "start_time": "2022-08-18T04:20:44.739Z"
   },
   {
    "duration": 144,
    "start_time": "2022-08-18T04:20:44.752Z"
   },
   {
    "duration": 12,
    "start_time": "2022-08-18T04:20:44.897Z"
   },
   {
    "duration": 13,
    "start_time": "2022-08-18T04:20:44.911Z"
   },
   {
    "duration": 6,
    "start_time": "2022-08-18T04:20:44.926Z"
   },
   {
    "duration": 8,
    "start_time": "2022-08-18T04:20:44.933Z"
   },
   {
    "duration": 13,
    "start_time": "2022-08-18T04:20:44.942Z"
   },
   {
    "duration": 12,
    "start_time": "2022-08-18T04:20:44.956Z"
   },
   {
    "duration": 155,
    "start_time": "2022-08-18T04:49:44.450Z"
   },
   {
    "duration": 232,
    "start_time": "2022-08-18T04:53:34.484Z"
   },
   {
    "duration": 244,
    "start_time": "2022-08-18T04:53:41.779Z"
   },
   {
    "duration": 8,
    "start_time": "2022-08-18T04:54:21.932Z"
   },
   {
    "duration": 8,
    "start_time": "2022-08-18T04:55:20.868Z"
   },
   {
    "duration": 6,
    "start_time": "2022-08-18T04:55:32.020Z"
   },
   {
    "duration": 6,
    "start_time": "2022-08-18T04:55:53.308Z"
   },
   {
    "duration": 11,
    "start_time": "2022-08-18T04:56:36.281Z"
   },
   {
    "duration": 6,
    "start_time": "2022-08-18T05:03:11.088Z"
   },
   {
    "duration": 8,
    "start_time": "2022-08-18T05:12:35.843Z"
   },
   {
    "duration": 10,
    "start_time": "2022-08-18T05:12:45.521Z"
   },
   {
    "duration": 9,
    "start_time": "2022-08-18T05:13:46.490Z"
   },
   {
    "duration": 9,
    "start_time": "2022-08-18T05:14:00.517Z"
   },
   {
    "duration": 285,
    "start_time": "2022-08-18T05:20:21.281Z"
   },
   {
    "duration": 10,
    "start_time": "2022-08-18T05:23:31.954Z"
   },
   {
    "duration": 1107,
    "start_time": "2022-08-18T05:24:13.930Z"
   },
   {
    "duration": 101,
    "start_time": "2022-08-18T05:24:15.039Z"
   },
   {
    "duration": 3,
    "start_time": "2022-08-18T05:24:15.141Z"
   },
   {
    "duration": 21,
    "start_time": "2022-08-18T05:24:15.146Z"
   },
   {
    "duration": 13,
    "start_time": "2022-08-18T05:24:15.169Z"
   },
   {
    "duration": 18,
    "start_time": "2022-08-18T05:24:15.183Z"
   },
   {
    "duration": 66,
    "start_time": "2022-08-18T05:24:15.202Z"
   },
   {
    "duration": 10,
    "start_time": "2022-08-18T05:24:15.270Z"
   },
   {
    "duration": 22,
    "start_time": "2022-08-18T05:24:15.282Z"
   },
   {
    "duration": 8,
    "start_time": "2022-08-18T05:24:15.305Z"
   },
   {
    "duration": 9,
    "start_time": "2022-08-18T05:24:15.315Z"
   },
   {
    "duration": 13,
    "start_time": "2022-08-18T05:24:15.325Z"
   },
   {
    "duration": 12,
    "start_time": "2022-08-18T05:24:15.340Z"
   },
   {
    "duration": 16,
    "start_time": "2022-08-18T05:24:15.355Z"
   },
   {
    "duration": 13,
    "start_time": "2022-08-18T05:24:15.373Z"
   },
   {
    "duration": 276,
    "start_time": "2022-08-18T05:24:15.400Z"
   },
   {
    "duration": 242,
    "start_time": "2022-08-18T05:32:49.585Z"
   },
   {
    "duration": 188,
    "start_time": "2022-08-18T05:33:05.619Z"
   },
   {
    "duration": 220,
    "start_time": "2022-08-18T05:33:30.464Z"
   },
   {
    "duration": 178,
    "start_time": "2022-08-18T05:33:46.777Z"
   },
   {
    "duration": 177,
    "start_time": "2022-08-18T05:33:53.295Z"
   },
   {
    "duration": 182,
    "start_time": "2022-08-18T05:34:00.799Z"
   },
   {
    "duration": 180,
    "start_time": "2022-08-18T05:34:12.183Z"
   },
   {
    "duration": 1045,
    "start_time": "2022-08-18T05:44:20.075Z"
   },
   {
    "duration": 94,
    "start_time": "2022-08-18T05:44:21.122Z"
   },
   {
    "duration": 3,
    "start_time": "2022-08-18T05:44:21.218Z"
   },
   {
    "duration": 15,
    "start_time": "2022-08-18T05:44:21.222Z"
   },
   {
    "duration": 12,
    "start_time": "2022-08-18T05:44:21.239Z"
   },
   {
    "duration": 9,
    "start_time": "2022-08-18T05:44:21.252Z"
   },
   {
    "duration": 72,
    "start_time": "2022-08-18T05:44:21.262Z"
   },
   {
    "duration": 10,
    "start_time": "2022-08-18T05:44:21.336Z"
   },
   {
    "duration": 12,
    "start_time": "2022-08-18T05:44:21.347Z"
   },
   {
    "duration": 4,
    "start_time": "2022-08-18T05:44:21.361Z"
   },
   {
    "duration": 10,
    "start_time": "2022-08-18T05:44:21.366Z"
   },
   {
    "duration": 36,
    "start_time": "2022-08-18T05:44:21.377Z"
   },
   {
    "duration": 34,
    "start_time": "2022-08-18T05:44:21.417Z"
   },
   {
    "duration": 19,
    "start_time": "2022-08-18T05:44:21.454Z"
   },
   {
    "duration": 26,
    "start_time": "2022-08-18T05:44:21.475Z"
   },
   {
    "duration": 362,
    "start_time": "2022-08-18T05:44:21.507Z"
   },
   {
    "duration": 283,
    "start_time": "2022-08-18T05:44:21.871Z"
   },
   {
    "duration": 1135,
    "start_time": "2022-08-19T04:19:59.429Z"
   },
   {
    "duration": 153,
    "start_time": "2022-08-19T04:20:00.566Z"
   },
   {
    "duration": 3,
    "start_time": "2022-08-19T04:20:00.720Z"
   },
   {
    "duration": 21,
    "start_time": "2022-08-19T04:20:00.725Z"
   },
   {
    "duration": 19,
    "start_time": "2022-08-19T04:20:00.748Z"
   },
   {
    "duration": 18,
    "start_time": "2022-08-19T04:20:00.769Z"
   },
   {
    "duration": 159,
    "start_time": "2022-08-19T04:20:00.788Z"
   },
   {
    "duration": 11,
    "start_time": "2022-08-19T04:20:00.950Z"
   },
   {
    "duration": 26,
    "start_time": "2022-08-19T04:20:00.963Z"
   },
   {
    "duration": 37,
    "start_time": "2022-08-19T04:20:00.991Z"
   },
   {
    "duration": 27,
    "start_time": "2022-08-19T04:20:01.030Z"
   },
   {
    "duration": 34,
    "start_time": "2022-08-19T04:20:01.058Z"
   },
   {
    "duration": 32,
    "start_time": "2022-08-19T04:20:01.094Z"
   },
   {
    "duration": 25,
    "start_time": "2022-08-19T04:20:01.129Z"
   },
   {
    "duration": 31,
    "start_time": "2022-08-19T04:20:01.156Z"
   },
   {
    "duration": 326,
    "start_time": "2022-08-19T04:20:01.189Z"
   },
   {
    "duration": 341,
    "start_time": "2022-08-19T04:20:01.518Z"
   },
   {
    "duration": 7,
    "start_time": "2022-08-19T04:24:33.319Z"
   },
   {
    "duration": 11,
    "start_time": "2022-08-19T04:24:44.331Z"
   },
   {
    "duration": 10,
    "start_time": "2022-08-19T04:25:33.091Z"
   },
   {
    "duration": 7,
    "start_time": "2022-08-19T04:28:22.671Z"
   },
   {
    "duration": 866,
    "start_time": "2022-08-19T04:30:48.258Z"
   },
   {
    "duration": 11,
    "start_time": "2022-08-19T04:30:58.815Z"
   },
   {
    "duration": 944,
    "start_time": "2022-08-19T04:31:11.440Z"
   },
   {
    "duration": 93,
    "start_time": "2022-08-19T04:31:12.385Z"
   },
   {
    "duration": 3,
    "start_time": "2022-08-19T04:31:12.479Z"
   },
   {
    "duration": 22,
    "start_time": "2022-08-19T04:31:12.485Z"
   },
   {
    "duration": 13,
    "start_time": "2022-08-19T04:31:12.509Z"
   },
   {
    "duration": 12,
    "start_time": "2022-08-19T04:31:12.523Z"
   },
   {
    "duration": 66,
    "start_time": "2022-08-19T04:31:12.537Z"
   },
   {
    "duration": 9,
    "start_time": "2022-08-19T04:31:12.605Z"
   },
   {
    "duration": 13,
    "start_time": "2022-08-19T04:31:12.616Z"
   },
   {
    "duration": 4,
    "start_time": "2022-08-19T04:31:12.631Z"
   },
   {
    "duration": 8,
    "start_time": "2022-08-19T04:31:12.637Z"
   },
   {
    "duration": 12,
    "start_time": "2022-08-19T04:31:12.646Z"
   },
   {
    "duration": 10,
    "start_time": "2022-08-19T04:31:12.660Z"
   },
   {
    "duration": 36,
    "start_time": "2022-08-19T04:31:12.671Z"
   },
   {
    "duration": 744,
    "start_time": "2022-08-19T04:31:12.709Z"
   },
   {
    "duration": 0,
    "start_time": "2022-08-19T04:31:13.454Z"
   },
   {
    "duration": 0,
    "start_time": "2022-08-19T04:31:13.456Z"
   },
   {
    "duration": 0,
    "start_time": "2022-08-19T04:31:13.457Z"
   },
   {
    "duration": 12,
    "start_time": "2022-08-19T04:31:41.042Z"
   },
   {
    "duration": 11,
    "start_time": "2022-08-19T04:31:47.718Z"
   },
   {
    "duration": 9,
    "start_time": "2022-08-19T04:32:16.536Z"
   },
   {
    "duration": 945,
    "start_time": "2022-08-19T04:32:22.246Z"
   },
   {
    "duration": 89,
    "start_time": "2022-08-19T04:32:23.193Z"
   },
   {
    "duration": 2,
    "start_time": "2022-08-19T04:32:23.284Z"
   },
   {
    "duration": 14,
    "start_time": "2022-08-19T04:32:23.288Z"
   },
   {
    "duration": 13,
    "start_time": "2022-08-19T04:32:23.303Z"
   },
   {
    "duration": 10,
    "start_time": "2022-08-19T04:32:23.317Z"
   },
   {
    "duration": 67,
    "start_time": "2022-08-19T04:32:23.328Z"
   },
   {
    "duration": 9,
    "start_time": "2022-08-19T04:32:23.397Z"
   },
   {
    "duration": 13,
    "start_time": "2022-08-19T04:32:23.407Z"
   },
   {
    "duration": 4,
    "start_time": "2022-08-19T04:32:23.422Z"
   },
   {
    "duration": 11,
    "start_time": "2022-08-19T04:32:23.427Z"
   },
   {
    "duration": 13,
    "start_time": "2022-08-19T04:32:23.439Z"
   },
   {
    "duration": 17,
    "start_time": "2022-08-19T04:32:23.453Z"
   },
   {
    "duration": 9,
    "start_time": "2022-08-19T04:32:23.471Z"
   },
   {
    "duration": 21,
    "start_time": "2022-08-19T04:32:23.482Z"
   },
   {
    "duration": 3,
    "start_time": "2022-08-19T04:32:23.505Z"
   },
   {
    "duration": 100,
    "start_time": "2022-08-19T04:32:23.510Z"
   },
   {
    "duration": 0,
    "start_time": "2022-08-19T04:32:23.612Z"
   },
   {
    "duration": 0,
    "start_time": "2022-08-19T04:32:23.613Z"
   },
   {
    "duration": 711,
    "start_time": "2022-08-19T04:33:31.160Z"
   },
   {
    "duration": 4,
    "start_time": "2022-08-19T04:33:56.771Z"
   },
   {
    "duration": 1034,
    "start_time": "2022-08-19T04:34:09.814Z"
   },
   {
    "duration": 97,
    "start_time": "2022-08-19T04:34:10.850Z"
   },
   {
    "duration": 3,
    "start_time": "2022-08-19T04:34:10.948Z"
   },
   {
    "duration": 21,
    "start_time": "2022-08-19T04:34:10.952Z"
   },
   {
    "duration": 15,
    "start_time": "2022-08-19T04:34:10.974Z"
   },
   {
    "duration": 18,
    "start_time": "2022-08-19T04:34:10.991Z"
   },
   {
    "duration": 77,
    "start_time": "2022-08-19T04:34:11.011Z"
   },
   {
    "duration": 9,
    "start_time": "2022-08-19T04:34:11.090Z"
   },
   {
    "duration": 25,
    "start_time": "2022-08-19T04:34:11.100Z"
   },
   {
    "duration": 4,
    "start_time": "2022-08-19T04:34:11.127Z"
   },
   {
    "duration": 8,
    "start_time": "2022-08-19T04:34:11.132Z"
   },
   {
    "duration": 13,
    "start_time": "2022-08-19T04:34:11.142Z"
   },
   {
    "duration": 14,
    "start_time": "2022-08-19T04:34:11.156Z"
   },
   {
    "duration": 13,
    "start_time": "2022-08-19T04:34:11.171Z"
   },
   {
    "duration": 16,
    "start_time": "2022-08-19T04:34:11.185Z"
   },
   {
    "duration": 12,
    "start_time": "2022-08-19T04:34:11.206Z"
   },
   {
    "duration": 105,
    "start_time": "2022-08-19T04:34:11.220Z"
   },
   {
    "duration": 0,
    "start_time": "2022-08-19T04:34:11.326Z"
   },
   {
    "duration": 0,
    "start_time": "2022-08-19T04:34:11.327Z"
   },
   {
    "duration": 4,
    "start_time": "2022-08-19T04:35:53.057Z"
   },
   {
    "duration": 931,
    "start_time": "2022-08-19T04:36:33.314Z"
   },
   {
    "duration": 959,
    "start_time": "2022-08-19T04:36:44.954Z"
   },
   {
    "duration": 95,
    "start_time": "2022-08-19T04:36:45.915Z"
   },
   {
    "duration": 3,
    "start_time": "2022-08-19T04:36:46.012Z"
   },
   {
    "duration": 22,
    "start_time": "2022-08-19T04:36:46.018Z"
   },
   {
    "duration": 22,
    "start_time": "2022-08-19T04:36:46.042Z"
   },
   {
    "duration": 13,
    "start_time": "2022-08-19T04:36:46.066Z"
   },
   {
    "duration": 96,
    "start_time": "2022-08-19T04:36:46.081Z"
   },
   {
    "duration": 9,
    "start_time": "2022-08-19T04:36:46.178Z"
   },
   {
    "duration": 49,
    "start_time": "2022-08-19T04:36:46.188Z"
   },
   {
    "duration": 24,
    "start_time": "2022-08-19T04:36:46.240Z"
   },
   {
    "duration": 16,
    "start_time": "2022-08-19T04:36:46.265Z"
   },
   {
    "duration": 24,
    "start_time": "2022-08-19T04:36:46.282Z"
   },
   {
    "duration": 30,
    "start_time": "2022-08-19T04:36:46.308Z"
   },
   {
    "duration": 24,
    "start_time": "2022-08-19T04:36:46.339Z"
   },
   {
    "duration": 20,
    "start_time": "2022-08-19T04:36:46.365Z"
   },
   {
    "duration": 31,
    "start_time": "2022-08-19T04:36:46.386Z"
   },
   {
    "duration": 111,
    "start_time": "2022-08-19T04:36:46.419Z"
   },
   {
    "duration": 0,
    "start_time": "2022-08-19T04:36:46.531Z"
   },
   {
    "duration": 0,
    "start_time": "2022-08-19T04:36:46.532Z"
   },
   {
    "duration": 20,
    "start_time": "2022-08-19T04:37:48.065Z"
   },
   {
    "duration": 935,
    "start_time": "2022-08-19T04:38:50.958Z"
   },
   {
    "duration": 1032,
    "start_time": "2022-08-19T04:39:01.136Z"
   },
   {
    "duration": 102,
    "start_time": "2022-08-19T04:39:02.170Z"
   },
   {
    "duration": 3,
    "start_time": "2022-08-19T04:39:02.273Z"
   },
   {
    "duration": 16,
    "start_time": "2022-08-19T04:39:02.278Z"
   },
   {
    "duration": 23,
    "start_time": "2022-08-19T04:39:02.300Z"
   },
   {
    "duration": 10,
    "start_time": "2022-08-19T04:39:02.324Z"
   },
   {
    "duration": 86,
    "start_time": "2022-08-19T04:39:02.336Z"
   },
   {
    "duration": 11,
    "start_time": "2022-08-19T04:39:02.423Z"
   },
   {
    "duration": 22,
    "start_time": "2022-08-19T04:39:02.436Z"
   },
   {
    "duration": 12,
    "start_time": "2022-08-19T04:39:02.460Z"
   },
   {
    "duration": 28,
    "start_time": "2022-08-19T04:39:02.474Z"
   },
   {
    "duration": 34,
    "start_time": "2022-08-19T04:39:02.504Z"
   },
   {
    "duration": 14,
    "start_time": "2022-08-19T04:39:02.540Z"
   },
   {
    "duration": 16,
    "start_time": "2022-08-19T04:39:02.556Z"
   },
   {
    "duration": 7,
    "start_time": "2022-08-19T04:39:02.573Z"
   },
   {
    "duration": 108,
    "start_time": "2022-08-19T04:39:02.582Z"
   },
   {
    "duration": 0,
    "start_time": "2022-08-19T04:39:02.692Z"
   },
   {
    "duration": 0,
    "start_time": "2022-08-19T04:39:02.693Z"
   },
   {
    "duration": 0,
    "start_time": "2022-08-19T04:39:02.694Z"
   },
   {
    "duration": 836,
    "start_time": "2022-08-19T04:39:31.115Z"
   },
   {
    "duration": 968,
    "start_time": "2022-08-19T04:39:39.031Z"
   },
   {
    "duration": 106,
    "start_time": "2022-08-19T04:39:40.002Z"
   },
   {
    "duration": 3,
    "start_time": "2022-08-19T04:39:40.109Z"
   },
   {
    "duration": 20,
    "start_time": "2022-08-19T04:39:40.114Z"
   },
   {
    "duration": 31,
    "start_time": "2022-08-19T04:39:40.135Z"
   },
   {
    "duration": 12,
    "start_time": "2022-08-19T04:39:40.167Z"
   },
   {
    "duration": 78,
    "start_time": "2022-08-19T04:39:40.180Z"
   },
   {
    "duration": 15,
    "start_time": "2022-08-19T04:39:40.260Z"
   },
   {
    "duration": 13,
    "start_time": "2022-08-19T04:39:40.276Z"
   },
   {
    "duration": 4,
    "start_time": "2022-08-19T04:39:40.291Z"
   },
   {
    "duration": 19,
    "start_time": "2022-08-19T04:39:40.297Z"
   },
   {
    "duration": 12,
    "start_time": "2022-08-19T04:39:40.318Z"
   },
   {
    "duration": 17,
    "start_time": "2022-08-19T04:39:40.332Z"
   },
   {
    "duration": 13,
    "start_time": "2022-08-19T04:39:40.351Z"
   },
   {
    "duration": 6,
    "start_time": "2022-08-19T04:39:40.366Z"
   },
   {
    "duration": 99,
    "start_time": "2022-08-19T04:39:40.373Z"
   },
   {
    "duration": 0,
    "start_time": "2022-08-19T04:39:40.474Z"
   },
   {
    "duration": 0,
    "start_time": "2022-08-19T04:39:40.475Z"
   },
   {
    "duration": 0,
    "start_time": "2022-08-19T04:39:40.476Z"
   },
   {
    "duration": 8,
    "start_time": "2022-08-19T04:39:52.445Z"
   },
   {
    "duration": 1021,
    "start_time": "2022-08-19T04:39:59.616Z"
   },
   {
    "duration": 100,
    "start_time": "2022-08-19T04:40:00.639Z"
   },
   {
    "duration": 3,
    "start_time": "2022-08-19T04:40:00.741Z"
   },
   {
    "duration": 17,
    "start_time": "2022-08-19T04:40:00.745Z"
   },
   {
    "duration": 27,
    "start_time": "2022-08-19T04:40:00.765Z"
   },
   {
    "duration": 16,
    "start_time": "2022-08-19T04:40:00.793Z"
   },
   {
    "duration": 86,
    "start_time": "2022-08-19T04:40:00.811Z"
   },
   {
    "duration": 14,
    "start_time": "2022-08-19T04:40:00.899Z"
   },
   {
    "duration": 35,
    "start_time": "2022-08-19T04:40:00.915Z"
   },
   {
    "duration": 39,
    "start_time": "2022-08-19T04:40:00.952Z"
   },
   {
    "duration": 44,
    "start_time": "2022-08-19T04:40:00.993Z"
   },
   {
    "duration": 41,
    "start_time": "2022-08-19T04:40:01.039Z"
   },
   {
    "duration": 54,
    "start_time": "2022-08-19T04:40:01.083Z"
   },
   {
    "duration": 28,
    "start_time": "2022-08-19T04:40:01.140Z"
   },
   {
    "duration": 26,
    "start_time": "2022-08-19T04:40:01.170Z"
   },
   {
    "duration": 34,
    "start_time": "2022-08-19T04:40:01.198Z"
   },
   {
    "duration": 15,
    "start_time": "2022-08-19T04:40:01.234Z"
   },
   {
    "duration": 324,
    "start_time": "2022-08-19T04:40:01.250Z"
   },
   {
    "duration": 286,
    "start_time": "2022-08-19T04:40:01.576Z"
   },
   {
    "duration": 6,
    "start_time": "2022-08-19T04:40:19.017Z"
   },
   {
    "duration": 11,
    "start_time": "2022-08-19T04:41:13.637Z"
   },
   {
    "duration": 1043,
    "start_time": "2022-08-19T04:43:19.297Z"
   },
   {
    "duration": 99,
    "start_time": "2022-08-19T04:43:20.342Z"
   },
   {
    "duration": 3,
    "start_time": "2022-08-19T04:43:20.442Z"
   },
   {
    "duration": 13,
    "start_time": "2022-08-19T04:43:20.447Z"
   },
   {
    "duration": 12,
    "start_time": "2022-08-19T04:43:20.461Z"
   },
   {
    "duration": 9,
    "start_time": "2022-08-19T04:43:20.475Z"
   },
   {
    "duration": 68,
    "start_time": "2022-08-19T04:43:20.500Z"
   },
   {
    "duration": 9,
    "start_time": "2022-08-19T04:43:20.570Z"
   },
   {
    "duration": 11,
    "start_time": "2022-08-19T04:43:20.581Z"
   },
   {
    "duration": 6,
    "start_time": "2022-08-19T04:43:20.595Z"
   },
   {
    "duration": 23,
    "start_time": "2022-08-19T04:43:20.603Z"
   },
   {
    "duration": 12,
    "start_time": "2022-08-19T04:43:20.627Z"
   },
   {
    "duration": 13,
    "start_time": "2022-08-19T04:43:20.640Z"
   },
   {
    "duration": 13,
    "start_time": "2022-08-19T04:43:20.655Z"
   },
   {
    "duration": 12,
    "start_time": "2022-08-19T04:43:20.669Z"
   },
   {
    "duration": 10,
    "start_time": "2022-08-19T04:43:20.682Z"
   },
   {
    "duration": 12,
    "start_time": "2022-08-19T04:43:20.694Z"
   },
   {
    "duration": 291,
    "start_time": "2022-08-19T04:43:20.708Z"
   },
   {
    "duration": 264,
    "start_time": "2022-08-19T04:43:21.001Z"
   },
   {
    "duration": 958,
    "start_time": "2022-08-19T04:47:29.840Z"
   },
   {
    "duration": 96,
    "start_time": "2022-08-19T04:47:30.800Z"
   },
   {
    "duration": 2,
    "start_time": "2022-08-19T04:47:30.898Z"
   },
   {
    "duration": 23,
    "start_time": "2022-08-19T04:47:30.902Z"
   },
   {
    "duration": 24,
    "start_time": "2022-08-19T04:47:30.927Z"
   },
   {
    "duration": 9,
    "start_time": "2022-08-19T04:47:30.952Z"
   },
   {
    "duration": 68,
    "start_time": "2022-08-19T04:47:30.963Z"
   },
   {
    "duration": 10,
    "start_time": "2022-08-19T04:47:31.032Z"
   },
   {
    "duration": 31,
    "start_time": "2022-08-19T04:47:31.043Z"
   },
   {
    "duration": 32,
    "start_time": "2022-08-19T04:47:31.076Z"
   },
   {
    "duration": 43,
    "start_time": "2022-08-19T04:47:31.109Z"
   },
   {
    "duration": 38,
    "start_time": "2022-08-19T04:47:31.153Z"
   },
   {
    "duration": 31,
    "start_time": "2022-08-19T04:47:31.192Z"
   },
   {
    "duration": 24,
    "start_time": "2022-08-19T04:47:31.226Z"
   },
   {
    "duration": 21,
    "start_time": "2022-08-19T04:47:31.251Z"
   },
   {
    "duration": 19,
    "start_time": "2022-08-19T04:47:31.275Z"
   },
   {
    "duration": 27,
    "start_time": "2022-08-19T04:47:31.295Z"
   },
   {
    "duration": 305,
    "start_time": "2022-08-19T04:47:31.323Z"
   },
   {
    "duration": 251,
    "start_time": "2022-08-19T04:47:31.630Z"
   },
   {
    "duration": 188,
    "start_time": "2022-08-19T04:50:35.404Z"
   },
   {
    "duration": 84,
    "start_time": "2022-08-19T05:06:13.499Z"
   },
   {
    "duration": 162,
    "start_time": "2022-08-19T05:06:38.295Z"
   },
   {
    "duration": 192,
    "start_time": "2022-08-19T05:07:01.111Z"
   },
   {
    "duration": 983,
    "start_time": "2022-08-19T05:49:13.607Z"
   },
   {
    "duration": 112,
    "start_time": "2022-08-19T05:49:14.592Z"
   },
   {
    "duration": 4,
    "start_time": "2022-08-19T05:49:14.706Z"
   },
   {
    "duration": 19,
    "start_time": "2022-08-19T05:49:14.712Z"
   },
   {
    "duration": 15,
    "start_time": "2022-08-19T05:49:14.733Z"
   },
   {
    "duration": 11,
    "start_time": "2022-08-19T05:49:14.750Z"
   },
   {
    "duration": 76,
    "start_time": "2022-08-19T05:49:14.763Z"
   },
   {
    "duration": 13,
    "start_time": "2022-08-19T05:49:14.841Z"
   },
   {
    "duration": 13,
    "start_time": "2022-08-19T05:49:14.856Z"
   },
   {
    "duration": 8,
    "start_time": "2022-08-19T05:49:14.872Z"
   },
   {
    "duration": 8,
    "start_time": "2022-08-19T05:49:14.882Z"
   },
   {
    "duration": 13,
    "start_time": "2022-08-19T05:49:14.892Z"
   },
   {
    "duration": 13,
    "start_time": "2022-08-19T05:49:14.907Z"
   },
   {
    "duration": 13,
    "start_time": "2022-08-19T05:49:14.922Z"
   },
   {
    "duration": 7,
    "start_time": "2022-08-19T05:49:14.937Z"
   },
   {
    "duration": 5,
    "start_time": "2022-08-19T05:49:14.945Z"
   },
   {
    "duration": 13,
    "start_time": "2022-08-19T05:49:14.951Z"
   },
   {
    "duration": 286,
    "start_time": "2022-08-19T05:49:14.965Z"
   },
   {
    "duration": 279,
    "start_time": "2022-08-19T05:49:15.253Z"
   },
   {
    "duration": 204,
    "start_time": "2022-08-19T05:49:15.534Z"
   },
   {
    "duration": 1160,
    "start_time": "2022-08-20T04:44:38.472Z"
   },
   {
    "duration": 109,
    "start_time": "2022-08-20T04:44:39.634Z"
   },
   {
    "duration": 3,
    "start_time": "2022-08-20T04:44:39.744Z"
   },
   {
    "duration": 10,
    "start_time": "2022-08-20T04:44:39.749Z"
   },
   {
    "duration": 10,
    "start_time": "2022-08-20T04:44:39.761Z"
   },
   {
    "duration": 9,
    "start_time": "2022-08-20T04:44:39.773Z"
   },
   {
    "duration": 143,
    "start_time": "2022-08-20T04:44:39.783Z"
   },
   {
    "duration": 8,
    "start_time": "2022-08-20T04:44:39.928Z"
   },
   {
    "duration": 10,
    "start_time": "2022-08-20T04:44:39.938Z"
   },
   {
    "duration": 4,
    "start_time": "2022-08-20T04:44:39.950Z"
   },
   {
    "duration": 9,
    "start_time": "2022-08-20T04:44:39.955Z"
   },
   {
    "duration": 12,
    "start_time": "2022-08-20T04:44:39.965Z"
   },
   {
    "duration": 8,
    "start_time": "2022-08-20T04:44:39.978Z"
   },
   {
    "duration": 17,
    "start_time": "2022-08-20T04:44:39.987Z"
   },
   {
    "duration": 6,
    "start_time": "2022-08-20T04:44:40.006Z"
   },
   {
    "duration": 7,
    "start_time": "2022-08-20T04:44:40.013Z"
   },
   {
    "duration": 10,
    "start_time": "2022-08-20T04:44:40.021Z"
   },
   {
    "duration": 290,
    "start_time": "2022-08-20T04:44:40.032Z"
   },
   {
    "duration": 260,
    "start_time": "2022-08-20T04:44:40.324Z"
   },
   {
    "duration": 181,
    "start_time": "2022-08-20T04:44:40.586Z"
   },
   {
    "duration": 303,
    "start_time": "2022-08-20T05:00:15.498Z"
   },
   {
    "duration": 235,
    "start_time": "2022-08-20T05:00:41.826Z"
   },
   {
    "duration": 231,
    "start_time": "2022-08-20T05:00:51.731Z"
   },
   {
    "duration": 11,
    "start_time": "2022-08-20T05:05:14.474Z"
   },
   {
    "duration": 95,
    "start_time": "2022-08-20T05:10:40.533Z"
   },
   {
    "duration": 1029,
    "start_time": "2022-08-20T05:11:17.665Z"
   },
   {
    "duration": 73,
    "start_time": "2022-08-20T05:11:18.695Z"
   },
   {
    "duration": 3,
    "start_time": "2022-08-20T05:11:18.770Z"
   },
   {
    "duration": 12,
    "start_time": "2022-08-20T05:11:18.776Z"
   },
   {
    "duration": 12,
    "start_time": "2022-08-20T05:11:18.790Z"
   },
   {
    "duration": 9,
    "start_time": "2022-08-20T05:11:18.803Z"
   },
   {
    "duration": 64,
    "start_time": "2022-08-20T05:11:18.814Z"
   },
   {
    "duration": 12,
    "start_time": "2022-08-20T05:11:18.879Z"
   },
   {
    "duration": 10,
    "start_time": "2022-08-20T05:11:18.893Z"
   },
   {
    "duration": 3,
    "start_time": "2022-08-20T05:11:18.906Z"
   },
   {
    "duration": 9,
    "start_time": "2022-08-20T05:11:18.911Z"
   },
   {
    "duration": 11,
    "start_time": "2022-08-20T05:11:18.922Z"
   },
   {
    "duration": 13,
    "start_time": "2022-08-20T05:11:18.935Z"
   },
   {
    "duration": 12,
    "start_time": "2022-08-20T05:11:18.949Z"
   },
   {
    "duration": 6,
    "start_time": "2022-08-20T05:11:18.963Z"
   },
   {
    "duration": 3,
    "start_time": "2022-08-20T05:11:18.971Z"
   },
   {
    "duration": 6,
    "start_time": "2022-08-20T05:11:18.998Z"
   },
   {
    "duration": 278,
    "start_time": "2022-08-20T05:11:19.006Z"
   },
   {
    "duration": 271,
    "start_time": "2022-08-20T05:11:19.286Z"
   },
   {
    "duration": 193,
    "start_time": "2022-08-20T05:11:19.559Z"
   },
   {
    "duration": 261,
    "start_time": "2022-08-20T05:11:19.753Z"
   },
   {
    "duration": 108,
    "start_time": "2022-08-20T05:11:20.015Z"
   },
   {
    "duration": 0,
    "start_time": "2022-08-20T05:11:20.125Z"
   },
   {
    "duration": 171,
    "start_time": "2022-08-20T05:12:21.150Z"
   },
   {
    "duration": 179,
    "start_time": "2022-08-20T05:13:17.942Z"
   },
   {
    "duration": 192,
    "start_time": "2022-08-20T05:15:14.230Z"
   },
   {
    "duration": 193,
    "start_time": "2022-08-20T05:17:22.096Z"
   },
   {
    "duration": 172,
    "start_time": "2022-08-20T05:17:41.772Z"
   },
   {
    "duration": 285,
    "start_time": "2022-08-20T05:29:40.395Z"
   },
   {
    "duration": 313,
    "start_time": "2022-08-20T05:30:04.691Z"
   },
   {
    "duration": 275,
    "start_time": "2022-08-20T05:33:20.208Z"
   },
   {
    "duration": 7,
    "start_time": "2022-08-20T05:45:00.542Z"
   },
   {
    "duration": 287,
    "start_time": "2022-08-20T05:48:13.957Z"
   },
   {
    "duration": 8,
    "start_time": "2022-08-20T05:48:58.489Z"
   },
   {
    "duration": 9,
    "start_time": "2022-08-20T05:49:25.674Z"
   },
   {
    "duration": 8,
    "start_time": "2022-08-20T05:50:38.563Z"
   },
   {
    "duration": 9,
    "start_time": "2022-08-20T06:02:06.186Z"
   },
   {
    "duration": 107,
    "start_time": "2022-08-20T06:02:23.935Z"
   },
   {
    "duration": 107,
    "start_time": "2022-08-20T06:03:21.085Z"
   },
   {
    "duration": 12,
    "start_time": "2022-08-20T06:04:14.443Z"
   },
   {
    "duration": 116,
    "start_time": "2022-08-20T06:05:05.255Z"
   },
   {
    "duration": 5,
    "start_time": "2022-08-20T06:08:32.563Z"
   },
   {
    "duration": 5,
    "start_time": "2022-08-20T06:09:53.280Z"
   },
   {
    "duration": 5,
    "start_time": "2022-08-20T06:09:59.520Z"
   },
   {
    "duration": 984,
    "start_time": "2022-08-20T06:17:03.634Z"
   },
   {
    "duration": 71,
    "start_time": "2022-08-20T06:17:04.619Z"
   },
   {
    "duration": 2,
    "start_time": "2022-08-20T06:17:04.691Z"
   },
   {
    "duration": 12,
    "start_time": "2022-08-20T06:17:04.695Z"
   },
   {
    "duration": 13,
    "start_time": "2022-08-20T06:17:04.708Z"
   },
   {
    "duration": 9,
    "start_time": "2022-08-20T06:17:04.722Z"
   },
   {
    "duration": 64,
    "start_time": "2022-08-20T06:17:04.733Z"
   },
   {
    "duration": 9,
    "start_time": "2022-08-20T06:17:04.798Z"
   },
   {
    "duration": 10,
    "start_time": "2022-08-20T06:17:04.808Z"
   },
   {
    "duration": 3,
    "start_time": "2022-08-20T06:17:04.821Z"
   },
   {
    "duration": 10,
    "start_time": "2022-08-20T06:17:04.826Z"
   },
   {
    "duration": 11,
    "start_time": "2022-08-20T06:17:04.837Z"
   },
   {
    "duration": 15,
    "start_time": "2022-08-20T06:17:04.849Z"
   },
   {
    "duration": 16,
    "start_time": "2022-08-20T06:17:04.865Z"
   },
   {
    "duration": 8,
    "start_time": "2022-08-20T06:17:04.899Z"
   },
   {
    "duration": 5,
    "start_time": "2022-08-20T06:17:04.908Z"
   },
   {
    "duration": 7,
    "start_time": "2022-08-20T06:17:04.914Z"
   },
   {
    "duration": 267,
    "start_time": "2022-08-20T06:17:04.923Z"
   },
   {
    "duration": 263,
    "start_time": "2022-08-20T06:17:05.192Z"
   },
   {
    "duration": 169,
    "start_time": "2022-08-20T06:17:05.456Z"
   },
   {
    "duration": 260,
    "start_time": "2022-08-20T06:17:05.627Z"
   },
   {
    "duration": 177,
    "start_time": "2022-08-20T06:17:05.898Z"
   },
   {
    "duration": 297,
    "start_time": "2022-08-20T06:17:06.076Z"
   },
   {
    "duration": 10,
    "start_time": "2022-08-20T06:17:06.374Z"
   },
   {
    "duration": 133,
    "start_time": "2022-08-20T06:17:06.398Z"
   },
   {
    "duration": 5,
    "start_time": "2022-08-20T06:17:06.533Z"
   },
   {
    "duration": 938,
    "start_time": "2022-08-20T06:20:31.348Z"
   },
   {
    "duration": 76,
    "start_time": "2022-08-20T06:20:32.288Z"
   },
   {
    "duration": 2,
    "start_time": "2022-08-20T06:20:32.365Z"
   },
   {
    "duration": 12,
    "start_time": "2022-08-20T06:20:32.369Z"
   },
   {
    "duration": 10,
    "start_time": "2022-08-20T06:20:32.383Z"
   },
   {
    "duration": 9,
    "start_time": "2022-08-20T06:20:32.394Z"
   },
   {
    "duration": 62,
    "start_time": "2022-08-20T06:20:32.404Z"
   },
   {
    "duration": 9,
    "start_time": "2022-08-20T06:20:32.468Z"
   },
   {
    "duration": 10,
    "start_time": "2022-08-20T06:20:32.478Z"
   },
   {
    "duration": 5,
    "start_time": "2022-08-20T06:20:32.490Z"
   },
   {
    "duration": 10,
    "start_time": "2022-08-20T06:20:32.496Z"
   },
   {
    "duration": 17,
    "start_time": "2022-08-20T06:20:32.508Z"
   },
   {
    "duration": 10,
    "start_time": "2022-08-20T06:20:32.526Z"
   },
   {
    "duration": 9,
    "start_time": "2022-08-20T06:20:32.537Z"
   },
   {
    "duration": 6,
    "start_time": "2022-08-20T06:20:32.547Z"
   },
   {
    "duration": 6,
    "start_time": "2022-08-20T06:20:32.554Z"
   },
   {
    "duration": 14,
    "start_time": "2022-08-20T06:20:32.561Z"
   },
   {
    "duration": 249,
    "start_time": "2022-08-20T06:20:32.576Z"
   },
   {
    "duration": 249,
    "start_time": "2022-08-20T06:20:32.826Z"
   },
   {
    "duration": 179,
    "start_time": "2022-08-20T06:20:33.076Z"
   },
   {
    "duration": 247,
    "start_time": "2022-08-20T06:20:33.257Z"
   },
   {
    "duration": 173,
    "start_time": "2022-08-20T06:20:33.505Z"
   },
   {
    "duration": 308,
    "start_time": "2022-08-20T06:20:33.680Z"
   },
   {
    "duration": 15,
    "start_time": "2022-08-20T06:20:33.989Z"
   },
   {
    "duration": 131,
    "start_time": "2022-08-20T06:20:34.005Z"
   },
   {
    "duration": 4,
    "start_time": "2022-08-20T06:20:34.137Z"
   },
   {
    "duration": 5,
    "start_time": "2022-08-20T06:20:34.142Z"
   },
   {
    "duration": 44,
    "start_time": "2022-08-21T04:21:23.860Z"
   },
   {
    "duration": 1146,
    "start_time": "2022-08-21T04:21:35.704Z"
   },
   {
    "duration": 125,
    "start_time": "2022-08-21T04:21:36.852Z"
   },
   {
    "duration": 3,
    "start_time": "2022-08-21T04:21:36.979Z"
   },
   {
    "duration": 13,
    "start_time": "2022-08-21T04:21:36.984Z"
   },
   {
    "duration": 12,
    "start_time": "2022-08-21T04:21:36.998Z"
   },
   {
    "duration": 10,
    "start_time": "2022-08-21T04:21:37.012Z"
   },
   {
    "duration": 146,
    "start_time": "2022-08-21T04:21:37.023Z"
   },
   {
    "duration": 9,
    "start_time": "2022-08-21T04:21:37.171Z"
   },
   {
    "duration": 12,
    "start_time": "2022-08-21T04:21:37.181Z"
   },
   {
    "duration": 4,
    "start_time": "2022-08-21T04:21:37.195Z"
   },
   {
    "duration": 8,
    "start_time": "2022-08-21T04:21:37.201Z"
   },
   {
    "duration": 11,
    "start_time": "2022-08-21T04:21:37.210Z"
   },
   {
    "duration": 13,
    "start_time": "2022-08-21T04:21:37.222Z"
   },
   {
    "duration": 15,
    "start_time": "2022-08-21T04:21:37.236Z"
   },
   {
    "duration": 6,
    "start_time": "2022-08-21T04:21:37.252Z"
   },
   {
    "duration": 7,
    "start_time": "2022-08-21T04:21:37.260Z"
   },
   {
    "duration": 19,
    "start_time": "2022-08-21T04:21:37.269Z"
   },
   {
    "duration": 6,
    "start_time": "2022-08-21T04:21:48.114Z"
   },
   {
    "duration": 12,
    "start_time": "2022-08-21T04:21:49.111Z"
   },
   {
    "duration": 13,
    "start_time": "2022-08-21T04:22:33.746Z"
   },
   {
    "duration": 6,
    "start_time": "2022-08-21T04:23:14.442Z"
   },
   {
    "duration": 983,
    "start_time": "2022-08-21T04:23:31.199Z"
   },
   {
    "duration": 83,
    "start_time": "2022-08-21T04:23:32.183Z"
   },
   {
    "duration": 2,
    "start_time": "2022-08-21T04:23:32.268Z"
   },
   {
    "duration": 23,
    "start_time": "2022-08-21T04:23:32.272Z"
   },
   {
    "duration": 15,
    "start_time": "2022-08-21T04:23:32.297Z"
   },
   {
    "duration": 10,
    "start_time": "2022-08-21T04:23:32.314Z"
   },
   {
    "duration": 67,
    "start_time": "2022-08-21T04:23:32.326Z"
   },
   {
    "duration": 11,
    "start_time": "2022-08-21T04:23:32.395Z"
   },
   {
    "duration": 15,
    "start_time": "2022-08-21T04:23:32.407Z"
   },
   {
    "duration": 6,
    "start_time": "2022-08-21T04:23:32.424Z"
   },
   {
    "duration": 13,
    "start_time": "2022-08-21T04:23:32.431Z"
   },
   {
    "duration": 12,
    "start_time": "2022-08-21T04:23:32.445Z"
   },
   {
    "duration": 10,
    "start_time": "2022-08-21T04:23:32.459Z"
   },
   {
    "duration": 23,
    "start_time": "2022-08-21T04:23:32.470Z"
   },
   {
    "duration": 7,
    "start_time": "2022-08-21T04:23:32.495Z"
   },
   {
    "duration": 6,
    "start_time": "2022-08-21T04:23:32.504Z"
   },
   {
    "duration": 9,
    "start_time": "2022-08-21T04:23:32.511Z"
   },
   {
    "duration": 267,
    "start_time": "2022-08-21T04:23:32.522Z"
   },
   {
    "duration": 249,
    "start_time": "2022-08-21T04:23:32.790Z"
   },
   {
    "duration": 180,
    "start_time": "2022-08-21T04:23:33.040Z"
   },
   {
    "duration": 244,
    "start_time": "2022-08-21T04:23:33.222Z"
   },
   {
    "duration": 185,
    "start_time": "2022-08-21T04:23:33.468Z"
   },
   {
    "duration": 339,
    "start_time": "2022-08-21T04:23:33.654Z"
   },
   {
    "duration": 11,
    "start_time": "2022-08-21T04:23:33.995Z"
   },
   {
    "duration": 156,
    "start_time": "2022-08-21T04:23:34.008Z"
   },
   {
    "duration": 5,
    "start_time": "2022-08-21T04:23:34.166Z"
   },
   {
    "duration": 15,
    "start_time": "2022-08-21T04:23:34.172Z"
   },
   {
    "duration": 95,
    "start_time": "2022-08-21T04:33:00.778Z"
   },
   {
    "duration": 131,
    "start_time": "2022-08-21T04:33:17.786Z"
   },
   {
    "duration": 125,
    "start_time": "2022-08-21T04:33:43.882Z"
   },
   {
    "duration": 9,
    "start_time": "2022-08-21T04:34:29.841Z"
   },
   {
    "duration": 118,
    "start_time": "2022-08-21T04:34:34.248Z"
   },
   {
    "duration": 982,
    "start_time": "2022-08-21T04:37:29.192Z"
   },
   {
    "duration": 86,
    "start_time": "2022-08-21T04:37:30.175Z"
   },
   {
    "duration": 3,
    "start_time": "2022-08-21T04:37:30.262Z"
   },
   {
    "duration": 23,
    "start_time": "2022-08-21T04:37:30.267Z"
   },
   {
    "duration": 22,
    "start_time": "2022-08-21T04:37:30.292Z"
   },
   {
    "duration": 17,
    "start_time": "2022-08-21T04:37:30.315Z"
   },
   {
    "duration": 71,
    "start_time": "2022-08-21T04:37:30.333Z"
   },
   {
    "duration": 9,
    "start_time": "2022-08-21T04:37:30.405Z"
   },
   {
    "duration": 25,
    "start_time": "2022-08-21T04:37:30.416Z"
   },
   {
    "duration": 16,
    "start_time": "2022-08-21T04:37:30.443Z"
   },
   {
    "duration": 20,
    "start_time": "2022-08-21T04:37:30.461Z"
   },
   {
    "duration": 30,
    "start_time": "2022-08-21T04:37:30.483Z"
   },
   {
    "duration": 16,
    "start_time": "2022-08-21T04:37:30.515Z"
   },
   {
    "duration": 13,
    "start_time": "2022-08-21T04:37:30.533Z"
   },
   {
    "duration": 16,
    "start_time": "2022-08-21T04:37:30.548Z"
   },
   {
    "duration": 21,
    "start_time": "2022-08-21T04:37:30.565Z"
   },
   {
    "duration": 25,
    "start_time": "2022-08-21T04:37:30.588Z"
   },
   {
    "duration": 263,
    "start_time": "2022-08-21T04:37:30.614Z"
   },
   {
    "duration": 251,
    "start_time": "2022-08-21T04:37:30.879Z"
   },
   {
    "duration": 178,
    "start_time": "2022-08-21T04:37:31.132Z"
   },
   {
    "duration": 276,
    "start_time": "2022-08-21T04:37:31.312Z"
   },
   {
    "duration": 188,
    "start_time": "2022-08-21T04:37:31.590Z"
   },
   {
    "duration": 310,
    "start_time": "2022-08-21T04:37:31.779Z"
   },
   {
    "duration": 11,
    "start_time": "2022-08-21T04:37:32.090Z"
   },
   {
    "duration": 143,
    "start_time": "2022-08-21T04:37:32.102Z"
   },
   {
    "duration": 4,
    "start_time": "2022-08-21T04:37:32.247Z"
   },
   {
    "duration": 142,
    "start_time": "2022-08-21T04:37:32.253Z"
   },
   {
    "duration": 5,
    "start_time": "2022-08-21T04:38:38.823Z"
   },
   {
    "duration": 89,
    "start_time": "2022-08-21T04:44:03.578Z"
   },
   {
    "duration": 5,
    "start_time": "2022-08-21T04:45:59.383Z"
   },
   {
    "duration": 46,
    "start_time": "2022-08-21T04:51:14.734Z"
   },
   {
    "duration": 66,
    "start_time": "2022-08-21T05:29:16.983Z"
   },
   {
    "duration": 87,
    "start_time": "2022-08-21T05:29:30.656Z"
   },
   {
    "duration": 8,
    "start_time": "2022-08-21T05:31:27.063Z"
   },
   {
    "duration": 138,
    "start_time": "2022-08-21T05:49:05.244Z"
   },
   {
    "duration": 217,
    "start_time": "2022-08-21T06:09:29.613Z"
   },
   {
    "duration": 216,
    "start_time": "2022-08-21T06:10:22.663Z"
   },
   {
    "duration": 230,
    "start_time": "2022-08-21T06:10:36.484Z"
   },
   {
    "duration": 219,
    "start_time": "2022-08-21T06:10:39.630Z"
   },
   {
    "duration": 1052,
    "start_time": "2022-08-21T06:10:58.393Z"
   },
   {
    "duration": 83,
    "start_time": "2022-08-21T06:10:59.447Z"
   },
   {
    "duration": 3,
    "start_time": "2022-08-21T06:10:59.532Z"
   },
   {
    "duration": 15,
    "start_time": "2022-08-21T06:10:59.537Z"
   },
   {
    "duration": 14,
    "start_time": "2022-08-21T06:10:59.554Z"
   },
   {
    "duration": 23,
    "start_time": "2022-08-21T06:10:59.569Z"
   },
   {
    "duration": 65,
    "start_time": "2022-08-21T06:10:59.593Z"
   },
   {
    "duration": 11,
    "start_time": "2022-08-21T06:10:59.660Z"
   },
   {
    "duration": 12,
    "start_time": "2022-08-21T06:10:59.673Z"
   },
   {
    "duration": 10,
    "start_time": "2022-08-21T06:10:59.688Z"
   },
   {
    "duration": 10,
    "start_time": "2022-08-21T06:10:59.700Z"
   },
   {
    "duration": 19,
    "start_time": "2022-08-21T06:10:59.712Z"
   },
   {
    "duration": 13,
    "start_time": "2022-08-21T06:10:59.733Z"
   },
   {
    "duration": 14,
    "start_time": "2022-08-21T06:10:59.748Z"
   },
   {
    "duration": 26,
    "start_time": "2022-08-21T06:10:59.763Z"
   },
   {
    "duration": 4,
    "start_time": "2022-08-21T06:10:59.791Z"
   },
   {
    "duration": 12,
    "start_time": "2022-08-21T06:10:59.797Z"
   },
   {
    "duration": 313,
    "start_time": "2022-08-21T06:10:59.810Z"
   },
   {
    "duration": 262,
    "start_time": "2022-08-21T06:11:00.125Z"
   },
   {
    "duration": 193,
    "start_time": "2022-08-21T06:11:00.389Z"
   },
   {
    "duration": 282,
    "start_time": "2022-08-21T06:11:00.586Z"
   },
   {
    "duration": 216,
    "start_time": "2022-08-21T06:11:00.870Z"
   },
   {
    "duration": 327,
    "start_time": "2022-08-21T06:11:01.088Z"
   },
   {
    "duration": 12,
    "start_time": "2022-08-21T06:11:01.417Z"
   },
   {
    "duration": 165,
    "start_time": "2022-08-21T06:11:01.430Z"
   },
   {
    "duration": 5,
    "start_time": "2022-08-21T06:11:01.597Z"
   },
   {
    "duration": 180,
    "start_time": "2022-08-21T06:11:01.603Z"
   },
   {
    "duration": 6,
    "start_time": "2022-08-21T06:11:01.786Z"
   },
   {
    "duration": 242,
    "start_time": "2022-08-21T06:11:01.794Z"
   },
   {
    "duration": 7,
    "start_time": "2022-08-21T06:30:54.187Z"
   },
   {
    "duration": 57,
    "start_time": "2022-08-21T06:35:07.417Z"
   },
   {
    "duration": 110,
    "start_time": "2022-08-21T06:37:32.347Z"
   },
   {
    "duration": 4,
    "start_time": "2022-08-21T06:49:27.314Z"
   },
   {
    "duration": 4,
    "start_time": "2022-08-21T06:50:04.847Z"
   },
   {
    "duration": 5,
    "start_time": "2022-08-21T06:52:35.623Z"
   },
   {
    "duration": 4,
    "start_time": "2022-08-21T06:52:55.656Z"
   },
   {
    "duration": 93,
    "start_time": "2022-08-21T06:55:09.860Z"
   },
   {
    "duration": 6,
    "start_time": "2022-08-21T06:55:17.037Z"
   },
   {
    "duration": 21,
    "start_time": "2022-08-21T06:59:18.735Z"
   },
   {
    "duration": 1011,
    "start_time": "2022-08-21T07:07:12.868Z"
   },
   {
    "duration": 86,
    "start_time": "2022-08-21T07:07:13.881Z"
   },
   {
    "duration": 2,
    "start_time": "2022-08-21T07:07:13.969Z"
   },
   {
    "duration": 14,
    "start_time": "2022-08-21T07:07:13.973Z"
   },
   {
    "duration": 13,
    "start_time": "2022-08-21T07:07:13.989Z"
   },
   {
    "duration": 10,
    "start_time": "2022-08-21T07:07:14.003Z"
   },
   {
    "duration": 68,
    "start_time": "2022-08-21T07:07:14.015Z"
   },
   {
    "duration": 10,
    "start_time": "2022-08-21T07:07:14.085Z"
   },
   {
    "duration": 13,
    "start_time": "2022-08-21T07:07:14.096Z"
   },
   {
    "duration": 6,
    "start_time": "2022-08-21T07:07:14.111Z"
   },
   {
    "duration": 12,
    "start_time": "2022-08-21T07:07:14.119Z"
   },
   {
    "duration": 14,
    "start_time": "2022-08-21T07:07:14.133Z"
   },
   {
    "duration": 12,
    "start_time": "2022-08-21T07:07:14.148Z"
   },
   {
    "duration": 10,
    "start_time": "2022-08-21T07:07:14.162Z"
   },
   {
    "duration": 7,
    "start_time": "2022-08-21T07:07:14.187Z"
   },
   {
    "duration": 4,
    "start_time": "2022-08-21T07:07:14.195Z"
   },
   {
    "duration": 7,
    "start_time": "2022-08-21T07:07:14.201Z"
   },
   {
    "duration": 282,
    "start_time": "2022-08-21T07:07:14.210Z"
   },
   {
    "duration": 262,
    "start_time": "2022-08-21T07:07:14.493Z"
   },
   {
    "duration": 194,
    "start_time": "2022-08-21T07:07:14.757Z"
   },
   {
    "duration": 301,
    "start_time": "2022-08-21T07:07:14.953Z"
   },
   {
    "duration": 198,
    "start_time": "2022-08-21T07:07:15.256Z"
   },
   {
    "duration": 319,
    "start_time": "2022-08-21T07:07:15.457Z"
   },
   {
    "duration": 17,
    "start_time": "2022-08-21T07:07:15.778Z"
   },
   {
    "duration": 152,
    "start_time": "2022-08-21T07:07:15.797Z"
   },
   {
    "duration": 4,
    "start_time": "2022-08-21T07:07:15.951Z"
   },
   {
    "duration": 153,
    "start_time": "2022-08-21T07:07:15.956Z"
   },
   {
    "duration": 5,
    "start_time": "2022-08-21T07:07:16.112Z"
   },
   {
    "duration": 273,
    "start_time": "2022-08-21T07:07:16.118Z"
   },
   {
    "duration": 150,
    "start_time": "2022-08-21T07:07:16.393Z"
   },
   {
    "duration": 5,
    "start_time": "2022-08-21T07:07:16.545Z"
   },
   {
    "duration": 24,
    "start_time": "2022-08-21T07:07:16.552Z"
   },
   {
    "duration": 88,
    "start_time": "2022-08-21T07:21:41.033Z"
   },
   {
    "duration": 13,
    "start_time": "2022-08-21T07:21:52.082Z"
   },
   {
    "duration": 12,
    "start_time": "2022-08-21T07:22:09.159Z"
   },
   {
    "duration": 9,
    "start_time": "2022-08-21T07:24:39.979Z"
   },
   {
    "duration": 10,
    "start_time": "2022-08-21T07:24:43.892Z"
   },
   {
    "duration": 17,
    "start_time": "2022-08-21T07:45:14.082Z"
   },
   {
    "duration": 988,
    "start_time": "2022-08-21T07:45:50.786Z"
   },
   {
    "duration": 83,
    "start_time": "2022-08-21T07:45:51.776Z"
   },
   {
    "duration": 2,
    "start_time": "2022-08-21T07:45:51.861Z"
   },
   {
    "duration": 13,
    "start_time": "2022-08-21T07:45:51.864Z"
   },
   {
    "duration": 13,
    "start_time": "2022-08-21T07:45:51.879Z"
   },
   {
    "duration": 9,
    "start_time": "2022-08-21T07:45:51.893Z"
   },
   {
    "duration": 66,
    "start_time": "2022-08-21T07:45:51.904Z"
   },
   {
    "duration": 8,
    "start_time": "2022-08-21T07:45:51.972Z"
   },
   {
    "duration": 12,
    "start_time": "2022-08-21T07:45:51.981Z"
   },
   {
    "duration": 6,
    "start_time": "2022-08-21T07:45:51.995Z"
   },
   {
    "duration": 7,
    "start_time": "2022-08-21T07:45:52.002Z"
   },
   {
    "duration": 14,
    "start_time": "2022-08-21T07:45:52.010Z"
   },
   {
    "duration": 11,
    "start_time": "2022-08-21T07:45:52.026Z"
   },
   {
    "duration": 11,
    "start_time": "2022-08-21T07:45:52.040Z"
   },
   {
    "duration": 6,
    "start_time": "2022-08-21T07:45:52.052Z"
   },
   {
    "duration": 29,
    "start_time": "2022-08-21T07:45:52.059Z"
   },
   {
    "duration": 7,
    "start_time": "2022-08-21T07:45:52.089Z"
   },
   {
    "duration": 261,
    "start_time": "2022-08-21T07:45:52.098Z"
   },
   {
    "duration": 248,
    "start_time": "2022-08-21T07:45:52.360Z"
   },
   {
    "duration": 185,
    "start_time": "2022-08-21T07:45:52.610Z"
   },
   {
    "duration": 261,
    "start_time": "2022-08-21T07:45:52.797Z"
   },
   {
    "duration": 182,
    "start_time": "2022-08-21T07:45:53.060Z"
   },
   {
    "duration": 272,
    "start_time": "2022-08-21T07:45:53.244Z"
   },
   {
    "duration": 10,
    "start_time": "2022-08-21T07:45:53.518Z"
   },
   {
    "duration": 142,
    "start_time": "2022-08-21T07:45:53.530Z"
   },
   {
    "duration": 15,
    "start_time": "2022-08-21T07:45:53.674Z"
   },
   {
    "duration": 134,
    "start_time": "2022-08-21T07:45:53.690Z"
   },
   {
    "duration": 5,
    "start_time": "2022-08-21T07:45:53.826Z"
   },
   {
    "duration": 238,
    "start_time": "2022-08-21T07:45:53.833Z"
   },
   {
    "duration": 124,
    "start_time": "2022-08-21T07:45:54.072Z"
   },
   {
    "duration": 5,
    "start_time": "2022-08-21T07:45:54.198Z"
   },
   {
    "duration": 28,
    "start_time": "2022-08-21T07:45:54.205Z"
   },
   {
    "duration": 9,
    "start_time": "2022-08-21T07:45:54.234Z"
   },
   {
    "duration": 117,
    "start_time": "2022-08-21T07:45:54.245Z"
   },
   {
    "duration": 13,
    "start_time": "2022-08-21T07:46:08.720Z"
   },
   {
    "duration": 15,
    "start_time": "2022-08-21T07:46:31.391Z"
   },
   {
    "duration": 16,
    "start_time": "2022-08-21T07:47:26.048Z"
   },
   {
    "duration": 998,
    "start_time": "2022-08-21T07:49:17.146Z"
   },
   {
    "duration": 1001,
    "start_time": "2022-08-21T07:49:19.898Z"
   },
   {
    "duration": 8,
    "start_time": "2022-08-21T07:49:35.474Z"
   },
   {
    "duration": 13,
    "start_time": "2022-08-21T07:50:29.473Z"
   },
   {
    "duration": 13,
    "start_time": "2022-08-21T07:57:36.317Z"
   },
   {
    "duration": 5,
    "start_time": "2022-08-21T07:57:45.058Z"
   },
   {
    "duration": 813,
    "start_time": "2022-08-21T08:01:54.434Z"
   },
   {
    "duration": 977,
    "start_time": "2022-08-21T08:02:03.416Z"
   },
   {
    "duration": 7,
    "start_time": "2022-08-21T08:02:07.461Z"
   },
   {
    "duration": 1013,
    "start_time": "2022-08-21T08:38:36.369Z"
   },
   {
    "duration": 82,
    "start_time": "2022-08-21T08:38:37.383Z"
   },
   {
    "duration": 3,
    "start_time": "2022-08-21T08:38:37.467Z"
   },
   {
    "duration": 14,
    "start_time": "2022-08-21T08:38:37.471Z"
   },
   {
    "duration": 16,
    "start_time": "2022-08-21T08:38:37.487Z"
   },
   {
    "duration": 10,
    "start_time": "2022-08-21T08:38:37.504Z"
   },
   {
    "duration": 62,
    "start_time": "2022-08-21T08:38:37.515Z"
   },
   {
    "duration": 8,
    "start_time": "2022-08-21T08:38:37.579Z"
   },
   {
    "duration": 14,
    "start_time": "2022-08-21T08:38:37.589Z"
   },
   {
    "duration": 8,
    "start_time": "2022-08-21T08:38:37.604Z"
   },
   {
    "duration": 14,
    "start_time": "2022-08-21T08:38:37.614Z"
   },
   {
    "duration": 11,
    "start_time": "2022-08-21T08:38:37.630Z"
   },
   {
    "duration": 10,
    "start_time": "2022-08-21T08:38:37.642Z"
   },
   {
    "duration": 12,
    "start_time": "2022-08-21T08:38:37.654Z"
   },
   {
    "duration": 5,
    "start_time": "2022-08-21T08:38:37.668Z"
   },
   {
    "duration": 16,
    "start_time": "2022-08-21T08:38:37.674Z"
   },
   {
    "duration": 7,
    "start_time": "2022-08-21T08:38:37.692Z"
   },
   {
    "duration": 270,
    "start_time": "2022-08-21T08:38:37.700Z"
   },
   {
    "duration": 252,
    "start_time": "2022-08-21T08:38:37.972Z"
   },
   {
    "duration": 185,
    "start_time": "2022-08-21T08:38:38.226Z"
   },
   {
    "duration": 249,
    "start_time": "2022-08-21T08:38:38.412Z"
   },
   {
    "duration": 187,
    "start_time": "2022-08-21T08:38:38.663Z"
   },
   {
    "duration": 289,
    "start_time": "2022-08-21T08:38:38.851Z"
   },
   {
    "duration": 9,
    "start_time": "2022-08-21T08:38:39.141Z"
   },
   {
    "duration": 137,
    "start_time": "2022-08-21T08:38:39.152Z"
   },
   {
    "duration": 4,
    "start_time": "2022-08-21T08:38:39.290Z"
   },
   {
    "duration": 133,
    "start_time": "2022-08-21T08:38:39.296Z"
   },
   {
    "duration": 4,
    "start_time": "2022-08-21T08:38:39.431Z"
   },
   {
    "duration": 221,
    "start_time": "2022-08-21T08:38:39.437Z"
   },
   {
    "duration": 116,
    "start_time": "2022-08-21T08:38:39.660Z"
   },
   {
    "duration": 12,
    "start_time": "2022-08-21T08:38:39.778Z"
   },
   {
    "duration": 29,
    "start_time": "2022-08-21T08:38:39.792Z"
   },
   {
    "duration": 10,
    "start_time": "2022-08-21T08:38:39.823Z"
   },
   {
    "duration": 11,
    "start_time": "2022-08-21T08:38:39.834Z"
   },
   {
    "duration": 8,
    "start_time": "2022-08-21T08:38:39.847Z"
   },
   {
    "duration": 101,
    "start_time": "2022-08-21T08:41:18.131Z"
   },
   {
    "duration": 10,
    "start_time": "2022-08-21T08:41:40.329Z"
   },
   {
    "duration": 36,
    "start_time": "2022-08-21T08:41:57.180Z"
   },
   {
    "duration": 22,
    "start_time": "2022-08-21T08:42:07.020Z"
   },
   {
    "duration": 11,
    "start_time": "2022-08-21T08:50:10.418Z"
   },
   {
    "duration": 12,
    "start_time": "2022-08-21T08:54:33.234Z"
   },
   {
    "duration": 958,
    "start_time": "2022-08-21T09:31:01.826Z"
   },
   {
    "duration": 84,
    "start_time": "2022-08-21T09:31:02.786Z"
   },
   {
    "duration": 3,
    "start_time": "2022-08-21T09:31:02.872Z"
   },
   {
    "duration": 19,
    "start_time": "2022-08-21T09:31:02.877Z"
   },
   {
    "duration": 21,
    "start_time": "2022-08-21T09:31:02.898Z"
   },
   {
    "duration": 9,
    "start_time": "2022-08-21T09:31:02.920Z"
   },
   {
    "duration": 60,
    "start_time": "2022-08-21T09:31:02.931Z"
   },
   {
    "duration": 9,
    "start_time": "2022-08-21T09:31:02.993Z"
   },
   {
    "duration": 11,
    "start_time": "2022-08-21T09:31:03.004Z"
   },
   {
    "duration": 6,
    "start_time": "2022-08-21T09:31:03.017Z"
   },
   {
    "duration": 8,
    "start_time": "2022-08-21T09:31:03.025Z"
   },
   {
    "duration": 11,
    "start_time": "2022-08-21T09:31:03.034Z"
   },
   {
    "duration": 9,
    "start_time": "2022-08-21T09:31:03.046Z"
   },
   {
    "duration": 31,
    "start_time": "2022-08-21T09:31:03.056Z"
   },
   {
    "duration": 6,
    "start_time": "2022-08-21T09:31:03.088Z"
   },
   {
    "duration": 7,
    "start_time": "2022-08-21T09:31:03.096Z"
   },
   {
    "duration": 11,
    "start_time": "2022-08-21T09:31:03.104Z"
   },
   {
    "duration": 270,
    "start_time": "2022-08-21T09:31:03.116Z"
   },
   {
    "duration": 247,
    "start_time": "2022-08-21T09:31:03.388Z"
   },
   {
    "duration": 189,
    "start_time": "2022-08-21T09:31:03.637Z"
   },
   {
    "duration": 260,
    "start_time": "2022-08-21T09:31:03.828Z"
   },
   {
    "duration": 199,
    "start_time": "2022-08-21T09:31:04.090Z"
   },
   {
    "duration": 317,
    "start_time": "2022-08-21T09:31:04.290Z"
   },
   {
    "duration": 10,
    "start_time": "2022-08-21T09:31:04.609Z"
   },
   {
    "duration": 153,
    "start_time": "2022-08-21T09:31:04.621Z"
   },
   {
    "duration": 15,
    "start_time": "2022-08-21T09:31:04.776Z"
   },
   {
    "duration": 141,
    "start_time": "2022-08-21T09:31:04.793Z"
   },
   {
    "duration": 5,
    "start_time": "2022-08-21T09:31:04.937Z"
   },
   {
    "duration": 236,
    "start_time": "2022-08-21T09:31:04.944Z"
   },
   {
    "duration": 129,
    "start_time": "2022-08-21T09:31:05.187Z"
   },
   {
    "duration": 6,
    "start_time": "2022-08-21T09:31:05.317Z"
   },
   {
    "duration": 25,
    "start_time": "2022-08-21T09:31:05.325Z"
   },
   {
    "duration": 9,
    "start_time": "2022-08-21T09:31:05.351Z"
   },
   {
    "duration": 35,
    "start_time": "2022-08-21T09:31:05.361Z"
   },
   {
    "duration": 8,
    "start_time": "2022-08-21T09:31:05.397Z"
   },
   {
    "duration": 34,
    "start_time": "2022-08-21T09:31:05.406Z"
   },
   {
    "duration": 13,
    "start_time": "2022-08-21T09:31:05.442Z"
   },
   {
    "duration": 1002,
    "start_time": "2022-08-21T09:38:22.494Z"
   },
   {
    "duration": 85,
    "start_time": "2022-08-21T09:38:23.498Z"
   },
   {
    "duration": 3,
    "start_time": "2022-08-21T09:38:23.584Z"
   },
   {
    "duration": 13,
    "start_time": "2022-08-21T09:38:23.589Z"
   },
   {
    "duration": 12,
    "start_time": "2022-08-21T09:38:23.603Z"
   },
   {
    "duration": 10,
    "start_time": "2022-08-21T09:38:23.616Z"
   },
   {
    "duration": 66,
    "start_time": "2022-08-21T09:38:23.627Z"
   },
   {
    "duration": 9,
    "start_time": "2022-08-21T09:38:23.694Z"
   },
   {
    "duration": 11,
    "start_time": "2022-08-21T09:38:23.705Z"
   },
   {
    "duration": 3,
    "start_time": "2022-08-21T09:38:23.720Z"
   },
   {
    "duration": 9,
    "start_time": "2022-08-21T09:38:23.725Z"
   },
   {
    "duration": 12,
    "start_time": "2022-08-21T09:38:23.735Z"
   },
   {
    "duration": 9,
    "start_time": "2022-08-21T09:38:23.748Z"
   },
   {
    "duration": 37,
    "start_time": "2022-08-21T09:38:23.759Z"
   },
   {
    "duration": 7,
    "start_time": "2022-08-21T09:38:23.797Z"
   },
   {
    "duration": 6,
    "start_time": "2022-08-21T09:38:23.805Z"
   },
   {
    "duration": 7,
    "start_time": "2022-08-21T09:38:23.812Z"
   },
   {
    "duration": 302,
    "start_time": "2022-08-21T09:38:23.821Z"
   },
   {
    "duration": 256,
    "start_time": "2022-08-21T09:38:24.125Z"
   },
   {
    "duration": 193,
    "start_time": "2022-08-21T09:38:24.383Z"
   },
   {
    "duration": 279,
    "start_time": "2022-08-21T09:38:24.578Z"
   },
   {
    "duration": 186,
    "start_time": "2022-08-21T09:38:24.858Z"
   },
   {
    "duration": 276,
    "start_time": "2022-08-21T09:38:25.045Z"
   },
   {
    "duration": 10,
    "start_time": "2022-08-21T09:38:25.323Z"
   },
   {
    "duration": 144,
    "start_time": "2022-08-21T09:38:25.334Z"
   },
   {
    "duration": 10,
    "start_time": "2022-08-21T09:38:25.479Z"
   },
   {
    "duration": 127,
    "start_time": "2022-08-21T09:38:25.491Z"
   },
   {
    "duration": 4,
    "start_time": "2022-08-21T09:38:25.621Z"
   },
   {
    "duration": 226,
    "start_time": "2022-08-21T09:38:25.627Z"
   },
   {
    "duration": 117,
    "start_time": "2022-08-21T09:38:25.855Z"
   },
   {
    "duration": 13,
    "start_time": "2022-08-21T09:38:25.974Z"
   },
   {
    "duration": 29,
    "start_time": "2022-08-21T09:38:25.988Z"
   },
   {
    "duration": 11,
    "start_time": "2022-08-21T09:38:26.019Z"
   },
   {
    "duration": 12,
    "start_time": "2022-08-21T09:38:26.032Z"
   },
   {
    "duration": 8,
    "start_time": "2022-08-21T09:38:26.046Z"
   },
   {
    "duration": 52,
    "start_time": "2022-08-21T09:38:26.055Z"
   },
   {
    "duration": 12,
    "start_time": "2022-08-21T09:38:26.109Z"
   },
   {
    "duration": 2258,
    "start_time": "2022-08-22T06:16:38.156Z"
   },
   {
    "duration": 146,
    "start_time": "2022-08-22T06:16:40.416Z"
   },
   {
    "duration": 3,
    "start_time": "2022-08-22T06:16:40.564Z"
   },
   {
    "duration": 22,
    "start_time": "2022-08-22T06:16:40.568Z"
   },
   {
    "duration": 14,
    "start_time": "2022-08-22T06:16:40.593Z"
   },
   {
    "duration": 10,
    "start_time": "2022-08-22T06:16:40.609Z"
   },
   {
    "duration": 153,
    "start_time": "2022-08-22T06:16:40.621Z"
   },
   {
    "duration": 14,
    "start_time": "2022-08-22T06:16:40.776Z"
   },
   {
    "duration": 13,
    "start_time": "2022-08-22T06:16:40.792Z"
   },
   {
    "duration": 6,
    "start_time": "2022-08-22T06:16:40.806Z"
   },
   {
    "duration": 9,
    "start_time": "2022-08-22T06:16:40.813Z"
   },
   {
    "duration": 15,
    "start_time": "2022-08-22T06:16:40.823Z"
   },
   {
    "duration": 13,
    "start_time": "2022-08-22T06:16:40.839Z"
   },
   {
    "duration": 33,
    "start_time": "2022-08-22T06:16:40.855Z"
   },
   {
    "duration": 7,
    "start_time": "2022-08-22T06:16:40.890Z"
   },
   {
    "duration": 14,
    "start_time": "2022-08-22T06:16:40.899Z"
   },
   {
    "duration": 27,
    "start_time": "2022-08-22T06:16:40.915Z"
   },
   {
    "duration": 295,
    "start_time": "2022-08-22T06:16:40.944Z"
   },
   {
    "duration": 264,
    "start_time": "2022-08-22T06:16:41.241Z"
   },
   {
    "duration": 197,
    "start_time": "2022-08-22T06:16:41.506Z"
   },
   {
    "duration": 352,
    "start_time": "2022-08-22T06:16:41.704Z"
   },
   {
    "duration": 206,
    "start_time": "2022-08-22T06:16:42.057Z"
   },
   {
    "duration": 321,
    "start_time": "2022-08-22T06:16:42.266Z"
   },
   {
    "duration": 11,
    "start_time": "2022-08-22T06:16:42.588Z"
   },
   {
    "duration": 161,
    "start_time": "2022-08-22T06:16:42.601Z"
   },
   {
    "duration": 5,
    "start_time": "2022-08-22T06:16:42.764Z"
   },
   {
    "duration": 178,
    "start_time": "2022-08-22T06:16:42.771Z"
   },
   {
    "duration": 6,
    "start_time": "2022-08-22T06:16:42.952Z"
   },
   {
    "duration": 260,
    "start_time": "2022-08-22T06:16:42.960Z"
   },
   {
    "duration": 145,
    "start_time": "2022-08-22T06:16:43.222Z"
   },
   {
    "duration": 6,
    "start_time": "2022-08-22T06:16:43.368Z"
   },
   {
    "duration": 59,
    "start_time": "2022-08-22T06:16:43.375Z"
   },
   {
    "duration": 37,
    "start_time": "2022-08-22T06:16:43.435Z"
   },
   {
    "duration": 51,
    "start_time": "2022-08-22T06:16:43.473Z"
   },
   {
    "duration": 26,
    "start_time": "2022-08-22T06:16:43.526Z"
   },
   {
    "duration": 40,
    "start_time": "2022-08-22T06:16:43.554Z"
   },
   {
    "duration": 13,
    "start_time": "2022-08-22T06:16:43.596Z"
   },
   {
    "duration": 1067,
    "start_time": "2022-08-22T06:27:14.070Z"
   },
   {
    "duration": 88,
    "start_time": "2022-08-22T06:27:15.139Z"
   },
   {
    "duration": 2,
    "start_time": "2022-08-22T06:27:15.229Z"
   },
   {
    "duration": 26,
    "start_time": "2022-08-22T06:27:15.234Z"
   },
   {
    "duration": 39,
    "start_time": "2022-08-22T06:27:15.261Z"
   },
   {
    "duration": 27,
    "start_time": "2022-08-22T06:27:15.302Z"
   },
   {
    "duration": 84,
    "start_time": "2022-08-22T06:27:15.330Z"
   },
   {
    "duration": 10,
    "start_time": "2022-08-22T06:27:15.416Z"
   },
   {
    "duration": 39,
    "start_time": "2022-08-22T06:27:15.429Z"
   },
   {
    "duration": 16,
    "start_time": "2022-08-22T06:27:15.471Z"
   },
   {
    "duration": 24,
    "start_time": "2022-08-22T06:27:15.490Z"
   },
   {
    "duration": 24,
    "start_time": "2022-08-22T06:27:15.516Z"
   },
   {
    "duration": 15,
    "start_time": "2022-08-22T06:27:15.542Z"
   },
   {
    "duration": 13,
    "start_time": "2022-08-22T06:27:15.559Z"
   },
   {
    "duration": 12,
    "start_time": "2022-08-22T06:27:15.575Z"
   },
   {
    "duration": 3,
    "start_time": "2022-08-22T06:27:15.589Z"
   },
   {
    "duration": 8,
    "start_time": "2022-08-22T06:27:15.595Z"
   },
   {
    "duration": 323,
    "start_time": "2022-08-22T06:27:15.606Z"
   },
   {
    "duration": 307,
    "start_time": "2022-08-22T06:27:15.930Z"
   },
   {
    "duration": 251,
    "start_time": "2022-08-22T06:27:16.239Z"
   },
   {
    "duration": 301,
    "start_time": "2022-08-22T06:27:16.492Z"
   },
   {
    "duration": 216,
    "start_time": "2022-08-22T06:27:16.794Z"
   },
   {
    "duration": 294,
    "start_time": "2022-08-22T06:27:17.012Z"
   },
   {
    "duration": 11,
    "start_time": "2022-08-22T06:27:17.308Z"
   },
   {
    "duration": 169,
    "start_time": "2022-08-22T06:27:17.320Z"
   },
   {
    "duration": 6,
    "start_time": "2022-08-22T06:27:17.491Z"
   },
   {
    "duration": 178,
    "start_time": "2022-08-22T06:27:17.501Z"
   },
   {
    "duration": 6,
    "start_time": "2022-08-22T06:27:17.688Z"
   },
   {
    "duration": 243,
    "start_time": "2022-08-22T06:27:17.696Z"
   },
   {
    "duration": 174,
    "start_time": "2022-08-22T06:27:17.941Z"
   },
   {
    "duration": 9,
    "start_time": "2022-08-22T06:27:18.117Z"
   },
   {
    "duration": 38,
    "start_time": "2022-08-22T06:27:18.128Z"
   },
   {
    "duration": 23,
    "start_time": "2022-08-22T06:27:18.169Z"
   },
   {
    "duration": 13,
    "start_time": "2022-08-22T06:27:18.194Z"
   },
   {
    "duration": 10,
    "start_time": "2022-08-22T06:27:18.209Z"
   },
   {
    "duration": 27,
    "start_time": "2022-08-22T06:27:18.221Z"
   },
   {
    "duration": 41,
    "start_time": "2022-08-22T06:27:18.250Z"
   },
   {
    "duration": 42,
    "start_time": "2022-08-22T18:40:23.730Z"
   },
   {
    "duration": 1207,
    "start_time": "2022-08-22T18:40:32.198Z"
   },
   {
    "duration": 136,
    "start_time": "2022-08-22T18:40:33.407Z"
   },
   {
    "duration": 3,
    "start_time": "2022-08-22T18:40:33.544Z"
   },
   {
    "duration": 12,
    "start_time": "2022-08-22T18:40:33.548Z"
   },
   {
    "duration": 10,
    "start_time": "2022-08-22T18:40:33.562Z"
   },
   {
    "duration": 2,
    "start_time": "2022-08-22T18:40:33.573Z"
   },
   {
    "duration": 11,
    "start_time": "2022-08-22T18:40:33.576Z"
   },
   {
    "duration": 141,
    "start_time": "2022-08-22T18:40:33.588Z"
   },
   {
    "duration": 10,
    "start_time": "2022-08-22T18:40:33.730Z"
   },
   {
    "duration": 11,
    "start_time": "2022-08-22T18:40:33.741Z"
   },
   {
    "duration": 7,
    "start_time": "2022-08-22T18:40:33.753Z"
   },
   {
    "duration": 9,
    "start_time": "2022-08-22T18:40:33.761Z"
   },
   {
    "duration": 11,
    "start_time": "2022-08-22T18:40:33.771Z"
   },
   {
    "duration": 9,
    "start_time": "2022-08-22T18:40:33.785Z"
   },
   {
    "duration": 16,
    "start_time": "2022-08-22T18:40:33.795Z"
   },
   {
    "duration": 7,
    "start_time": "2022-08-22T18:40:33.812Z"
   },
   {
    "duration": 4,
    "start_time": "2022-08-22T18:40:33.821Z"
   },
   {
    "duration": 6,
    "start_time": "2022-08-22T18:40:33.826Z"
   },
   {
    "duration": 283,
    "start_time": "2022-08-22T18:40:33.833Z"
   },
   {
    "duration": 244,
    "start_time": "2022-08-22T18:40:34.117Z"
   },
   {
    "duration": 180,
    "start_time": "2022-08-22T18:40:34.363Z"
   },
   {
    "duration": 273,
    "start_time": "2022-08-22T18:40:34.544Z"
   },
   {
    "duration": 177,
    "start_time": "2022-08-22T18:40:34.819Z"
   },
   {
    "duration": 300,
    "start_time": "2022-08-22T18:40:34.998Z"
   },
   {
    "duration": 13,
    "start_time": "2022-08-22T18:40:35.299Z"
   },
   {
    "duration": 161,
    "start_time": "2022-08-22T18:40:35.313Z"
   },
   {
    "duration": 5,
    "start_time": "2022-08-22T18:40:35.475Z"
   },
   {
    "duration": 150,
    "start_time": "2022-08-22T18:40:35.482Z"
   },
   {
    "duration": 4,
    "start_time": "2022-08-22T18:40:35.633Z"
   },
   {
    "duration": 215,
    "start_time": "2022-08-22T18:40:35.639Z"
   },
   {
    "duration": 115,
    "start_time": "2022-08-22T18:40:35.856Z"
   },
   {
    "duration": 5,
    "start_time": "2022-08-22T18:40:35.973Z"
   },
   {
    "duration": 33,
    "start_time": "2022-08-22T18:40:35.980Z"
   },
   {
    "duration": 8,
    "start_time": "2022-08-22T18:40:36.015Z"
   },
   {
    "duration": 10,
    "start_time": "2022-08-22T18:40:36.024Z"
   },
   {
    "duration": 9,
    "start_time": "2022-08-22T18:40:36.036Z"
   },
   {
    "duration": 21,
    "start_time": "2022-08-22T18:40:36.047Z"
   },
   {
    "duration": 41,
    "start_time": "2022-08-22T18:40:36.069Z"
   },
   {
    "duration": 11,
    "start_time": "2022-08-22T18:44:14.491Z"
   },
   {
    "duration": 10,
    "start_time": "2022-08-22T18:46:56.671Z"
   },
   {
    "duration": 13,
    "start_time": "2022-08-22T18:47:22.709Z"
   },
   {
    "duration": 179,
    "start_time": "2022-08-22T18:55:37.617Z"
   },
   {
    "duration": 265,
    "start_time": "2022-08-22T18:58:21.931Z"
   },
   {
    "duration": 180,
    "start_time": "2022-08-22T18:58:51.370Z"
   },
   {
    "duration": 304,
    "start_time": "2022-08-22T18:59:13.259Z"
   },
   {
    "duration": 177,
    "start_time": "2022-08-22T18:59:18.215Z"
   },
   {
    "duration": 198,
    "start_time": "2022-08-22T18:59:58.984Z"
   },
   {
    "duration": 239,
    "start_time": "2022-08-22T19:00:36.648Z"
   },
   {
    "duration": 291,
    "start_time": "2022-08-22T19:00:49.494Z"
   },
   {
    "duration": 287,
    "start_time": "2022-08-22T19:01:08.391Z"
   },
   {
    "duration": 267,
    "start_time": "2022-08-22T19:01:13.223Z"
   },
   {
    "duration": 183,
    "start_time": "2022-08-22T19:01:52.857Z"
   },
   {
    "duration": 264,
    "start_time": "2022-08-22T19:02:41.736Z"
   },
   {
    "duration": 232,
    "start_time": "2022-08-22T19:04:14.717Z"
   },
   {
    "duration": 155,
    "start_time": "2022-08-22T19:04:24.410Z"
   },
   {
    "duration": 137,
    "start_time": "2022-08-22T19:05:12.872Z"
   },
   {
    "duration": 145,
    "start_time": "2022-08-22T19:06:16.045Z"
   },
   {
    "duration": 113,
    "start_time": "2022-08-22T19:06:29.566Z"
   },
   {
    "duration": 126,
    "start_time": "2022-08-22T19:06:33.383Z"
   },
   {
    "duration": 11,
    "start_time": "2022-08-22T19:07:45.355Z"
   },
   {
    "duration": 114,
    "start_time": "2022-08-22T19:08:17.984Z"
   },
   {
    "duration": 132,
    "start_time": "2022-08-22T19:09:02.085Z"
   },
   {
    "duration": 18,
    "start_time": "2022-08-22T19:10:45.410Z"
   },
   {
    "duration": 30,
    "start_time": "2022-08-22T19:11:36.829Z"
   },
   {
    "duration": 19,
    "start_time": "2022-08-22T19:12:07.976Z"
   },
   {
    "duration": 18,
    "start_time": "2022-08-22T19:12:15.577Z"
   },
   {
    "duration": 9,
    "start_time": "2022-08-22T19:13:34.333Z"
   },
   {
    "duration": 4,
    "start_time": "2022-08-22T19:17:21.672Z"
   },
   {
    "duration": 5,
    "start_time": "2022-08-22T19:17:25.888Z"
   },
   {
    "duration": 4,
    "start_time": "2022-08-22T19:18:03.336Z"
   },
   {
    "duration": 15,
    "start_time": "2022-08-22T19:19:18.873Z"
   },
   {
    "duration": 10,
    "start_time": "2022-08-22T19:19:26.595Z"
   },
   {
    "duration": 9,
    "start_time": "2022-08-22T19:19:47.023Z"
   },
   {
    "duration": 997,
    "start_time": "2022-08-22T19:48:51.417Z"
   },
   {
    "duration": 87,
    "start_time": "2022-08-22T19:48:52.421Z"
   },
   {
    "duration": 3,
    "start_time": "2022-08-22T19:48:52.510Z"
   },
   {
    "duration": 14,
    "start_time": "2022-08-22T19:48:52.515Z"
   },
   {
    "duration": 11,
    "start_time": "2022-08-22T19:48:52.531Z"
   },
   {
    "duration": 10,
    "start_time": "2022-08-22T19:48:52.544Z"
   },
   {
    "duration": 13,
    "start_time": "2022-08-22T19:48:52.556Z"
   },
   {
    "duration": 62,
    "start_time": "2022-08-22T19:48:52.570Z"
   },
   {
    "duration": 10,
    "start_time": "2022-08-22T19:48:52.633Z"
   },
   {
    "duration": 11,
    "start_time": "2022-08-22T19:48:52.645Z"
   },
   {
    "duration": 5,
    "start_time": "2022-08-22T19:48:52.658Z"
   },
   {
    "duration": 9,
    "start_time": "2022-08-22T19:48:52.664Z"
   },
   {
    "duration": 10,
    "start_time": "2022-08-22T19:48:52.675Z"
   },
   {
    "duration": 22,
    "start_time": "2022-08-22T19:48:52.688Z"
   },
   {
    "duration": 13,
    "start_time": "2022-08-22T19:48:52.712Z"
   },
   {
    "duration": 6,
    "start_time": "2022-08-22T19:48:52.726Z"
   },
   {
    "duration": 6,
    "start_time": "2022-08-22T19:48:52.733Z"
   },
   {
    "duration": 13,
    "start_time": "2022-08-22T19:48:52.740Z"
   },
   {
    "duration": 271,
    "start_time": "2022-08-22T19:48:52.754Z"
   },
   {
    "duration": 264,
    "start_time": "2022-08-22T19:48:53.026Z"
   },
   {
    "duration": 201,
    "start_time": "2022-08-22T19:48:53.292Z"
   },
   {
    "duration": 312,
    "start_time": "2022-08-22T19:48:53.494Z"
   },
   {
    "duration": 204,
    "start_time": "2022-08-22T19:48:53.807Z"
   },
   {
    "duration": 274,
    "start_time": "2022-08-22T19:48:54.012Z"
   },
   {
    "duration": 20,
    "start_time": "2022-08-22T19:48:54.288Z"
   },
   {
    "duration": 151,
    "start_time": "2022-08-22T19:48:54.309Z"
   },
   {
    "duration": 5,
    "start_time": "2022-08-22T19:48:54.462Z"
   },
   {
    "duration": 152,
    "start_time": "2022-08-22T19:48:54.468Z"
   },
   {
    "duration": 6,
    "start_time": "2022-08-22T19:48:54.621Z"
   },
   {
    "duration": 231,
    "start_time": "2022-08-22T19:48:54.628Z"
   },
   {
    "duration": 165,
    "start_time": "2022-08-22T19:48:54.861Z"
   },
   {
    "duration": 11,
    "start_time": "2022-08-22T19:48:55.028Z"
   },
   {
    "duration": 25,
    "start_time": "2022-08-22T19:48:55.040Z"
   },
   {
    "duration": 10,
    "start_time": "2022-08-22T19:48:55.066Z"
   },
   {
    "duration": 13,
    "start_time": "2022-08-22T19:48:55.077Z"
   },
   {
    "duration": 8,
    "start_time": "2022-08-22T19:48:55.106Z"
   },
   {
    "duration": 26,
    "start_time": "2022-08-22T19:48:55.115Z"
   },
   {
    "duration": 12,
    "start_time": "2022-08-22T19:48:55.142Z"
   },
   {
    "duration": 1328,
    "start_time": "2022-08-22T20:59:42.500Z"
   },
   {
    "duration": 99,
    "start_time": "2022-08-22T20:59:43.830Z"
   },
   {
    "duration": 4,
    "start_time": "2022-08-22T20:59:43.930Z"
   },
   {
    "duration": 17,
    "start_time": "2022-08-22T20:59:43.935Z"
   },
   {
    "duration": 11,
    "start_time": "2022-08-22T20:59:43.954Z"
   },
   {
    "duration": 11,
    "start_time": "2022-08-22T20:59:43.966Z"
   },
   {
    "duration": 30,
    "start_time": "2022-08-22T20:59:43.979Z"
   },
   {
    "duration": 62,
    "start_time": "2022-08-22T20:59:44.011Z"
   },
   {
    "duration": 10,
    "start_time": "2022-08-22T20:59:44.074Z"
   },
   {
    "duration": 13,
    "start_time": "2022-08-22T20:59:44.085Z"
   },
   {
    "duration": 6,
    "start_time": "2022-08-22T20:59:44.099Z"
   },
   {
    "duration": 10,
    "start_time": "2022-08-22T20:59:44.106Z"
   },
   {
    "duration": 12,
    "start_time": "2022-08-22T20:59:44.117Z"
   },
   {
    "duration": 10,
    "start_time": "2022-08-22T20:59:44.131Z"
   },
   {
    "duration": 14,
    "start_time": "2022-08-22T20:59:44.142Z"
   },
   {
    "duration": 6,
    "start_time": "2022-08-22T20:59:44.157Z"
   },
   {
    "duration": 5,
    "start_time": "2022-08-22T20:59:44.164Z"
   },
   {
    "duration": 30,
    "start_time": "2022-08-22T20:59:44.171Z"
   },
   {
    "duration": 293,
    "start_time": "2022-08-22T20:59:44.202Z"
   },
   {
    "duration": 265,
    "start_time": "2022-08-22T20:59:44.499Z"
   },
   {
    "duration": 211,
    "start_time": "2022-08-22T20:59:44.766Z"
   },
   {
    "duration": 307,
    "start_time": "2022-08-22T20:59:44.978Z"
   },
   {
    "duration": 216,
    "start_time": "2022-08-22T20:59:45.287Z"
   },
   {
    "duration": 296,
    "start_time": "2022-08-22T20:59:45.504Z"
   },
   {
    "duration": 12,
    "start_time": "2022-08-22T20:59:45.801Z"
   },
   {
    "duration": 161,
    "start_time": "2022-08-22T20:59:45.814Z"
   },
   {
    "duration": 5,
    "start_time": "2022-08-22T20:59:45.977Z"
   },
   {
    "duration": 149,
    "start_time": "2022-08-22T20:59:45.983Z"
   },
   {
    "duration": 5,
    "start_time": "2022-08-22T20:59:46.133Z"
   },
   {
    "duration": 217,
    "start_time": "2022-08-22T20:59:46.140Z"
   },
   {
    "duration": 131,
    "start_time": "2022-08-22T20:59:46.359Z"
   },
   {
    "duration": 11,
    "start_time": "2022-08-22T20:59:46.492Z"
   },
   {
    "duration": 21,
    "start_time": "2022-08-22T20:59:46.505Z"
   },
   {
    "duration": 10,
    "start_time": "2022-08-22T20:59:46.527Z"
   },
   {
    "duration": 10,
    "start_time": "2022-08-22T20:59:46.538Z"
   },
   {
    "duration": 7,
    "start_time": "2022-08-22T20:59:46.550Z"
   },
   {
    "duration": 50,
    "start_time": "2022-08-22T20:59:46.558Z"
   },
   {
    "duration": 12,
    "start_time": "2022-08-22T20:59:46.609Z"
   },
   {
    "duration": 1111,
    "start_time": "2022-08-23T04:18:44.914Z"
   },
   {
    "duration": 146,
    "start_time": "2022-08-23T04:18:46.027Z"
   },
   {
    "duration": 2,
    "start_time": "2022-08-23T04:18:46.174Z"
   },
   {
    "duration": 12,
    "start_time": "2022-08-23T04:18:46.178Z"
   },
   {
    "duration": 11,
    "start_time": "2022-08-23T04:18:46.191Z"
   },
   {
    "duration": 9,
    "start_time": "2022-08-23T04:18:46.203Z"
   },
   {
    "duration": 11,
    "start_time": "2022-08-23T04:18:46.213Z"
   },
   {
    "duration": 136,
    "start_time": "2022-08-23T04:18:46.226Z"
   },
   {
    "duration": 9,
    "start_time": "2022-08-23T04:18:46.363Z"
   },
   {
    "duration": 10,
    "start_time": "2022-08-23T04:18:46.374Z"
   },
   {
    "duration": 8,
    "start_time": "2022-08-23T04:18:46.385Z"
   },
   {
    "duration": 7,
    "start_time": "2022-08-23T04:18:46.394Z"
   },
   {
    "duration": 11,
    "start_time": "2022-08-23T04:18:46.402Z"
   },
   {
    "duration": 12,
    "start_time": "2022-08-23T04:18:46.415Z"
   },
   {
    "duration": 11,
    "start_time": "2022-08-23T04:18:46.428Z"
   },
   {
    "duration": 6,
    "start_time": "2022-08-23T04:18:46.440Z"
   },
   {
    "duration": 4,
    "start_time": "2022-08-23T04:18:46.447Z"
   },
   {
    "duration": 6,
    "start_time": "2022-08-23T04:18:46.452Z"
   },
   {
    "duration": 281,
    "start_time": "2022-08-23T04:18:46.459Z"
   },
   {
    "duration": 244,
    "start_time": "2022-08-23T04:18:46.742Z"
   },
   {
    "duration": 185,
    "start_time": "2022-08-23T04:18:46.988Z"
   },
   {
    "duration": 353,
    "start_time": "2022-08-23T04:18:47.174Z"
   },
   {
    "duration": 187,
    "start_time": "2022-08-23T04:18:47.528Z"
   },
   {
    "duration": 274,
    "start_time": "2022-08-23T04:18:47.717Z"
   },
   {
    "duration": 16,
    "start_time": "2022-08-23T04:18:47.993Z"
   },
   {
    "duration": 166,
    "start_time": "2022-08-23T04:18:48.011Z"
   },
   {
    "duration": 5,
    "start_time": "2022-08-23T04:18:48.178Z"
   },
   {
    "duration": 145,
    "start_time": "2022-08-23T04:18:48.186Z"
   },
   {
    "duration": 4,
    "start_time": "2022-08-23T04:18:48.333Z"
   },
   {
    "duration": 207,
    "start_time": "2022-08-23T04:18:48.339Z"
   },
   {
    "duration": 118,
    "start_time": "2022-08-23T04:18:48.548Z"
   },
   {
    "duration": 6,
    "start_time": "2022-08-23T04:18:48.667Z"
   },
   {
    "duration": 34,
    "start_time": "2022-08-23T04:18:48.674Z"
   },
   {
    "duration": 9,
    "start_time": "2022-08-23T04:18:48.710Z"
   },
   {
    "duration": 10,
    "start_time": "2022-08-23T04:18:48.721Z"
   },
   {
    "duration": 8,
    "start_time": "2022-08-23T04:18:48.732Z"
   },
   {
    "duration": 19,
    "start_time": "2022-08-23T04:18:48.742Z"
   },
   {
    "duration": 47,
    "start_time": "2022-08-23T04:18:48.763Z"
   },
   {
    "duration": 11,
    "start_time": "2022-08-23T04:20:55.063Z"
   },
   {
    "duration": 76,
    "start_time": "2022-08-23T04:22:18.548Z"
   },
   {
    "duration": 84,
    "start_time": "2022-08-23T04:22:28.448Z"
   },
   {
    "duration": 957,
    "start_time": "2022-08-23T04:22:58.049Z"
   },
   {
    "duration": 78,
    "start_time": "2022-08-23T04:22:59.008Z"
   },
   {
    "duration": 4,
    "start_time": "2022-08-23T04:22:59.088Z"
   },
   {
    "duration": 13,
    "start_time": "2022-08-23T04:22:59.095Z"
   },
   {
    "duration": 13,
    "start_time": "2022-08-23T04:22:59.110Z"
   },
   {
    "duration": 11,
    "start_time": "2022-08-23T04:22:59.125Z"
   },
   {
    "duration": 12,
    "start_time": "2022-08-23T04:22:59.137Z"
   },
   {
    "duration": 66,
    "start_time": "2022-08-23T04:22:59.150Z"
   },
   {
    "duration": 9,
    "start_time": "2022-08-23T04:22:59.217Z"
   },
   {
    "duration": 10,
    "start_time": "2022-08-23T04:22:59.229Z"
   },
   {
    "duration": 6,
    "start_time": "2022-08-23T04:22:59.240Z"
   },
   {
    "duration": 8,
    "start_time": "2022-08-23T04:22:59.248Z"
   },
   {
    "duration": 11,
    "start_time": "2022-08-23T04:22:59.257Z"
   },
   {
    "duration": 8,
    "start_time": "2022-08-23T04:22:59.269Z"
   },
   {
    "duration": 36,
    "start_time": "2022-08-23T04:22:59.278Z"
   },
   {
    "duration": 6,
    "start_time": "2022-08-23T04:22:59.316Z"
   },
   {
    "duration": 3,
    "start_time": "2022-08-23T04:22:59.323Z"
   },
   {
    "duration": 8,
    "start_time": "2022-08-23T04:22:59.327Z"
   },
   {
    "duration": 276,
    "start_time": "2022-08-23T04:22:59.336Z"
   },
   {
    "duration": 275,
    "start_time": "2022-08-23T04:22:59.613Z"
   },
   {
    "duration": 206,
    "start_time": "2022-08-23T04:22:59.889Z"
   },
   {
    "duration": 294,
    "start_time": "2022-08-23T04:23:00.097Z"
   },
   {
    "duration": 201,
    "start_time": "2022-08-23T04:23:00.393Z"
   },
   {
    "duration": 286,
    "start_time": "2022-08-23T04:23:00.595Z"
   },
   {
    "duration": 10,
    "start_time": "2022-08-23T04:23:00.882Z"
   },
   {
    "duration": 158,
    "start_time": "2022-08-23T04:23:00.894Z"
   },
   {
    "duration": 4,
    "start_time": "2022-08-23T04:23:01.054Z"
   },
   {
    "duration": 141,
    "start_time": "2022-08-23T04:23:01.061Z"
   },
   {
    "duration": 4,
    "start_time": "2022-08-23T04:23:01.205Z"
   },
   {
    "duration": 213,
    "start_time": "2022-08-23T04:23:01.211Z"
   },
   {
    "duration": 109,
    "start_time": "2022-08-23T04:23:01.425Z"
   },
   {
    "duration": 6,
    "start_time": "2022-08-23T04:23:01.535Z"
   },
   {
    "duration": 48,
    "start_time": "2022-08-23T04:23:01.542Z"
   },
   {
    "duration": 9,
    "start_time": "2022-08-23T04:23:01.592Z"
   },
   {
    "duration": 14,
    "start_time": "2022-08-23T04:23:01.602Z"
   },
   {
    "duration": 13,
    "start_time": "2022-08-23T04:23:01.618Z"
   },
   {
    "duration": 51,
    "start_time": "2022-08-23T04:23:01.633Z"
   },
   {
    "duration": 25,
    "start_time": "2022-08-23T04:23:01.685Z"
   }
  ],
  "kernelspec": {
   "display_name": "Python 3 (ipykernel)",
   "language": "python",
   "name": "python3"
  },
  "language_info": {
   "codemirror_mode": {
    "name": "ipython",
    "version": 3
   },
   "file_extension": ".py",
   "mimetype": "text/x-python",
   "name": "python",
   "nbconvert_exporter": "python",
   "pygments_lexer": "ipython3",
   "version": "3.9.13"
  },
  "toc": {
   "base_numbering": 1,
   "nav_menu": {},
   "number_sections": true,
   "sideBar": true,
   "skip_h1_title": true,
   "title_cell": "Table of Contents",
   "title_sidebar": "Contents",
   "toc_cell": false,
   "toc_position": {
    "height": "calc(100% - 180px)",
    "left": "10px",
    "top": "150px",
    "width": "427.47283935546875px"
   },
   "toc_section_display": true,
   "toc_window_display": false
  }
 },
 "nbformat": 4,
 "nbformat_minor": 2
}
