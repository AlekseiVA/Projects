{
 "cells": [
  {
   "cell_type": "markdown",
   "id": "2c9822cc",
   "metadata": {},
   "source": [
    "# Определение перспективного тарифа для телеком-компании"
   ]
  },
  {
   "cell_type": "markdown",
   "id": "527666ca",
   "metadata": {},
   "source": [
    "Клиентам предлагают два тарифных плана: «Смарт» и «Ультра». Чтобы скорректировать рекламный бюджет, коммерческий департамент хочет понять, какой тариф приносит больше денег.\n",
    "\n",
    "Нам предстоит сделать предварительный анализ тарифов на небольшой выборке клиентов. В нашем распоряжении данные 500 пользователей «Мегалайна»: кто они, откуда, каким тарифом пользуются, сколько звонков и сообщений каждый отправил за 2018 год.  \n",
    "Нужно проанализировать поведение клиентов и сделать вывод — какой тариф лучше."
   ]
  },
  {
   "cell_type": "markdown",
   "id": "37a20030",
   "metadata": {},
   "source": [
    "**Какие этапы работы были проделаны:**\n",
    "\n",
    "1. **Изучение данных из файла** - просмотрели общую информацию по таблицам, чтобы понять, с чем работаем\n",
    "2. **Предобработка данных** - подготовили данные для дальнейшего анализа \n",
    "3. **Анализ данных** - провели анализ, где углубились в цифры\n",
    "4. **Проверка гипотез** - у нас были 2 гипотезы, которые мы проверили\n",
    "5. **Общий вывод** - составили общий вывод по тарифам и рекомендациям"
   ]
  },
  {
   "cell_type": "markdown",
   "id": "e2f48818",
   "metadata": {},
   "source": [
    "## Изучение данных из файлов"
   ]
  },
  {
   "cell_type": "code",
   "execution_count": 1,
   "id": "7f8aec99",
   "metadata": {},
   "outputs": [],
   "source": [
    "#Для начала имортируем нужные нам библиотеки для исследования \n",
    "import pandas as pd\n",
    "import numpy as np\n",
    "import matplotlib.pyplot as plt\n",
    "import seaborn as sns\n",
    "from scipy import stats as st"
   ]
  },
  {
   "cell_type": "code",
   "execution_count": 2,
   "id": "a913cece",
   "metadata": {},
   "outputs": [],
   "source": [
    "#Теперь можно добавить все датафреймы, которые у нас есть и объявить переменные для каждого\n",
    "try:\n",
    "    users = pd.read_csv('/Users/alekseivlasov/Desktop/project/4/users.csv')\n",
    "except:\n",
    "    users = pd.read_csv('/datasets/users.csv')\n",
    "    \n",
    "try:\n",
    "    calls = pd.read_csv('/Users/alekseivlasov/Desktop/project/4/calls.csv')\n",
    "except:\n",
    "    calls = pd.read_csv('/datasets/calls.csv')\n",
    "    \n",
    "try:\n",
    "    messages = pd.read_csv('/Users/alekseivlasov/Desktop/project/4/messages.csv')\n",
    "except:\n",
    "    messages = pd.read_csv('/datasets/messages.csv')    \n",
    "\n",
    "try:\n",
    "    internet = pd.read_csv('/Users/alekseivlasov/Desktop/project/4/internet.csv', index_col=0)\n",
    "except:\n",
    "    internet = pd.read_csv('/datasets/internet.csv', index_col=0)\n",
    "\n",
    "try:\n",
    "    tariffs = pd.read_csv('/Users/alekseivlasov/Desktop/project/4/tariffs.csv')\n",
    "except:\n",
    "    tariffs = pd.read_csv('/datasets/tariffs.csv')"
   ]
  },
  {
   "cell_type": "markdown",
   "id": "619e1386",
   "metadata": {},
   "source": [
    "Просмотрим общую информацию по каждой таблице  "
   ]
  },
  {
   "cell_type": "code",
   "execution_count": 3,
   "id": "4db96cdc",
   "metadata": {},
   "outputs": [
    {
     "name": "stdout",
     "output_type": "stream",
     "text": [
      "<class 'pandas.core.frame.DataFrame'>\n",
      "RangeIndex: 500 entries, 0 to 499\n",
      "Data columns (total 8 columns):\n",
      " #   Column      Non-Null Count  Dtype \n",
      "---  ------      --------------  ----- \n",
      " 0   user_id     500 non-null    int64 \n",
      " 1   age         500 non-null    int64 \n",
      " 2   churn_date  38 non-null     object\n",
      " 3   city        500 non-null    object\n",
      " 4   first_name  500 non-null    object\n",
      " 5   last_name   500 non-null    object\n",
      " 6   reg_date    500 non-null    object\n",
      " 7   tariff      500 non-null    object\n",
      "dtypes: int64(2), object(6)\n",
      "memory usage: 31.4+ KB\n"
     ]
    }
   ],
   "source": [
    "#Просмотрим таблицу с информацией о пользователях\n",
    "users.info()"
   ]
  },
  {
   "cell_type": "markdown",
   "id": "7dabd9c6",
   "metadata": {},
   "source": [
    "У нас обнаружены пропуски, об этом говорилось в информации о проекте: если значение пропущено, то тариф ещё действовал на момент выгрузки данных. Поэтому, мы пока просто оставим пропуски на месте\n",
    "\n",
    "В столбцах ``reg_date`` и ``churn_date`` нужно поменять тип данных"
   ]
  },
  {
   "cell_type": "code",
   "execution_count": 4,
   "id": "46d68200",
   "metadata": {},
   "outputs": [
    {
     "name": "stdout",
     "output_type": "stream",
     "text": [
      "<class 'pandas.core.frame.DataFrame'>\n",
      "RangeIndex: 202607 entries, 0 to 202606\n",
      "Data columns (total 4 columns):\n",
      " #   Column     Non-Null Count   Dtype  \n",
      "---  ------     --------------   -----  \n",
      " 0   id         202607 non-null  object \n",
      " 1   call_date  202607 non-null  object \n",
      " 2   duration   202607 non-null  float64\n",
      " 3   user_id    202607 non-null  int64  \n",
      "dtypes: float64(1), int64(1), object(2)\n",
      "memory usage: 6.2+ MB\n"
     ]
    }
   ],
   "source": [
    "#Просмотрим таблицу со звонками\n",
    "calls.info()"
   ]
  },
  {
   "cell_type": "markdown",
   "id": "31f0b71d",
   "metadata": {},
   "source": [
    "Пропусков нет, столбцы названы правильно. В ``call_date`` нужно поменять тип данных. "
   ]
  },
  {
   "cell_type": "code",
   "execution_count": 5,
   "id": "8d9930a2",
   "metadata": {},
   "outputs": [
    {
     "name": "stdout",
     "output_type": "stream",
     "text": [
      "<class 'pandas.core.frame.DataFrame'>\n",
      "RangeIndex: 123036 entries, 0 to 123035\n",
      "Data columns (total 3 columns):\n",
      " #   Column        Non-Null Count   Dtype \n",
      "---  ------        --------------   ----- \n",
      " 0   id            123036 non-null  object\n",
      " 1   message_date  123036 non-null  object\n",
      " 2   user_id       123036 non-null  int64 \n",
      "dtypes: int64(1), object(2)\n",
      "memory usage: 2.8+ MB\n"
     ]
    }
   ],
   "source": [
    "#Просмотрим таблицу с сообщениями\n",
    "messages.info()"
   ]
  },
  {
   "cell_type": "markdown",
   "id": "896d68e7",
   "metadata": {},
   "source": [
    "Здесь ситуация аналогичная"
   ]
  },
  {
   "cell_type": "code",
   "execution_count": 6,
   "id": "afbbd155",
   "metadata": {},
   "outputs": [
    {
     "name": "stdout",
     "output_type": "stream",
     "text": [
      "<class 'pandas.core.frame.DataFrame'>\n",
      "Int64Index: 149396 entries, 0 to 149395\n",
      "Data columns (total 4 columns):\n",
      " #   Column        Non-Null Count   Dtype  \n",
      "---  ------        --------------   -----  \n",
      " 0   id            149396 non-null  object \n",
      " 1   mb_used       149396 non-null  float64\n",
      " 2   session_date  149396 non-null  object \n",
      " 3   user_id       149396 non-null  int64  \n",
      "dtypes: float64(1), int64(1), object(2)\n",
      "memory usage: 5.7+ MB\n"
     ]
    }
   ],
   "source": [
    "#Просмотрим таблицу с информацией об интернет-сессиях\n",
    "internet.info()"
   ]
  },
  {
   "cell_type": "markdown",
   "id": "64df95e2",
   "metadata": {},
   "source": [
    "В датасете ``internet`` также есть столбец, где нужно поменять тип данных ``session_date``"
   ]
  },
  {
   "cell_type": "code",
   "execution_count": 7,
   "id": "4dc6e6fe",
   "metadata": {
    "scrolled": true
   },
   "outputs": [
    {
     "name": "stdout",
     "output_type": "stream",
     "text": [
      "<class 'pandas.core.frame.DataFrame'>\n",
      "RangeIndex: 2 entries, 0 to 1\n",
      "Data columns (total 8 columns):\n",
      " #   Column                 Non-Null Count  Dtype \n",
      "---  ------                 --------------  ----- \n",
      " 0   messages_included      2 non-null      int64 \n",
      " 1   mb_per_month_included  2 non-null      int64 \n",
      " 2   minutes_included       2 non-null      int64 \n",
      " 3   rub_monthly_fee        2 non-null      int64 \n",
      " 4   rub_per_gb             2 non-null      int64 \n",
      " 5   rub_per_message        2 non-null      int64 \n",
      " 6   rub_per_minute         2 non-null      int64 \n",
      " 7   tariff_name            2 non-null      object\n",
      "dtypes: int64(7), object(1)\n",
      "memory usage: 256.0+ bytes\n"
     ]
    }
   ],
   "source": [
    "#Просмотрим таблицу с информацией о тарифах\n",
    "tariffs.info()"
   ]
  },
  {
   "cell_type": "markdown",
   "id": "d4e16f04",
   "metadata": {},
   "source": [
    "Пропусков нет, типы данных корректны"
   ]
  },
  {
   "cell_type": "markdown",
   "id": "1ef0a03f",
   "metadata": {},
   "source": [
    "### Вывод"
   ]
  },
  {
   "cell_type": "markdown",
   "id": "bab5b157",
   "metadata": {},
   "source": [
    "В каждой таблице есть столбцы, которым нужно поменять тип данных с ``object`` на ``datetime64``"
   ]
  },
  {
   "cell_type": "markdown",
   "id": "1661a184",
   "metadata": {},
   "source": [
    "## Предобработка данных"
   ]
  },
  {
   "cell_type": "markdown",
   "id": "99c920a2",
   "metadata": {},
   "source": [
    "**Для начала поменяем тип данных в таблицах**"
   ]
  },
  {
   "cell_type": "code",
   "execution_count": 8,
   "id": "6c78fc2b",
   "metadata": {},
   "outputs": [],
   "source": [
    "users['churn_date'] = pd.to_datetime(users['churn_date'], format = '%Y-%m-%d')\n",
    "users['reg_date'] = pd.to_datetime(users['reg_date'], format = '%Y-%m-%d')\n",
    "\n",
    "calls['call_date'] = pd.to_datetime(calls['call_date'], format= '%Y-%m-%d')\n",
    "\n",
    "messages['message_date'] = pd.to_datetime(messages['message_date'], format = '%Y-%m-%d')\n",
    "\n",
    "internet['session_date'] = pd.to_datetime(internet['session_date'], format = '%Y-%m-%d')"
   ]
  },
  {
   "cell_type": "markdown",
   "id": "33faf268",
   "metadata": {},
   "source": [
    "Перевели столбцы в тип данных ``datetime64``"
   ]
  },
  {
   "cell_type": "code",
   "execution_count": 9,
   "id": "c0e6ab27",
   "metadata": {
    "scrolled": true
   },
   "outputs": [
    {
     "name": "stdout",
     "output_type": "stream",
     "text": [
      "<class 'pandas.core.frame.DataFrame'>\n",
      "RangeIndex: 500 entries, 0 to 499\n",
      "Data columns (total 8 columns):\n",
      " #   Column      Non-Null Count  Dtype         \n",
      "---  ------      --------------  -----         \n",
      " 0   user_id     500 non-null    int64         \n",
      " 1   age         500 non-null    int64         \n",
      " 2   churn_date  38 non-null     datetime64[ns]\n",
      " 3   city        500 non-null    object        \n",
      " 4   first_name  500 non-null    object        \n",
      " 5   last_name   500 non-null    object        \n",
      " 6   reg_date    500 non-null    datetime64[ns]\n",
      " 7   tariff      500 non-null    object        \n",
      "dtypes: datetime64[ns](2), int64(2), object(4)\n",
      "memory usage: 31.4+ KB\n"
     ]
    }
   ],
   "source": [
    "#Проверим на одной из таблицы, что тип данных поменялся\n",
    "users.info()"
   ]
  },
  {
   "cell_type": "markdown",
   "id": "aa97b68e",
   "metadata": {},
   "source": [
    "**Теперь проверим датасеты на ошибки и исправим их**"
   ]
  },
  {
   "cell_type": "code",
   "execution_count": 10,
   "id": "765fd0b7",
   "metadata": {},
   "outputs": [
    {
     "data": {
      "text/plain": [
       "0.00     39613\n",
       "4.49       142\n",
       "5.50       142\n",
       "6.15       141\n",
       "6.38       141\n",
       "         ...  \n",
       "26.94        1\n",
       "32.19        1\n",
       "26.32        1\n",
       "27.41        1\n",
       "26.90        1\n",
       "Name: duration, Length: 2871, dtype: int64"
      ]
     },
     "execution_count": 10,
     "metadata": {},
     "output_type": "execute_result"
    }
   ],
   "source": [
    "#Посмотрим длительность звонков\n",
    "calls['duration'].value_counts()"
   ]
  },
  {
   "cell_type": "markdown",
   "id": "052c7294",
   "metadata": {},
   "source": [
    "У нас есть длительность звонков в минутах, их нужно округлить в большую сторону"
   ]
  },
  {
   "cell_type": "code",
   "execution_count": 11,
   "id": "5eb6bc7a",
   "metadata": {},
   "outputs": [],
   "source": [
    "calls['duration'] = np.ceil(calls['duration']).astype('int') #округлим в большую сторону и поменяем тип данных"
   ]
  },
  {
   "cell_type": "code",
   "execution_count": 12,
   "id": "680942d6",
   "metadata": {
    "scrolled": true
   },
   "outputs": [
    {
     "data": {
      "text/plain": [
       "0    39613\n",
       "7    11510\n",
       "6    11457\n",
       "5    11411\n",
       "8    11272\n",
       "Name: duration, dtype: int64"
      ]
     },
     "execution_count": 12,
     "metadata": {},
     "output_type": "execute_result"
    }
   ],
   "source": [
    "calls['duration'].value_counts().head() #проверим правильность кода"
   ]
  },
  {
   "cell_type": "markdown",
   "id": "94c28612",
   "metadata": {},
   "source": [
    "Ошибки исправили  "
   ]
  },
  {
   "cell_type": "markdown",
   "id": "7777ed0d",
   "metadata": {},
   "source": [
    "**Для нашего исследования нужно посчитать определенные данные:**"
   ]
  },
  {
   "cell_type": "code",
   "execution_count": 13,
   "id": "68b9a868",
   "metadata": {},
   "outputs": [
    {
     "data": {
      "text/html": [
       "<div>\n",
       "<style scoped>\n",
       "    .dataframe tbody tr th:only-of-type {\n",
       "        vertical-align: middle;\n",
       "    }\n",
       "\n",
       "    .dataframe tbody tr th {\n",
       "        vertical-align: top;\n",
       "    }\n",
       "\n",
       "    .dataframe thead th {\n",
       "        text-align: right;\n",
       "    }\n",
       "</style>\n",
       "<table border=\"1\" class=\"dataframe\">\n",
       "  <thead>\n",
       "    <tr style=\"text-align: right;\">\n",
       "      <th></th>\n",
       "      <th>id</th>\n",
       "      <th>call_date</th>\n",
       "      <th>duration</th>\n",
       "      <th>user_id</th>\n",
       "      <th>month</th>\n",
       "    </tr>\n",
       "  </thead>\n",
       "  <tbody>\n",
       "    <tr>\n",
       "      <th>0</th>\n",
       "      <td>1000_0</td>\n",
       "      <td>2018-07-25</td>\n",
       "      <td>0</td>\n",
       "      <td>1000</td>\n",
       "      <td>7</td>\n",
       "    </tr>\n",
       "    <tr>\n",
       "      <th>1</th>\n",
       "      <td>1000_1</td>\n",
       "      <td>2018-08-17</td>\n",
       "      <td>0</td>\n",
       "      <td>1000</td>\n",
       "      <td>8</td>\n",
       "    </tr>\n",
       "    <tr>\n",
       "      <th>2</th>\n",
       "      <td>1000_2</td>\n",
       "      <td>2018-06-11</td>\n",
       "      <td>3</td>\n",
       "      <td>1000</td>\n",
       "      <td>6</td>\n",
       "    </tr>\n",
       "    <tr>\n",
       "      <th>3</th>\n",
       "      <td>1000_3</td>\n",
       "      <td>2018-09-21</td>\n",
       "      <td>14</td>\n",
       "      <td>1000</td>\n",
       "      <td>9</td>\n",
       "    </tr>\n",
       "    <tr>\n",
       "      <th>4</th>\n",
       "      <td>1000_4</td>\n",
       "      <td>2018-12-15</td>\n",
       "      <td>6</td>\n",
       "      <td>1000</td>\n",
       "      <td>12</td>\n",
       "    </tr>\n",
       "  </tbody>\n",
       "</table>\n",
       "</div>"
      ],
      "text/plain": [
       "       id  call_date  duration  user_id  month\n",
       "0  1000_0 2018-07-25         0     1000      7\n",
       "1  1000_1 2018-08-17         0     1000      8\n",
       "2  1000_2 2018-06-11         3     1000      6\n",
       "3  1000_3 2018-09-21        14     1000      9\n",
       "4  1000_4 2018-12-15         6     1000     12"
      ]
     },
     "execution_count": 13,
     "metadata": {},
     "output_type": "execute_result"
    }
   ],
   "source": [
    "#Добавим столбец с номером месяца\n",
    "calls['month'] = pd.DatetimeIndex(calls['call_date']).month\n",
    "calls.head()"
   ]
  },
  {
   "cell_type": "markdown",
   "id": "4b22da40",
   "metadata": {},
   "source": [
    "Создадим сводную таблицу, где посчитаем для каждого пользователя: количество сделанных звонков и израсходованных минут разговора по месяцам"
   ]
  },
  {
   "cell_type": "code",
   "execution_count": 14,
   "id": "1fc4a97d",
   "metadata": {},
   "outputs": [
    {
     "data": {
      "text/html": [
       "<div>\n",
       "<style scoped>\n",
       "    .dataframe tbody tr th:only-of-type {\n",
       "        vertical-align: middle;\n",
       "    }\n",
       "\n",
       "    .dataframe tbody tr th {\n",
       "        vertical-align: top;\n",
       "    }\n",
       "\n",
       "    .dataframe thead th {\n",
       "        text-align: right;\n",
       "    }\n",
       "</style>\n",
       "<table border=\"1\" class=\"dataframe\">\n",
       "  <thead>\n",
       "    <tr style=\"text-align: right;\">\n",
       "      <th></th>\n",
       "      <th>user_id</th>\n",
       "      <th>month</th>\n",
       "      <th>calls_count</th>\n",
       "      <th>calls_sum</th>\n",
       "    </tr>\n",
       "  </thead>\n",
       "  <tbody>\n",
       "    <tr>\n",
       "      <th>0</th>\n",
       "      <td>1000</td>\n",
       "      <td>5</td>\n",
       "      <td>22</td>\n",
       "      <td>159</td>\n",
       "    </tr>\n",
       "    <tr>\n",
       "      <th>1</th>\n",
       "      <td>1000</td>\n",
       "      <td>6</td>\n",
       "      <td>43</td>\n",
       "      <td>172</td>\n",
       "    </tr>\n",
       "    <tr>\n",
       "      <th>2</th>\n",
       "      <td>1000</td>\n",
       "      <td>7</td>\n",
       "      <td>47</td>\n",
       "      <td>340</td>\n",
       "    </tr>\n",
       "    <tr>\n",
       "      <th>3</th>\n",
       "      <td>1000</td>\n",
       "      <td>8</td>\n",
       "      <td>52</td>\n",
       "      <td>408</td>\n",
       "    </tr>\n",
       "    <tr>\n",
       "      <th>4</th>\n",
       "      <td>1000</td>\n",
       "      <td>9</td>\n",
       "      <td>58</td>\n",
       "      <td>466</td>\n",
       "    </tr>\n",
       "  </tbody>\n",
       "</table>\n",
       "</div>"
      ],
      "text/plain": [
       "   user_id  month  calls_count  calls_sum\n",
       "0     1000      5           22        159\n",
       "1     1000      6           43        172\n",
       "2     1000      7           47        340\n",
       "3     1000      8           52        408\n",
       "4     1000      9           58        466"
      ]
     },
     "execution_count": 14,
     "metadata": {},
     "output_type": "execute_result"
    }
   ],
   "source": [
    "calls_pivot_table = calls.pivot_table(\n",
    "    index =['user_id', 'month'], values='duration', aggfunc=['count', 'sum']\n",
    ").reset_index()\n",
    "\n",
    "calls_pivot_table = calls_pivot_table.droplevel(1, axis=1) #уберем ненужные столбцы\n",
    "\n",
    "calls_pivot_table = calls_pivot_table.rename(\n",
    "    columns ={'count':'calls_count','sum':'calls_sum'}\n",
    ") #переименуем столбцы\n",
    "\n",
    "calls_pivot_table.head()"
   ]
  },
  {
   "cell_type": "markdown",
   "id": "f53906e6",
   "metadata": {},
   "source": [
    "Мы посчитали количество звонков и количество минут по каждому пользователю в месяц"
   ]
  },
  {
   "cell_type": "markdown",
   "id": "5acfc511",
   "metadata": {},
   "source": [
    "Создадим сводную таблицу по сообщениям и посчитаем количество отправленных сообщений по каждому пользователю  \n",
    "Для этого, для начала, мы добавим столбец с месяцами"
   ]
  },
  {
   "cell_type": "code",
   "execution_count": 15,
   "id": "d0572573",
   "metadata": {},
   "outputs": [
    {
     "data": {
      "text/html": [
       "<div>\n",
       "<style scoped>\n",
       "    .dataframe tbody tr th:only-of-type {\n",
       "        vertical-align: middle;\n",
       "    }\n",
       "\n",
       "    .dataframe tbody tr th {\n",
       "        vertical-align: top;\n",
       "    }\n",
       "\n",
       "    .dataframe thead th {\n",
       "        text-align: right;\n",
       "    }\n",
       "</style>\n",
       "<table border=\"1\" class=\"dataframe\">\n",
       "  <thead>\n",
       "    <tr style=\"text-align: right;\">\n",
       "      <th></th>\n",
       "      <th>id</th>\n",
       "      <th>message_date</th>\n",
       "      <th>user_id</th>\n",
       "      <th>month</th>\n",
       "    </tr>\n",
       "  </thead>\n",
       "  <tbody>\n",
       "    <tr>\n",
       "      <th>0</th>\n",
       "      <td>1000_0</td>\n",
       "      <td>2018-06-27</td>\n",
       "      <td>1000</td>\n",
       "      <td>6</td>\n",
       "    </tr>\n",
       "    <tr>\n",
       "      <th>1</th>\n",
       "      <td>1000_1</td>\n",
       "      <td>2018-10-08</td>\n",
       "      <td>1000</td>\n",
       "      <td>10</td>\n",
       "    </tr>\n",
       "    <tr>\n",
       "      <th>2</th>\n",
       "      <td>1000_2</td>\n",
       "      <td>2018-08-04</td>\n",
       "      <td>1000</td>\n",
       "      <td>8</td>\n",
       "    </tr>\n",
       "    <tr>\n",
       "      <th>3</th>\n",
       "      <td>1000_3</td>\n",
       "      <td>2018-06-16</td>\n",
       "      <td>1000</td>\n",
       "      <td>6</td>\n",
       "    </tr>\n",
       "    <tr>\n",
       "      <th>4</th>\n",
       "      <td>1000_4</td>\n",
       "      <td>2018-12-05</td>\n",
       "      <td>1000</td>\n",
       "      <td>12</td>\n",
       "    </tr>\n",
       "  </tbody>\n",
       "</table>\n",
       "</div>"
      ],
      "text/plain": [
       "       id message_date  user_id  month\n",
       "0  1000_0   2018-06-27     1000      6\n",
       "1  1000_1   2018-10-08     1000     10\n",
       "2  1000_2   2018-08-04     1000      8\n",
       "3  1000_3   2018-06-16     1000      6\n",
       "4  1000_4   2018-12-05     1000     12"
      ]
     },
     "execution_count": 15,
     "metadata": {},
     "output_type": "execute_result"
    }
   ],
   "source": [
    "messages['month'] = pd.DatetimeIndex(messages['message_date']).month\n",
    "messages.head()"
   ]
  },
  {
   "cell_type": "code",
   "execution_count": 16,
   "id": "fe81cf41",
   "metadata": {},
   "outputs": [
    {
     "data": {
      "text/html": [
       "<div>\n",
       "<style scoped>\n",
       "    .dataframe tbody tr th:only-of-type {\n",
       "        vertical-align: middle;\n",
       "    }\n",
       "\n",
       "    .dataframe tbody tr th {\n",
       "        vertical-align: top;\n",
       "    }\n",
       "\n",
       "    .dataframe thead th {\n",
       "        text-align: right;\n",
       "    }\n",
       "</style>\n",
       "<table border=\"1\" class=\"dataframe\">\n",
       "  <thead>\n",
       "    <tr style=\"text-align: right;\">\n",
       "      <th></th>\n",
       "      <th>user_id</th>\n",
       "      <th>month</th>\n",
       "      <th>messages_count</th>\n",
       "    </tr>\n",
       "  </thead>\n",
       "  <tbody>\n",
       "    <tr>\n",
       "      <th>0</th>\n",
       "      <td>1000</td>\n",
       "      <td>5</td>\n",
       "      <td>22</td>\n",
       "    </tr>\n",
       "    <tr>\n",
       "      <th>1</th>\n",
       "      <td>1000</td>\n",
       "      <td>6</td>\n",
       "      <td>60</td>\n",
       "    </tr>\n",
       "    <tr>\n",
       "      <th>2</th>\n",
       "      <td>1000</td>\n",
       "      <td>7</td>\n",
       "      <td>75</td>\n",
       "    </tr>\n",
       "    <tr>\n",
       "      <th>3</th>\n",
       "      <td>1000</td>\n",
       "      <td>8</td>\n",
       "      <td>81</td>\n",
       "    </tr>\n",
       "    <tr>\n",
       "      <th>4</th>\n",
       "      <td>1000</td>\n",
       "      <td>9</td>\n",
       "      <td>57</td>\n",
       "    </tr>\n",
       "  </tbody>\n",
       "</table>\n",
       "</div>"
      ],
      "text/plain": [
       "   user_id  month  messages_count\n",
       "0     1000      5              22\n",
       "1     1000      6              60\n",
       "2     1000      7              75\n",
       "3     1000      8              81\n",
       "4     1000      9              57"
      ]
     },
     "execution_count": 16,
     "metadata": {},
     "output_type": "execute_result"
    }
   ],
   "source": [
    "messages_pivot_table = messages.pivot_table(\n",
    "    index=['user_id','month'], values='id', aggfunc ='count'\n",
    ").reset_index()\n",
    "\n",
    "messages_pivot_table = messages_pivot_table.rename(columns={'id':'messages_count'}) #переименуем столбец\n",
    "\n",
    "messages_pivot_table.head()"
   ]
  },
  {
   "cell_type": "markdown",
   "id": "72a4b2e8",
   "metadata": {},
   "source": [
    "Мы узнали количество отправленных сообщений в месяц по каждому пользователю"
   ]
  },
  {
   "cell_type": "markdown",
   "id": "ba707b59",
   "metadata": {},
   "source": [
    "Теперь посчитаем объем израсходованного интернет-трафика по месяцам  \n",
    "Для начала добавим столбец с месяцами и гигабайтами"
   ]
  },
  {
   "cell_type": "code",
   "execution_count": 17,
   "id": "894d890a",
   "metadata": {},
   "outputs": [
    {
     "data": {
      "text/html": [
       "<div>\n",
       "<style scoped>\n",
       "    .dataframe tbody tr th:only-of-type {\n",
       "        vertical-align: middle;\n",
       "    }\n",
       "\n",
       "    .dataframe tbody tr th {\n",
       "        vertical-align: top;\n",
       "    }\n",
       "\n",
       "    .dataframe thead th {\n",
       "        text-align: right;\n",
       "    }\n",
       "</style>\n",
       "<table border=\"1\" class=\"dataframe\">\n",
       "  <thead>\n",
       "    <tr style=\"text-align: right;\">\n",
       "      <th></th>\n",
       "      <th>id</th>\n",
       "      <th>mb_used</th>\n",
       "      <th>session_date</th>\n",
       "      <th>user_id</th>\n",
       "      <th>month</th>\n",
       "      <th>gb_used</th>\n",
       "    </tr>\n",
       "  </thead>\n",
       "  <tbody>\n",
       "    <tr>\n",
       "      <th>0</th>\n",
       "      <td>1000_0</td>\n",
       "      <td>112.95</td>\n",
       "      <td>2018-11-25</td>\n",
       "      <td>1000</td>\n",
       "      <td>11</td>\n",
       "      <td>0.110303</td>\n",
       "    </tr>\n",
       "    <tr>\n",
       "      <th>1</th>\n",
       "      <td>1000_1</td>\n",
       "      <td>1052.81</td>\n",
       "      <td>2018-09-07</td>\n",
       "      <td>1000</td>\n",
       "      <td>9</td>\n",
       "      <td>1.028135</td>\n",
       "    </tr>\n",
       "    <tr>\n",
       "      <th>2</th>\n",
       "      <td>1000_2</td>\n",
       "      <td>1197.26</td>\n",
       "      <td>2018-06-25</td>\n",
       "      <td>1000</td>\n",
       "      <td>6</td>\n",
       "      <td>1.169199</td>\n",
       "    </tr>\n",
       "    <tr>\n",
       "      <th>3</th>\n",
       "      <td>1000_3</td>\n",
       "      <td>550.27</td>\n",
       "      <td>2018-08-22</td>\n",
       "      <td>1000</td>\n",
       "      <td>8</td>\n",
       "      <td>0.537373</td>\n",
       "    </tr>\n",
       "    <tr>\n",
       "      <th>4</th>\n",
       "      <td>1000_4</td>\n",
       "      <td>302.56</td>\n",
       "      <td>2018-09-24</td>\n",
       "      <td>1000</td>\n",
       "      <td>9</td>\n",
       "      <td>0.295469</td>\n",
       "    </tr>\n",
       "  </tbody>\n",
       "</table>\n",
       "</div>"
      ],
      "text/plain": [
       "       id  mb_used session_date  user_id  month   gb_used\n",
       "0  1000_0   112.95   2018-11-25     1000     11  0.110303\n",
       "1  1000_1  1052.81   2018-09-07     1000      9  1.028135\n",
       "2  1000_2  1197.26   2018-06-25     1000      6  1.169199\n",
       "3  1000_3   550.27   2018-08-22     1000      8  0.537373\n",
       "4  1000_4   302.56   2018-09-24     1000      9  0.295469"
      ]
     },
     "execution_count": 17,
     "metadata": {},
     "output_type": "execute_result"
    }
   ],
   "source": [
    "internet['month'] = pd.DatetimeIndex(internet['session_date']).month\n",
    "internet['gb_used'] = internet['mb_used']/ 1024\n",
    "internet.head()"
   ]
  },
  {
   "cell_type": "code",
   "execution_count": 18,
   "id": "63ab3e65",
   "metadata": {},
   "outputs": [
    {
     "data": {
      "text/html": [
       "<div>\n",
       "<style scoped>\n",
       "    .dataframe tbody tr th:only-of-type {\n",
       "        vertical-align: middle;\n",
       "    }\n",
       "\n",
       "    .dataframe tbody tr th {\n",
       "        vertical-align: top;\n",
       "    }\n",
       "\n",
       "    .dataframe thead th {\n",
       "        text-align: right;\n",
       "    }\n",
       "</style>\n",
       "<table border=\"1\" class=\"dataframe\">\n",
       "  <thead>\n",
       "    <tr style=\"text-align: right;\">\n",
       "      <th></th>\n",
       "      <th>user_id</th>\n",
       "      <th>month</th>\n",
       "      <th>gb_used</th>\n",
       "    </tr>\n",
       "  </thead>\n",
       "  <tbody>\n",
       "    <tr>\n",
       "      <th>0</th>\n",
       "      <td>1000</td>\n",
       "      <td>5</td>\n",
       "      <td>2.200674</td>\n",
       "    </tr>\n",
       "    <tr>\n",
       "      <th>1</th>\n",
       "      <td>1000</td>\n",
       "      <td>6</td>\n",
       "      <td>22.689229</td>\n",
       "    </tr>\n",
       "    <tr>\n",
       "      <th>2</th>\n",
       "      <td>1000</td>\n",
       "      <td>7</td>\n",
       "      <td>13.675430</td>\n",
       "    </tr>\n",
       "    <tr>\n",
       "      <th>3</th>\n",
       "      <td>1000</td>\n",
       "      <td>8</td>\n",
       "      <td>13.726494</td>\n",
       "    </tr>\n",
       "    <tr>\n",
       "      <th>4</th>\n",
       "      <td>1000</td>\n",
       "      <td>9</td>\n",
       "      <td>14.227451</td>\n",
       "    </tr>\n",
       "  </tbody>\n",
       "</table>\n",
       "</div>"
      ],
      "text/plain": [
       "   user_id  month    gb_used\n",
       "0     1000      5   2.200674\n",
       "1     1000      6  22.689229\n",
       "2     1000      7  13.675430\n",
       "3     1000      8  13.726494\n",
       "4     1000      9  14.227451"
      ]
     },
     "execution_count": 18,
     "metadata": {},
     "output_type": "execute_result"
    }
   ],
   "source": [
    "#Создадим сводную таблицу\n",
    "internet_pivot_table = internet.pivot_table(\n",
    "    index=['user_id', 'month'], values='gb_used', aggfunc='sum'\n",
    ").reset_index()\n",
    "\n",
    "internet_pivot_table.head()"
   ]
  },
  {
   "cell_type": "markdown",
   "id": "937e87a9",
   "metadata": {},
   "source": [
    "Нам нужно округлить объем трафика в большую сторону"
   ]
  },
  {
   "cell_type": "code",
   "execution_count": 19,
   "id": "035f5e98",
   "metadata": {},
   "outputs": [
    {
     "data": {
      "text/html": [
       "<div>\n",
       "<style scoped>\n",
       "    .dataframe tbody tr th:only-of-type {\n",
       "        vertical-align: middle;\n",
       "    }\n",
       "\n",
       "    .dataframe tbody tr th {\n",
       "        vertical-align: top;\n",
       "    }\n",
       "\n",
       "    .dataframe thead th {\n",
       "        text-align: right;\n",
       "    }\n",
       "</style>\n",
       "<table border=\"1\" class=\"dataframe\">\n",
       "  <thead>\n",
       "    <tr style=\"text-align: right;\">\n",
       "      <th></th>\n",
       "      <th>user_id</th>\n",
       "      <th>month</th>\n",
       "      <th>gb_used</th>\n",
       "    </tr>\n",
       "  </thead>\n",
       "  <tbody>\n",
       "    <tr>\n",
       "      <th>0</th>\n",
       "      <td>1000</td>\n",
       "      <td>5</td>\n",
       "      <td>3</td>\n",
       "    </tr>\n",
       "    <tr>\n",
       "      <th>1</th>\n",
       "      <td>1000</td>\n",
       "      <td>6</td>\n",
       "      <td>23</td>\n",
       "    </tr>\n",
       "    <tr>\n",
       "      <th>2</th>\n",
       "      <td>1000</td>\n",
       "      <td>7</td>\n",
       "      <td>14</td>\n",
       "    </tr>\n",
       "    <tr>\n",
       "      <th>3</th>\n",
       "      <td>1000</td>\n",
       "      <td>8</td>\n",
       "      <td>14</td>\n",
       "    </tr>\n",
       "    <tr>\n",
       "      <th>4</th>\n",
       "      <td>1000</td>\n",
       "      <td>9</td>\n",
       "      <td>15</td>\n",
       "    </tr>\n",
       "  </tbody>\n",
       "</table>\n",
       "</div>"
      ],
      "text/plain": [
       "   user_id  month  gb_used\n",
       "0     1000      5        3\n",
       "1     1000      6       23\n",
       "2     1000      7       14\n",
       "3     1000      8       14\n",
       "4     1000      9       15"
      ]
     },
     "execution_count": 19,
     "metadata": {},
     "output_type": "execute_result"
    }
   ],
   "source": [
    "internet_pivot_table = np.ceil(internet_pivot_table).astype('int')\n",
    "internet_pivot_table.head()"
   ]
  },
  {
   "cell_type": "markdown",
   "id": "0bdab152",
   "metadata": {},
   "source": [
    "**Объединим сводные таблицы**"
   ]
  },
  {
   "cell_type": "code",
   "execution_count": 20,
   "id": "3477d342",
   "metadata": {},
   "outputs": [
    {
     "data": {
      "text/html": [
       "<div>\n",
       "<style scoped>\n",
       "    .dataframe tbody tr th:only-of-type {\n",
       "        vertical-align: middle;\n",
       "    }\n",
       "\n",
       "    .dataframe tbody tr th {\n",
       "        vertical-align: top;\n",
       "    }\n",
       "\n",
       "    .dataframe thead th {\n",
       "        text-align: right;\n",
       "    }\n",
       "</style>\n",
       "<table border=\"1\" class=\"dataframe\">\n",
       "  <thead>\n",
       "    <tr style=\"text-align: right;\">\n",
       "      <th></th>\n",
       "      <th>user_id</th>\n",
       "      <th>month</th>\n",
       "      <th>calls_count</th>\n",
       "      <th>calls_sum</th>\n",
       "      <th>messages_count</th>\n",
       "      <th>gb_used</th>\n",
       "    </tr>\n",
       "  </thead>\n",
       "  <tbody>\n",
       "    <tr>\n",
       "      <th>0</th>\n",
       "      <td>1000</td>\n",
       "      <td>5</td>\n",
       "      <td>22.0</td>\n",
       "      <td>159.0</td>\n",
       "      <td>22.0</td>\n",
       "      <td>3.0</td>\n",
       "    </tr>\n",
       "    <tr>\n",
       "      <th>1</th>\n",
       "      <td>1000</td>\n",
       "      <td>6</td>\n",
       "      <td>43.0</td>\n",
       "      <td>172.0</td>\n",
       "      <td>60.0</td>\n",
       "      <td>23.0</td>\n",
       "    </tr>\n",
       "    <tr>\n",
       "      <th>2</th>\n",
       "      <td>1000</td>\n",
       "      <td>7</td>\n",
       "      <td>47.0</td>\n",
       "      <td>340.0</td>\n",
       "      <td>75.0</td>\n",
       "      <td>14.0</td>\n",
       "    </tr>\n",
       "    <tr>\n",
       "      <th>3</th>\n",
       "      <td>1000</td>\n",
       "      <td>8</td>\n",
       "      <td>52.0</td>\n",
       "      <td>408.0</td>\n",
       "      <td>81.0</td>\n",
       "      <td>14.0</td>\n",
       "    </tr>\n",
       "    <tr>\n",
       "      <th>4</th>\n",
       "      <td>1000</td>\n",
       "      <td>9</td>\n",
       "      <td>58.0</td>\n",
       "      <td>466.0</td>\n",
       "      <td>57.0</td>\n",
       "      <td>15.0</td>\n",
       "    </tr>\n",
       "  </tbody>\n",
       "</table>\n",
       "</div>"
      ],
      "text/plain": [
       "   user_id  month  calls_count  calls_sum  messages_count  gb_used\n",
       "0     1000      5         22.0      159.0            22.0      3.0\n",
       "1     1000      6         43.0      172.0            60.0     23.0\n",
       "2     1000      7         47.0      340.0            75.0     14.0\n",
       "3     1000      8         52.0      408.0            81.0     14.0\n",
       "4     1000      9         58.0      466.0            57.0     15.0"
      ]
     },
     "execution_count": 20,
     "metadata": {},
     "output_type": "execute_result"
    }
   ],
   "source": [
    "df_pivot = calls_pivot_table.merge(messages_pivot_table, on=['user_id', 'month'], how='outer')\n",
    "\n",
    "df_pivot = df_pivot.merge(internet_pivot_table, on=['user_id', 'month'], how='outer')\n",
    "\n",
    "df_pivot.head()"
   ]
  },
  {
   "cell_type": "markdown",
   "id": "2e283df4",
   "metadata": {},
   "source": [
    "Добавим тариф для каждого пользователя"
   ]
  },
  {
   "cell_type": "code",
   "execution_count": 21,
   "id": "5d1e3b00",
   "metadata": {},
   "outputs": [
    {
     "data": {
      "text/html": [
       "<div>\n",
       "<style scoped>\n",
       "    .dataframe tbody tr th:only-of-type {\n",
       "        vertical-align: middle;\n",
       "    }\n",
       "\n",
       "    .dataframe tbody tr th {\n",
       "        vertical-align: top;\n",
       "    }\n",
       "\n",
       "    .dataframe thead th {\n",
       "        text-align: right;\n",
       "    }\n",
       "</style>\n",
       "<table border=\"1\" class=\"dataframe\">\n",
       "  <thead>\n",
       "    <tr style=\"text-align: right;\">\n",
       "      <th></th>\n",
       "      <th>user_id</th>\n",
       "      <th>month</th>\n",
       "      <th>calls_count</th>\n",
       "      <th>calls_sum</th>\n",
       "      <th>messages_count</th>\n",
       "      <th>gb_used</th>\n",
       "      <th>tariff</th>\n",
       "    </tr>\n",
       "  </thead>\n",
       "  <tbody>\n",
       "    <tr>\n",
       "      <th>0</th>\n",
       "      <td>1000</td>\n",
       "      <td>5.0</td>\n",
       "      <td>22.0</td>\n",
       "      <td>159.0</td>\n",
       "      <td>22.0</td>\n",
       "      <td>3.0</td>\n",
       "      <td>ultra</td>\n",
       "    </tr>\n",
       "    <tr>\n",
       "      <th>1</th>\n",
       "      <td>1000</td>\n",
       "      <td>6.0</td>\n",
       "      <td>43.0</td>\n",
       "      <td>172.0</td>\n",
       "      <td>60.0</td>\n",
       "      <td>23.0</td>\n",
       "      <td>ultra</td>\n",
       "    </tr>\n",
       "    <tr>\n",
       "      <th>2</th>\n",
       "      <td>1000</td>\n",
       "      <td>7.0</td>\n",
       "      <td>47.0</td>\n",
       "      <td>340.0</td>\n",
       "      <td>75.0</td>\n",
       "      <td>14.0</td>\n",
       "      <td>ultra</td>\n",
       "    </tr>\n",
       "    <tr>\n",
       "      <th>3</th>\n",
       "      <td>1000</td>\n",
       "      <td>8.0</td>\n",
       "      <td>52.0</td>\n",
       "      <td>408.0</td>\n",
       "      <td>81.0</td>\n",
       "      <td>14.0</td>\n",
       "      <td>ultra</td>\n",
       "    </tr>\n",
       "    <tr>\n",
       "      <th>4</th>\n",
       "      <td>1000</td>\n",
       "      <td>9.0</td>\n",
       "      <td>58.0</td>\n",
       "      <td>466.0</td>\n",
       "      <td>57.0</td>\n",
       "      <td>15.0</td>\n",
       "      <td>ultra</td>\n",
       "    </tr>\n",
       "  </tbody>\n",
       "</table>\n",
       "</div>"
      ],
      "text/plain": [
       "   user_id  month  calls_count  calls_sum  messages_count  gb_used tariff\n",
       "0     1000    5.0         22.0      159.0            22.0      3.0  ultra\n",
       "1     1000    6.0         43.0      172.0            60.0     23.0  ultra\n",
       "2     1000    7.0         47.0      340.0            75.0     14.0  ultra\n",
       "3     1000    8.0         52.0      408.0            81.0     14.0  ultra\n",
       "4     1000    9.0         58.0      466.0            57.0     15.0  ultra"
      ]
     },
     "execution_count": 21,
     "metadata": {},
     "output_type": "execute_result"
    }
   ],
   "source": [
    "df_pivot = df_pivot.merge(users, on='user_id', how='outer')\n",
    "\n",
    "#Удалим столбцы, которые не потребуются для исследования\n",
    "df_pivot = df_pivot.drop(\n",
    "    columns=['age', 'churn_date', 'city', 'first_name', 'last_name', 'reg_date'], axis=1\n",
    ")\n",
    "\n",
    "df_pivot.head()"
   ]
  },
  {
   "cell_type": "code",
   "execution_count": 22,
   "id": "4b79abde",
   "metadata": {},
   "outputs": [],
   "source": [
    "df_pivot = df_pivot.rename(columns={'tariff':'tariff_name'}) #переименуем столбец"
   ]
  },
  {
   "cell_type": "code",
   "execution_count": 23,
   "id": "d4993ac8",
   "metadata": {},
   "outputs": [
    {
     "data": {
      "text/html": [
       "<div>\n",
       "<style scoped>\n",
       "    .dataframe tbody tr th:only-of-type {\n",
       "        vertical-align: middle;\n",
       "    }\n",
       "\n",
       "    .dataframe tbody tr th {\n",
       "        vertical-align: top;\n",
       "    }\n",
       "\n",
       "    .dataframe thead th {\n",
       "        text-align: right;\n",
       "    }\n",
       "</style>\n",
       "<table border=\"1\" class=\"dataframe\">\n",
       "  <thead>\n",
       "    <tr style=\"text-align: right;\">\n",
       "      <th></th>\n",
       "      <th>user_id</th>\n",
       "      <th>month</th>\n",
       "      <th>calls_count</th>\n",
       "      <th>calls_sum</th>\n",
       "      <th>messages_count</th>\n",
       "      <th>gb_used</th>\n",
       "      <th>tariff_name</th>\n",
       "      <th>messages_included</th>\n",
       "      <th>mb_per_month_included</th>\n",
       "      <th>minutes_included</th>\n",
       "      <th>rub_monthly_fee</th>\n",
       "      <th>rub_per_gb</th>\n",
       "      <th>rub_per_message</th>\n",
       "      <th>rub_per_minute</th>\n",
       "    </tr>\n",
       "  </thead>\n",
       "  <tbody>\n",
       "    <tr>\n",
       "      <th>0</th>\n",
       "      <td>1000</td>\n",
       "      <td>5.0</td>\n",
       "      <td>22.0</td>\n",
       "      <td>159.0</td>\n",
       "      <td>22.0</td>\n",
       "      <td>3.0</td>\n",
       "      <td>ultra</td>\n",
       "      <td>1000</td>\n",
       "      <td>30720</td>\n",
       "      <td>3000</td>\n",
       "      <td>1950</td>\n",
       "      <td>150</td>\n",
       "      <td>1</td>\n",
       "      <td>1</td>\n",
       "    </tr>\n",
       "    <tr>\n",
       "      <th>1</th>\n",
       "      <td>1000</td>\n",
       "      <td>6.0</td>\n",
       "      <td>43.0</td>\n",
       "      <td>172.0</td>\n",
       "      <td>60.0</td>\n",
       "      <td>23.0</td>\n",
       "      <td>ultra</td>\n",
       "      <td>1000</td>\n",
       "      <td>30720</td>\n",
       "      <td>3000</td>\n",
       "      <td>1950</td>\n",
       "      <td>150</td>\n",
       "      <td>1</td>\n",
       "      <td>1</td>\n",
       "    </tr>\n",
       "    <tr>\n",
       "      <th>2</th>\n",
       "      <td>1000</td>\n",
       "      <td>7.0</td>\n",
       "      <td>47.0</td>\n",
       "      <td>340.0</td>\n",
       "      <td>75.0</td>\n",
       "      <td>14.0</td>\n",
       "      <td>ultra</td>\n",
       "      <td>1000</td>\n",
       "      <td>30720</td>\n",
       "      <td>3000</td>\n",
       "      <td>1950</td>\n",
       "      <td>150</td>\n",
       "      <td>1</td>\n",
       "      <td>1</td>\n",
       "    </tr>\n",
       "    <tr>\n",
       "      <th>3</th>\n",
       "      <td>1000</td>\n",
       "      <td>8.0</td>\n",
       "      <td>52.0</td>\n",
       "      <td>408.0</td>\n",
       "      <td>81.0</td>\n",
       "      <td>14.0</td>\n",
       "      <td>ultra</td>\n",
       "      <td>1000</td>\n",
       "      <td>30720</td>\n",
       "      <td>3000</td>\n",
       "      <td>1950</td>\n",
       "      <td>150</td>\n",
       "      <td>1</td>\n",
       "      <td>1</td>\n",
       "    </tr>\n",
       "    <tr>\n",
       "      <th>4</th>\n",
       "      <td>1000</td>\n",
       "      <td>9.0</td>\n",
       "      <td>58.0</td>\n",
       "      <td>466.0</td>\n",
       "      <td>57.0</td>\n",
       "      <td>15.0</td>\n",
       "      <td>ultra</td>\n",
       "      <td>1000</td>\n",
       "      <td>30720</td>\n",
       "      <td>3000</td>\n",
       "      <td>1950</td>\n",
       "      <td>150</td>\n",
       "      <td>1</td>\n",
       "      <td>1</td>\n",
       "    </tr>\n",
       "  </tbody>\n",
       "</table>\n",
       "</div>"
      ],
      "text/plain": [
       "   user_id  month  calls_count  calls_sum  messages_count  gb_used  \\\n",
       "0     1000    5.0         22.0      159.0            22.0      3.0   \n",
       "1     1000    6.0         43.0      172.0            60.0     23.0   \n",
       "2     1000    7.0         47.0      340.0            75.0     14.0   \n",
       "3     1000    8.0         52.0      408.0            81.0     14.0   \n",
       "4     1000    9.0         58.0      466.0            57.0     15.0   \n",
       "\n",
       "  tariff_name  messages_included  mb_per_month_included  minutes_included  \\\n",
       "0       ultra               1000                  30720              3000   \n",
       "1       ultra               1000                  30720              3000   \n",
       "2       ultra               1000                  30720              3000   \n",
       "3       ultra               1000                  30720              3000   \n",
       "4       ultra               1000                  30720              3000   \n",
       "\n",
       "   rub_monthly_fee  rub_per_gb  rub_per_message  rub_per_minute  \n",
       "0             1950         150                1               1  \n",
       "1             1950         150                1               1  \n",
       "2             1950         150                1               1  \n",
       "3             1950         150                1               1  \n",
       "4             1950         150                1               1  "
      ]
     },
     "execution_count": 23,
     "metadata": {},
     "output_type": "execute_result"
    }
   ],
   "source": [
    "#Объединим таблицы для дальнейшего исследования \n",
    "df_pivot = df_pivot.merge(tariffs, on='tariff_name', how='outer')\n",
    "df_pivot.head()"
   ]
  },
  {
   "cell_type": "markdown",
   "id": "a6d4f098",
   "metadata": {},
   "source": [
    "У нас есть пропуски, которые мы заменим на специальный символ ``0``"
   ]
  },
  {
   "cell_type": "code",
   "execution_count": 24,
   "id": "e4fb6181",
   "metadata": {},
   "outputs": [],
   "source": [
    "df_pivot = df_pivot.fillna(value=0) #заменим пропуски"
   ]
  },
  {
   "cell_type": "markdown",
   "id": "7e872f12",
   "metadata": {},
   "source": [
    "Отлично! Мы подготовили сводные таблицы для дальнейших расчетов"
   ]
  },
  {
   "cell_type": "code",
   "execution_count": 25,
   "id": "a533f177",
   "metadata": {},
   "outputs": [],
   "source": [
    "#Нам нужно посчитать, сколько минут пользователь проговорил сверх тарифа\n",
    "df_pivot['calls_overrun'] = df_pivot['calls_sum'] - df_pivot['minutes_included']\n",
    "\n",
    "#Посчитаем количество отправленных сообщений сверх тарифа\n",
    "df_pivot['messages_overrun'] = df_pivot['messages_count'] - df_pivot['messages_included']"
   ]
  },
  {
   "cell_type": "markdown",
   "id": "e3148eb9",
   "metadata": {},
   "source": [
    "Для того, чтобы посчитать, не вышел ли пользователь за пределы тарифа - нужно добавить столбец, где мы переведем ``mb_per_month_included`` в ``gb_per_month_included``"
   ]
  },
  {
   "cell_type": "code",
   "execution_count": 26,
   "id": "a4e578f4",
   "metadata": {},
   "outputs": [],
   "source": [
    "df_pivot['gb_per_month_included'] = df_pivot['mb_per_month_included']/1024\n",
    "df_pivot['gb_per_month_included'] = df_pivot['gb_per_month_included'].astype('int')"
   ]
  },
  {
   "cell_type": "code",
   "execution_count": 27,
   "id": "bc928601",
   "metadata": {},
   "outputs": [],
   "source": [
    "#Теперь можем посчитать, на сколько превысил тариф пользователь\n",
    "df_pivot['gb_overrun'] = df_pivot['gb_used'] - df_pivot['gb_per_month_included']"
   ]
  },
  {
   "cell_type": "markdown",
   "id": "39053487",
   "metadata": {},
   "source": [
    "Нам нужно посчитать помесячную выручку по каждому пользвателю. Для этого создадим функцию"
   ]
  },
  {
   "cell_type": "code",
   "execution_count": 28,
   "id": "4637443c",
   "metadata": {
    "scrolled": false
   },
   "outputs": [
    {
     "data": {
      "text/html": [
       "<div>\n",
       "<style scoped>\n",
       "    .dataframe tbody tr th:only-of-type {\n",
       "        vertical-align: middle;\n",
       "    }\n",
       "\n",
       "    .dataframe tbody tr th {\n",
       "        vertical-align: top;\n",
       "    }\n",
       "\n",
       "    .dataframe thead th {\n",
       "        text-align: right;\n",
       "    }\n",
       "</style>\n",
       "<table border=\"1\" class=\"dataframe\">\n",
       "  <thead>\n",
       "    <tr style=\"text-align: right;\">\n",
       "      <th></th>\n",
       "      <th>user_id</th>\n",
       "      <th>month</th>\n",
       "      <th>calls_count</th>\n",
       "      <th>calls_sum</th>\n",
       "      <th>messages_count</th>\n",
       "      <th>gb_used</th>\n",
       "      <th>tariff_name</th>\n",
       "      <th>messages_included</th>\n",
       "      <th>mb_per_month_included</th>\n",
       "      <th>minutes_included</th>\n",
       "      <th>rub_monthly_fee</th>\n",
       "      <th>rub_per_gb</th>\n",
       "      <th>rub_per_message</th>\n",
       "      <th>rub_per_minute</th>\n",
       "      <th>calls_overrun</th>\n",
       "      <th>messages_overrun</th>\n",
       "      <th>gb_per_month_included</th>\n",
       "      <th>gb_overrun</th>\n",
       "      <th>revenue</th>\n",
       "    </tr>\n",
       "  </thead>\n",
       "  <tbody>\n",
       "    <tr>\n",
       "      <th>0</th>\n",
       "      <td>1000</td>\n",
       "      <td>5.0</td>\n",
       "      <td>22.0</td>\n",
       "      <td>159.0</td>\n",
       "      <td>22.0</td>\n",
       "      <td>3.0</td>\n",
       "      <td>ultra</td>\n",
       "      <td>1000</td>\n",
       "      <td>30720</td>\n",
       "      <td>3000</td>\n",
       "      <td>1950</td>\n",
       "      <td>150</td>\n",
       "      <td>1</td>\n",
       "      <td>1</td>\n",
       "      <td>-2841.0</td>\n",
       "      <td>-978.0</td>\n",
       "      <td>30</td>\n",
       "      <td>-27.0</td>\n",
       "      <td>1950.0</td>\n",
       "    </tr>\n",
       "    <tr>\n",
       "      <th>1</th>\n",
       "      <td>1000</td>\n",
       "      <td>6.0</td>\n",
       "      <td>43.0</td>\n",
       "      <td>172.0</td>\n",
       "      <td>60.0</td>\n",
       "      <td>23.0</td>\n",
       "      <td>ultra</td>\n",
       "      <td>1000</td>\n",
       "      <td>30720</td>\n",
       "      <td>3000</td>\n",
       "      <td>1950</td>\n",
       "      <td>150</td>\n",
       "      <td>1</td>\n",
       "      <td>1</td>\n",
       "      <td>-2828.0</td>\n",
       "      <td>-940.0</td>\n",
       "      <td>30</td>\n",
       "      <td>-7.0</td>\n",
       "      <td>1950.0</td>\n",
       "    </tr>\n",
       "    <tr>\n",
       "      <th>2</th>\n",
       "      <td>1000</td>\n",
       "      <td>7.0</td>\n",
       "      <td>47.0</td>\n",
       "      <td>340.0</td>\n",
       "      <td>75.0</td>\n",
       "      <td>14.0</td>\n",
       "      <td>ultra</td>\n",
       "      <td>1000</td>\n",
       "      <td>30720</td>\n",
       "      <td>3000</td>\n",
       "      <td>1950</td>\n",
       "      <td>150</td>\n",
       "      <td>1</td>\n",
       "      <td>1</td>\n",
       "      <td>-2660.0</td>\n",
       "      <td>-925.0</td>\n",
       "      <td>30</td>\n",
       "      <td>-16.0</td>\n",
       "      <td>1950.0</td>\n",
       "    </tr>\n",
       "    <tr>\n",
       "      <th>3</th>\n",
       "      <td>1000</td>\n",
       "      <td>8.0</td>\n",
       "      <td>52.0</td>\n",
       "      <td>408.0</td>\n",
       "      <td>81.0</td>\n",
       "      <td>14.0</td>\n",
       "      <td>ultra</td>\n",
       "      <td>1000</td>\n",
       "      <td>30720</td>\n",
       "      <td>3000</td>\n",
       "      <td>1950</td>\n",
       "      <td>150</td>\n",
       "      <td>1</td>\n",
       "      <td>1</td>\n",
       "      <td>-2592.0</td>\n",
       "      <td>-919.0</td>\n",
       "      <td>30</td>\n",
       "      <td>-16.0</td>\n",
       "      <td>1950.0</td>\n",
       "    </tr>\n",
       "    <tr>\n",
       "      <th>4</th>\n",
       "      <td>1000</td>\n",
       "      <td>9.0</td>\n",
       "      <td>58.0</td>\n",
       "      <td>466.0</td>\n",
       "      <td>57.0</td>\n",
       "      <td>15.0</td>\n",
       "      <td>ultra</td>\n",
       "      <td>1000</td>\n",
       "      <td>30720</td>\n",
       "      <td>3000</td>\n",
       "      <td>1950</td>\n",
       "      <td>150</td>\n",
       "      <td>1</td>\n",
       "      <td>1</td>\n",
       "      <td>-2534.0</td>\n",
       "      <td>-943.0</td>\n",
       "      <td>30</td>\n",
       "      <td>-15.0</td>\n",
       "      <td>1950.0</td>\n",
       "    </tr>\n",
       "  </tbody>\n",
       "</table>\n",
       "</div>"
      ],
      "text/plain": [
       "   user_id  month  calls_count  calls_sum  messages_count  gb_used  \\\n",
       "0     1000    5.0         22.0      159.0            22.0      3.0   \n",
       "1     1000    6.0         43.0      172.0            60.0     23.0   \n",
       "2     1000    7.0         47.0      340.0            75.0     14.0   \n",
       "3     1000    8.0         52.0      408.0            81.0     14.0   \n",
       "4     1000    9.0         58.0      466.0            57.0     15.0   \n",
       "\n",
       "  tariff_name  messages_included  mb_per_month_included  minutes_included  \\\n",
       "0       ultra               1000                  30720              3000   \n",
       "1       ultra               1000                  30720              3000   \n",
       "2       ultra               1000                  30720              3000   \n",
       "3       ultra               1000                  30720              3000   \n",
       "4       ultra               1000                  30720              3000   \n",
       "\n",
       "   rub_monthly_fee  rub_per_gb  rub_per_message  rub_per_minute  \\\n",
       "0             1950         150                1               1   \n",
       "1             1950         150                1               1   \n",
       "2             1950         150                1               1   \n",
       "3             1950         150                1               1   \n",
       "4             1950         150                1               1   \n",
       "\n",
       "   calls_overrun  messages_overrun  gb_per_month_included  gb_overrun  revenue  \n",
       "0        -2841.0            -978.0                     30       -27.0   1950.0  \n",
       "1        -2828.0            -940.0                     30        -7.0   1950.0  \n",
       "2        -2660.0            -925.0                     30       -16.0   1950.0  \n",
       "3        -2592.0            -919.0                     30       -16.0   1950.0  \n",
       "4        -2534.0            -943.0                     30       -15.0   1950.0  "
      ]
     },
     "execution_count": 28,
     "metadata": {},
     "output_type": "execute_result"
    }
   ],
   "source": [
    "def get_revenue(row):\n",
    "    revenue_by_min = 0\n",
    "    revenue_by_messages = 0\n",
    "    revenue_gb = 0\n",
    "    \n",
    "    if row['calls_overrun'] > 0:\n",
    "        revenue_by_min = row['calls_overrun'] * row['rub_per_minute']\n",
    "    if row['messages_overrun'] > 0:\n",
    "        revenue_by_messages = row['messages_overrun'] * row['rub_per_message']\n",
    "    if row['gb_overrun'] > 0:\n",
    "        revenue_gb = row['gb_overrun'] * row['rub_per_gb']\n",
    "    return revenue_by_min + revenue_by_messages + revenue_gb + row['rub_monthly_fee']\n",
    "\n",
    "df_pivot['revenue'] = df_pivot.apply(get_revenue, axis=1)\n",
    "\n",
    "df_pivot.head()"
   ]
  },
  {
   "cell_type": "markdown",
   "id": "79824c7d",
   "metadata": {},
   "source": [
    "Мы произвели расчеты по каждому пользвателю и теперь знаем, сколько он приносит денег в компанию каждый месяц"
   ]
  },
  {
   "cell_type": "markdown",
   "id": "497575ea",
   "metadata": {},
   "source": [
    "Для исследования нам понадобится столбец с городами"
   ]
  },
  {
   "cell_type": "code",
   "execution_count": 29,
   "id": "9e639bea",
   "metadata": {},
   "outputs": [],
   "source": [
    "df_pivot = df_pivot.merge(users, on='user_id', how='outer')"
   ]
  },
  {
   "cell_type": "code",
   "execution_count": 30,
   "id": "810ab147",
   "metadata": {},
   "outputs": [],
   "source": [
    "#Удалим ненужные столбцы\n",
    "df_pivot = df_pivot.drop(columns=['age', 'churn_date', 'first_name', 'last_name', 'reg_date', 'tariff'])"
   ]
  },
  {
   "cell_type": "code",
   "execution_count": 31,
   "id": "a30a2c2f",
   "metadata": {
    "scrolled": false
   },
   "outputs": [
    {
     "data": {
      "text/html": [
       "<div>\n",
       "<style scoped>\n",
       "    .dataframe tbody tr th:only-of-type {\n",
       "        vertical-align: middle;\n",
       "    }\n",
       "\n",
       "    .dataframe tbody tr th {\n",
       "        vertical-align: top;\n",
       "    }\n",
       "\n",
       "    .dataframe thead th {\n",
       "        text-align: right;\n",
       "    }\n",
       "</style>\n",
       "<table border=\"1\" class=\"dataframe\">\n",
       "  <thead>\n",
       "    <tr style=\"text-align: right;\">\n",
       "      <th></th>\n",
       "      <th>user_id</th>\n",
       "      <th>month</th>\n",
       "      <th>calls_count</th>\n",
       "      <th>calls_sum</th>\n",
       "      <th>messages_count</th>\n",
       "      <th>gb_used</th>\n",
       "      <th>tariff_name</th>\n",
       "      <th>messages_included</th>\n",
       "      <th>mb_per_month_included</th>\n",
       "      <th>minutes_included</th>\n",
       "      <th>rub_monthly_fee</th>\n",
       "      <th>rub_per_gb</th>\n",
       "      <th>rub_per_message</th>\n",
       "      <th>rub_per_minute</th>\n",
       "      <th>calls_overrun</th>\n",
       "      <th>messages_overrun</th>\n",
       "      <th>gb_per_month_included</th>\n",
       "      <th>gb_overrun</th>\n",
       "      <th>revenue</th>\n",
       "      <th>city</th>\n",
       "    </tr>\n",
       "  </thead>\n",
       "  <tbody>\n",
       "    <tr>\n",
       "      <th>0</th>\n",
       "      <td>1000</td>\n",
       "      <td>5.0</td>\n",
       "      <td>22.0</td>\n",
       "      <td>159.0</td>\n",
       "      <td>22.0</td>\n",
       "      <td>3.0</td>\n",
       "      <td>ultra</td>\n",
       "      <td>1000</td>\n",
       "      <td>30720</td>\n",
       "      <td>3000</td>\n",
       "      <td>1950</td>\n",
       "      <td>150</td>\n",
       "      <td>1</td>\n",
       "      <td>1</td>\n",
       "      <td>-2841.0</td>\n",
       "      <td>-978.0</td>\n",
       "      <td>30</td>\n",
       "      <td>-27.0</td>\n",
       "      <td>1950.0</td>\n",
       "      <td>Краснодар</td>\n",
       "    </tr>\n",
       "    <tr>\n",
       "      <th>1</th>\n",
       "      <td>1000</td>\n",
       "      <td>6.0</td>\n",
       "      <td>43.0</td>\n",
       "      <td>172.0</td>\n",
       "      <td>60.0</td>\n",
       "      <td>23.0</td>\n",
       "      <td>ultra</td>\n",
       "      <td>1000</td>\n",
       "      <td>30720</td>\n",
       "      <td>3000</td>\n",
       "      <td>1950</td>\n",
       "      <td>150</td>\n",
       "      <td>1</td>\n",
       "      <td>1</td>\n",
       "      <td>-2828.0</td>\n",
       "      <td>-940.0</td>\n",
       "      <td>30</td>\n",
       "      <td>-7.0</td>\n",
       "      <td>1950.0</td>\n",
       "      <td>Краснодар</td>\n",
       "    </tr>\n",
       "    <tr>\n",
       "      <th>2</th>\n",
       "      <td>1000</td>\n",
       "      <td>7.0</td>\n",
       "      <td>47.0</td>\n",
       "      <td>340.0</td>\n",
       "      <td>75.0</td>\n",
       "      <td>14.0</td>\n",
       "      <td>ultra</td>\n",
       "      <td>1000</td>\n",
       "      <td>30720</td>\n",
       "      <td>3000</td>\n",
       "      <td>1950</td>\n",
       "      <td>150</td>\n",
       "      <td>1</td>\n",
       "      <td>1</td>\n",
       "      <td>-2660.0</td>\n",
       "      <td>-925.0</td>\n",
       "      <td>30</td>\n",
       "      <td>-16.0</td>\n",
       "      <td>1950.0</td>\n",
       "      <td>Краснодар</td>\n",
       "    </tr>\n",
       "    <tr>\n",
       "      <th>3</th>\n",
       "      <td>1000</td>\n",
       "      <td>8.0</td>\n",
       "      <td>52.0</td>\n",
       "      <td>408.0</td>\n",
       "      <td>81.0</td>\n",
       "      <td>14.0</td>\n",
       "      <td>ultra</td>\n",
       "      <td>1000</td>\n",
       "      <td>30720</td>\n",
       "      <td>3000</td>\n",
       "      <td>1950</td>\n",
       "      <td>150</td>\n",
       "      <td>1</td>\n",
       "      <td>1</td>\n",
       "      <td>-2592.0</td>\n",
       "      <td>-919.0</td>\n",
       "      <td>30</td>\n",
       "      <td>-16.0</td>\n",
       "      <td>1950.0</td>\n",
       "      <td>Краснодар</td>\n",
       "    </tr>\n",
       "    <tr>\n",
       "      <th>4</th>\n",
       "      <td>1000</td>\n",
       "      <td>9.0</td>\n",
       "      <td>58.0</td>\n",
       "      <td>466.0</td>\n",
       "      <td>57.0</td>\n",
       "      <td>15.0</td>\n",
       "      <td>ultra</td>\n",
       "      <td>1000</td>\n",
       "      <td>30720</td>\n",
       "      <td>3000</td>\n",
       "      <td>1950</td>\n",
       "      <td>150</td>\n",
       "      <td>1</td>\n",
       "      <td>1</td>\n",
       "      <td>-2534.0</td>\n",
       "      <td>-943.0</td>\n",
       "      <td>30</td>\n",
       "      <td>-15.0</td>\n",
       "      <td>1950.0</td>\n",
       "      <td>Краснодар</td>\n",
       "    </tr>\n",
       "  </tbody>\n",
       "</table>\n",
       "</div>"
      ],
      "text/plain": [
       "   user_id  month  calls_count  calls_sum  messages_count  gb_used  \\\n",
       "0     1000    5.0         22.0      159.0            22.0      3.0   \n",
       "1     1000    6.0         43.0      172.0            60.0     23.0   \n",
       "2     1000    7.0         47.0      340.0            75.0     14.0   \n",
       "3     1000    8.0         52.0      408.0            81.0     14.0   \n",
       "4     1000    9.0         58.0      466.0            57.0     15.0   \n",
       "\n",
       "  tariff_name  messages_included  mb_per_month_included  minutes_included  \\\n",
       "0       ultra               1000                  30720              3000   \n",
       "1       ultra               1000                  30720              3000   \n",
       "2       ultra               1000                  30720              3000   \n",
       "3       ultra               1000                  30720              3000   \n",
       "4       ultra               1000                  30720              3000   \n",
       "\n",
       "   rub_monthly_fee  rub_per_gb  rub_per_message  rub_per_minute  \\\n",
       "0             1950         150                1               1   \n",
       "1             1950         150                1               1   \n",
       "2             1950         150                1               1   \n",
       "3             1950         150                1               1   \n",
       "4             1950         150                1               1   \n",
       "\n",
       "   calls_overrun  messages_overrun  gb_per_month_included  gb_overrun  \\\n",
       "0        -2841.0            -978.0                     30       -27.0   \n",
       "1        -2828.0            -940.0                     30        -7.0   \n",
       "2        -2660.0            -925.0                     30       -16.0   \n",
       "3        -2592.0            -919.0                     30       -16.0   \n",
       "4        -2534.0            -943.0                     30       -15.0   \n",
       "\n",
       "   revenue       city  \n",
       "0   1950.0  Краснодар  \n",
       "1   1950.0  Краснодар  \n",
       "2   1950.0  Краснодар  \n",
       "3   1950.0  Краснодар  \n",
       "4   1950.0  Краснодар  "
      ]
     },
     "execution_count": 31,
     "metadata": {},
     "output_type": "execute_result"
    }
   ],
   "source": [
    "df_pivot.head()"
   ]
  },
  {
   "cell_type": "markdown",
   "id": "6c5fe937",
   "metadata": {},
   "source": [
    "Поменям тип данных на ``int``"
   ]
  },
  {
   "cell_type": "code",
   "execution_count": 32,
   "id": "df6f0928",
   "metadata": {},
   "outputs": [
    {
     "name": "stdout",
     "output_type": "stream",
     "text": [
      "<class 'pandas.core.frame.DataFrame'>\n",
      "Int64Index: 3216 entries, 0 to 3215\n",
      "Data columns (total 20 columns):\n",
      " #   Column                 Non-Null Count  Dtype \n",
      "---  ------                 --------------  ----- \n",
      " 0   user_id                3216 non-null   int64 \n",
      " 1   month                  3216 non-null   int64 \n",
      " 2   calls_count            3216 non-null   int64 \n",
      " 3   calls_sum              3216 non-null   int64 \n",
      " 4   messages_count         3216 non-null   int64 \n",
      " 5   gb_used                3216 non-null   int64 \n",
      " 6   tariff_name            3216 non-null   object\n",
      " 7   messages_included      3216 non-null   int64 \n",
      " 8   mb_per_month_included  3216 non-null   int64 \n",
      " 9   minutes_included       3216 non-null   int64 \n",
      " 10  rub_monthly_fee        3216 non-null   int64 \n",
      " 11  rub_per_gb             3216 non-null   int64 \n",
      " 12  rub_per_message        3216 non-null   int64 \n",
      " 13  rub_per_minute         3216 non-null   int64 \n",
      " 14  calls_overrun          3216 non-null   int64 \n",
      " 15  messages_overrun       3216 non-null   int64 \n",
      " 16  gb_per_month_included  3216 non-null   int64 \n",
      " 17  gb_overrun             3216 non-null   int64 \n",
      " 18  revenue                3216 non-null   int64 \n",
      " 19  city                   3216 non-null   object\n",
      "dtypes: int64(18), object(2)\n",
      "memory usage: 527.6+ KB\n"
     ]
    }
   ],
   "source": [
    "#Создадим функцию, чтобы поменять тип данных\n",
    "def type_df(row):\n",
    "    df_pivot[row] = df_pivot[row].astype('int')\n",
    "    \n",
    "df_pivot_list = ['month', 'calls_count', 'calls_sum', 'messages_count', \n",
    "                 'gb_used', 'calls_overrun', 'messages_overrun', 'gb_overrun', 'revenue'] \n",
    "\n",
    "type_df(df_pivot_list)\n",
    "\n",
    "df_pivot.info()"
   ]
  },
  {
   "cell_type": "markdown",
   "id": "bbb327c1",
   "metadata": {},
   "source": [
    "Таблица готова для анализа"
   ]
  },
  {
   "cell_type": "markdown",
   "id": "fbc49e3f",
   "metadata": {},
   "source": [
    "## Анализ данных"
   ]
  },
  {
   "cell_type": "markdown",
   "id": "7fe97011",
   "metadata": {},
   "source": [
    "**Выведем общую информацию по прибыли от каждого пользователя**"
   ]
  },
  {
   "cell_type": "code",
   "execution_count": 33,
   "id": "dbfdab78",
   "metadata": {},
   "outputs": [
    {
     "data": {
      "text/plain": [
       "count    3216.000000\n",
       "mean     1528.902674\n",
       "std       798.224060\n",
       "min       550.000000\n",
       "25%       750.000000\n",
       "50%      1653.500000\n",
       "75%      1950.000000\n",
       "max      6770.000000\n",
       "Name: revenue, dtype: float64"
      ]
     },
     "execution_count": 33,
     "metadata": {},
     "output_type": "execute_result"
    }
   ],
   "source": [
    "df_pivot['revenue'].describe()"
   ]
  },
  {
   "cell_type": "markdown",
   "id": "a4982c0f",
   "metadata": {},
   "source": [
    "В среднем пользователи тратят на связь 1528 руб. в месяц, минимум - это как раз тариф \"Смарт\" или 550 руб., а максимум 6770 руб. (кто-то любит поговорить)  \n",
    "Медианное значение близко к среднему - 1653 руб., величина стандартного отклонения - 798 руб., что говорит о том, что поведение одних пользователей сильно отличается от других  \n",
    "Также найдем дисперсию "
   ]
  },
  {
   "cell_type": "code",
   "execution_count": 34,
   "id": "c5bea0c0",
   "metadata": {},
   "outputs": [
    {
     "name": "stdout",
     "output_type": "stream",
     "text": [
      "Дисперсия прибыли равна: 636963.528152053\n"
     ]
    }
   ],
   "source": [
    "print('Дисперсия прибыли равна:', np.var(df_pivot['revenue'])) #найдем дисперсию"
   ]
  },
  {
   "cell_type": "markdown",
   "id": "1991f0fd",
   "metadata": {},
   "source": [
    "Разделим пользователей по тарифам, и посмотрим, как поменялась картинка по прибыли"
   ]
  },
  {
   "cell_type": "code",
   "execution_count": 35,
   "id": "690839a2",
   "metadata": {},
   "outputs": [],
   "source": [
    "#Объявим переменные \n",
    "df_ultra = df_pivot.query('tariff_name == \"ultra\"') \n",
    "df_smart = df_pivot.query('tariff_name == \"smart\"')"
   ]
  },
  {
   "cell_type": "code",
   "execution_count": 36,
   "id": "1cf26002",
   "metadata": {},
   "outputs": [
    {
     "name": "stdout",
     "output_type": "stream",
     "text": [
      "count     986.000000\n",
      "mean     2070.030426\n",
      "std       376.015578\n",
      "min      1950.000000\n",
      "25%      1950.000000\n",
      "50%      1950.000000\n",
      "75%      1950.000000\n",
      "max      4800.000000\n",
      "Name: revenue, dtype: float64\n",
      "\n",
      "count    2230.000000\n",
      "mean     1289.641704\n",
      "std       818.370799\n",
      "min       550.000000\n",
      "25%       550.000000\n",
      "50%      1021.000000\n",
      "75%      1750.000000\n",
      "max      6770.000000\n",
      "Name: revenue, dtype: float64\n"
     ]
    }
   ],
   "source": [
    "print(df_ultra['revenue'].describe())\n",
    "print()\n",
    "print(df_smart['revenue'].describe())"
   ]
  },
  {
   "cell_type": "code",
   "execution_count": 37,
   "id": "01145906",
   "metadata": {},
   "outputs": [
    {
     "name": "stdout",
     "output_type": "stream",
     "text": [
      "Дисперсия тарифа Ultra: 141244.31956107615\n",
      "\n",
      "Дисперсия тарифа Smart: 669430.4361979931\n"
     ]
    }
   ],
   "source": [
    "#Посчитаем дисперсии\n",
    "print('Дисперсия тарифа Ultra:', np.var(df_ultra['revenue']))\n",
    "print()\n",
    "print('Дисперсия тарифа Smart:', np.var(df_smart['revenue']))"
   ]
  },
  {
   "cell_type": "markdown",
   "id": "71878a44",
   "metadata": {},
   "source": [
    "У тарифа \"Ультра\" больше среднее и медианное значение. Это связано с тем, что сам тариф стоит дороже и минимальный чек у него 1950 руб., что сильно, почти в 4 раза, отличается от тарифа \"Смарт\"\n",
    "\n",
    "По выборке мы видим, что больше пользователей подключены на тарифе \"Смарт\"\n",
    "\n",
    "Стандартное отклонение больше у тарифа \"Смарт\", видимо на этом тарифе чаще происходят непредвиденные траты, что дает подтверждение максимальное значение 6770 руб. и Квартили, которые в тарифе \"Ультра\" одинаковые, а в тарифе \"Смарт\" уже разные\n",
    "\n",
    "Дисперсия также больше у тарифа \"Смарт\""
   ]
  },
  {
   "cell_type": "markdown",
   "id": "f4a71785",
   "metadata": {},
   "source": [
    "**Сравнение тарифов \"Ультра\" и \"Смарт\"**"
   ]
  },
  {
   "cell_type": "markdown",
   "id": "d24e8f3a",
   "metadata": {},
   "source": [
    "Опишем поведение клиентов оператора, исходя из выборки. Сколько минут разговора, сколько сообщений и какой объём интернет-трафика требуется пользователям каждого тарифа в месяц? Посчитаем среднее количество, дисперсию и стандартное отклонение."
   ]
  },
  {
   "cell_type": "code",
   "execution_count": 38,
   "id": "39d2aa62",
   "metadata": {},
   "outputs": [
    {
     "data": {
      "text/html": [
       "<div>\n",
       "<style scoped>\n",
       "    .dataframe tbody tr th:only-of-type {\n",
       "        vertical-align: middle;\n",
       "    }\n",
       "\n",
       "    .dataframe tbody tr th {\n",
       "        vertical-align: top;\n",
       "    }\n",
       "\n",
       "    .dataframe thead th {\n",
       "        text-align: right;\n",
       "    }\n",
       "</style>\n",
       "<table border=\"1\" class=\"dataframe\">\n",
       "  <thead>\n",
       "    <tr style=\"text-align: right;\">\n",
       "      <th></th>\n",
       "      <th>tariff_name</th>\n",
       "      <th>call_mean</th>\n",
       "      <th>messages_mean</th>\n",
       "      <th>internet_mean</th>\n",
       "      <th>payment_mean</th>\n",
       "      <th>call_var</th>\n",
       "      <th>messages_var</th>\n",
       "      <th>internet_var</th>\n",
       "      <th>payment_var</th>\n",
       "      <th>call_std</th>\n",
       "      <th>messages_std</th>\n",
       "      <th>internet_std</th>\n",
       "      <th>payment_std</th>\n",
       "    </tr>\n",
       "  </thead>\n",
       "  <tbody>\n",
       "    <tr>\n",
       "      <th>0</th>\n",
       "      <td>smart</td>\n",
       "      <td>417.75</td>\n",
       "      <td>16.32</td>\n",
       "      <td>33.37</td>\n",
       "      <td>1289.64</td>\n",
       "      <td>36281.39</td>\n",
       "      <td>33.13</td>\n",
       "      <td>796.96</td>\n",
       "      <td>669730.76</td>\n",
       "      <td>190.48</td>\n",
       "      <td>5.76</td>\n",
       "      <td>28.23</td>\n",
       "      <td>818.37</td>\n",
       "    </tr>\n",
       "    <tr>\n",
       "      <th>1</th>\n",
       "      <td>ultra</td>\n",
       "      <td>526.09</td>\n",
       "      <td>19.47</td>\n",
       "      <td>49.31</td>\n",
       "      <td>2070.03</td>\n",
       "      <td>101052.49</td>\n",
       "      <td>97.38</td>\n",
       "      <td>2285.42</td>\n",
       "      <td>141387.71</td>\n",
       "      <td>317.89</td>\n",
       "      <td>9.87</td>\n",
       "      <td>47.81</td>\n",
       "      <td>376.02</td>\n",
       "    </tr>\n",
       "  </tbody>\n",
       "</table>\n",
       "</div>"
      ],
      "text/plain": [
       "  tariff_name  call_mean  messages_mean  internet_mean  payment_mean  \\\n",
       "0       smart     417.75          16.32          33.37       1289.64   \n",
       "1       ultra     526.09          19.47          49.31       2070.03   \n",
       "\n",
       "    call_var  messages_var  internet_var  payment_var  call_std  messages_std  \\\n",
       "0   36281.39         33.13        796.96    669730.76    190.48          5.76   \n",
       "1  101052.49         97.38       2285.42    141387.71    317.89          9.87   \n",
       "\n",
       "   internet_std  payment_std  \n",
       "0         28.23       818.37  \n",
       "1         47.81       376.02  "
      ]
     },
     "execution_count": 38,
     "metadata": {},
     "output_type": "execute_result"
    }
   ],
   "source": [
    "data_agg = df_pivot.pivot_table(\n",
    "    index=['tariff_name'], \n",
    "    values= ['calls_sum', 'messages_count', 'gb_used', 'revenue'], \n",
    "    aggfunc=['mean', 'var', 'std']\n",
    ")\n",
    "\n",
    "# устраним двухэтажные названия\n",
    "data_agg.columns = ['call_mean', 'messages_mean', 'internet_mean', 'payment_mean',\n",
    "                      'call_var', 'messages_var', 'internet_var', 'payment_var',\n",
    "                      'call_std', 'messages_std', 'internet_std', 'payment_std']\n",
    "data_agg = data_agg.reset_index().round(2)\n",
    "data_agg"
   ]
  },
  {
   "cell_type": "markdown",
   "id": "f8c56a68",
   "metadata": {},
   "source": [
    "### Графики"
   ]
  },
  {
   "cell_type": "code",
   "execution_count": 39,
   "id": "5986b7bf",
   "metadata": {},
   "outputs": [
    {
     "data": {
      "image/png": "[encoded data removed]",
      "text/plain": [
       "<Figure size 600x500 with 1 Axes>"
      ]
     },
     "metadata": {},
     "output_type": "display_data"
    },
    {
     "data": {
      "image/png": "[encoded data removed]",
      "text/plain": [
       "<Figure size 600x500 with 1 Axes>"
      ]
     },
     "metadata": {},
     "output_type": "display_data"
    },
    {
     "data": {
      "image/png": "[encoded data removed]",
      "text/plain": [
       "<Figure size 600x500 with 1 Axes>"
      ]
     },
     "metadata": {},
     "output_type": "display_data"
    },
    {
     "data": {
      "image/png": "[encoded data removed]",
      "text/plain": [
       "<Figure size 600x500 with 1 Axes>"
      ]
     },
     "metadata": {},
     "output_type": "display_data"
    }
   ],
   "source": [
    "#Построим гистограму по звонкам\n",
    "calls=pd.DataFrame({\n",
    "    'Ультра':df_ultra['calls_sum'],\n",
    "    'Смарт':df_smart['calls_sum']\n",
    "})\n",
    "calls.plot(kind= 'hist', bins=10, grid=True, figsize=(6,5), alpha=0.6)\n",
    "plt.title('Распределение, звонки')\n",
    "plt.xlabel('Минуты')\n",
    "\n",
    "#Построим гистограму по сообщениям\n",
    "messages=pd.DataFrame({\n",
    "    'Ультра':df_ultra['messages_count'],\n",
    "    'Смарт':df_smart['messages_count']\n",
    "})\n",
    "messages.plot(kind='hist', bins=10, grid=True, figsize=(6,5), alpha=0.6)\n",
    "plt.title('Распределение, сообщения')\n",
    "plt.xlabel('Количество')\n",
    "\n",
    "#Построим гистограму по интернет-трафику\n",
    "internet=pd.DataFrame({\n",
    "    'Ультра':df_ultra['gb_used'],\n",
    "    'Смарт':df_smart['gb_used']\n",
    "})\n",
    "internet.plot(kind='hist', bins=10, grid=True, figsize=(6,5), alpha=0.6)\n",
    "plt.title('Распределение, интернет')\n",
    "plt.xlabel('Гб')\n",
    "\n",
    "#Посмтоим гистограму по оплате\n",
    "revenue=pd.DataFrame({\n",
    "    'Ультра':df_ultra['revenue'],\n",
    "    'Смарт':df_smart['revenue']\n",
    "})\n",
    "revenue.plot(kind='hist', bins=10, grid=True, figsize=(6,5), alpha=0.6)\n",
    "plt.title('Распределение, оплаты')\n",
    "plt.xlabel('Рубли');"
   ]
  },
  {
   "cell_type": "markdown",
   "id": "dc559c44",
   "metadata": {},
   "source": [
    "**Выводы:**\n",
    "\n",
    "* Звонки - распределения смещены влево;\n",
    "* Сообщения - распределения смещены вправо;\n",
    "* Интернет - распределения смщены вправо;\n",
    "* Оплата - распределения смещены вправо."
   ]
  },
  {
   "cell_type": "markdown",
   "id": "8cdfbe94",
   "metadata": {},
   "source": [
    "### Вывод по тарифам\n",
    "\n",
    "\n",
    "*В абонентскую плату тарифа \"Ультра\" включено 3000 минут разговора, 1000 сообщений и 30 Гб интернет-трафика*.    \n",
    "Пользователи тарифа \"Ультра\" укладываются в лимиты, определенные абонентской платой. Максимально тратят 1500 минут разговора, 220 сообщений, до 40 ГБ трафика.\n",
    "\n",
    "\n",
    "*В абонентскую плату тарифа \"Смарт\" включено 500 минут разговора, 50 сообщений и 15 Гб интернет-трафика*.   \n",
    "Пользователи тарифа \"Смарт\" не всегда укладываются в лимиты. Приличная часть клиентов тратит от 500 до 1000 минут. Также часть клиентов не укладывается в лимит по СМС и тратит 50-100 сообщений. И почти половина клиентов превышает лимит по интернету свыше 15 -30 Гб."
   ]
  },
  {
   "cell_type": "markdown",
   "id": "e5baca86",
   "metadata": {},
   "source": [
    "Исходя из выборки, поведение пользователей следующее:\n",
    "* Пользователи тарифа «Смарт» не укладываются в абонентскую плату и приносят дополнительную выручку компании. \n",
    "* Пользователи тарифа «Ультра» укладываются в абонентскую плату и не приносят компании дополнительную выручку. Но сама оплата тарифа больше, чем \"Смарт\""
   ]
  },
  {
   "cell_type": "markdown",
   "id": "55fac582",
   "metadata": {},
   "source": [
    "## Проверка гипотез"
   ]
  },
  {
   "cell_type": "markdown",
   "id": "003ca837",
   "metadata": {},
   "source": [
    "Проверим первую гипотезу, она звучит так: средняя выручка пользователей тарифов «Ультра» и «Смарт» различаются"
   ]
  },
  {
   "cell_type": "markdown",
   "id": "cd70eed8",
   "metadata": {},
   "source": [
    "**Сформулируем нулевую гипотезу:** Средняя выручка пользователей тарифа \"Смарт\" равна средней выручке тарифа \"Ультра\"  \n",
    "**Сформулируем альтернативную гипотезу:** Средняя выручка пользователей тарифов «Ультра» и «Смарт» различаются"
   ]
  },
  {
   "cell_type": "code",
   "execution_count": 40,
   "id": "e74d892d",
   "metadata": {},
   "outputs": [
    {
     "name": "stdout",
     "output_type": "stream",
     "text": [
      "p-значение: 1.927011394420941e-250\n",
      "Отвергаем нулевую гипотезу\n"
     ]
    }
   ],
   "source": [
    "#проведем т-тест\n",
    "ultra_pay = df_pivot.query('tariff_name == \"ultra\"')['revenue']\n",
    "smart_pay = df_pivot.query('tariff_name == \"smart\"')['revenue']\n",
    "\n",
    "alpha = 0.05 #критический уровень статистической значимости\n",
    "results = st.ttest_ind(\n",
    "    ultra_pay, smart_pay, equal_var=False\n",
    ")\n",
    "\n",
    "print('p-значение:', results.pvalue)\n",
    "\n",
    "if results.pvalue < alpha:\n",
    "    print('Отвергаем нулевую гипотезу')\n",
    "else:\n",
    "    print('Не получилось отвергнуть нулевую гипотезу')"
   ]
  },
  {
   "cell_type": "markdown",
   "id": "e2828376",
   "metadata": {},
   "source": [
    "По данному тесту мы не отвергаем гипотезу, которая была на проверке: \"Средняя выручка пользователей тарифов «Ультра» и «Смарт» различаются\""
   ]
  },
  {
   "cell_type": "markdown",
   "id": "4505995b",
   "metadata": {},
   "source": [
    "Проверим следующую гипотезу: средняя выручка пользователей из Москвы отличается от выручки пользователей из других регионов"
   ]
  },
  {
   "cell_type": "markdown",
   "id": "4a8575db",
   "metadata": {},
   "source": [
    "**Сформулируем Н0:** Средняя выручка пользователей из Москвы равна средней выручке пользователей из других регионов   \n",
    "**Сформулируем Н1:** Средняя выручка пользователей из Москвы отличается от средней выручки пользователей из других регионов"
   ]
  },
  {
   "cell_type": "code",
   "execution_count": 41,
   "id": "d5d52028",
   "metadata": {},
   "outputs": [
    {
     "name": "stdout",
     "output_type": "stream",
     "text": [
      "p-значение: 0.5216952110000278\n",
      "Не получилось отвергнуть нулевую гипотезу\n"
     ]
    }
   ],
   "source": [
    "#Также проведем т-тест\n",
    "moscow_pay = df_pivot.query('city == \"Москва\"')['revenue']\n",
    "region_pay = df_pivot.query('city != \"Москва\"')['revenue']\n",
    "\n",
    "aplha = 0.05 #критический уровень статистической значимости\n",
    "results = st.ttest_ind(\n",
    "    moscow_pay, region_pay, equal_var=False\n",
    ")\n",
    "print('p-значение:', results.pvalue)\n",
    "\n",
    "if results.pvalue < alpha:\n",
    "    print('Отвергаем нулевую гипотезу')\n",
    "else:\n",
    "    print('Не получилось отвергнуть нулевую гипотезу')"
   ]
  },
  {
   "cell_type": "markdown",
   "id": "8fae5152",
   "metadata": {},
   "source": [
    "Здесь вероятность ошибки при отклонении нулевой гипотезы 52%"
   ]
  },
  {
   "cell_type": "markdown",
   "id": "afc7329e",
   "metadata": {},
   "source": [
    "Гипотезу от том, что средняя выручка пользователей из Москвы отличается от выручки пользователей из других регионов мы отвергаем"
   ]
  },
  {
   "cell_type": "markdown",
   "id": "7d0e2214",
   "metadata": {},
   "source": [
    "### вывод"
   ]
  },
  {
   "cell_type": "markdown",
   "id": "0ecaf57b",
   "metadata": {},
   "source": [
    "1. Критерий *alpha = 0,05* был задан исходя из общепринятых порговых значений (5% и 1%).   \n",
    "   \n",
    "2. Нулевая и альтернативная гипотезы сформулированы исходя из:\n",
    "     - нулевая гипотеза всегда формулируется так, чтобы использовать знак равенства;\n",
    "     - альтернативная гипотеза была сформулирована с учетом того, что нас интересует какой тариф лучше"
   ]
  },
  {
   "cell_type": "markdown",
   "id": "97eaa10a",
   "metadata": {},
   "source": [
    "## Общий вывод"
   ]
  },
  {
   "cell_type": "markdown",
   "id": "cadc4ade",
   "metadata": {},
   "source": [
    "Проанализировав поведение клиентов, можно сделать вывод, что для компании выгоднее тариф \"Смарт\". Пользователи охотнее подключаются на более дешевый тариф, при этом, пользователь редко укладывается в лимиты и платит больше"
   ]
  },
  {
   "cell_type": "code",
   "execution_count": 42,
   "id": "a1ffe185",
   "metadata": {},
   "outputs": [
    {
     "name": "stdout",
     "output_type": "stream",
     "text": [
      "Суммарная выручка за 2018 год по тарифу Смарт: 2875901 руб.\n",
      "Суммарная выручка за 2018 год по тарифу Ультра: 2041050 руб.\n"
     ]
    }
   ],
   "source": [
    "#Посмотрим суммарную выручку по двум тарифами за 2018 год\n",
    "print('Суммарная выручка за 2018 год по тарифу Смарт:', smart_pay.sum(), 'руб.')\n",
    "print('Суммарная выручка за 2018 год по тарифу Ультра:', ultra_pay.sum(), 'руб.')"
   ]
  },
  {
   "cell_type": "markdown",
   "id": "ec2296e2",
   "metadata": {},
   "source": [
    "При этом следует учесть, что пользователей по тарифу \"Смарт\" больше, чем пользователей по тарифу \"Ультра\". Поэтому логично, что выручка больше.\n",
    "\n",
    "Так же существует вероятность, что часто пользователи тарифа \"Смарт\" не укладываются в абонентскую плату, как следствие - платят больше, чем рассчитывали. Поэтому они могут начать уходить на более вгодные предложения."
   ]
  }
 ],
 "metadata": {
  "kernelspec": {
   "display_name": "Python 3 (ipykernel)",
   "language": "python",
   "name": "python3"
  },
  "language_info": {
   "codemirror_mode": {
    "name": "ipython",
    "version": 3
   },
   "file_extension": ".py",
   "mimetype": "text/x-python",
   "name": "python",
   "nbconvert_exporter": "python",
   "pygments_lexer": "ipython3",
   "version": "3.9.13"
  }
 },
 "nbformat": 4,
 "nbformat_minor": 5
}
